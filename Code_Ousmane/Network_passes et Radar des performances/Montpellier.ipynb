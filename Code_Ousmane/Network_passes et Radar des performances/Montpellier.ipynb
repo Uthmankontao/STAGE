{
 "cells": [
  {
   "cell_type": "code",
   "execution_count": 1,
   "metadata": {},
   "outputs": [],
   "source": [
    "import sys\n",
    "sys.path.append('/home/UR/kontaous/Bureau/Stage/')\n",
    "from Analyses.traitement import *\n",
    "import pandas as pd\n",
    "import numpy as np\n",
    "from Analyses.traitement import *\n"
   ]
  },
  {
   "cell_type": "code",
   "execution_count": 2,
   "metadata": {},
   "outputs": [],
   "source": [
    "tracking = pd.read_csv(\"../../../Tracking_data/MontPellier(2)_(2)HAC.csv\")\n",
    "events = pd.read_csv(\"../../Data/match_data/match_Montpellier.csv\")\n",
    "tracking, events = prepare_data(tracking, events)\n",
    "tracking = tracking.sort_values(by=\"system_time\")\n",
    "tracking.set_index('frame', inplace=True)\n",
    "#tracking.rename(columns={'player_name': 'player.name', 'team': 'team.name', 'x': 'location.x', 'y': 'location.y', }, inplace=True)\n",
    "tracking.drop(['system_time', 'birthdate','x','y', 'Gx', 'Gy', 'id', 'num', 'player', 'Id_tracking', 'MatchId'], axis=1, inplace=True)\n",
    "tracking.rename(columns={'player_name': 'player.name', 'team': 'team.name'}, inplace=True)\n",
    "#data_tracking = \"../../../../Tracking_data/new_MontPellier.csv\"\n",
    "#sauvegarder_dataframe_en_csv(tracking, data_tracking)\n",
    "tracking = tracking[tracking['team.name'] == \"HAC\"]\n"
   ]
  },
  {
   "cell_type": "code",
   "execution_count": 3,
   "metadata": {},
   "outputs": [
    {
     "data": {
      "text/html": [
       "<div>\n",
       "<style scoped>\n",
       "    .dataframe tbody tr th:only-of-type {\n",
       "        vertical-align: middle;\n",
       "    }\n",
       "\n",
       "    .dataframe tbody tr th {\n",
       "        vertical-align: top;\n",
       "    }\n",
       "\n",
       "    .dataframe thead th {\n",
       "        text-align: right;\n",
       "    }\n",
       "</style>\n",
       "<table border=\"1\" class=\"dataframe\">\n",
       "  <thead>\n",
       "    <tr style=\"text-align: right;\">\n",
       "      <th></th>\n",
       "      <th>datetime</th>\n",
       "      <th>period</th>\n",
       "      <th>team.name</th>\n",
       "      <th>player.name</th>\n",
       "      <th>role</th>\n",
       "      <th>In</th>\n",
       "      <th>Out</th>\n",
       "    </tr>\n",
       "    <tr>\n",
       "      <th>frame</th>\n",
       "      <th></th>\n",
       "      <th></th>\n",
       "      <th></th>\n",
       "      <th></th>\n",
       "      <th></th>\n",
       "      <th></th>\n",
       "      <th></th>\n",
       "    </tr>\n",
       "  </thead>\n",
       "  <tbody>\n",
       "    <tr>\n",
       "      <th>0</th>\n",
       "      <td>2023-08-13 15:00:00</td>\n",
       "      <td>1</td>\n",
       "      <td>HAC</td>\n",
       "      <td>Loic Nego</td>\n",
       "      <td>Défenseur</td>\n",
       "      <td>1691938800000.0</td>\n",
       "      <td>1691943865720.0</td>\n",
       "    </tr>\n",
       "    <tr>\n",
       "      <th>0</th>\n",
       "      <td>2023-08-13 15:00:00</td>\n",
       "      <td>1</td>\n",
       "      <td>HAC</td>\n",
       "      <td>Oussama Targhalline</td>\n",
       "      <td>Milieu de terrain</td>\n",
       "      <td>1691938800000.0</td>\n",
       "      <td>0.0</td>\n",
       "    </tr>\n",
       "    <tr>\n",
       "      <th>0</th>\n",
       "      <td>2023-08-13 15:00:00</td>\n",
       "      <td>1</td>\n",
       "      <td>HAC</td>\n",
       "      <td>Arouna Sangante</td>\n",
       "      <td>Défenseur</td>\n",
       "      <td>1691938800000.0</td>\n",
       "      <td>0.0</td>\n",
       "    </tr>\n",
       "    <tr>\n",
       "      <th>0</th>\n",
       "      <td>2023-08-13 15:00:00</td>\n",
       "      <td>1</td>\n",
       "      <td>HAC</td>\n",
       "      <td>Issa Soumare</td>\n",
       "      <td>Attaquant</td>\n",
       "      <td>1691938800000.0</td>\n",
       "      <td>1691943343880.0</td>\n",
       "    </tr>\n",
       "    <tr>\n",
       "      <th>0</th>\n",
       "      <td>2023-08-13 15:00:00</td>\n",
       "      <td>1</td>\n",
       "      <td>HAC</td>\n",
       "      <td>Rassoul Ndiaye</td>\n",
       "      <td>Milieu de terrain</td>\n",
       "      <td>1691938800000.0</td>\n",
       "      <td>1691943887320.0</td>\n",
       "    </tr>\n",
       "    <tr>\n",
       "      <th>0</th>\n",
       "      <td>2023-08-13 15:00:00</td>\n",
       "      <td>1</td>\n",
       "      <td>HAC</td>\n",
       "      <td>Josue Casimir</td>\n",
       "      <td>Attaquant</td>\n",
       "      <td>1691938800000.0</td>\n",
       "      <td>0.0</td>\n",
       "    </tr>\n",
       "    <tr>\n",
       "      <th>0</th>\n",
       "      <td>2023-08-13 15:00:00</td>\n",
       "      <td>1</td>\n",
       "      <td>HAC</td>\n",
       "      <td>Gautier Lloris</td>\n",
       "      <td>Défenseur</td>\n",
       "      <td>1691938800000.0</td>\n",
       "      <td>0.0</td>\n",
       "    </tr>\n",
       "    <tr>\n",
       "      <th>0</th>\n",
       "      <td>2023-08-13 15:00:00</td>\n",
       "      <td>1</td>\n",
       "      <td>HAC</td>\n",
       "      <td>Daler Kuzyaev</td>\n",
       "      <td>Milieu de terrain</td>\n",
       "      <td>1691938800000.0</td>\n",
       "      <td>1691944804720.0</td>\n",
       "    </tr>\n",
       "    <tr>\n",
       "      <th>0</th>\n",
       "      <td>2023-08-13 15:00:00</td>\n",
       "      <td>1</td>\n",
       "      <td>HAC</td>\n",
       "      <td>Yoann Salmier</td>\n",
       "      <td>Défenseur</td>\n",
       "      <td>1691938800000.0</td>\n",
       "      <td>0.0</td>\n",
       "    </tr>\n",
       "    <tr>\n",
       "      <th>0</th>\n",
       "      <td>2023-08-13 15:00:00</td>\n",
       "      <td>1</td>\n",
       "      <td>HAC</td>\n",
       "      <td>Nabil Alioui</td>\n",
       "      <td>Attaquant</td>\n",
       "      <td>1691938800000.0</td>\n",
       "      <td>1691943336120.0</td>\n",
       "    </tr>\n",
       "    <tr>\n",
       "      <th>0</th>\n",
       "      <td>2023-08-13 15:00:00</td>\n",
       "      <td>1</td>\n",
       "      <td>HAC</td>\n",
       "      <td>Arthur Desmas</td>\n",
       "      <td>Gardien</td>\n",
       "      <td>1691938800000.0</td>\n",
       "      <td>0.0</td>\n",
       "    </tr>\n",
       "  </tbody>\n",
       "</table>\n",
       "</div>"
      ],
      "text/plain": [
       "                 datetime  period team.name          player.name  \\\n",
       "frame                                                              \n",
       "0     2023-08-13 15:00:00       1       HAC            Loic Nego   \n",
       "0     2023-08-13 15:00:00       1       HAC  Oussama Targhalline   \n",
       "0     2023-08-13 15:00:00       1       HAC      Arouna Sangante   \n",
       "0     2023-08-13 15:00:00       1       HAC         Issa Soumare   \n",
       "0     2023-08-13 15:00:00       1       HAC       Rassoul Ndiaye   \n",
       "0     2023-08-13 15:00:00       1       HAC        Josue Casimir   \n",
       "0     2023-08-13 15:00:00       1       HAC       Gautier Lloris   \n",
       "0     2023-08-13 15:00:00       1       HAC        Daler Kuzyaev   \n",
       "0     2023-08-13 15:00:00       1       HAC        Yoann Salmier   \n",
       "0     2023-08-13 15:00:00       1       HAC         Nabil Alioui   \n",
       "0     2023-08-13 15:00:00       1       HAC        Arthur Desmas   \n",
       "\n",
       "                    role               In              Out  \n",
       "frame                                                       \n",
       "0              Défenseur  1691938800000.0  1691943865720.0  \n",
       "0      Milieu de terrain  1691938800000.0              0.0  \n",
       "0              Défenseur  1691938800000.0              0.0  \n",
       "0              Attaquant  1691938800000.0  1691943343880.0  \n",
       "0      Milieu de terrain  1691938800000.0  1691943887320.0  \n",
       "0              Attaquant  1691938800000.0              0.0  \n",
       "0              Défenseur  1691938800000.0              0.0  \n",
       "0      Milieu de terrain  1691938800000.0  1691944804720.0  \n",
       "0              Défenseur  1691938800000.0              0.0  \n",
       "0              Attaquant  1691938800000.0  1691943336120.0  \n",
       "0                Gardien  1691938800000.0              0.0  "
      ]
     },
     "execution_count": 3,
     "metadata": {},
     "output_type": "execute_result"
    }
   ],
   "source": [
    "df_positions = tracking[:11]\n",
    "df_positions"
   ]
  },
  {
   "cell_type": "code",
   "execution_count": 4,
   "metadata": {},
   "outputs": [
    {
     "data": {
      "text/plain": [
       "array(['Nabil Alioui', 'Oussama Targhalline', 'Daler Kuzyaev',\n",
       "       'Arouna Sangante', 'Josue Casimir', 'Yoann Salmier', 'Loïc Négo',\n",
       "       'Arthur Desmas', \"Rassoul N'Diaye\", 'Gautier Lloris',\n",
       "       'Issa Soumaré', 'Andy Élysée Logbo', 'Antoine Joujou',\n",
       "       'Samuel Grandsir', 'Yassine Kechta', 'Abdoulaye Touré'],\n",
       "      dtype=object)"
      ]
     },
     "execution_count": 4,
     "metadata": {},
     "output_type": "execute_result"
    }
   ],
   "source": [
    "df_passes = pd.read_csv('../../Data/Tracking/montpellier_passes.csv')\n",
    "df_passes[df_passes['team.name'] == 'Le Havre']['player.name'].unique()\n"
   ]
  },
  {
   "cell_type": "code",
   "execution_count": 5,
   "metadata": {},
   "outputs": [
    {
     "data": {
      "text/html": [
       "<div>\n",
       "<style scoped>\n",
       "    .dataframe tbody tr th:only-of-type {\n",
       "        vertical-align: middle;\n",
       "    }\n",
       "\n",
       "    .dataframe tbody tr th {\n",
       "        vertical-align: top;\n",
       "    }\n",
       "\n",
       "    .dataframe thead th {\n",
       "        text-align: right;\n",
       "    }\n",
       "</style>\n",
       "<table border=\"1\" class=\"dataframe\">\n",
       "  <thead>\n",
       "    <tr style=\"text-align: right;\">\n",
       "      <th></th>\n",
       "      <th>datetime</th>\n",
       "      <th>team.name</th>\n",
       "      <th>period</th>\n",
       "      <th>player.name</th>\n",
       "      <th>pass.recipient.name</th>\n",
       "      <th>pass.length</th>\n",
       "    </tr>\n",
       "  </thead>\n",
       "  <tbody>\n",
       "    <tr>\n",
       "      <th>0</th>\n",
       "      <td>2023-08-13 00:00:00.474</td>\n",
       "      <td>Montpellier</td>\n",
       "      <td>1</td>\n",
       "      <td>Téji Savanier</td>\n",
       "      <td>Jordan Ferri</td>\n",
       "      <td>11.433723</td>\n",
       "    </tr>\n",
       "    <tr>\n",
       "      <th>1</th>\n",
       "      <td>2023-08-13 00:00:01.066</td>\n",
       "      <td>Le Havre</td>\n",
       "      <td>2</td>\n",
       "      <td>Nabil Alioui</td>\n",
       "      <td>Oussama Targhalline</td>\n",
       "      <td>11.815245</td>\n",
       "    </tr>\n",
       "    <tr>\n",
       "      <th>2</th>\n",
       "      <td>2023-08-13 00:00:02.175</td>\n",
       "      <td>Montpellier</td>\n",
       "      <td>1</td>\n",
       "      <td>Jordan Ferri</td>\n",
       "      <td>Falaye Sacko</td>\n",
       "      <td>22.375880</td>\n",
       "    </tr>\n",
       "    <tr>\n",
       "      <th>3</th>\n",
       "      <td>2023-08-13 00:00:02.815</td>\n",
       "      <td>Le Havre</td>\n",
       "      <td>2</td>\n",
       "      <td>Oussama Targhalline</td>\n",
       "      <td>Issa Soumare</td>\n",
       "      <td>52.500000</td>\n",
       "    </tr>\n",
       "    <tr>\n",
       "      <th>4</th>\n",
       "      <td>2023-08-13 00:00:05.783</td>\n",
       "      <td>Montpellier</td>\n",
       "      <td>1</td>\n",
       "      <td>Falaye Sacko</td>\n",
       "      <td>Christopher Jullien</td>\n",
       "      <td>15.508062</td>\n",
       "    </tr>\n",
       "    <tr>\n",
       "      <th>...</th>\n",
       "      <td>...</td>\n",
       "      <td>...</td>\n",
       "      <td>...</td>\n",
       "      <td>...</td>\n",
       "      <td>...</td>\n",
       "      <td>...</td>\n",
       "    </tr>\n",
       "    <tr>\n",
       "      <th>906</th>\n",
       "      <td>2023-08-13 00:51:58.203</td>\n",
       "      <td>Le Havre</td>\n",
       "      <td>1</td>\n",
       "      <td>Arthur Desmas</td>\n",
       "      <td>Issa Soumare</td>\n",
       "      <td>57.215470</td>\n",
       "    </tr>\n",
       "    <tr>\n",
       "      <th>907</th>\n",
       "      <td>2023-08-13 00:52:01.596</td>\n",
       "      <td>Montpellier</td>\n",
       "      <td>2</td>\n",
       "      <td>Christopher Jullien</td>\n",
       "      <td>Falaye Sacko</td>\n",
       "      <td>16.046183</td>\n",
       "    </tr>\n",
       "    <tr>\n",
       "      <th>908</th>\n",
       "      <td>2023-08-13 00:52:01.675</td>\n",
       "      <td>Montpellier</td>\n",
       "      <td>1</td>\n",
       "      <td>Christopher Jullien</td>\n",
       "      <td>Akor Jerome Adams</td>\n",
       "      <td>26.931395</td>\n",
       "    </tr>\n",
       "    <tr>\n",
       "      <th>909</th>\n",
       "      <td>2023-08-13 00:52:40.510</td>\n",
       "      <td>Montpellier</td>\n",
       "      <td>1</td>\n",
       "      <td>Jordan Ferri</td>\n",
       "      <td>Wahbi Khazri</td>\n",
       "      <td>9.948870</td>\n",
       "    </tr>\n",
       "    <tr>\n",
       "      <th>910</th>\n",
       "      <td>2023-08-13 00:52:42.341</td>\n",
       "      <td>Montpellier</td>\n",
       "      <td>1</td>\n",
       "      <td>Wahbi Khazri</td>\n",
       "      <td>Joris Chotard</td>\n",
       "      <td>12.541929</td>\n",
       "    </tr>\n",
       "  </tbody>\n",
       "</table>\n",
       "<p>911 rows × 6 columns</p>\n",
       "</div>"
      ],
      "text/plain": [
       "                    datetime    team.name  period          player.name  \\\n",
       "0    2023-08-13 00:00:00.474  Montpellier       1        Téji Savanier   \n",
       "1    2023-08-13 00:00:01.066     Le Havre       2         Nabil Alioui   \n",
       "2    2023-08-13 00:00:02.175  Montpellier       1         Jordan Ferri   \n",
       "3    2023-08-13 00:00:02.815     Le Havre       2  Oussama Targhalline   \n",
       "4    2023-08-13 00:00:05.783  Montpellier       1         Falaye Sacko   \n",
       "..                       ...          ...     ...                  ...   \n",
       "906  2023-08-13 00:51:58.203     Le Havre       1        Arthur Desmas   \n",
       "907  2023-08-13 00:52:01.596  Montpellier       2  Christopher Jullien   \n",
       "908  2023-08-13 00:52:01.675  Montpellier       1  Christopher Jullien   \n",
       "909  2023-08-13 00:52:40.510  Montpellier       1         Jordan Ferri   \n",
       "910  2023-08-13 00:52:42.341  Montpellier       1         Wahbi Khazri   \n",
       "\n",
       "     pass.recipient.name  pass.length  \n",
       "0           Jordan Ferri    11.433723  \n",
       "1    Oussama Targhalline    11.815245  \n",
       "2           Falaye Sacko    22.375880  \n",
       "3           Issa Soumare    52.500000  \n",
       "4    Christopher Jullien    15.508062  \n",
       "..                   ...          ...  \n",
       "906         Issa Soumare    57.215470  \n",
       "907         Falaye Sacko    16.046183  \n",
       "908    Akor Jerome Adams    26.931395  \n",
       "909         Wahbi Khazri     9.948870  \n",
       "910        Joris Chotard    12.541929  \n",
       "\n",
       "[911 rows x 6 columns]"
      ]
     },
     "execution_count": 5,
     "metadata": {},
     "output_type": "execute_result"
    }
   ],
   "source": [
    "modifications = {\n",
    "    \"Rassoul N'Diaye\": 'Rassoul Ndiaye',\n",
    "    'Loïc Négo': 'Loic Nego',\n",
    "    'Issa Soumaré' : 'Issa Soumare'\n",
    "}\n",
    "\n",
    "df_passes.replace({'player.name': modifications, 'pass.recipient.name': modifications}, inplace=True)\n",
    "df_passes"
   ]
  },
  {
   "cell_type": "code",
   "execution_count": 7,
   "metadata": {},
   "outputs": [
    {
     "data": {
      "application/vnd.plotly.v1+json": {
       "config": {
        "plotlyServerURL": "https://plot.ly"
       },
       "data": [
        {
         "hoverinfo": "text",
         "hovertext": "Joueur: Loic Nego<br>Nombre de passes effectuées: 29<br>Longueur moyenne des passes effectuées: 19.10 m<br>Nombre de passes reçues: 19<br>Longueur moyenne des passes reçues: 21.57 m",
         "marker": {
          "color": "blue",
          "size": 20
         },
         "mode": "markers+text",
         "text": [
          "Loic Nego"
         ],
         "textposition": "top center",
         "type": "scatter",
         "x": [
          12
         ],
         "y": [
          30
         ]
        },
        {
         "hoverinfo": "text",
         "hovertext": "Joueur: Oussama Targhalline<br>Nombre de passes effectuées: 57<br>Longueur moyenne des passes effectuées: 16.38 m<br>Nombre de passes reçues: 47<br>Longueur moyenne des passes reçues: 13.34 m",
         "marker": {
          "color": "blue",
          "size": 20
         },
         "mode": "markers+text",
         "text": [
          "Oussama Targhalline"
         ],
         "textposition": "top center",
         "type": "scatter",
         "x": [
          50
         ],
         "y": [
          40
         ]
        },
        {
         "hoverinfo": "text",
         "hovertext": "Joueur: Arouna Sangante<br>Nombre de passes effectuées: 28<br>Longueur moyenne des passes effectuées: 33.87 m<br>Nombre de passes reçues: 15<br>Longueur moyenne des passes reçues: 19.06 m",
         "marker": {
          "color": "blue",
          "size": 20
         },
         "mode": "markers+text",
         "text": [
          "Arouna Sangante"
         ],
         "textposition": "top center",
         "type": "scatter",
         "x": [
          12
         ],
         "y": [
          50
         ]
        },
        {
         "hoverinfo": "text",
         "hovertext": "Joueur: Issa Soumare<br>Nombre de passes effectuées: 14<br>Longueur moyenne des passes effectuées: 16.73 m<br>Nombre de passes reçues: 50<br>Longueur moyenne des passes reçues: 36.40 m",
         "marker": {
          "color": "blue",
          "size": 20
         },
         "mode": "markers+text",
         "text": [
          "Issa Soumare"
         ],
         "textposition": "top center",
         "type": "scatter",
         "x": [
          100
         ],
         "y": [
          10
         ]
        },
        {
         "hoverinfo": "text",
         "hovertext": "Joueur: Rassoul Ndiaye<br>Nombre de passes effectuées: 23<br>Longueur moyenne des passes effectuées: 19.04 m<br>Nombre de passes reçues: 28<br>Longueur moyenne des passes reçues: 15.06 m",
         "marker": {
          "color": "blue",
          "size": 20
         },
         "mode": "markers+text",
         "text": [
          "Rassoul Ndiaye"
         ],
         "textposition": "top center",
         "type": "scatter",
         "x": [
          80
         ],
         "y": [
          20
         ]
        },
        {
         "hoverinfo": "text",
         "hovertext": "Joueur: Josue Casimir<br>Nombre de passes effectuées: 38<br>Longueur moyenne des passes effectuées: 16.64 m<br>Nombre de passes reçues: 38<br>Longueur moyenne des passes reçues: 19.78 m",
         "marker": {
          "color": "blue",
          "size": 20
         },
         "mode": "markers+text",
         "text": [
          "Josue Casimir"
         ],
         "textposition": "top center",
         "type": "scatter",
         "x": [
          100
         ],
         "y": [
          70
         ]
        },
        {
         "hoverinfo": "text",
         "hovertext": "Joueur: Gautier Lloris<br>Nombre de passes effectuées: 32<br>Longueur moyenne des passes effectuées: 13.61 m<br>Nombre de passes reçues: 24<br>Longueur moyenne des passes reçues: 18.73 m",
         "marker": {
          "color": "blue",
          "size": 20
         },
         "mode": "markers+text",
         "text": [
          "Gautier Lloris"
         ],
         "textposition": "top center",
         "type": "scatter",
         "x": [
          25
         ],
         "y": [
          10
         ]
        },
        {
         "hoverinfo": "text",
         "hovertext": "Joueur: Daler Kuzyaev<br>Nombre de passes effectuées: 37<br>Longueur moyenne des passes effectuées: 15.20 m<br>Nombre de passes reçues: 31<br>Longueur moyenne des passes reçues: 13.66 m",
         "marker": {
          "color": "blue",
          "size": 20
         },
         "mode": "markers+text",
         "text": [
          "Daler Kuzyaev"
         ],
         "textposition": "top center",
         "type": "scatter",
         "x": [
          80
         ],
         "y": [
          60
         ]
        },
        {
         "hoverinfo": "text",
         "hovertext": "Joueur: Yoann Salmier<br>Nombre de passes effectuées: 30<br>Longueur moyenne des passes effectuées: 24.64 m<br>Nombre de passes reçues: 14<br>Longueur moyenne des passes reçues: 18.33 m",
         "marker": {
          "color": "blue",
          "size": 20
         },
         "mode": "markers+text",
         "text": [
          "Yoann Salmier"
         ],
         "textposition": "top center",
         "type": "scatter",
         "x": [
          25
         ],
         "y": [
          70
         ]
        },
        {
         "hoverinfo": "text",
         "hovertext": "Joueur: Nabil Alioui<br>Nombre de passes effectuées: 13<br>Longueur moyenne des passes effectuées: 21.49 m<br>Nombre de passes reçues: 29<br>Longueur moyenne des passes reçues: 23.48 m",
         "marker": {
          "color": "blue",
          "size": 20
         },
         "mode": "markers+text",
         "text": [
          "Nabil Alioui"
         ],
         "textposition": "top center",
         "type": "scatter",
         "x": [
          110
         ],
         "y": [
          40
         ]
        },
        {
         "hoverinfo": "text",
         "hovertext": "Joueur: Arthur Desmas<br>Nombre de passes effectuées: 23<br>Longueur moyenne des passes effectuées: 44.32 m<br>Nombre de passes reçues: 5<br>Longueur moyenne des passes reçues: 22.77 m",
         "marker": {
          "color": "blue",
          "size": 20
         },
         "mode": "markers+text",
         "text": [
          "Arthur Desmas"
         ],
         "textposition": "top center",
         "type": "scatter",
         "x": [
          3
         ],
         "y": [
          40
         ]
        },
        {
         "hoverinfo": "text",
         "hovertext": "Passes de Arouna Sangante à Gautier Lloris<br>Nombre de passes: 5<br>Longueur moyenne des passes: 21.21 m",
         "line": {
          "color": "red",
          "width": 1
         },
         "mode": "lines",
         "type": "scatter",
         "x": [
          12,
          25
         ],
         "y": [
          50,
          10
         ]
        },
        {
         "hoverinfo": "text",
         "hovertext": "Passes de Arouna Sangante à Issa Soumare<br>Nombre de passes: 4<br>Longueur moyenne des passes: 51.94 m",
         "line": {
          "color": "red",
          "width": 1
         },
         "mode": "lines",
         "type": "scatter",
         "x": [
          12,
          100
         ],
         "y": [
          50,
          10
         ]
        },
        {
         "hoverinfo": "text",
         "hovertext": "Passes de Arouna Sangante à Josue Casimir<br>Nombre de passes: 4<br>Longueur moyenne des passes: 33.33 m",
         "line": {
          "color": "red",
          "width": 1
         },
         "mode": "lines",
         "type": "scatter",
         "x": [
          12,
          100
         ],
         "y": [
          50,
          70
         ]
        },
        {
         "hoverinfo": "text",
         "hovertext": "Passes de Arouna Sangante à Loic Nego<br>Nombre de passes: 4<br>Longueur moyenne des passes: 46.11 m",
         "line": {
          "color": "red",
          "width": 1
         },
         "mode": "lines",
         "type": "scatter",
         "x": [
          12,
          12
         ],
         "y": [
          50,
          30
         ]
        },
        {
         "hoverinfo": "text",
         "hovertext": "Passes de Arouna Sangante à Nabil Alioui<br>Nombre de passes: 1<br>Longueur moyenne des passes: 57.73 m",
         "line": {
          "color": "red",
          "width": 1
         },
         "mode": "lines",
         "type": "scatter",
         "x": [
          12,
          110
         ],
         "y": [
          50,
          40
         ]
        },
        {
         "hoverinfo": "text",
         "hovertext": "Passes de Arouna Sangante à Oussama Targhalline<br>Nombre de passes: 2<br>Longueur moyenne des passes: 5.35 m",
         "line": {
          "color": "red",
          "width": 1
         },
         "mode": "lines",
         "type": "scatter",
         "x": [
          12,
          50
         ],
         "y": [
          50,
          40
         ]
        },
        {
         "hoverinfo": "text",
         "hovertext": "Passes de Arouna Sangante à Rassoul Ndiaye<br>Nombre de passes: 1<br>Longueur moyenne des passes: 29.92 m",
         "line": {
          "color": "red",
          "width": 1
         },
         "mode": "lines",
         "type": "scatter",
         "x": [
          12,
          80
         ],
         "y": [
          50,
          20
         ]
        },
        {
         "hoverinfo": "text",
         "hovertext": "Passes de Arouna Sangante à Yoann Salmier<br>Nombre de passes: 4<br>Longueur moyenne des passes: 19.19 m",
         "line": {
          "color": "red",
          "width": 1
         },
         "mode": "lines",
         "type": "scatter",
         "x": [
          12,
          25
         ],
         "y": [
          50,
          70
         ]
        },
        {
         "hoverinfo": "text",
         "hovertext": "Passes de Arthur Desmas à Arouna Sangante<br>Nombre de passes: 1<br>Longueur moyenne des passes: 12.80 m",
         "line": {
          "color": "red",
          "width": 1
         },
         "mode": "lines",
         "type": "scatter",
         "x": [
          3,
          12
         ],
         "y": [
          40,
          50
         ]
        },
        {
         "hoverinfo": "text",
         "hovertext": "Passes de Arthur Desmas à Daler Kuzyaev<br>Nombre de passes: 1<br>Longueur moyenne des passes: 21.86 m",
         "line": {
          "color": "red",
          "width": 1
         },
         "mode": "lines",
         "type": "scatter",
         "x": [
          3,
          80
         ],
         "y": [
          40,
          60
         ]
        },
        {
         "hoverinfo": "text",
         "hovertext": "Passes de Arthur Desmas à Gautier Lloris<br>Nombre de passes: 4<br>Longueur moyenne des passes: 21.14 m",
         "line": {
          "color": "red",
          "width": 1
         },
         "mode": "lines",
         "type": "scatter",
         "x": [
          3,
          25
         ],
         "y": [
          40,
          10
         ]
        },
        {
         "hoverinfo": "text",
         "hovertext": "Passes de Arthur Desmas à Issa Soumare<br>Nombre de passes: 8<br>Longueur moyenne des passes: 63.81 m",
         "line": {
          "color": "red",
          "width": 1
         },
         "mode": "lines",
         "type": "scatter",
         "x": [
          3,
          100
         ],
         "y": [
          40,
          10
         ]
        },
        {
         "hoverinfo": "text",
         "hovertext": "Passes de Arthur Desmas à Josue Casimir<br>Nombre de passes: 2<br>Longueur moyenne des passes: 43.38 m",
         "line": {
          "color": "red",
          "width": 1
         },
         "mode": "lines",
         "type": "scatter",
         "x": [
          3,
          100
         ],
         "y": [
          40,
          70
         ]
        },
        {
         "hoverinfo": "text",
         "hovertext": "Passes de Arthur Desmas à Nabil Alioui<br>Nombre de passes: 1<br>Longueur moyenne des passes: 73.36 m",
         "line": {
          "color": "red",
          "width": 1
         },
         "mode": "lines",
         "type": "scatter",
         "x": [
          3,
          110
         ],
         "y": [
          40,
          40
         ]
        },
        {
         "hoverinfo": "text",
         "hovertext": "Passes de Arthur Desmas à Oussama Targhalline<br>Nombre de passes: 2<br>Longueur moyenne des passes: 26.52 m",
         "line": {
          "color": "red",
          "width": 1
         },
         "mode": "lines",
         "type": "scatter",
         "x": [
          3,
          50
         ],
         "y": [
          40,
          40
         ]
        },
        {
         "hoverinfo": "text",
         "hovertext": "Passes de Arthur Desmas à Yoann Salmier<br>Nombre de passes: 1<br>Longueur moyenne des passes: 26.30 m",
         "line": {
          "color": "red",
          "width": 1
         },
         "mode": "lines",
         "type": "scatter",
         "x": [
          3,
          25
         ],
         "y": [
          40,
          70
         ]
        },
        {
         "hoverinfo": "text",
         "hovertext": "Passes de Daler Kuzyaev à Arouna Sangante<br>Nombre de passes: 1<br>Longueur moyenne des passes: 16.02 m",
         "line": {
          "color": "red",
          "width": 1
         },
         "mode": "lines",
         "type": "scatter",
         "x": [
          80,
          12
         ],
         "y": [
          60,
          50
         ]
        },
        {
         "hoverinfo": "text",
         "hovertext": "Passes de Daler Kuzyaev à Gautier Lloris<br>Nombre de passes: 3<br>Longueur moyenne des passes: 16.61 m",
         "line": {
          "color": "red",
          "width": 1
         },
         "mode": "lines",
         "type": "scatter",
         "x": [
          80,
          25
         ],
         "y": [
          60,
          10
         ]
        },
        {
         "hoverinfo": "text",
         "hovertext": "Passes de Daler Kuzyaev à Issa Soumare<br>Nombre de passes: 3<br>Longueur moyenne des passes: 15.74 m",
         "line": {
          "color": "red",
          "width": 1
         },
         "mode": "lines",
         "type": "scatter",
         "x": [
          80,
          100
         ],
         "y": [
          60,
          10
         ]
        },
        {
         "hoverinfo": "text",
         "hovertext": "Passes de Daler Kuzyaev à Josue Casimir<br>Nombre de passes: 8<br>Longueur moyenne des passes: 16.94 m",
         "line": {
          "color": "red",
          "width": 1
         },
         "mode": "lines",
         "type": "scatter",
         "x": [
          80,
          100
         ],
         "y": [
          60,
          70
         ]
        },
        {
         "hoverinfo": "text",
         "hovertext": "Passes de Daler Kuzyaev à Loic Nego<br>Nombre de passes: 2<br>Longueur moyenne des passes: 11.79 m",
         "line": {
          "color": "red",
          "width": 1
         },
         "mode": "lines",
         "type": "scatter",
         "x": [
          80,
          12
         ],
         "y": [
          60,
          30
         ]
        },
        {
         "hoverinfo": "text",
         "hovertext": "Passes de Daler Kuzyaev à Nabil Alioui<br>Nombre de passes: 3<br>Longueur moyenne des passes: 13.90 m",
         "line": {
          "color": "red",
          "width": 1
         },
         "mode": "lines",
         "type": "scatter",
         "x": [
          80,
          110
         ],
         "y": [
          60,
          40
         ]
        },
        {
         "hoverinfo": "text",
         "hovertext": "Passes de Daler Kuzyaev à Oussama Targhalline<br>Nombre de passes: 7<br>Longueur moyenne des passes: 13.05 m",
         "line": {
          "color": "red",
          "width": 1
         },
         "mode": "lines",
         "type": "scatter",
         "x": [
          80,
          50
         ],
         "y": [
          60,
          40
         ]
        },
        {
         "hoverinfo": "text",
         "hovertext": "Passes de Daler Kuzyaev à Rassoul Ndiaye<br>Nombre de passes: 4<br>Longueur moyenne des passes: 13.57 m",
         "line": {
          "color": "red",
          "width": 1
         },
         "mode": "lines",
         "type": "scatter",
         "x": [
          80,
          80
         ],
         "y": [
          60,
          20
         ]
        },
        {
         "hoverinfo": "text",
         "hovertext": "Passes de Gautier Lloris à Arouna Sangante<br>Nombre de passes: 4<br>Longueur moyenne des passes: 15.06 m",
         "line": {
          "color": "red",
          "width": 1
         },
         "mode": "lines",
         "type": "scatter",
         "x": [
          25,
          12
         ],
         "y": [
          10,
          50
         ]
        },
        {
         "hoverinfo": "text",
         "hovertext": "Passes de Gautier Lloris à Arthur Desmas<br>Nombre de passes: 2<br>Longueur moyenne des passes: 10.88 m",
         "line": {
          "color": "red",
          "width": 1
         },
         "mode": "lines",
         "type": "scatter",
         "x": [
          25,
          3
         ],
         "y": [
          10,
          40
         ]
        },
        {
         "hoverinfo": "text",
         "hovertext": "Passes de Gautier Lloris à Daler Kuzyaev<br>Nombre de passes: 5<br>Longueur moyenne des passes: 13.90 m",
         "line": {
          "color": "red",
          "width": 1
         },
         "mode": "lines",
         "type": "scatter",
         "x": [
          25,
          80
         ],
         "y": [
          10,
          60
         ]
        },
        {
         "hoverinfo": "text",
         "hovertext": "Passes de Gautier Lloris à Josue Casimir<br>Nombre de passes: 7<br>Longueur moyenne des passes: 13.30 m",
         "line": {
          "color": "red",
          "width": 1
         },
         "mode": "lines",
         "type": "scatter",
         "x": [
          25,
          100
         ],
         "y": [
          10,
          70
         ]
        },
        {
         "hoverinfo": "text",
         "hovertext": "Passes de Gautier Lloris à Nabil Alioui<br>Nombre de passes: 1<br>Longueur moyenne des passes: 36.67 m",
         "line": {
          "color": "red",
          "width": 1
         },
         "mode": "lines",
         "type": "scatter",
         "x": [
          25,
          110
         ],
         "y": [
          10,
          40
         ]
        },
        {
         "hoverinfo": "text",
         "hovertext": "Passes de Gautier Lloris à Oussama Targhalline<br>Nombre de passes: 4<br>Longueur moyenne des passes: 12.42 m",
         "line": {
          "color": "red",
          "width": 1
         },
         "mode": "lines",
         "type": "scatter",
         "x": [
          25,
          50
         ],
         "y": [
          10,
          40
         ]
        },
        {
         "hoverinfo": "text",
         "hovertext": "Passes de Gautier Lloris à Rassoul Ndiaye<br>Nombre de passes: 3<br>Longueur moyenne des passes: 11.69 m",
         "line": {
          "color": "red",
          "width": 1
         },
         "mode": "lines",
         "type": "scatter",
         "x": [
          25,
          80
         ],
         "y": [
          10,
          20
         ]
        },
        {
         "hoverinfo": "text",
         "hovertext": "Passes de Issa Soumare à Nabil Alioui<br>Nombre de passes: 10<br>Longueur moyenne des passes: 18.25 m",
         "line": {
          "color": "red",
          "width": 1
         },
         "mode": "lines",
         "type": "scatter",
         "x": [
          100,
          110
         ],
         "y": [
          10,
          40
         ]
        },
        {
         "hoverinfo": "text",
         "hovertext": "Passes de Issa Soumare à Rassoul Ndiaye<br>Nombre de passes: 3<br>Longueur moyenne des passes: 9.94 m",
         "line": {
          "color": "red",
          "width": 1
         },
         "mode": "lines",
         "type": "scatter",
         "x": [
          100,
          80
         ],
         "y": [
          10,
          20
         ]
        },
        {
         "hoverinfo": "text",
         "hovertext": "Passes de Issa Soumare à Yoann Salmier<br>Nombre de passes: 1<br>Longueur moyenne des passes: 21.92 m",
         "line": {
          "color": "red",
          "width": 1
         },
         "mode": "lines",
         "type": "scatter",
         "x": [
          100,
          25
         ],
         "y": [
          10,
          70
         ]
        },
        {
         "hoverinfo": "text",
         "hovertext": "Passes de Josue Casimir à Daler Kuzyaev<br>Nombre de passes: 1<br>Longueur moyenne des passes: 3.77 m",
         "line": {
          "color": "red",
          "width": 1
         },
         "mode": "lines",
         "type": "scatter",
         "x": [
          100,
          80
         ],
         "y": [
          70,
          60
         ]
        },
        {
         "hoverinfo": "text",
         "hovertext": "Passes de Josue Casimir à Gautier Lloris<br>Nombre de passes: 5<br>Longueur moyenne des passes: 9.93 m",
         "line": {
          "color": "red",
          "width": 1
         },
         "mode": "lines",
         "type": "scatter",
         "x": [
          100,
          25
         ],
         "y": [
          70,
          10
         ]
        },
        {
         "hoverinfo": "text",
         "hovertext": "Passes de Josue Casimir à Issa Soumare<br>Nombre de passes: 6<br>Longueur moyenne des passes: 30.97 m",
         "line": {
          "color": "red",
          "width": 1
         },
         "mode": "lines",
         "type": "scatter",
         "x": [
          100,
          100
         ],
         "y": [
          70,
          10
         ]
        },
        {
         "hoverinfo": "text",
         "hovertext": "Passes de Josue Casimir à Nabil Alioui<br>Nombre de passes: 5<br>Longueur moyenne des passes: 20.04 m",
         "line": {
          "color": "red",
          "width": 1
         },
         "mode": "lines",
         "type": "scatter",
         "x": [
          100,
          110
         ],
         "y": [
          70,
          40
         ]
        },
        {
         "hoverinfo": "text",
         "hovertext": "Passes de Josue Casimir à Oussama Targhalline<br>Nombre de passes: 6<br>Longueur moyenne des passes: 11.78 m",
         "line": {
          "color": "red",
          "width": 1
         },
         "mode": "lines",
         "type": "scatter",
         "x": [
          100,
          50
         ],
         "y": [
          70,
          40
         ]
        },
        {
         "hoverinfo": "text",
         "hovertext": "Passes de Josue Casimir à Rassoul Ndiaye<br>Nombre de passes: 1<br>Longueur moyenne des passes: 11.23 m",
         "line": {
          "color": "red",
          "width": 1
         },
         "mode": "lines",
         "type": "scatter",
         "x": [
          100,
          80
         ],
         "y": [
          70,
          20
         ]
        },
        {
         "hoverinfo": "text",
         "hovertext": "Passes de Loic Nego à Arouna Sangante<br>Nombre de passes: 2<br>Longueur moyenne des passes: 24.94 m",
         "line": {
          "color": "red",
          "width": 1
         },
         "mode": "lines",
         "type": "scatter",
         "x": [
          12,
          12
         ],
         "y": [
          30,
          50
         ]
        },
        {
         "hoverinfo": "text",
         "hovertext": "Passes de Loic Nego à Daler Kuzyaev<br>Nombre de passes: 1<br>Longueur moyenne des passes: 11.46 m",
         "line": {
          "color": "red",
          "width": 1
         },
         "mode": "lines",
         "type": "scatter",
         "x": [
          12,
          80
         ],
         "y": [
          30,
          60
         ]
        },
        {
         "hoverinfo": "text",
         "hovertext": "Passes de Loic Nego à Issa Soumare<br>Nombre de passes: 6<br>Longueur moyenne des passes: 21.91 m",
         "line": {
          "color": "red",
          "width": 1
         },
         "mode": "lines",
         "type": "scatter",
         "x": [
          12,
          100
         ],
         "y": [
          30,
          10
         ]
        },
        {
         "hoverinfo": "text",
         "hovertext": "Passes de Loic Nego à Nabil Alioui<br>Nombre de passes: 4<br>Longueur moyenne des passes: 29.48 m",
         "line": {
          "color": "red",
          "width": 1
         },
         "mode": "lines",
         "type": "scatter",
         "x": [
          12,
          110
         ],
         "y": [
          30,
          40
         ]
        },
        {
         "hoverinfo": "text",
         "hovertext": "Passes de Loic Nego à Oussama Targhalline<br>Nombre de passes: 8<br>Longueur moyenne des passes: 12.20 m",
         "line": {
          "color": "red",
          "width": 1
         },
         "mode": "lines",
         "type": "scatter",
         "x": [
          12,
          50
         ],
         "y": [
          30,
          40
         ]
        },
        {
         "hoverinfo": "text",
         "hovertext": "Passes de Loic Nego à Rassoul Ndiaye<br>Nombre de passes: 5<br>Longueur moyenne des passes: 20.12 m",
         "line": {
          "color": "red",
          "width": 1
         },
         "mode": "lines",
         "type": "scatter",
         "x": [
          12,
          80
         ],
         "y": [
          30,
          20
         ]
        },
        {
         "hoverinfo": "text",
         "hovertext": "Passes de Loic Nego à Yoann Salmier<br>Nombre de passes: 2<br>Longueur moyenne des passes: 14.96 m",
         "line": {
          "color": "red",
          "width": 1
         },
         "mode": "lines",
         "type": "scatter",
         "x": [
          12,
          25
         ],
         "y": [
          30,
          70
         ]
        },
        {
         "hoverinfo": "text",
         "hovertext": "Passes de Nabil Alioui à Arouna Sangante<br>Nombre de passes: 1<br>Longueur moyenne des passes: 20.81 m",
         "line": {
          "color": "red",
          "width": 1
         },
         "mode": "lines",
         "type": "scatter",
         "x": [
          110,
          12
         ],
         "y": [
          40,
          50
         ]
        },
        {
         "hoverinfo": "text",
         "hovertext": "Passes de Nabil Alioui à Daler Kuzyaev<br>Nombre de passes: 1<br>Longueur moyenne des passes: 5.84 m",
         "line": {
          "color": "red",
          "width": 1
         },
         "mode": "lines",
         "type": "scatter",
         "x": [
          110,
          80
         ],
         "y": [
          40,
          60
         ]
        },
        {
         "hoverinfo": "text",
         "hovertext": "Passes de Nabil Alioui à Issa Soumare<br>Nombre de passes: 7<br>Longueur moyenne des passes: 24.41 m",
         "line": {
          "color": "red",
          "width": 1
         },
         "mode": "lines",
         "type": "scatter",
         "x": [
          110,
          100
         ],
         "y": [
          40,
          10
         ]
        },
        {
         "hoverinfo": "text",
         "hovertext": "Passes de Nabil Alioui à Josue Casimir<br>Nombre de passes: 1<br>Longueur moyenne des passes: 14.99 m",
         "line": {
          "color": "red",
          "width": 1
         },
         "mode": "lines",
         "type": "scatter",
         "x": [
          110,
          100
         ],
         "y": [
          40,
          70
         ]
        },
        {
         "hoverinfo": "text",
         "hovertext": "Passes de Nabil Alioui à Loic Nego<br>Nombre de passes: 1<br>Longueur moyenne des passes: 22.26 m",
         "line": {
          "color": "red",
          "width": 1
         },
         "mode": "lines",
         "type": "scatter",
         "x": [
          110,
          12
         ],
         "y": [
          40,
          30
         ]
        },
        {
         "hoverinfo": "text",
         "hovertext": "Passes de Nabil Alioui à Oussama Targhalline<br>Nombre de passes: 1<br>Longueur moyenne des passes: 11.82 m",
         "line": {
          "color": "red",
          "width": 1
         },
         "mode": "lines",
         "type": "scatter",
         "x": [
          110,
          50
         ],
         "y": [
          40,
          40
         ]
        },
        {
         "hoverinfo": "text",
         "hovertext": "Passes de Nabil Alioui à Yoann Salmier<br>Nombre de passes: 1<br>Longueur moyenne des passes: 32.74 m",
         "line": {
          "color": "red",
          "width": 1
         },
         "mode": "lines",
         "type": "scatter",
         "x": [
          110,
          25
         ],
         "y": [
          40,
          70
         ]
        },
        {
         "hoverinfo": "text",
         "hovertext": "Passes de Oussama Targhalline à Daler Kuzyaev<br>Nombre de passes: 6<br>Longueur moyenne des passes: 11.16 m",
         "line": {
          "color": "red",
          "width": 1
         },
         "mode": "lines",
         "type": "scatter",
         "x": [
          50,
          80
         ],
         "y": [
          40,
          60
         ]
        },
        {
         "hoverinfo": "text",
         "hovertext": "Passes de Oussama Targhalline à Gautier Lloris<br>Nombre de passes: 2<br>Longueur moyenne des passes: 18.91 m",
         "line": {
          "color": "red",
          "width": 1
         },
         "mode": "lines",
         "type": "scatter",
         "x": [
          50,
          25
         ],
         "y": [
          40,
          10
         ]
        },
        {
         "hoverinfo": "text",
         "hovertext": "Passes de Oussama Targhalline à Issa Soumare<br>Nombre de passes: 7<br>Longueur moyenne des passes: 24.20 m",
         "line": {
          "color": "red",
          "width": 1
         },
         "mode": "lines",
         "type": "scatter",
         "x": [
          50,
          100
         ],
         "y": [
          40,
          10
         ]
        },
        {
         "hoverinfo": "text",
         "hovertext": "Passes de Oussama Targhalline à Josue Casimir<br>Nombre de passes: 9<br>Longueur moyenne des passes: 18.89 m",
         "line": {
          "color": "red",
          "width": 1
         },
         "mode": "lines",
         "type": "scatter",
         "x": [
          50,
          100
         ],
         "y": [
          40,
          70
         ]
        },
        {
         "hoverinfo": "text",
         "hovertext": "Passes de Oussama Targhalline à Loic Nego<br>Nombre de passes: 4<br>Longueur moyenne des passes: 12.71 m",
         "line": {
          "color": "red",
          "width": 1
         },
         "mode": "lines",
         "type": "scatter",
         "x": [
          50,
          12
         ],
         "y": [
          40,
          30
         ]
        },
        {
         "hoverinfo": "text",
         "hovertext": "Passes de Oussama Targhalline à Nabil Alioui<br>Nombre de passes: 2<br>Longueur moyenne des passes: 15.61 m",
         "line": {
          "color": "red",
          "width": 1
         },
         "mode": "lines",
         "type": "scatter",
         "x": [
          50,
          110
         ],
         "y": [
          40,
          40
         ]
        },
        {
         "hoverinfo": "text",
         "hovertext": "Passes de Oussama Targhalline à Rassoul Ndiaye<br>Nombre de passes: 9<br>Longueur moyenne des passes: 14.18 m",
         "line": {
          "color": "red",
          "width": 1
         },
         "mode": "lines",
         "type": "scatter",
         "x": [
          50,
          80
         ],
         "y": [
          40,
          20
         ]
        },
        {
         "hoverinfo": "text",
         "hovertext": "Passes de Oussama Targhalline à Yoann Salmier<br>Nombre de passes: 1<br>Longueur moyenne des passes: 21.36 m",
         "line": {
          "color": "red",
          "width": 1
         },
         "mode": "lines",
         "type": "scatter",
         "x": [
          50,
          25
         ],
         "y": [
          40,
          70
         ]
        },
        {
         "hoverinfo": "text",
         "hovertext": "Passes de Rassoul Ndiaye à Arthur Desmas<br>Nombre de passes: 1<br>Longueur moyenne des passes: 27.52 m",
         "line": {
          "color": "red",
          "width": 1
         },
         "mode": "lines",
         "type": "scatter",
         "x": [
          80,
          3
         ],
         "y": [
          20,
          40
         ]
        },
        {
         "hoverinfo": "text",
         "hovertext": "Passes de Rassoul Ndiaye à Gautier Lloris<br>Nombre de passes: 3<br>Longueur moyenne des passes: 21.17 m",
         "line": {
          "color": "red",
          "width": 1
         },
         "mode": "lines",
         "type": "scatter",
         "x": [
          80,
          25
         ],
         "y": [
          20,
          10
         ]
        },
        {
         "hoverinfo": "text",
         "hovertext": "Passes de Rassoul Ndiaye à Issa Soumare<br>Nombre de passes: 3<br>Longueur moyenne des passes: 32.10 m",
         "line": {
          "color": "red",
          "width": 1
         },
         "mode": "lines",
         "type": "scatter",
         "x": [
          80,
          100
         ],
         "y": [
          20,
          10
         ]
        },
        {
         "hoverinfo": "text",
         "hovertext": "Passes de Rassoul Ndiaye à Josue Casimir<br>Nombre de passes: 3<br>Longueur moyenne des passes: 19.74 m",
         "line": {
          "color": "red",
          "width": 1
         },
         "mode": "lines",
         "type": "scatter",
         "x": [
          80,
          100
         ],
         "y": [
          20,
          70
         ]
        },
        {
         "hoverinfo": "text",
         "hovertext": "Passes de Rassoul Ndiaye à Loic Nego<br>Nombre de passes: 5<br>Longueur moyenne des passes: 15.75 m",
         "line": {
          "color": "red",
          "width": 1
         },
         "mode": "lines",
         "type": "scatter",
         "x": [
          80,
          12
         ],
         "y": [
          20,
          30
         ]
        },
        {
         "hoverinfo": "text",
         "hovertext": "Passes de Rassoul Ndiaye à Nabil Alioui<br>Nombre de passes: 1<br>Longueur moyenne des passes: 13.44 m",
         "line": {
          "color": "red",
          "width": 1
         },
         "mode": "lines",
         "type": "scatter",
         "x": [
          80,
          110
         ],
         "y": [
          20,
          40
         ]
        },
        {
         "hoverinfo": "text",
         "hovertext": "Passes de Rassoul Ndiaye à Oussama Targhalline<br>Nombre de passes: 4<br>Longueur moyenne des passes: 9.02 m",
         "line": {
          "color": "red",
          "width": 1
         },
         "mode": "lines",
         "type": "scatter",
         "x": [
          80,
          50
         ],
         "y": [
          20,
          40
         ]
        },
        {
         "hoverinfo": "text",
         "hovertext": "Passes de Rassoul Ndiaye à Yoann Salmier<br>Nombre de passes: 1<br>Longueur moyenne des passes: 15.07 m",
         "line": {
          "color": "red",
          "width": 1
         },
         "mode": "lines",
         "type": "scatter",
         "x": [
          80,
          25
         ],
         "y": [
          20,
          70
         ]
        },
        {
         "hoverinfo": "text",
         "hovertext": "Passes de Yoann Salmier à Arouna Sangante<br>Nombre de passes: 4<br>Longueur moyenne des passes: 21.91 m",
         "line": {
          "color": "red",
          "width": 1
         },
         "mode": "lines",
         "type": "scatter",
         "x": [
          25,
          12
         ],
         "y": [
          70,
          50
         ]
        },
        {
         "hoverinfo": "text",
         "hovertext": "Passes de Yoann Salmier à Arthur Desmas<br>Nombre de passes: 1<br>Longueur moyenne des passes: 40.71 m",
         "line": {
          "color": "red",
          "width": 1
         },
         "mode": "lines",
         "type": "scatter",
         "x": [
          25,
          3
         ],
         "y": [
          70,
          40
         ]
        },
        {
         "hoverinfo": "text",
         "hovertext": "Passes de Yoann Salmier à Daler Kuzyaev<br>Nombre de passes: 2<br>Longueur moyenne des passes: 14.92 m",
         "line": {
          "color": "red",
          "width": 1
         },
         "mode": "lines",
         "type": "scatter",
         "x": [
          25,
          80
         ],
         "y": [
          70,
          60
         ]
        },
        {
         "hoverinfo": "text",
         "hovertext": "Passes de Yoann Salmier à Issa Soumare<br>Nombre de passes: 6<br>Longueur moyenne des passes: 50.12 m",
         "line": {
          "color": "red",
          "width": 1
         },
         "mode": "lines",
         "type": "scatter",
         "x": [
          25,
          100
         ],
         "y": [
          70,
          10
         ]
        },
        {
         "hoverinfo": "text",
         "hovertext": "Passes de Yoann Salmier à Loic Nego<br>Nombre de passes: 2<br>Longueur moyenne des passes: 17.39 m",
         "line": {
          "color": "red",
          "width": 1
         },
         "mode": "lines",
         "type": "scatter",
         "x": [
          25,
          12
         ],
         "y": [
          70,
          30
         ]
        },
        {
         "hoverinfo": "text",
         "hovertext": "Passes de Yoann Salmier à Nabil Alioui<br>Nombre de passes: 1<br>Longueur moyenne des passes: 26.06 m",
         "line": {
          "color": "red",
          "width": 1
         },
         "mode": "lines",
         "type": "scatter",
         "x": [
          25,
          110
         ],
         "y": [
          70,
          40
         ]
        },
        {
         "hoverinfo": "text",
         "hovertext": "Passes de Yoann Salmier à Oussama Targhalline<br>Nombre de passes: 4<br>Longueur moyenne des passes: 20.20 m",
         "line": {
          "color": "red",
          "width": 1
         },
         "mode": "lines",
         "type": "scatter",
         "x": [
          25,
          50
         ],
         "y": [
          70,
          40
         ]
        },
        {
         "hoverinfo": "text",
         "hovertext": "Passes de Yoann Salmier à Rassoul Ndiaye<br>Nombre de passes: 2<br>Longueur moyenne des passes: 16.60 m",
         "line": {
          "color": "red",
          "width": 1
         },
         "mode": "lines",
         "type": "scatter",
         "x": [
          25,
          80
         ],
         "y": [
          70,
          20
         ]
        }
       ],
       "layout": {
        "height": 900,
        "shapes": [
         {
          "line": {
           "color": "Black"
          },
          "type": "rect",
          "x0": 0,
          "x1": 120,
          "y0": 0,
          "y1": 80
         },
         {
          "line": {
           "color": "Black",
           "dash": "dot"
          },
          "type": "line",
          "x0": 60,
          "x1": 60,
          "y0": 0,
          "y1": 80
         },
         {
          "line": {
           "color": "Black"
          },
          "type": "rect",
          "x0": 0,
          "x1": 18,
          "y0": 18,
          "y1": 62
         },
         {
          "line": {
           "color": "Black"
          },
          "type": "rect",
          "x0": 102,
          "x1": 120,
          "y0": 18,
          "y1": 62
         },
         {
          "line": {
           "color": "Black"
          },
          "type": "rect",
          "x0": 0,
          "x1": 5.5,
          "y0": 30,
          "y1": 50
         },
         {
          "line": {
           "color": "Black"
          },
          "type": "rect",
          "x0": 114.5,
          "x1": 120,
          "y0": 30,
          "y1": 50
         },
         {
          "line": {
           "color": "Black"
          },
          "type": "rect",
          "x0": 0,
          "x1": 2,
          "y0": 36,
          "y1": 44
         },
         {
          "line": {
           "color": "Black"
          },
          "type": "rect",
          "x0": 118,
          "x1": 120,
          "y0": 36,
          "y1": 44
         },
         {
          "line": {
           "color": "Black"
          },
          "type": "circle",
          "x0": 50.4,
          "x1": 69.6,
          "xref": "x",
          "y0": 30.4,
          "y1": 49.6,
          "yref": "y"
         }
        ],
        "template": {
         "data": {
          "bar": [
           {
            "error_x": {
             "color": "#2a3f5f"
            },
            "error_y": {
             "color": "#2a3f5f"
            },
            "marker": {
             "line": {
              "color": "#E5ECF6",
              "width": 0.5
             },
             "pattern": {
              "fillmode": "overlay",
              "size": 10,
              "solidity": 0.2
             }
            },
            "type": "bar"
           }
          ],
          "barpolar": [
           {
            "marker": {
             "line": {
              "color": "#E5ECF6",
              "width": 0.5
             },
             "pattern": {
              "fillmode": "overlay",
              "size": 10,
              "solidity": 0.2
             }
            },
            "type": "barpolar"
           }
          ],
          "carpet": [
           {
            "aaxis": {
             "endlinecolor": "#2a3f5f",
             "gridcolor": "white",
             "linecolor": "white",
             "minorgridcolor": "white",
             "startlinecolor": "#2a3f5f"
            },
            "baxis": {
             "endlinecolor": "#2a3f5f",
             "gridcolor": "white",
             "linecolor": "white",
             "minorgridcolor": "white",
             "startlinecolor": "#2a3f5f"
            },
            "type": "carpet"
           }
          ],
          "choropleth": [
           {
            "colorbar": {
             "outlinewidth": 0,
             "ticks": ""
            },
            "type": "choropleth"
           }
          ],
          "contour": [
           {
            "colorbar": {
             "outlinewidth": 0,
             "ticks": ""
            },
            "colorscale": [
             [
              0,
              "#0d0887"
             ],
             [
              0.1111111111111111,
              "#46039f"
             ],
             [
              0.2222222222222222,
              "#7201a8"
             ],
             [
              0.3333333333333333,
              "#9c179e"
             ],
             [
              0.4444444444444444,
              "#bd3786"
             ],
             [
              0.5555555555555556,
              "#d8576b"
             ],
             [
              0.6666666666666666,
              "#ed7953"
             ],
             [
              0.7777777777777778,
              "#fb9f3a"
             ],
             [
              0.8888888888888888,
              "#fdca26"
             ],
             [
              1,
              "#f0f921"
             ]
            ],
            "type": "contour"
           }
          ],
          "contourcarpet": [
           {
            "colorbar": {
             "outlinewidth": 0,
             "ticks": ""
            },
            "type": "contourcarpet"
           }
          ],
          "heatmap": [
           {
            "colorbar": {
             "outlinewidth": 0,
             "ticks": ""
            },
            "colorscale": [
             [
              0,
              "#0d0887"
             ],
             [
              0.1111111111111111,
              "#46039f"
             ],
             [
              0.2222222222222222,
              "#7201a8"
             ],
             [
              0.3333333333333333,
              "#9c179e"
             ],
             [
              0.4444444444444444,
              "#bd3786"
             ],
             [
              0.5555555555555556,
              "#d8576b"
             ],
             [
              0.6666666666666666,
              "#ed7953"
             ],
             [
              0.7777777777777778,
              "#fb9f3a"
             ],
             [
              0.8888888888888888,
              "#fdca26"
             ],
             [
              1,
              "#f0f921"
             ]
            ],
            "type": "heatmap"
           }
          ],
          "heatmapgl": [
           {
            "colorbar": {
             "outlinewidth": 0,
             "ticks": ""
            },
            "colorscale": [
             [
              0,
              "#0d0887"
             ],
             [
              0.1111111111111111,
              "#46039f"
             ],
             [
              0.2222222222222222,
              "#7201a8"
             ],
             [
              0.3333333333333333,
              "#9c179e"
             ],
             [
              0.4444444444444444,
              "#bd3786"
             ],
             [
              0.5555555555555556,
              "#d8576b"
             ],
             [
              0.6666666666666666,
              "#ed7953"
             ],
             [
              0.7777777777777778,
              "#fb9f3a"
             ],
             [
              0.8888888888888888,
              "#fdca26"
             ],
             [
              1,
              "#f0f921"
             ]
            ],
            "type": "heatmapgl"
           }
          ],
          "histogram": [
           {
            "marker": {
             "pattern": {
              "fillmode": "overlay",
              "size": 10,
              "solidity": 0.2
             }
            },
            "type": "histogram"
           }
          ],
          "histogram2d": [
           {
            "colorbar": {
             "outlinewidth": 0,
             "ticks": ""
            },
            "colorscale": [
             [
              0,
              "#0d0887"
             ],
             [
              0.1111111111111111,
              "#46039f"
             ],
             [
              0.2222222222222222,
              "#7201a8"
             ],
             [
              0.3333333333333333,
              "#9c179e"
             ],
             [
              0.4444444444444444,
              "#bd3786"
             ],
             [
              0.5555555555555556,
              "#d8576b"
             ],
             [
              0.6666666666666666,
              "#ed7953"
             ],
             [
              0.7777777777777778,
              "#fb9f3a"
             ],
             [
              0.8888888888888888,
              "#fdca26"
             ],
             [
              1,
              "#f0f921"
             ]
            ],
            "type": "histogram2d"
           }
          ],
          "histogram2dcontour": [
           {
            "colorbar": {
             "outlinewidth": 0,
             "ticks": ""
            },
            "colorscale": [
             [
              0,
              "#0d0887"
             ],
             [
              0.1111111111111111,
              "#46039f"
             ],
             [
              0.2222222222222222,
              "#7201a8"
             ],
             [
              0.3333333333333333,
              "#9c179e"
             ],
             [
              0.4444444444444444,
              "#bd3786"
             ],
             [
              0.5555555555555556,
              "#d8576b"
             ],
             [
              0.6666666666666666,
              "#ed7953"
             ],
             [
              0.7777777777777778,
              "#fb9f3a"
             ],
             [
              0.8888888888888888,
              "#fdca26"
             ],
             [
              1,
              "#f0f921"
             ]
            ],
            "type": "histogram2dcontour"
           }
          ],
          "mesh3d": [
           {
            "colorbar": {
             "outlinewidth": 0,
             "ticks": ""
            },
            "type": "mesh3d"
           }
          ],
          "parcoords": [
           {
            "line": {
             "colorbar": {
              "outlinewidth": 0,
              "ticks": ""
             }
            },
            "type": "parcoords"
           }
          ],
          "pie": [
           {
            "automargin": true,
            "type": "pie"
           }
          ],
          "scatter": [
           {
            "fillpattern": {
             "fillmode": "overlay",
             "size": 10,
             "solidity": 0.2
            },
            "type": "scatter"
           }
          ],
          "scatter3d": [
           {
            "line": {
             "colorbar": {
              "outlinewidth": 0,
              "ticks": ""
             }
            },
            "marker": {
             "colorbar": {
              "outlinewidth": 0,
              "ticks": ""
             }
            },
            "type": "scatter3d"
           }
          ],
          "scattercarpet": [
           {
            "marker": {
             "colorbar": {
              "outlinewidth": 0,
              "ticks": ""
             }
            },
            "type": "scattercarpet"
           }
          ],
          "scattergeo": [
           {
            "marker": {
             "colorbar": {
              "outlinewidth": 0,
              "ticks": ""
             }
            },
            "type": "scattergeo"
           }
          ],
          "scattergl": [
           {
            "marker": {
             "colorbar": {
              "outlinewidth": 0,
              "ticks": ""
             }
            },
            "type": "scattergl"
           }
          ],
          "scattermapbox": [
           {
            "marker": {
             "colorbar": {
              "outlinewidth": 0,
              "ticks": ""
             }
            },
            "type": "scattermapbox"
           }
          ],
          "scatterpolar": [
           {
            "marker": {
             "colorbar": {
              "outlinewidth": 0,
              "ticks": ""
             }
            },
            "type": "scatterpolar"
           }
          ],
          "scatterpolargl": [
           {
            "marker": {
             "colorbar": {
              "outlinewidth": 0,
              "ticks": ""
             }
            },
            "type": "scatterpolargl"
           }
          ],
          "scatterternary": [
           {
            "marker": {
             "colorbar": {
              "outlinewidth": 0,
              "ticks": ""
             }
            },
            "type": "scatterternary"
           }
          ],
          "surface": [
           {
            "colorbar": {
             "outlinewidth": 0,
             "ticks": ""
            },
            "colorscale": [
             [
              0,
              "#0d0887"
             ],
             [
              0.1111111111111111,
              "#46039f"
             ],
             [
              0.2222222222222222,
              "#7201a8"
             ],
             [
              0.3333333333333333,
              "#9c179e"
             ],
             [
              0.4444444444444444,
              "#bd3786"
             ],
             [
              0.5555555555555556,
              "#d8576b"
             ],
             [
              0.6666666666666666,
              "#ed7953"
             ],
             [
              0.7777777777777778,
              "#fb9f3a"
             ],
             [
              0.8888888888888888,
              "#fdca26"
             ],
             [
              1,
              "#f0f921"
             ]
            ],
            "type": "surface"
           }
          ],
          "table": [
           {
            "cells": {
             "fill": {
              "color": "#EBF0F8"
             },
             "line": {
              "color": "white"
             }
            },
            "header": {
             "fill": {
              "color": "#C8D4E3"
             },
             "line": {
              "color": "white"
             }
            },
            "type": "table"
           }
          ]
         },
         "layout": {
          "annotationdefaults": {
           "arrowcolor": "#2a3f5f",
           "arrowhead": 0,
           "arrowwidth": 1
          },
          "autotypenumbers": "strict",
          "coloraxis": {
           "colorbar": {
            "outlinewidth": 0,
            "ticks": ""
           }
          },
          "colorscale": {
           "diverging": [
            [
             0,
             "#8e0152"
            ],
            [
             0.1,
             "#c51b7d"
            ],
            [
             0.2,
             "#de77ae"
            ],
            [
             0.3,
             "#f1b6da"
            ],
            [
             0.4,
             "#fde0ef"
            ],
            [
             0.5,
             "#f7f7f7"
            ],
            [
             0.6,
             "#e6f5d0"
            ],
            [
             0.7,
             "#b8e186"
            ],
            [
             0.8,
             "#7fbc41"
            ],
            [
             0.9,
             "#4d9221"
            ],
            [
             1,
             "#276419"
            ]
           ],
           "sequential": [
            [
             0,
             "#0d0887"
            ],
            [
             0.1111111111111111,
             "#46039f"
            ],
            [
             0.2222222222222222,
             "#7201a8"
            ],
            [
             0.3333333333333333,
             "#9c179e"
            ],
            [
             0.4444444444444444,
             "#bd3786"
            ],
            [
             0.5555555555555556,
             "#d8576b"
            ],
            [
             0.6666666666666666,
             "#ed7953"
            ],
            [
             0.7777777777777778,
             "#fb9f3a"
            ],
            [
             0.8888888888888888,
             "#fdca26"
            ],
            [
             1,
             "#f0f921"
            ]
           ],
           "sequentialminus": [
            [
             0,
             "#0d0887"
            ],
            [
             0.1111111111111111,
             "#46039f"
            ],
            [
             0.2222222222222222,
             "#7201a8"
            ],
            [
             0.3333333333333333,
             "#9c179e"
            ],
            [
             0.4444444444444444,
             "#bd3786"
            ],
            [
             0.5555555555555556,
             "#d8576b"
            ],
            [
             0.6666666666666666,
             "#ed7953"
            ],
            [
             0.7777777777777778,
             "#fb9f3a"
            ],
            [
             0.8888888888888888,
             "#fdca26"
            ],
            [
             1,
             "#f0f921"
            ]
           ]
          },
          "colorway": [
           "#636efa",
           "#EF553B",
           "#00cc96",
           "#ab63fa",
           "#FFA15A",
           "#19d3f3",
           "#FF6692",
           "#B6E880",
           "#FF97FF",
           "#FECB52"
          ],
          "font": {
           "color": "#2a3f5f"
          },
          "geo": {
           "bgcolor": "white",
           "lakecolor": "white",
           "landcolor": "#E5ECF6",
           "showlakes": true,
           "showland": true,
           "subunitcolor": "white"
          },
          "hoverlabel": {
           "align": "left"
          },
          "hovermode": "closest",
          "mapbox": {
           "style": "light"
          },
          "paper_bgcolor": "white",
          "plot_bgcolor": "#E5ECF6",
          "polar": {
           "angularaxis": {
            "gridcolor": "white",
            "linecolor": "white",
            "ticks": ""
           },
           "bgcolor": "#E5ECF6",
           "radialaxis": {
            "gridcolor": "white",
            "linecolor": "white",
            "ticks": ""
           }
          },
          "scene": {
           "xaxis": {
            "backgroundcolor": "#E5ECF6",
            "gridcolor": "white",
            "gridwidth": 2,
            "linecolor": "white",
            "showbackground": true,
            "ticks": "",
            "zerolinecolor": "white"
           },
           "yaxis": {
            "backgroundcolor": "#E5ECF6",
            "gridcolor": "white",
            "gridwidth": 2,
            "linecolor": "white",
            "showbackground": true,
            "ticks": "",
            "zerolinecolor": "white"
           },
           "zaxis": {
            "backgroundcolor": "#E5ECF6",
            "gridcolor": "white",
            "gridwidth": 2,
            "linecolor": "white",
            "showbackground": true,
            "ticks": "",
            "zerolinecolor": "white"
           }
          },
          "shapedefaults": {
           "line": {
            "color": "#2a3f5f"
           }
          },
          "ternary": {
           "aaxis": {
            "gridcolor": "white",
            "linecolor": "white",
            "ticks": ""
           },
           "baxis": {
            "gridcolor": "white",
            "linecolor": "white",
            "ticks": ""
           },
           "bgcolor": "#E5ECF6",
           "caxis": {
            "gridcolor": "white",
            "linecolor": "white",
            "ticks": ""
           }
          },
          "title": {
           "x": 0.05
          },
          "xaxis": {
           "automargin": true,
           "gridcolor": "white",
           "linecolor": "white",
           "ticks": "",
           "title": {
            "standoff": 15
           },
           "zerolinecolor": "white",
           "zerolinewidth": 2
          },
          "yaxis": {
           "automargin": true,
           "gridcolor": "white",
           "linecolor": "white",
           "ticks": "",
           "title": {
            "standoff": 15
           },
           "zerolinecolor": "white",
           "zerolinewidth": 2
          }
         }
        },
        "title": {
         "text": "Réseau de passes du Havre"
        },
        "width": 1200,
        "xaxis": {
         "range": [
          0,
          120
         ],
         "showgrid": false,
         "zeroline": false
        },
        "yaxis": {
         "autorange": "reversed",
         "range": [
          0,
          80
         ],
         "showgrid": false,
         "zeroline": false
        }
       }
      }
     },
     "metadata": {},
     "output_type": "display_data"
    }
   ],
   "source": [
    "import plotly.graph_objs as go\n",
    "\n",
    "\"\"\" on va faire un dictionnaire des positions en fonction des rôles\n",
    "pour placer les joueurs sur le terrain \"\"\"\n",
    "\n",
    "role_positions = {\n",
    "    \"Gardien\": [(3, 40)],\n",
    "    \"Défenseur\": [(12, 30), (12, 50), (25, 10), (25, 70)],\n",
    "    \"Milieu de terrain\": [(50, 40), (80, 20), (80, 60)],\n",
    "    \"Attaquant\": [(100, 10), (100, 70), (110, 40)]\n",
    "}\n",
    "\n",
    "\n",
    "def get_position(role, index, role_positions, role_count):\n",
    "    if role in role_positions and index < len(role_positions[role]):\n",
    "        return role_positions[role][index]\n",
    "    else:\n",
    "        if role == \"Défenseur\":\n",
    "            role = \"Milieu de terrain\"\n",
    "        elif role == \"Milieu de terrain\":\n",
    "            role = \"Attaquant\"\n",
    "        elif role == \"Attaquant\":\n",
    "            role = \"Défenseur\"\n",
    "        return get_position(role, role_count[role], role_positions, role_count)\n",
    "\n",
    "def visualize_pass_network(player_positions_df, passes_df):\n",
    "    role_count = {\"Défenseur\": 0, \"Milieu de terrain\": 0, \"Attaquant\": 0, \"Gardien\": 0}\n",
    "    players_positions = {}\n",
    "    \n",
    "    for index, row in player_positions_df.iterrows():\n",
    "        role = row['role']\n",
    "        position = get_position(role, role_count[role], role_positions, role_count)\n",
    "        role_count[role] += 1\n",
    "        players_positions[row['player.name']] = position\n",
    "\n",
    "    \n",
    "    pass_info = passes_df.groupby(['player.name']).agg(\n",
    "        num_passes=('pass.length', 'size'),\n",
    "        avg_pass_length=('pass.length', 'mean')\n",
    "    ).reset_index()\n",
    "\n",
    "    pass_info_received = passes_df.groupby(['pass.recipient.name']).agg(\n",
    "        num_passes_received=('pass.length', 'size'),\n",
    "        avg_pass_length_received=('pass.length', 'mean')\n",
    "    ).reset_index()\n",
    "\n",
    "    pass_info_dict = {\n",
    "        row['player.name']: {\n",
    "            'num_passes': row['num_passes'],\n",
    "            'avg_pass_length': row['avg_pass_length']\n",
    "        }\n",
    "        for index, row in pass_info.iterrows()\n",
    "    }\n",
    "\n",
    "    pass_info_received_dict = {\n",
    "        row['pass.recipient.name']: {\n",
    "            'num_passes_received': row['num_passes_received'],\n",
    "            'avg_pass_length_received': row['avg_pass_length_received']\n",
    "        }\n",
    "        for index, row in pass_info_received.iterrows()\n",
    "    }\n",
    "\n",
    "    fig = go.Figure()\n",
    "\n",
    "    terrain_shapes = [\n",
    "        dict(type=\"rect\", x0=0, y0=0, x1=120, y1=80, line=dict(color=\"Black\")),  # Périmètre du terrain\n",
    "        dict(type=\"line\", x0=60, y0=0, x1=60, y1=80, line=dict(color=\"Black\", dash=\"dot\")),  # Ligne médiane\n",
    "        dict(type=\"rect\", x0=0, y0=18, x1=18, y1=62, line=dict(color=\"Black\")),  # Surface de réparation\n",
    "        dict(type=\"rect\", x0=102, y0=18, x1=120, y1=62, line=dict(color=\"Black\")),  # Surface de réparation opposée\n",
    "        dict(type=\"rect\", x0=0, y0=30, x1=5.5, y1=50, line=dict(color=\"Black\")),  # Petit rectangle\n",
    "        dict(type=\"rect\", x0=114.5, y0=30, x1=120, y1=50, line=dict(color=\"Black\")),  # Petit rectangle opposé\n",
    "        dict(type=\"rect\", x0=0, y0=36, x1=2, y1=44, line=dict(color=\"Black\")),  # Zone du gardien\n",
    "        dict(type=\"rect\", x0=118, y0=36, x1=120, y1=44, line=dict(color=\"Black\")),  # Zone du gardien opposée\n",
    "        dict(type=\"circle\", xref=\"x\", yref=\"y\", x0=50.4, y0=30.4, x1=69.6, y1=49.6, line_color=\"Black\"),  # Cercle central\n",
    "    ]\n",
    "    fig.update_layout(shapes=terrain_shapes)\n",
    "\n",
    "    for player, pos in players_positions.items():\n",
    "        passes_from_player = pass_info_dict.get(player, {'num_passes': 0, 'avg_pass_length': 0})\n",
    "        passes_to_player = pass_info_received_dict.get(player, {'num_passes_received': 0, 'avg_pass_length_received': 0})\n",
    "\n",
    "        hover_text = (\n",
    "            f\"Joueur: {player}<br>\"\n",
    "            f\"Nombre de passes effectuées: {passes_from_player['num_passes']}<br>\"\n",
    "            f\"Longueur moyenne des passes effectuées: {passes_from_player['avg_pass_length']:.2f} m<br>\"\n",
    "            f\"Nombre de passes reçues: {passes_to_player['num_passes_received']}<br>\"\n",
    "            f\"Longueur moyenne des passes reçues: {passes_to_player['avg_pass_length_received']:.2f} m\"\n",
    "        )\n",
    "\n",
    "        fig.add_trace(go.Scatter(\n",
    "            x=[pos[0]],\n",
    "            y=[pos[1]],\n",
    "            mode='markers+text',\n",
    "            text=[player],\n",
    "            textposition=\"top center\",\n",
    "            marker=dict(size=20, color='blue'),  # Taille du marqueur augmentée à 20\n",
    "            hovertext=hover_text,\n",
    "            hoverinfo=\"text\"\n",
    "        ))\n",
    "    passes_between_players = passes_df.groupby(['player.name', 'pass.recipient.name']).agg(\n",
    "        num_passes=('pass.length', 'size'),\n",
    "        avg_pass_length=('pass.length', 'mean')\n",
    "    ).reset_index()\n",
    "\n",
    "\n",
    "    for row in passes_between_players.itertuples():\n",
    "        if row[1] in players_positions and row[2] in players_positions:\n",
    "            start = players_positions[row[1]]\n",
    "            end = players_positions[row[2]]\n",
    "            hover_text = (\n",
    "                f\"Passes de {row[1]} à {row[2]}<br>\"\n",
    "                f\"Nombre de passes: {row.num_passes}<br>\"\n",
    "                f\"Longueur moyenne des passes: {row.avg_pass_length:.2f} m\"\n",
    "            )\n",
    "            fig.add_trace(go.Scatter(\n",
    "                x=[start[0], end[0]],\n",
    "                y=[start[1], end[1]],\n",
    "                mode='lines',\n",
    "                line=dict(width=1, color='red'),\n",
    "                hovertext=hover_text,\n",
    "                hoverinfo=\"text\"\n",
    "            ))\n",
    "\n",
    "    fig.update_yaxes(autorange='reversed')\n",
    "\n",
    "    fig.update_layout(\n",
    "        title=\"Réseau de passes du Havre\",\n",
    "        xaxis=dict(range=[0, 120], showgrid=False, zeroline=False),\n",
    "        yaxis=dict(range=[0, 80], showgrid=False, zeroline=False),\n",
    "        width=1200,\n",
    "        height=900\n",
    "    )\n",
    "    fig.show()\n",
    "\n",
    "visualize_pass_network(df_positions, df_passes)\n"
   ]
  }
 ],
 "metadata": {
  "kernelspec": {
   "display_name": "Python 3",
   "language": "python",
   "name": "python3"
  },
  "language_info": {
   "codemirror_mode": {
    "name": "ipython",
    "version": 3
   },
   "file_extension": ".py",
   "mimetype": "text/x-python",
   "name": "python",
   "nbconvert_exporter": "python",
   "pygments_lexer": "ipython3",
   "version": "3.10.12"
  }
 },
 "nbformat": 4,
 "nbformat_minor": 2
}
