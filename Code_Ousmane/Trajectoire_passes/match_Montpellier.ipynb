{
 "cells": [
  {
   "cell_type": "code",
   "execution_count": 4,
   "metadata": {},
   "outputs": [
    {
     "data": {
      "text/html": [
       "<div>\n",
       "<style scoped>\n",
       "    .dataframe tbody tr th:only-of-type {\n",
       "        vertical-align: middle;\n",
       "    }\n",
       "\n",
       "    .dataframe tbody tr th {\n",
       "        vertical-align: top;\n",
       "    }\n",
       "\n",
       "    .dataframe thead th {\n",
       "        text-align: right;\n",
       "    }\n",
       "</style>\n",
       "<table border=\"1\" class=\"dataframe\">\n",
       "  <thead>\n",
       "    <tr style=\"text-align: right;\">\n",
       "      <th></th>\n",
       "      <th>datetime</th>\n",
       "      <th>team.name</th>\n",
       "      <th>period</th>\n",
       "      <th>player.name</th>\n",
       "      <th>location.x</th>\n",
       "      <th>location.y</th>\n",
       "      <th>pass.recipient.name</th>\n",
       "      <th>pass.end_location_x</th>\n",
       "      <th>pass.end_location_y</th>\n",
       "    </tr>\n",
       "  </thead>\n",
       "  <tbody>\n",
       "    <tr>\n",
       "      <th>55</th>\n",
       "      <td>2023-08-13 00:01:02.081</td>\n",
       "      <td>Montpellier</td>\n",
       "      <td>1</td>\n",
       "      <td>Falaye Sacko</td>\n",
       "      <td>70.8</td>\n",
       "      <td>69.3</td>\n",
       "      <td>Jordan Ferri</td>\n",
       "      <td>70.3</td>\n",
       "      <td>61.6</td>\n",
       "    </tr>\n",
       "    <tr>\n",
       "      <th>1667</th>\n",
       "      <td>2023-08-13 00:01:02.264</td>\n",
       "      <td>Montpellier</td>\n",
       "      <td>2</td>\n",
       "      <td>Christopher Jullien</td>\n",
       "      <td>39.5</td>\n",
       "      <td>45.7</td>\n",
       "      <td>Jordan Ferri</td>\n",
       "      <td>50.9</td>\n",
       "      <td>68.3</td>\n",
       "    </tr>\n",
       "    <tr>\n",
       "      <th>58</th>\n",
       "      <td>2023-08-13 00:01:02.842</td>\n",
       "      <td>Montpellier</td>\n",
       "      <td>1</td>\n",
       "      <td>Jordan Ferri</td>\n",
       "      <td>70.6</td>\n",
       "      <td>61.6</td>\n",
       "      <td>Moussa Al Tamari</td>\n",
       "      <td>87.1</td>\n",
       "      <td>72.7</td>\n",
       "    </tr>\n",
       "    <tr>\n",
       "      <th>62</th>\n",
       "      <td>2023-08-13 00:01:05.602</td>\n",
       "      <td>Montpellier</td>\n",
       "      <td>1</td>\n",
       "      <td>Moussa Al Tamari</td>\n",
       "      <td>91.4</td>\n",
       "      <td>71.7</td>\n",
       "      <td>NaN</td>\n",
       "      <td>90.7</td>\n",
       "      <td>69.7</td>\n",
       "    </tr>\n",
       "    <tr>\n",
       "      <th>1670</th>\n",
       "      <td>2023-08-13 00:01:06.310</td>\n",
       "      <td>Montpellier</td>\n",
       "      <td>2</td>\n",
       "      <td>Jordan Ferri</td>\n",
       "      <td>55.7</td>\n",
       "      <td>74.0</td>\n",
       "      <td>Falaye Sacko</td>\n",
       "      <td>68.9</td>\n",
       "      <td>63.5</td>\n",
       "    </tr>\n",
       "    <tr>\n",
       "      <th>1674</th>\n",
       "      <td>2023-08-13 00:01:08.468</td>\n",
       "      <td>Montpellier</td>\n",
       "      <td>2</td>\n",
       "      <td>Falaye Sacko</td>\n",
       "      <td>67.0</td>\n",
       "      <td>65.4</td>\n",
       "      <td>Jordan Ferri</td>\n",
       "      <td>57.6</td>\n",
       "      <td>71.8</td>\n",
       "    </tr>\n",
       "    <tr>\n",
       "      <th>1677</th>\n",
       "      <td>2023-08-13 00:01:10.548</td>\n",
       "      <td>Montpellier</td>\n",
       "      <td>2</td>\n",
       "      <td>Jordan Ferri</td>\n",
       "      <td>57.6</td>\n",
       "      <td>71.8</td>\n",
       "      <td>Christopher Jullien</td>\n",
       "      <td>46.3</td>\n",
       "      <td>62.4</td>\n",
       "    </tr>\n",
       "    <tr>\n",
       "      <th>1681</th>\n",
       "      <td>2023-08-13 00:01:12.751</td>\n",
       "      <td>Montpellier</td>\n",
       "      <td>2</td>\n",
       "      <td>Christopher Jullien</td>\n",
       "      <td>45.2</td>\n",
       "      <td>59.2</td>\n",
       "      <td>Boubakar Kouyate</td>\n",
       "      <td>39.8</td>\n",
       "      <td>28.7</td>\n",
       "    </tr>\n",
       "    <tr>\n",
       "      <th>65</th>\n",
       "      <td>2023-08-13 00:01:13.220</td>\n",
       "      <td>Montpellier</td>\n",
       "      <td>1</td>\n",
       "      <td>Christopher Jullien</td>\n",
       "      <td>55.4</td>\n",
       "      <td>80.0</td>\n",
       "      <td>Boubakar Kouyate</td>\n",
       "      <td>43.6</td>\n",
       "      <td>59.8</td>\n",
       "    </tr>\n",
       "    <tr>\n",
       "      <th>68</th>\n",
       "      <td>2023-08-13 00:01:17.723</td>\n",
       "      <td>Montpellier</td>\n",
       "      <td>1</td>\n",
       "      <td>Boubakar Kouyate</td>\n",
       "      <td>42.1</td>\n",
       "      <td>53.7</td>\n",
       "      <td>Issiaga Sylla</td>\n",
       "      <td>53.6</td>\n",
       "      <td>17.3</td>\n",
       "    </tr>\n",
       "    <tr>\n",
       "      <th>1685</th>\n",
       "      <td>2023-08-13 00:01:18.834</td>\n",
       "      <td>Montpellier</td>\n",
       "      <td>2</td>\n",
       "      <td>Boubakar Kouyate</td>\n",
       "      <td>40.3</td>\n",
       "      <td>23.3</td>\n",
       "      <td>Christopher Jullien</td>\n",
       "      <td>42.8</td>\n",
       "      <td>42.7</td>\n",
       "    </tr>\n",
       "    <tr>\n",
       "      <th>1688</th>\n",
       "      <td>2023-08-13 00:01:23.051</td>\n",
       "      <td>Montpellier</td>\n",
       "      <td>2</td>\n",
       "      <td>Christopher Jullien</td>\n",
       "      <td>50.3</td>\n",
       "      <td>54.6</td>\n",
       "      <td>Jordan Ferri</td>\n",
       "      <td>56.2</td>\n",
       "      <td>69.9</td>\n",
       "    </tr>\n",
       "    <tr>\n",
       "      <th>1691</th>\n",
       "      <td>2023-08-13 00:01:25.638</td>\n",
       "      <td>Montpellier</td>\n",
       "      <td>2</td>\n",
       "      <td>Jordan Ferri</td>\n",
       "      <td>57.6</td>\n",
       "      <td>70.2</td>\n",
       "      <td>Falaye Sacko</td>\n",
       "      <td>68.1</td>\n",
       "      <td>75.3</td>\n",
       "    </tr>\n",
       "    <tr>\n",
       "      <th>71</th>\n",
       "      <td>2023-08-13 00:01:26.602</td>\n",
       "      <td>Montpellier</td>\n",
       "      <td>1</td>\n",
       "      <td>Issiaga Sylla</td>\n",
       "      <td>96.5</td>\n",
       "      <td>9.1</td>\n",
       "      <td>Téji Savanier</td>\n",
       "      <td>109.9</td>\n",
       "      <td>45.9</td>\n",
       "    </tr>\n",
       "    <tr>\n",
       "      <th>1694</th>\n",
       "      <td>2023-08-13 00:01:27.726</td>\n",
       "      <td>Montpellier</td>\n",
       "      <td>2</td>\n",
       "      <td>Falaye Sacko</td>\n",
       "      <td>68.1</td>\n",
       "      <td>75.3</td>\n",
       "      <td>Christopher Jullien</td>\n",
       "      <td>51.9</td>\n",
       "      <td>65.9</td>\n",
       "    </tr>\n",
       "    <tr>\n",
       "      <th>73</th>\n",
       "      <td>2023-08-13 00:01:28.605</td>\n",
       "      <td>Montpellier</td>\n",
       "      <td>1</td>\n",
       "      <td>Téji Savanier</td>\n",
       "      <td>110.1</td>\n",
       "      <td>45.7</td>\n",
       "      <td>Moussa Al Tamari</td>\n",
       "      <td>107.0</td>\n",
       "      <td>43.7</td>\n",
       "    </tr>\n",
       "    <tr>\n",
       "      <th>1697</th>\n",
       "      <td>2023-08-13 00:01:29.993</td>\n",
       "      <td>Montpellier</td>\n",
       "      <td>2</td>\n",
       "      <td>Christopher Jullien</td>\n",
       "      <td>51.9</td>\n",
       "      <td>65.9</td>\n",
       "      <td>Joris Chotard</td>\n",
       "      <td>53.0</td>\n",
       "      <td>51.9</td>\n",
       "    </tr>\n",
       "    <tr>\n",
       "      <th>78</th>\n",
       "      <td>2023-08-13 00:01:30.900</td>\n",
       "      <td>Le Havre</td>\n",
       "      <td>1</td>\n",
       "      <td>Oussama Targhalline</td>\n",
       "      <td>15.2</td>\n",
       "      <td>38.6</td>\n",
       "      <td>Josue Casimir</td>\n",
       "      <td>15.4</td>\n",
       "      <td>27.8</td>\n",
       "    </tr>\n",
       "    <tr>\n",
       "      <th>1700</th>\n",
       "      <td>2023-08-13 00:01:32.940</td>\n",
       "      <td>Montpellier</td>\n",
       "      <td>2</td>\n",
       "      <td>Joris Chotard</td>\n",
       "      <td>53.0</td>\n",
       "      <td>51.9</td>\n",
       "      <td>Christopher Jullien</td>\n",
       "      <td>48.2</td>\n",
       "      <td>62.1</td>\n",
       "    </tr>\n",
       "    <tr>\n",
       "      <th>1703</th>\n",
       "      <td>2023-08-13 00:01:35.860</td>\n",
       "      <td>Montpellier</td>\n",
       "      <td>2</td>\n",
       "      <td>Christopher Jullien</td>\n",
       "      <td>48.2</td>\n",
       "      <td>62.1</td>\n",
       "      <td>Boubakar Kouyate</td>\n",
       "      <td>42.2</td>\n",
       "      <td>35.2</td>\n",
       "    </tr>\n",
       "    <tr>\n",
       "      <th>82</th>\n",
       "      <td>2023-08-13 00:01:37.057</td>\n",
       "      <td>Le Havre</td>\n",
       "      <td>1</td>\n",
       "      <td>Josue Casimir</td>\n",
       "      <td>34.6</td>\n",
       "      <td>5.0</td>\n",
       "      <td>Issa Soumaré</td>\n",
       "      <td>79.4</td>\n",
       "      <td>22.8</td>\n",
       "    </tr>\n",
       "    <tr>\n",
       "      <th>1706</th>\n",
       "      <td>2023-08-13 00:01:41.022</td>\n",
       "      <td>Montpellier</td>\n",
       "      <td>2</td>\n",
       "      <td>Boubakar Kouyate</td>\n",
       "      <td>48.7</td>\n",
       "      <td>23.6</td>\n",
       "      <td>Jordan Ferri</td>\n",
       "      <td>53.5</td>\n",
       "      <td>34.9</td>\n",
       "    </tr>\n",
       "    <tr>\n",
       "      <th>86</th>\n",
       "      <td>2023-08-13 00:01:42.798</td>\n",
       "      <td>Montpellier</td>\n",
       "      <td>1</td>\n",
       "      <td>Boubakar Kouyate</td>\n",
       "      <td>40.0</td>\n",
       "      <td>75.3</td>\n",
       "      <td>Falaye Sacko</td>\n",
       "      <td>53.8</td>\n",
       "      <td>75.3</td>\n",
       "    </tr>\n",
       "    <tr>\n",
       "      <th>1710</th>\n",
       "      <td>2023-08-13 00:01:44.595</td>\n",
       "      <td>Montpellier</td>\n",
       "      <td>2</td>\n",
       "      <td>Jordan Ferri</td>\n",
       "      <td>51.9</td>\n",
       "      <td>37.4</td>\n",
       "      <td>Falaye Sacko</td>\n",
       "      <td>58.9</td>\n",
       "      <td>67.3</td>\n",
       "    </tr>\n",
       "    <tr>\n",
       "      <th>89</th>\n",
       "      <td>2023-08-13 00:01:45.097</td>\n",
       "      <td>Montpellier</td>\n",
       "      <td>1</td>\n",
       "      <td>Falaye Sacko</td>\n",
       "      <td>55.8</td>\n",
       "      <td>73.8</td>\n",
       "      <td>Téji Savanier</td>\n",
       "      <td>67.9</td>\n",
       "      <td>67.9</td>\n",
       "    </tr>\n",
       "    <tr>\n",
       "      <th>1713</th>\n",
       "      <td>2023-08-13 00:01:48.878</td>\n",
       "      <td>Montpellier</td>\n",
       "      <td>2</td>\n",
       "      <td>Falaye Sacko</td>\n",
       "      <td>65.4</td>\n",
       "      <td>69.7</td>\n",
       "      <td>Téji Savanier</td>\n",
       "      <td>82.6</td>\n",
       "      <td>60.0</td>\n",
       "    </tr>\n",
       "    <tr>\n",
       "      <th>1717</th>\n",
       "      <td>2023-08-13 00:01:51.561</td>\n",
       "      <td>Montpellier</td>\n",
       "      <td>2</td>\n",
       "      <td>Téji Savanier</td>\n",
       "      <td>79.4</td>\n",
       "      <td>60.5</td>\n",
       "      <td>Falaye Sacko</td>\n",
       "      <td>83.4</td>\n",
       "      <td>68.3</td>\n",
       "    </tr>\n",
       "    <tr>\n",
       "      <th>93</th>\n",
       "      <td>2023-08-13 00:01:54.523</td>\n",
       "      <td>Montpellier</td>\n",
       "      <td>1</td>\n",
       "      <td>Téji Savanier</td>\n",
       "      <td>86.4</td>\n",
       "      <td>52.8</td>\n",
       "      <td>Jordan Ferri</td>\n",
       "      <td>81.8</td>\n",
       "      <td>26.5</td>\n",
       "    </tr>\n",
       "    <tr>\n",
       "      <th>1724</th>\n",
       "      <td>2023-08-13 00:01:58.694</td>\n",
       "      <td>Montpellier</td>\n",
       "      <td>2</td>\n",
       "      <td>Téji Savanier</td>\n",
       "      <td>63.8</td>\n",
       "      <td>80.0</td>\n",
       "      <td>Moussa Al Tamari</td>\n",
       "      <td>81.0</td>\n",
       "      <td>74.8</td>\n",
       "    </tr>\n",
       "    <tr>\n",
       "      <th>96</th>\n",
       "      <td>2023-08-13 00:01:59.326</td>\n",
       "      <td>Montpellier</td>\n",
       "      <td>1</td>\n",
       "      <td>Jordan Ferri</td>\n",
       "      <td>82.1</td>\n",
       "      <td>15.7</td>\n",
       "      <td>Wahbi Khazri</td>\n",
       "      <td>98.4</td>\n",
       "      <td>4.1</td>\n",
       "    </tr>\n",
       "  </tbody>\n",
       "</table>\n",
       "</div>"
      ],
      "text/plain": [
       "                    datetime    team.name  period          player.name  \\\n",
       "55   2023-08-13 00:01:02.081  Montpellier       1         Falaye Sacko   \n",
       "1667 2023-08-13 00:01:02.264  Montpellier       2  Christopher Jullien   \n",
       "58   2023-08-13 00:01:02.842  Montpellier       1         Jordan Ferri   \n",
       "62   2023-08-13 00:01:05.602  Montpellier       1     Moussa Al Tamari   \n",
       "1670 2023-08-13 00:01:06.310  Montpellier       2         Jordan Ferri   \n",
       "1674 2023-08-13 00:01:08.468  Montpellier       2         Falaye Sacko   \n",
       "1677 2023-08-13 00:01:10.548  Montpellier       2         Jordan Ferri   \n",
       "1681 2023-08-13 00:01:12.751  Montpellier       2  Christopher Jullien   \n",
       "65   2023-08-13 00:01:13.220  Montpellier       1  Christopher Jullien   \n",
       "68   2023-08-13 00:01:17.723  Montpellier       1     Boubakar Kouyate   \n",
       "1685 2023-08-13 00:01:18.834  Montpellier       2     Boubakar Kouyate   \n",
       "1688 2023-08-13 00:01:23.051  Montpellier       2  Christopher Jullien   \n",
       "1691 2023-08-13 00:01:25.638  Montpellier       2         Jordan Ferri   \n",
       "71   2023-08-13 00:01:26.602  Montpellier       1        Issiaga Sylla   \n",
       "1694 2023-08-13 00:01:27.726  Montpellier       2         Falaye Sacko   \n",
       "73   2023-08-13 00:01:28.605  Montpellier       1        Téji Savanier   \n",
       "1697 2023-08-13 00:01:29.993  Montpellier       2  Christopher Jullien   \n",
       "78   2023-08-13 00:01:30.900     Le Havre       1  Oussama Targhalline   \n",
       "1700 2023-08-13 00:01:32.940  Montpellier       2        Joris Chotard   \n",
       "1703 2023-08-13 00:01:35.860  Montpellier       2  Christopher Jullien   \n",
       "82   2023-08-13 00:01:37.057     Le Havre       1        Josue Casimir   \n",
       "1706 2023-08-13 00:01:41.022  Montpellier       2     Boubakar Kouyate   \n",
       "86   2023-08-13 00:01:42.798  Montpellier       1     Boubakar Kouyate   \n",
       "1710 2023-08-13 00:01:44.595  Montpellier       2         Jordan Ferri   \n",
       "89   2023-08-13 00:01:45.097  Montpellier       1         Falaye Sacko   \n",
       "1713 2023-08-13 00:01:48.878  Montpellier       2         Falaye Sacko   \n",
       "1717 2023-08-13 00:01:51.561  Montpellier       2        Téji Savanier   \n",
       "93   2023-08-13 00:01:54.523  Montpellier       1        Téji Savanier   \n",
       "1724 2023-08-13 00:01:58.694  Montpellier       2        Téji Savanier   \n",
       "96   2023-08-13 00:01:59.326  Montpellier       1         Jordan Ferri   \n",
       "\n",
       "      location.x  location.y  pass.recipient.name  pass.end_location_x  \\\n",
       "55          70.8        69.3         Jordan Ferri                 70.3   \n",
       "1667        39.5        45.7         Jordan Ferri                 50.9   \n",
       "58          70.6        61.6     Moussa Al Tamari                 87.1   \n",
       "62          91.4        71.7                  NaN                 90.7   \n",
       "1670        55.7        74.0         Falaye Sacko                 68.9   \n",
       "1674        67.0        65.4         Jordan Ferri                 57.6   \n",
       "1677        57.6        71.8  Christopher Jullien                 46.3   \n",
       "1681        45.2        59.2     Boubakar Kouyate                 39.8   \n",
       "65          55.4        80.0     Boubakar Kouyate                 43.6   \n",
       "68          42.1        53.7        Issiaga Sylla                 53.6   \n",
       "1685        40.3        23.3  Christopher Jullien                 42.8   \n",
       "1688        50.3        54.6         Jordan Ferri                 56.2   \n",
       "1691        57.6        70.2         Falaye Sacko                 68.1   \n",
       "71          96.5         9.1        Téji Savanier                109.9   \n",
       "1694        68.1        75.3  Christopher Jullien                 51.9   \n",
       "73         110.1        45.7     Moussa Al Tamari                107.0   \n",
       "1697        51.9        65.9        Joris Chotard                 53.0   \n",
       "78          15.2        38.6        Josue Casimir                 15.4   \n",
       "1700        53.0        51.9  Christopher Jullien                 48.2   \n",
       "1703        48.2        62.1     Boubakar Kouyate                 42.2   \n",
       "82          34.6         5.0         Issa Soumaré                 79.4   \n",
       "1706        48.7        23.6         Jordan Ferri                 53.5   \n",
       "86          40.0        75.3         Falaye Sacko                 53.8   \n",
       "1710        51.9        37.4         Falaye Sacko                 58.9   \n",
       "89          55.8        73.8        Téji Savanier                 67.9   \n",
       "1713        65.4        69.7        Téji Savanier                 82.6   \n",
       "1717        79.4        60.5         Falaye Sacko                 83.4   \n",
       "93          86.4        52.8         Jordan Ferri                 81.8   \n",
       "1724        63.8        80.0     Moussa Al Tamari                 81.0   \n",
       "96          82.1        15.7         Wahbi Khazri                 98.4   \n",
       "\n",
       "      pass.end_location_y  \n",
       "55                   61.6  \n",
       "1667                 68.3  \n",
       "58                   72.7  \n",
       "62                   69.7  \n",
       "1670                 63.5  \n",
       "1674                 71.8  \n",
       "1677                 62.4  \n",
       "1681                 28.7  \n",
       "65                   59.8  \n",
       "68                   17.3  \n",
       "1685                 42.7  \n",
       "1688                 69.9  \n",
       "1691                 75.3  \n",
       "71                   45.9  \n",
       "1694                 65.9  \n",
       "73                   43.7  \n",
       "1697                 51.9  \n",
       "78                   27.8  \n",
       "1700                 62.1  \n",
       "1703                 35.2  \n",
       "82                   22.8  \n",
       "1706                 34.9  \n",
       "86                   75.3  \n",
       "1710                 67.3  \n",
       "89                   67.9  \n",
       "1713                 60.0  \n",
       "1717                 68.3  \n",
       "93                   26.5  \n",
       "1724                 74.8  \n",
       "96                    4.1  "
      ]
     },
     "execution_count": 4,
     "metadata": {},
     "output_type": "execute_result"
    }
   ],
   "source": [
    "import sys\n",
    "sys.path.append('/home/UR/kontaous/Bureau/Stage/')\n",
    "from Analyses.traitement import *\n",
    "from passes_player import Joueur_passes\n",
    "from passes_players import Joueurs_passes\n",
    "import pandas as pd\n",
    "import numpy as np\n",
    "import matplotlib.pyplot as plt\n",
    "import seaborn as sns\n",
    "tracking = pd.read_csv(\"../../../Tracking_data/MontPellier.csv\")\n",
    "events = pd.read_csv(\"../../Data/match_data/match_Montpellier.csv\")\n",
    "tracking, events = prepare_data(tracking, events)\n",
    "\n",
    "passes = ['datetime', 'team.name', 'period', 'player.name', 'location.x', 'location.y', 'pass.recipient.name', 'pass.end_location', ]\n",
    "df_passes = events[passes].copy()\n",
    "\n",
    "coordonnees = df_passes['pass.end_location'].apply(decoupage_des_coordonnes)\n",
    "df_passes.loc[:, 'pass.end_location_x'] = coordonnees.apply(lambda x: x[0] if x is not None else None)\n",
    "df_passes.loc[:, 'pass.end_location_y'] = coordonnees.apply(lambda x: x[1] if x is not None else None)\n",
    "df_passes.drop('pass.end_location', axis=1, inplace=True)\n",
    "df_passes[(df_passes['pass.end_location_x'].notna())][30:60]\n"
   ]
  },
  {
   "cell_type": "code",
   "execution_count": 5,
   "metadata": {},
   "outputs": [
    {
     "data": {
      "text/html": [
       "<div>\n",
       "<style scoped>\n",
       "    .dataframe tbody tr th:only-of-type {\n",
       "        vertical-align: middle;\n",
       "    }\n",
       "\n",
       "    .dataframe tbody tr th {\n",
       "        vertical-align: top;\n",
       "    }\n",
       "\n",
       "    .dataframe thead th {\n",
       "        text-align: right;\n",
       "    }\n",
       "</style>\n",
       "<table border=\"1\" class=\"dataframe\">\n",
       "  <thead>\n",
       "    <tr style=\"text-align: right;\">\n",
       "      <th></th>\n",
       "      <th>datetime</th>\n",
       "      <th>system_time</th>\n",
       "      <th>frame</th>\n",
       "      <th>period</th>\n",
       "      <th>player</th>\n",
       "      <th>id</th>\n",
       "      <th>num</th>\n",
       "      <th>team</th>\n",
       "      <th>x</th>\n",
       "      <th>y</th>\n",
       "      <th>player_name</th>\n",
       "      <th>role</th>\n",
       "      <th>Gx</th>\n",
       "      <th>Gy</th>\n",
       "    </tr>\n",
       "  </thead>\n",
       "  <tbody>\n",
       "    <tr>\n",
       "      <th>0</th>\n",
       "      <td>2023-08-13 15:00:00.000</td>\n",
       "      <td>1691938800000</td>\n",
       "      <td>0</td>\n",
       "      <td>1</td>\n",
       "      <td>ball</td>\n",
       "      <td>0.0</td>\n",
       "      <td>ball</td>\n",
       "      <td>ball</td>\n",
       "      <td>52.770</td>\n",
       "      <td>33.050</td>\n",
       "      <td>ball</td>\n",
       "      <td>ball</td>\n",
       "      <td>-18.800</td>\n",
       "      <td>6.875</td>\n",
       "    </tr>\n",
       "    <tr>\n",
       "      <th>25</th>\n",
       "      <td>2023-08-13 15:00:00.000</td>\n",
       "      <td>1691938800000</td>\n",
       "      <td>0</td>\n",
       "      <td>1</td>\n",
       "      <td>player5</td>\n",
       "      <td>721040.0</td>\n",
       "      <td>3.0</td>\n",
       "      <td>Montpellier</td>\n",
       "      <td>37.171</td>\n",
       "      <td>9.458</td>\n",
       "      <td>Issiaga Sylla</td>\n",
       "      <td>Défenseur</td>\n",
       "      <td>0.040</td>\n",
       "      <td>2.005</td>\n",
       "    </tr>\n",
       "    <tr>\n",
       "      <th>26</th>\n",
       "      <td>2023-08-13 15:00:00.000</td>\n",
       "      <td>1691938800000</td>\n",
       "      <td>0</td>\n",
       "      <td>1</td>\n",
       "      <td>player12</td>\n",
       "      <td>822847.0</td>\n",
       "      <td>4.0</td>\n",
       "      <td>HAC</td>\n",
       "      <td>72.633</td>\n",
       "      <td>41.842</td>\n",
       "      <td>Gautier Lloris</td>\n",
       "      <td>Défenseur</td>\n",
       "      <td>1.555</td>\n",
       "      <td>-0.465</td>\n",
       "    </tr>\n",
       "    <tr>\n",
       "      <th>27</th>\n",
       "      <td>2023-08-13 15:00:00.000</td>\n",
       "      <td>1691938800000</td>\n",
       "      <td>0</td>\n",
       "      <td>1</td>\n",
       "      <td>player13</td>\n",
       "      <td>822900.0</td>\n",
       "      <td>14.0</td>\n",
       "      <td>HAC</td>\n",
       "      <td>58.841</td>\n",
       "      <td>41.173</td>\n",
       "      <td>Daler Kuzyaev</td>\n",
       "      <td>Milieu de terrain</td>\n",
       "      <td>-0.595</td>\n",
       "      <td>-0.150</td>\n",
       "    </tr>\n",
       "    <tr>\n",
       "      <th>28</th>\n",
       "      <td>2023-08-13 15:00:00.000</td>\n",
       "      <td>1691938800000</td>\n",
       "      <td>0</td>\n",
       "      <td>1</td>\n",
       "      <td>player6</td>\n",
       "      <td>871545.0</td>\n",
       "      <td>77.0</td>\n",
       "      <td>Montpellier</td>\n",
       "      <td>40.228</td>\n",
       "      <td>57.474</td>\n",
       "      <td>Falaye Sacko</td>\n",
       "      <td>Défenseur</td>\n",
       "      <td>-0.320</td>\n",
       "      <td>1.050</td>\n",
       "    </tr>\n",
       "    <tr>\n",
       "      <th>...</th>\n",
       "      <td>...</td>\n",
       "      <td>...</td>\n",
       "      <td>...</td>\n",
       "      <td>...</td>\n",
       "      <td>...</td>\n",
       "      <td>...</td>\n",
       "      <td>...</td>\n",
       "      <td>...</td>\n",
       "      <td>...</td>\n",
       "      <td>...</td>\n",
       "      <td>...</td>\n",
       "      <td>...</td>\n",
       "      <td>...</td>\n",
       "      <td>...</td>\n",
       "    </tr>\n",
       "    <tr>\n",
       "      <th>1437910</th>\n",
       "      <td>2023-08-13 16:52:05.900</td>\n",
       "      <td>1691945525900</td>\n",
       "      <td>3125900</td>\n",
       "      <td>2</td>\n",
       "      <td>player17</td>\n",
       "      <td>1270414.0</td>\n",
       "      <td>5.0</td>\n",
       "      <td>HAC</td>\n",
       "      <td>46.086</td>\n",
       "      <td>20.009</td>\n",
       "      <td>Oussama Targhalline</td>\n",
       "      <td>Milieu de terrain</td>\n",
       "      <td>NaN</td>\n",
       "      <td>NaN</td>\n",
       "    </tr>\n",
       "    <tr>\n",
       "      <th>1437909</th>\n",
       "      <td>2023-08-13 16:52:05.900</td>\n",
       "      <td>1691945525900</td>\n",
       "      <td>3125900</td>\n",
       "      <td>2</td>\n",
       "      <td>player9</td>\n",
       "      <td>1344673.0</td>\n",
       "      <td>22.0</td>\n",
       "      <td>Montpellier</td>\n",
       "      <td>46.558</td>\n",
       "      <td>28.852</td>\n",
       "      <td>Khalil Fayad</td>\n",
       "      <td>Milieu de terrain</td>\n",
       "      <td>NaN</td>\n",
       "      <td>NaN</td>\n",
       "    </tr>\n",
       "    <tr>\n",
       "      <th>1437953</th>\n",
       "      <td>2023-08-13 16:52:05.900</td>\n",
       "      <td>1691945525900</td>\n",
       "      <td>3125900</td>\n",
       "      <td>2</td>\n",
       "      <td>goal</td>\n",
       "      <td>NaN</td>\n",
       "      <td>NaN</td>\n",
       "      <td>NaN</td>\n",
       "      <td>NaN</td>\n",
       "      <td>NaN</td>\n",
       "      <td>NaN</td>\n",
       "      <td>NaN</td>\n",
       "      <td>NaN</td>\n",
       "      <td>NaN</td>\n",
       "    </tr>\n",
       "    <tr>\n",
       "      <th>1437929</th>\n",
       "      <td>2023-08-13 16:52:05.900</td>\n",
       "      <td>1691945525900</td>\n",
       "      <td>3125900</td>\n",
       "      <td>2</td>\n",
       "      <td>player3</td>\n",
       "      <td>901295.0</td>\n",
       "      <td>4.0</td>\n",
       "      <td>Montpellier</td>\n",
       "      <td>75.691</td>\n",
       "      <td>40.296</td>\n",
       "      <td>Boubakar Dit Kiki Kouyate</td>\n",
       "      <td>Défenseur</td>\n",
       "      <td>NaN</td>\n",
       "      <td>NaN</td>\n",
       "    </tr>\n",
       "    <tr>\n",
       "      <th>1437947</th>\n",
       "      <td>2023-08-13 16:52:05.900</td>\n",
       "      <td>1691945525900</td>\n",
       "      <td>3125900</td>\n",
       "      <td>2</td>\n",
       "      <td>player16</td>\n",
       "      <td>1268707.0</td>\n",
       "      <td>93.0</td>\n",
       "      <td>HAC</td>\n",
       "      <td>33.187</td>\n",
       "      <td>25.335</td>\n",
       "      <td>Arouna Sangante</td>\n",
       "      <td>Défenseur</td>\n",
       "      <td>NaN</td>\n",
       "      <td>NaN</td>\n",
       "    </tr>\n",
       "  </tbody>\n",
       "</table>\n",
       "<p>1448373 rows × 14 columns</p>\n",
       "</div>"
      ],
      "text/plain": [
       "                       datetime    system_time    frame  period    player  \\\n",
       "0       2023-08-13 15:00:00.000  1691938800000        0       1      ball   \n",
       "25      2023-08-13 15:00:00.000  1691938800000        0       1   player5   \n",
       "26      2023-08-13 15:00:00.000  1691938800000        0       1  player12   \n",
       "27      2023-08-13 15:00:00.000  1691938800000        0       1  player13   \n",
       "28      2023-08-13 15:00:00.000  1691938800000        0       1   player6   \n",
       "...                         ...            ...      ...     ...       ...   \n",
       "1437910 2023-08-13 16:52:05.900  1691945525900  3125900       2  player17   \n",
       "1437909 2023-08-13 16:52:05.900  1691945525900  3125900       2   player9   \n",
       "1437953 2023-08-13 16:52:05.900  1691945525900  3125900       2      goal   \n",
       "1437929 2023-08-13 16:52:05.900  1691945525900  3125900       2   player3   \n",
       "1437947 2023-08-13 16:52:05.900  1691945525900  3125900       2  player16   \n",
       "\n",
       "                id   num         team       x       y  \\\n",
       "0              0.0  ball         ball  52.770  33.050   \n",
       "25        721040.0   3.0  Montpellier  37.171   9.458   \n",
       "26        822847.0   4.0          HAC  72.633  41.842   \n",
       "27        822900.0  14.0          HAC  58.841  41.173   \n",
       "28        871545.0  77.0  Montpellier  40.228  57.474   \n",
       "...            ...   ...          ...     ...     ...   \n",
       "1437910  1270414.0   5.0          HAC  46.086  20.009   \n",
       "1437909  1344673.0  22.0  Montpellier  46.558  28.852   \n",
       "1437953        NaN   NaN          NaN     NaN     NaN   \n",
       "1437929   901295.0   4.0  Montpellier  75.691  40.296   \n",
       "1437947  1268707.0  93.0          HAC  33.187  25.335   \n",
       "\n",
       "                       player_name               role      Gx     Gy  \n",
       "0                             ball               ball -18.800  6.875  \n",
       "25                   Issiaga Sylla          Défenseur   0.040  2.005  \n",
       "26                  Gautier Lloris          Défenseur   1.555 -0.465  \n",
       "27                   Daler Kuzyaev  Milieu de terrain  -0.595 -0.150  \n",
       "28                    Falaye Sacko          Défenseur  -0.320  1.050  \n",
       "...                            ...                ...     ...    ...  \n",
       "1437910        Oussama Targhalline  Milieu de terrain     NaN    NaN  \n",
       "1437909               Khalil Fayad  Milieu de terrain     NaN    NaN  \n",
       "1437953                        NaN                NaN     NaN    NaN  \n",
       "1437929  Boubakar Dit Kiki Kouyate          Défenseur     NaN    NaN  \n",
       "1437947            Arouna Sangante          Défenseur     NaN    NaN  \n",
       "\n",
       "[1448373 rows x 14 columns]"
      ]
     },
     "execution_count": 5,
     "metadata": {},
     "output_type": "execute_result"
    }
   ],
   "source": [
    "tracking"
   ]
  },
  {
   "cell_type": "markdown",
   "metadata": {},
   "source": [
    "# Joueur spécifique"
   ]
  },
  {
   "cell_type": "code",
   "execution_count": 6,
   "metadata": {},
   "outputs": [
    {
     "data": {
      "application/vnd.plotly.v1+json": {
       "config": {
        "plotlyServerURL": "https://plot.ly"
       },
       "data": [
        {
         "hoverinfo": "text",
         "line": {
          "color": "purple",
          "width": 2
         },
         "marker": {
          "size": 5
         },
         "mode": "lines+markers",
         "name": "Issa Soumaré to Rassoul N'Diaye",
         "text": "De: Issa Soumaré<br>À: Rassoul N'Diaye<br>X: 113.3 -> 104.0<br>Y: 58.6 -> 57.5",
         "type": "scatter",
         "x": [
          113.3,
          104
         ],
         "y": [
          58.6,
          57.5
         ]
        },
        {
         "hoverinfo": "text",
         "line": {
          "color": "purple",
          "width": 2
         },
         "marker": {
          "size": 5
         },
         "mode": "lines+markers",
         "name": "Issa Soumaré to Nabil Alioui",
         "text": "De: Issa Soumaré<br>À: Nabil Alioui<br>X: 84.2 -> 92.3<br>Y: 77.8 -> 61.1",
         "type": "scatter",
         "x": [
          84.2,
          92.3
         ],
         "y": [
          77.8,
          61.1
         ]
        },
        {
         "hoverinfo": "text",
         "line": {
          "color": "purple",
          "width": 2
         },
         "marker": {
          "size": 5
         },
         "mode": "lines+markers",
         "name": "Issa Soumaré to Rassoul N'Diaye",
         "text": "De: Issa Soumaré<br>À: Rassoul N'Diaye<br>X: 62.2 -> 67.0<br>Y: 79.6 -> 74.9",
         "type": "scatter",
         "x": [
          62.2,
          67
         ],
         "y": [
          79.6,
          74.9
         ]
        },
        {
         "hoverinfo": "text",
         "line": {
          "color": "purple",
          "width": 2
         },
         "marker": {
          "size": 5
         },
         "mode": "lines+markers",
         "name": "Issa Soumaré to Nabil Alioui",
         "text": "De: Issa Soumaré<br>À: Nabil Alioui<br>X: 99.0 -> 102.5<br>Y: 63.4 -> 39.6",
         "type": "scatter",
         "x": [
          99,
          102.5
         ],
         "y": [
          63.4,
          39.6
         ]
        },
        {
         "hoverinfo": "text",
         "line": {
          "color": "purple",
          "width": 2
         },
         "marker": {
          "size": 5
         },
         "mode": "lines+markers",
         "name": "Issa Soumaré to Nabil Alioui",
         "text": "De: Issa Soumaré<br>À: Nabil Alioui<br>X: 93.4 -> 105.0<br>Y: 39.8 -> 13.3",
         "type": "scatter",
         "x": [
          93.4,
          105
         ],
         "y": [
          39.8,
          13.3
         ]
        },
        {
         "hoverinfo": "text",
         "line": {
          "color": "purple",
          "width": 2
         },
         "marker": {
          "size": 5
         },
         "mode": "lines+markers",
         "name": "Issa Soumaré to Nabil Alioui",
         "text": "De: Issa Soumaré<br>À: Nabil Alioui<br>X: 86.4 -> 91.4<br>Y: 28.9 -> 32.1",
         "type": "scatter",
         "x": [
          86.4,
          91.4
         ],
         "y": [
          28.9,
          32.1
         ]
        },
        {
         "hoverinfo": "text",
         "line": {
          "color": "purple",
          "width": 2
         },
         "marker": {
          "size": 5
         },
         "mode": "lines+markers",
         "name": "Issa Soumaré to Nabil Alioui",
         "text": "De: Issa Soumaré<br>À: Nabil Alioui<br>X: 90.3 -> 95.9<br>Y: 19.4 -> 30.5",
         "type": "scatter",
         "x": [
          90.3,
          95.9
         ],
         "y": [
          19.4,
          30.5
         ]
        },
        {
         "hoverinfo": "text",
         "line": {
          "color": "purple",
          "width": 2
         },
         "marker": {
          "size": 5
         },
         "mode": "lines+markers",
         "name": "Issa Soumaré to Yoann Salmier",
         "text": "De: Issa Soumaré<br>À: Yoann Salmier<br>X: 52.3 -> 36.7<br>Y: 27.3 -> 42.7",
         "type": "scatter",
         "x": [
          52.3,
          36.7
         ],
         "y": [
          27.3,
          42.7
         ]
        },
        {
         "hoverinfo": "text",
         "line": {
          "color": "purple",
          "width": 2
         },
         "marker": {
          "size": 5
         },
         "mode": "lines+markers",
         "name": "Issa Soumaré to Nabil Alioui",
         "text": "De: Issa Soumaré<br>À: Nabil Alioui<br>X: 53.6 -> 55.6<br>Y: 79.4 -> 69.2",
         "type": "scatter",
         "x": [
          53.6,
          55.6
         ],
         "y": [
          79.4,
          69.2
         ]
        },
        {
         "hoverinfo": "text",
         "line": {
          "color": "purple",
          "width": 2
         },
         "marker": {
          "size": 5
         },
         "mode": "lines+markers",
         "name": "Issa Soumaré to Nabil Alioui",
         "text": "De: Issa Soumaré<br>À: Nabil Alioui<br>X: 91.6 -> 110.4<br>Y: 63.7 -> 37.5",
         "type": "scatter",
         "x": [
          91.6,
          110.4
         ],
         "y": [
          63.7,
          37.5
         ]
        },
        {
         "hoverinfo": "text",
         "line": {
          "color": "purple",
          "width": 2
         },
         "marker": {
          "size": 5
         },
         "mode": "lines+markers",
         "name": "Issa Soumaré to Nabil Alioui",
         "text": "De: Issa Soumaré<br>À: Nabil Alioui<br>X: 80.8 -> 100.4<br>Y: 12.4 -> 29.6",
         "type": "scatter",
         "x": [
          80.8,
          100.4
         ],
         "y": [
          12.4,
          29.6
         ]
        },
        {
         "hoverinfo": "text",
         "line": {
          "color": "purple",
          "width": 2
         },
         "marker": {
          "size": 5
         },
         "mode": "lines+markers",
         "name": "Issa Soumaré to Nabil Alioui",
         "text": "De: Issa Soumaré<br>À: Nabil Alioui<br>X: 82.6 -> 86.4<br>Y: 7.7 -> 22.2",
         "type": "scatter",
         "x": [
          82.6,
          86.4
         ],
         "y": [
          7.7,
          22.2
         ]
        },
        {
         "hoverinfo": "text",
         "line": {
          "color": "purple",
          "width": 2
         },
         "marker": {
          "size": 5
         },
         "mode": "lines+markers",
         "name": "Issa Soumaré to Nabil Alioui",
         "text": "De: Issa Soumaré<br>À: Nabil Alioui<br>X: 91.6 -> 94.6<br>Y: 23.5 -> 15.1",
         "type": "scatter",
         "x": [
          91.6,
          94.6
         ],
         "y": [
          23.5,
          15.1
         ]
        }
       ],
       "layout": {
        "annotations": [
         {
          "arrowcolor": "purple",
          "arrowhead": 3,
          "arrowsize": 1,
          "arrowwidth": 2,
          "ax": 113.3,
          "axref": "x",
          "ay": 58.6,
          "ayref": "y",
          "showarrow": true,
          "x": 104,
          "xref": "x",
          "y": 57.5,
          "yref": "y"
         },
         {
          "arrowcolor": "purple",
          "arrowhead": 3,
          "arrowsize": 1,
          "arrowwidth": 2,
          "ax": 84.2,
          "axref": "x",
          "ay": 77.8,
          "ayref": "y",
          "showarrow": true,
          "x": 92.3,
          "xref": "x",
          "y": 61.1,
          "yref": "y"
         },
         {
          "arrowcolor": "purple",
          "arrowhead": 3,
          "arrowsize": 1,
          "arrowwidth": 2,
          "ax": 62.2,
          "axref": "x",
          "ay": 79.6,
          "ayref": "y",
          "showarrow": true,
          "x": 67,
          "xref": "x",
          "y": 74.9,
          "yref": "y"
         },
         {
          "arrowcolor": "purple",
          "arrowhead": 3,
          "arrowsize": 1,
          "arrowwidth": 2,
          "ax": 99,
          "axref": "x",
          "ay": 63.4,
          "ayref": "y",
          "showarrow": true,
          "x": 102.5,
          "xref": "x",
          "y": 39.6,
          "yref": "y"
         },
         {
          "arrowcolor": "purple",
          "arrowhead": 3,
          "arrowsize": 1,
          "arrowwidth": 2,
          "ax": 93.4,
          "axref": "x",
          "ay": 39.8,
          "ayref": "y",
          "showarrow": true,
          "x": 105,
          "xref": "x",
          "y": 13.3,
          "yref": "y"
         },
         {
          "arrowcolor": "purple",
          "arrowhead": 3,
          "arrowsize": 1,
          "arrowwidth": 2,
          "ax": 86.4,
          "axref": "x",
          "ay": 28.9,
          "ayref": "y",
          "showarrow": true,
          "x": 91.4,
          "xref": "x",
          "y": 32.1,
          "yref": "y"
         },
         {
          "arrowcolor": "purple",
          "arrowhead": 3,
          "arrowsize": 1,
          "arrowwidth": 2,
          "ax": 90.3,
          "axref": "x",
          "ay": 19.4,
          "ayref": "y",
          "showarrow": true,
          "x": 95.9,
          "xref": "x",
          "y": 30.5,
          "yref": "y"
         },
         {
          "arrowcolor": "purple",
          "arrowhead": 3,
          "arrowsize": 1,
          "arrowwidth": 2,
          "ax": 52.3,
          "axref": "x",
          "ay": 27.3,
          "ayref": "y",
          "showarrow": true,
          "x": 36.7,
          "xref": "x",
          "y": 42.7,
          "yref": "y"
         },
         {
          "arrowcolor": "purple",
          "arrowhead": 3,
          "arrowsize": 1,
          "arrowwidth": 2,
          "ax": 53.6,
          "axref": "x",
          "ay": 79.4,
          "ayref": "y",
          "showarrow": true,
          "x": 55.6,
          "xref": "x",
          "y": 69.2,
          "yref": "y"
         },
         {
          "arrowcolor": "purple",
          "arrowhead": 3,
          "arrowsize": 1,
          "arrowwidth": 2,
          "ax": 91.6,
          "axref": "x",
          "ay": 63.7,
          "ayref": "y",
          "showarrow": true,
          "x": 110.4,
          "xref": "x",
          "y": 37.5,
          "yref": "y"
         },
         {
          "arrowcolor": "purple",
          "arrowhead": 3,
          "arrowsize": 1,
          "arrowwidth": 2,
          "ax": 80.8,
          "axref": "x",
          "ay": 12.4,
          "ayref": "y",
          "showarrow": true,
          "x": 100.4,
          "xref": "x",
          "y": 29.6,
          "yref": "y"
         },
         {
          "arrowcolor": "purple",
          "arrowhead": 3,
          "arrowsize": 1,
          "arrowwidth": 2,
          "ax": 82.6,
          "axref": "x",
          "ay": 7.7,
          "ayref": "y",
          "showarrow": true,
          "x": 86.4,
          "xref": "x",
          "y": 22.2,
          "yref": "y"
         },
         {
          "arrowcolor": "purple",
          "arrowhead": 3,
          "arrowsize": 1,
          "arrowwidth": 2,
          "ax": 91.6,
          "axref": "x",
          "ay": 23.5,
          "ayref": "y",
          "showarrow": true,
          "x": 94.6,
          "xref": "x",
          "y": 15.1,
          "yref": "y"
         }
        ],
        "height": 700,
        "shapes": [
         {
          "line": {
           "color": "Black"
          },
          "type": "rect",
          "x0": 0,
          "x1": 120,
          "y0": 0,
          "y1": 80
         },
         {
          "line": {
           "color": "Black",
           "dash": "dot"
          },
          "type": "line",
          "x0": 60,
          "x1": 60,
          "y0": 0,
          "y1": 80
         },
         {
          "line": {
           "color": "Black"
          },
          "type": "rect",
          "x0": 0,
          "x1": 18,
          "y0": 18,
          "y1": 62
         },
         {
          "line": {
           "color": "Black"
          },
          "type": "rect",
          "x0": 102,
          "x1": 120,
          "y0": 18,
          "y1": 62
         },
         {
          "line": {
           "color": "Black"
          },
          "type": "rect",
          "x0": 0,
          "x1": 5.5,
          "y0": 30,
          "y1": 50
         },
         {
          "line": {
           "color": "Black"
          },
          "type": "rect",
          "x0": 114.5,
          "x1": 120,
          "y0": 30,
          "y1": 50
         },
         {
          "line": {
           "color": "Black"
          },
          "type": "rect",
          "x0": 0,
          "x1": 2,
          "y0": 36,
          "y1": 44
         },
         {
          "line": {
           "color": "Black"
          },
          "type": "rect",
          "x0": 118,
          "x1": 120,
          "y0": 36,
          "y1": 44
         },
         {
          "line": {
           "color": "Black"
          },
          "type": "circle",
          "x0": 50.4,
          "x1": 69.6,
          "xref": "x",
          "y0": 30.4,
          "y1": 49.6,
          "yref": "y"
         }
        ],
        "template": {
         "data": {
          "bar": [
           {
            "error_x": {
             "color": "#2a3f5f"
            },
            "error_y": {
             "color": "#2a3f5f"
            },
            "marker": {
             "line": {
              "color": "#E5ECF6",
              "width": 0.5
             },
             "pattern": {
              "fillmode": "overlay",
              "size": 10,
              "solidity": 0.2
             }
            },
            "type": "bar"
           }
          ],
          "barpolar": [
           {
            "marker": {
             "line": {
              "color": "#E5ECF6",
              "width": 0.5
             },
             "pattern": {
              "fillmode": "overlay",
              "size": 10,
              "solidity": 0.2
             }
            },
            "type": "barpolar"
           }
          ],
          "carpet": [
           {
            "aaxis": {
             "endlinecolor": "#2a3f5f",
             "gridcolor": "white",
             "linecolor": "white",
             "minorgridcolor": "white",
             "startlinecolor": "#2a3f5f"
            },
            "baxis": {
             "endlinecolor": "#2a3f5f",
             "gridcolor": "white",
             "linecolor": "white",
             "minorgridcolor": "white",
             "startlinecolor": "#2a3f5f"
            },
            "type": "carpet"
           }
          ],
          "choropleth": [
           {
            "colorbar": {
             "outlinewidth": 0,
             "ticks": ""
            },
            "type": "choropleth"
           }
          ],
          "contour": [
           {
            "colorbar": {
             "outlinewidth": 0,
             "ticks": ""
            },
            "colorscale": [
             [
              0,
              "#0d0887"
             ],
             [
              0.1111111111111111,
              "#46039f"
             ],
             [
              0.2222222222222222,
              "#7201a8"
             ],
             [
              0.3333333333333333,
              "#9c179e"
             ],
             [
              0.4444444444444444,
              "#bd3786"
             ],
             [
              0.5555555555555556,
              "#d8576b"
             ],
             [
              0.6666666666666666,
              "#ed7953"
             ],
             [
              0.7777777777777778,
              "#fb9f3a"
             ],
             [
              0.8888888888888888,
              "#fdca26"
             ],
             [
              1,
              "#f0f921"
             ]
            ],
            "type": "contour"
           }
          ],
          "contourcarpet": [
           {
            "colorbar": {
             "outlinewidth": 0,
             "ticks": ""
            },
            "type": "contourcarpet"
           }
          ],
          "heatmap": [
           {
            "colorbar": {
             "outlinewidth": 0,
             "ticks": ""
            },
            "colorscale": [
             [
              0,
              "#0d0887"
             ],
             [
              0.1111111111111111,
              "#46039f"
             ],
             [
              0.2222222222222222,
              "#7201a8"
             ],
             [
              0.3333333333333333,
              "#9c179e"
             ],
             [
              0.4444444444444444,
              "#bd3786"
             ],
             [
              0.5555555555555556,
              "#d8576b"
             ],
             [
              0.6666666666666666,
              "#ed7953"
             ],
             [
              0.7777777777777778,
              "#fb9f3a"
             ],
             [
              0.8888888888888888,
              "#fdca26"
             ],
             [
              1,
              "#f0f921"
             ]
            ],
            "type": "heatmap"
           }
          ],
          "heatmapgl": [
           {
            "colorbar": {
             "outlinewidth": 0,
             "ticks": ""
            },
            "colorscale": [
             [
              0,
              "#0d0887"
             ],
             [
              0.1111111111111111,
              "#46039f"
             ],
             [
              0.2222222222222222,
              "#7201a8"
             ],
             [
              0.3333333333333333,
              "#9c179e"
             ],
             [
              0.4444444444444444,
              "#bd3786"
             ],
             [
              0.5555555555555556,
              "#d8576b"
             ],
             [
              0.6666666666666666,
              "#ed7953"
             ],
             [
              0.7777777777777778,
              "#fb9f3a"
             ],
             [
              0.8888888888888888,
              "#fdca26"
             ],
             [
              1,
              "#f0f921"
             ]
            ],
            "type": "heatmapgl"
           }
          ],
          "histogram": [
           {
            "marker": {
             "pattern": {
              "fillmode": "overlay",
              "size": 10,
              "solidity": 0.2
             }
            },
            "type": "histogram"
           }
          ],
          "histogram2d": [
           {
            "colorbar": {
             "outlinewidth": 0,
             "ticks": ""
            },
            "colorscale": [
             [
              0,
              "#0d0887"
             ],
             [
              0.1111111111111111,
              "#46039f"
             ],
             [
              0.2222222222222222,
              "#7201a8"
             ],
             [
              0.3333333333333333,
              "#9c179e"
             ],
             [
              0.4444444444444444,
              "#bd3786"
             ],
             [
              0.5555555555555556,
              "#d8576b"
             ],
             [
              0.6666666666666666,
              "#ed7953"
             ],
             [
              0.7777777777777778,
              "#fb9f3a"
             ],
             [
              0.8888888888888888,
              "#fdca26"
             ],
             [
              1,
              "#f0f921"
             ]
            ],
            "type": "histogram2d"
           }
          ],
          "histogram2dcontour": [
           {
            "colorbar": {
             "outlinewidth": 0,
             "ticks": ""
            },
            "colorscale": [
             [
              0,
              "#0d0887"
             ],
             [
              0.1111111111111111,
              "#46039f"
             ],
             [
              0.2222222222222222,
              "#7201a8"
             ],
             [
              0.3333333333333333,
              "#9c179e"
             ],
             [
              0.4444444444444444,
              "#bd3786"
             ],
             [
              0.5555555555555556,
              "#d8576b"
             ],
             [
              0.6666666666666666,
              "#ed7953"
             ],
             [
              0.7777777777777778,
              "#fb9f3a"
             ],
             [
              0.8888888888888888,
              "#fdca26"
             ],
             [
              1,
              "#f0f921"
             ]
            ],
            "type": "histogram2dcontour"
           }
          ],
          "mesh3d": [
           {
            "colorbar": {
             "outlinewidth": 0,
             "ticks": ""
            },
            "type": "mesh3d"
           }
          ],
          "parcoords": [
           {
            "line": {
             "colorbar": {
              "outlinewidth": 0,
              "ticks": ""
             }
            },
            "type": "parcoords"
           }
          ],
          "pie": [
           {
            "automargin": true,
            "type": "pie"
           }
          ],
          "scatter": [
           {
            "fillpattern": {
             "fillmode": "overlay",
             "size": 10,
             "solidity": 0.2
            },
            "type": "scatter"
           }
          ],
          "scatter3d": [
           {
            "line": {
             "colorbar": {
              "outlinewidth": 0,
              "ticks": ""
             }
            },
            "marker": {
             "colorbar": {
              "outlinewidth": 0,
              "ticks": ""
             }
            },
            "type": "scatter3d"
           }
          ],
          "scattercarpet": [
           {
            "marker": {
             "colorbar": {
              "outlinewidth": 0,
              "ticks": ""
             }
            },
            "type": "scattercarpet"
           }
          ],
          "scattergeo": [
           {
            "marker": {
             "colorbar": {
              "outlinewidth": 0,
              "ticks": ""
             }
            },
            "type": "scattergeo"
           }
          ],
          "scattergl": [
           {
            "marker": {
             "colorbar": {
              "outlinewidth": 0,
              "ticks": ""
             }
            },
            "type": "scattergl"
           }
          ],
          "scattermapbox": [
           {
            "marker": {
             "colorbar": {
              "outlinewidth": 0,
              "ticks": ""
             }
            },
            "type": "scattermapbox"
           }
          ],
          "scatterpolar": [
           {
            "marker": {
             "colorbar": {
              "outlinewidth": 0,
              "ticks": ""
             }
            },
            "type": "scatterpolar"
           }
          ],
          "scatterpolargl": [
           {
            "marker": {
             "colorbar": {
              "outlinewidth": 0,
              "ticks": ""
             }
            },
            "type": "scatterpolargl"
           }
          ],
          "scatterternary": [
           {
            "marker": {
             "colorbar": {
              "outlinewidth": 0,
              "ticks": ""
             }
            },
            "type": "scatterternary"
           }
          ],
          "surface": [
           {
            "colorbar": {
             "outlinewidth": 0,
             "ticks": ""
            },
            "colorscale": [
             [
              0,
              "#0d0887"
             ],
             [
              0.1111111111111111,
              "#46039f"
             ],
             [
              0.2222222222222222,
              "#7201a8"
             ],
             [
              0.3333333333333333,
              "#9c179e"
             ],
             [
              0.4444444444444444,
              "#bd3786"
             ],
             [
              0.5555555555555556,
              "#d8576b"
             ],
             [
              0.6666666666666666,
              "#ed7953"
             ],
             [
              0.7777777777777778,
              "#fb9f3a"
             ],
             [
              0.8888888888888888,
              "#fdca26"
             ],
             [
              1,
              "#f0f921"
             ]
            ],
            "type": "surface"
           }
          ],
          "table": [
           {
            "cells": {
             "fill": {
              "color": "#EBF0F8"
             },
             "line": {
              "color": "white"
             }
            },
            "header": {
             "fill": {
              "color": "#C8D4E3"
             },
             "line": {
              "color": "white"
             }
            },
            "type": "table"
           }
          ]
         },
         "layout": {
          "annotationdefaults": {
           "arrowcolor": "#2a3f5f",
           "arrowhead": 0,
           "arrowwidth": 1
          },
          "autotypenumbers": "strict",
          "coloraxis": {
           "colorbar": {
            "outlinewidth": 0,
            "ticks": ""
           }
          },
          "colorscale": {
           "diverging": [
            [
             0,
             "#8e0152"
            ],
            [
             0.1,
             "#c51b7d"
            ],
            [
             0.2,
             "#de77ae"
            ],
            [
             0.3,
             "#f1b6da"
            ],
            [
             0.4,
             "#fde0ef"
            ],
            [
             0.5,
             "#f7f7f7"
            ],
            [
             0.6,
             "#e6f5d0"
            ],
            [
             0.7,
             "#b8e186"
            ],
            [
             0.8,
             "#7fbc41"
            ],
            [
             0.9,
             "#4d9221"
            ],
            [
             1,
             "#276419"
            ]
           ],
           "sequential": [
            [
             0,
             "#0d0887"
            ],
            [
             0.1111111111111111,
             "#46039f"
            ],
            [
             0.2222222222222222,
             "#7201a8"
            ],
            [
             0.3333333333333333,
             "#9c179e"
            ],
            [
             0.4444444444444444,
             "#bd3786"
            ],
            [
             0.5555555555555556,
             "#d8576b"
            ],
            [
             0.6666666666666666,
             "#ed7953"
            ],
            [
             0.7777777777777778,
             "#fb9f3a"
            ],
            [
             0.8888888888888888,
             "#fdca26"
            ],
            [
             1,
             "#f0f921"
            ]
           ],
           "sequentialminus": [
            [
             0,
             "#0d0887"
            ],
            [
             0.1111111111111111,
             "#46039f"
            ],
            [
             0.2222222222222222,
             "#7201a8"
            ],
            [
             0.3333333333333333,
             "#9c179e"
            ],
            [
             0.4444444444444444,
             "#bd3786"
            ],
            [
             0.5555555555555556,
             "#d8576b"
            ],
            [
             0.6666666666666666,
             "#ed7953"
            ],
            [
             0.7777777777777778,
             "#fb9f3a"
            ],
            [
             0.8888888888888888,
             "#fdca26"
            ],
            [
             1,
             "#f0f921"
            ]
           ]
          },
          "colorway": [
           "#636efa",
           "#EF553B",
           "#00cc96",
           "#ab63fa",
           "#FFA15A",
           "#19d3f3",
           "#FF6692",
           "#B6E880",
           "#FF97FF",
           "#FECB52"
          ],
          "font": {
           "color": "#2a3f5f"
          },
          "geo": {
           "bgcolor": "white",
           "lakecolor": "white",
           "landcolor": "#E5ECF6",
           "showlakes": true,
           "showland": true,
           "subunitcolor": "white"
          },
          "hoverlabel": {
           "align": "left"
          },
          "hovermode": "closest",
          "mapbox": {
           "style": "light"
          },
          "paper_bgcolor": "white",
          "plot_bgcolor": "#E5ECF6",
          "polar": {
           "angularaxis": {
            "gridcolor": "white",
            "linecolor": "white",
            "ticks": ""
           },
           "bgcolor": "#E5ECF6",
           "radialaxis": {
            "gridcolor": "white",
            "linecolor": "white",
            "ticks": ""
           }
          },
          "scene": {
           "xaxis": {
            "backgroundcolor": "#E5ECF6",
            "gridcolor": "white",
            "gridwidth": 2,
            "linecolor": "white",
            "showbackground": true,
            "ticks": "",
            "zerolinecolor": "white"
           },
           "yaxis": {
            "backgroundcolor": "#E5ECF6",
            "gridcolor": "white",
            "gridwidth": 2,
            "linecolor": "white",
            "showbackground": true,
            "ticks": "",
            "zerolinecolor": "white"
           },
           "zaxis": {
            "backgroundcolor": "#E5ECF6",
            "gridcolor": "white",
            "gridwidth": 2,
            "linecolor": "white",
            "showbackground": true,
            "ticks": "",
            "zerolinecolor": "white"
           }
          },
          "shapedefaults": {
           "line": {
            "color": "#2a3f5f"
           }
          },
          "ternary": {
           "aaxis": {
            "gridcolor": "white",
            "linecolor": "white",
            "ticks": ""
           },
           "baxis": {
            "gridcolor": "white",
            "linecolor": "white",
            "ticks": ""
           },
           "bgcolor": "#E5ECF6",
           "caxis": {
            "gridcolor": "white",
            "linecolor": "white",
            "ticks": ""
           }
          },
          "title": {
           "x": 0.05
          },
          "xaxis": {
           "automargin": true,
           "gridcolor": "white",
           "linecolor": "white",
           "ticks": "",
           "title": {
            "standoff": 15
           },
           "zerolinecolor": "white",
           "zerolinewidth": 2
          },
          "yaxis": {
           "automargin": true,
           "gridcolor": "white",
           "linecolor": "white",
           "ticks": "",
           "title": {
            "standoff": 15
           },
           "zerolinecolor": "white",
           "zerolinewidth": 2
          }
         }
        },
        "title": {
         "text": "Les passes de Issa Soumaré durant la 1 période de jeu"
        },
        "width": 1000,
        "xaxis": {
         "range": [
          0,
          120
         ],
         "showgrid": false,
         "zeroline": false
        },
        "yaxis": {
         "autorange": "reversed",
         "range": [
          0,
          80
         ],
         "showgrid": false,
         "zeroline": false
        }
       }
      }
     },
     "metadata": {},
     "output_type": "display_data"
    }
   ],
   "source": [
    "passes_player(df_passes, 'Le Havre', 1, 'Issa Soumaré')"
   ]
  },
  {
   "cell_type": "markdown",
   "metadata": {},
   "source": [
    "# Passes entre deux joueurs à la demande de l'entraîneur"
   ]
  },
  {
   "cell_type": "code",
   "execution_count": 11,
   "metadata": {},
   "outputs": [
    {
     "data": {
      "application/vnd.plotly.v1+json": {
       "config": {
        "plotlyServerURL": "https://plot.ly"
       },
       "data": [
        {
         "hoverinfo": "text",
         "line": {
          "color": "purple",
          "width": 2
         },
         "marker": {
          "size": 5
         },
         "mode": "lines+markers",
         "name": "Téji Savanier to Falaye Sacko",
         "text": "De: Téji Savanier<br>À: Falaye Sacko<br>X: 31.7 -> 26.4<br>Y: 70.9 -> 72.9",
         "type": "scatter",
         "x": [
          31.7,
          26.4
         ],
         "y": [
          70.9,
          72.9
         ]
        },
        {
         "hoverinfo": "text",
         "line": {
          "color": "purple",
          "width": 2
         },
         "marker": {
          "size": 5
         },
         "mode": "lines+markers",
         "name": "Téji Savanier to Falaye Sacko",
         "text": "De: Téji Savanier<br>À: Falaye Sacko<br>X: 51.6 -> 35.3<br>Y: 43.9 -> 64.3",
         "type": "scatter",
         "x": [
          51.6,
          35.3
         ],
         "y": [
          43.9,
          64.3
         ]
        },
        {
         "hoverinfo": "text",
         "line": {
          "color": "purple",
          "width": 2
         },
         "marker": {
          "size": 5
         },
         "mode": "lines+markers",
         "name": "Téji Savanier to Falaye Sacko",
         "text": "De: Téji Savanier<br>À: Falaye Sacko<br>X: 37.1 -> 28.3<br>Y: 49.3 -> 58.4",
         "type": "scatter",
         "x": [
          37.1,
          28.3
         ],
         "y": [
          49.3,
          58.4
         ]
        },
        {
         "hoverinfo": "text",
         "line": {
          "color": "purple",
          "width": 2
         },
         "marker": {
          "size": 5
         },
         "mode": "lines+markers",
         "name": "Téji Savanier to Falaye Sacko",
         "text": "De: Téji Savanier<br>À: Falaye Sacko<br>X: 36.2 -> 22.1<br>Y: 58.6 -> 60.7",
         "type": "scatter",
         "x": [
          36.2,
          22.1
         ],
         "y": [
          58.6,
          60.7
         ]
        },
        {
         "hoverinfo": "text",
         "line": {
          "color": "purple",
          "width": 2
         },
         "marker": {
          "size": 5
         },
         "mode": "lines+markers",
         "name": "Téji Savanier to Falaye Sacko",
         "text": "De: Téji Savanier<br>À: Falaye Sacko<br>X: 37.6 -> 33.9<br>Y: 59.1 -> 70.2",
         "type": "scatter",
         "x": [
          37.6,
          33.9
         ],
         "y": [
          59.1,
          70.2
         ]
        },
        {
         "hoverinfo": "text",
         "line": {
          "color": "purple",
          "width": 2
         },
         "marker": {
          "size": 5
         },
         "mode": "lines+markers",
         "name": "Téji Savanier to Falaye Sacko",
         "text": "De: Téji Savanier<br>À: Falaye Sacko<br>X: 68.1 -> 75.8<br>Y: 17.9 -> 54.5",
         "type": "scatter",
         "x": [
          68.1,
          75.8
         ],
         "y": [
          17.9,
          54.5
         ]
        }
       ],
       "layout": {
        "annotations": [
         {
          "arrowcolor": "purple",
          "arrowhead": 3,
          "arrowsize": 1,
          "arrowwidth": 2,
          "ax": 31.7,
          "axref": "x",
          "ay": 70.9,
          "ayref": "y",
          "showarrow": true,
          "x": 26.4,
          "xref": "x",
          "y": 72.9,
          "yref": "y"
         },
         {
          "arrowcolor": "purple",
          "arrowhead": 3,
          "arrowsize": 1,
          "arrowwidth": 2,
          "ax": 51.6,
          "axref": "x",
          "ay": 43.9,
          "ayref": "y",
          "showarrow": true,
          "x": 35.3,
          "xref": "x",
          "y": 64.3,
          "yref": "y"
         },
         {
          "arrowcolor": "purple",
          "arrowhead": 3,
          "arrowsize": 1,
          "arrowwidth": 2,
          "ax": 37.1,
          "axref": "x",
          "ay": 49.3,
          "ayref": "y",
          "showarrow": true,
          "x": 28.3,
          "xref": "x",
          "y": 58.4,
          "yref": "y"
         },
         {
          "arrowcolor": "purple",
          "arrowhead": 3,
          "arrowsize": 1,
          "arrowwidth": 2,
          "ax": 36.2,
          "axref": "x",
          "ay": 58.6,
          "ayref": "y",
          "showarrow": true,
          "x": 22.1,
          "xref": "x",
          "y": 60.7,
          "yref": "y"
         },
         {
          "arrowcolor": "purple",
          "arrowhead": 3,
          "arrowsize": 1,
          "arrowwidth": 2,
          "ax": 37.6,
          "axref": "x",
          "ay": 59.1,
          "ayref": "y",
          "showarrow": true,
          "x": 33.9,
          "xref": "x",
          "y": 70.2,
          "yref": "y"
         },
         {
          "arrowcolor": "purple",
          "arrowhead": 3,
          "arrowsize": 1,
          "arrowwidth": 2,
          "ax": 68.1,
          "axref": "x",
          "ay": 17.9,
          "ayref": "y",
          "showarrow": true,
          "x": 75.8,
          "xref": "x",
          "y": 54.5,
          "yref": "y"
         }
        ],
        "height": 700,
        "shapes": [
         {
          "line": {
           "color": "Black"
          },
          "type": "rect",
          "x0": 0,
          "x1": 120,
          "y0": 0,
          "y1": 80
         },
         {
          "line": {
           "color": "Black",
           "dash": "dot"
          },
          "type": "line",
          "x0": 60,
          "x1": 60,
          "y0": 0,
          "y1": 80
         },
         {
          "line": {
           "color": "Black"
          },
          "type": "rect",
          "x0": 0,
          "x1": 18,
          "y0": 18,
          "y1": 62
         },
         {
          "line": {
           "color": "Black"
          },
          "type": "rect",
          "x0": 102,
          "x1": 120,
          "y0": 18,
          "y1": 62
         },
         {
          "line": {
           "color": "Black"
          },
          "type": "rect",
          "x0": 0,
          "x1": 5.5,
          "y0": 30,
          "y1": 50
         },
         {
          "line": {
           "color": "Black"
          },
          "type": "rect",
          "x0": 114.5,
          "x1": 120,
          "y0": 30,
          "y1": 50
         },
         {
          "line": {
           "color": "Black"
          },
          "type": "rect",
          "x0": 0,
          "x1": 2,
          "y0": 36,
          "y1": 44
         },
         {
          "line": {
           "color": "Black"
          },
          "type": "rect",
          "x0": 118,
          "x1": 120,
          "y0": 36,
          "y1": 44
         },
         {
          "line": {
           "color": "Black"
          },
          "type": "circle",
          "x0": 50.4,
          "x1": 69.6,
          "xref": "x",
          "y0": 30.4,
          "y1": 49.6,
          "yref": "y"
         }
        ],
        "template": {
         "data": {
          "bar": [
           {
            "error_x": {
             "color": "#2a3f5f"
            },
            "error_y": {
             "color": "#2a3f5f"
            },
            "marker": {
             "line": {
              "color": "#E5ECF6",
              "width": 0.5
             },
             "pattern": {
              "fillmode": "overlay",
              "size": 10,
              "solidity": 0.2
             }
            },
            "type": "bar"
           }
          ],
          "barpolar": [
           {
            "marker": {
             "line": {
              "color": "#E5ECF6",
              "width": 0.5
             },
             "pattern": {
              "fillmode": "overlay",
              "size": 10,
              "solidity": 0.2
             }
            },
            "type": "barpolar"
           }
          ],
          "carpet": [
           {
            "aaxis": {
             "endlinecolor": "#2a3f5f",
             "gridcolor": "white",
             "linecolor": "white",
             "minorgridcolor": "white",
             "startlinecolor": "#2a3f5f"
            },
            "baxis": {
             "endlinecolor": "#2a3f5f",
             "gridcolor": "white",
             "linecolor": "white",
             "minorgridcolor": "white",
             "startlinecolor": "#2a3f5f"
            },
            "type": "carpet"
           }
          ],
          "choropleth": [
           {
            "colorbar": {
             "outlinewidth": 0,
             "ticks": ""
            },
            "type": "choropleth"
           }
          ],
          "contour": [
           {
            "colorbar": {
             "outlinewidth": 0,
             "ticks": ""
            },
            "colorscale": [
             [
              0,
              "#0d0887"
             ],
             [
              0.1111111111111111,
              "#46039f"
             ],
             [
              0.2222222222222222,
              "#7201a8"
             ],
             [
              0.3333333333333333,
              "#9c179e"
             ],
             [
              0.4444444444444444,
              "#bd3786"
             ],
             [
              0.5555555555555556,
              "#d8576b"
             ],
             [
              0.6666666666666666,
              "#ed7953"
             ],
             [
              0.7777777777777778,
              "#fb9f3a"
             ],
             [
              0.8888888888888888,
              "#fdca26"
             ],
             [
              1,
              "#f0f921"
             ]
            ],
            "type": "contour"
           }
          ],
          "contourcarpet": [
           {
            "colorbar": {
             "outlinewidth": 0,
             "ticks": ""
            },
            "type": "contourcarpet"
           }
          ],
          "heatmap": [
           {
            "colorbar": {
             "outlinewidth": 0,
             "ticks": ""
            },
            "colorscale": [
             [
              0,
              "#0d0887"
             ],
             [
              0.1111111111111111,
              "#46039f"
             ],
             [
              0.2222222222222222,
              "#7201a8"
             ],
             [
              0.3333333333333333,
              "#9c179e"
             ],
             [
              0.4444444444444444,
              "#bd3786"
             ],
             [
              0.5555555555555556,
              "#d8576b"
             ],
             [
              0.6666666666666666,
              "#ed7953"
             ],
             [
              0.7777777777777778,
              "#fb9f3a"
             ],
             [
              0.8888888888888888,
              "#fdca26"
             ],
             [
              1,
              "#f0f921"
             ]
            ],
            "type": "heatmap"
           }
          ],
          "heatmapgl": [
           {
            "colorbar": {
             "outlinewidth": 0,
             "ticks": ""
            },
            "colorscale": [
             [
              0,
              "#0d0887"
             ],
             [
              0.1111111111111111,
              "#46039f"
             ],
             [
              0.2222222222222222,
              "#7201a8"
             ],
             [
              0.3333333333333333,
              "#9c179e"
             ],
             [
              0.4444444444444444,
              "#bd3786"
             ],
             [
              0.5555555555555556,
              "#d8576b"
             ],
             [
              0.6666666666666666,
              "#ed7953"
             ],
             [
              0.7777777777777778,
              "#fb9f3a"
             ],
             [
              0.8888888888888888,
              "#fdca26"
             ],
             [
              1,
              "#f0f921"
             ]
            ],
            "type": "heatmapgl"
           }
          ],
          "histogram": [
           {
            "marker": {
             "pattern": {
              "fillmode": "overlay",
              "size": 10,
              "solidity": 0.2
             }
            },
            "type": "histogram"
           }
          ],
          "histogram2d": [
           {
            "colorbar": {
             "outlinewidth": 0,
             "ticks": ""
            },
            "colorscale": [
             [
              0,
              "#0d0887"
             ],
             [
              0.1111111111111111,
              "#46039f"
             ],
             [
              0.2222222222222222,
              "#7201a8"
             ],
             [
              0.3333333333333333,
              "#9c179e"
             ],
             [
              0.4444444444444444,
              "#bd3786"
             ],
             [
              0.5555555555555556,
              "#d8576b"
             ],
             [
              0.6666666666666666,
              "#ed7953"
             ],
             [
              0.7777777777777778,
              "#fb9f3a"
             ],
             [
              0.8888888888888888,
              "#fdca26"
             ],
             [
              1,
              "#f0f921"
             ]
            ],
            "type": "histogram2d"
           }
          ],
          "histogram2dcontour": [
           {
            "colorbar": {
             "outlinewidth": 0,
             "ticks": ""
            },
            "colorscale": [
             [
              0,
              "#0d0887"
             ],
             [
              0.1111111111111111,
              "#46039f"
             ],
             [
              0.2222222222222222,
              "#7201a8"
             ],
             [
              0.3333333333333333,
              "#9c179e"
             ],
             [
              0.4444444444444444,
              "#bd3786"
             ],
             [
              0.5555555555555556,
              "#d8576b"
             ],
             [
              0.6666666666666666,
              "#ed7953"
             ],
             [
              0.7777777777777778,
              "#fb9f3a"
             ],
             [
              0.8888888888888888,
              "#fdca26"
             ],
             [
              1,
              "#f0f921"
             ]
            ],
            "type": "histogram2dcontour"
           }
          ],
          "mesh3d": [
           {
            "colorbar": {
             "outlinewidth": 0,
             "ticks": ""
            },
            "type": "mesh3d"
           }
          ],
          "parcoords": [
           {
            "line": {
             "colorbar": {
              "outlinewidth": 0,
              "ticks": ""
             }
            },
            "type": "parcoords"
           }
          ],
          "pie": [
           {
            "automargin": true,
            "type": "pie"
           }
          ],
          "scatter": [
           {
            "fillpattern": {
             "fillmode": "overlay",
             "size": 10,
             "solidity": 0.2
            },
            "type": "scatter"
           }
          ],
          "scatter3d": [
           {
            "line": {
             "colorbar": {
              "outlinewidth": 0,
              "ticks": ""
             }
            },
            "marker": {
             "colorbar": {
              "outlinewidth": 0,
              "ticks": ""
             }
            },
            "type": "scatter3d"
           }
          ],
          "scattercarpet": [
           {
            "marker": {
             "colorbar": {
              "outlinewidth": 0,
              "ticks": ""
             }
            },
            "type": "scattercarpet"
           }
          ],
          "scattergeo": [
           {
            "marker": {
             "colorbar": {
              "outlinewidth": 0,
              "ticks": ""
             }
            },
            "type": "scattergeo"
           }
          ],
          "scattergl": [
           {
            "marker": {
             "colorbar": {
              "outlinewidth": 0,
              "ticks": ""
             }
            },
            "type": "scattergl"
           }
          ],
          "scattermapbox": [
           {
            "marker": {
             "colorbar": {
              "outlinewidth": 0,
              "ticks": ""
             }
            },
            "type": "scattermapbox"
           }
          ],
          "scatterpolar": [
           {
            "marker": {
             "colorbar": {
              "outlinewidth": 0,
              "ticks": ""
             }
            },
            "type": "scatterpolar"
           }
          ],
          "scatterpolargl": [
           {
            "marker": {
             "colorbar": {
              "outlinewidth": 0,
              "ticks": ""
             }
            },
            "type": "scatterpolargl"
           }
          ],
          "scatterternary": [
           {
            "marker": {
             "colorbar": {
              "outlinewidth": 0,
              "ticks": ""
             }
            },
            "type": "scatterternary"
           }
          ],
          "surface": [
           {
            "colorbar": {
             "outlinewidth": 0,
             "ticks": ""
            },
            "colorscale": [
             [
              0,
              "#0d0887"
             ],
             [
              0.1111111111111111,
              "#46039f"
             ],
             [
              0.2222222222222222,
              "#7201a8"
             ],
             [
              0.3333333333333333,
              "#9c179e"
             ],
             [
              0.4444444444444444,
              "#bd3786"
             ],
             [
              0.5555555555555556,
              "#d8576b"
             ],
             [
              0.6666666666666666,
              "#ed7953"
             ],
             [
              0.7777777777777778,
              "#fb9f3a"
             ],
             [
              0.8888888888888888,
              "#fdca26"
             ],
             [
              1,
              "#f0f921"
             ]
            ],
            "type": "surface"
           }
          ],
          "table": [
           {
            "cells": {
             "fill": {
              "color": "#EBF0F8"
             },
             "line": {
              "color": "white"
             }
            },
            "header": {
             "fill": {
              "color": "#C8D4E3"
             },
             "line": {
              "color": "white"
             }
            },
            "type": "table"
           }
          ]
         },
         "layout": {
          "annotationdefaults": {
           "arrowcolor": "#2a3f5f",
           "arrowhead": 0,
           "arrowwidth": 1
          },
          "autotypenumbers": "strict",
          "coloraxis": {
           "colorbar": {
            "outlinewidth": 0,
            "ticks": ""
           }
          },
          "colorscale": {
           "diverging": [
            [
             0,
             "#8e0152"
            ],
            [
             0.1,
             "#c51b7d"
            ],
            [
             0.2,
             "#de77ae"
            ],
            [
             0.3,
             "#f1b6da"
            ],
            [
             0.4,
             "#fde0ef"
            ],
            [
             0.5,
             "#f7f7f7"
            ],
            [
             0.6,
             "#e6f5d0"
            ],
            [
             0.7,
             "#b8e186"
            ],
            [
             0.8,
             "#7fbc41"
            ],
            [
             0.9,
             "#4d9221"
            ],
            [
             1,
             "#276419"
            ]
           ],
           "sequential": [
            [
             0,
             "#0d0887"
            ],
            [
             0.1111111111111111,
             "#46039f"
            ],
            [
             0.2222222222222222,
             "#7201a8"
            ],
            [
             0.3333333333333333,
             "#9c179e"
            ],
            [
             0.4444444444444444,
             "#bd3786"
            ],
            [
             0.5555555555555556,
             "#d8576b"
            ],
            [
             0.6666666666666666,
             "#ed7953"
            ],
            [
             0.7777777777777778,
             "#fb9f3a"
            ],
            [
             0.8888888888888888,
             "#fdca26"
            ],
            [
             1,
             "#f0f921"
            ]
           ],
           "sequentialminus": [
            [
             0,
             "#0d0887"
            ],
            [
             0.1111111111111111,
             "#46039f"
            ],
            [
             0.2222222222222222,
             "#7201a8"
            ],
            [
             0.3333333333333333,
             "#9c179e"
            ],
            [
             0.4444444444444444,
             "#bd3786"
            ],
            [
             0.5555555555555556,
             "#d8576b"
            ],
            [
             0.6666666666666666,
             "#ed7953"
            ],
            [
             0.7777777777777778,
             "#fb9f3a"
            ],
            [
             0.8888888888888888,
             "#fdca26"
            ],
            [
             1,
             "#f0f921"
            ]
           ]
          },
          "colorway": [
           "#636efa",
           "#EF553B",
           "#00cc96",
           "#ab63fa",
           "#FFA15A",
           "#19d3f3",
           "#FF6692",
           "#B6E880",
           "#FF97FF",
           "#FECB52"
          ],
          "font": {
           "color": "#2a3f5f"
          },
          "geo": {
           "bgcolor": "white",
           "lakecolor": "white",
           "landcolor": "#E5ECF6",
           "showlakes": true,
           "showland": true,
           "subunitcolor": "white"
          },
          "hoverlabel": {
           "align": "left"
          },
          "hovermode": "closest",
          "mapbox": {
           "style": "light"
          },
          "paper_bgcolor": "white",
          "plot_bgcolor": "#E5ECF6",
          "polar": {
           "angularaxis": {
            "gridcolor": "white",
            "linecolor": "white",
            "ticks": ""
           },
           "bgcolor": "#E5ECF6",
           "radialaxis": {
            "gridcolor": "white",
            "linecolor": "white",
            "ticks": ""
           }
          },
          "scene": {
           "xaxis": {
            "backgroundcolor": "#E5ECF6",
            "gridcolor": "white",
            "gridwidth": 2,
            "linecolor": "white",
            "showbackground": true,
            "ticks": "",
            "zerolinecolor": "white"
           },
           "yaxis": {
            "backgroundcolor": "#E5ECF6",
            "gridcolor": "white",
            "gridwidth": 2,
            "linecolor": "white",
            "showbackground": true,
            "ticks": "",
            "zerolinecolor": "white"
           },
           "zaxis": {
            "backgroundcolor": "#E5ECF6",
            "gridcolor": "white",
            "gridwidth": 2,
            "linecolor": "white",
            "showbackground": true,
            "ticks": "",
            "zerolinecolor": "white"
           }
          },
          "shapedefaults": {
           "line": {
            "color": "#2a3f5f"
           }
          },
          "ternary": {
           "aaxis": {
            "gridcolor": "white",
            "linecolor": "white",
            "ticks": ""
           },
           "baxis": {
            "gridcolor": "white",
            "linecolor": "white",
            "ticks": ""
           },
           "bgcolor": "#E5ECF6",
           "caxis": {
            "gridcolor": "white",
            "linecolor": "white",
            "ticks": ""
           }
          },
          "title": {
           "x": 0.05
          },
          "xaxis": {
           "automargin": true,
           "gridcolor": "white",
           "linecolor": "white",
           "ticks": "",
           "title": {
            "standoff": 15
           },
           "zerolinecolor": "white",
           "zerolinewidth": 2
          },
          "yaxis": {
           "automargin": true,
           "gridcolor": "white",
           "linecolor": "white",
           "ticks": "",
           "title": {
            "standoff": 15
           },
           "zerolinecolor": "white",
           "zerolinewidth": 2
          }
         }
        },
        "title": {
         "text": "Les passes entre Téji Savanier et Falaye Sacko durant la 1 période de jeu"
        },
        "width": 1000,
        "xaxis": {
         "range": [
          0,
          120
         ],
         "showgrid": false,
         "zeroline": false
        },
        "yaxis": {
         "autorange": "reversed",
         "range": [
          0,
          80
         ],
         "showgrid": false,
         "zeroline": false
        }
       }
      }
     },
     "metadata": {},
     "output_type": "display_data"
    }
   ],
   "source": [
    "Joueurs_passes(df_passes, 'Montpellier', 1, 'Téji Savanier', 'Falaye Sacko' )"
   ]
  }
 ],
 "metadata": {
  "kernelspec": {
   "display_name": "Python 3",
   "language": "python",
   "name": "python3"
  },
  "language_info": {
   "codemirror_mode": {
    "name": "ipython",
    "version": 3
   },
   "file_extension": ".py",
   "mimetype": "text/x-python",
   "name": "python",
   "nbconvert_exporter": "python",
   "pygments_lexer": "ipython3",
   "version": "3.10.12"
  },
  "orig_nbformat": 4
 },
 "nbformat": 4,
 "nbformat_minor": 2
}
