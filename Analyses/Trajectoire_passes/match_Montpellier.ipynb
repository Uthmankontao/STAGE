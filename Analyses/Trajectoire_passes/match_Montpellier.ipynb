{
 "cells": [
  {
   "cell_type": "code",
   "execution_count": 3,
   "metadata": {},
   "outputs": [
    {
     "data": {
      "text/html": [
       "<div>\n",
       "<style scoped>\n",
       "    .dataframe tbody tr th:only-of-type {\n",
       "        vertical-align: middle;\n",
       "    }\n",
       "\n",
       "    .dataframe tbody tr th {\n",
       "        vertical-align: top;\n",
       "    }\n",
       "\n",
       "    .dataframe thead th {\n",
       "        text-align: right;\n",
       "    }\n",
       "</style>\n",
       "<table border=\"1\" class=\"dataframe\">\n",
       "  <thead>\n",
       "    <tr style=\"text-align: right;\">\n",
       "      <th></th>\n",
       "      <th>datetime</th>\n",
       "      <th>team.name</th>\n",
       "      <th>period</th>\n",
       "      <th>player.name</th>\n",
       "      <th>location.x</th>\n",
       "      <th>location.y</th>\n",
       "      <th>pass.recipient.name</th>\n",
       "      <th>pass.end_location_x</th>\n",
       "      <th>pass.end_location_y</th>\n",
       "    </tr>\n",
       "  </thead>\n",
       "  <tbody>\n",
       "    <tr>\n",
       "      <th>55</th>\n",
       "      <td>2023-08-13 00:01:02.081</td>\n",
       "      <td>Montpellier</td>\n",
       "      <td>1</td>\n",
       "      <td>Falaye Sacko</td>\n",
       "      <td>70.8</td>\n",
       "      <td>69.3</td>\n",
       "      <td>Jordan Ferri</td>\n",
       "      <td>70.3</td>\n",
       "      <td>61.6</td>\n",
       "    </tr>\n",
       "    <tr>\n",
       "      <th>1667</th>\n",
       "      <td>2023-08-13 00:01:02.264</td>\n",
       "      <td>Montpellier</td>\n",
       "      <td>2</td>\n",
       "      <td>Christopher Jullien</td>\n",
       "      <td>39.5</td>\n",
       "      <td>45.7</td>\n",
       "      <td>Jordan Ferri</td>\n",
       "      <td>50.9</td>\n",
       "      <td>68.3</td>\n",
       "    </tr>\n",
       "    <tr>\n",
       "      <th>58</th>\n",
       "      <td>2023-08-13 00:01:02.842</td>\n",
       "      <td>Montpellier</td>\n",
       "      <td>1</td>\n",
       "      <td>Jordan Ferri</td>\n",
       "      <td>70.6</td>\n",
       "      <td>61.6</td>\n",
       "      <td>Moussa Al Tamari</td>\n",
       "      <td>87.1</td>\n",
       "      <td>72.7</td>\n",
       "    </tr>\n",
       "    <tr>\n",
       "      <th>62</th>\n",
       "      <td>2023-08-13 00:01:05.602</td>\n",
       "      <td>Montpellier</td>\n",
       "      <td>1</td>\n",
       "      <td>Moussa Al Tamari</td>\n",
       "      <td>91.4</td>\n",
       "      <td>71.7</td>\n",
       "      <td>NaN</td>\n",
       "      <td>90.7</td>\n",
       "      <td>69.7</td>\n",
       "    </tr>\n",
       "    <tr>\n",
       "      <th>1670</th>\n",
       "      <td>2023-08-13 00:01:06.310</td>\n",
       "      <td>Montpellier</td>\n",
       "      <td>2</td>\n",
       "      <td>Jordan Ferri</td>\n",
       "      <td>55.7</td>\n",
       "      <td>74.0</td>\n",
       "      <td>Falaye Sacko</td>\n",
       "      <td>68.9</td>\n",
       "      <td>63.5</td>\n",
       "    </tr>\n",
       "    <tr>\n",
       "      <th>1674</th>\n",
       "      <td>2023-08-13 00:01:08.468</td>\n",
       "      <td>Montpellier</td>\n",
       "      <td>2</td>\n",
       "      <td>Falaye Sacko</td>\n",
       "      <td>67.0</td>\n",
       "      <td>65.4</td>\n",
       "      <td>Jordan Ferri</td>\n",
       "      <td>57.6</td>\n",
       "      <td>71.8</td>\n",
       "    </tr>\n",
       "    <tr>\n",
       "      <th>1677</th>\n",
       "      <td>2023-08-13 00:01:10.548</td>\n",
       "      <td>Montpellier</td>\n",
       "      <td>2</td>\n",
       "      <td>Jordan Ferri</td>\n",
       "      <td>57.6</td>\n",
       "      <td>71.8</td>\n",
       "      <td>Christopher Jullien</td>\n",
       "      <td>46.3</td>\n",
       "      <td>62.4</td>\n",
       "    </tr>\n",
       "    <tr>\n",
       "      <th>1681</th>\n",
       "      <td>2023-08-13 00:01:12.751</td>\n",
       "      <td>Montpellier</td>\n",
       "      <td>2</td>\n",
       "      <td>Christopher Jullien</td>\n",
       "      <td>45.2</td>\n",
       "      <td>59.2</td>\n",
       "      <td>Boubakar Kouyate</td>\n",
       "      <td>39.8</td>\n",
       "      <td>28.7</td>\n",
       "    </tr>\n",
       "    <tr>\n",
       "      <th>65</th>\n",
       "      <td>2023-08-13 00:01:13.220</td>\n",
       "      <td>Montpellier</td>\n",
       "      <td>1</td>\n",
       "      <td>Christopher Jullien</td>\n",
       "      <td>55.4</td>\n",
       "      <td>80.0</td>\n",
       "      <td>Boubakar Kouyate</td>\n",
       "      <td>43.6</td>\n",
       "      <td>59.8</td>\n",
       "    </tr>\n",
       "    <tr>\n",
       "      <th>68</th>\n",
       "      <td>2023-08-13 00:01:17.723</td>\n",
       "      <td>Montpellier</td>\n",
       "      <td>1</td>\n",
       "      <td>Boubakar Kouyate</td>\n",
       "      <td>42.1</td>\n",
       "      <td>53.7</td>\n",
       "      <td>Issiaga Sylla</td>\n",
       "      <td>53.6</td>\n",
       "      <td>17.3</td>\n",
       "    </tr>\n",
       "    <tr>\n",
       "      <th>1685</th>\n",
       "      <td>2023-08-13 00:01:18.834</td>\n",
       "      <td>Montpellier</td>\n",
       "      <td>2</td>\n",
       "      <td>Boubakar Kouyate</td>\n",
       "      <td>40.3</td>\n",
       "      <td>23.3</td>\n",
       "      <td>Christopher Jullien</td>\n",
       "      <td>42.8</td>\n",
       "      <td>42.7</td>\n",
       "    </tr>\n",
       "    <tr>\n",
       "      <th>1688</th>\n",
       "      <td>2023-08-13 00:01:23.051</td>\n",
       "      <td>Montpellier</td>\n",
       "      <td>2</td>\n",
       "      <td>Christopher Jullien</td>\n",
       "      <td>50.3</td>\n",
       "      <td>54.6</td>\n",
       "      <td>Jordan Ferri</td>\n",
       "      <td>56.2</td>\n",
       "      <td>69.9</td>\n",
       "    </tr>\n",
       "    <tr>\n",
       "      <th>1691</th>\n",
       "      <td>2023-08-13 00:01:25.638</td>\n",
       "      <td>Montpellier</td>\n",
       "      <td>2</td>\n",
       "      <td>Jordan Ferri</td>\n",
       "      <td>57.6</td>\n",
       "      <td>70.2</td>\n",
       "      <td>Falaye Sacko</td>\n",
       "      <td>68.1</td>\n",
       "      <td>75.3</td>\n",
       "    </tr>\n",
       "    <tr>\n",
       "      <th>71</th>\n",
       "      <td>2023-08-13 00:01:26.602</td>\n",
       "      <td>Montpellier</td>\n",
       "      <td>1</td>\n",
       "      <td>Issiaga Sylla</td>\n",
       "      <td>96.5</td>\n",
       "      <td>9.1</td>\n",
       "      <td>Téji Savanier</td>\n",
       "      <td>109.9</td>\n",
       "      <td>45.9</td>\n",
       "    </tr>\n",
       "    <tr>\n",
       "      <th>1694</th>\n",
       "      <td>2023-08-13 00:01:27.726</td>\n",
       "      <td>Montpellier</td>\n",
       "      <td>2</td>\n",
       "      <td>Falaye Sacko</td>\n",
       "      <td>68.1</td>\n",
       "      <td>75.3</td>\n",
       "      <td>Christopher Jullien</td>\n",
       "      <td>51.9</td>\n",
       "      <td>65.9</td>\n",
       "    </tr>\n",
       "    <tr>\n",
       "      <th>73</th>\n",
       "      <td>2023-08-13 00:01:28.605</td>\n",
       "      <td>Montpellier</td>\n",
       "      <td>1</td>\n",
       "      <td>Téji Savanier</td>\n",
       "      <td>110.1</td>\n",
       "      <td>45.7</td>\n",
       "      <td>Moussa Al Tamari</td>\n",
       "      <td>107.0</td>\n",
       "      <td>43.7</td>\n",
       "    </tr>\n",
       "    <tr>\n",
       "      <th>1697</th>\n",
       "      <td>2023-08-13 00:01:29.993</td>\n",
       "      <td>Montpellier</td>\n",
       "      <td>2</td>\n",
       "      <td>Christopher Jullien</td>\n",
       "      <td>51.9</td>\n",
       "      <td>65.9</td>\n",
       "      <td>Joris Chotard</td>\n",
       "      <td>53.0</td>\n",
       "      <td>51.9</td>\n",
       "    </tr>\n",
       "    <tr>\n",
       "      <th>78</th>\n",
       "      <td>2023-08-13 00:01:30.900</td>\n",
       "      <td>Le Havre</td>\n",
       "      <td>1</td>\n",
       "      <td>Oussama Targhalline</td>\n",
       "      <td>15.2</td>\n",
       "      <td>38.6</td>\n",
       "      <td>Josue Casimir</td>\n",
       "      <td>15.4</td>\n",
       "      <td>27.8</td>\n",
       "    </tr>\n",
       "    <tr>\n",
       "      <th>1700</th>\n",
       "      <td>2023-08-13 00:01:32.940</td>\n",
       "      <td>Montpellier</td>\n",
       "      <td>2</td>\n",
       "      <td>Joris Chotard</td>\n",
       "      <td>53.0</td>\n",
       "      <td>51.9</td>\n",
       "      <td>Christopher Jullien</td>\n",
       "      <td>48.2</td>\n",
       "      <td>62.1</td>\n",
       "    </tr>\n",
       "    <tr>\n",
       "      <th>1703</th>\n",
       "      <td>2023-08-13 00:01:35.860</td>\n",
       "      <td>Montpellier</td>\n",
       "      <td>2</td>\n",
       "      <td>Christopher Jullien</td>\n",
       "      <td>48.2</td>\n",
       "      <td>62.1</td>\n",
       "      <td>Boubakar Kouyate</td>\n",
       "      <td>42.2</td>\n",
       "      <td>35.2</td>\n",
       "    </tr>\n",
       "    <tr>\n",
       "      <th>82</th>\n",
       "      <td>2023-08-13 00:01:37.057</td>\n",
       "      <td>Le Havre</td>\n",
       "      <td>1</td>\n",
       "      <td>Josue Casimir</td>\n",
       "      <td>34.6</td>\n",
       "      <td>5.0</td>\n",
       "      <td>Issa Soumaré</td>\n",
       "      <td>79.4</td>\n",
       "      <td>22.8</td>\n",
       "    </tr>\n",
       "    <tr>\n",
       "      <th>1706</th>\n",
       "      <td>2023-08-13 00:01:41.022</td>\n",
       "      <td>Montpellier</td>\n",
       "      <td>2</td>\n",
       "      <td>Boubakar Kouyate</td>\n",
       "      <td>48.7</td>\n",
       "      <td>23.6</td>\n",
       "      <td>Jordan Ferri</td>\n",
       "      <td>53.5</td>\n",
       "      <td>34.9</td>\n",
       "    </tr>\n",
       "    <tr>\n",
       "      <th>86</th>\n",
       "      <td>2023-08-13 00:01:42.798</td>\n",
       "      <td>Montpellier</td>\n",
       "      <td>1</td>\n",
       "      <td>Boubakar Kouyate</td>\n",
       "      <td>40.0</td>\n",
       "      <td>75.3</td>\n",
       "      <td>Falaye Sacko</td>\n",
       "      <td>53.8</td>\n",
       "      <td>75.3</td>\n",
       "    </tr>\n",
       "    <tr>\n",
       "      <th>1710</th>\n",
       "      <td>2023-08-13 00:01:44.595</td>\n",
       "      <td>Montpellier</td>\n",
       "      <td>2</td>\n",
       "      <td>Jordan Ferri</td>\n",
       "      <td>51.9</td>\n",
       "      <td>37.4</td>\n",
       "      <td>Falaye Sacko</td>\n",
       "      <td>58.9</td>\n",
       "      <td>67.3</td>\n",
       "    </tr>\n",
       "    <tr>\n",
       "      <th>89</th>\n",
       "      <td>2023-08-13 00:01:45.097</td>\n",
       "      <td>Montpellier</td>\n",
       "      <td>1</td>\n",
       "      <td>Falaye Sacko</td>\n",
       "      <td>55.8</td>\n",
       "      <td>73.8</td>\n",
       "      <td>Téji Savanier</td>\n",
       "      <td>67.9</td>\n",
       "      <td>67.9</td>\n",
       "    </tr>\n",
       "    <tr>\n",
       "      <th>1713</th>\n",
       "      <td>2023-08-13 00:01:48.878</td>\n",
       "      <td>Montpellier</td>\n",
       "      <td>2</td>\n",
       "      <td>Falaye Sacko</td>\n",
       "      <td>65.4</td>\n",
       "      <td>69.7</td>\n",
       "      <td>Téji Savanier</td>\n",
       "      <td>82.6</td>\n",
       "      <td>60.0</td>\n",
       "    </tr>\n",
       "    <tr>\n",
       "      <th>1717</th>\n",
       "      <td>2023-08-13 00:01:51.561</td>\n",
       "      <td>Montpellier</td>\n",
       "      <td>2</td>\n",
       "      <td>Téji Savanier</td>\n",
       "      <td>79.4</td>\n",
       "      <td>60.5</td>\n",
       "      <td>Falaye Sacko</td>\n",
       "      <td>83.4</td>\n",
       "      <td>68.3</td>\n",
       "    </tr>\n",
       "    <tr>\n",
       "      <th>93</th>\n",
       "      <td>2023-08-13 00:01:54.523</td>\n",
       "      <td>Montpellier</td>\n",
       "      <td>1</td>\n",
       "      <td>Téji Savanier</td>\n",
       "      <td>86.4</td>\n",
       "      <td>52.8</td>\n",
       "      <td>Jordan Ferri</td>\n",
       "      <td>81.8</td>\n",
       "      <td>26.5</td>\n",
       "    </tr>\n",
       "    <tr>\n",
       "      <th>1724</th>\n",
       "      <td>2023-08-13 00:01:58.694</td>\n",
       "      <td>Montpellier</td>\n",
       "      <td>2</td>\n",
       "      <td>Téji Savanier</td>\n",
       "      <td>63.8</td>\n",
       "      <td>80.0</td>\n",
       "      <td>Moussa Al Tamari</td>\n",
       "      <td>81.0</td>\n",
       "      <td>74.8</td>\n",
       "    </tr>\n",
       "    <tr>\n",
       "      <th>96</th>\n",
       "      <td>2023-08-13 00:01:59.326</td>\n",
       "      <td>Montpellier</td>\n",
       "      <td>1</td>\n",
       "      <td>Jordan Ferri</td>\n",
       "      <td>82.1</td>\n",
       "      <td>15.7</td>\n",
       "      <td>Wahbi Khazri</td>\n",
       "      <td>98.4</td>\n",
       "      <td>4.1</td>\n",
       "    </tr>\n",
       "  </tbody>\n",
       "</table>\n",
       "</div>"
      ],
      "text/plain": [
       "                    datetime    team.name  period          player.name  \\\n",
       "55   2023-08-13 00:01:02.081  Montpellier       1         Falaye Sacko   \n",
       "1667 2023-08-13 00:01:02.264  Montpellier       2  Christopher Jullien   \n",
       "58   2023-08-13 00:01:02.842  Montpellier       1         Jordan Ferri   \n",
       "62   2023-08-13 00:01:05.602  Montpellier       1     Moussa Al Tamari   \n",
       "1670 2023-08-13 00:01:06.310  Montpellier       2         Jordan Ferri   \n",
       "1674 2023-08-13 00:01:08.468  Montpellier       2         Falaye Sacko   \n",
       "1677 2023-08-13 00:01:10.548  Montpellier       2         Jordan Ferri   \n",
       "1681 2023-08-13 00:01:12.751  Montpellier       2  Christopher Jullien   \n",
       "65   2023-08-13 00:01:13.220  Montpellier       1  Christopher Jullien   \n",
       "68   2023-08-13 00:01:17.723  Montpellier       1     Boubakar Kouyate   \n",
       "1685 2023-08-13 00:01:18.834  Montpellier       2     Boubakar Kouyate   \n",
       "1688 2023-08-13 00:01:23.051  Montpellier       2  Christopher Jullien   \n",
       "1691 2023-08-13 00:01:25.638  Montpellier       2         Jordan Ferri   \n",
       "71   2023-08-13 00:01:26.602  Montpellier       1        Issiaga Sylla   \n",
       "1694 2023-08-13 00:01:27.726  Montpellier       2         Falaye Sacko   \n",
       "73   2023-08-13 00:01:28.605  Montpellier       1        Téji Savanier   \n",
       "1697 2023-08-13 00:01:29.993  Montpellier       2  Christopher Jullien   \n",
       "78   2023-08-13 00:01:30.900     Le Havre       1  Oussama Targhalline   \n",
       "1700 2023-08-13 00:01:32.940  Montpellier       2        Joris Chotard   \n",
       "1703 2023-08-13 00:01:35.860  Montpellier       2  Christopher Jullien   \n",
       "82   2023-08-13 00:01:37.057     Le Havre       1        Josue Casimir   \n",
       "1706 2023-08-13 00:01:41.022  Montpellier       2     Boubakar Kouyate   \n",
       "86   2023-08-13 00:01:42.798  Montpellier       1     Boubakar Kouyate   \n",
       "1710 2023-08-13 00:01:44.595  Montpellier       2         Jordan Ferri   \n",
       "89   2023-08-13 00:01:45.097  Montpellier       1         Falaye Sacko   \n",
       "1713 2023-08-13 00:01:48.878  Montpellier       2         Falaye Sacko   \n",
       "1717 2023-08-13 00:01:51.561  Montpellier       2        Téji Savanier   \n",
       "93   2023-08-13 00:01:54.523  Montpellier       1        Téji Savanier   \n",
       "1724 2023-08-13 00:01:58.694  Montpellier       2        Téji Savanier   \n",
       "96   2023-08-13 00:01:59.326  Montpellier       1         Jordan Ferri   \n",
       "\n",
       "      location.x  location.y  pass.recipient.name  pass.end_location_x  \\\n",
       "55          70.8        69.3         Jordan Ferri                 70.3   \n",
       "1667        39.5        45.7         Jordan Ferri                 50.9   \n",
       "58          70.6        61.6     Moussa Al Tamari                 87.1   \n",
       "62          91.4        71.7                  NaN                 90.7   \n",
       "1670        55.7        74.0         Falaye Sacko                 68.9   \n",
       "1674        67.0        65.4         Jordan Ferri                 57.6   \n",
       "1677        57.6        71.8  Christopher Jullien                 46.3   \n",
       "1681        45.2        59.2     Boubakar Kouyate                 39.8   \n",
       "65          55.4        80.0     Boubakar Kouyate                 43.6   \n",
       "68          42.1        53.7        Issiaga Sylla                 53.6   \n",
       "1685        40.3        23.3  Christopher Jullien                 42.8   \n",
       "1688        50.3        54.6         Jordan Ferri                 56.2   \n",
       "1691        57.6        70.2         Falaye Sacko                 68.1   \n",
       "71          96.5         9.1        Téji Savanier                109.9   \n",
       "1694        68.1        75.3  Christopher Jullien                 51.9   \n",
       "73         110.1        45.7     Moussa Al Tamari                107.0   \n",
       "1697        51.9        65.9        Joris Chotard                 53.0   \n",
       "78          15.2        38.6        Josue Casimir                 15.4   \n",
       "1700        53.0        51.9  Christopher Jullien                 48.2   \n",
       "1703        48.2        62.1     Boubakar Kouyate                 42.2   \n",
       "82          34.6         5.0         Issa Soumaré                 79.4   \n",
       "1706        48.7        23.6         Jordan Ferri                 53.5   \n",
       "86          40.0        75.3         Falaye Sacko                 53.8   \n",
       "1710        51.9        37.4         Falaye Sacko                 58.9   \n",
       "89          55.8        73.8        Téji Savanier                 67.9   \n",
       "1713        65.4        69.7        Téji Savanier                 82.6   \n",
       "1717        79.4        60.5         Falaye Sacko                 83.4   \n",
       "93          86.4        52.8         Jordan Ferri                 81.8   \n",
       "1724        63.8        80.0     Moussa Al Tamari                 81.0   \n",
       "96          82.1        15.7         Wahbi Khazri                 98.4   \n",
       "\n",
       "      pass.end_location_y  \n",
       "55                   61.6  \n",
       "1667                 68.3  \n",
       "58                   72.7  \n",
       "62                   69.7  \n",
       "1670                 63.5  \n",
       "1674                 71.8  \n",
       "1677                 62.4  \n",
       "1681                 28.7  \n",
       "65                   59.8  \n",
       "68                   17.3  \n",
       "1685                 42.7  \n",
       "1688                 69.9  \n",
       "1691                 75.3  \n",
       "71                   45.9  \n",
       "1694                 65.9  \n",
       "73                   43.7  \n",
       "1697                 51.9  \n",
       "78                   27.8  \n",
       "1700                 62.1  \n",
       "1703                 35.2  \n",
       "82                   22.8  \n",
       "1706                 34.9  \n",
       "86                   75.3  \n",
       "1710                 67.3  \n",
       "89                   67.9  \n",
       "1713                 60.0  \n",
       "1717                 68.3  \n",
       "93                   26.5  \n",
       "1724                 74.8  \n",
       "96                    4.1  "
      ]
     },
     "execution_count": 3,
     "metadata": {},
     "output_type": "execute_result"
    }
   ],
   "source": [
    "import sys\n",
    "sys.path.append('/home/UR/kontaous/Bureau/Stage_Data/')\n",
    "from Analyses.traitement import *\n",
    "from passes_player import Joueur_passes\n",
    "from passes_players import Joueurs_passes\n",
    "import pandas as pd\n",
    "import numpy as np\n",
    "import matplotlib.pyplot as plt\n",
    "import seaborn as sns\n",
    "tracking = pd.read_csv(\"../../../Tracking_data/MontPellier.csv\")\n",
    "events = pd.read_csv(\"../../Data/HAC/match_data/match_Montpellier.csv\")\n",
    "tracking, events = prepare_data(tracking, events)\n",
    "\n",
    "passes = ['datetime', 'team.name', 'period', 'player.name', 'location.x', 'location.y', 'pass.recipient.name', 'pass.end_location', ]\n",
    "df_passes = events[passes].copy()\n",
    "\n",
    "coordonnees = df_passes['pass.end_location'].apply(decoupage_des_coordonnes)\n",
    "df_passes.loc[:, 'pass.end_location_x'] = coordonnees.apply(lambda x: x[0] if x is not None else None)\n",
    "df_passes.loc[:, 'pass.end_location_y'] = coordonnees.apply(lambda x: x[1] if x is not None else None)\n",
    "df_passes.drop('pass.end_location', axis=1, inplace=True)\n",
    "df_passes[(df_passes['pass.end_location_x'].notna())][30:60]\n"
   ]
  },
  {
   "cell_type": "code",
   "execution_count": null,
   "metadata": {},
   "outputs": [
    {
     "data": {
      "text/html": [
       "<div>\n",
       "<style scoped>\n",
       "    .dataframe tbody tr th:only-of-type {\n",
       "        vertical-align: middle;\n",
       "    }\n",
       "\n",
       "    .dataframe tbody tr th {\n",
       "        vertical-align: top;\n",
       "    }\n",
       "\n",
       "    .dataframe thead th {\n",
       "        text-align: right;\n",
       "    }\n",
       "</style>\n",
       "<table border=\"1\" class=\"dataframe\">\n",
       "  <thead>\n",
       "    <tr style=\"text-align: right;\">\n",
       "      <th></th>\n",
       "      <th>system_time</th>\n",
       "      <th>frame</th>\n",
       "      <th>period</th>\n",
       "      <th>player</th>\n",
       "      <th>id</th>\n",
       "      <th>num</th>\n",
       "      <th>team</th>\n",
       "      <th>x</th>\n",
       "      <th>y</th>\n",
       "      <th>player_name</th>\n",
       "      <th>role</th>\n",
       "      <th>Gx</th>\n",
       "      <th>Gy</th>\n",
       "      <th>datetime</th>\n",
       "    </tr>\n",
       "  </thead>\n",
       "  <tbody>\n",
       "    <tr>\n",
       "      <th>0</th>\n",
       "      <td>1691938800000</td>\n",
       "      <td>0</td>\n",
       "      <td>1</td>\n",
       "      <td>ball</td>\n",
       "      <td>0.0</td>\n",
       "      <td>ball</td>\n",
       "      <td>ball</td>\n",
       "      <td>52.770</td>\n",
       "      <td>33.050</td>\n",
       "      <td>ball</td>\n",
       "      <td>ball</td>\n",
       "      <td>-18.800</td>\n",
       "      <td>6.875</td>\n",
       "      <td>2023-08-13 15:00:00.000</td>\n",
       "    </tr>\n",
       "    <tr>\n",
       "      <th>1</th>\n",
       "      <td>1691942400000</td>\n",
       "      <td>0</td>\n",
       "      <td>2</td>\n",
       "      <td>player11</td>\n",
       "      <td>499290.0</td>\n",
       "      <td>7.0</td>\n",
       "      <td>HAC</td>\n",
       "      <td>44.158</td>\n",
       "      <td>54.649</td>\n",
       "      <td>Loic Nego</td>\n",
       "      <td>Défenseur</td>\n",
       "      <td>-0.025</td>\n",
       "      <td>0.770</td>\n",
       "      <td>2023-08-13 16:00:00.000</td>\n",
       "    </tr>\n",
       "    <tr>\n",
       "      <th>2</th>\n",
       "      <td>1691942400000</td>\n",
       "      <td>0</td>\n",
       "      <td>2</td>\n",
       "      <td>goal</td>\n",
       "      <td>558155.0</td>\n",
       "      <td>40.0</td>\n",
       "      <td>Montpellier</td>\n",
       "      <td>101.519</td>\n",
       "      <td>34.569</td>\n",
       "      <td>Benjamin Pascal Lecomte</td>\n",
       "      <td>Gardien</td>\n",
       "      <td>0.955</td>\n",
       "      <td>-2.840</td>\n",
       "      <td>2023-08-13 16:00:00.000</td>\n",
       "    </tr>\n",
       "    <tr>\n",
       "      <th>3</th>\n",
       "      <td>1691938800000</td>\n",
       "      <td>0</td>\n",
       "      <td>1</td>\n",
       "      <td>player11</td>\n",
       "      <td>499290.0</td>\n",
       "      <td>7.0</td>\n",
       "      <td>HAC</td>\n",
       "      <td>63.570</td>\n",
       "      <td>12.992</td>\n",
       "      <td>Loic Nego</td>\n",
       "      <td>Défenseur</td>\n",
       "      <td>0.225</td>\n",
       "      <td>1.205</td>\n",
       "      <td>2023-08-13 15:00:00.000</td>\n",
       "    </tr>\n",
       "    <tr>\n",
       "      <th>4</th>\n",
       "      <td>1691942400000</td>\n",
       "      <td>0</td>\n",
       "      <td>2</td>\n",
       "      <td>player2</td>\n",
       "      <td>600813.0</td>\n",
       "      <td>11.0</td>\n",
       "      <td>Montpellier</td>\n",
       "      <td>59.143</td>\n",
       "      <td>26.986</td>\n",
       "      <td>Teji Tedy Savanier</td>\n",
       "      <td>Milieu de terrain</td>\n",
       "      <td>-3.200</td>\n",
       "      <td>-0.380</td>\n",
       "      <td>2023-08-13 16:00:00.000</td>\n",
       "    </tr>\n",
       "    <tr>\n",
       "      <th>...</th>\n",
       "      <td>...</td>\n",
       "      <td>...</td>\n",
       "      <td>...</td>\n",
       "      <td>...</td>\n",
       "      <td>...</td>\n",
       "      <td>...</td>\n",
       "      <td>...</td>\n",
       "      <td>...</td>\n",
       "      <td>...</td>\n",
       "      <td>...</td>\n",
       "      <td>...</td>\n",
       "      <td>...</td>\n",
       "      <td>...</td>\n",
       "      <td>...</td>\n",
       "    </tr>\n",
       "    <tr>\n",
       "      <th>1448368</th>\n",
       "      <td>1691941971200</td>\n",
       "      <td>3171200</td>\n",
       "      <td>1</td>\n",
       "      <td>player15</td>\n",
       "      <td>979246.0</td>\n",
       "      <td>10.0</td>\n",
       "      <td>HAC</td>\n",
       "      <td>86.312</td>\n",
       "      <td>30.342</td>\n",
       "      <td>Nabil Alioui</td>\n",
       "      <td>Attaquant</td>\n",
       "      <td>NaN</td>\n",
       "      <td>NaN</td>\n",
       "      <td>2023-08-13 15:52:51.200</td>\n",
       "    </tr>\n",
       "    <tr>\n",
       "      <th>1448369</th>\n",
       "      <td>1691941971200</td>\n",
       "      <td>3171200</td>\n",
       "      <td>1</td>\n",
       "      <td>goal</td>\n",
       "      <td>558155.0</td>\n",
       "      <td>40.0</td>\n",
       "      <td>Montpellier</td>\n",
       "      <td>39.345</td>\n",
       "      <td>39.960</td>\n",
       "      <td>Benjamin Pascal Lecomte</td>\n",
       "      <td>Gardien</td>\n",
       "      <td>NaN</td>\n",
       "      <td>NaN</td>\n",
       "      <td>2023-08-13 15:52:51.200</td>\n",
       "    </tr>\n",
       "    <tr>\n",
       "      <th>1448370</th>\n",
       "      <td>1691941971200</td>\n",
       "      <td>3171200</td>\n",
       "      <td>1</td>\n",
       "      <td>player20</td>\n",
       "      <td>1270414.0</td>\n",
       "      <td>5.0</td>\n",
       "      <td>HAC</td>\n",
       "      <td>92.742</td>\n",
       "      <td>16.343</td>\n",
       "      <td>Oussama Targhalline</td>\n",
       "      <td>Milieu de terrain</td>\n",
       "      <td>NaN</td>\n",
       "      <td>NaN</td>\n",
       "      <td>2023-08-13 15:52:51.200</td>\n",
       "    </tr>\n",
       "    <tr>\n",
       "      <th>1448371</th>\n",
       "      <td>1691941971200</td>\n",
       "      <td>3171200</td>\n",
       "      <td>1</td>\n",
       "      <td>player17</td>\n",
       "      <td>1196390.0</td>\n",
       "      <td>45.0</td>\n",
       "      <td>HAC</td>\n",
       "      <td>98.049</td>\n",
       "      <td>33.389</td>\n",
       "      <td>Issa Soumare</td>\n",
       "      <td>Attaquant</td>\n",
       "      <td>NaN</td>\n",
       "      <td>NaN</td>\n",
       "      <td>2023-08-13 15:52:51.200</td>\n",
       "    </tr>\n",
       "    <tr>\n",
       "      <th>1448372</th>\n",
       "      <td>1691941971200</td>\n",
       "      <td>3171200</td>\n",
       "      <td>1</td>\n",
       "      <td>ball</td>\n",
       "      <td>0.0</td>\n",
       "      <td>ball</td>\n",
       "      <td>ball</td>\n",
       "      <td>NaN</td>\n",
       "      <td>NaN</td>\n",
       "      <td>ball</td>\n",
       "      <td>ball</td>\n",
       "      <td>NaN</td>\n",
       "      <td>NaN</td>\n",
       "      <td>2023-08-13 15:52:51.200</td>\n",
       "    </tr>\n",
       "  </tbody>\n",
       "</table>\n",
       "<p>1448373 rows × 14 columns</p>\n",
       "</div>"
      ],
      "text/plain": [
       "           system_time    frame  period    player         id   num  \\\n",
       "0        1691938800000        0       1      ball        0.0  ball   \n",
       "1        1691942400000        0       2  player11   499290.0   7.0   \n",
       "2        1691942400000        0       2      goal   558155.0  40.0   \n",
       "3        1691938800000        0       1  player11   499290.0   7.0   \n",
       "4        1691942400000        0       2   player2   600813.0  11.0   \n",
       "...                ...      ...     ...       ...        ...   ...   \n",
       "1448368  1691941971200  3171200       1  player15   979246.0  10.0   \n",
       "1448369  1691941971200  3171200       1      goal   558155.0  40.0   \n",
       "1448370  1691941971200  3171200       1  player20  1270414.0   5.0   \n",
       "1448371  1691941971200  3171200       1  player17  1196390.0  45.0   \n",
       "1448372  1691941971200  3171200       1      ball        0.0  ball   \n",
       "\n",
       "                team        x       y              player_name  \\\n",
       "0               ball   52.770  33.050                     ball   \n",
       "1                HAC   44.158  54.649                Loic Nego   \n",
       "2        Montpellier  101.519  34.569  Benjamin Pascal Lecomte   \n",
       "3                HAC   63.570  12.992                Loic Nego   \n",
       "4        Montpellier   59.143  26.986       Teji Tedy Savanier   \n",
       "...              ...      ...     ...                      ...   \n",
       "1448368          HAC   86.312  30.342             Nabil Alioui   \n",
       "1448369  Montpellier   39.345  39.960  Benjamin Pascal Lecomte   \n",
       "1448370          HAC   92.742  16.343      Oussama Targhalline   \n",
       "1448371          HAC   98.049  33.389             Issa Soumare   \n",
       "1448372         ball      NaN     NaN                     ball   \n",
       "\n",
       "                      role      Gx     Gy                datetime  \n",
       "0                     ball -18.800  6.875 2023-08-13 15:00:00.000  \n",
       "1                Défenseur  -0.025  0.770 2023-08-13 16:00:00.000  \n",
       "2                  Gardien   0.955 -2.840 2023-08-13 16:00:00.000  \n",
       "3                Défenseur   0.225  1.205 2023-08-13 15:00:00.000  \n",
       "4        Milieu de terrain  -3.200 -0.380 2023-08-13 16:00:00.000  \n",
       "...                    ...     ...    ...                     ...  \n",
       "1448368          Attaquant     NaN    NaN 2023-08-13 15:52:51.200  \n",
       "1448369            Gardien     NaN    NaN 2023-08-13 15:52:51.200  \n",
       "1448370  Milieu de terrain     NaN    NaN 2023-08-13 15:52:51.200  \n",
       "1448371          Attaquant     NaN    NaN 2023-08-13 15:52:51.200  \n",
       "1448372               ball     NaN    NaN 2023-08-13 15:52:51.200  \n",
       "\n",
       "[1448373 rows x 14 columns]"
      ]
     },
     "execution_count": 24,
     "metadata": {},
     "output_type": "execute_result"
    }
   ],
   "source": [
    "tracking"
   ]
  },
  {
   "cell_type": "markdown",
   "metadata": {},
   "source": [
    "# Joueur spécifique"
   ]
  },
  {
   "cell_type": "code",
   "execution_count": null,
   "metadata": {},
   "outputs": [
    {
     "data": {
      "application/vnd.plotly.v1+json": {
       "config": {
        "plotlyServerURL": "https://plot.ly"
       },
       "data": [
        {
         "hoverinfo": "text",
         "line": {
          "color": "purple",
          "width": 2
         },
         "marker": {
          "size": 5
         },
         "mode": "lines+markers",
         "name": "Téji Savanier to Moussa Al Tamari",
         "text": "De: Téji Savanier<br>À: Moussa Al Tamari<br>X: 69.1 -> 59.5<br>Y: 16.8 -> 4.7",
         "type": "scatter",
         "x": [
          69.1,
          59.5
         ],
         "y": [
          16.8,
          4.7
         ]
        },
        {
         "hoverinfo": "text",
         "line": {
          "color": "purple",
          "width": 2
         },
         "marker": {
          "size": 5
         },
         "mode": "lines+markers",
         "name": "Téji Savanier to Falaye Sacko",
         "text": "De: Téji Savanier<br>À: Falaye Sacko<br>X: 40.6 -> 36.6<br>Y: 19.5 -> 11.7",
         "type": "scatter",
         "x": [
          40.6,
          36.6
         ],
         "y": [
          19.5,
          11.7
         ]
        },
        {
         "hoverinfo": "text",
         "line": {
          "color": "purple",
          "width": 2
         },
         "marker": {
          "size": 5
         },
         "mode": "lines+markers",
         "name": "Téji Savanier to Moussa Al Tamari",
         "text": "De: Téji Savanier<br>À: Moussa Al Tamari<br>X: 56.2 -> 39.0<br>Y: 0.0 -> 5.2",
         "type": "scatter",
         "x": [
          56.2,
          39
         ],
         "y": [
          0,
          5.2
         ]
        },
        {
         "hoverinfo": "text",
         "line": {
          "color": "purple",
          "width": 2
         },
         "marker": {
          "size": 5
         },
         "mode": "lines+markers",
         "name": "Téji Savanier to Joris Chotard",
         "text": "De: Téji Savanier<br>À: Joris Chotard<br>X: 47.1 -> 47.3<br>Y: 4.7 -> 12.5",
         "type": "scatter",
         "x": [
          47.1,
          47.3
         ],
         "y": [
          4.7,
          12.5
         ]
        },
        {
         "hoverinfo": "text",
         "line": {
          "color": "purple",
          "width": 2
         },
         "marker": {
          "size": 5
         },
         "mode": "lines+markers",
         "name": "Téji Savanier to Akor Jerome Adams",
         "text": "De: Téji Savanier<br>À: Akor Jerome Adams<br>X: 91.8 -> 81.5<br>Y: 38.3 -> 44.8",
         "type": "scatter",
         "x": [
          91.8,
          81.5
         ],
         "y": [
          38.3,
          44.8
         ]
        },
        {
         "hoverinfo": "text",
         "line": {
          "color": "purple",
          "width": 2
         },
         "marker": {
          "size": 5
         },
         "mode": "lines+markers",
         "name": "Téji Savanier to Joris Chotard",
         "text": "De: Téji Savanier<br>À: Joris Chotard<br>X: 50.6 -> 62.4<br>Y: 62.0 -> 62.0",
         "type": "scatter",
         "x": [
          50.6,
          62.4
         ],
         "y": [
          62,
          62
         ]
        },
        {
         "hoverinfo": "text",
         "line": {
          "color": "purple",
          "width": 2
         },
         "marker": {
          "size": 5
         },
         "mode": "lines+markers",
         "name": "Téji Savanier to Akor Jerome Adams",
         "text": "De: Téji Savanier<br>À: Akor Jerome Adams<br>X: 95.2 -> 39.6<br>Y: 4.0 -> 13.1",
         "type": "scatter",
         "x": [
          95.2,
          39.6
         ],
         "y": [
          4,
          13.1
         ]
        },
        {
         "hoverinfo": "text",
         "line": {
          "color": "purple",
          "width": 2
         },
         "marker": {
          "size": 5
         },
         "mode": "lines+markers",
         "name": "Téji Savanier to Wahbi Khazri",
         "text": "De: Téji Savanier<br>À: Wahbi Khazri<br>X: 36.2 -> 12.5<br>Y: 6.7 -> 29.8",
         "type": "scatter",
         "x": [
          36.2,
          12.5
         ],
         "y": [
          6.7,
          29.8
         ]
        },
        {
         "hoverinfo": "text",
         "line": {
          "color": "purple",
          "width": 2
         },
         "marker": {
          "size": 5
         },
         "mode": "lines+markers",
         "name": "Téji Savanier to Moussa Al Tamari",
         "text": "De: Téji Savanier<br>À: Moussa Al Tamari<br>X: 42.8 -> 21.7<br>Y: 5.2 -> 19.7",
         "type": "scatter",
         "x": [
          42.8,
          21.7
         ],
         "y": [
          5.2,
          19.7
         ]
        },
        {
         "hoverinfo": "text",
         "line": {
          "color": "purple",
          "width": 2
         },
         "marker": {
          "size": 5
         },
         "mode": "lines+markers",
         "name": "Téji Savanier to Jordan Ferri",
         "text": "De: Téji Savanier<br>À: Jordan Ferri<br>X: 8.7 -> 16.2<br>Y: 12.0 -> 46.0",
         "type": "scatter",
         "x": [
          8.7,
          16.2
         ],
         "y": [
          12,
          46
         ]
        },
        {
         "hoverinfo": "text",
         "line": {
          "color": "purple",
          "width": 2
         },
         "marker": {
          "size": 5
         },
         "mode": "lines+markers",
         "name": "Téji Savanier to Boubakar Kouyate",
         "text": "De: Téji Savanier<br>À: Boubakar Kouyate<br>X: 73.2 -> 85.0<br>Y: 54.8 -> 51.5",
         "type": "scatter",
         "x": [
          73.2,
          85
         ],
         "y": [
          54.8,
          51.5
         ]
        },
        {
         "hoverinfo": "text",
         "line": {
          "color": "purple",
          "width": 2
         },
         "marker": {
          "size": 5
         },
         "mode": "lines+markers",
         "name": "Téji Savanier to Jordan Ferri",
         "text": "De: Téji Savanier<br>À: Jordan Ferri<br>X: 58.9 -> 53.8<br>Y: 16.2 -> 8.2",
         "type": "scatter",
         "x": [
          58.9,
          53.8
         ],
         "y": [
          16.2,
          8.2
         ]
        },
        {
         "hoverinfo": "text",
         "line": {
          "color": "purple",
          "width": 2
         },
         "marker": {
          "size": 5
         },
         "mode": "lines+markers",
         "name": "Téji Savanier to nan",
         "text": "De: Téji Savanier<br>À: nan<br>X: 0.0 -> 3.3<br>Y: 0.0 -> 33.3",
         "type": "scatter",
         "x": [
          0,
          3.3
         ],
         "y": [
          0,
          33.3
         ]
        },
        {
         "hoverinfo": "text",
         "line": {
          "color": "purple",
          "width": 2
         },
         "marker": {
          "size": 5
         },
         "mode": "lines+markers",
         "name": "Téji Savanier to Akor Jerome Adams",
         "text": "De: Téji Savanier<br>À: Akor Jerome Adams<br>X: 6.1 -> 3.3<br>Y: 17.0 -> 42.2",
         "type": "scatter",
         "x": [
          6.1,
          3.3
         ],
         "y": [
          17,
          42.2
         ]
        },
        {
         "hoverinfo": "text",
         "line": {
          "color": "purple",
          "width": 2
         },
         "marker": {
          "size": 5
         },
         "mode": "lines+markers",
         "name": "Téji Savanier to Moussa Al Tamari",
         "text": "De: Téji Savanier<br>À: Moussa Al Tamari<br>X: 77.8 -> 68.6<br>Y: 11.1 -> 6.3",
         "type": "scatter",
         "x": [
          77.8,
          68.6
         ],
         "y": [
          11.1,
          6.3
         ]
        },
        {
         "hoverinfo": "text",
         "line": {
          "color": "purple",
          "width": 2
         },
         "marker": {
          "size": 5
         },
         "mode": "lines+markers",
         "name": "Téji Savanier to Christopher Jullien",
         "text": "De: Téji Savanier<br>À: Christopher Jullien<br>X: 78.8 -> 90.2<br>Y: 6.3 -> 14.1",
         "type": "scatter",
         "x": [
          78.8,
          90.2
         ],
         "y": [
          6.3,
          14.1
         ]
        }
       ],
       "layout": {
        "annotations": [
         {
          "arrowcolor": "purple",
          "arrowhead": 3,
          "arrowsize": 1,
          "arrowwidth": 2,
          "ax": 69.1,
          "axref": "x",
          "ay": 16.8,
          "ayref": "y",
          "showarrow": true,
          "x": 59.5,
          "xref": "x",
          "y": 4.7,
          "yref": "y"
         },
         {
          "arrowcolor": "purple",
          "arrowhead": 3,
          "arrowsize": 1,
          "arrowwidth": 2,
          "ax": 40.6,
          "axref": "x",
          "ay": 19.5,
          "ayref": "y",
          "showarrow": true,
          "x": 36.6,
          "xref": "x",
          "y": 11.7,
          "yref": "y"
         },
         {
          "arrowcolor": "purple",
          "arrowhead": 3,
          "arrowsize": 1,
          "arrowwidth": 2,
          "ax": 56.2,
          "axref": "x",
          "ay": 0,
          "ayref": "y",
          "showarrow": true,
          "x": 39,
          "xref": "x",
          "y": 5.2,
          "yref": "y"
         },
         {
          "arrowcolor": "purple",
          "arrowhead": 3,
          "arrowsize": 1,
          "arrowwidth": 2,
          "ax": 47.1,
          "axref": "x",
          "ay": 4.7,
          "ayref": "y",
          "showarrow": true,
          "x": 47.3,
          "xref": "x",
          "y": 12.5,
          "yref": "y"
         },
         {
          "arrowcolor": "purple",
          "arrowhead": 3,
          "arrowsize": 1,
          "arrowwidth": 2,
          "ax": 91.8,
          "axref": "x",
          "ay": 38.3,
          "ayref": "y",
          "showarrow": true,
          "x": 81.5,
          "xref": "x",
          "y": 44.8,
          "yref": "y"
         },
         {
          "arrowcolor": "purple",
          "arrowhead": 3,
          "arrowsize": 1,
          "arrowwidth": 2,
          "ax": 50.6,
          "axref": "x",
          "ay": 62,
          "ayref": "y",
          "showarrow": true,
          "x": 62.4,
          "xref": "x",
          "y": 62,
          "yref": "y"
         },
         {
          "arrowcolor": "purple",
          "arrowhead": 3,
          "arrowsize": 1,
          "arrowwidth": 2,
          "ax": 95.2,
          "axref": "x",
          "ay": 4,
          "ayref": "y",
          "showarrow": true,
          "x": 39.6,
          "xref": "x",
          "y": 13.1,
          "yref": "y"
         },
         {
          "arrowcolor": "purple",
          "arrowhead": 3,
          "arrowsize": 1,
          "arrowwidth": 2,
          "ax": 36.2,
          "axref": "x",
          "ay": 6.7,
          "ayref": "y",
          "showarrow": true,
          "x": 12.5,
          "xref": "x",
          "y": 29.8,
          "yref": "y"
         },
         {
          "arrowcolor": "purple",
          "arrowhead": 3,
          "arrowsize": 1,
          "arrowwidth": 2,
          "ax": 42.8,
          "axref": "x",
          "ay": 5.2,
          "ayref": "y",
          "showarrow": true,
          "x": 21.7,
          "xref": "x",
          "y": 19.7,
          "yref": "y"
         },
         {
          "arrowcolor": "purple",
          "arrowhead": 3,
          "arrowsize": 1,
          "arrowwidth": 2,
          "ax": 8.7,
          "axref": "x",
          "ay": 12,
          "ayref": "y",
          "showarrow": true,
          "x": 16.2,
          "xref": "x",
          "y": 46,
          "yref": "y"
         },
         {
          "arrowcolor": "purple",
          "arrowhead": 3,
          "arrowsize": 1,
          "arrowwidth": 2,
          "ax": 73.2,
          "axref": "x",
          "ay": 54.8,
          "ayref": "y",
          "showarrow": true,
          "x": 85,
          "xref": "x",
          "y": 51.5,
          "yref": "y"
         },
         {
          "arrowcolor": "purple",
          "arrowhead": 3,
          "arrowsize": 1,
          "arrowwidth": 2,
          "ax": 58.9,
          "axref": "x",
          "ay": 16.2,
          "ayref": "y",
          "showarrow": true,
          "x": 53.8,
          "xref": "x",
          "y": 8.2,
          "yref": "y"
         },
         {
          "arrowcolor": "purple",
          "arrowhead": 3,
          "arrowsize": 1,
          "arrowwidth": 2,
          "ax": 0,
          "axref": "x",
          "ay": 0,
          "ayref": "y",
          "showarrow": true,
          "x": 3.3,
          "xref": "x",
          "y": 33.3,
          "yref": "y"
         },
         {
          "arrowcolor": "purple",
          "arrowhead": 3,
          "arrowsize": 1,
          "arrowwidth": 2,
          "ax": 6.1,
          "axref": "x",
          "ay": 17,
          "ayref": "y",
          "showarrow": true,
          "x": 3.3,
          "xref": "x",
          "y": 42.2,
          "yref": "y"
         },
         {
          "arrowcolor": "purple",
          "arrowhead": 3,
          "arrowsize": 1,
          "arrowwidth": 2,
          "ax": 77.8,
          "axref": "x",
          "ay": 11.1,
          "ayref": "y",
          "showarrow": true,
          "x": 68.6,
          "xref": "x",
          "y": 6.3,
          "yref": "y"
         },
         {
          "arrowcolor": "purple",
          "arrowhead": 3,
          "arrowsize": 1,
          "arrowwidth": 2,
          "ax": 78.8,
          "axref": "x",
          "ay": 6.3,
          "ayref": "y",
          "showarrow": true,
          "x": 90.2,
          "xref": "x",
          "y": 14.1,
          "yref": "y"
         }
        ],
        "height": 700,
        "shapes": [
         {
          "line": {
           "color": "Black"
          },
          "type": "rect",
          "x0": 0,
          "x1": 120,
          "y0": 0,
          "y1": 80
         },
         {
          "line": {
           "color": "Black",
           "dash": "dot"
          },
          "type": "line",
          "x0": 60,
          "x1": 60,
          "y0": 0,
          "y1": 80
         },
         {
          "line": {
           "color": "Black"
          },
          "type": "rect",
          "x0": 0,
          "x1": 18,
          "y0": 18,
          "y1": 62
         },
         {
          "line": {
           "color": "Black"
          },
          "type": "rect",
          "x0": 102,
          "x1": 120,
          "y0": 18,
          "y1": 62
         },
         {
          "line": {
           "color": "Black"
          },
          "type": "rect",
          "x0": 0,
          "x1": 5.5,
          "y0": 30,
          "y1": 50
         },
         {
          "line": {
           "color": "Black"
          },
          "type": "rect",
          "x0": 114.5,
          "x1": 120,
          "y0": 30,
          "y1": 50
         },
         {
          "line": {
           "color": "Black"
          },
          "type": "rect",
          "x0": 0,
          "x1": 2,
          "y0": 36,
          "y1": 44
         },
         {
          "line": {
           "color": "Black"
          },
          "type": "rect",
          "x0": 118,
          "x1": 120,
          "y0": 36,
          "y1": 44
         },
         {
          "line": {
           "color": "Black"
          },
          "type": "circle",
          "x0": 50.4,
          "x1": 69.6,
          "xref": "x",
          "y0": 30.4,
          "y1": 49.6,
          "yref": "y"
         }
        ],
        "template": {
         "data": {
          "bar": [
           {
            "error_x": {
             "color": "#2a3f5f"
            },
            "error_y": {
             "color": "#2a3f5f"
            },
            "marker": {
             "line": {
              "color": "#E5ECF6",
              "width": 0.5
             },
             "pattern": {
              "fillmode": "overlay",
              "size": 10,
              "solidity": 0.2
             }
            },
            "type": "bar"
           }
          ],
          "barpolar": [
           {
            "marker": {
             "line": {
              "color": "#E5ECF6",
              "width": 0.5
             },
             "pattern": {
              "fillmode": "overlay",
              "size": 10,
              "solidity": 0.2
             }
            },
            "type": "barpolar"
           }
          ],
          "carpet": [
           {
            "aaxis": {
             "endlinecolor": "#2a3f5f",
             "gridcolor": "white",
             "linecolor": "white",
             "minorgridcolor": "white",
             "startlinecolor": "#2a3f5f"
            },
            "baxis": {
             "endlinecolor": "#2a3f5f",
             "gridcolor": "white",
             "linecolor": "white",
             "minorgridcolor": "white",
             "startlinecolor": "#2a3f5f"
            },
            "type": "carpet"
           }
          ],
          "choropleth": [
           {
            "colorbar": {
             "outlinewidth": 0,
             "ticks": ""
            },
            "type": "choropleth"
           }
          ],
          "contour": [
           {
            "colorbar": {
             "outlinewidth": 0,
             "ticks": ""
            },
            "colorscale": [
             [
              0,
              "#0d0887"
             ],
             [
              0.1111111111111111,
              "#46039f"
             ],
             [
              0.2222222222222222,
              "#7201a8"
             ],
             [
              0.3333333333333333,
              "#9c179e"
             ],
             [
              0.4444444444444444,
              "#bd3786"
             ],
             [
              0.5555555555555556,
              "#d8576b"
             ],
             [
              0.6666666666666666,
              "#ed7953"
             ],
             [
              0.7777777777777778,
              "#fb9f3a"
             ],
             [
              0.8888888888888888,
              "#fdca26"
             ],
             [
              1,
              "#f0f921"
             ]
            ],
            "type": "contour"
           }
          ],
          "contourcarpet": [
           {
            "colorbar": {
             "outlinewidth": 0,
             "ticks": ""
            },
            "type": "contourcarpet"
           }
          ],
          "heatmap": [
           {
            "colorbar": {
             "outlinewidth": 0,
             "ticks": ""
            },
            "colorscale": [
             [
              0,
              "#0d0887"
             ],
             [
              0.1111111111111111,
              "#46039f"
             ],
             [
              0.2222222222222222,
              "#7201a8"
             ],
             [
              0.3333333333333333,
              "#9c179e"
             ],
             [
              0.4444444444444444,
              "#bd3786"
             ],
             [
              0.5555555555555556,
              "#d8576b"
             ],
             [
              0.6666666666666666,
              "#ed7953"
             ],
             [
              0.7777777777777778,
              "#fb9f3a"
             ],
             [
              0.8888888888888888,
              "#fdca26"
             ],
             [
              1,
              "#f0f921"
             ]
            ],
            "type": "heatmap"
           }
          ],
          "heatmapgl": [
           {
            "colorbar": {
             "outlinewidth": 0,
             "ticks": ""
            },
            "colorscale": [
             [
              0,
              "#0d0887"
             ],
             [
              0.1111111111111111,
              "#46039f"
             ],
             [
              0.2222222222222222,
              "#7201a8"
             ],
             [
              0.3333333333333333,
              "#9c179e"
             ],
             [
              0.4444444444444444,
              "#bd3786"
             ],
             [
              0.5555555555555556,
              "#d8576b"
             ],
             [
              0.6666666666666666,
              "#ed7953"
             ],
             [
              0.7777777777777778,
              "#fb9f3a"
             ],
             [
              0.8888888888888888,
              "#fdca26"
             ],
             [
              1,
              "#f0f921"
             ]
            ],
            "type": "heatmapgl"
           }
          ],
          "histogram": [
           {
            "marker": {
             "pattern": {
              "fillmode": "overlay",
              "size": 10,
              "solidity": 0.2
             }
            },
            "type": "histogram"
           }
          ],
          "histogram2d": [
           {
            "colorbar": {
             "outlinewidth": 0,
             "ticks": ""
            },
            "colorscale": [
             [
              0,
              "#0d0887"
             ],
             [
              0.1111111111111111,
              "#46039f"
             ],
             [
              0.2222222222222222,
              "#7201a8"
             ],
             [
              0.3333333333333333,
              "#9c179e"
             ],
             [
              0.4444444444444444,
              "#bd3786"
             ],
             [
              0.5555555555555556,
              "#d8576b"
             ],
             [
              0.6666666666666666,
              "#ed7953"
             ],
             [
              0.7777777777777778,
              "#fb9f3a"
             ],
             [
              0.8888888888888888,
              "#fdca26"
             ],
             [
              1,
              "#f0f921"
             ]
            ],
            "type": "histogram2d"
           }
          ],
          "histogram2dcontour": [
           {
            "colorbar": {
             "outlinewidth": 0,
             "ticks": ""
            },
            "colorscale": [
             [
              0,
              "#0d0887"
             ],
             [
              0.1111111111111111,
              "#46039f"
             ],
             [
              0.2222222222222222,
              "#7201a8"
             ],
             [
              0.3333333333333333,
              "#9c179e"
             ],
             [
              0.4444444444444444,
              "#bd3786"
             ],
             [
              0.5555555555555556,
              "#d8576b"
             ],
             [
              0.6666666666666666,
              "#ed7953"
             ],
             [
              0.7777777777777778,
              "#fb9f3a"
             ],
             [
              0.8888888888888888,
              "#fdca26"
             ],
             [
              1,
              "#f0f921"
             ]
            ],
            "type": "histogram2dcontour"
           }
          ],
          "mesh3d": [
           {
            "colorbar": {
             "outlinewidth": 0,
             "ticks": ""
            },
            "type": "mesh3d"
           }
          ],
          "parcoords": [
           {
            "line": {
             "colorbar": {
              "outlinewidth": 0,
              "ticks": ""
             }
            },
            "type": "parcoords"
           }
          ],
          "pie": [
           {
            "automargin": true,
            "type": "pie"
           }
          ],
          "scatter": [
           {
            "fillpattern": {
             "fillmode": "overlay",
             "size": 10,
             "solidity": 0.2
            },
            "type": "scatter"
           }
          ],
          "scatter3d": [
           {
            "line": {
             "colorbar": {
              "outlinewidth": 0,
              "ticks": ""
             }
            },
            "marker": {
             "colorbar": {
              "outlinewidth": 0,
              "ticks": ""
             }
            },
            "type": "scatter3d"
           }
          ],
          "scattercarpet": [
           {
            "marker": {
             "colorbar": {
              "outlinewidth": 0,
              "ticks": ""
             }
            },
            "type": "scattercarpet"
           }
          ],
          "scattergeo": [
           {
            "marker": {
             "colorbar": {
              "outlinewidth": 0,
              "ticks": ""
             }
            },
            "type": "scattergeo"
           }
          ],
          "scattergl": [
           {
            "marker": {
             "colorbar": {
              "outlinewidth": 0,
              "ticks": ""
             }
            },
            "type": "scattergl"
           }
          ],
          "scattermapbox": [
           {
            "marker": {
             "colorbar": {
              "outlinewidth": 0,
              "ticks": ""
             }
            },
            "type": "scattermapbox"
           }
          ],
          "scatterpolar": [
           {
            "marker": {
             "colorbar": {
              "outlinewidth": 0,
              "ticks": ""
             }
            },
            "type": "scatterpolar"
           }
          ],
          "scatterpolargl": [
           {
            "marker": {
             "colorbar": {
              "outlinewidth": 0,
              "ticks": ""
             }
            },
            "type": "scatterpolargl"
           }
          ],
          "scatterternary": [
           {
            "marker": {
             "colorbar": {
              "outlinewidth": 0,
              "ticks": ""
             }
            },
            "type": "scatterternary"
           }
          ],
          "surface": [
           {
            "colorbar": {
             "outlinewidth": 0,
             "ticks": ""
            },
            "colorscale": [
             [
              0,
              "#0d0887"
             ],
             [
              0.1111111111111111,
              "#46039f"
             ],
             [
              0.2222222222222222,
              "#7201a8"
             ],
             [
              0.3333333333333333,
              "#9c179e"
             ],
             [
              0.4444444444444444,
              "#bd3786"
             ],
             [
              0.5555555555555556,
              "#d8576b"
             ],
             [
              0.6666666666666666,
              "#ed7953"
             ],
             [
              0.7777777777777778,
              "#fb9f3a"
             ],
             [
              0.8888888888888888,
              "#fdca26"
             ],
             [
              1,
              "#f0f921"
             ]
            ],
            "type": "surface"
           }
          ],
          "table": [
           {
            "cells": {
             "fill": {
              "color": "#EBF0F8"
             },
             "line": {
              "color": "white"
             }
            },
            "header": {
             "fill": {
              "color": "#C8D4E3"
             },
             "line": {
              "color": "white"
             }
            },
            "type": "table"
           }
          ]
         },
         "layout": {
          "annotationdefaults": {
           "arrowcolor": "#2a3f5f",
           "arrowhead": 0,
           "arrowwidth": 1
          },
          "autotypenumbers": "strict",
          "coloraxis": {
           "colorbar": {
            "outlinewidth": 0,
            "ticks": ""
           }
          },
          "colorscale": {
           "diverging": [
            [
             0,
             "#8e0152"
            ],
            [
             0.1,
             "#c51b7d"
            ],
            [
             0.2,
             "#de77ae"
            ],
            [
             0.3,
             "#f1b6da"
            ],
            [
             0.4,
             "#fde0ef"
            ],
            [
             0.5,
             "#f7f7f7"
            ],
            [
             0.6,
             "#e6f5d0"
            ],
            [
             0.7,
             "#b8e186"
            ],
            [
             0.8,
             "#7fbc41"
            ],
            [
             0.9,
             "#4d9221"
            ],
            [
             1,
             "#276419"
            ]
           ],
           "sequential": [
            [
             0,
             "#0d0887"
            ],
            [
             0.1111111111111111,
             "#46039f"
            ],
            [
             0.2222222222222222,
             "#7201a8"
            ],
            [
             0.3333333333333333,
             "#9c179e"
            ],
            [
             0.4444444444444444,
             "#bd3786"
            ],
            [
             0.5555555555555556,
             "#d8576b"
            ],
            [
             0.6666666666666666,
             "#ed7953"
            ],
            [
             0.7777777777777778,
             "#fb9f3a"
            ],
            [
             0.8888888888888888,
             "#fdca26"
            ],
            [
             1,
             "#f0f921"
            ]
           ],
           "sequentialminus": [
            [
             0,
             "#0d0887"
            ],
            [
             0.1111111111111111,
             "#46039f"
            ],
            [
             0.2222222222222222,
             "#7201a8"
            ],
            [
             0.3333333333333333,
             "#9c179e"
            ],
            [
             0.4444444444444444,
             "#bd3786"
            ],
            [
             0.5555555555555556,
             "#d8576b"
            ],
            [
             0.6666666666666666,
             "#ed7953"
            ],
            [
             0.7777777777777778,
             "#fb9f3a"
            ],
            [
             0.8888888888888888,
             "#fdca26"
            ],
            [
             1,
             "#f0f921"
            ]
           ]
          },
          "colorway": [
           "#636efa",
           "#EF553B",
           "#00cc96",
           "#ab63fa",
           "#FFA15A",
           "#19d3f3",
           "#FF6692",
           "#B6E880",
           "#FF97FF",
           "#FECB52"
          ],
          "font": {
           "color": "#2a3f5f"
          },
          "geo": {
           "bgcolor": "white",
           "lakecolor": "white",
           "landcolor": "#E5ECF6",
           "showlakes": true,
           "showland": true,
           "subunitcolor": "white"
          },
          "hoverlabel": {
           "align": "left"
          },
          "hovermode": "closest",
          "mapbox": {
           "style": "light"
          },
          "paper_bgcolor": "white",
          "plot_bgcolor": "#E5ECF6",
          "polar": {
           "angularaxis": {
            "gridcolor": "white",
            "linecolor": "white",
            "ticks": ""
           },
           "bgcolor": "#E5ECF6",
           "radialaxis": {
            "gridcolor": "white",
            "linecolor": "white",
            "ticks": ""
           }
          },
          "scene": {
           "xaxis": {
            "backgroundcolor": "#E5ECF6",
            "gridcolor": "white",
            "gridwidth": 2,
            "linecolor": "white",
            "showbackground": true,
            "ticks": "",
            "zerolinecolor": "white"
           },
           "yaxis": {
            "backgroundcolor": "#E5ECF6",
            "gridcolor": "white",
            "gridwidth": 2,
            "linecolor": "white",
            "showbackground": true,
            "ticks": "",
            "zerolinecolor": "white"
           },
           "zaxis": {
            "backgroundcolor": "#E5ECF6",
            "gridcolor": "white",
            "gridwidth": 2,
            "linecolor": "white",
            "showbackground": true,
            "ticks": "",
            "zerolinecolor": "white"
           }
          },
          "shapedefaults": {
           "line": {
            "color": "#2a3f5f"
           }
          },
          "ternary": {
           "aaxis": {
            "gridcolor": "white",
            "linecolor": "white",
            "ticks": ""
           },
           "baxis": {
            "gridcolor": "white",
            "linecolor": "white",
            "ticks": ""
           },
           "bgcolor": "#E5ECF6",
           "caxis": {
            "gridcolor": "white",
            "linecolor": "white",
            "ticks": ""
           }
          },
          "title": {
           "x": 0.05
          },
          "xaxis": {
           "automargin": true,
           "gridcolor": "white",
           "linecolor": "white",
           "ticks": "",
           "title": {
            "standoff": 15
           },
           "zerolinecolor": "white",
           "zerolinewidth": 2
          },
          "yaxis": {
           "automargin": true,
           "gridcolor": "white",
           "linecolor": "white",
           "ticks": "",
           "title": {
            "standoff": 15
           },
           "zerolinecolor": "white",
           "zerolinewidth": 2
          }
         }
        },
        "title": {
         "text": "Les passes de Téji Savanier durant la 2 période de jeu"
        },
        "width": 1000,
        "xaxis": {
         "range": [
          0,
          120
         ],
         "showgrid": false,
         "zeroline": false
        },
        "yaxis": {
         "autorange": "reversed",
         "range": [
          0,
          80
         ],
         "showgrid": false,
         "zeroline": false
        }
       }
      }
     },
     "metadata": {},
     "output_type": "display_data"
    }
   ],
   "source": [
    "passes_player(df_passes, 'Montpellier', 2, 'Téji Savanier')"
   ]
  },
  {
   "cell_type": "markdown",
   "metadata": {},
   "source": [
    "# Passes entre deux joueurs à la demande de l'entraîneur"
   ]
  },
  {
   "cell_type": "code",
   "execution_count": null,
   "metadata": {},
   "outputs": [
    {
     "data": {
      "application/vnd.plotly.v1+json": {
       "config": {
        "plotlyServerURL": "https://plot.ly"
       },
       "data": [
        {
         "hoverinfo": "text",
         "line": {
          "color": "purple",
          "width": 2
         },
         "marker": {
          "size": 5
         },
         "mode": "lines+markers",
         "name": "Téji Savanier to Akor Jerome Adams",
         "text": "De: Téji Savanier<br>À: Akor Jerome Adams<br>X: 91.8 -> 81.5<br>Y: 38.3 -> 44.8",
         "type": "scatter",
         "x": [
          91.8,
          81.5
         ],
         "y": [
          38.3,
          44.8
         ]
        },
        {
         "hoverinfo": "text",
         "line": {
          "color": "purple",
          "width": 2
         },
         "marker": {
          "size": 5
         },
         "mode": "lines+markers",
         "name": "Téji Savanier to Akor Jerome Adams",
         "text": "De: Téji Savanier<br>À: Akor Jerome Adams<br>X: 95.2 -> 39.6<br>Y: 4.0 -> 13.1",
         "type": "scatter",
         "x": [
          95.2,
          39.6
         ],
         "y": [
          4,
          13.1
         ]
        },
        {
         "hoverinfo": "text",
         "line": {
          "color": "purple",
          "width": 2
         },
         "marker": {
          "size": 5
         },
         "mode": "lines+markers",
         "name": "Téji Savanier to Akor Jerome Adams",
         "text": "De: Téji Savanier<br>À: Akor Jerome Adams<br>X: 6.1 -> 3.3<br>Y: 17.0 -> 42.2",
         "type": "scatter",
         "x": [
          6.1,
          3.3
         ],
         "y": [
          17,
          42.2
         ]
        }
       ],
       "layout": {
        "annotations": [
         {
          "arrowcolor": "purple",
          "arrowhead": 3,
          "arrowsize": 1,
          "arrowwidth": 2,
          "ax": 91.8,
          "axref": "x",
          "ay": 38.3,
          "ayref": "y",
          "showarrow": true,
          "x": 81.5,
          "xref": "x",
          "y": 44.8,
          "yref": "y"
         },
         {
          "arrowcolor": "purple",
          "arrowhead": 3,
          "arrowsize": 1,
          "arrowwidth": 2,
          "ax": 95.2,
          "axref": "x",
          "ay": 4,
          "ayref": "y",
          "showarrow": true,
          "x": 39.6,
          "xref": "x",
          "y": 13.1,
          "yref": "y"
         },
         {
          "arrowcolor": "purple",
          "arrowhead": 3,
          "arrowsize": 1,
          "arrowwidth": 2,
          "ax": 6.1,
          "axref": "x",
          "ay": 17,
          "ayref": "y",
          "showarrow": true,
          "x": 3.3,
          "xref": "x",
          "y": 42.2,
          "yref": "y"
         }
        ],
        "height": 700,
        "shapes": [
         {
          "line": {
           "color": "Black"
          },
          "type": "rect",
          "x0": 0,
          "x1": 120,
          "y0": 0,
          "y1": 80
         },
         {
          "line": {
           "color": "Black",
           "dash": "dot"
          },
          "type": "line",
          "x0": 60,
          "x1": 60,
          "y0": 0,
          "y1": 80
         },
         {
          "line": {
           "color": "Black"
          },
          "type": "rect",
          "x0": 0,
          "x1": 18,
          "y0": 18,
          "y1": 62
         },
         {
          "line": {
           "color": "Black"
          },
          "type": "rect",
          "x0": 102,
          "x1": 120,
          "y0": 18,
          "y1": 62
         },
         {
          "line": {
           "color": "Black"
          },
          "type": "rect",
          "x0": 0,
          "x1": 5.5,
          "y0": 30,
          "y1": 50
         },
         {
          "line": {
           "color": "Black"
          },
          "type": "rect",
          "x0": 114.5,
          "x1": 120,
          "y0": 30,
          "y1": 50
         },
         {
          "line": {
           "color": "Black"
          },
          "type": "rect",
          "x0": 0,
          "x1": 2,
          "y0": 36,
          "y1": 44
         },
         {
          "line": {
           "color": "Black"
          },
          "type": "rect",
          "x0": 118,
          "x1": 120,
          "y0": 36,
          "y1": 44
         },
         {
          "line": {
           "color": "Black"
          },
          "type": "circle",
          "x0": 50.4,
          "x1": 69.6,
          "xref": "x",
          "y0": 30.4,
          "y1": 49.6,
          "yref": "y"
         }
        ],
        "template": {
         "data": {
          "bar": [
           {
            "error_x": {
             "color": "#2a3f5f"
            },
            "error_y": {
             "color": "#2a3f5f"
            },
            "marker": {
             "line": {
              "color": "#E5ECF6",
              "width": 0.5
             },
             "pattern": {
              "fillmode": "overlay",
              "size": 10,
              "solidity": 0.2
             }
            },
            "type": "bar"
           }
          ],
          "barpolar": [
           {
            "marker": {
             "line": {
              "color": "#E5ECF6",
              "width": 0.5
             },
             "pattern": {
              "fillmode": "overlay",
              "size": 10,
              "solidity": 0.2
             }
            },
            "type": "barpolar"
           }
          ],
          "carpet": [
           {
            "aaxis": {
             "endlinecolor": "#2a3f5f",
             "gridcolor": "white",
             "linecolor": "white",
             "minorgridcolor": "white",
             "startlinecolor": "#2a3f5f"
            },
            "baxis": {
             "endlinecolor": "#2a3f5f",
             "gridcolor": "white",
             "linecolor": "white",
             "minorgridcolor": "white",
             "startlinecolor": "#2a3f5f"
            },
            "type": "carpet"
           }
          ],
          "choropleth": [
           {
            "colorbar": {
             "outlinewidth": 0,
             "ticks": ""
            },
            "type": "choropleth"
           }
          ],
          "contour": [
           {
            "colorbar": {
             "outlinewidth": 0,
             "ticks": ""
            },
            "colorscale": [
             [
              0,
              "#0d0887"
             ],
             [
              0.1111111111111111,
              "#46039f"
             ],
             [
              0.2222222222222222,
              "#7201a8"
             ],
             [
              0.3333333333333333,
              "#9c179e"
             ],
             [
              0.4444444444444444,
              "#bd3786"
             ],
             [
              0.5555555555555556,
              "#d8576b"
             ],
             [
              0.6666666666666666,
              "#ed7953"
             ],
             [
              0.7777777777777778,
              "#fb9f3a"
             ],
             [
              0.8888888888888888,
              "#fdca26"
             ],
             [
              1,
              "#f0f921"
             ]
            ],
            "type": "contour"
           }
          ],
          "contourcarpet": [
           {
            "colorbar": {
             "outlinewidth": 0,
             "ticks": ""
            },
            "type": "contourcarpet"
           }
          ],
          "heatmap": [
           {
            "colorbar": {
             "outlinewidth": 0,
             "ticks": ""
            },
            "colorscale": [
             [
              0,
              "#0d0887"
             ],
             [
              0.1111111111111111,
              "#46039f"
             ],
             [
              0.2222222222222222,
              "#7201a8"
             ],
             [
              0.3333333333333333,
              "#9c179e"
             ],
             [
              0.4444444444444444,
              "#bd3786"
             ],
             [
              0.5555555555555556,
              "#d8576b"
             ],
             [
              0.6666666666666666,
              "#ed7953"
             ],
             [
              0.7777777777777778,
              "#fb9f3a"
             ],
             [
              0.8888888888888888,
              "#fdca26"
             ],
             [
              1,
              "#f0f921"
             ]
            ],
            "type": "heatmap"
           }
          ],
          "heatmapgl": [
           {
            "colorbar": {
             "outlinewidth": 0,
             "ticks": ""
            },
            "colorscale": [
             [
              0,
              "#0d0887"
             ],
             [
              0.1111111111111111,
              "#46039f"
             ],
             [
              0.2222222222222222,
              "#7201a8"
             ],
             [
              0.3333333333333333,
              "#9c179e"
             ],
             [
              0.4444444444444444,
              "#bd3786"
             ],
             [
              0.5555555555555556,
              "#d8576b"
             ],
             [
              0.6666666666666666,
              "#ed7953"
             ],
             [
              0.7777777777777778,
              "#fb9f3a"
             ],
             [
              0.8888888888888888,
              "#fdca26"
             ],
             [
              1,
              "#f0f921"
             ]
            ],
            "type": "heatmapgl"
           }
          ],
          "histogram": [
           {
            "marker": {
             "pattern": {
              "fillmode": "overlay",
              "size": 10,
              "solidity": 0.2
             }
            },
            "type": "histogram"
           }
          ],
          "histogram2d": [
           {
            "colorbar": {
             "outlinewidth": 0,
             "ticks": ""
            },
            "colorscale": [
             [
              0,
              "#0d0887"
             ],
             [
              0.1111111111111111,
              "#46039f"
             ],
             [
              0.2222222222222222,
              "#7201a8"
             ],
             [
              0.3333333333333333,
              "#9c179e"
             ],
             [
              0.4444444444444444,
              "#bd3786"
             ],
             [
              0.5555555555555556,
              "#d8576b"
             ],
             [
              0.6666666666666666,
              "#ed7953"
             ],
             [
              0.7777777777777778,
              "#fb9f3a"
             ],
             [
              0.8888888888888888,
              "#fdca26"
             ],
             [
              1,
              "#f0f921"
             ]
            ],
            "type": "histogram2d"
           }
          ],
          "histogram2dcontour": [
           {
            "colorbar": {
             "outlinewidth": 0,
             "ticks": ""
            },
            "colorscale": [
             [
              0,
              "#0d0887"
             ],
             [
              0.1111111111111111,
              "#46039f"
             ],
             [
              0.2222222222222222,
              "#7201a8"
             ],
             [
              0.3333333333333333,
              "#9c179e"
             ],
             [
              0.4444444444444444,
              "#bd3786"
             ],
             [
              0.5555555555555556,
              "#d8576b"
             ],
             [
              0.6666666666666666,
              "#ed7953"
             ],
             [
              0.7777777777777778,
              "#fb9f3a"
             ],
             [
              0.8888888888888888,
              "#fdca26"
             ],
             [
              1,
              "#f0f921"
             ]
            ],
            "type": "histogram2dcontour"
           }
          ],
          "mesh3d": [
           {
            "colorbar": {
             "outlinewidth": 0,
             "ticks": ""
            },
            "type": "mesh3d"
           }
          ],
          "parcoords": [
           {
            "line": {
             "colorbar": {
              "outlinewidth": 0,
              "ticks": ""
             }
            },
            "type": "parcoords"
           }
          ],
          "pie": [
           {
            "automargin": true,
            "type": "pie"
           }
          ],
          "scatter": [
           {
            "fillpattern": {
             "fillmode": "overlay",
             "size": 10,
             "solidity": 0.2
            },
            "type": "scatter"
           }
          ],
          "scatter3d": [
           {
            "line": {
             "colorbar": {
              "outlinewidth": 0,
              "ticks": ""
             }
            },
            "marker": {
             "colorbar": {
              "outlinewidth": 0,
              "ticks": ""
             }
            },
            "type": "scatter3d"
           }
          ],
          "scattercarpet": [
           {
            "marker": {
             "colorbar": {
              "outlinewidth": 0,
              "ticks": ""
             }
            },
            "type": "scattercarpet"
           }
          ],
          "scattergeo": [
           {
            "marker": {
             "colorbar": {
              "outlinewidth": 0,
              "ticks": ""
             }
            },
            "type": "scattergeo"
           }
          ],
          "scattergl": [
           {
            "marker": {
             "colorbar": {
              "outlinewidth": 0,
              "ticks": ""
             }
            },
            "type": "scattergl"
           }
          ],
          "scattermapbox": [
           {
            "marker": {
             "colorbar": {
              "outlinewidth": 0,
              "ticks": ""
             }
            },
            "type": "scattermapbox"
           }
          ],
          "scatterpolar": [
           {
            "marker": {
             "colorbar": {
              "outlinewidth": 0,
              "ticks": ""
             }
            },
            "type": "scatterpolar"
           }
          ],
          "scatterpolargl": [
           {
            "marker": {
             "colorbar": {
              "outlinewidth": 0,
              "ticks": ""
             }
            },
            "type": "scatterpolargl"
           }
          ],
          "scatterternary": [
           {
            "marker": {
             "colorbar": {
              "outlinewidth": 0,
              "ticks": ""
             }
            },
            "type": "scatterternary"
           }
          ],
          "surface": [
           {
            "colorbar": {
             "outlinewidth": 0,
             "ticks": ""
            },
            "colorscale": [
             [
              0,
              "#0d0887"
             ],
             [
              0.1111111111111111,
              "#46039f"
             ],
             [
              0.2222222222222222,
              "#7201a8"
             ],
             [
              0.3333333333333333,
              "#9c179e"
             ],
             [
              0.4444444444444444,
              "#bd3786"
             ],
             [
              0.5555555555555556,
              "#d8576b"
             ],
             [
              0.6666666666666666,
              "#ed7953"
             ],
             [
              0.7777777777777778,
              "#fb9f3a"
             ],
             [
              0.8888888888888888,
              "#fdca26"
             ],
             [
              1,
              "#f0f921"
             ]
            ],
            "type": "surface"
           }
          ],
          "table": [
           {
            "cells": {
             "fill": {
              "color": "#EBF0F8"
             },
             "line": {
              "color": "white"
             }
            },
            "header": {
             "fill": {
              "color": "#C8D4E3"
             },
             "line": {
              "color": "white"
             }
            },
            "type": "table"
           }
          ]
         },
         "layout": {
          "annotationdefaults": {
           "arrowcolor": "#2a3f5f",
           "arrowhead": 0,
           "arrowwidth": 1
          },
          "autotypenumbers": "strict",
          "coloraxis": {
           "colorbar": {
            "outlinewidth": 0,
            "ticks": ""
           }
          },
          "colorscale": {
           "diverging": [
            [
             0,
             "#8e0152"
            ],
            [
             0.1,
             "#c51b7d"
            ],
            [
             0.2,
             "#de77ae"
            ],
            [
             0.3,
             "#f1b6da"
            ],
            [
             0.4,
             "#fde0ef"
            ],
            [
             0.5,
             "#f7f7f7"
            ],
            [
             0.6,
             "#e6f5d0"
            ],
            [
             0.7,
             "#b8e186"
            ],
            [
             0.8,
             "#7fbc41"
            ],
            [
             0.9,
             "#4d9221"
            ],
            [
             1,
             "#276419"
            ]
           ],
           "sequential": [
            [
             0,
             "#0d0887"
            ],
            [
             0.1111111111111111,
             "#46039f"
            ],
            [
             0.2222222222222222,
             "#7201a8"
            ],
            [
             0.3333333333333333,
             "#9c179e"
            ],
            [
             0.4444444444444444,
             "#bd3786"
            ],
            [
             0.5555555555555556,
             "#d8576b"
            ],
            [
             0.6666666666666666,
             "#ed7953"
            ],
            [
             0.7777777777777778,
             "#fb9f3a"
            ],
            [
             0.8888888888888888,
             "#fdca26"
            ],
            [
             1,
             "#f0f921"
            ]
           ],
           "sequentialminus": [
            [
             0,
             "#0d0887"
            ],
            [
             0.1111111111111111,
             "#46039f"
            ],
            [
             0.2222222222222222,
             "#7201a8"
            ],
            [
             0.3333333333333333,
             "#9c179e"
            ],
            [
             0.4444444444444444,
             "#bd3786"
            ],
            [
             0.5555555555555556,
             "#d8576b"
            ],
            [
             0.6666666666666666,
             "#ed7953"
            ],
            [
             0.7777777777777778,
             "#fb9f3a"
            ],
            [
             0.8888888888888888,
             "#fdca26"
            ],
            [
             1,
             "#f0f921"
            ]
           ]
          },
          "colorway": [
           "#636efa",
           "#EF553B",
           "#00cc96",
           "#ab63fa",
           "#FFA15A",
           "#19d3f3",
           "#FF6692",
           "#B6E880",
           "#FF97FF",
           "#FECB52"
          ],
          "font": {
           "color": "#2a3f5f"
          },
          "geo": {
           "bgcolor": "white",
           "lakecolor": "white",
           "landcolor": "#E5ECF6",
           "showlakes": true,
           "showland": true,
           "subunitcolor": "white"
          },
          "hoverlabel": {
           "align": "left"
          },
          "hovermode": "closest",
          "mapbox": {
           "style": "light"
          },
          "paper_bgcolor": "white",
          "plot_bgcolor": "#E5ECF6",
          "polar": {
           "angularaxis": {
            "gridcolor": "white",
            "linecolor": "white",
            "ticks": ""
           },
           "bgcolor": "#E5ECF6",
           "radialaxis": {
            "gridcolor": "white",
            "linecolor": "white",
            "ticks": ""
           }
          },
          "scene": {
           "xaxis": {
            "backgroundcolor": "#E5ECF6",
            "gridcolor": "white",
            "gridwidth": 2,
            "linecolor": "white",
            "showbackground": true,
            "ticks": "",
            "zerolinecolor": "white"
           },
           "yaxis": {
            "backgroundcolor": "#E5ECF6",
            "gridcolor": "white",
            "gridwidth": 2,
            "linecolor": "white",
            "showbackground": true,
            "ticks": "",
            "zerolinecolor": "white"
           },
           "zaxis": {
            "backgroundcolor": "#E5ECF6",
            "gridcolor": "white",
            "gridwidth": 2,
            "linecolor": "white",
            "showbackground": true,
            "ticks": "",
            "zerolinecolor": "white"
           }
          },
          "shapedefaults": {
           "line": {
            "color": "#2a3f5f"
           }
          },
          "ternary": {
           "aaxis": {
            "gridcolor": "white",
            "linecolor": "white",
            "ticks": ""
           },
           "baxis": {
            "gridcolor": "white",
            "linecolor": "white",
            "ticks": ""
           },
           "bgcolor": "#E5ECF6",
           "caxis": {
            "gridcolor": "white",
            "linecolor": "white",
            "ticks": ""
           }
          },
          "title": {
           "x": 0.05
          },
          "xaxis": {
           "automargin": true,
           "gridcolor": "white",
           "linecolor": "white",
           "ticks": "",
           "title": {
            "standoff": 15
           },
           "zerolinecolor": "white",
           "zerolinewidth": 2
          },
          "yaxis": {
           "automargin": true,
           "gridcolor": "white",
           "linecolor": "white",
           "ticks": "",
           "title": {
            "standoff": 15
           },
           "zerolinecolor": "white",
           "zerolinewidth": 2
          }
         }
        },
        "title": {
         "text": "Les passes entre Téji Savanier et Akor Jerome Adams durant la 2 période de jeu"
        },
        "width": 1000,
        "xaxis": {
         "range": [
          0,
          120
         ],
         "showgrid": false,
         "zeroline": false
        },
        "yaxis": {
         "autorange": "reversed",
         "range": [
          0,
          80
         ],
         "showgrid": false,
         "zeroline": false
        }
       }
      }
     },
     "metadata": {},
     "output_type": "display_data"
    }
   ],
   "source": [
    "Joueurs_passes(df_passes, 'Montpellier', 2, 'Téji Savanier', 'Akor Jerome Adams' )"
   ]
  },
  {
   "cell_type": "code",
   "execution_count": null,
   "metadata": {},
   "outputs": [
    {
     "data": {
      "application/vnd.plotly.v1+json": {
       "config": {
        "plotlyServerURL": "https://plot.ly"
       },
       "data": [
        {
         "marker": {
          "color": "blue",
          "size": 10
         },
         "mode": "markers+text",
         "text": "Player1",
         "textposition": "top center",
         "type": "scatter",
         "x": [
          30
         ],
         "y": [
          20
         ]
        },
        {
         "marker": {
          "color": "blue",
          "size": 10
         },
         "mode": "markers+text",
         "text": "Player2",
         "textposition": "top center",
         "type": "scatter",
         "x": [
          40
         ],
         "y": [
          30
         ]
        },
        {
         "marker": {
          "color": "blue",
          "size": 10
         },
         "mode": "markers+text",
         "text": "Player3",
         "textposition": "top center",
         "type": "scatter",
         "x": [
          60
         ],
         "y": [
          20
         ]
        },
        {
         "marker": {
          "color": "blue",
          "size": 10
         },
         "mode": "markers+text",
         "text": "Player4",
         "textposition": "top center",
         "type": "scatter",
         "x": [
          70
         ],
         "y": [
          30
         ]
        },
        {
         "line": {
          "width": 2
         },
         "mode": "lines+text",
         "text": "5",
         "textposition": "bottom center",
         "type": "scatter",
         "x": [
          30,
          40
         ],
         "y": [
          20,
          30
         ]
        },
        {
         "line": {
          "width": 2
         },
         "mode": "lines+text",
         "text": "3",
         "textposition": "bottom center",
         "type": "scatter",
         "x": [
          40,
          60
         ],
         "y": [
          30,
          20
         ]
        },
        {
         "line": {
          "width": 2
         },
         "mode": "lines+text",
         "text": "2",
         "textposition": "bottom center",
         "type": "scatter",
         "x": [
          60,
          70
         ],
         "y": [
          20,
          30
         ]
        },
        {
         "line": {
          "width": 2
         },
         "mode": "lines+text",
         "text": "1",
         "textposition": "bottom center",
         "type": "scatter",
         "x": [
          30,
          70
         ],
         "y": [
          20,
          30
         ]
        }
       ],
       "layout": {
        "height": 450,
        "shapes": [
         {
          "line": {
           "color": "Black"
          },
          "type": "rect",
          "x0": 0,
          "x1": 120,
          "y0": 0,
          "y1": 80
         },
         {
          "line": {
           "color": "Black",
           "dash": "dot"
          },
          "type": "line",
          "x0": 60,
          "x1": 60,
          "y0": 0,
          "y1": 80
         },
         {
          "line": {
           "color": "Black"
          },
          "type": "rect",
          "x0": 0,
          "x1": 18,
          "y0": 18,
          "y1": 62
         },
         {
          "line": {
           "color": "Black"
          },
          "type": "rect",
          "x0": 102,
          "x1": 120,
          "y0": 18,
          "y1": 62
         },
         {
          "line": {
           "color": "Black"
          },
          "type": "circle",
          "x0": 50.4,
          "x1": 69.6,
          "xref": "x",
          "y0": 30.4,
          "y1": 49.6,
          "yref": "y"
         }
        ],
        "showlegend": false,
        "template": {
         "data": {
          "bar": [
           {
            "error_x": {
             "color": "#2a3f5f"
            },
            "error_y": {
             "color": "#2a3f5f"
            },
            "marker": {
             "line": {
              "color": "#E5ECF6",
              "width": 0.5
             },
             "pattern": {
              "fillmode": "overlay",
              "size": 10,
              "solidity": 0.2
             }
            },
            "type": "bar"
           }
          ],
          "barpolar": [
           {
            "marker": {
             "line": {
              "color": "#E5ECF6",
              "width": 0.5
             },
             "pattern": {
              "fillmode": "overlay",
              "size": 10,
              "solidity": 0.2
             }
            },
            "type": "barpolar"
           }
          ],
          "carpet": [
           {
            "aaxis": {
             "endlinecolor": "#2a3f5f",
             "gridcolor": "white",
             "linecolor": "white",
             "minorgridcolor": "white",
             "startlinecolor": "#2a3f5f"
            },
            "baxis": {
             "endlinecolor": "#2a3f5f",
             "gridcolor": "white",
             "linecolor": "white",
             "minorgridcolor": "white",
             "startlinecolor": "#2a3f5f"
            },
            "type": "carpet"
           }
          ],
          "choropleth": [
           {
            "colorbar": {
             "outlinewidth": 0,
             "ticks": ""
            },
            "type": "choropleth"
           }
          ],
          "contour": [
           {
            "colorbar": {
             "outlinewidth": 0,
             "ticks": ""
            },
            "colorscale": [
             [
              0,
              "#0d0887"
             ],
             [
              0.1111111111111111,
              "#46039f"
             ],
             [
              0.2222222222222222,
              "#7201a8"
             ],
             [
              0.3333333333333333,
              "#9c179e"
             ],
             [
              0.4444444444444444,
              "#bd3786"
             ],
             [
              0.5555555555555556,
              "#d8576b"
             ],
             [
              0.6666666666666666,
              "#ed7953"
             ],
             [
              0.7777777777777778,
              "#fb9f3a"
             ],
             [
              0.8888888888888888,
              "#fdca26"
             ],
             [
              1,
              "#f0f921"
             ]
            ],
            "type": "contour"
           }
          ],
          "contourcarpet": [
           {
            "colorbar": {
             "outlinewidth": 0,
             "ticks": ""
            },
            "type": "contourcarpet"
           }
          ],
          "heatmap": [
           {
            "colorbar": {
             "outlinewidth": 0,
             "ticks": ""
            },
            "colorscale": [
             [
              0,
              "#0d0887"
             ],
             [
              0.1111111111111111,
              "#46039f"
             ],
             [
              0.2222222222222222,
              "#7201a8"
             ],
             [
              0.3333333333333333,
              "#9c179e"
             ],
             [
              0.4444444444444444,
              "#bd3786"
             ],
             [
              0.5555555555555556,
              "#d8576b"
             ],
             [
              0.6666666666666666,
              "#ed7953"
             ],
             [
              0.7777777777777778,
              "#fb9f3a"
             ],
             [
              0.8888888888888888,
              "#fdca26"
             ],
             [
              1,
              "#f0f921"
             ]
            ],
            "type": "heatmap"
           }
          ],
          "heatmapgl": [
           {
            "colorbar": {
             "outlinewidth": 0,
             "ticks": ""
            },
            "colorscale": [
             [
              0,
              "#0d0887"
             ],
             [
              0.1111111111111111,
              "#46039f"
             ],
             [
              0.2222222222222222,
              "#7201a8"
             ],
             [
              0.3333333333333333,
              "#9c179e"
             ],
             [
              0.4444444444444444,
              "#bd3786"
             ],
             [
              0.5555555555555556,
              "#d8576b"
             ],
             [
              0.6666666666666666,
              "#ed7953"
             ],
             [
              0.7777777777777778,
              "#fb9f3a"
             ],
             [
              0.8888888888888888,
              "#fdca26"
             ],
             [
              1,
              "#f0f921"
             ]
            ],
            "type": "heatmapgl"
           }
          ],
          "histogram": [
           {
            "marker": {
             "pattern": {
              "fillmode": "overlay",
              "size": 10,
              "solidity": 0.2
             }
            },
            "type": "histogram"
           }
          ],
          "histogram2d": [
           {
            "colorbar": {
             "outlinewidth": 0,
             "ticks": ""
            },
            "colorscale": [
             [
              0,
              "#0d0887"
             ],
             [
              0.1111111111111111,
              "#46039f"
             ],
             [
              0.2222222222222222,
              "#7201a8"
             ],
             [
              0.3333333333333333,
              "#9c179e"
             ],
             [
              0.4444444444444444,
              "#bd3786"
             ],
             [
              0.5555555555555556,
              "#d8576b"
             ],
             [
              0.6666666666666666,
              "#ed7953"
             ],
             [
              0.7777777777777778,
              "#fb9f3a"
             ],
             [
              0.8888888888888888,
              "#fdca26"
             ],
             [
              1,
              "#f0f921"
             ]
            ],
            "type": "histogram2d"
           }
          ],
          "histogram2dcontour": [
           {
            "colorbar": {
             "outlinewidth": 0,
             "ticks": ""
            },
            "colorscale": [
             [
              0,
              "#0d0887"
             ],
             [
              0.1111111111111111,
              "#46039f"
             ],
             [
              0.2222222222222222,
              "#7201a8"
             ],
             [
              0.3333333333333333,
              "#9c179e"
             ],
             [
              0.4444444444444444,
              "#bd3786"
             ],
             [
              0.5555555555555556,
              "#d8576b"
             ],
             [
              0.6666666666666666,
              "#ed7953"
             ],
             [
              0.7777777777777778,
              "#fb9f3a"
             ],
             [
              0.8888888888888888,
              "#fdca26"
             ],
             [
              1,
              "#f0f921"
             ]
            ],
            "type": "histogram2dcontour"
           }
          ],
          "mesh3d": [
           {
            "colorbar": {
             "outlinewidth": 0,
             "ticks": ""
            },
            "type": "mesh3d"
           }
          ],
          "parcoords": [
           {
            "line": {
             "colorbar": {
              "outlinewidth": 0,
              "ticks": ""
             }
            },
            "type": "parcoords"
           }
          ],
          "pie": [
           {
            "automargin": true,
            "type": "pie"
           }
          ],
          "scatter": [
           {
            "fillpattern": {
             "fillmode": "overlay",
             "size": 10,
             "solidity": 0.2
            },
            "type": "scatter"
           }
          ],
          "scatter3d": [
           {
            "line": {
             "colorbar": {
              "outlinewidth": 0,
              "ticks": ""
             }
            },
            "marker": {
             "colorbar": {
              "outlinewidth": 0,
              "ticks": ""
             }
            },
            "type": "scatter3d"
           }
          ],
          "scattercarpet": [
           {
            "marker": {
             "colorbar": {
              "outlinewidth": 0,
              "ticks": ""
             }
            },
            "type": "scattercarpet"
           }
          ],
          "scattergeo": [
           {
            "marker": {
             "colorbar": {
              "outlinewidth": 0,
              "ticks": ""
             }
            },
            "type": "scattergeo"
           }
          ],
          "scattergl": [
           {
            "marker": {
             "colorbar": {
              "outlinewidth": 0,
              "ticks": ""
             }
            },
            "type": "scattergl"
           }
          ],
          "scattermapbox": [
           {
            "marker": {
             "colorbar": {
              "outlinewidth": 0,
              "ticks": ""
             }
            },
            "type": "scattermapbox"
           }
          ],
          "scatterpolar": [
           {
            "marker": {
             "colorbar": {
              "outlinewidth": 0,
              "ticks": ""
             }
            },
            "type": "scatterpolar"
           }
          ],
          "scatterpolargl": [
           {
            "marker": {
             "colorbar": {
              "outlinewidth": 0,
              "ticks": ""
             }
            },
            "type": "scatterpolargl"
           }
          ],
          "scatterternary": [
           {
            "marker": {
             "colorbar": {
              "outlinewidth": 0,
              "ticks": ""
             }
            },
            "type": "scatterternary"
           }
          ],
          "surface": [
           {
            "colorbar": {
             "outlinewidth": 0,
             "ticks": ""
            },
            "colorscale": [
             [
              0,
              "#0d0887"
             ],
             [
              0.1111111111111111,
              "#46039f"
             ],
             [
              0.2222222222222222,
              "#7201a8"
             ],
             [
              0.3333333333333333,
              "#9c179e"
             ],
             [
              0.4444444444444444,
              "#bd3786"
             ],
             [
              0.5555555555555556,
              "#d8576b"
             ],
             [
              0.6666666666666666,
              "#ed7953"
             ],
             [
              0.7777777777777778,
              "#fb9f3a"
             ],
             [
              0.8888888888888888,
              "#fdca26"
             ],
             [
              1,
              "#f0f921"
             ]
            ],
            "type": "surface"
           }
          ],
          "table": [
           {
            "cells": {
             "fill": {
              "color": "#EBF0F8"
             },
             "line": {
              "color": "white"
             }
            },
            "header": {
             "fill": {
              "color": "#C8D4E3"
             },
             "line": {
              "color": "white"
             }
            },
            "type": "table"
           }
          ]
         },
         "layout": {
          "annotationdefaults": {
           "arrowcolor": "#2a3f5f",
           "arrowhead": 0,
           "arrowwidth": 1
          },
          "autotypenumbers": "strict",
          "coloraxis": {
           "colorbar": {
            "outlinewidth": 0,
            "ticks": ""
           }
          },
          "colorscale": {
           "diverging": [
            [
             0,
             "#8e0152"
            ],
            [
             0.1,
             "#c51b7d"
            ],
            [
             0.2,
             "#de77ae"
            ],
            [
             0.3,
             "#f1b6da"
            ],
            [
             0.4,
             "#fde0ef"
            ],
            [
             0.5,
             "#f7f7f7"
            ],
            [
             0.6,
             "#e6f5d0"
            ],
            [
             0.7,
             "#b8e186"
            ],
            [
             0.8,
             "#7fbc41"
            ],
            [
             0.9,
             "#4d9221"
            ],
            [
             1,
             "#276419"
            ]
           ],
           "sequential": [
            [
             0,
             "#0d0887"
            ],
            [
             0.1111111111111111,
             "#46039f"
            ],
            [
             0.2222222222222222,
             "#7201a8"
            ],
            [
             0.3333333333333333,
             "#9c179e"
            ],
            [
             0.4444444444444444,
             "#bd3786"
            ],
            [
             0.5555555555555556,
             "#d8576b"
            ],
            [
             0.6666666666666666,
             "#ed7953"
            ],
            [
             0.7777777777777778,
             "#fb9f3a"
            ],
            [
             0.8888888888888888,
             "#fdca26"
            ],
            [
             1,
             "#f0f921"
            ]
           ],
           "sequentialminus": [
            [
             0,
             "#0d0887"
            ],
            [
             0.1111111111111111,
             "#46039f"
            ],
            [
             0.2222222222222222,
             "#7201a8"
            ],
            [
             0.3333333333333333,
             "#9c179e"
            ],
            [
             0.4444444444444444,
             "#bd3786"
            ],
            [
             0.5555555555555556,
             "#d8576b"
            ],
            [
             0.6666666666666666,
             "#ed7953"
            ],
            [
             0.7777777777777778,
             "#fb9f3a"
            ],
            [
             0.8888888888888888,
             "#fdca26"
            ],
            [
             1,
             "#f0f921"
            ]
           ]
          },
          "colorway": [
           "#636efa",
           "#EF553B",
           "#00cc96",
           "#ab63fa",
           "#FFA15A",
           "#19d3f3",
           "#FF6692",
           "#B6E880",
           "#FF97FF",
           "#FECB52"
          ],
          "font": {
           "color": "#2a3f5f"
          },
          "geo": {
           "bgcolor": "white",
           "lakecolor": "white",
           "landcolor": "#E5ECF6",
           "showlakes": true,
           "showland": true,
           "subunitcolor": "white"
          },
          "hoverlabel": {
           "align": "left"
          },
          "hovermode": "closest",
          "mapbox": {
           "style": "light"
          },
          "paper_bgcolor": "white",
          "plot_bgcolor": "#E5ECF6",
          "polar": {
           "angularaxis": {
            "gridcolor": "white",
            "linecolor": "white",
            "ticks": ""
           },
           "bgcolor": "#E5ECF6",
           "radialaxis": {
            "gridcolor": "white",
            "linecolor": "white",
            "ticks": ""
           }
          },
          "scene": {
           "xaxis": {
            "backgroundcolor": "#E5ECF6",
            "gridcolor": "white",
            "gridwidth": 2,
            "linecolor": "white",
            "showbackground": true,
            "ticks": "",
            "zerolinecolor": "white"
           },
           "yaxis": {
            "backgroundcolor": "#E5ECF6",
            "gridcolor": "white",
            "gridwidth": 2,
            "linecolor": "white",
            "showbackground": true,
            "ticks": "",
            "zerolinecolor": "white"
           },
           "zaxis": {
            "backgroundcolor": "#E5ECF6",
            "gridcolor": "white",
            "gridwidth": 2,
            "linecolor": "white",
            "showbackground": true,
            "ticks": "",
            "zerolinecolor": "white"
           }
          },
          "shapedefaults": {
           "line": {
            "color": "#2a3f5f"
           }
          },
          "ternary": {
           "aaxis": {
            "gridcolor": "white",
            "linecolor": "white",
            "ticks": ""
           },
           "baxis": {
            "gridcolor": "white",
            "linecolor": "white",
            "ticks": ""
           },
           "bgcolor": "#E5ECF6",
           "caxis": {
            "gridcolor": "white",
            "linecolor": "white",
            "ticks": ""
           }
          },
          "title": {
           "x": 0.05
          },
          "xaxis": {
           "automargin": true,
           "gridcolor": "white",
           "linecolor": "white",
           "ticks": "",
           "title": {
            "standoff": 15
           },
           "zerolinecolor": "white",
           "zerolinewidth": 2
          },
          "yaxis": {
           "automargin": true,
           "gridcolor": "white",
           "linecolor": "white",
           "ticks": "",
           "title": {
            "standoff": 15
           },
           "zerolinecolor": "white",
           "zerolinewidth": 2
          }
         }
        },
        "title": {
         "text": "Réseau de passes sur terrain de football"
        },
        "width": 800,
        "xaxis": {
         "range": [
          0,
          120
         ],
         "showgrid": false,
         "zeroline": false
        },
        "yaxis": {
         "range": [
          0,
          80
         ],
         "showgrid": false,
         "zeroline": false
        }
       }
      }
     },
     "metadata": {},
     "output_type": "display_data"
    }
   ],
   "source": [
    "import pandas as pd\n",
    "import plotly.graph_objects as go\n",
    "\n",
    "# Exemple de données simulées\n",
    "data = {\n",
    "    'player_name': ['Player1', 'Player2', 'Player3', 'Player4'],\n",
    "    'team': ['TeamA', 'TeamA', 'TeamB', 'TeamB'],\n",
    "    'x': [30, 40, 60, 70],\n",
    "    'y': [20, 30, 20, 30]\n",
    "}\n",
    "\n",
    "passes_data = {\n",
    "    ('Player1', 'Player2'): 5,\n",
    "    ('Player2', 'Player3'): 3,\n",
    "    ('Player3', 'Player4'): 2,\n",
    "    ('Player1', 'Player4'): 1\n",
    "}\n",
    "\n",
    "df_players = pd.DataFrame(data)\n",
    "df_passes = pd.DataFrame([\n",
    "    [k[0], k[1], v] for k, v in passes_data.items()],\n",
    "    columns=['source', 'target', 'passes'])\n",
    "\n",
    "# Création du terrain\n",
    "fig = go.Figure()\n",
    "\n",
    "terrain_shapes = [\n",
    "    dict(type=\"rect\", x0=0, y0=0, x1=120, y1=80, line=dict(color=\"Black\")),\n",
    "    dict(type=\"line\", x0=60, y0=0, x1=60, y1=80, line=dict(color=\"Black\", dash=\"dot\")),\n",
    "    dict(type=\"rect\", x0=0, y0=18, x1=18, y1=62, line=dict(color=\"Black\")),\n",
    "    dict(type=\"rect\", x0=102, y0=18, x1=120, y1=62, line=dict(color=\"Black\")),\n",
    "    dict(type=\"circle\", xref=\"x\", yref=\"y\", x0=50.4, y0=30.4, x1=69.6, y1=49.6, line_color=\"Black\"),\n",
    "]\n",
    "\n",
    "fig.update_layout(shapes=terrain_shapes, showlegend=False)\n",
    "\n",
    "# Ajouter des joueurs et des passes\n",
    "for i, row in df_players.iterrows():\n",
    "    fig.add_trace(go.Scatter(x=[row['x']], y=[row['y']], mode='markers+text',\n",
    "                             text=row['player_name'], textposition='top center',\n",
    "                             marker=dict(size=10, color='blue')))\n",
    "\n",
    "for i, row in df_passes.iterrows():\n",
    "    source = df_players[df_players['player_name'] == row['source']].iloc[0]\n",
    "    target = df_players[df_players['player_name'] == row['target']].iloc[0]\n",
    "    fig.add_trace(go.Scatter(x=[source['x'], target['x']], y=[source['y'], target['y']],\n",
    "                             mode='lines+text', line=dict(width=2), text=str(row['passes']),\n",
    "                             textposition='bottom center'))\n",
    "\n",
    "# Configurations finales\n",
    "fig.update_layout(title='Réseau de passes sur terrain de football',\n",
    "                  xaxis=dict(showgrid=False, zeroline=False, range=[0, 120]),\n",
    "                  yaxis=dict(showgrid=False, zeroline=False, range=[0, 80]),\n",
    "                  width=800, height=450)\n",
    "fig.show()\n"
   ]
  },
  {
   "cell_type": "code",
   "execution_count": 1,
   "metadata": {},
   "outputs": [
    {
     "ename": "NameError",
     "evalue": "name 'tracking' is not defined",
     "output_type": "error",
     "traceback": [
      "\u001b[0;31m---------------------------------------------------------------------------\u001b[0m",
      "\u001b[0;31mNameError\u001b[0m                                 Traceback (most recent call last)",
      "\u001b[0;32m/tmp/ipykernel_13397/1813350830.py\u001b[0m in \u001b[0;36m<cell line: 54>\u001b[0;34m()\u001b[0m\n\u001b[1;32m     52\u001b[0m \u001b[0;34m\u001b[0m\u001b[0m\n\u001b[1;32m     53\u001b[0m \u001b[0;31m# Appel de la fonction avec des données exemple\u001b[0m\u001b[0;34m\u001b[0m\u001b[0;34m\u001b[0m\u001b[0m\n\u001b[0;32m---> 54\u001b[0;31m \u001b[0mcreate_pass_network\u001b[0m\u001b[0;34m(\u001b[0m\u001b[0mtracking\u001b[0m\u001b[0;34m,\u001b[0m \u001b[0;34m'Montpellier'\u001b[0m\u001b[0;34m,\u001b[0m \u001b[0;36m1\u001b[0m\u001b[0;34m)\u001b[0m\u001b[0;34m\u001b[0m\u001b[0;34m\u001b[0m\u001b[0m\n\u001b[0m",
      "\u001b[0;31mNameError\u001b[0m: name 'tracking' is not defined"
     ]
    }
   ],
   "source": [
    "import plotly.graph_objects as go\n",
    "\n",
    "def create_pass_network(df, team_name, period):\n",
    "    fig = go.Figure()\n",
    "\n",
    "    # Dessin du terrain\n",
    "    terrain_shapes = [\n",
    "        dict(type=\"rect\", x0=0, y0=0, x1=120, y1=80, line=dict(color=\"Black\")),\n",
    "        dict(type=\"line\", x0=60, y0=0, x1=60, y1=80, line=dict(color=\"Black\", dash=\"dot\")),\n",
    "        dict(type=\"rect\", x0=0, y0=18, x1=18, y1=62, line=dict(color=\"Black\")),\n",
    "        dict(type=\"rect\", x0=102, y0=18, x1=120, y1=62, line=dict(color=\"Black\")),\n",
    "        dict(type=\"circle\", xref=\"x\", yref=\"y\", x0=50.4, y0=30.4, x1=69.6, y1=49.6, line_color=\"Black\"),\n",
    "    ]\n",
    "    fig.update_layout(shapes=terrain_shapes, showlegend=False)\n",
    "\n",
    "    # Filtrer les données par équipe et période, puis calculer les positions moyennes\n",
    "    df = df[(df['team'] == team_name) & (df['period'] == period)]\n",
    "    players = df.groupby('player_name').agg({'x': 'mean', 'y': 'mean'}).reset_index()\n",
    "\n",
    "    # Calculer le nombre de passes entre chaque joueur\n",
    "    pass_counts = df.groupby(['source', 'target']).size().reset_index(name='passes')\n",
    "\n",
    "    # Ajouter les joueurs\n",
    "    for i, player in players.iterrows():\n",
    "        fig.add_trace(go.Scatter(x=[player['x']], y=[player['y']], mode='markers+text',\n",
    "                                 text=player['player_name'], textposition='top center',\n",
    "                                 marker=dict(size=10, color='blue')))\n",
    "\n",
    "    # Ajouter les passes entre les joueurs\n",
    "    for i, p in pass_counts.iterrows():\n",
    "        source = players[players['player_name'] == p['source']].iloc[0]\n",
    "        target = players[players['player_name'] == p['target']].iloc[0]\n",
    "\n",
    "        # Calculer les points médians pour le texte\n",
    "        mid_x = (source['x'] + target['x']) / 2\n",
    "        mid_y = (source['y'] + target['y']) / 2\n",
    "\n",
    "        fig.add_trace(go.Scatter(x=[source['x'], target['x']], y=[source['y'], target['y']],\n",
    "                                 mode='lines',\n",
    "                                 line=dict(width=2),\n",
    "                                 hoverinfo='none'))\n",
    "\n",
    "        fig.add_annotation(x=mid_x, y=mid_y, text=str(p['passes']),\n",
    "                           showarrow=False, font=dict(color='black', size=16))\n",
    "\n",
    "    # Configurations finales\n",
    "    fig.update_layout(title='Réseau de passes sur terrain de football',\n",
    "                      xaxis=dict(showgrid=False, zeroline=False, range=[0, 120]),\n",
    "                      yaxis=dict(showgrid=False, zeroline=False, range=[0, 80]),\n",
    "                      width=800, height=450)\n",
    "    fig.show()\n",
    "\n",
    "# Appel de la fonction avec des données exemple\n",
    "create_pass_network(tracking, 'Montpellier', 1)\n"
   ]
  }
 ],
 "metadata": {
  "kernelspec": {
   "display_name": "Python 3",
   "language": "python",
   "name": "python3"
  },
  "language_info": {
   "codemirror_mode": {
    "name": "ipython",
    "version": 3
   },
   "file_extension": ".py",
   "mimetype": "text/x-python",
   "name": "python",
   "nbconvert_exporter": "python",
   "pygments_lexer": "ipython3",
   "version": "3.10.12"
  },
  "orig_nbformat": 4
 },
 "nbformat": 4,
 "nbformat_minor": 2
}
