{
 "cells": [
  {
   "cell_type": "code",
   "execution_count": 41,
   "metadata": {},
   "outputs": [
    {
     "data": {
      "text/html": [
       "<div>\n",
       "<style scoped>\n",
       "    .dataframe tbody tr th:only-of-type {\n",
       "        vertical-align: middle;\n",
       "    }\n",
       "\n",
       "    .dataframe tbody tr th {\n",
       "        vertical-align: top;\n",
       "    }\n",
       "\n",
       "    .dataframe thead th {\n",
       "        text-align: right;\n",
       "    }\n",
       "</style>\n",
       "<table border=\"1\" class=\"dataframe\">\n",
       "  <thead>\n",
       "    <tr style=\"text-align: right;\">\n",
       "      <th></th>\n",
       "      <th>datetime</th>\n",
       "      <th>team.name</th>\n",
       "      <th>period</th>\n",
       "      <th>player.name</th>\n",
       "      <th>location.x</th>\n",
       "      <th>location.y</th>\n",
       "      <th>pass.recipient.name</th>\n",
       "      <th>pass.end_location_x</th>\n",
       "      <th>pass.end_location_y</th>\n",
       "    </tr>\n",
       "  </thead>\n",
       "  <tbody>\n",
       "    <tr>\n",
       "      <th>4</th>\n",
       "      <td>2023-08-13 00:00:00.421</td>\n",
       "      <td>Lorient</td>\n",
       "      <td>1</td>\n",
       "      <td>Siriné Doucouré</td>\n",
       "      <td>61.0</td>\n",
       "      <td>40.1</td>\n",
       "      <td>Laurent Abergel</td>\n",
       "      <td>57.0</td>\n",
       "      <td>39.1</td>\n",
       "    </tr>\n",
       "    <tr>\n",
       "      <th>8</th>\n",
       "      <td>2023-08-13 00:00:05.171</td>\n",
       "      <td>Lorient</td>\n",
       "      <td>1</td>\n",
       "      <td>Laurent Abergel</td>\n",
       "      <td>62.6</td>\n",
       "      <td>59.2</td>\n",
       "      <td>Gedeon Kalulu Kyatengwa</td>\n",
       "      <td>73.4</td>\n",
       "      <td>76.9</td>\n",
       "    </tr>\n",
       "    <tr>\n",
       "      <th>11</th>\n",
       "      <td>2023-08-13 00:00:10.013</td>\n",
       "      <td>Lorient</td>\n",
       "      <td>1</td>\n",
       "      <td>Gedeon Kalulu Kyatengwa</td>\n",
       "      <td>67.8</td>\n",
       "      <td>70.7</td>\n",
       "      <td>Montassar Omar Talbi</td>\n",
       "      <td>52.0</td>\n",
       "      <td>42.5</td>\n",
       "    </tr>\n",
       "    <tr>\n",
       "      <th>14</th>\n",
       "      <td>2023-08-13 00:00:16.026</td>\n",
       "      <td>Lorient</td>\n",
       "      <td>1</td>\n",
       "      <td>Montassar Omar Talbi</td>\n",
       "      <td>51.1</td>\n",
       "      <td>31.7</td>\n",
       "      <td>Laurent Abergel</td>\n",
       "      <td>57.0</td>\n",
       "      <td>45.3</td>\n",
       "    </tr>\n",
       "    <tr>\n",
       "      <th>17</th>\n",
       "      <td>2023-08-13 00:00:17.550</td>\n",
       "      <td>Lorient</td>\n",
       "      <td>1</td>\n",
       "      <td>Laurent Abergel</td>\n",
       "      <td>57.0</td>\n",
       "      <td>45.3</td>\n",
       "      <td>Julien Laporte</td>\n",
       "      <td>41.8</td>\n",
       "      <td>44.7</td>\n",
       "    </tr>\n",
       "    <tr>\n",
       "      <th>20</th>\n",
       "      <td>2023-08-13 00:00:19.132</td>\n",
       "      <td>Lorient</td>\n",
       "      <td>1</td>\n",
       "      <td>Julien Laporte</td>\n",
       "      <td>41.8</td>\n",
       "      <td>44.7</td>\n",
       "      <td>Formose Mendy</td>\n",
       "      <td>43.3</td>\n",
       "      <td>65.7</td>\n",
       "    </tr>\n",
       "    <tr>\n",
       "      <th>23</th>\n",
       "      <td>2023-08-13 00:00:22.941</td>\n",
       "      <td>Lorient</td>\n",
       "      <td>1</td>\n",
       "      <td>Formose Mendy</td>\n",
       "      <td>43.3</td>\n",
       "      <td>65.7</td>\n",
       "      <td>Montassar Omar Talbi</td>\n",
       "      <td>42.9</td>\n",
       "      <td>25.8</td>\n",
       "    </tr>\n",
       "    <tr>\n",
       "      <th>26</th>\n",
       "      <td>2023-08-13 00:00:26.466</td>\n",
       "      <td>Lorient</td>\n",
       "      <td>1</td>\n",
       "      <td>Montassar Omar Talbi</td>\n",
       "      <td>47.9</td>\n",
       "      <td>21.7</td>\n",
       "      <td>Julien Ponceau</td>\n",
       "      <td>56.1</td>\n",
       "      <td>10.2</td>\n",
       "    </tr>\n",
       "    <tr>\n",
       "      <th>29</th>\n",
       "      <td>2023-08-13 00:00:31.140</td>\n",
       "      <td>Lorient</td>\n",
       "      <td>1</td>\n",
       "      <td>Julien Ponceau</td>\n",
       "      <td>64.1</td>\n",
       "      <td>8.1</td>\n",
       "      <td>Julien Laporte</td>\n",
       "      <td>53.3</td>\n",
       "      <td>40.8</td>\n",
       "    </tr>\n",
       "    <tr>\n",
       "      <th>32</th>\n",
       "      <td>2023-08-13 00:00:34.342</td>\n",
       "      <td>Lorient</td>\n",
       "      <td>1</td>\n",
       "      <td>Julien Laporte</td>\n",
       "      <td>53.5</td>\n",
       "      <td>40.8</td>\n",
       "      <td>Formose Mendy</td>\n",
       "      <td>54.6</td>\n",
       "      <td>62.2</td>\n",
       "    </tr>\n",
       "    <tr>\n",
       "      <th>35</th>\n",
       "      <td>2023-08-13 00:00:38.488</td>\n",
       "      <td>Lorient</td>\n",
       "      <td>1</td>\n",
       "      <td>Formose Mendy</td>\n",
       "      <td>61.1</td>\n",
       "      <td>63.1</td>\n",
       "      <td>Vincent Le Goff</td>\n",
       "      <td>85.4</td>\n",
       "      <td>5.2</td>\n",
       "    </tr>\n",
       "    <tr>\n",
       "      <th>38</th>\n",
       "      <td>2023-08-13 00:00:42.625</td>\n",
       "      <td>Lorient</td>\n",
       "      <td>1</td>\n",
       "      <td>Vincent Le Goff</td>\n",
       "      <td>85.4</td>\n",
       "      <td>4.6</td>\n",
       "      <td>Siriné Doucouré</td>\n",
       "      <td>110.0</td>\n",
       "      <td>36.9</td>\n",
       "    </tr>\n",
       "    <tr>\n",
       "      <th>44</th>\n",
       "      <td>2023-08-13 00:00:46.209</td>\n",
       "      <td>Le Havre</td>\n",
       "      <td>1</td>\n",
       "      <td>Yoann Salmier</td>\n",
       "      <td>8.8</td>\n",
       "      <td>56.5</td>\n",
       "      <td>NaN</td>\n",
       "      <td>4.9</td>\n",
       "      <td>79.0</td>\n",
       "    </tr>\n",
       "    <tr>\n",
       "      <th>45</th>\n",
       "      <td>2023-08-13 00:00:53.460</td>\n",
       "      <td>Lorient</td>\n",
       "      <td>1</td>\n",
       "      <td>Vincent Le Goff</td>\n",
       "      <td>113.1</td>\n",
       "      <td>0.1</td>\n",
       "      <td>Julien Ponceau</td>\n",
       "      <td>106.4</td>\n",
       "      <td>10.4</td>\n",
       "    </tr>\n",
       "    <tr>\n",
       "      <th>48</th>\n",
       "      <td>2023-08-13 00:00:54.585</td>\n",
       "      <td>Lorient</td>\n",
       "      <td>1</td>\n",
       "      <td>Julien Ponceau</td>\n",
       "      <td>106.4</td>\n",
       "      <td>11.1</td>\n",
       "      <td>Vincent Le Goff</td>\n",
       "      <td>110.7</td>\n",
       "      <td>4.8</td>\n",
       "    </tr>\n",
       "    <tr>\n",
       "      <th>51</th>\n",
       "      <td>2023-08-13 00:00:57.263</td>\n",
       "      <td>Lorient</td>\n",
       "      <td>1</td>\n",
       "      <td>Vincent Le Goff</td>\n",
       "      <td>110.7</td>\n",
       "      <td>4.8</td>\n",
       "      <td>Julien Ponceau</td>\n",
       "      <td>100.7</td>\n",
       "      <td>4.8</td>\n",
       "    </tr>\n",
       "    <tr>\n",
       "      <th>54</th>\n",
       "      <td>2023-08-13 00:00:59.177</td>\n",
       "      <td>Lorient</td>\n",
       "      <td>1</td>\n",
       "      <td>Julien Ponceau</td>\n",
       "      <td>96.8</td>\n",
       "      <td>4.8</td>\n",
       "      <td>Laurent Abergel</td>\n",
       "      <td>86.0</td>\n",
       "      <td>21.9</td>\n",
       "    </tr>\n",
       "    <tr>\n",
       "      <th>57</th>\n",
       "      <td>2023-08-13 00:01:01.648</td>\n",
       "      <td>Lorient</td>\n",
       "      <td>1</td>\n",
       "      <td>Laurent Abergel</td>\n",
       "      <td>84.7</td>\n",
       "      <td>27.3</td>\n",
       "      <td>Formose Mendy</td>\n",
       "      <td>78.0</td>\n",
       "      <td>70.4</td>\n",
       "    </tr>\n",
       "    <tr>\n",
       "      <th>61</th>\n",
       "      <td>2023-08-13 00:01:06.233</td>\n",
       "      <td>Lorient</td>\n",
       "      <td>1</td>\n",
       "      <td>Formose Mendy</td>\n",
       "      <td>77.3</td>\n",
       "      <td>64.2</td>\n",
       "      <td>Julien Laporte</td>\n",
       "      <td>62.8</td>\n",
       "      <td>40.1</td>\n",
       "    </tr>\n",
       "    <tr>\n",
       "      <th>64</th>\n",
       "      <td>2023-08-13 00:01:08.616</td>\n",
       "      <td>Lorient</td>\n",
       "      <td>1</td>\n",
       "      <td>Julien Laporte</td>\n",
       "      <td>62.8</td>\n",
       "      <td>40.1</td>\n",
       "      <td>Montassar Omar Talbi</td>\n",
       "      <td>64.1</td>\n",
       "      <td>11.7</td>\n",
       "    </tr>\n",
       "    <tr>\n",
       "      <th>67</th>\n",
       "      <td>2023-08-13 00:01:13.778</td>\n",
       "      <td>Lorient</td>\n",
       "      <td>1</td>\n",
       "      <td>Montassar Omar Talbi</td>\n",
       "      <td>64.6</td>\n",
       "      <td>18.4</td>\n",
       "      <td>Julien Laporte</td>\n",
       "      <td>56.8</td>\n",
       "      <td>40.3</td>\n",
       "    </tr>\n",
       "    <tr>\n",
       "      <th>70</th>\n",
       "      <td>2023-08-13 00:01:17.528</td>\n",
       "      <td>Lorient</td>\n",
       "      <td>1</td>\n",
       "      <td>Julien Laporte</td>\n",
       "      <td>58.9</td>\n",
       "      <td>43.1</td>\n",
       "      <td>Vincent Le Goff</td>\n",
       "      <td>105.1</td>\n",
       "      <td>6.1</td>\n",
       "    </tr>\n",
       "    <tr>\n",
       "      <th>74</th>\n",
       "      <td>2023-08-13 00:01:24.418</td>\n",
       "      <td>Lorient</td>\n",
       "      <td>1</td>\n",
       "      <td>Vincent Le Goff</td>\n",
       "      <td>105.3</td>\n",
       "      <td>6.3</td>\n",
       "      <td>Julien Ponceau</td>\n",
       "      <td>91.2</td>\n",
       "      <td>7.6</td>\n",
       "    </tr>\n",
       "    <tr>\n",
       "      <th>77</th>\n",
       "      <td>2023-08-13 00:01:27.103</td>\n",
       "      <td>Lorient</td>\n",
       "      <td>1</td>\n",
       "      <td>Julien Ponceau</td>\n",
       "      <td>89.7</td>\n",
       "      <td>8.5</td>\n",
       "      <td>NaN</td>\n",
       "      <td>116.5</td>\n",
       "      <td>45.3</td>\n",
       "    </tr>\n",
       "    <tr>\n",
       "      <th>80</th>\n",
       "      <td>2023-08-13 00:01:30.425</td>\n",
       "      <td>Le Havre</td>\n",
       "      <td>1</td>\n",
       "      <td>Arthur Desmas</td>\n",
       "      <td>3.6</td>\n",
       "      <td>32.8</td>\n",
       "      <td>Nabil Alioui</td>\n",
       "      <td>29.8</td>\n",
       "      <td>6.6</td>\n",
       "    </tr>\n",
       "    <tr>\n",
       "      <th>83</th>\n",
       "      <td>2023-08-13 00:01:35.412</td>\n",
       "      <td>Le Havre</td>\n",
       "      <td>1</td>\n",
       "      <td>Nabil Alioui</td>\n",
       "      <td>42.5</td>\n",
       "      <td>12.5</td>\n",
       "      <td>Abdoulaye Touré</td>\n",
       "      <td>43.2</td>\n",
       "      <td>27.0</td>\n",
       "    </tr>\n",
       "    <tr>\n",
       "      <th>87</th>\n",
       "      <td>2023-08-13 00:01:37.884</td>\n",
       "      <td>Le Havre</td>\n",
       "      <td>1</td>\n",
       "      <td>Abdoulaye Touré</td>\n",
       "      <td>44.1</td>\n",
       "      <td>31.3</td>\n",
       "      <td>Yoann Salmier</td>\n",
       "      <td>41.7</td>\n",
       "      <td>69.9</td>\n",
       "    </tr>\n",
       "    <tr>\n",
       "      <th>89</th>\n",
       "      <td>2023-08-13 00:01:40.042</td>\n",
       "      <td>Le Havre</td>\n",
       "      <td>1</td>\n",
       "      <td>Yoann Salmier</td>\n",
       "      <td>41.7</td>\n",
       "      <td>69.9</td>\n",
       "      <td>Daler Kuzyaev</td>\n",
       "      <td>61.6</td>\n",
       "      <td>63.4</td>\n",
       "    </tr>\n",
       "    <tr>\n",
       "      <th>92</th>\n",
       "      <td>2023-08-13 00:01:41.193</td>\n",
       "      <td>Le Havre</td>\n",
       "      <td>1</td>\n",
       "      <td>Daler Kuzyaev</td>\n",
       "      <td>62.7</td>\n",
       "      <td>64.9</td>\n",
       "      <td>Loïc Négo</td>\n",
       "      <td>61.8</td>\n",
       "      <td>75.5</td>\n",
       "    </tr>\n",
       "    <tr>\n",
       "      <th>95</th>\n",
       "      <td>2023-08-13 00:01:43.706</td>\n",
       "      <td>Le Havre</td>\n",
       "      <td>1</td>\n",
       "      <td>Loïc Négo</td>\n",
       "      <td>57.7</td>\n",
       "      <td>75.5</td>\n",
       "      <td>Yoann Salmier</td>\n",
       "      <td>43.2</td>\n",
       "      <td>74.6</td>\n",
       "    </tr>\n",
       "  </tbody>\n",
       "</table>\n",
       "</div>"
      ],
      "text/plain": [
       "                  datetime team.name  period              player.name  \\\n",
       "4  2023-08-13 00:00:00.421   Lorient       1          Siriné Doucouré   \n",
       "8  2023-08-13 00:00:05.171   Lorient       1          Laurent Abergel   \n",
       "11 2023-08-13 00:00:10.013   Lorient       1  Gedeon Kalulu Kyatengwa   \n",
       "14 2023-08-13 00:00:16.026   Lorient       1     Montassar Omar Talbi   \n",
       "17 2023-08-13 00:00:17.550   Lorient       1          Laurent Abergel   \n",
       "20 2023-08-13 00:00:19.132   Lorient       1           Julien Laporte   \n",
       "23 2023-08-13 00:00:22.941   Lorient       1            Formose Mendy   \n",
       "26 2023-08-13 00:00:26.466   Lorient       1     Montassar Omar Talbi   \n",
       "29 2023-08-13 00:00:31.140   Lorient       1           Julien Ponceau   \n",
       "32 2023-08-13 00:00:34.342   Lorient       1           Julien Laporte   \n",
       "35 2023-08-13 00:00:38.488   Lorient       1            Formose Mendy   \n",
       "38 2023-08-13 00:00:42.625   Lorient       1          Vincent Le Goff   \n",
       "44 2023-08-13 00:00:46.209  Le Havre       1            Yoann Salmier   \n",
       "45 2023-08-13 00:00:53.460   Lorient       1          Vincent Le Goff   \n",
       "48 2023-08-13 00:00:54.585   Lorient       1           Julien Ponceau   \n",
       "51 2023-08-13 00:00:57.263   Lorient       1          Vincent Le Goff   \n",
       "54 2023-08-13 00:00:59.177   Lorient       1           Julien Ponceau   \n",
       "57 2023-08-13 00:01:01.648   Lorient       1          Laurent Abergel   \n",
       "61 2023-08-13 00:01:06.233   Lorient       1            Formose Mendy   \n",
       "64 2023-08-13 00:01:08.616   Lorient       1           Julien Laporte   \n",
       "67 2023-08-13 00:01:13.778   Lorient       1     Montassar Omar Talbi   \n",
       "70 2023-08-13 00:01:17.528   Lorient       1           Julien Laporte   \n",
       "74 2023-08-13 00:01:24.418   Lorient       1          Vincent Le Goff   \n",
       "77 2023-08-13 00:01:27.103   Lorient       1           Julien Ponceau   \n",
       "80 2023-08-13 00:01:30.425  Le Havre       1            Arthur Desmas   \n",
       "83 2023-08-13 00:01:35.412  Le Havre       1             Nabil Alioui   \n",
       "87 2023-08-13 00:01:37.884  Le Havre       1          Abdoulaye Touré   \n",
       "89 2023-08-13 00:01:40.042  Le Havre       1            Yoann Salmier   \n",
       "92 2023-08-13 00:01:41.193  Le Havre       1            Daler Kuzyaev   \n",
       "95 2023-08-13 00:01:43.706  Le Havre       1                Loïc Négo   \n",
       "\n",
       "    location.x  location.y      pass.recipient.name  pass.end_location_x  \\\n",
       "4         61.0        40.1          Laurent Abergel                 57.0   \n",
       "8         62.6        59.2  Gedeon Kalulu Kyatengwa                 73.4   \n",
       "11        67.8        70.7     Montassar Omar Talbi                 52.0   \n",
       "14        51.1        31.7          Laurent Abergel                 57.0   \n",
       "17        57.0        45.3           Julien Laporte                 41.8   \n",
       "20        41.8        44.7            Formose Mendy                 43.3   \n",
       "23        43.3        65.7     Montassar Omar Talbi                 42.9   \n",
       "26        47.9        21.7           Julien Ponceau                 56.1   \n",
       "29        64.1         8.1           Julien Laporte                 53.3   \n",
       "32        53.5        40.8            Formose Mendy                 54.6   \n",
       "35        61.1        63.1          Vincent Le Goff                 85.4   \n",
       "38        85.4         4.6          Siriné Doucouré                110.0   \n",
       "44         8.8        56.5                      NaN                  4.9   \n",
       "45       113.1         0.1           Julien Ponceau                106.4   \n",
       "48       106.4        11.1          Vincent Le Goff                110.7   \n",
       "51       110.7         4.8           Julien Ponceau                100.7   \n",
       "54        96.8         4.8          Laurent Abergel                 86.0   \n",
       "57        84.7        27.3            Formose Mendy                 78.0   \n",
       "61        77.3        64.2           Julien Laporte                 62.8   \n",
       "64        62.8        40.1     Montassar Omar Talbi                 64.1   \n",
       "67        64.6        18.4           Julien Laporte                 56.8   \n",
       "70        58.9        43.1          Vincent Le Goff                105.1   \n",
       "74       105.3         6.3           Julien Ponceau                 91.2   \n",
       "77        89.7         8.5                      NaN                116.5   \n",
       "80         3.6        32.8             Nabil Alioui                 29.8   \n",
       "83        42.5        12.5          Abdoulaye Touré                 43.2   \n",
       "87        44.1        31.3            Yoann Salmier                 41.7   \n",
       "89        41.7        69.9            Daler Kuzyaev                 61.6   \n",
       "92        62.7        64.9                Loïc Négo                 61.8   \n",
       "95        57.7        75.5            Yoann Salmier                 43.2   \n",
       "\n",
       "    pass.end_location_y  \n",
       "4                  39.1  \n",
       "8                  76.9  \n",
       "11                 42.5  \n",
       "14                 45.3  \n",
       "17                 44.7  \n",
       "20                 65.7  \n",
       "23                 25.8  \n",
       "26                 10.2  \n",
       "29                 40.8  \n",
       "32                 62.2  \n",
       "35                  5.2  \n",
       "38                 36.9  \n",
       "44                 79.0  \n",
       "45                 10.4  \n",
       "48                  4.8  \n",
       "51                  4.8  \n",
       "54                 21.9  \n",
       "57                 70.4  \n",
       "61                 40.1  \n",
       "64                 11.7  \n",
       "67                 40.3  \n",
       "70                  6.1  \n",
       "74                  7.6  \n",
       "77                 45.3  \n",
       "80                  6.6  \n",
       "83                 27.0  \n",
       "87                 69.9  \n",
       "89                 63.4  \n",
       "92                 75.5  \n",
       "95                 74.6  "
      ]
     },
     "execution_count": 41,
     "metadata": {},
     "output_type": "execute_result"
    }
   ],
   "source": [
    "import sys\n",
    "sys.path.append('/home/UR/kontaous/Bureau/Stage/')\n",
    "from Analyses.traitement import *\n",
    "from passes_player import Joueur_passes\n",
    "from passes_players import Joueurs_passes\n",
    "import pandas as pd\n",
    "import numpy as np\n",
    "import matplotlib.pyplot as plt\n",
    "import seaborn as sns\n",
    "\n",
    "tracking = pd.read_csv(\"../../Data/HAC/Tracking_data/tracking_Montpellier.csv\", low_memory=False)\n",
    "events = pd.read_csv(\"../../Data/HAC/match_data/match_Lorient.csv\")\n",
    "df_home = home_format_metrica(tracking)\n",
    "df_away = away_format_metrica(tracking)\n",
    "tracking, events = prepare_data(tracking, events)\n",
    "\n",
    "passes = ['datetime', 'team.name', 'period', 'player.name', 'location.x', 'location.y', 'pass.recipient.name', 'pass.end_location', ]\n",
    "df_passes = events[passes].copy()\n",
    "\n",
    "coordonnees = df_passes['pass.end_location'].apply(decoupage_des_coordonnes)\n",
    "df_passes.loc[:, 'pass.end_location_x'] = coordonnees.apply(lambda x: x[0] if x is not None else None)\n",
    "df_passes.loc[:, 'pass.end_location_y'] = coordonnees.apply(lambda x: x[1] if x is not None else None)\n",
    "df_passes.drop('pass.end_location', axis=1, inplace=True)\n",
    "df_passes[(df_passes['pass.end_location_x'].notna())][:30]\n"
   ]
  },
  {
   "cell_type": "markdown",
   "metadata": {},
   "source": [
    "# Joueur spécifique"
   ]
  },
  {
   "cell_type": "code",
   "execution_count": 38,
   "metadata": {},
   "outputs": [
    {
     "data": {
      "application/vnd.plotly.v1+json": {
       "config": {
        "plotlyServerURL": "https://plot.ly"
       },
       "data": [
        {
         "hoverinfo": "text",
         "line": {
          "color": "purple",
          "width": 2
         },
         "marker": {
          "size": 5
         },
         "mode": "lines+markers",
         "name": "Christopher Operi to Yassine Kechta",
         "text": "De: Christopher Operi<br>À: Yassine Kechta<br>X: 54.7 -> 56.6<br>Y: 1.9 -> 8.8",
         "type": "scatter",
         "x": [
          54.7,
          56.6
         ],
         "y": [
          1.9,
          8.8
         ]
        },
        {
         "hoverinfo": "text",
         "line": {
          "color": "purple",
          "width": 2
         },
         "marker": {
          "size": 5
         },
         "mode": "lines+markers",
         "name": "Christopher Operi to Gautier Lloris",
         "text": "De: Christopher Operi<br>À: Gautier Lloris<br>X: 50.6 -> 28.9<br>Y: 3.0 -> 6.0",
         "type": "scatter",
         "x": [
          50.6,
          28.9
         ],
         "y": [
          3,
          6
         ]
        },
        {
         "hoverinfo": "text",
         "line": {
          "color": "purple",
          "width": 2
         },
         "marker": {
          "size": 5
         },
         "mode": "lines+markers",
         "name": "Christopher Operi to Nabil Alioui",
         "text": "De: Christopher Operi<br>À: Nabil Alioui<br>X: 77.2 -> 86.5<br>Y: 6.4 -> 4.2",
         "type": "scatter",
         "x": [
          77.2,
          86.5
         ],
         "y": [
          6.4,
          4.2
         ]
        },
        {
         "hoverinfo": "text",
         "line": {
          "color": "purple",
          "width": 2
         },
         "marker": {
          "size": 5
         },
         "mode": "lines+markers",
         "name": "Christopher Operi to Yassine Kechta",
         "text": "De: Christopher Operi<br>À: Yassine Kechta<br>X: 62.3 -> 75.2<br>Y: 11.4 -> 18.5",
         "type": "scatter",
         "x": [
          62.3,
          75.2
         ],
         "y": [
          11.4,
          18.5
         ]
        },
        {
         "hoverinfo": "text",
         "line": {
          "color": "purple",
          "width": 2
         },
         "marker": {
          "size": 5
         },
         "mode": "lines+markers",
         "name": "Christopher Operi to Nabil Alioui",
         "text": "De: Christopher Operi<br>À: Nabil Alioui<br>X: 95.8 -> 106.2<br>Y: 7.5 -> 14.4",
         "type": "scatter",
         "x": [
          95.8,
          106.2
         ],
         "y": [
          7.5,
          14.4
         ]
        },
        {
         "hoverinfo": "text",
         "line": {
          "color": "purple",
          "width": 2
         },
         "marker": {
          "size": 5
         },
         "mode": "lines+markers",
         "name": "Christopher Operi to Daler Kuzyaev",
         "text": "De: Christopher Operi<br>À: Daler Kuzyaev<br>X: 99.3 -> 106.2<br>Y: 15.9 -> 21.6",
         "type": "scatter",
         "x": [
          99.3,
          106.2
         ],
         "y": [
          15.9,
          21.6
         ]
        },
        {
         "hoverinfo": "text",
         "line": {
          "color": "purple",
          "width": 2
         },
         "marker": {
          "size": 5
         },
         "mode": "lines+markers",
         "name": "Christopher Operi to Nabil Alioui",
         "text": "De: Christopher Operi<br>À: Nabil Alioui<br>X: 82.4 -> 62.7<br>Y: 0.1 -> 6.6",
         "type": "scatter",
         "x": [
          82.4,
          62.7
         ],
         "y": [
          0.1,
          6.6
         ]
        },
        {
         "hoverinfo": "text",
         "line": {
          "color": "purple",
          "width": 2
         },
         "marker": {
          "size": 5
         },
         "mode": "lines+markers",
         "name": "Christopher Operi to Andy Élysée Logbo",
         "text": "De: Christopher Operi<br>À: Andy Élysée Logbo<br>X: 84.3 -> 107.1<br>Y: 3.0 -> 30.9",
         "type": "scatter",
         "x": [
          84.3,
          107.1
         ],
         "y": [
          3,
          30.9
         ]
        },
        {
         "hoverinfo": "text",
         "line": {
          "color": "purple",
          "width": 2
         },
         "marker": {
          "size": 5
         },
         "mode": "lines+markers",
         "name": "Christopher Operi to Abdoulaye Touré",
         "text": "De: Christopher Operi<br>À: Abdoulaye Touré<br>X: 27.2 -> 27.8<br>Y: 0.1 -> 9.2",
         "type": "scatter",
         "x": [
          27.2,
          27.8
         ],
         "y": [
          0.1,
          9.2
         ]
        },
        {
         "hoverinfo": "text",
         "line": {
          "color": "purple",
          "width": 2
         },
         "marker": {
          "size": 5
         },
         "mode": "lines+markers",
         "name": "Christopher Operi to Abdoulaye Touré",
         "text": "De: Christopher Operi<br>À: Abdoulaye Touré<br>X: 29.1 -> 29.1<br>Y: 3.0 -> 14.9",
         "type": "scatter",
         "x": [
          29.1,
          29.1
         ],
         "y": [
          3,
          14.9
         ]
        },
        {
         "hoverinfo": "text",
         "line": {
          "color": "purple",
          "width": 2
         },
         "marker": {
          "size": 5
         },
         "mode": "lines+markers",
         "name": "Christopher Operi to Loïc Négo",
         "text": "De: Christopher Operi<br>À: Loïc Négo<br>X: 84.6 -> 112.7<br>Y: 3.8 -> 42.8",
         "type": "scatter",
         "x": [
          84.6,
          112.7
         ],
         "y": [
          3.8,
          42.8
         ]
        },
        {
         "hoverinfo": "text",
         "line": {
          "color": "purple",
          "width": 2
         },
         "marker": {
          "size": 5
         },
         "mode": "lines+markers",
         "name": "Christopher Operi to Nabil Alioui",
         "text": "De: Christopher Operi<br>À: Nabil Alioui<br>X: 22.6 -> 56.2<br>Y: 2.5 -> 3.6",
         "type": "scatter",
         "x": [
          22.6,
          56.2
         ],
         "y": [
          2.5,
          3.6
         ]
        },
        {
         "hoverinfo": "text",
         "line": {
          "color": "purple",
          "width": 2
         },
         "marker": {
          "size": 5
         },
         "mode": "lines+markers",
         "name": "Christopher Operi to Gautier Lloris",
         "text": "De: Christopher Operi<br>À: Gautier Lloris<br>X: 34.7 -> 22.0<br>Y: 2.3 -> 7.5",
         "type": "scatter",
         "x": [
          34.7,
          22
         ],
         "y": [
          2.3,
          7.5
         ]
        },
        {
         "hoverinfo": "text",
         "line": {
          "color": "purple",
          "width": 2
         },
         "marker": {
          "size": 5
         },
         "mode": "lines+markers",
         "name": "Christopher Operi to Nabil Alioui",
         "text": "De: Christopher Operi<br>À: Nabil Alioui<br>X: 34.7 -> 43.2<br>Y: 1.9 -> 10.1",
         "type": "scatter",
         "x": [
          34.7,
          43.2
         ],
         "y": [
          1.9,
          10.1
         ]
        },
        {
         "hoverinfo": "text",
         "line": {
          "color": "purple",
          "width": 2
         },
         "marker": {
          "size": 5
         },
         "mode": "lines+markers",
         "name": "Christopher Operi to Arouna Sangante",
         "text": "De: Christopher Operi<br>À: Arouna Sangante<br>X: 100.2 -> 78.3<br>Y: 10.1 -> 20.9",
         "type": "scatter",
         "x": [
          100.2,
          78.3
         ],
         "y": [
          10.1,
          20.9
         ]
        },
        {
         "hoverinfo": "text",
         "line": {
          "color": "purple",
          "width": 2
         },
         "marker": {
          "size": 5
         },
         "mode": "lines+markers",
         "name": "Christopher Operi to Yassine Kechta",
         "text": "De: Christopher Operi<br>À: Yassine Kechta<br>X: 57.3 -> 54.9<br>Y: 9.4 -> 19.2",
         "type": "scatter",
         "x": [
          57.3,
          54.9
         ],
         "y": [
          9.4,
          19.2
         ]
        },
        {
         "hoverinfo": "text",
         "line": {
          "color": "purple",
          "width": 2
         },
         "marker": {
          "size": 5
         },
         "mode": "lines+markers",
         "name": "Christopher Operi to nan",
         "text": "De: Christopher Operi<br>À: nan<br>X: 17.3 -> 26.4<br>Y: 6.0 -> 5.1",
         "type": "scatter",
         "x": [
          17.3,
          26.4
         ],
         "y": [
          6,
          5.1
         ]
        },
        {
         "hoverinfo": "text",
         "line": {
          "color": "purple",
          "width": 2
         },
         "marker": {
          "size": 5
         },
         "mode": "lines+markers",
         "name": "Christopher Operi to Nabil Alioui",
         "text": "De: Christopher Operi<br>À: Nabil Alioui<br>X: 16.4 -> 20.9<br>Y: 0.1 -> 3.2",
         "type": "scatter",
         "x": [
          16.4,
          20.9
         ],
         "y": [
          0.1,
          3.2
         ]
        },
        {
         "hoverinfo": "text",
         "line": {
          "color": "purple",
          "width": 2
         },
         "marker": {
          "size": 5
         },
         "mode": "lines+markers",
         "name": "Christopher Operi to nan",
         "text": "De: Christopher Operi<br>À: nan<br>X: 77.4 -> 117.9<br>Y: 3.6 -> 66.0",
         "type": "scatter",
         "x": [
          77.4,
          117.9
         ],
         "y": [
          3.6,
          66
         ]
        },
        {
         "hoverinfo": "text",
         "line": {
          "color": "purple",
          "width": 2
         },
         "marker": {
          "size": 5
         },
         "mode": "lines+markers",
         "name": "Christopher Operi to Gautier Lloris",
         "text": "De: Christopher Operi<br>À: Gautier Lloris<br>X: 51.0 -> 34.3<br>Y: 7.5 -> 15.3",
         "type": "scatter",
         "x": [
          51,
          34.3
         ],
         "y": [
          7.5,
          15.3
         ]
        },
        {
         "hoverinfo": "text",
         "line": {
          "color": "purple",
          "width": 2
         },
         "marker": {
          "size": 5
         },
         "mode": "lines+markers",
         "name": "Christopher Operi to Gautier Lloris",
         "text": "De: Christopher Operi<br>À: Gautier Lloris<br>X: 42.1 -> 28.5<br>Y: 8.8 -> 17.2",
         "type": "scatter",
         "x": [
          42.1,
          28.5
         ],
         "y": [
          8.8,
          17.2
         ]
        },
        {
         "hoverinfo": "text",
         "line": {
          "color": "purple",
          "width": 2
         },
         "marker": {
          "size": 5
         },
         "mode": "lines+markers",
         "name": "Christopher Operi to Gautier Lloris",
         "text": "De: Christopher Operi<br>À: Gautier Lloris<br>X: 74.4 -> 61.8<br>Y: 2.5 -> 5.3",
         "type": "scatter",
         "x": [
          74.4,
          61.8
         ],
         "y": [
          2.5,
          5.3
         ]
        },
        {
         "hoverinfo": "text",
         "line": {
          "color": "purple",
          "width": 2
         },
         "marker": {
          "size": 5
         },
         "mode": "lines+markers",
         "name": "Christopher Operi to Arthur Desmas",
         "text": "De: Christopher Operi<br>À: Arthur Desmas<br>X: 51.6 -> 23.3<br>Y: 2.5 -> 16.6",
         "type": "scatter",
         "x": [
          51.6,
          23.3
         ],
         "y": [
          2.5,
          16.6
         ]
        },
        {
         "hoverinfo": "text",
         "line": {
          "color": "purple",
          "width": 2
         },
         "marker": {
          "size": 5
         },
         "mode": "lines+markers",
         "name": "Christopher Operi to Abdoulaye Touré",
         "text": "De: Christopher Operi<br>À: Abdoulaye Touré<br>X: 41.8 -> 49.0<br>Y: 3.1 -> 8.7",
         "type": "scatter",
         "x": [
          41.8,
          49
         ],
         "y": [
          3.1,
          8.7
         ]
        },
        {
         "hoverinfo": "text",
         "line": {
          "color": "purple",
          "width": 2
         },
         "marker": {
          "size": 5
         },
         "mode": "lines+markers",
         "name": "Christopher Operi to Gautier Lloris",
         "text": "De: Christopher Operi<br>À: Gautier Lloris<br>X: 55.2 -> 40.2<br>Y: 0.1 -> 6.5",
         "type": "scatter",
         "x": [
          55.2,
          40.2
         ],
         "y": [
          0.1,
          6.5
         ]
        },
        {
         "hoverinfo": "text",
         "line": {
          "color": "purple",
          "width": 2
         },
         "marker": {
          "size": 5
         },
         "mode": "lines+markers",
         "name": "Christopher Operi to nan",
         "text": "De: Christopher Operi<br>À: nan<br>X: 92.3 -> 106.8<br>Y: 66.1 -> 45.1",
         "type": "scatter",
         "x": [
          92.3,
          106.8
         ],
         "y": [
          66.1,
          45.1
         ]
        },
        {
         "hoverinfo": "text",
         "line": {
          "color": "purple",
          "width": 2
         },
         "marker": {
          "size": 5
         },
         "mode": "lines+markers",
         "name": "Christopher Operi to Abdoulaye Touré",
         "text": "De: Christopher Operi<br>À: Abdoulaye Touré<br>X: 63.1 -> 63.1<br>Y: 3.8 -> 20.0",
         "type": "scatter",
         "x": [
          63.1,
          63.1
         ],
         "y": [
          3.8,
          20
         ]
        }
       ],
       "layout": {
        "annotations": [
         {
          "arrowcolor": "purple",
          "arrowhead": 3,
          "arrowsize": 1,
          "arrowwidth": 2,
          "ax": 54.7,
          "axref": "x",
          "ay": 1.9,
          "ayref": "y",
          "showarrow": true,
          "x": 56.6,
          "xref": "x",
          "y": 8.8,
          "yref": "y"
         },
         {
          "arrowcolor": "purple",
          "arrowhead": 3,
          "arrowsize": 1,
          "arrowwidth": 2,
          "ax": 50.6,
          "axref": "x",
          "ay": 3,
          "ayref": "y",
          "showarrow": true,
          "x": 28.9,
          "xref": "x",
          "y": 6,
          "yref": "y"
         },
         {
          "arrowcolor": "purple",
          "arrowhead": 3,
          "arrowsize": 1,
          "arrowwidth": 2,
          "ax": 77.2,
          "axref": "x",
          "ay": 6.4,
          "ayref": "y",
          "showarrow": true,
          "x": 86.5,
          "xref": "x",
          "y": 4.2,
          "yref": "y"
         },
         {
          "arrowcolor": "purple",
          "arrowhead": 3,
          "arrowsize": 1,
          "arrowwidth": 2,
          "ax": 62.3,
          "axref": "x",
          "ay": 11.4,
          "ayref": "y",
          "showarrow": true,
          "x": 75.2,
          "xref": "x",
          "y": 18.5,
          "yref": "y"
         },
         {
          "arrowcolor": "purple",
          "arrowhead": 3,
          "arrowsize": 1,
          "arrowwidth": 2,
          "ax": 95.8,
          "axref": "x",
          "ay": 7.5,
          "ayref": "y",
          "showarrow": true,
          "x": 106.2,
          "xref": "x",
          "y": 14.4,
          "yref": "y"
         },
         {
          "arrowcolor": "purple",
          "arrowhead": 3,
          "arrowsize": 1,
          "arrowwidth": 2,
          "ax": 99.3,
          "axref": "x",
          "ay": 15.9,
          "ayref": "y",
          "showarrow": true,
          "x": 106.2,
          "xref": "x",
          "y": 21.6,
          "yref": "y"
         },
         {
          "arrowcolor": "purple",
          "arrowhead": 3,
          "arrowsize": 1,
          "arrowwidth": 2,
          "ax": 82.4,
          "axref": "x",
          "ay": 0.1,
          "ayref": "y",
          "showarrow": true,
          "x": 62.7,
          "xref": "x",
          "y": 6.6,
          "yref": "y"
         },
         {
          "arrowcolor": "purple",
          "arrowhead": 3,
          "arrowsize": 1,
          "arrowwidth": 2,
          "ax": 84.3,
          "axref": "x",
          "ay": 3,
          "ayref": "y",
          "showarrow": true,
          "x": 107.1,
          "xref": "x",
          "y": 30.9,
          "yref": "y"
         },
         {
          "arrowcolor": "purple",
          "arrowhead": 3,
          "arrowsize": 1,
          "arrowwidth": 2,
          "ax": 27.2,
          "axref": "x",
          "ay": 0.1,
          "ayref": "y",
          "showarrow": true,
          "x": 27.8,
          "xref": "x",
          "y": 9.2,
          "yref": "y"
         },
         {
          "arrowcolor": "purple",
          "arrowhead": 3,
          "arrowsize": 1,
          "arrowwidth": 2,
          "ax": 29.1,
          "axref": "x",
          "ay": 3,
          "ayref": "y",
          "showarrow": true,
          "x": 29.1,
          "xref": "x",
          "y": 14.9,
          "yref": "y"
         },
         {
          "arrowcolor": "purple",
          "arrowhead": 3,
          "arrowsize": 1,
          "arrowwidth": 2,
          "ax": 84.6,
          "axref": "x",
          "ay": 3.8,
          "ayref": "y",
          "showarrow": true,
          "x": 112.7,
          "xref": "x",
          "y": 42.8,
          "yref": "y"
         },
         {
          "arrowcolor": "purple",
          "arrowhead": 3,
          "arrowsize": 1,
          "arrowwidth": 2,
          "ax": 22.6,
          "axref": "x",
          "ay": 2.5,
          "ayref": "y",
          "showarrow": true,
          "x": 56.2,
          "xref": "x",
          "y": 3.6,
          "yref": "y"
         },
         {
          "arrowcolor": "purple",
          "arrowhead": 3,
          "arrowsize": 1,
          "arrowwidth": 2,
          "ax": 34.7,
          "axref": "x",
          "ay": 2.3,
          "ayref": "y",
          "showarrow": true,
          "x": 22,
          "xref": "x",
          "y": 7.5,
          "yref": "y"
         },
         {
          "arrowcolor": "purple",
          "arrowhead": 3,
          "arrowsize": 1,
          "arrowwidth": 2,
          "ax": 34.7,
          "axref": "x",
          "ay": 1.9,
          "ayref": "y",
          "showarrow": true,
          "x": 43.2,
          "xref": "x",
          "y": 10.1,
          "yref": "y"
         },
         {
          "arrowcolor": "purple",
          "arrowhead": 3,
          "arrowsize": 1,
          "arrowwidth": 2,
          "ax": 100.2,
          "axref": "x",
          "ay": 10.1,
          "ayref": "y",
          "showarrow": true,
          "x": 78.3,
          "xref": "x",
          "y": 20.9,
          "yref": "y"
         },
         {
          "arrowcolor": "purple",
          "arrowhead": 3,
          "arrowsize": 1,
          "arrowwidth": 2,
          "ax": 57.3,
          "axref": "x",
          "ay": 9.4,
          "ayref": "y",
          "showarrow": true,
          "x": 54.9,
          "xref": "x",
          "y": 19.2,
          "yref": "y"
         },
         {
          "arrowcolor": "purple",
          "arrowhead": 3,
          "arrowsize": 1,
          "arrowwidth": 2,
          "ax": 17.3,
          "axref": "x",
          "ay": 6,
          "ayref": "y",
          "showarrow": true,
          "x": 26.4,
          "xref": "x",
          "y": 5.1,
          "yref": "y"
         },
         {
          "arrowcolor": "purple",
          "arrowhead": 3,
          "arrowsize": 1,
          "arrowwidth": 2,
          "ax": 16.4,
          "axref": "x",
          "ay": 0.1,
          "ayref": "y",
          "showarrow": true,
          "x": 20.9,
          "xref": "x",
          "y": 3.2,
          "yref": "y"
         },
         {
          "arrowcolor": "purple",
          "arrowhead": 3,
          "arrowsize": 1,
          "arrowwidth": 2,
          "ax": 77.4,
          "axref": "x",
          "ay": 3.6,
          "ayref": "y",
          "showarrow": true,
          "x": 117.9,
          "xref": "x",
          "y": 66,
          "yref": "y"
         },
         {
          "arrowcolor": "purple",
          "arrowhead": 3,
          "arrowsize": 1,
          "arrowwidth": 2,
          "ax": 51,
          "axref": "x",
          "ay": 7.5,
          "ayref": "y",
          "showarrow": true,
          "x": 34.3,
          "xref": "x",
          "y": 15.3,
          "yref": "y"
         },
         {
          "arrowcolor": "purple",
          "arrowhead": 3,
          "arrowsize": 1,
          "arrowwidth": 2,
          "ax": 42.1,
          "axref": "x",
          "ay": 8.8,
          "ayref": "y",
          "showarrow": true,
          "x": 28.5,
          "xref": "x",
          "y": 17.2,
          "yref": "y"
         },
         {
          "arrowcolor": "purple",
          "arrowhead": 3,
          "arrowsize": 1,
          "arrowwidth": 2,
          "ax": 74.4,
          "axref": "x",
          "ay": 2.5,
          "ayref": "y",
          "showarrow": true,
          "x": 61.8,
          "xref": "x",
          "y": 5.3,
          "yref": "y"
         },
         {
          "arrowcolor": "purple",
          "arrowhead": 3,
          "arrowsize": 1,
          "arrowwidth": 2,
          "ax": 51.6,
          "axref": "x",
          "ay": 2.5,
          "ayref": "y",
          "showarrow": true,
          "x": 23.3,
          "xref": "x",
          "y": 16.6,
          "yref": "y"
         },
         {
          "arrowcolor": "purple",
          "arrowhead": 3,
          "arrowsize": 1,
          "arrowwidth": 2,
          "ax": 41.8,
          "axref": "x",
          "ay": 3.1,
          "ayref": "y",
          "showarrow": true,
          "x": 49,
          "xref": "x",
          "y": 8.7,
          "yref": "y"
         },
         {
          "arrowcolor": "purple",
          "arrowhead": 3,
          "arrowsize": 1,
          "arrowwidth": 2,
          "ax": 55.2,
          "axref": "x",
          "ay": 0.1,
          "ayref": "y",
          "showarrow": true,
          "x": 40.2,
          "xref": "x",
          "y": 6.5,
          "yref": "y"
         },
         {
          "arrowcolor": "purple",
          "arrowhead": 3,
          "arrowsize": 1,
          "arrowwidth": 2,
          "ax": 92.3,
          "axref": "x",
          "ay": 66.1,
          "ayref": "y",
          "showarrow": true,
          "x": 106.8,
          "xref": "x",
          "y": 45.1,
          "yref": "y"
         },
         {
          "arrowcolor": "purple",
          "arrowhead": 3,
          "arrowsize": 1,
          "arrowwidth": 2,
          "ax": 63.1,
          "axref": "x",
          "ay": 3.8,
          "ayref": "y",
          "showarrow": true,
          "x": 63.1,
          "xref": "x",
          "y": 20,
          "yref": "y"
         }
        ],
        "height": 700,
        "shapes": [
         {
          "line": {
           "color": "Black"
          },
          "type": "rect",
          "x0": 0,
          "x1": 120,
          "y0": 0,
          "y1": 80
         },
         {
          "line": {
           "color": "Black",
           "dash": "dot"
          },
          "type": "line",
          "x0": 60,
          "x1": 60,
          "y0": 0,
          "y1": 80
         },
         {
          "line": {
           "color": "Black"
          },
          "type": "rect",
          "x0": 0,
          "x1": 18,
          "y0": 18,
          "y1": 62
         },
         {
          "line": {
           "color": "Black"
          },
          "type": "rect",
          "x0": 102,
          "x1": 120,
          "y0": 18,
          "y1": 62
         },
         {
          "line": {
           "color": "Black"
          },
          "type": "rect",
          "x0": 0,
          "x1": 5.5,
          "y0": 30,
          "y1": 50
         },
         {
          "line": {
           "color": "Black"
          },
          "type": "rect",
          "x0": 114.5,
          "x1": 120,
          "y0": 30,
          "y1": 50
         },
         {
          "line": {
           "color": "Black"
          },
          "type": "rect",
          "x0": 0,
          "x1": 2,
          "y0": 36,
          "y1": 44
         },
         {
          "line": {
           "color": "Black"
          },
          "type": "rect",
          "x0": 118,
          "x1": 120,
          "y0": 36,
          "y1": 44
         },
         {
          "line": {
           "color": "Black"
          },
          "type": "circle",
          "x0": 50.4,
          "x1": 69.6,
          "xref": "x",
          "y0": 30.4,
          "y1": 49.6,
          "yref": "y"
         }
        ],
        "template": {
         "data": {
          "bar": [
           {
            "error_x": {
             "color": "#2a3f5f"
            },
            "error_y": {
             "color": "#2a3f5f"
            },
            "marker": {
             "line": {
              "color": "#E5ECF6",
              "width": 0.5
             },
             "pattern": {
              "fillmode": "overlay",
              "size": 10,
              "solidity": 0.2
             }
            },
            "type": "bar"
           }
          ],
          "barpolar": [
           {
            "marker": {
             "line": {
              "color": "#E5ECF6",
              "width": 0.5
             },
             "pattern": {
              "fillmode": "overlay",
              "size": 10,
              "solidity": 0.2
             }
            },
            "type": "barpolar"
           }
          ],
          "carpet": [
           {
            "aaxis": {
             "endlinecolor": "#2a3f5f",
             "gridcolor": "white",
             "linecolor": "white",
             "minorgridcolor": "white",
             "startlinecolor": "#2a3f5f"
            },
            "baxis": {
             "endlinecolor": "#2a3f5f",
             "gridcolor": "white",
             "linecolor": "white",
             "minorgridcolor": "white",
             "startlinecolor": "#2a3f5f"
            },
            "type": "carpet"
           }
          ],
          "choropleth": [
           {
            "colorbar": {
             "outlinewidth": 0,
             "ticks": ""
            },
            "type": "choropleth"
           }
          ],
          "contour": [
           {
            "colorbar": {
             "outlinewidth": 0,
             "ticks": ""
            },
            "colorscale": [
             [
              0,
              "#0d0887"
             ],
             [
              0.1111111111111111,
              "#46039f"
             ],
             [
              0.2222222222222222,
              "#7201a8"
             ],
             [
              0.3333333333333333,
              "#9c179e"
             ],
             [
              0.4444444444444444,
              "#bd3786"
             ],
             [
              0.5555555555555556,
              "#d8576b"
             ],
             [
              0.6666666666666666,
              "#ed7953"
             ],
             [
              0.7777777777777778,
              "#fb9f3a"
             ],
             [
              0.8888888888888888,
              "#fdca26"
             ],
             [
              1,
              "#f0f921"
             ]
            ],
            "type": "contour"
           }
          ],
          "contourcarpet": [
           {
            "colorbar": {
             "outlinewidth": 0,
             "ticks": ""
            },
            "type": "contourcarpet"
           }
          ],
          "heatmap": [
           {
            "colorbar": {
             "outlinewidth": 0,
             "ticks": ""
            },
            "colorscale": [
             [
              0,
              "#0d0887"
             ],
             [
              0.1111111111111111,
              "#46039f"
             ],
             [
              0.2222222222222222,
              "#7201a8"
             ],
             [
              0.3333333333333333,
              "#9c179e"
             ],
             [
              0.4444444444444444,
              "#bd3786"
             ],
             [
              0.5555555555555556,
              "#d8576b"
             ],
             [
              0.6666666666666666,
              "#ed7953"
             ],
             [
              0.7777777777777778,
              "#fb9f3a"
             ],
             [
              0.8888888888888888,
              "#fdca26"
             ],
             [
              1,
              "#f0f921"
             ]
            ],
            "type": "heatmap"
           }
          ],
          "heatmapgl": [
           {
            "colorbar": {
             "outlinewidth": 0,
             "ticks": ""
            },
            "colorscale": [
             [
              0,
              "#0d0887"
             ],
             [
              0.1111111111111111,
              "#46039f"
             ],
             [
              0.2222222222222222,
              "#7201a8"
             ],
             [
              0.3333333333333333,
              "#9c179e"
             ],
             [
              0.4444444444444444,
              "#bd3786"
             ],
             [
              0.5555555555555556,
              "#d8576b"
             ],
             [
              0.6666666666666666,
              "#ed7953"
             ],
             [
              0.7777777777777778,
              "#fb9f3a"
             ],
             [
              0.8888888888888888,
              "#fdca26"
             ],
             [
              1,
              "#f0f921"
             ]
            ],
            "type": "heatmapgl"
           }
          ],
          "histogram": [
           {
            "marker": {
             "pattern": {
              "fillmode": "overlay",
              "size": 10,
              "solidity": 0.2
             }
            },
            "type": "histogram"
           }
          ],
          "histogram2d": [
           {
            "colorbar": {
             "outlinewidth": 0,
             "ticks": ""
            },
            "colorscale": [
             [
              0,
              "#0d0887"
             ],
             [
              0.1111111111111111,
              "#46039f"
             ],
             [
              0.2222222222222222,
              "#7201a8"
             ],
             [
              0.3333333333333333,
              "#9c179e"
             ],
             [
              0.4444444444444444,
              "#bd3786"
             ],
             [
              0.5555555555555556,
              "#d8576b"
             ],
             [
              0.6666666666666666,
              "#ed7953"
             ],
             [
              0.7777777777777778,
              "#fb9f3a"
             ],
             [
              0.8888888888888888,
              "#fdca26"
             ],
             [
              1,
              "#f0f921"
             ]
            ],
            "type": "histogram2d"
           }
          ],
          "histogram2dcontour": [
           {
            "colorbar": {
             "outlinewidth": 0,
             "ticks": ""
            },
            "colorscale": [
             [
              0,
              "#0d0887"
             ],
             [
              0.1111111111111111,
              "#46039f"
             ],
             [
              0.2222222222222222,
              "#7201a8"
             ],
             [
              0.3333333333333333,
              "#9c179e"
             ],
             [
              0.4444444444444444,
              "#bd3786"
             ],
             [
              0.5555555555555556,
              "#d8576b"
             ],
             [
              0.6666666666666666,
              "#ed7953"
             ],
             [
              0.7777777777777778,
              "#fb9f3a"
             ],
             [
              0.8888888888888888,
              "#fdca26"
             ],
             [
              1,
              "#f0f921"
             ]
            ],
            "type": "histogram2dcontour"
           }
          ],
          "mesh3d": [
           {
            "colorbar": {
             "outlinewidth": 0,
             "ticks": ""
            },
            "type": "mesh3d"
           }
          ],
          "parcoords": [
           {
            "line": {
             "colorbar": {
              "outlinewidth": 0,
              "ticks": ""
             }
            },
            "type": "parcoords"
           }
          ],
          "pie": [
           {
            "automargin": true,
            "type": "pie"
           }
          ],
          "scatter": [
           {
            "fillpattern": {
             "fillmode": "overlay",
             "size": 10,
             "solidity": 0.2
            },
            "type": "scatter"
           }
          ],
          "scatter3d": [
           {
            "line": {
             "colorbar": {
              "outlinewidth": 0,
              "ticks": ""
             }
            },
            "marker": {
             "colorbar": {
              "outlinewidth": 0,
              "ticks": ""
             }
            },
            "type": "scatter3d"
           }
          ],
          "scattercarpet": [
           {
            "marker": {
             "colorbar": {
              "outlinewidth": 0,
              "ticks": ""
             }
            },
            "type": "scattercarpet"
           }
          ],
          "scattergeo": [
           {
            "marker": {
             "colorbar": {
              "outlinewidth": 0,
              "ticks": ""
             }
            },
            "type": "scattergeo"
           }
          ],
          "scattergl": [
           {
            "marker": {
             "colorbar": {
              "outlinewidth": 0,
              "ticks": ""
             }
            },
            "type": "scattergl"
           }
          ],
          "scattermapbox": [
           {
            "marker": {
             "colorbar": {
              "outlinewidth": 0,
              "ticks": ""
             }
            },
            "type": "scattermapbox"
           }
          ],
          "scatterpolar": [
           {
            "marker": {
             "colorbar": {
              "outlinewidth": 0,
              "ticks": ""
             }
            },
            "type": "scatterpolar"
           }
          ],
          "scatterpolargl": [
           {
            "marker": {
             "colorbar": {
              "outlinewidth": 0,
              "ticks": ""
             }
            },
            "type": "scatterpolargl"
           }
          ],
          "scatterternary": [
           {
            "marker": {
             "colorbar": {
              "outlinewidth": 0,
              "ticks": ""
             }
            },
            "type": "scatterternary"
           }
          ],
          "surface": [
           {
            "colorbar": {
             "outlinewidth": 0,
             "ticks": ""
            },
            "colorscale": [
             [
              0,
              "#0d0887"
             ],
             [
              0.1111111111111111,
              "#46039f"
             ],
             [
              0.2222222222222222,
              "#7201a8"
             ],
             [
              0.3333333333333333,
              "#9c179e"
             ],
             [
              0.4444444444444444,
              "#bd3786"
             ],
             [
              0.5555555555555556,
              "#d8576b"
             ],
             [
              0.6666666666666666,
              "#ed7953"
             ],
             [
              0.7777777777777778,
              "#fb9f3a"
             ],
             [
              0.8888888888888888,
              "#fdca26"
             ],
             [
              1,
              "#f0f921"
             ]
            ],
            "type": "surface"
           }
          ],
          "table": [
           {
            "cells": {
             "fill": {
              "color": "#EBF0F8"
             },
             "line": {
              "color": "white"
             }
            },
            "header": {
             "fill": {
              "color": "#C8D4E3"
             },
             "line": {
              "color": "white"
             }
            },
            "type": "table"
           }
          ]
         },
         "layout": {
          "annotationdefaults": {
           "arrowcolor": "#2a3f5f",
           "arrowhead": 0,
           "arrowwidth": 1
          },
          "autotypenumbers": "strict",
          "coloraxis": {
           "colorbar": {
            "outlinewidth": 0,
            "ticks": ""
           }
          },
          "colorscale": {
           "diverging": [
            [
             0,
             "#8e0152"
            ],
            [
             0.1,
             "#c51b7d"
            ],
            [
             0.2,
             "#de77ae"
            ],
            [
             0.3,
             "#f1b6da"
            ],
            [
             0.4,
             "#fde0ef"
            ],
            [
             0.5,
             "#f7f7f7"
            ],
            [
             0.6,
             "#e6f5d0"
            ],
            [
             0.7,
             "#b8e186"
            ],
            [
             0.8,
             "#7fbc41"
            ],
            [
             0.9,
             "#4d9221"
            ],
            [
             1,
             "#276419"
            ]
           ],
           "sequential": [
            [
             0,
             "#0d0887"
            ],
            [
             0.1111111111111111,
             "#46039f"
            ],
            [
             0.2222222222222222,
             "#7201a8"
            ],
            [
             0.3333333333333333,
             "#9c179e"
            ],
            [
             0.4444444444444444,
             "#bd3786"
            ],
            [
             0.5555555555555556,
             "#d8576b"
            ],
            [
             0.6666666666666666,
             "#ed7953"
            ],
            [
             0.7777777777777778,
             "#fb9f3a"
            ],
            [
             0.8888888888888888,
             "#fdca26"
            ],
            [
             1,
             "#f0f921"
            ]
           ],
           "sequentialminus": [
            [
             0,
             "#0d0887"
            ],
            [
             0.1111111111111111,
             "#46039f"
            ],
            [
             0.2222222222222222,
             "#7201a8"
            ],
            [
             0.3333333333333333,
             "#9c179e"
            ],
            [
             0.4444444444444444,
             "#bd3786"
            ],
            [
             0.5555555555555556,
             "#d8576b"
            ],
            [
             0.6666666666666666,
             "#ed7953"
            ],
            [
             0.7777777777777778,
             "#fb9f3a"
            ],
            [
             0.8888888888888888,
             "#fdca26"
            ],
            [
             1,
             "#f0f921"
            ]
           ]
          },
          "colorway": [
           "#636efa",
           "#EF553B",
           "#00cc96",
           "#ab63fa",
           "#FFA15A",
           "#19d3f3",
           "#FF6692",
           "#B6E880",
           "#FF97FF",
           "#FECB52"
          ],
          "font": {
           "color": "#2a3f5f"
          },
          "geo": {
           "bgcolor": "white",
           "lakecolor": "white",
           "landcolor": "#E5ECF6",
           "showlakes": true,
           "showland": true,
           "subunitcolor": "white"
          },
          "hoverlabel": {
           "align": "left"
          },
          "hovermode": "closest",
          "mapbox": {
           "style": "light"
          },
          "paper_bgcolor": "white",
          "plot_bgcolor": "#E5ECF6",
          "polar": {
           "angularaxis": {
            "gridcolor": "white",
            "linecolor": "white",
            "ticks": ""
           },
           "bgcolor": "#E5ECF6",
           "radialaxis": {
            "gridcolor": "white",
            "linecolor": "white",
            "ticks": ""
           }
          },
          "scene": {
           "xaxis": {
            "backgroundcolor": "#E5ECF6",
            "gridcolor": "white",
            "gridwidth": 2,
            "linecolor": "white",
            "showbackground": true,
            "ticks": "",
            "zerolinecolor": "white"
           },
           "yaxis": {
            "backgroundcolor": "#E5ECF6",
            "gridcolor": "white",
            "gridwidth": 2,
            "linecolor": "white",
            "showbackground": true,
            "ticks": "",
            "zerolinecolor": "white"
           },
           "zaxis": {
            "backgroundcolor": "#E5ECF6",
            "gridcolor": "white",
            "gridwidth": 2,
            "linecolor": "white",
            "showbackground": true,
            "ticks": "",
            "zerolinecolor": "white"
           }
          },
          "shapedefaults": {
           "line": {
            "color": "#2a3f5f"
           }
          },
          "ternary": {
           "aaxis": {
            "gridcolor": "white",
            "linecolor": "white",
            "ticks": ""
           },
           "baxis": {
            "gridcolor": "white",
            "linecolor": "white",
            "ticks": ""
           },
           "bgcolor": "#E5ECF6",
           "caxis": {
            "gridcolor": "white",
            "linecolor": "white",
            "ticks": ""
           }
          },
          "title": {
           "x": 0.05
          },
          "xaxis": {
           "automargin": true,
           "gridcolor": "white",
           "linecolor": "white",
           "ticks": "",
           "title": {
            "standoff": 15
           },
           "zerolinecolor": "white",
           "zerolinewidth": 2
          },
          "yaxis": {
           "automargin": true,
           "gridcolor": "white",
           "linecolor": "white",
           "ticks": "",
           "title": {
            "standoff": 15
           },
           "zerolinecolor": "white",
           "zerolinewidth": 2
          }
         }
        },
        "title": {
         "text": "Les passes de Christopher Operi durant la 1 période de jeu"
        },
        "width": 1000,
        "xaxis": {
         "range": [
          0,
          120
         ],
         "showgrid": false,
         "zeroline": false
        },
        "yaxis": {
         "autorange": "reversed",
         "range": [
          0,
          80
         ],
         "showgrid": false,
         "zeroline": false
        }
       }
      }
     },
     "metadata": {},
     "output_type": "display_data"
    }
   ],
   "source": [
    "passes_player(df_passes, 'Le Havre', 1, 'Christopher Operi')"
   ]
  },
  {
   "cell_type": "markdown",
   "metadata": {},
   "source": [
    "# Passes entre deux joueurs à la demande de l'entraîneur"
   ]
  },
  {
   "cell_type": "code",
   "execution_count": 40,
   "metadata": {},
   "outputs": [
    {
     "data": {
      "application/vnd.plotly.v1+json": {
       "config": {
        "plotlyServerURL": "https://plot.ly"
       },
       "data": [
        {
         "hoverinfo": "text",
         "line": {
          "color": "purple",
          "width": 2
         },
         "marker": {
          "size": 5
         },
         "mode": "lines+markers",
         "name": "Christopher Operi to Nabil Alioui",
         "text": "De: Christopher Operi<br>À: Nabil Alioui<br>X: 77.2 -> 86.5<br>Y: 6.4 -> 4.2",
         "type": "scatter",
         "x": [
          77.2,
          86.5
         ],
         "y": [
          6.4,
          4.2
         ]
        },
        {
         "hoverinfo": "text",
         "line": {
          "color": "purple",
          "width": 2
         },
         "marker": {
          "size": 5
         },
         "mode": "lines+markers",
         "name": "Christopher Operi to Nabil Alioui",
         "text": "De: Christopher Operi<br>À: Nabil Alioui<br>X: 95.8 -> 106.2<br>Y: 7.5 -> 14.4",
         "type": "scatter",
         "x": [
          95.8,
          106.2
         ],
         "y": [
          7.5,
          14.4
         ]
        },
        {
         "hoverinfo": "text",
         "line": {
          "color": "purple",
          "width": 2
         },
         "marker": {
          "size": 5
         },
         "mode": "lines+markers",
         "name": "Christopher Operi to Nabil Alioui",
         "text": "De: Christopher Operi<br>À: Nabil Alioui<br>X: 82.4 -> 62.7<br>Y: 0.1 -> 6.6",
         "type": "scatter",
         "x": [
          82.4,
          62.7
         ],
         "y": [
          0.1,
          6.6
         ]
        },
        {
         "hoverinfo": "text",
         "line": {
          "color": "purple",
          "width": 2
         },
         "marker": {
          "size": 5
         },
         "mode": "lines+markers",
         "name": "Christopher Operi to Nabil Alioui",
         "text": "De: Christopher Operi<br>À: Nabil Alioui<br>X: 22.6 -> 56.2<br>Y: 2.5 -> 3.6",
         "type": "scatter",
         "x": [
          22.6,
          56.2
         ],
         "y": [
          2.5,
          3.6
         ]
        },
        {
         "hoverinfo": "text",
         "line": {
          "color": "purple",
          "width": 2
         },
         "marker": {
          "size": 5
         },
         "mode": "lines+markers",
         "name": "Christopher Operi to Nabil Alioui",
         "text": "De: Christopher Operi<br>À: Nabil Alioui<br>X: 34.7 -> 43.2<br>Y: 1.9 -> 10.1",
         "type": "scatter",
         "x": [
          34.7,
          43.2
         ],
         "y": [
          1.9,
          10.1
         ]
        },
        {
         "hoverinfo": "text",
         "line": {
          "color": "purple",
          "width": 2
         },
         "marker": {
          "size": 5
         },
         "mode": "lines+markers",
         "name": "Christopher Operi to Nabil Alioui",
         "text": "De: Christopher Operi<br>À: Nabil Alioui<br>X: 16.4 -> 20.9<br>Y: 0.1 -> 3.2",
         "type": "scatter",
         "x": [
          16.4,
          20.9
         ],
         "y": [
          0.1,
          3.2
         ]
        }
       ],
       "layout": {
        "annotations": [
         {
          "arrowcolor": "purple",
          "arrowhead": 3,
          "arrowsize": 1,
          "arrowwidth": 2,
          "ax": 77.2,
          "axref": "x",
          "ay": 6.4,
          "ayref": "y",
          "showarrow": true,
          "x": 86.5,
          "xref": "x",
          "y": 4.2,
          "yref": "y"
         },
         {
          "arrowcolor": "purple",
          "arrowhead": 3,
          "arrowsize": 1,
          "arrowwidth": 2,
          "ax": 95.8,
          "axref": "x",
          "ay": 7.5,
          "ayref": "y",
          "showarrow": true,
          "x": 106.2,
          "xref": "x",
          "y": 14.4,
          "yref": "y"
         },
         {
          "arrowcolor": "purple",
          "arrowhead": 3,
          "arrowsize": 1,
          "arrowwidth": 2,
          "ax": 82.4,
          "axref": "x",
          "ay": 0.1,
          "ayref": "y",
          "showarrow": true,
          "x": 62.7,
          "xref": "x",
          "y": 6.6,
          "yref": "y"
         },
         {
          "arrowcolor": "purple",
          "arrowhead": 3,
          "arrowsize": 1,
          "arrowwidth": 2,
          "ax": 22.6,
          "axref": "x",
          "ay": 2.5,
          "ayref": "y",
          "showarrow": true,
          "x": 56.2,
          "xref": "x",
          "y": 3.6,
          "yref": "y"
         },
         {
          "arrowcolor": "purple",
          "arrowhead": 3,
          "arrowsize": 1,
          "arrowwidth": 2,
          "ax": 34.7,
          "axref": "x",
          "ay": 1.9,
          "ayref": "y",
          "showarrow": true,
          "x": 43.2,
          "xref": "x",
          "y": 10.1,
          "yref": "y"
         },
         {
          "arrowcolor": "purple",
          "arrowhead": 3,
          "arrowsize": 1,
          "arrowwidth": 2,
          "ax": 16.4,
          "axref": "x",
          "ay": 0.1,
          "ayref": "y",
          "showarrow": true,
          "x": 20.9,
          "xref": "x",
          "y": 3.2,
          "yref": "y"
         }
        ],
        "height": 700,
        "shapes": [
         {
          "line": {
           "color": "Black"
          },
          "type": "rect",
          "x0": 0,
          "x1": 120,
          "y0": 0,
          "y1": 80
         },
         {
          "line": {
           "color": "Black",
           "dash": "dot"
          },
          "type": "line",
          "x0": 60,
          "x1": 60,
          "y0": 0,
          "y1": 80
         },
         {
          "line": {
           "color": "Black"
          },
          "type": "rect",
          "x0": 0,
          "x1": 18,
          "y0": 18,
          "y1": 62
         },
         {
          "line": {
           "color": "Black"
          },
          "type": "rect",
          "x0": 102,
          "x1": 120,
          "y0": 18,
          "y1": 62
         },
         {
          "line": {
           "color": "Black"
          },
          "type": "rect",
          "x0": 0,
          "x1": 5.5,
          "y0": 30,
          "y1": 50
         },
         {
          "line": {
           "color": "Black"
          },
          "type": "rect",
          "x0": 114.5,
          "x1": 120,
          "y0": 30,
          "y1": 50
         },
         {
          "line": {
           "color": "Black"
          },
          "type": "rect",
          "x0": 0,
          "x1": 2,
          "y0": 36,
          "y1": 44
         },
         {
          "line": {
           "color": "Black"
          },
          "type": "rect",
          "x0": 118,
          "x1": 120,
          "y0": 36,
          "y1": 44
         },
         {
          "line": {
           "color": "Black"
          },
          "type": "circle",
          "x0": 50.4,
          "x1": 69.6,
          "xref": "x",
          "y0": 30.4,
          "y1": 49.6,
          "yref": "y"
         }
        ],
        "template": {
         "data": {
          "bar": [
           {
            "error_x": {
             "color": "#2a3f5f"
            },
            "error_y": {
             "color": "#2a3f5f"
            },
            "marker": {
             "line": {
              "color": "#E5ECF6",
              "width": 0.5
             },
             "pattern": {
              "fillmode": "overlay",
              "size": 10,
              "solidity": 0.2
             }
            },
            "type": "bar"
           }
          ],
          "barpolar": [
           {
            "marker": {
             "line": {
              "color": "#E5ECF6",
              "width": 0.5
             },
             "pattern": {
              "fillmode": "overlay",
              "size": 10,
              "solidity": 0.2
             }
            },
            "type": "barpolar"
           }
          ],
          "carpet": [
           {
            "aaxis": {
             "endlinecolor": "#2a3f5f",
             "gridcolor": "white",
             "linecolor": "white",
             "minorgridcolor": "white",
             "startlinecolor": "#2a3f5f"
            },
            "baxis": {
             "endlinecolor": "#2a3f5f",
             "gridcolor": "white",
             "linecolor": "white",
             "minorgridcolor": "white",
             "startlinecolor": "#2a3f5f"
            },
            "type": "carpet"
           }
          ],
          "choropleth": [
           {
            "colorbar": {
             "outlinewidth": 0,
             "ticks": ""
            },
            "type": "choropleth"
           }
          ],
          "contour": [
           {
            "colorbar": {
             "outlinewidth": 0,
             "ticks": ""
            },
            "colorscale": [
             [
              0,
              "#0d0887"
             ],
             [
              0.1111111111111111,
              "#46039f"
             ],
             [
              0.2222222222222222,
              "#7201a8"
             ],
             [
              0.3333333333333333,
              "#9c179e"
             ],
             [
              0.4444444444444444,
              "#bd3786"
             ],
             [
              0.5555555555555556,
              "#d8576b"
             ],
             [
              0.6666666666666666,
              "#ed7953"
             ],
             [
              0.7777777777777778,
              "#fb9f3a"
             ],
             [
              0.8888888888888888,
              "#fdca26"
             ],
             [
              1,
              "#f0f921"
             ]
            ],
            "type": "contour"
           }
          ],
          "contourcarpet": [
           {
            "colorbar": {
             "outlinewidth": 0,
             "ticks": ""
            },
            "type": "contourcarpet"
           }
          ],
          "heatmap": [
           {
            "colorbar": {
             "outlinewidth": 0,
             "ticks": ""
            },
            "colorscale": [
             [
              0,
              "#0d0887"
             ],
             [
              0.1111111111111111,
              "#46039f"
             ],
             [
              0.2222222222222222,
              "#7201a8"
             ],
             [
              0.3333333333333333,
              "#9c179e"
             ],
             [
              0.4444444444444444,
              "#bd3786"
             ],
             [
              0.5555555555555556,
              "#d8576b"
             ],
             [
              0.6666666666666666,
              "#ed7953"
             ],
             [
              0.7777777777777778,
              "#fb9f3a"
             ],
             [
              0.8888888888888888,
              "#fdca26"
             ],
             [
              1,
              "#f0f921"
             ]
            ],
            "type": "heatmap"
           }
          ],
          "heatmapgl": [
           {
            "colorbar": {
             "outlinewidth": 0,
             "ticks": ""
            },
            "colorscale": [
             [
              0,
              "#0d0887"
             ],
             [
              0.1111111111111111,
              "#46039f"
             ],
             [
              0.2222222222222222,
              "#7201a8"
             ],
             [
              0.3333333333333333,
              "#9c179e"
             ],
             [
              0.4444444444444444,
              "#bd3786"
             ],
             [
              0.5555555555555556,
              "#d8576b"
             ],
             [
              0.6666666666666666,
              "#ed7953"
             ],
             [
              0.7777777777777778,
              "#fb9f3a"
             ],
             [
              0.8888888888888888,
              "#fdca26"
             ],
             [
              1,
              "#f0f921"
             ]
            ],
            "type": "heatmapgl"
           }
          ],
          "histogram": [
           {
            "marker": {
             "pattern": {
              "fillmode": "overlay",
              "size": 10,
              "solidity": 0.2
             }
            },
            "type": "histogram"
           }
          ],
          "histogram2d": [
           {
            "colorbar": {
             "outlinewidth": 0,
             "ticks": ""
            },
            "colorscale": [
             [
              0,
              "#0d0887"
             ],
             [
              0.1111111111111111,
              "#46039f"
             ],
             [
              0.2222222222222222,
              "#7201a8"
             ],
             [
              0.3333333333333333,
              "#9c179e"
             ],
             [
              0.4444444444444444,
              "#bd3786"
             ],
             [
              0.5555555555555556,
              "#d8576b"
             ],
             [
              0.6666666666666666,
              "#ed7953"
             ],
             [
              0.7777777777777778,
              "#fb9f3a"
             ],
             [
              0.8888888888888888,
              "#fdca26"
             ],
             [
              1,
              "#f0f921"
             ]
            ],
            "type": "histogram2d"
           }
          ],
          "histogram2dcontour": [
           {
            "colorbar": {
             "outlinewidth": 0,
             "ticks": ""
            },
            "colorscale": [
             [
              0,
              "#0d0887"
             ],
             [
              0.1111111111111111,
              "#46039f"
             ],
             [
              0.2222222222222222,
              "#7201a8"
             ],
             [
              0.3333333333333333,
              "#9c179e"
             ],
             [
              0.4444444444444444,
              "#bd3786"
             ],
             [
              0.5555555555555556,
              "#d8576b"
             ],
             [
              0.6666666666666666,
              "#ed7953"
             ],
             [
              0.7777777777777778,
              "#fb9f3a"
             ],
             [
              0.8888888888888888,
              "#fdca26"
             ],
             [
              1,
              "#f0f921"
             ]
            ],
            "type": "histogram2dcontour"
           }
          ],
          "mesh3d": [
           {
            "colorbar": {
             "outlinewidth": 0,
             "ticks": ""
            },
            "type": "mesh3d"
           }
          ],
          "parcoords": [
           {
            "line": {
             "colorbar": {
              "outlinewidth": 0,
              "ticks": ""
             }
            },
            "type": "parcoords"
           }
          ],
          "pie": [
           {
            "automargin": true,
            "type": "pie"
           }
          ],
          "scatter": [
           {
            "fillpattern": {
             "fillmode": "overlay",
             "size": 10,
             "solidity": 0.2
            },
            "type": "scatter"
           }
          ],
          "scatter3d": [
           {
            "line": {
             "colorbar": {
              "outlinewidth": 0,
              "ticks": ""
             }
            },
            "marker": {
             "colorbar": {
              "outlinewidth": 0,
              "ticks": ""
             }
            },
            "type": "scatter3d"
           }
          ],
          "scattercarpet": [
           {
            "marker": {
             "colorbar": {
              "outlinewidth": 0,
              "ticks": ""
             }
            },
            "type": "scattercarpet"
           }
          ],
          "scattergeo": [
           {
            "marker": {
             "colorbar": {
              "outlinewidth": 0,
              "ticks": ""
             }
            },
            "type": "scattergeo"
           }
          ],
          "scattergl": [
           {
            "marker": {
             "colorbar": {
              "outlinewidth": 0,
              "ticks": ""
             }
            },
            "type": "scattergl"
           }
          ],
          "scattermapbox": [
           {
            "marker": {
             "colorbar": {
              "outlinewidth": 0,
              "ticks": ""
             }
            },
            "type": "scattermapbox"
           }
          ],
          "scatterpolar": [
           {
            "marker": {
             "colorbar": {
              "outlinewidth": 0,
              "ticks": ""
             }
            },
            "type": "scatterpolar"
           }
          ],
          "scatterpolargl": [
           {
            "marker": {
             "colorbar": {
              "outlinewidth": 0,
              "ticks": ""
             }
            },
            "type": "scatterpolargl"
           }
          ],
          "scatterternary": [
           {
            "marker": {
             "colorbar": {
              "outlinewidth": 0,
              "ticks": ""
             }
            },
            "type": "scatterternary"
           }
          ],
          "surface": [
           {
            "colorbar": {
             "outlinewidth": 0,
             "ticks": ""
            },
            "colorscale": [
             [
              0,
              "#0d0887"
             ],
             [
              0.1111111111111111,
              "#46039f"
             ],
             [
              0.2222222222222222,
              "#7201a8"
             ],
             [
              0.3333333333333333,
              "#9c179e"
             ],
             [
              0.4444444444444444,
              "#bd3786"
             ],
             [
              0.5555555555555556,
              "#d8576b"
             ],
             [
              0.6666666666666666,
              "#ed7953"
             ],
             [
              0.7777777777777778,
              "#fb9f3a"
             ],
             [
              0.8888888888888888,
              "#fdca26"
             ],
             [
              1,
              "#f0f921"
             ]
            ],
            "type": "surface"
           }
          ],
          "table": [
           {
            "cells": {
             "fill": {
              "color": "#EBF0F8"
             },
             "line": {
              "color": "white"
             }
            },
            "header": {
             "fill": {
              "color": "#C8D4E3"
             },
             "line": {
              "color": "white"
             }
            },
            "type": "table"
           }
          ]
         },
         "layout": {
          "annotationdefaults": {
           "arrowcolor": "#2a3f5f",
           "arrowhead": 0,
           "arrowwidth": 1
          },
          "autotypenumbers": "strict",
          "coloraxis": {
           "colorbar": {
            "outlinewidth": 0,
            "ticks": ""
           }
          },
          "colorscale": {
           "diverging": [
            [
             0,
             "#8e0152"
            ],
            [
             0.1,
             "#c51b7d"
            ],
            [
             0.2,
             "#de77ae"
            ],
            [
             0.3,
             "#f1b6da"
            ],
            [
             0.4,
             "#fde0ef"
            ],
            [
             0.5,
             "#f7f7f7"
            ],
            [
             0.6,
             "#e6f5d0"
            ],
            [
             0.7,
             "#b8e186"
            ],
            [
             0.8,
             "#7fbc41"
            ],
            [
             0.9,
             "#4d9221"
            ],
            [
             1,
             "#276419"
            ]
           ],
           "sequential": [
            [
             0,
             "#0d0887"
            ],
            [
             0.1111111111111111,
             "#46039f"
            ],
            [
             0.2222222222222222,
             "#7201a8"
            ],
            [
             0.3333333333333333,
             "#9c179e"
            ],
            [
             0.4444444444444444,
             "#bd3786"
            ],
            [
             0.5555555555555556,
             "#d8576b"
            ],
            [
             0.6666666666666666,
             "#ed7953"
            ],
            [
             0.7777777777777778,
             "#fb9f3a"
            ],
            [
             0.8888888888888888,
             "#fdca26"
            ],
            [
             1,
             "#f0f921"
            ]
           ],
           "sequentialminus": [
            [
             0,
             "#0d0887"
            ],
            [
             0.1111111111111111,
             "#46039f"
            ],
            [
             0.2222222222222222,
             "#7201a8"
            ],
            [
             0.3333333333333333,
             "#9c179e"
            ],
            [
             0.4444444444444444,
             "#bd3786"
            ],
            [
             0.5555555555555556,
             "#d8576b"
            ],
            [
             0.6666666666666666,
             "#ed7953"
            ],
            [
             0.7777777777777778,
             "#fb9f3a"
            ],
            [
             0.8888888888888888,
             "#fdca26"
            ],
            [
             1,
             "#f0f921"
            ]
           ]
          },
          "colorway": [
           "#636efa",
           "#EF553B",
           "#00cc96",
           "#ab63fa",
           "#FFA15A",
           "#19d3f3",
           "#FF6692",
           "#B6E880",
           "#FF97FF",
           "#FECB52"
          ],
          "font": {
           "color": "#2a3f5f"
          },
          "geo": {
           "bgcolor": "white",
           "lakecolor": "white",
           "landcolor": "#E5ECF6",
           "showlakes": true,
           "showland": true,
           "subunitcolor": "white"
          },
          "hoverlabel": {
           "align": "left"
          },
          "hovermode": "closest",
          "mapbox": {
           "style": "light"
          },
          "paper_bgcolor": "white",
          "plot_bgcolor": "#E5ECF6",
          "polar": {
           "angularaxis": {
            "gridcolor": "white",
            "linecolor": "white",
            "ticks": ""
           },
           "bgcolor": "#E5ECF6",
           "radialaxis": {
            "gridcolor": "white",
            "linecolor": "white",
            "ticks": ""
           }
          },
          "scene": {
           "xaxis": {
            "backgroundcolor": "#E5ECF6",
            "gridcolor": "white",
            "gridwidth": 2,
            "linecolor": "white",
            "showbackground": true,
            "ticks": "",
            "zerolinecolor": "white"
           },
           "yaxis": {
            "backgroundcolor": "#E5ECF6",
            "gridcolor": "white",
            "gridwidth": 2,
            "linecolor": "white",
            "showbackground": true,
            "ticks": "",
            "zerolinecolor": "white"
           },
           "zaxis": {
            "backgroundcolor": "#E5ECF6",
            "gridcolor": "white",
            "gridwidth": 2,
            "linecolor": "white",
            "showbackground": true,
            "ticks": "",
            "zerolinecolor": "white"
           }
          },
          "shapedefaults": {
           "line": {
            "color": "#2a3f5f"
           }
          },
          "ternary": {
           "aaxis": {
            "gridcolor": "white",
            "linecolor": "white",
            "ticks": ""
           },
           "baxis": {
            "gridcolor": "white",
            "linecolor": "white",
            "ticks": ""
           },
           "bgcolor": "#E5ECF6",
           "caxis": {
            "gridcolor": "white",
            "linecolor": "white",
            "ticks": ""
           }
          },
          "title": {
           "x": 0.05
          },
          "xaxis": {
           "automargin": true,
           "gridcolor": "white",
           "linecolor": "white",
           "ticks": "",
           "title": {
            "standoff": 15
           },
           "zerolinecolor": "white",
           "zerolinewidth": 2
          },
          "yaxis": {
           "automargin": true,
           "gridcolor": "white",
           "linecolor": "white",
           "ticks": "",
           "title": {
            "standoff": 15
           },
           "zerolinecolor": "white",
           "zerolinewidth": 2
          }
         }
        },
        "title": {
         "text": "Les passes entre Christopher Operi et Nabil Alioui durant la 1 période de jeu"
        },
        "width": 1000,
        "xaxis": {
         "range": [
          0,
          120
         ],
         "showgrid": false,
         "zeroline": false
        },
        "yaxis": {
         "autorange": "reversed",
         "range": [
          0,
          80
         ],
         "showgrid": false,
         "zeroline": false
        }
       }
      }
     },
     "metadata": {},
     "output_type": "display_data"
    }
   ],
   "source": [
    "Joueurs_passes(df_passes, 'Le Havre', 1, 'Christopher Operi', 'Nabil Alioui' )"
   ]
  }
 ],
 "metadata": {
  "kernelspec": {
   "display_name": "Python 3",
   "language": "python",
   "name": "python3"
  },
  "language_info": {
   "codemirror_mode": {
    "name": "ipython",
    "version": 3
   },
   "file_extension": ".py",
   "mimetype": "text/x-python",
   "name": "python",
   "nbconvert_exporter": "python",
   "pygments_lexer": "ipython3",
   "version": "3.10.12"
  },
  "orig_nbformat": 4
 },
 "nbformat": 4,
 "nbformat_minor": 2
}
