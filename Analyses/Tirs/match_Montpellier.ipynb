{
 "cells": [
  {
   "cell_type": "markdown",
   "metadata": {},
   "source": [
    "# Montpellier 2 : 2 Le Havre"
   ]
  },
  {
   "cell_type": "code",
   "execution_count": 1,
   "metadata": {},
   "outputs": [],
   "source": [
    "import sys\n",
    "sys.path.append('/home/UR/kontaous/Bureau/Stage/')\n",
    "from Analyses.traitement import *\n",
    "from tirs_equipes import *\n",
    "import pandas as pd\n",
    "import numpy as np\n",
    "import matplotlib.pyplot as plt\n",
    "import seaborn as sns\n",
    "import plotly.graph_objects as go\n",
    "import pandas as pd\n",
    "tracking = pd.read_csv(\"../../Data/HAC/Tracking_data/tracking_Montpellier.csv\", low_memory=False)\n",
    "events = pd.read_csv(\"../../Data/HAC/match_data/match_Montpellier.csv\")\n",
    "df_home = home_format_metrica(tracking)\n",
    "df_away = away_format_metrica(tracking)\n",
    "\n",
    "home_cote_period1 = determine_sides(df_home[df_home['period'] == 1], 1)\n",
    "away_cote_period1 = determine_sides(df_away[df_away['period'] == 1], 1)\n",
    "def prepare_data(tracking, events):\n",
    "    tracking['datetime'] = pd.to_datetime(tracking['system_time'], unit='ms')\n",
    "    \n",
    "    match_date = pd.Timestamp(\"2023-08-13\") # je dois verifier de la ddate du match ;)\n",
    "    events['timestamp'] = pd.to_datetime(events['timestamp'], format='%H:%M:%S.%f')\n",
    "    events['datetime'] = match_date + (events['timestamp'] - pd.Timestamp(\"1900-01-01\"))\n",
    "    \n",
    "    return tracking, events\n",
    "tracking, events = prepare_data(tracking, events)"
   ]
  },
  {
   "cell_type": "code",
   "execution_count": 2,
   "metadata": {},
   "outputs": [
    {
     "data": {
      "text/html": [
       "<div>\n",
       "<style scoped>\n",
       "    .dataframe tbody tr th:only-of-type {\n",
       "        vertical-align: middle;\n",
       "    }\n",
       "\n",
       "    .dataframe tbody tr th {\n",
       "        vertical-align: top;\n",
       "    }\n",
       "\n",
       "    .dataframe thead th {\n",
       "        text-align: right;\n",
       "    }\n",
       "</style>\n",
       "<table border=\"1\" class=\"dataframe\">\n",
       "  <thead>\n",
       "    <tr style=\"text-align: right;\">\n",
       "      <th></th>\n",
       "      <th>datetime</th>\n",
       "      <th>team.name</th>\n",
       "      <th>period</th>\n",
       "      <th>player.name</th>\n",
       "      <th>location.x</th>\n",
       "      <th>location.y</th>\n",
       "      <th>shot.end_location.x</th>\n",
       "      <th>shot.end_location.y</th>\n",
       "      <th>shot.outcome.name</th>\n",
       "    </tr>\n",
       "  </thead>\n",
       "  <tbody>\n",
       "    <tr>\n",
       "      <th>106</th>\n",
       "      <td>2023-08-13 00:02:09.184</td>\n",
       "      <td>Montpellier</td>\n",
       "      <td>1</td>\n",
       "      <td>Moussa Al Tamari</td>\n",
       "      <td>113.1</td>\n",
       "      <td>46.3</td>\n",
       "      <td>118.0</td>\n",
       "      <td>41.9</td>\n",
       "      <td>Saved</td>\n",
       "    </tr>\n",
       "    <tr>\n",
       "      <th>109</th>\n",
       "      <td>2023-08-13 00:02:11.151</td>\n",
       "      <td>Montpellier</td>\n",
       "      <td>1</td>\n",
       "      <td>Téji Savanier</td>\n",
       "      <td>107.3</td>\n",
       "      <td>45.8</td>\n",
       "      <td>109.9</td>\n",
       "      <td>44.8</td>\n",
       "      <td>Blocked</td>\n",
       "    </tr>\n",
       "    <tr>\n",
       "      <th>136</th>\n",
       "      <td>2023-08-13 00:04:58.562</td>\n",
       "      <td>Le Havre</td>\n",
       "      <td>1</td>\n",
       "      <td>Yoann Salmier</td>\n",
       "      <td>114.9</td>\n",
       "      <td>43.3</td>\n",
       "      <td>115.3</td>\n",
       "      <td>42.9</td>\n",
       "      <td>Blocked</td>\n",
       "    </tr>\n",
       "    <tr>\n",
       "      <th>142</th>\n",
       "      <td>2023-08-13 00:04:59.237</td>\n",
       "      <td>Le Havre</td>\n",
       "      <td>1</td>\n",
       "      <td>Gautier Lloris</td>\n",
       "      <td>117.8</td>\n",
       "      <td>43.1</td>\n",
       "      <td>120.0</td>\n",
       "      <td>42.9</td>\n",
       "      <td>Goal</td>\n",
       "    </tr>\n",
       "    <tr>\n",
       "      <th>199</th>\n",
       "      <td>2023-08-13 00:08:39.614</td>\n",
       "      <td>Le Havre</td>\n",
       "      <td>1</td>\n",
       "      <td>Rassoul N'Diaye</td>\n",
       "      <td>104.0</td>\n",
       "      <td>57.5</td>\n",
       "      <td>109.0</td>\n",
       "      <td>42.0</td>\n",
       "      <td>Wayward</td>\n",
       "    </tr>\n",
       "    <tr>\n",
       "      <th>378</th>\n",
       "      <td>2023-08-13 00:14:34.409</td>\n",
       "      <td>Montpellier</td>\n",
       "      <td>1</td>\n",
       "      <td>Téji Savanier</td>\n",
       "      <td>87.8</td>\n",
       "      <td>48.7</td>\n",
       "      <td>95.7</td>\n",
       "      <td>47.2</td>\n",
       "      <td>Blocked</td>\n",
       "    </tr>\n",
       "    <tr>\n",
       "      <th>429</th>\n",
       "      <td>2023-08-13 00:15:31.959</td>\n",
       "      <td>Le Havre</td>\n",
       "      <td>1</td>\n",
       "      <td>Oussama Targhalline</td>\n",
       "      <td>87.7</td>\n",
       "      <td>33.7</td>\n",
       "      <td>120.0</td>\n",
       "      <td>46.1</td>\n",
       "      <td>Off T</td>\n",
       "    </tr>\n",
       "    <tr>\n",
       "      <th>752</th>\n",
       "      <td>2023-08-13 00:26:24.935</td>\n",
       "      <td>Le Havre</td>\n",
       "      <td>1</td>\n",
       "      <td>Issa Soumaré</td>\n",
       "      <td>70.5</td>\n",
       "      <td>39.8</td>\n",
       "      <td>120.0</td>\n",
       "      <td>42.1</td>\n",
       "      <td>Off T</td>\n",
       "    </tr>\n",
       "    <tr>\n",
       "      <th>951</th>\n",
       "      <td>2023-08-13 00:30:37.304</td>\n",
       "      <td>Montpellier</td>\n",
       "      <td>1</td>\n",
       "      <td>Moussa Al Tamari</td>\n",
       "      <td>93.6</td>\n",
       "      <td>50.9</td>\n",
       "      <td>120.0</td>\n",
       "      <td>31.2</td>\n",
       "      <td>Off T</td>\n",
       "    </tr>\n",
       "    <tr>\n",
       "      <th>1303</th>\n",
       "      <td>2023-08-13 00:41:24.111</td>\n",
       "      <td>Montpellier</td>\n",
       "      <td>1</td>\n",
       "      <td>Moussa Al Tamari</td>\n",
       "      <td>112.6</td>\n",
       "      <td>51.6</td>\n",
       "      <td>118.5</td>\n",
       "      <td>43.8</td>\n",
       "      <td>Saved</td>\n",
       "    </tr>\n",
       "    <tr>\n",
       "      <th>1431</th>\n",
       "      <td>2023-08-13 00:45:27.418</td>\n",
       "      <td>Le Havre</td>\n",
       "      <td>1</td>\n",
       "      <td>Issa Soumaré</td>\n",
       "      <td>100.6</td>\n",
       "      <td>43.4</td>\n",
       "      <td>120.0</td>\n",
       "      <td>34.3</td>\n",
       "      <td>Off T</td>\n",
       "    </tr>\n",
       "    <tr>\n",
       "      <th>1506</th>\n",
       "      <td>2023-08-13 00:48:04.317</td>\n",
       "      <td>Montpellier</td>\n",
       "      <td>1</td>\n",
       "      <td>Christopher Jullien</td>\n",
       "      <td>111.7</td>\n",
       "      <td>37.4</td>\n",
       "      <td>112.5</td>\n",
       "      <td>38.3</td>\n",
       "      <td>Wayward</td>\n",
       "    </tr>\n",
       "    <tr>\n",
       "      <th>1578</th>\n",
       "      <td>2023-08-13 00:49:45.943</td>\n",
       "      <td>Montpellier</td>\n",
       "      <td>1</td>\n",
       "      <td>Wahbi Khazri</td>\n",
       "      <td>107.8</td>\n",
       "      <td>28.8</td>\n",
       "      <td>120.0</td>\n",
       "      <td>37.9</td>\n",
       "      <td>Off T</td>\n",
       "    </tr>\n",
       "    <tr>\n",
       "      <th>1602</th>\n",
       "      <td>2023-08-13 00:51:28.802</td>\n",
       "      <td>Montpellier</td>\n",
       "      <td>1</td>\n",
       "      <td>Wahbi Khazri</td>\n",
       "      <td>115.6</td>\n",
       "      <td>50.7</td>\n",
       "      <td>120.0</td>\n",
       "      <td>44.0</td>\n",
       "      <td>Off T</td>\n",
       "    </tr>\n",
       "    <tr>\n",
       "      <th>1734</th>\n",
       "      <td>2023-08-13 00:02:06.444</td>\n",
       "      <td>Montpellier</td>\n",
       "      <td>2</td>\n",
       "      <td>Wahbi Khazri</td>\n",
       "      <td>106.9</td>\n",
       "      <td>51.1</td>\n",
       "      <td>120.0</td>\n",
       "      <td>52.1</td>\n",
       "      <td>Off T</td>\n",
       "    </tr>\n",
       "    <tr>\n",
       "      <th>1933</th>\n",
       "      <td>2023-08-13 00:08:34.771</td>\n",
       "      <td>Montpellier</td>\n",
       "      <td>2</td>\n",
       "      <td>Wahbi Khazri</td>\n",
       "      <td>107.5</td>\n",
       "      <td>50.2</td>\n",
       "      <td>118.0</td>\n",
       "      <td>43.0</td>\n",
       "      <td>Saved</td>\n",
       "    </tr>\n",
       "    <tr>\n",
       "      <th>1983</th>\n",
       "      <td>2023-08-13 00:10:38.791</td>\n",
       "      <td>Montpellier</td>\n",
       "      <td>2</td>\n",
       "      <td>Jordan Ferri</td>\n",
       "      <td>103.8</td>\n",
       "      <td>34.0</td>\n",
       "      <td>112.1</td>\n",
       "      <td>37.4</td>\n",
       "      <td>Blocked</td>\n",
       "    </tr>\n",
       "    <tr>\n",
       "      <th>1995</th>\n",
       "      <td>2023-08-13 00:10:55.843</td>\n",
       "      <td>Le Havre</td>\n",
       "      <td>2</td>\n",
       "      <td>Loïc Négo</td>\n",
       "      <td>109.2</td>\n",
       "      <td>48.2</td>\n",
       "      <td>120.0</td>\n",
       "      <td>37.3</td>\n",
       "      <td>Off T</td>\n",
       "    </tr>\n",
       "    <tr>\n",
       "      <th>2049</th>\n",
       "      <td>2023-08-13 00:12:46.558</td>\n",
       "      <td>Montpellier</td>\n",
       "      <td>2</td>\n",
       "      <td>Akor Jerome Adams</td>\n",
       "      <td>116.7</td>\n",
       "      <td>37.8</td>\n",
       "      <td>120.0</td>\n",
       "      <td>41.1</td>\n",
       "      <td>Goal</td>\n",
       "    </tr>\n",
       "    <tr>\n",
       "      <th>2094</th>\n",
       "      <td>2023-08-13 00:14:31.045</td>\n",
       "      <td>Montpellier</td>\n",
       "      <td>2</td>\n",
       "      <td>Akor Jerome Adams</td>\n",
       "      <td>105.8</td>\n",
       "      <td>29.8</td>\n",
       "      <td>120.0</td>\n",
       "      <td>43.2</td>\n",
       "      <td>Goal</td>\n",
       "    </tr>\n",
       "    <tr>\n",
       "      <th>2135</th>\n",
       "      <td>2023-08-13 00:16:37.188</td>\n",
       "      <td>Montpellier</td>\n",
       "      <td>2</td>\n",
       "      <td>Wahbi Khazri</td>\n",
       "      <td>100.5</td>\n",
       "      <td>36.6</td>\n",
       "      <td>102.0</td>\n",
       "      <td>36.8</td>\n",
       "      <td>Blocked</td>\n",
       "    </tr>\n",
       "    <tr>\n",
       "      <th>2557</th>\n",
       "      <td>2023-08-13 00:27:19.266</td>\n",
       "      <td>Le Havre</td>\n",
       "      <td>2</td>\n",
       "      <td>Yassine Kechta</td>\n",
       "      <td>92.2</td>\n",
       "      <td>52.4</td>\n",
       "      <td>120.0</td>\n",
       "      <td>44.7</td>\n",
       "      <td>Off T</td>\n",
       "    </tr>\n",
       "    <tr>\n",
       "      <th>3022</th>\n",
       "      <td>2023-08-13 00:38:48.580</td>\n",
       "      <td>Le Havre</td>\n",
       "      <td>2</td>\n",
       "      <td>Daler Kuzyaev</td>\n",
       "      <td>104.9</td>\n",
       "      <td>16.9</td>\n",
       "      <td>120.0</td>\n",
       "      <td>48.7</td>\n",
       "      <td>Off T</td>\n",
       "    </tr>\n",
       "    <tr>\n",
       "      <th>3060</th>\n",
       "      <td>2023-08-13 00:41:33.927</td>\n",
       "      <td>Montpellier</td>\n",
       "      <td>2</td>\n",
       "      <td>Leo Leroy</td>\n",
       "      <td>113.5</td>\n",
       "      <td>45.7</td>\n",
       "      <td>120.0</td>\n",
       "      <td>34.8</td>\n",
       "      <td>Off T</td>\n",
       "    </tr>\n",
       "    <tr>\n",
       "      <th>3131</th>\n",
       "      <td>2023-08-13 00:44:01.797</td>\n",
       "      <td>Le Havre</td>\n",
       "      <td>2</td>\n",
       "      <td>Yoann Salmier</td>\n",
       "      <td>113.3</td>\n",
       "      <td>44.4</td>\n",
       "      <td>118.2</td>\n",
       "      <td>40.4</td>\n",
       "      <td>Saved</td>\n",
       "    </tr>\n",
       "    <tr>\n",
       "      <th>3152</th>\n",
       "      <td>2023-08-13 00:44:58.482</td>\n",
       "      <td>Le Havre</td>\n",
       "      <td>2</td>\n",
       "      <td>Samuel Grandsir</td>\n",
       "      <td>115.6</td>\n",
       "      <td>28.4</td>\n",
       "      <td>120.0</td>\n",
       "      <td>40.2</td>\n",
       "      <td>Goal</td>\n",
       "    </tr>\n",
       "    <tr>\n",
       "      <th>3251</th>\n",
       "      <td>2023-08-13 00:49:18.222</td>\n",
       "      <td>Le Havre</td>\n",
       "      <td>2</td>\n",
       "      <td>Abdoulaye Touré</td>\n",
       "      <td>92.1</td>\n",
       "      <td>32.7</td>\n",
       "      <td>117.9</td>\n",
       "      <td>39.7</td>\n",
       "      <td>Saved</td>\n",
       "    </tr>\n",
       "  </tbody>\n",
       "</table>\n",
       "</div>"
      ],
      "text/plain": [
       "                    datetime    team.name  period          player.name  \\\n",
       "106  2023-08-13 00:02:09.184  Montpellier       1     Moussa Al Tamari   \n",
       "109  2023-08-13 00:02:11.151  Montpellier       1        Téji Savanier   \n",
       "136  2023-08-13 00:04:58.562     Le Havre       1        Yoann Salmier   \n",
       "142  2023-08-13 00:04:59.237     Le Havre       1       Gautier Lloris   \n",
       "199  2023-08-13 00:08:39.614     Le Havre       1      Rassoul N'Diaye   \n",
       "378  2023-08-13 00:14:34.409  Montpellier       1        Téji Savanier   \n",
       "429  2023-08-13 00:15:31.959     Le Havre       1  Oussama Targhalline   \n",
       "752  2023-08-13 00:26:24.935     Le Havre       1         Issa Soumaré   \n",
       "951  2023-08-13 00:30:37.304  Montpellier       1     Moussa Al Tamari   \n",
       "1303 2023-08-13 00:41:24.111  Montpellier       1     Moussa Al Tamari   \n",
       "1431 2023-08-13 00:45:27.418     Le Havre       1         Issa Soumaré   \n",
       "1506 2023-08-13 00:48:04.317  Montpellier       1  Christopher Jullien   \n",
       "1578 2023-08-13 00:49:45.943  Montpellier       1         Wahbi Khazri   \n",
       "1602 2023-08-13 00:51:28.802  Montpellier       1         Wahbi Khazri   \n",
       "1734 2023-08-13 00:02:06.444  Montpellier       2         Wahbi Khazri   \n",
       "1933 2023-08-13 00:08:34.771  Montpellier       2         Wahbi Khazri   \n",
       "1983 2023-08-13 00:10:38.791  Montpellier       2         Jordan Ferri   \n",
       "1995 2023-08-13 00:10:55.843     Le Havre       2            Loïc Négo   \n",
       "2049 2023-08-13 00:12:46.558  Montpellier       2    Akor Jerome Adams   \n",
       "2094 2023-08-13 00:14:31.045  Montpellier       2    Akor Jerome Adams   \n",
       "2135 2023-08-13 00:16:37.188  Montpellier       2         Wahbi Khazri   \n",
       "2557 2023-08-13 00:27:19.266     Le Havre       2       Yassine Kechta   \n",
       "3022 2023-08-13 00:38:48.580     Le Havre       2        Daler Kuzyaev   \n",
       "3060 2023-08-13 00:41:33.927  Montpellier       2            Leo Leroy   \n",
       "3131 2023-08-13 00:44:01.797     Le Havre       2        Yoann Salmier   \n",
       "3152 2023-08-13 00:44:58.482     Le Havre       2      Samuel Grandsir   \n",
       "3251 2023-08-13 00:49:18.222     Le Havre       2      Abdoulaye Touré   \n",
       "\n",
       "      location.x  location.y  shot.end_location.x  shot.end_location.y  \\\n",
       "106        113.1        46.3                118.0                 41.9   \n",
       "109        107.3        45.8                109.9                 44.8   \n",
       "136        114.9        43.3                115.3                 42.9   \n",
       "142        117.8        43.1                120.0                 42.9   \n",
       "199        104.0        57.5                109.0                 42.0   \n",
       "378         87.8        48.7                 95.7                 47.2   \n",
       "429         87.7        33.7                120.0                 46.1   \n",
       "752         70.5        39.8                120.0                 42.1   \n",
       "951         93.6        50.9                120.0                 31.2   \n",
       "1303       112.6        51.6                118.5                 43.8   \n",
       "1431       100.6        43.4                120.0                 34.3   \n",
       "1506       111.7        37.4                112.5                 38.3   \n",
       "1578       107.8        28.8                120.0                 37.9   \n",
       "1602       115.6        50.7                120.0                 44.0   \n",
       "1734       106.9        51.1                120.0                 52.1   \n",
       "1933       107.5        50.2                118.0                 43.0   \n",
       "1983       103.8        34.0                112.1                 37.4   \n",
       "1995       109.2        48.2                120.0                 37.3   \n",
       "2049       116.7        37.8                120.0                 41.1   \n",
       "2094       105.8        29.8                120.0                 43.2   \n",
       "2135       100.5        36.6                102.0                 36.8   \n",
       "2557        92.2        52.4                120.0                 44.7   \n",
       "3022       104.9        16.9                120.0                 48.7   \n",
       "3060       113.5        45.7                120.0                 34.8   \n",
       "3131       113.3        44.4                118.2                 40.4   \n",
       "3152       115.6        28.4                120.0                 40.2   \n",
       "3251        92.1        32.7                117.9                 39.7   \n",
       "\n",
       "     shot.outcome.name  \n",
       "106              Saved  \n",
       "109            Blocked  \n",
       "136            Blocked  \n",
       "142               Goal  \n",
       "199            Wayward  \n",
       "378            Blocked  \n",
       "429              Off T  \n",
       "752              Off T  \n",
       "951              Off T  \n",
       "1303             Saved  \n",
       "1431             Off T  \n",
       "1506           Wayward  \n",
       "1578             Off T  \n",
       "1602             Off T  \n",
       "1734             Off T  \n",
       "1933             Saved  \n",
       "1983           Blocked  \n",
       "1995             Off T  \n",
       "2049              Goal  \n",
       "2094              Goal  \n",
       "2135           Blocked  \n",
       "2557             Off T  \n",
       "3022             Off T  \n",
       "3060             Off T  \n",
       "3131             Saved  \n",
       "3152              Goal  \n",
       "3251             Saved  "
      ]
     },
     "execution_count": 2,
     "metadata": {},
     "output_type": "execute_result"
    }
   ],
   "source": [
    "tirs = ['datetime', 'team.name', 'period', 'player.name', 'location.x', 'location.y', 'shot.end_location.x', 'shot.end_location.y', 'shot.outcome.name']\n",
    "df_tirs = events[tirs].copy()\n",
    "df_tirs[df_tirs['shot.end_location.x'].notna()]"
   ]
  },
  {
   "cell_type": "code",
   "execution_count": 3,
   "metadata": {},
   "outputs": [
    {
     "data": {
      "application/vnd.plotly.v1+json": {
       "config": {
        "plotlyServerURL": "https://plot.ly"
       },
       "data": [
        {
         "hoverinfo": "text",
         "line": {
          "color": "purple",
          "width": 2
         },
         "marker": {
          "size": 10,
          "symbol": "circle"
         },
         "mode": "lines+markers",
         "name": "Wahbi Khazri (Montpellier) - Off T",
         "text": "Wahbi Khazri (Montpellier)<br>Resultat: Off T<br>De: (106.9, 51.1)<br>A: (120.0, 52.1)",
         "type": "scatter",
         "x": [
          13.099999999999994,
          0
         ],
         "y": [
          28.9,
          27.9
         ]
        },
        {
         "hoverinfo": "text",
         "line": {
          "color": "blue",
          "width": 2
         },
         "marker": {
          "size": 10,
          "symbol": "circle"
         },
         "mode": "lines+markers",
         "name": "Wahbi Khazri (Montpellier) - Saved",
         "text": "Wahbi Khazri (Montpellier)<br>Resultat: Saved<br>De: (107.5, 50.2)<br>A: (118.0, 43.0)",
         "type": "scatter",
         "x": [
          12.5,
          2
         ],
         "y": [
          29.799999999999997,
          37
         ]
        },
        {
         "hoverinfo": "text",
         "line": {
          "color": "orange",
          "width": 2
         },
         "marker": {
          "size": 10,
          "symbol": "circle"
         },
         "mode": "lines+markers",
         "name": "Jordan Ferri (Montpellier) - Blocked",
         "text": "Jordan Ferri (Montpellier)<br>Resultat: Blocked<br>De: (103.8, 34.0)<br>A: (112.1, 37.4)",
         "type": "scatter",
         "x": [
          16.200000000000003,
          7.900000000000006
         ],
         "y": [
          46,
          42.6
         ]
        },
        {
         "hoverinfo": "text",
         "line": {
          "color": "purple",
          "width": 2
         },
         "marker": {
          "size": 10,
          "symbol": "circle"
         },
         "mode": "lines+markers",
         "name": "Loïc Négo (Le Havre) - Off T",
         "text": "Loïc Négo (Le Havre)<br>Resultat: Off T<br>De: (109.2, 48.2)<br>A: (120.0, 37.3)",
         "type": "scatter",
         "x": [
          109.2,
          120
         ],
         "y": [
          48.2,
          37.3
         ]
        },
        {
         "hoverinfo": "text",
         "line": {
          "color": "green",
          "width": 2
         },
         "marker": {
          "size": 10,
          "symbol": "circle"
         },
         "mode": "lines+markers",
         "name": "Akor Jerome Adams (Montpellier) - Goal",
         "text": "Akor Jerome Adams (Montpellier)<br>Resultat: Goal<br>De: (116.7, 37.8)<br>A: (120.0, 41.1)",
         "type": "scatter",
         "x": [
          3.299999999999997,
          0
         ],
         "y": [
          42.2,
          38.9
         ]
        },
        {
         "hoverinfo": "text",
         "line": {
          "color": "green",
          "width": 2
         },
         "marker": {
          "size": 10,
          "symbol": "circle"
         },
         "mode": "lines+markers",
         "name": "Akor Jerome Adams (Montpellier) - Goal",
         "text": "Akor Jerome Adams (Montpellier)<br>Resultat: Goal<br>De: (105.8, 29.8)<br>A: (120.0, 43.2)",
         "type": "scatter",
         "x": [
          14.200000000000003,
          0
         ],
         "y": [
          50.2,
          36.8
         ]
        },
        {
         "hoverinfo": "text",
         "line": {
          "color": "orange",
          "width": 2
         },
         "marker": {
          "size": 10,
          "symbol": "circle"
         },
         "mode": "lines+markers",
         "name": "Wahbi Khazri (Montpellier) - Blocked",
         "text": "Wahbi Khazri (Montpellier)<br>Resultat: Blocked<br>De: (100.5, 36.6)<br>A: (102.0, 36.8)",
         "type": "scatter",
         "x": [
          19.5,
          18
         ],
         "y": [
          43.4,
          43.2
         ]
        },
        {
         "hoverinfo": "text",
         "line": {
          "color": "purple",
          "width": 2
         },
         "marker": {
          "size": 10,
          "symbol": "circle"
         },
         "mode": "lines+markers",
         "name": "Yassine Kechta (Le Havre) - Off T",
         "text": "Yassine Kechta (Le Havre)<br>Resultat: Off T<br>De: (92.2, 52.4)<br>A: (120.0, 44.7)",
         "type": "scatter",
         "x": [
          92.2,
          120
         ],
         "y": [
          52.4,
          44.7
         ]
        },
        {
         "hoverinfo": "text",
         "line": {
          "color": "purple",
          "width": 2
         },
         "marker": {
          "size": 10,
          "symbol": "circle"
         },
         "mode": "lines+markers",
         "name": "Daler Kuzyaev (Le Havre) - Off T",
         "text": "Daler Kuzyaev (Le Havre)<br>Resultat: Off T<br>De: (104.9, 16.9)<br>A: (120.0, 48.7)",
         "type": "scatter",
         "x": [
          104.9,
          120
         ],
         "y": [
          16.9,
          48.7
         ]
        },
        {
         "hoverinfo": "text",
         "line": {
          "color": "purple",
          "width": 2
         },
         "marker": {
          "size": 10,
          "symbol": "circle"
         },
         "mode": "lines+markers",
         "name": "Leo Leroy (Montpellier) - Off T",
         "text": "Leo Leroy (Montpellier)<br>Resultat: Off T<br>De: (113.5, 45.7)<br>A: (120.0, 34.8)",
         "type": "scatter",
         "x": [
          6.5,
          0
         ],
         "y": [
          34.3,
          45.2
         ]
        },
        {
         "hoverinfo": "text",
         "line": {
          "color": "blue",
          "width": 2
         },
         "marker": {
          "size": 10,
          "symbol": "circle"
         },
         "mode": "lines+markers",
         "name": "Yoann Salmier (Le Havre) - Saved",
         "text": "Yoann Salmier (Le Havre)<br>Resultat: Saved<br>De: (113.3, 44.4)<br>A: (118.2, 40.4)",
         "type": "scatter",
         "x": [
          113.3,
          118.2
         ],
         "y": [
          44.4,
          40.4
         ]
        },
        {
         "hoverinfo": "text",
         "line": {
          "color": "green",
          "width": 2
         },
         "marker": {
          "size": 10,
          "symbol": "circle"
         },
         "mode": "lines+markers",
         "name": "Samuel Grandsir (Le Havre) - Goal",
         "text": "Samuel Grandsir (Le Havre)<br>Resultat: Goal<br>De: (115.6, 28.4)<br>A: (120.0, 40.2)",
         "type": "scatter",
         "x": [
          115.6,
          120
         ],
         "y": [
          28.4,
          40.2
         ]
        },
        {
         "hoverinfo": "text",
         "line": {
          "color": "blue",
          "width": 2
         },
         "marker": {
          "size": 10,
          "symbol": "circle"
         },
         "mode": "lines+markers",
         "name": "Abdoulaye Touré (Le Havre) - Saved",
         "text": "Abdoulaye Touré (Le Havre)<br>Resultat: Saved<br>De: (92.1, 32.7)<br>A: (117.9, 39.7)",
         "type": "scatter",
         "x": [
          92.1,
          117.9
         ],
         "y": [
          32.7,
          39.7
         ]
        }
       ],
       "layout": {
        "annotations": [
         {
          "arrowcolor": "purple",
          "arrowhead": 3,
          "arrowsize": 1,
          "arrowwidth": 2,
          "ax": 13.099999999999994,
          "axref": "x",
          "ay": 28.9,
          "ayref": "y",
          "showarrow": true,
          "x": 0,
          "xref": "x",
          "y": 27.9,
          "yref": "y"
         },
         {
          "arrowcolor": "blue",
          "arrowhead": 3,
          "arrowsize": 1,
          "arrowwidth": 2,
          "ax": 12.5,
          "axref": "x",
          "ay": 29.799999999999997,
          "ayref": "y",
          "showarrow": true,
          "x": 2,
          "xref": "x",
          "y": 37,
          "yref": "y"
         },
         {
          "arrowcolor": "orange",
          "arrowhead": 3,
          "arrowsize": 1,
          "arrowwidth": 2,
          "ax": 16.200000000000003,
          "axref": "x",
          "ay": 46,
          "ayref": "y",
          "showarrow": true,
          "x": 7.900000000000006,
          "xref": "x",
          "y": 42.6,
          "yref": "y"
         },
         {
          "arrowcolor": "purple",
          "arrowhead": 3,
          "arrowsize": 1,
          "arrowwidth": 2,
          "ax": 109.2,
          "axref": "x",
          "ay": 48.2,
          "ayref": "y",
          "showarrow": true,
          "x": 120,
          "xref": "x",
          "y": 37.3,
          "yref": "y"
         },
         {
          "arrowcolor": "green",
          "arrowhead": 3,
          "arrowsize": 1,
          "arrowwidth": 2,
          "ax": 3.299999999999997,
          "axref": "x",
          "ay": 42.2,
          "ayref": "y",
          "showarrow": true,
          "x": 0,
          "xref": "x",
          "y": 38.9,
          "yref": "y"
         },
         {
          "arrowcolor": "green",
          "arrowhead": 3,
          "arrowsize": 1,
          "arrowwidth": 2,
          "ax": 14.200000000000003,
          "axref": "x",
          "ay": 50.2,
          "ayref": "y",
          "showarrow": true,
          "x": 0,
          "xref": "x",
          "y": 36.8,
          "yref": "y"
         },
         {
          "arrowcolor": "orange",
          "arrowhead": 3,
          "arrowsize": 1,
          "arrowwidth": 2,
          "ax": 19.5,
          "axref": "x",
          "ay": 43.4,
          "ayref": "y",
          "showarrow": true,
          "x": 18,
          "xref": "x",
          "y": 43.2,
          "yref": "y"
         },
         {
          "arrowcolor": "purple",
          "arrowhead": 3,
          "arrowsize": 1,
          "arrowwidth": 2,
          "ax": 92.2,
          "axref": "x",
          "ay": 52.4,
          "ayref": "y",
          "showarrow": true,
          "x": 120,
          "xref": "x",
          "y": 44.7,
          "yref": "y"
         },
         {
          "arrowcolor": "purple",
          "arrowhead": 3,
          "arrowsize": 1,
          "arrowwidth": 2,
          "ax": 104.9,
          "axref": "x",
          "ay": 16.9,
          "ayref": "y",
          "showarrow": true,
          "x": 120,
          "xref": "x",
          "y": 48.7,
          "yref": "y"
         },
         {
          "arrowcolor": "purple",
          "arrowhead": 3,
          "arrowsize": 1,
          "arrowwidth": 2,
          "ax": 6.5,
          "axref": "x",
          "ay": 34.3,
          "ayref": "y",
          "showarrow": true,
          "x": 0,
          "xref": "x",
          "y": 45.2,
          "yref": "y"
         },
         {
          "arrowcolor": "blue",
          "arrowhead": 3,
          "arrowsize": 1,
          "arrowwidth": 2,
          "ax": 113.3,
          "axref": "x",
          "ay": 44.4,
          "ayref": "y",
          "showarrow": true,
          "x": 118.2,
          "xref": "x",
          "y": 40.4,
          "yref": "y"
         },
         {
          "arrowcolor": "green",
          "arrowhead": 3,
          "arrowsize": 1,
          "arrowwidth": 2,
          "ax": 115.6,
          "axref": "x",
          "ay": 28.4,
          "ayref": "y",
          "showarrow": true,
          "x": 120,
          "xref": "x",
          "y": 40.2,
          "yref": "y"
         },
         {
          "arrowcolor": "blue",
          "arrowhead": 3,
          "arrowsize": 1,
          "arrowwidth": 2,
          "ax": 92.1,
          "axref": "x",
          "ay": 32.7,
          "ayref": "y",
          "showarrow": true,
          "x": 117.9,
          "xref": "x",
          "y": 39.7,
          "yref": "y"
         }
        ],
        "height": 700,
        "shapes": [
         {
          "line": {
           "color": "Black"
          },
          "type": "rect",
          "x0": 0,
          "x1": 120,
          "y0": 0,
          "y1": 80
         },
         {
          "line": {
           "color": "Black",
           "dash": "dot"
          },
          "type": "line",
          "x0": 60,
          "x1": 60,
          "y0": 0,
          "y1": 80
         },
         {
          "line": {
           "color": "Black"
          },
          "type": "rect",
          "x0": 0,
          "x1": 18,
          "y0": 18,
          "y1": 62
         },
         {
          "line": {
           "color": "Black"
          },
          "type": "rect",
          "x0": 102,
          "x1": 120,
          "y0": 18,
          "y1": 62
         },
         {
          "line": {
           "color": "Black"
          },
          "type": "rect",
          "x0": 0,
          "x1": 5.5,
          "y0": 30,
          "y1": 50
         },
         {
          "line": {
           "color": "Black"
          },
          "type": "rect",
          "x0": 114.5,
          "x1": 120,
          "y0": 30,
          "y1": 50
         },
         {
          "line": {
           "color": "Black"
          },
          "type": "rect",
          "x0": 0,
          "x1": 2,
          "y0": 36,
          "y1": 44
         },
         {
          "line": {
           "color": "Black"
          },
          "type": "rect",
          "x0": 118,
          "x1": 120,
          "y0": 36,
          "y1": 44
         },
         {
          "line": {
           "color": "Black"
          },
          "type": "circle",
          "x0": 50.4,
          "x1": 69.6,
          "xref": "x",
          "y0": 30.4,
          "y1": 49.6,
          "yref": "y"
         }
        ],
        "template": {
         "data": {
          "bar": [
           {
            "error_x": {
             "color": "#2a3f5f"
            },
            "error_y": {
             "color": "#2a3f5f"
            },
            "marker": {
             "line": {
              "color": "#E5ECF6",
              "width": 0.5
             },
             "pattern": {
              "fillmode": "overlay",
              "size": 10,
              "solidity": 0.2
             }
            },
            "type": "bar"
           }
          ],
          "barpolar": [
           {
            "marker": {
             "line": {
              "color": "#E5ECF6",
              "width": 0.5
             },
             "pattern": {
              "fillmode": "overlay",
              "size": 10,
              "solidity": 0.2
             }
            },
            "type": "barpolar"
           }
          ],
          "carpet": [
           {
            "aaxis": {
             "endlinecolor": "#2a3f5f",
             "gridcolor": "white",
             "linecolor": "white",
             "minorgridcolor": "white",
             "startlinecolor": "#2a3f5f"
            },
            "baxis": {
             "endlinecolor": "#2a3f5f",
             "gridcolor": "white",
             "linecolor": "white",
             "minorgridcolor": "white",
             "startlinecolor": "#2a3f5f"
            },
            "type": "carpet"
           }
          ],
          "choropleth": [
           {
            "colorbar": {
             "outlinewidth": 0,
             "ticks": ""
            },
            "type": "choropleth"
           }
          ],
          "contour": [
           {
            "colorbar": {
             "outlinewidth": 0,
             "ticks": ""
            },
            "colorscale": [
             [
              0,
              "#0d0887"
             ],
             [
              0.1111111111111111,
              "#46039f"
             ],
             [
              0.2222222222222222,
              "#7201a8"
             ],
             [
              0.3333333333333333,
              "#9c179e"
             ],
             [
              0.4444444444444444,
              "#bd3786"
             ],
             [
              0.5555555555555556,
              "#d8576b"
             ],
             [
              0.6666666666666666,
              "#ed7953"
             ],
             [
              0.7777777777777778,
              "#fb9f3a"
             ],
             [
              0.8888888888888888,
              "#fdca26"
             ],
             [
              1,
              "#f0f921"
             ]
            ],
            "type": "contour"
           }
          ],
          "contourcarpet": [
           {
            "colorbar": {
             "outlinewidth": 0,
             "ticks": ""
            },
            "type": "contourcarpet"
           }
          ],
          "heatmap": [
           {
            "colorbar": {
             "outlinewidth": 0,
             "ticks": ""
            },
            "colorscale": [
             [
              0,
              "#0d0887"
             ],
             [
              0.1111111111111111,
              "#46039f"
             ],
             [
              0.2222222222222222,
              "#7201a8"
             ],
             [
              0.3333333333333333,
              "#9c179e"
             ],
             [
              0.4444444444444444,
              "#bd3786"
             ],
             [
              0.5555555555555556,
              "#d8576b"
             ],
             [
              0.6666666666666666,
              "#ed7953"
             ],
             [
              0.7777777777777778,
              "#fb9f3a"
             ],
             [
              0.8888888888888888,
              "#fdca26"
             ],
             [
              1,
              "#f0f921"
             ]
            ],
            "type": "heatmap"
           }
          ],
          "heatmapgl": [
           {
            "colorbar": {
             "outlinewidth": 0,
             "ticks": ""
            },
            "colorscale": [
             [
              0,
              "#0d0887"
             ],
             [
              0.1111111111111111,
              "#46039f"
             ],
             [
              0.2222222222222222,
              "#7201a8"
             ],
             [
              0.3333333333333333,
              "#9c179e"
             ],
             [
              0.4444444444444444,
              "#bd3786"
             ],
             [
              0.5555555555555556,
              "#d8576b"
             ],
             [
              0.6666666666666666,
              "#ed7953"
             ],
             [
              0.7777777777777778,
              "#fb9f3a"
             ],
             [
              0.8888888888888888,
              "#fdca26"
             ],
             [
              1,
              "#f0f921"
             ]
            ],
            "type": "heatmapgl"
           }
          ],
          "histogram": [
           {
            "marker": {
             "pattern": {
              "fillmode": "overlay",
              "size": 10,
              "solidity": 0.2
             }
            },
            "type": "histogram"
           }
          ],
          "histogram2d": [
           {
            "colorbar": {
             "outlinewidth": 0,
             "ticks": ""
            },
            "colorscale": [
             [
              0,
              "#0d0887"
             ],
             [
              0.1111111111111111,
              "#46039f"
             ],
             [
              0.2222222222222222,
              "#7201a8"
             ],
             [
              0.3333333333333333,
              "#9c179e"
             ],
             [
              0.4444444444444444,
              "#bd3786"
             ],
             [
              0.5555555555555556,
              "#d8576b"
             ],
             [
              0.6666666666666666,
              "#ed7953"
             ],
             [
              0.7777777777777778,
              "#fb9f3a"
             ],
             [
              0.8888888888888888,
              "#fdca26"
             ],
             [
              1,
              "#f0f921"
             ]
            ],
            "type": "histogram2d"
           }
          ],
          "histogram2dcontour": [
           {
            "colorbar": {
             "outlinewidth": 0,
             "ticks": ""
            },
            "colorscale": [
             [
              0,
              "#0d0887"
             ],
             [
              0.1111111111111111,
              "#46039f"
             ],
             [
              0.2222222222222222,
              "#7201a8"
             ],
             [
              0.3333333333333333,
              "#9c179e"
             ],
             [
              0.4444444444444444,
              "#bd3786"
             ],
             [
              0.5555555555555556,
              "#d8576b"
             ],
             [
              0.6666666666666666,
              "#ed7953"
             ],
             [
              0.7777777777777778,
              "#fb9f3a"
             ],
             [
              0.8888888888888888,
              "#fdca26"
             ],
             [
              1,
              "#f0f921"
             ]
            ],
            "type": "histogram2dcontour"
           }
          ],
          "mesh3d": [
           {
            "colorbar": {
             "outlinewidth": 0,
             "ticks": ""
            },
            "type": "mesh3d"
           }
          ],
          "parcoords": [
           {
            "line": {
             "colorbar": {
              "outlinewidth": 0,
              "ticks": ""
             }
            },
            "type": "parcoords"
           }
          ],
          "pie": [
           {
            "automargin": true,
            "type": "pie"
           }
          ],
          "scatter": [
           {
            "fillpattern": {
             "fillmode": "overlay",
             "size": 10,
             "solidity": 0.2
            },
            "type": "scatter"
           }
          ],
          "scatter3d": [
           {
            "line": {
             "colorbar": {
              "outlinewidth": 0,
              "ticks": ""
             }
            },
            "marker": {
             "colorbar": {
              "outlinewidth": 0,
              "ticks": ""
             }
            },
            "type": "scatter3d"
           }
          ],
          "scattercarpet": [
           {
            "marker": {
             "colorbar": {
              "outlinewidth": 0,
              "ticks": ""
             }
            },
            "type": "scattercarpet"
           }
          ],
          "scattergeo": [
           {
            "marker": {
             "colorbar": {
              "outlinewidth": 0,
              "ticks": ""
             }
            },
            "type": "scattergeo"
           }
          ],
          "scattergl": [
           {
            "marker": {
             "colorbar": {
              "outlinewidth": 0,
              "ticks": ""
             }
            },
            "type": "scattergl"
           }
          ],
          "scattermapbox": [
           {
            "marker": {
             "colorbar": {
              "outlinewidth": 0,
              "ticks": ""
             }
            },
            "type": "scattermapbox"
           }
          ],
          "scatterpolar": [
           {
            "marker": {
             "colorbar": {
              "outlinewidth": 0,
              "ticks": ""
             }
            },
            "type": "scatterpolar"
           }
          ],
          "scatterpolargl": [
           {
            "marker": {
             "colorbar": {
              "outlinewidth": 0,
              "ticks": ""
             }
            },
            "type": "scatterpolargl"
           }
          ],
          "scatterternary": [
           {
            "marker": {
             "colorbar": {
              "outlinewidth": 0,
              "ticks": ""
             }
            },
            "type": "scatterternary"
           }
          ],
          "surface": [
           {
            "colorbar": {
             "outlinewidth": 0,
             "ticks": ""
            },
            "colorscale": [
             [
              0,
              "#0d0887"
             ],
             [
              0.1111111111111111,
              "#46039f"
             ],
             [
              0.2222222222222222,
              "#7201a8"
             ],
             [
              0.3333333333333333,
              "#9c179e"
             ],
             [
              0.4444444444444444,
              "#bd3786"
             ],
             [
              0.5555555555555556,
              "#d8576b"
             ],
             [
              0.6666666666666666,
              "#ed7953"
             ],
             [
              0.7777777777777778,
              "#fb9f3a"
             ],
             [
              0.8888888888888888,
              "#fdca26"
             ],
             [
              1,
              "#f0f921"
             ]
            ],
            "type": "surface"
           }
          ],
          "table": [
           {
            "cells": {
             "fill": {
              "color": "#EBF0F8"
             },
             "line": {
              "color": "white"
             }
            },
            "header": {
             "fill": {
              "color": "#C8D4E3"
             },
             "line": {
              "color": "white"
             }
            },
            "type": "table"
           }
          ]
         },
         "layout": {
          "annotationdefaults": {
           "arrowcolor": "#2a3f5f",
           "arrowhead": 0,
           "arrowwidth": 1
          },
          "autotypenumbers": "strict",
          "coloraxis": {
           "colorbar": {
            "outlinewidth": 0,
            "ticks": ""
           }
          },
          "colorscale": {
           "diverging": [
            [
             0,
             "#8e0152"
            ],
            [
             0.1,
             "#c51b7d"
            ],
            [
             0.2,
             "#de77ae"
            ],
            [
             0.3,
             "#f1b6da"
            ],
            [
             0.4,
             "#fde0ef"
            ],
            [
             0.5,
             "#f7f7f7"
            ],
            [
             0.6,
             "#e6f5d0"
            ],
            [
             0.7,
             "#b8e186"
            ],
            [
             0.8,
             "#7fbc41"
            ],
            [
             0.9,
             "#4d9221"
            ],
            [
             1,
             "#276419"
            ]
           ],
           "sequential": [
            [
             0,
             "#0d0887"
            ],
            [
             0.1111111111111111,
             "#46039f"
            ],
            [
             0.2222222222222222,
             "#7201a8"
            ],
            [
             0.3333333333333333,
             "#9c179e"
            ],
            [
             0.4444444444444444,
             "#bd3786"
            ],
            [
             0.5555555555555556,
             "#d8576b"
            ],
            [
             0.6666666666666666,
             "#ed7953"
            ],
            [
             0.7777777777777778,
             "#fb9f3a"
            ],
            [
             0.8888888888888888,
             "#fdca26"
            ],
            [
             1,
             "#f0f921"
            ]
           ],
           "sequentialminus": [
            [
             0,
             "#0d0887"
            ],
            [
             0.1111111111111111,
             "#46039f"
            ],
            [
             0.2222222222222222,
             "#7201a8"
            ],
            [
             0.3333333333333333,
             "#9c179e"
            ],
            [
             0.4444444444444444,
             "#bd3786"
            ],
            [
             0.5555555555555556,
             "#d8576b"
            ],
            [
             0.6666666666666666,
             "#ed7953"
            ],
            [
             0.7777777777777778,
             "#fb9f3a"
            ],
            [
             0.8888888888888888,
             "#fdca26"
            ],
            [
             1,
             "#f0f921"
            ]
           ]
          },
          "colorway": [
           "#636efa",
           "#EF553B",
           "#00cc96",
           "#ab63fa",
           "#FFA15A",
           "#19d3f3",
           "#FF6692",
           "#B6E880",
           "#FF97FF",
           "#FECB52"
          ],
          "font": {
           "color": "#2a3f5f"
          },
          "geo": {
           "bgcolor": "white",
           "lakecolor": "white",
           "landcolor": "#E5ECF6",
           "showlakes": true,
           "showland": true,
           "subunitcolor": "white"
          },
          "hoverlabel": {
           "align": "left"
          },
          "hovermode": "closest",
          "mapbox": {
           "style": "light"
          },
          "paper_bgcolor": "white",
          "plot_bgcolor": "#E5ECF6",
          "polar": {
           "angularaxis": {
            "gridcolor": "white",
            "linecolor": "white",
            "ticks": ""
           },
           "bgcolor": "#E5ECF6",
           "radialaxis": {
            "gridcolor": "white",
            "linecolor": "white",
            "ticks": ""
           }
          },
          "scene": {
           "xaxis": {
            "backgroundcolor": "#E5ECF6",
            "gridcolor": "white",
            "gridwidth": 2,
            "linecolor": "white",
            "showbackground": true,
            "ticks": "",
            "zerolinecolor": "white"
           },
           "yaxis": {
            "backgroundcolor": "#E5ECF6",
            "gridcolor": "white",
            "gridwidth": 2,
            "linecolor": "white",
            "showbackground": true,
            "ticks": "",
            "zerolinecolor": "white"
           },
           "zaxis": {
            "backgroundcolor": "#E5ECF6",
            "gridcolor": "white",
            "gridwidth": 2,
            "linecolor": "white",
            "showbackground": true,
            "ticks": "",
            "zerolinecolor": "white"
           }
          },
          "shapedefaults": {
           "line": {
            "color": "#2a3f5f"
           }
          },
          "ternary": {
           "aaxis": {
            "gridcolor": "white",
            "linecolor": "white",
            "ticks": ""
           },
           "baxis": {
            "gridcolor": "white",
            "linecolor": "white",
            "ticks": ""
           },
           "bgcolor": "#E5ECF6",
           "caxis": {
            "gridcolor": "white",
            "linecolor": "white",
            "ticks": ""
           }
          },
          "title": {
           "x": 0.05
          },
          "xaxis": {
           "automargin": true,
           "gridcolor": "white",
           "linecolor": "white",
           "ticks": "",
           "title": {
            "standoff": 15
           },
           "zerolinecolor": "white",
           "zerolinewidth": 2
          },
          "yaxis": {
           "automargin": true,
           "gridcolor": "white",
           "linecolor": "white",
           "ticks": "",
           "title": {
            "standoff": 15
           },
           "zerolinecolor": "white",
           "zerolinewidth": 2
          }
         }
        },
        "title": {
         "text": "Tirs du match Montpellier contre Le Havre - Pendant la 2 période de jeu"
        },
        "width": 1000,
        "xaxis": {
         "range": [
          0,
          120
         ],
         "showgrid": false,
         "zeroline": false
        },
        "yaxis": {
         "autorange": "reversed",
         "range": [
          0,
          80
         ],
         "showgrid": false,
         "zeroline": false
        }
       }
      }
     },
     "metadata": {},
     "output_type": "display_data"
    }
   ],
   "source": [
    "Tirs(df_tirs, 'Montpellier', 'Le Havre', 2)"
   ]
  }
 ],
 "metadata": {
  "kernelspec": {
   "display_name": "Python 3",
   "language": "python",
   "name": "python3"
  },
  "language_info": {
   "codemirror_mode": {
    "name": "ipython",
    "version": 3
   },
   "file_extension": ".py",
   "mimetype": "text/x-python",
   "name": "python",
   "nbconvert_exporter": "python",
   "pygments_lexer": "ipython3",
   "version": "3.10.12"
  },
  "orig_nbformat": 4
 },
 "nbformat": 4,
 "nbformat_minor": 2
}
