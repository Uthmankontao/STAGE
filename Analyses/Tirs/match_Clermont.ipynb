{
 "cells": [
  {
   "cell_type": "markdown",
   "metadata": {},
   "source": [
    "# Le Havre 2 : 1 Clermont"
   ]
  },
  {
   "cell_type": "code",
   "execution_count": 1,
   "metadata": {},
   "outputs": [
    {
     "data": {
      "text/html": [
       "<div>\n",
       "<style scoped>\n",
       "    .dataframe tbody tr th:only-of-type {\n",
       "        vertical-align: middle;\n",
       "    }\n",
       "\n",
       "    .dataframe tbody tr th {\n",
       "        vertical-align: top;\n",
       "    }\n",
       "\n",
       "    .dataframe thead th {\n",
       "        text-align: right;\n",
       "    }\n",
       "</style>\n",
       "<table border=\"1\" class=\"dataframe\">\n",
       "  <thead>\n",
       "    <tr style=\"text-align: right;\">\n",
       "      <th></th>\n",
       "      <th>system_time</th>\n",
       "      <th>frame</th>\n",
       "      <th>gameclock</th>\n",
       "      <th>ball_x</th>\n",
       "      <th>ball_y</th>\n",
       "      <th>ball_z</th>\n",
       "      <th>period</th>\n",
       "      <th>player1_team</th>\n",
       "      <th>player1_id</th>\n",
       "      <th>player1_shirt_num</th>\n",
       "      <th>...</th>\n",
       "      <th>player21_id</th>\n",
       "      <th>player21_shirt_num</th>\n",
       "      <th>player21_x</th>\n",
       "      <th>player21_y</th>\n",
       "      <th>player22_team</th>\n",
       "      <th>player22_id</th>\n",
       "      <th>player22_shirt_num</th>\n",
       "      <th>player22_x</th>\n",
       "      <th>player22_y</th>\n",
       "      <th>datetime</th>\n",
       "    </tr>\n",
       "  </thead>\n",
       "  <tbody>\n",
       "    <tr>\n",
       "      <th>0</th>\n",
       "      <td>1696770000000</td>\n",
       "      <td>0</td>\n",
       "      <td>0</td>\n",
       "      <td>52.430</td>\n",
       "      <td>33.79</td>\n",
       "      <td>0.0</td>\n",
       "      <td>1</td>\n",
       "      <td>0</td>\n",
       "      <td>459605</td>\n",
       "      <td>10</td>\n",
       "      <td>...</td>\n",
       "      <td>824857.0</td>\n",
       "      <td>16.0</td>\n",
       "      <td>9.753</td>\n",
       "      <td>33.803</td>\n",
       "      <td>4</td>\n",
       "      <td>881326.000</td>\n",
       "      <td>30.0</td>\n",
       "      <td>101.377</td>\n",
       "      <td>31.766</td>\n",
       "      <td>2023-10-08 13:00:00.000</td>\n",
       "    </tr>\n",
       "    <tr>\n",
       "      <th>1</th>\n",
       "      <td>1696770000100</td>\n",
       "      <td>100</td>\n",
       "      <td>0</td>\n",
       "      <td>52.265</td>\n",
       "      <td>33.84</td>\n",
       "      <td>0.0</td>\n",
       "      <td>1</td>\n",
       "      <td>0</td>\n",
       "      <td>459605</td>\n",
       "      <td>10</td>\n",
       "      <td>...</td>\n",
       "      <td>824857.0</td>\n",
       "      <td>16.0</td>\n",
       "      <td>9.830</td>\n",
       "      <td>33.759</td>\n",
       "      <td>4</td>\n",
       "      <td>881326.000</td>\n",
       "      <td>30.0</td>\n",
       "      <td>101.252</td>\n",
       "      <td>31.841</td>\n",
       "      <td>2023-10-08 13:00:00.100</td>\n",
       "    </tr>\n",
       "    <tr>\n",
       "      <th>2</th>\n",
       "      <td>1696770000200</td>\n",
       "      <td>200</td>\n",
       "      <td>0</td>\n",
       "      <td>52.090</td>\n",
       "      <td>33.88</td>\n",
       "      <td>0.0</td>\n",
       "      <td>1</td>\n",
       "      <td>0</td>\n",
       "      <td>459605</td>\n",
       "      <td>10</td>\n",
       "      <td>...</td>\n",
       "      <td>824857.0</td>\n",
       "      <td>16.0</td>\n",
       "      <td>9.912</td>\n",
       "      <td>33.722</td>\n",
       "      <td>4</td>\n",
       "      <td>881326.000</td>\n",
       "      <td>30.0</td>\n",
       "      <td>101.125</td>\n",
       "      <td>31.919</td>\n",
       "      <td>2023-10-08 13:00:00.200</td>\n",
       "    </tr>\n",
       "    <tr>\n",
       "      <th>3</th>\n",
       "      <td>1696770000300</td>\n",
       "      <td>300</td>\n",
       "      <td>0</td>\n",
       "      <td>51.920</td>\n",
       "      <td>33.93</td>\n",
       "      <td>0.0</td>\n",
       "      <td>1</td>\n",
       "      <td>0</td>\n",
       "      <td>459605</td>\n",
       "      <td>10</td>\n",
       "      <td>...</td>\n",
       "      <td>824857.0</td>\n",
       "      <td>16.0</td>\n",
       "      <td>10.003</td>\n",
       "      <td>33.696</td>\n",
       "      <td>4</td>\n",
       "      <td>881326.000</td>\n",
       "      <td>30.0</td>\n",
       "      <td>100.994</td>\n",
       "      <td>32.001</td>\n",
       "      <td>2023-10-08 13:00:00.300</td>\n",
       "    </tr>\n",
       "    <tr>\n",
       "      <th>4</th>\n",
       "      <td>1696770000400</td>\n",
       "      <td>400</td>\n",
       "      <td>0</td>\n",
       "      <td>51.750</td>\n",
       "      <td>33.97</td>\n",
       "      <td>0.0</td>\n",
       "      <td>1</td>\n",
       "      <td>0</td>\n",
       "      <td>459605</td>\n",
       "      <td>10</td>\n",
       "      <td>...</td>\n",
       "      <td>824857.0</td>\n",
       "      <td>16.0</td>\n",
       "      <td>10.103</td>\n",
       "      <td>33.679</td>\n",
       "      <td>4</td>\n",
       "      <td>881326.000</td>\n",
       "      <td>30.0</td>\n",
       "      <td>100.858</td>\n",
       "      <td>32.088</td>\n",
       "      <td>2023-10-08 13:00:00.400</td>\n",
       "    </tr>\n",
       "    <tr>\n",
       "      <th>...</th>\n",
       "      <td>...</td>\n",
       "      <td>...</td>\n",
       "      <td>...</td>\n",
       "      <td>...</td>\n",
       "      <td>...</td>\n",
       "      <td>...</td>\n",
       "      <td>...</td>\n",
       "      <td>...</td>\n",
       "      <td>...</td>\n",
       "      <td>...</td>\n",
       "      <td>...</td>\n",
       "      <td>...</td>\n",
       "      <td>...</td>\n",
       "      <td>...</td>\n",
       "      <td>...</td>\n",
       "      <td>...</td>\n",
       "      <td>...</td>\n",
       "      <td>...</td>\n",
       "      <td>...</td>\n",
       "      <td>...</td>\n",
       "      <td>...</td>\n",
       "    </tr>\n",
       "    <tr>\n",
       "      <th>57750</th>\n",
       "      <td>1696776547700</td>\n",
       "      <td>2947700</td>\n",
       "      <td>0</td>\n",
       "      <td>NaN</td>\n",
       "      <td>NaN</td>\n",
       "      <td>NaN</td>\n",
       "      <td>2</td>\n",
       "      <td>0</td>\n",
       "      <td>459605</td>\n",
       "      <td>10</td>\n",
       "      <td>...</td>\n",
       "      <td>881326.0</td>\n",
       "      <td>30.0</td>\n",
       "      <td>13.299</td>\n",
       "      <td>32.213</td>\n",
       "      <td>:34.535</td>\n",
       "      <td>20.895</td>\n",
       "      <td>0.0</td>\n",
       "      <td>NaN</td>\n",
       "      <td>NaN</td>\n",
       "      <td>2023-10-08 14:49:07.700</td>\n",
       "    </tr>\n",
       "    <tr>\n",
       "      <th>57751</th>\n",
       "      <td>1696776547800</td>\n",
       "      <td>2947800</td>\n",
       "      <td>0</td>\n",
       "      <td>NaN</td>\n",
       "      <td>NaN</td>\n",
       "      <td>NaN</td>\n",
       "      <td>2</td>\n",
       "      <td>0</td>\n",
       "      <td>459605</td>\n",
       "      <td>10</td>\n",
       "      <td>...</td>\n",
       "      <td>881326.0</td>\n",
       "      <td>30.0</td>\n",
       "      <td>13.152</td>\n",
       "      <td>32.244</td>\n",
       "      <td>:34.52</td>\n",
       "      <td>20.930</td>\n",
       "      <td>0.0</td>\n",
       "      <td>NaN</td>\n",
       "      <td>NaN</td>\n",
       "      <td>2023-10-08 14:49:07.800</td>\n",
       "    </tr>\n",
       "    <tr>\n",
       "      <th>57752</th>\n",
       "      <td>1696776547900</td>\n",
       "      <td>2947900</td>\n",
       "      <td>0</td>\n",
       "      <td>NaN</td>\n",
       "      <td>NaN</td>\n",
       "      <td>NaN</td>\n",
       "      <td>2</td>\n",
       "      <td>0</td>\n",
       "      <td>459605</td>\n",
       "      <td>10</td>\n",
       "      <td>...</td>\n",
       "      <td>881326.0</td>\n",
       "      <td>30.0</td>\n",
       "      <td>12.998</td>\n",
       "      <td>32.270</td>\n",
       "      <td>:34.505</td>\n",
       "      <td>20.970</td>\n",
       "      <td>0.0</td>\n",
       "      <td>NaN</td>\n",
       "      <td>NaN</td>\n",
       "      <td>2023-10-08 14:49:07.900</td>\n",
       "    </tr>\n",
       "    <tr>\n",
       "      <th>57753</th>\n",
       "      <td>1696776548000</td>\n",
       "      <td>2948000</td>\n",
       "      <td>0</td>\n",
       "      <td>NaN</td>\n",
       "      <td>NaN</td>\n",
       "      <td>NaN</td>\n",
       "      <td>2</td>\n",
       "      <td>0</td>\n",
       "      <td>459605</td>\n",
       "      <td>10</td>\n",
       "      <td>...</td>\n",
       "      <td>881326.0</td>\n",
       "      <td>30.0</td>\n",
       "      <td>12.837</td>\n",
       "      <td>32.291</td>\n",
       "      <td>:34.49</td>\n",
       "      <td>21.010</td>\n",
       "      <td>0.0</td>\n",
       "      <td>NaN</td>\n",
       "      <td>NaN</td>\n",
       "      <td>2023-10-08 14:49:08.000</td>\n",
       "    </tr>\n",
       "    <tr>\n",
       "      <th>57754</th>\n",
       "      <td>1696776548100</td>\n",
       "      <td>2948100</td>\n",
       "      <td>0</td>\n",
       "      <td>NaN</td>\n",
       "      <td>NaN</td>\n",
       "      <td>NaN</td>\n",
       "      <td>2</td>\n",
       "      <td>0</td>\n",
       "      <td>459605</td>\n",
       "      <td>10</td>\n",
       "      <td>...</td>\n",
       "      <td>NaN</td>\n",
       "      <td>NaN</td>\n",
       "      <td>NaN</td>\n",
       "      <td>NaN</td>\n",
       "      <td>NaN</td>\n",
       "      <td>NaN</td>\n",
       "      <td>NaN</td>\n",
       "      <td>NaN</td>\n",
       "      <td>NaN</td>\n",
       "      <td>2023-10-08 14:49:08.100</td>\n",
       "    </tr>\n",
       "  </tbody>\n",
       "</table>\n",
       "<p>57755 rows × 118 columns</p>\n",
       "</div>"
      ],
      "text/plain": [
       "         system_time    frame  gameclock  ball_x  ball_y  ball_z  period  \\\n",
       "0      1696770000000        0          0  52.430   33.79     0.0       1   \n",
       "1      1696770000100      100          0  52.265   33.84     0.0       1   \n",
       "2      1696770000200      200          0  52.090   33.88     0.0       1   \n",
       "3      1696770000300      300          0  51.920   33.93     0.0       1   \n",
       "4      1696770000400      400          0  51.750   33.97     0.0       1   \n",
       "...              ...      ...        ...     ...     ...     ...     ...   \n",
       "57750  1696776547700  2947700          0     NaN     NaN     NaN       2   \n",
       "57751  1696776547800  2947800          0     NaN     NaN     NaN       2   \n",
       "57752  1696776547900  2947900          0     NaN     NaN     NaN       2   \n",
       "57753  1696776548000  2948000          0     NaN     NaN     NaN       2   \n",
       "57754  1696776548100  2948100          0     NaN     NaN     NaN       2   \n",
       "\n",
       "       player1_team  player1_id  player1_shirt_num  ...  player21_id  \\\n",
       "0                 0      459605                 10  ...     824857.0   \n",
       "1                 0      459605                 10  ...     824857.0   \n",
       "2                 0      459605                 10  ...     824857.0   \n",
       "3                 0      459605                 10  ...     824857.0   \n",
       "4                 0      459605                 10  ...     824857.0   \n",
       "...             ...         ...                ...  ...          ...   \n",
       "57750             0      459605                 10  ...     881326.0   \n",
       "57751             0      459605                 10  ...     881326.0   \n",
       "57752             0      459605                 10  ...     881326.0   \n",
       "57753             0      459605                 10  ...     881326.0   \n",
       "57754             0      459605                 10  ...          NaN   \n",
       "\n",
       "       player21_shirt_num  player21_x  player21_y  player22_team  player22_id  \\\n",
       "0                    16.0       9.753      33.803              4   881326.000   \n",
       "1                    16.0       9.830      33.759              4   881326.000   \n",
       "2                    16.0       9.912      33.722              4   881326.000   \n",
       "3                    16.0      10.003      33.696              4   881326.000   \n",
       "4                    16.0      10.103      33.679              4   881326.000   \n",
       "...                   ...         ...         ...            ...          ...   \n",
       "57750                30.0      13.299      32.213        :34.535       20.895   \n",
       "57751                30.0      13.152      32.244         :34.52       20.930   \n",
       "57752                30.0      12.998      32.270        :34.505       20.970   \n",
       "57753                30.0      12.837      32.291         :34.49       21.010   \n",
       "57754                 NaN         NaN         NaN            NaN          NaN   \n",
       "\n",
       "       player22_shirt_num  player22_x  player22_y                datetime  \n",
       "0                    30.0     101.377      31.766 2023-10-08 13:00:00.000  \n",
       "1                    30.0     101.252      31.841 2023-10-08 13:00:00.100  \n",
       "2                    30.0     101.125      31.919 2023-10-08 13:00:00.200  \n",
       "3                    30.0     100.994      32.001 2023-10-08 13:00:00.300  \n",
       "4                    30.0     100.858      32.088 2023-10-08 13:00:00.400  \n",
       "...                   ...         ...         ...                     ...  \n",
       "57750                 0.0         NaN         NaN 2023-10-08 14:49:07.700  \n",
       "57751                 0.0         NaN         NaN 2023-10-08 14:49:07.800  \n",
       "57752                 0.0         NaN         NaN 2023-10-08 14:49:07.900  \n",
       "57753                 0.0         NaN         NaN 2023-10-08 14:49:08.000  \n",
       "57754                 NaN         NaN         NaN 2023-10-08 14:49:08.100  \n",
       "\n",
       "[57755 rows x 118 columns]"
      ]
     },
     "execution_count": 1,
     "metadata": {},
     "output_type": "execute_result"
    }
   ],
   "source": [
    "import sys\n",
    "sys.path.append('/home/UR/kontaous/Bureau/Stage/')\n",
    "from Analyses.traitement import *\n",
    "from tirs_equipes import *\n",
    "import pandas as pd\n",
    "import numpy as np\n",
    "import matplotlib.pyplot as plt\n",
    "import seaborn as sns\n",
    "import plotly.graph_objects as go\n",
    "import pandas as pd\n",
    "\n",
    "tracking = pd.read_csv(\"../../Data/HAC/Tracking_data/tracking_Marseille.csv\", low_memory=False)\n",
    "events = pd.read_csv(\"../../Data/HAC/match_data/match_Clermont.csv\")\n",
    "df_home = home_format_metrica(tracking)\n",
    "df_away = away_format_metrica(tracking)\n",
    "\n",
    "home_cote_period1 = determine_sides(df_home[df_home['period'] == 1], 1)\n",
    "away_cote_period1 = determine_sides(df_away[df_away['period'] == 1], 1)\n",
    "def prepare_data(tracking, events):\n",
    "    tracking['datetime'] = pd.to_datetime(tracking['system_time'], unit='ms')\n",
    "    \n",
    "    match_date = pd.Timestamp(\"2023-08-13\") # je dois verifier de la ddate du match ;)\n",
    "    events['timestamp'] = pd.to_datetime(events['timestamp'], format='%H:%M:%S.%f')\n",
    "    events['datetime'] = match_date + (events['timestamp'] - pd.Timestamp(\"1900-01-01\"))\n",
    "    \n",
    "    return tracking, events\n",
    "tracking, events = prepare_data(tracking, events)\n",
    "tracking"
   ]
  },
  {
   "cell_type": "code",
   "execution_count": 2,
   "metadata": {},
   "outputs": [],
   "source": [
    "tirs = ['datetime', 'team.name', 'period', 'player.name', 'location.x', 'location.y', 'shot.end_location.x', 'shot.end_location.y', 'shot.outcome.name']\n",
    "df_tirs = events[tirs].copy()"
   ]
  },
  {
   "cell_type": "code",
   "execution_count": 3,
   "metadata": {},
   "outputs": [
    {
     "data": {
      "application/vnd.plotly.v1+json": {
       "config": {
        "plotlyServerURL": "https://plot.ly"
       },
       "data": [
        {
         "hoverinfo": "text",
         "line": {
          "color": "purple",
          "width": 2
         },
         "marker": {
          "size": 10,
          "symbol": "circle"
         },
         "mode": "lines+markers",
         "name": "Gautier Lloris (Le Havre) - Off T",
         "text": "Gautier Lloris (Le Havre)<br>Resultat: Off T<br>De: (110.6, 44.9)<br>A: (120.0, 46.9)",
         "type": "scatter",
         "x": [
          110.6,
          120
         ],
         "y": [
          44.9,
          46.9
         ]
        },
        {
         "hoverinfo": "text",
         "line": {
          "color": "green",
          "width": 2
         },
         "marker": {
          "size": 10,
          "symbol": "circle"
         },
         "mode": "lines+markers",
         "name": "Nabil Alioui (Le Havre) - Goal",
         "text": "Nabil Alioui (Le Havre)<br>Resultat: Goal<br>De: (112.5, 31.6)<br>A: (120.0, 37.3)",
         "type": "scatter",
         "x": [
          112.5,
          120
         ],
         "y": [
          31.6,
          37.3
         ]
        },
        {
         "hoverinfo": "text",
         "line": {
          "color": "green",
          "width": 2
         },
         "marker": {
          "size": 10,
          "symbol": "circle"
         },
         "mode": "lines+markers",
         "name": "Mohamed Bayo (Le Havre) - Goal",
         "text": "Mohamed Bayo (Le Havre)<br>Resultat: Goal<br>De: (111.7, 47.0)<br>A: (120.0, 38.1)",
         "type": "scatter",
         "x": [
          111.7,
          120
         ],
         "y": [
          47,
          38.1
         ]
        },
        {
         "hoverinfo": "text",
         "line": {
          "color": "orange",
          "width": 2
         },
         "marker": {
          "size": 10,
          "symbol": "circle"
         },
         "mode": "lines+markers",
         "name": "Yohann Magnin (Clermont Foot) - Blocked",
         "text": "Yohann Magnin (Clermont Foot)<br>Resultat: Blocked<br>De: (108.7, 44.8)<br>A: (111.6, 43.7)",
         "type": "scatter",
         "x": [
          11.299999999999997,
          8.400000000000006
         ],
         "y": [
          35.2,
          36.3
         ]
        },
        {
         "hoverinfo": "text",
         "line": {
          "color": "orange",
          "width": 2
         },
         "marker": {
          "size": 10,
          "symbol": "circle"
         },
         "mode": "lines+markers",
         "name": "Christopher Operi (Le Havre) - Blocked",
         "text": "Christopher Operi (Le Havre)<br>Resultat: Blocked<br>De: (91.6, 27.1)<br>A: (98.7, 29.5)",
         "type": "scatter",
         "x": [
          91.6,
          98.7
         ],
         "y": [
          27.1,
          29.5
         ]
        },
        {
         "hoverinfo": "text",
         "line": {
          "color": "orange",
          "width": 2
         },
         "marker": {
          "size": 10,
          "symbol": "circle"
         },
         "mode": "lines+markers",
         "name": "Muhammed Cham Saracevic (Clermont Foot) - Blocked",
         "text": "Muhammed Cham Saracevic (Clermont Foot)<br>Resultat: Blocked<br>De: (107.3, 39.0)<br>A: (108.0, 39.0)",
         "type": "scatter",
         "x": [
          12.700000000000003,
          12
         ],
         "y": [
          41,
          41
         ]
        },
        {
         "hoverinfo": "text",
         "line": {
          "color": "blue",
          "width": 2
         },
         "marker": {
          "size": 10,
          "symbol": "circle"
         },
         "mode": "lines+markers",
         "name": "Muhammed Cham Saracevic (Clermont Foot) - Saved",
         "text": "Muhammed Cham Saracevic (Clermont Foot)<br>Resultat: Saved<br>De: (100.2, 22.3)<br>A: (118.3, 37.6)",
         "type": "scatter",
         "x": [
          19.799999999999997,
          1.7000000000000028
         ],
         "y": [
          57.7,
          42.4
         ]
        },
        {
         "hoverinfo": "text",
         "line": {
          "color": "purple",
          "width": 2
         },
         "marker": {
          "size": 10,
          "symbol": "circle"
         },
         "mode": "lines+markers",
         "name": "Mohamed Bayo (Le Havre) - Off T",
         "text": "Mohamed Bayo (Le Havre)<br>Resultat: Off T<br>De: (115.9, 47.4)<br>A: (120.0, 41.9)",
         "type": "scatter",
         "x": [
          115.9,
          120
         ],
         "y": [
          47.4,
          41.9
         ]
        },
        {
         "hoverinfo": "text",
         "line": {
          "color": "blue",
          "width": 2
         },
         "marker": {
          "size": 10,
          "symbol": "circle"
         },
         "mode": "lines+markers",
         "name": "Yohann Magnin (Clermont Foot) - Saved",
         "text": "Yohann Magnin (Clermont Foot)<br>Resultat: Saved<br>De: (103.5, 35.0)<br>A: (118.1, 38.3)",
         "type": "scatter",
         "x": [
          16.5,
          1.9000000000000057
         ],
         "y": [
          45,
          41.7
         ]
        },
        {
         "hoverinfo": "text",
         "line": {
          "color": "purple",
          "width": 2
         },
         "marker": {
          "size": 10,
          "symbol": "circle"
         },
         "mode": "lines+markers",
         "name": "Cheick Oumar Konaté (Clermont Foot) - Off T",
         "text": "Cheick Oumar Konaté (Clermont Foot)<br>Resultat: Off T<br>De: (94.1, 56.6)<br>A: (120.0, 46.6)",
         "type": "scatter",
         "x": [
          25.900000000000006,
          0
         ],
         "y": [
          23.4,
          33.4
         ]
        },
        {
         "hoverinfo": "text",
         "line": {
          "color": "orange",
          "width": 2
         },
         "marker": {
          "size": 10,
          "symbol": "circle"
         },
         "mode": "lines+markers",
         "name": "Yoann Salmier (Le Havre) - Blocked",
         "text": "Yoann Salmier (Le Havre)<br>Resultat: Blocked<br>De: (93.0, 48.5)<br>A: (104.9, 44.4)",
         "type": "scatter",
         "x": [
          93,
          104.9
         ],
         "y": [
          48.5,
          44.4
         ]
        },
        {
         "hoverinfo": "text",
         "line": {
          "color": "green",
          "width": 2
         },
         "marker": {
          "size": 10,
          "symbol": "circle"
         },
         "mode": "lines+markers",
         "name": "Cheick Oumar Konaté (Clermont Foot) - Goal",
         "text": "Cheick Oumar Konaté (Clermont Foot)<br>Resultat: Goal<br>De: (111.4, 52.9)<br>A: (120.0, 39.1)",
         "type": "scatter",
         "x": [
          8.599999999999994,
          0
         ],
         "y": [
          27.1,
          40.9
         ]
        }
       ],
       "layout": {
        "annotations": [
         {
          "arrowcolor": "purple",
          "arrowhead": 3,
          "arrowsize": 1,
          "arrowwidth": 2,
          "ax": 110.6,
          "axref": "x",
          "ay": 44.9,
          "ayref": "y",
          "showarrow": true,
          "x": 120,
          "xref": "x",
          "y": 46.9,
          "yref": "y"
         },
         {
          "arrowcolor": "green",
          "arrowhead": 3,
          "arrowsize": 1,
          "arrowwidth": 2,
          "ax": 112.5,
          "axref": "x",
          "ay": 31.6,
          "ayref": "y",
          "showarrow": true,
          "x": 120,
          "xref": "x",
          "y": 37.3,
          "yref": "y"
         },
         {
          "arrowcolor": "green",
          "arrowhead": 3,
          "arrowsize": 1,
          "arrowwidth": 2,
          "ax": 111.7,
          "axref": "x",
          "ay": 47,
          "ayref": "y",
          "showarrow": true,
          "x": 120,
          "xref": "x",
          "y": 38.1,
          "yref": "y"
         },
         {
          "arrowcolor": "orange",
          "arrowhead": 3,
          "arrowsize": 1,
          "arrowwidth": 2,
          "ax": 11.299999999999997,
          "axref": "x",
          "ay": 35.2,
          "ayref": "y",
          "showarrow": true,
          "x": 8.400000000000006,
          "xref": "x",
          "y": 36.3,
          "yref": "y"
         },
         {
          "arrowcolor": "orange",
          "arrowhead": 3,
          "arrowsize": 1,
          "arrowwidth": 2,
          "ax": 91.6,
          "axref": "x",
          "ay": 27.1,
          "ayref": "y",
          "showarrow": true,
          "x": 98.7,
          "xref": "x",
          "y": 29.5,
          "yref": "y"
         },
         {
          "arrowcolor": "orange",
          "arrowhead": 3,
          "arrowsize": 1,
          "arrowwidth": 2,
          "ax": 12.700000000000003,
          "axref": "x",
          "ay": 41,
          "ayref": "y",
          "showarrow": true,
          "x": 12,
          "xref": "x",
          "y": 41,
          "yref": "y"
         },
         {
          "arrowcolor": "blue",
          "arrowhead": 3,
          "arrowsize": 1,
          "arrowwidth": 2,
          "ax": 19.799999999999997,
          "axref": "x",
          "ay": 57.7,
          "ayref": "y",
          "showarrow": true,
          "x": 1.7000000000000028,
          "xref": "x",
          "y": 42.4,
          "yref": "y"
         },
         {
          "arrowcolor": "purple",
          "arrowhead": 3,
          "arrowsize": 1,
          "arrowwidth": 2,
          "ax": 115.9,
          "axref": "x",
          "ay": 47.4,
          "ayref": "y",
          "showarrow": true,
          "x": 120,
          "xref": "x",
          "y": 41.9,
          "yref": "y"
         },
         {
          "arrowcolor": "blue",
          "arrowhead": 3,
          "arrowsize": 1,
          "arrowwidth": 2,
          "ax": 16.5,
          "axref": "x",
          "ay": 45,
          "ayref": "y",
          "showarrow": true,
          "x": 1.9000000000000057,
          "xref": "x",
          "y": 41.7,
          "yref": "y"
         },
         {
          "arrowcolor": "purple",
          "arrowhead": 3,
          "arrowsize": 1,
          "arrowwidth": 2,
          "ax": 25.900000000000006,
          "axref": "x",
          "ay": 23.4,
          "ayref": "y",
          "showarrow": true,
          "x": 0,
          "xref": "x",
          "y": 33.4,
          "yref": "y"
         },
         {
          "arrowcolor": "orange",
          "arrowhead": 3,
          "arrowsize": 1,
          "arrowwidth": 2,
          "ax": 93,
          "axref": "x",
          "ay": 48.5,
          "ayref": "y",
          "showarrow": true,
          "x": 104.9,
          "xref": "x",
          "y": 44.4,
          "yref": "y"
         },
         {
          "arrowcolor": "green",
          "arrowhead": 3,
          "arrowsize": 1,
          "arrowwidth": 2,
          "ax": 8.599999999999994,
          "axref": "x",
          "ay": 27.1,
          "ayref": "y",
          "showarrow": true,
          "x": 0,
          "xref": "x",
          "y": 40.9,
          "yref": "y"
         }
        ],
        "height": 700,
        "shapes": [
         {
          "line": {
           "color": "Black"
          },
          "type": "rect",
          "x0": 0,
          "x1": 120,
          "y0": 0,
          "y1": 80
         },
         {
          "line": {
           "color": "Black"
          },
          "type": "line",
          "x0": 60,
          "x1": 60,
          "y0": 0,
          "y1": 80
         },
         {
          "line": {
           "color": "Black"
          },
          "type": "rect",
          "x0": 0,
          "x1": 18,
          "y0": 18,
          "y1": 62
         },
         {
          "line": {
           "color": "Black"
          },
          "type": "rect",
          "x0": 0,
          "x1": 5.5,
          "y0": 30,
          "y1": 50
         },
         {
          "line": {
           "color": "Black"
          },
          "type": "rect",
          "x0": 114.5,
          "x1": 120,
          "y0": 30,
          "y1": 50
         },
         {
          "line": {
           "color": "Black"
          },
          "type": "rect",
          "x0": 0,
          "x1": 2,
          "y0": 36,
          "y1": 44
         },
         {
          "line": {
           "color": "Black"
          },
          "type": "rect",
          "x0": 118,
          "x1": 120,
          "y0": 36,
          "y1": 44
         },
         {
          "line": {
           "color": "Black"
          },
          "type": "circle",
          "x0": 50.4,
          "x1": 69.6,
          "xref": "x",
          "y0": 30.4,
          "y1": 49.6,
          "yref": "y"
         }
        ],
        "template": {
         "data": {
          "bar": [
           {
            "error_x": {
             "color": "#2a3f5f"
            },
            "error_y": {
             "color": "#2a3f5f"
            },
            "marker": {
             "line": {
              "color": "#E5ECF6",
              "width": 0.5
             },
             "pattern": {
              "fillmode": "overlay",
              "size": 10,
              "solidity": 0.2
             }
            },
            "type": "bar"
           }
          ],
          "barpolar": [
           {
            "marker": {
             "line": {
              "color": "#E5ECF6",
              "width": 0.5
             },
             "pattern": {
              "fillmode": "overlay",
              "size": 10,
              "solidity": 0.2
             }
            },
            "type": "barpolar"
           }
          ],
          "carpet": [
           {
            "aaxis": {
             "endlinecolor": "#2a3f5f",
             "gridcolor": "white",
             "linecolor": "white",
             "minorgridcolor": "white",
             "startlinecolor": "#2a3f5f"
            },
            "baxis": {
             "endlinecolor": "#2a3f5f",
             "gridcolor": "white",
             "linecolor": "white",
             "minorgridcolor": "white",
             "startlinecolor": "#2a3f5f"
            },
            "type": "carpet"
           }
          ],
          "choropleth": [
           {
            "colorbar": {
             "outlinewidth": 0,
             "ticks": ""
            },
            "type": "choropleth"
           }
          ],
          "contour": [
           {
            "colorbar": {
             "outlinewidth": 0,
             "ticks": ""
            },
            "colorscale": [
             [
              0,
              "#0d0887"
             ],
             [
              0.1111111111111111,
              "#46039f"
             ],
             [
              0.2222222222222222,
              "#7201a8"
             ],
             [
              0.3333333333333333,
              "#9c179e"
             ],
             [
              0.4444444444444444,
              "#bd3786"
             ],
             [
              0.5555555555555556,
              "#d8576b"
             ],
             [
              0.6666666666666666,
              "#ed7953"
             ],
             [
              0.7777777777777778,
              "#fb9f3a"
             ],
             [
              0.8888888888888888,
              "#fdca26"
             ],
             [
              1,
              "#f0f921"
             ]
            ],
            "type": "contour"
           }
          ],
          "contourcarpet": [
           {
            "colorbar": {
             "outlinewidth": 0,
             "ticks": ""
            },
            "type": "contourcarpet"
           }
          ],
          "heatmap": [
           {
            "colorbar": {
             "outlinewidth": 0,
             "ticks": ""
            },
            "colorscale": [
             [
              0,
              "#0d0887"
             ],
             [
              0.1111111111111111,
              "#46039f"
             ],
             [
              0.2222222222222222,
              "#7201a8"
             ],
             [
              0.3333333333333333,
              "#9c179e"
             ],
             [
              0.4444444444444444,
              "#bd3786"
             ],
             [
              0.5555555555555556,
              "#d8576b"
             ],
             [
              0.6666666666666666,
              "#ed7953"
             ],
             [
              0.7777777777777778,
              "#fb9f3a"
             ],
             [
              0.8888888888888888,
              "#fdca26"
             ],
             [
              1,
              "#f0f921"
             ]
            ],
            "type": "heatmap"
           }
          ],
          "heatmapgl": [
           {
            "colorbar": {
             "outlinewidth": 0,
             "ticks": ""
            },
            "colorscale": [
             [
              0,
              "#0d0887"
             ],
             [
              0.1111111111111111,
              "#46039f"
             ],
             [
              0.2222222222222222,
              "#7201a8"
             ],
             [
              0.3333333333333333,
              "#9c179e"
             ],
             [
              0.4444444444444444,
              "#bd3786"
             ],
             [
              0.5555555555555556,
              "#d8576b"
             ],
             [
              0.6666666666666666,
              "#ed7953"
             ],
             [
              0.7777777777777778,
              "#fb9f3a"
             ],
             [
              0.8888888888888888,
              "#fdca26"
             ],
             [
              1,
              "#f0f921"
             ]
            ],
            "type": "heatmapgl"
           }
          ],
          "histogram": [
           {
            "marker": {
             "pattern": {
              "fillmode": "overlay",
              "size": 10,
              "solidity": 0.2
             }
            },
            "type": "histogram"
           }
          ],
          "histogram2d": [
           {
            "colorbar": {
             "outlinewidth": 0,
             "ticks": ""
            },
            "colorscale": [
             [
              0,
              "#0d0887"
             ],
             [
              0.1111111111111111,
              "#46039f"
             ],
             [
              0.2222222222222222,
              "#7201a8"
             ],
             [
              0.3333333333333333,
              "#9c179e"
             ],
             [
              0.4444444444444444,
              "#bd3786"
             ],
             [
              0.5555555555555556,
              "#d8576b"
             ],
             [
              0.6666666666666666,
              "#ed7953"
             ],
             [
              0.7777777777777778,
              "#fb9f3a"
             ],
             [
              0.8888888888888888,
              "#fdca26"
             ],
             [
              1,
              "#f0f921"
             ]
            ],
            "type": "histogram2d"
           }
          ],
          "histogram2dcontour": [
           {
            "colorbar": {
             "outlinewidth": 0,
             "ticks": ""
            },
            "colorscale": [
             [
              0,
              "#0d0887"
             ],
             [
              0.1111111111111111,
              "#46039f"
             ],
             [
              0.2222222222222222,
              "#7201a8"
             ],
             [
              0.3333333333333333,
              "#9c179e"
             ],
             [
              0.4444444444444444,
              "#bd3786"
             ],
             [
              0.5555555555555556,
              "#d8576b"
             ],
             [
              0.6666666666666666,
              "#ed7953"
             ],
             [
              0.7777777777777778,
              "#fb9f3a"
             ],
             [
              0.8888888888888888,
              "#fdca26"
             ],
             [
              1,
              "#f0f921"
             ]
            ],
            "type": "histogram2dcontour"
           }
          ],
          "mesh3d": [
           {
            "colorbar": {
             "outlinewidth": 0,
             "ticks": ""
            },
            "type": "mesh3d"
           }
          ],
          "parcoords": [
           {
            "line": {
             "colorbar": {
              "outlinewidth": 0,
              "ticks": ""
             }
            },
            "type": "parcoords"
           }
          ],
          "pie": [
           {
            "automargin": true,
            "type": "pie"
           }
          ],
          "scatter": [
           {
            "fillpattern": {
             "fillmode": "overlay",
             "size": 10,
             "solidity": 0.2
            },
            "type": "scatter"
           }
          ],
          "scatter3d": [
           {
            "line": {
             "colorbar": {
              "outlinewidth": 0,
              "ticks": ""
             }
            },
            "marker": {
             "colorbar": {
              "outlinewidth": 0,
              "ticks": ""
             }
            },
            "type": "scatter3d"
           }
          ],
          "scattercarpet": [
           {
            "marker": {
             "colorbar": {
              "outlinewidth": 0,
              "ticks": ""
             }
            },
            "type": "scattercarpet"
           }
          ],
          "scattergeo": [
           {
            "marker": {
             "colorbar": {
              "outlinewidth": 0,
              "ticks": ""
             }
            },
            "type": "scattergeo"
           }
          ],
          "scattergl": [
           {
            "marker": {
             "colorbar": {
              "outlinewidth": 0,
              "ticks": ""
             }
            },
            "type": "scattergl"
           }
          ],
          "scattermapbox": [
           {
            "marker": {
             "colorbar": {
              "outlinewidth": 0,
              "ticks": ""
             }
            },
            "type": "scattermapbox"
           }
          ],
          "scatterpolar": [
           {
            "marker": {
             "colorbar": {
              "outlinewidth": 0,
              "ticks": ""
             }
            },
            "type": "scatterpolar"
           }
          ],
          "scatterpolargl": [
           {
            "marker": {
             "colorbar": {
              "outlinewidth": 0,
              "ticks": ""
             }
            },
            "type": "scatterpolargl"
           }
          ],
          "scatterternary": [
           {
            "marker": {
             "colorbar": {
              "outlinewidth": 0,
              "ticks": ""
             }
            },
            "type": "scatterternary"
           }
          ],
          "surface": [
           {
            "colorbar": {
             "outlinewidth": 0,
             "ticks": ""
            },
            "colorscale": [
             [
              0,
              "#0d0887"
             ],
             [
              0.1111111111111111,
              "#46039f"
             ],
             [
              0.2222222222222222,
              "#7201a8"
             ],
             [
              0.3333333333333333,
              "#9c179e"
             ],
             [
              0.4444444444444444,
              "#bd3786"
             ],
             [
              0.5555555555555556,
              "#d8576b"
             ],
             [
              0.6666666666666666,
              "#ed7953"
             ],
             [
              0.7777777777777778,
              "#fb9f3a"
             ],
             [
              0.8888888888888888,
              "#fdca26"
             ],
             [
              1,
              "#f0f921"
             ]
            ],
            "type": "surface"
           }
          ],
          "table": [
           {
            "cells": {
             "fill": {
              "color": "#EBF0F8"
             },
             "line": {
              "color": "white"
             }
            },
            "header": {
             "fill": {
              "color": "#C8D4E3"
             },
             "line": {
              "color": "white"
             }
            },
            "type": "table"
           }
          ]
         },
         "layout": {
          "annotationdefaults": {
           "arrowcolor": "#2a3f5f",
           "arrowhead": 0,
           "arrowwidth": 1
          },
          "autotypenumbers": "strict",
          "coloraxis": {
           "colorbar": {
            "outlinewidth": 0,
            "ticks": ""
           }
          },
          "colorscale": {
           "diverging": [
            [
             0,
             "#8e0152"
            ],
            [
             0.1,
             "#c51b7d"
            ],
            [
             0.2,
             "#de77ae"
            ],
            [
             0.3,
             "#f1b6da"
            ],
            [
             0.4,
             "#fde0ef"
            ],
            [
             0.5,
             "#f7f7f7"
            ],
            [
             0.6,
             "#e6f5d0"
            ],
            [
             0.7,
             "#b8e186"
            ],
            [
             0.8,
             "#7fbc41"
            ],
            [
             0.9,
             "#4d9221"
            ],
            [
             1,
             "#276419"
            ]
           ],
           "sequential": [
            [
             0,
             "#0d0887"
            ],
            [
             0.1111111111111111,
             "#46039f"
            ],
            [
             0.2222222222222222,
             "#7201a8"
            ],
            [
             0.3333333333333333,
             "#9c179e"
            ],
            [
             0.4444444444444444,
             "#bd3786"
            ],
            [
             0.5555555555555556,
             "#d8576b"
            ],
            [
             0.6666666666666666,
             "#ed7953"
            ],
            [
             0.7777777777777778,
             "#fb9f3a"
            ],
            [
             0.8888888888888888,
             "#fdca26"
            ],
            [
             1,
             "#f0f921"
            ]
           ],
           "sequentialminus": [
            [
             0,
             "#0d0887"
            ],
            [
             0.1111111111111111,
             "#46039f"
            ],
            [
             0.2222222222222222,
             "#7201a8"
            ],
            [
             0.3333333333333333,
             "#9c179e"
            ],
            [
             0.4444444444444444,
             "#bd3786"
            ],
            [
             0.5555555555555556,
             "#d8576b"
            ],
            [
             0.6666666666666666,
             "#ed7953"
            ],
            [
             0.7777777777777778,
             "#fb9f3a"
            ],
            [
             0.8888888888888888,
             "#fdca26"
            ],
            [
             1,
             "#f0f921"
            ]
           ]
          },
          "colorway": [
           "#636efa",
           "#EF553B",
           "#00cc96",
           "#ab63fa",
           "#FFA15A",
           "#19d3f3",
           "#FF6692",
           "#B6E880",
           "#FF97FF",
           "#FECB52"
          ],
          "font": {
           "color": "#2a3f5f"
          },
          "geo": {
           "bgcolor": "white",
           "lakecolor": "white",
           "landcolor": "#E5ECF6",
           "showlakes": true,
           "showland": true,
           "subunitcolor": "white"
          },
          "hoverlabel": {
           "align": "left"
          },
          "hovermode": "closest",
          "mapbox": {
           "style": "light"
          },
          "paper_bgcolor": "white",
          "plot_bgcolor": "#E5ECF6",
          "polar": {
           "angularaxis": {
            "gridcolor": "white",
            "linecolor": "white",
            "ticks": ""
           },
           "bgcolor": "#E5ECF6",
           "radialaxis": {
            "gridcolor": "white",
            "linecolor": "white",
            "ticks": ""
           }
          },
          "scene": {
           "xaxis": {
            "backgroundcolor": "#E5ECF6",
            "gridcolor": "white",
            "gridwidth": 2,
            "linecolor": "white",
            "showbackground": true,
            "ticks": "",
            "zerolinecolor": "white"
           },
           "yaxis": {
            "backgroundcolor": "#E5ECF6",
            "gridcolor": "white",
            "gridwidth": 2,
            "linecolor": "white",
            "showbackground": true,
            "ticks": "",
            "zerolinecolor": "white"
           },
           "zaxis": {
            "backgroundcolor": "#E5ECF6",
            "gridcolor": "white",
            "gridwidth": 2,
            "linecolor": "white",
            "showbackground": true,
            "ticks": "",
            "zerolinecolor": "white"
           }
          },
          "shapedefaults": {
           "line": {
            "color": "#2a3f5f"
           }
          },
          "ternary": {
           "aaxis": {
            "gridcolor": "white",
            "linecolor": "white",
            "ticks": ""
           },
           "baxis": {
            "gridcolor": "white",
            "linecolor": "white",
            "ticks": ""
           },
           "bgcolor": "#E5ECF6",
           "caxis": {
            "gridcolor": "white",
            "linecolor": "white",
            "ticks": ""
           }
          },
          "title": {
           "x": 0.05
          },
          "xaxis": {
           "automargin": true,
           "gridcolor": "white",
           "linecolor": "white",
           "ticks": "",
           "title": {
            "standoff": 15
           },
           "zerolinecolor": "white",
           "zerolinewidth": 2
          },
          "yaxis": {
           "automargin": true,
           "gridcolor": "white",
           "linecolor": "white",
           "ticks": "",
           "title": {
            "standoff": 15
           },
           "zerolinecolor": "white",
           "zerolinewidth": 2
          }
         }
        },
        "title": {
         "text": "Tirs du match Le Havre contre Clermont - Pendant la 1 période de jeu"
        },
        "width": 1000,
        "xaxis": {
         "range": [
          0,
          120
         ],
         "showgrid": false,
         "zeroline": false
        },
        "yaxis": {
         "autorange": "reversed",
         "range": [
          0,
          80
         ],
         "showgrid": false,
         "zeroline": false
        }
       }
      }
     },
     "metadata": {},
     "output_type": "display_data"
    }
   ],
   "source": [
    "Tirs(df_tirs, 'Le Havre', 'Clermont', 1)"
   ]
  }
 ],
 "metadata": {
  "kernelspec": {
   "display_name": "Python 3",
   "language": "python",
   "name": "python3"
  },
  "language_info": {
   "codemirror_mode": {
    "name": "ipython",
    "version": 3
   },
   "file_extension": ".py",
   "mimetype": "text/x-python",
   "name": "python",
   "nbconvert_exporter": "python",
   "pygments_lexer": "ipython3",
   "version": "3.10.12"
  },
  "orig_nbformat": 4
 },
 "nbformat": 4,
 "nbformat_minor": 2
}
