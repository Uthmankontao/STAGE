{
 "cells": [
  {
   "cell_type": "markdown",
   "metadata": {},
   "source": [
    "# Le Havre 3 : 0 Lorient"
   ]
  },
  {
   "cell_type": "code",
   "execution_count": 1,
   "metadata": {},
   "outputs": [],
   "source": [
    "import sys\n",
    "sys.path.append('/home/UR/kontaous/Bureau/Stage/')\n",
    "from Analyses.traitement import *\n",
    "from tirs_equipes import *\n",
    "import pandas as pd\n",
    "import numpy as np\n",
    "import matplotlib.pyplot as plt\n",
    "import seaborn as sns\n",
    "import plotly.graph_objects as go\n",
    "import pandas as pd\n",
    "\n",
    "tracking = pd.read_csv(\"../../Data/HAC/Tracking_data/tracking_Marseille.csv\", low_memory=False)\n",
    "events = pd.read_csv(\"../../Data/HAC/match_data/match_Lorient.csv\")\n",
    "df_home = home_format_metrica(tracking)\n",
    "df_away = away_format_metrica(tracking)\n",
    "\n",
    "home_cote_period1 = determine_sides(df_home[df_home['period'] == 1], 1)\n",
    "away_cote_period1 = determine_sides(df_away[df_away['period'] == 1], 1)\n",
    "def prepare_data(tracking, events):\n",
    "    tracking['datetime'] = pd.to_datetime(tracking['system_time'], unit='ms')\n",
    "    \n",
    "    match_date = pd.Timestamp(\"2023-08-13\") # je dois verifier de la ddate du match ;)\n",
    "    events['timestamp'] = pd.to_datetime(events['timestamp'], format='%H:%M:%S.%f')\n",
    "    events['datetime'] = match_date + (events['timestamp'] - pd.Timestamp(\"1900-01-01\"))\n",
    "    \n",
    "    return tracking, events\n",
    "tracking, events = prepare_data(tracking, events)"
   ]
  },
  {
   "cell_type": "code",
   "execution_count": 2,
   "metadata": {},
   "outputs": [
    {
     "data": {
      "text/html": [
       "<div>\n",
       "<style scoped>\n",
       "    .dataframe tbody tr th:only-of-type {\n",
       "        vertical-align: middle;\n",
       "    }\n",
       "\n",
       "    .dataframe tbody tr th {\n",
       "        vertical-align: top;\n",
       "    }\n",
       "\n",
       "    .dataframe thead th {\n",
       "        text-align: right;\n",
       "    }\n",
       "</style>\n",
       "<table border=\"1\" class=\"dataframe\">\n",
       "  <thead>\n",
       "    <tr style=\"text-align: right;\">\n",
       "      <th></th>\n",
       "      <th>datetime</th>\n",
       "      <th>team.name</th>\n",
       "      <th>period</th>\n",
       "      <th>player.name</th>\n",
       "      <th>location.x</th>\n",
       "      <th>location.y</th>\n",
       "      <th>shot.end_location.x</th>\n",
       "      <th>shot.end_location.y</th>\n",
       "      <th>shot.outcome.name</th>\n",
       "    </tr>\n",
       "  </thead>\n",
       "  <tbody>\n",
       "    <tr>\n",
       "      <th>123</th>\n",
       "      <td>2023-08-13 00:02:07.548</td>\n",
       "      <td>Le Havre</td>\n",
       "      <td>1</td>\n",
       "      <td>Yassine Kechta</td>\n",
       "      <td>87.8</td>\n",
       "      <td>37.8</td>\n",
       "      <td>118.1</td>\n",
       "      <td>38.8</td>\n",
       "      <td>Saved</td>\n",
       "    </tr>\n",
       "    <tr>\n",
       "      <th>618</th>\n",
       "      <td>2023-08-13 00:12:56.434</td>\n",
       "      <td>Le Havre</td>\n",
       "      <td>1</td>\n",
       "      <td>Loïc Négo</td>\n",
       "      <td>112.7</td>\n",
       "      <td>42.8</td>\n",
       "      <td>120.0</td>\n",
       "      <td>43.3</td>\n",
       "      <td>Off T</td>\n",
       "    </tr>\n",
       "    <tr>\n",
       "      <th>642</th>\n",
       "      <td>2023-08-13 00:13:54.172</td>\n",
       "      <td>Lorient</td>\n",
       "      <td>1</td>\n",
       "      <td>Julien Ponceau</td>\n",
       "      <td>105.9</td>\n",
       "      <td>32.8</td>\n",
       "      <td>113.9</td>\n",
       "      <td>35.1</td>\n",
       "      <td>Blocked</td>\n",
       "    </tr>\n",
       "    <tr>\n",
       "      <th>651</th>\n",
       "      <td>2023-08-13 00:14:25.338</td>\n",
       "      <td>Lorient</td>\n",
       "      <td>1</td>\n",
       "      <td>Pablo Pagis</td>\n",
       "      <td>100.2</td>\n",
       "      <td>31.9</td>\n",
       "      <td>120.0</td>\n",
       "      <td>43.4</td>\n",
       "      <td>Off T</td>\n",
       "    </tr>\n",
       "    <tr>\n",
       "      <th>824</th>\n",
       "      <td>2023-08-13 00:18:21.427</td>\n",
       "      <td>Le Havre</td>\n",
       "      <td>1</td>\n",
       "      <td>Andy Élysée Logbo</td>\n",
       "      <td>103.0</td>\n",
       "      <td>35.8</td>\n",
       "      <td>104.6</td>\n",
       "      <td>36.2</td>\n",
       "      <td>Blocked</td>\n",
       "    </tr>\n",
       "    <tr>\n",
       "      <th>915</th>\n",
       "      <td>2023-08-13 00:20:12.695</td>\n",
       "      <td>Le Havre</td>\n",
       "      <td>1</td>\n",
       "      <td>Daler Kuzyaev</td>\n",
       "      <td>103.8</td>\n",
       "      <td>55.3</td>\n",
       "      <td>109.6</td>\n",
       "      <td>44.6</td>\n",
       "      <td>Wayward</td>\n",
       "    </tr>\n",
       "    <tr>\n",
       "      <th>925</th>\n",
       "      <td>2023-08-13 00:20:21.376</td>\n",
       "      <td>Le Havre</td>\n",
       "      <td>1</td>\n",
       "      <td>Daler Kuzyaev</td>\n",
       "      <td>117.4</td>\n",
       "      <td>34.7</td>\n",
       "      <td>117.9</td>\n",
       "      <td>35.1</td>\n",
       "      <td>Saved</td>\n",
       "    </tr>\n",
       "    <tr>\n",
       "      <th>1084</th>\n",
       "      <td>2023-08-13 00:24:34.308</td>\n",
       "      <td>Lorient</td>\n",
       "      <td>1</td>\n",
       "      <td>Romain Faivre</td>\n",
       "      <td>99.4</td>\n",
       "      <td>60.6</td>\n",
       "      <td>105.7</td>\n",
       "      <td>55.1</td>\n",
       "      <td>Blocked</td>\n",
       "    </tr>\n",
       "    <tr>\n",
       "      <th>1270</th>\n",
       "      <td>2023-08-13 00:30:41.070</td>\n",
       "      <td>Lorient</td>\n",
       "      <td>1</td>\n",
       "      <td>Romain Faivre</td>\n",
       "      <td>106.5</td>\n",
       "      <td>52.4</td>\n",
       "      <td>107.7</td>\n",
       "      <td>51.2</td>\n",
       "      <td>Blocked</td>\n",
       "    </tr>\n",
       "    <tr>\n",
       "      <th>1514</th>\n",
       "      <td>2023-08-13 00:35:34.722</td>\n",
       "      <td>Le Havre</td>\n",
       "      <td>1</td>\n",
       "      <td>Andy Élysée Logbo</td>\n",
       "      <td>106.1</td>\n",
       "      <td>51.8</td>\n",
       "      <td>118.9</td>\n",
       "      <td>26.8</td>\n",
       "      <td>Wayward</td>\n",
       "    </tr>\n",
       "    <tr>\n",
       "      <th>1643</th>\n",
       "      <td>2023-08-13 00:38:20.631</td>\n",
       "      <td>Lorient</td>\n",
       "      <td>1</td>\n",
       "      <td>Pablo Pagis</td>\n",
       "      <td>101.5</td>\n",
       "      <td>35.0</td>\n",
       "      <td>118.2</td>\n",
       "      <td>41.1</td>\n",
       "      <td>Saved</td>\n",
       "    </tr>\n",
       "    <tr>\n",
       "      <th>1793</th>\n",
       "      <td>2023-08-13 00:43:53.887</td>\n",
       "      <td>Le Havre</td>\n",
       "      <td>1</td>\n",
       "      <td>Yoann Salmier</td>\n",
       "      <td>112.9</td>\n",
       "      <td>37.5</td>\n",
       "      <td>120.0</td>\n",
       "      <td>40.4</td>\n",
       "      <td>Off T</td>\n",
       "    </tr>\n",
       "    <tr>\n",
       "      <th>1913</th>\n",
       "      <td>2023-08-13 00:46:41.768</td>\n",
       "      <td>Lorient</td>\n",
       "      <td>1</td>\n",
       "      <td>Pablo Pagis</td>\n",
       "      <td>91.2</td>\n",
       "      <td>46.9</td>\n",
       "      <td>92.1</td>\n",
       "      <td>46.7</td>\n",
       "      <td>Blocked</td>\n",
       "    </tr>\n",
       "    <tr>\n",
       "      <th>2166</th>\n",
       "      <td>2023-08-13 00:05:56.304</td>\n",
       "      <td>Le Havre</td>\n",
       "      <td>2</td>\n",
       "      <td>Loïc Négo</td>\n",
       "      <td>98.7</td>\n",
       "      <td>55.6</td>\n",
       "      <td>117.6</td>\n",
       "      <td>43.2</td>\n",
       "      <td>Saved</td>\n",
       "    </tr>\n",
       "    <tr>\n",
       "      <th>2194</th>\n",
       "      <td>2023-08-13 00:06:22.881</td>\n",
       "      <td>Lorient</td>\n",
       "      <td>2</td>\n",
       "      <td>Siriné Doucouré</td>\n",
       "      <td>110.0</td>\n",
       "      <td>26.7</td>\n",
       "      <td>111.7</td>\n",
       "      <td>29.4</td>\n",
       "      <td>Blocked</td>\n",
       "    </tr>\n",
       "    <tr>\n",
       "      <th>2243</th>\n",
       "      <td>2023-08-13 00:07:10.970</td>\n",
       "      <td>Le Havre</td>\n",
       "      <td>2</td>\n",
       "      <td>Daler Kuzyaev</td>\n",
       "      <td>110.3</td>\n",
       "      <td>38.5</td>\n",
       "      <td>120.0</td>\n",
       "      <td>38.1</td>\n",
       "      <td>Goal</td>\n",
       "    </tr>\n",
       "    <tr>\n",
       "      <th>2760</th>\n",
       "      <td>2023-08-13 00:22:29.686</td>\n",
       "      <td>Le Havre</td>\n",
       "      <td>2</td>\n",
       "      <td>Nabil Alioui</td>\n",
       "      <td>106.8</td>\n",
       "      <td>27.6</td>\n",
       "      <td>120.0</td>\n",
       "      <td>45.0</td>\n",
       "      <td>Off T</td>\n",
       "    </tr>\n",
       "    <tr>\n",
       "      <th>2868</th>\n",
       "      <td>2023-08-13 00:24:41.272</td>\n",
       "      <td>Le Havre</td>\n",
       "      <td>2</td>\n",
       "      <td>Nabil Alioui</td>\n",
       "      <td>100.5</td>\n",
       "      <td>38.3</td>\n",
       "      <td>120.0</td>\n",
       "      <td>37.2</td>\n",
       "      <td>Goal</td>\n",
       "    </tr>\n",
       "    <tr>\n",
       "      <th>3031</th>\n",
       "      <td>2023-08-13 00:28:54.580</td>\n",
       "      <td>Le Havre</td>\n",
       "      <td>2</td>\n",
       "      <td>Nabil Alioui</td>\n",
       "      <td>91.6</td>\n",
       "      <td>31.6</td>\n",
       "      <td>93.9</td>\n",
       "      <td>32.4</td>\n",
       "      <td>Blocked</td>\n",
       "    </tr>\n",
       "    <tr>\n",
       "      <th>3595</th>\n",
       "      <td>2023-08-13 00:44:29.597</td>\n",
       "      <td>Le Havre</td>\n",
       "      <td>2</td>\n",
       "      <td>Antoine Joujou</td>\n",
       "      <td>109.6</td>\n",
       "      <td>36.3</td>\n",
       "      <td>109.9</td>\n",
       "      <td>39.7</td>\n",
       "      <td>Wayward</td>\n",
       "    </tr>\n",
       "    <tr>\n",
       "      <th>3601</th>\n",
       "      <td>2023-08-13 00:44:32.481</td>\n",
       "      <td>Le Havre</td>\n",
       "      <td>2</td>\n",
       "      <td>Abdoulaye Touré</td>\n",
       "      <td>104.0</td>\n",
       "      <td>43.5</td>\n",
       "      <td>109.6</td>\n",
       "      <td>43.3</td>\n",
       "      <td>Blocked</td>\n",
       "    </tr>\n",
       "    <tr>\n",
       "      <th>3692</th>\n",
       "      <td>2023-08-13 00:46:04.576</td>\n",
       "      <td>Lorient</td>\n",
       "      <td>2</td>\n",
       "      <td>Eli Junior Kroupi</td>\n",
       "      <td>105.3</td>\n",
       "      <td>37.9</td>\n",
       "      <td>108.2</td>\n",
       "      <td>38.6</td>\n",
       "      <td>Saved</td>\n",
       "    </tr>\n",
       "    <tr>\n",
       "      <th>3735</th>\n",
       "      <td>2023-08-13 00:47:35.898</td>\n",
       "      <td>Le Havre</td>\n",
       "      <td>2</td>\n",
       "      <td>Rassoul N'Diaye</td>\n",
       "      <td>96.5</td>\n",
       "      <td>42.7</td>\n",
       "      <td>120.0</td>\n",
       "      <td>33.5</td>\n",
       "      <td>Off T</td>\n",
       "    </tr>\n",
       "    <tr>\n",
       "      <th>3752</th>\n",
       "      <td>2023-08-13 00:48:09.338</td>\n",
       "      <td>Lorient</td>\n",
       "      <td>2</td>\n",
       "      <td>Dembo Sylla</td>\n",
       "      <td>113.3</td>\n",
       "      <td>53.1</td>\n",
       "      <td>120.0</td>\n",
       "      <td>32.1</td>\n",
       "      <td>Off T</td>\n",
       "    </tr>\n",
       "    <tr>\n",
       "      <th>3846</th>\n",
       "      <td>2023-08-13 00:50:07.320</td>\n",
       "      <td>Le Havre</td>\n",
       "      <td>2</td>\n",
       "      <td>Mohamed Bayo</td>\n",
       "      <td>111.5</td>\n",
       "      <td>44.7</td>\n",
       "      <td>120.0</td>\n",
       "      <td>42.6</td>\n",
       "      <td>Off T</td>\n",
       "    </tr>\n",
       "    <tr>\n",
       "      <th>3860</th>\n",
       "      <td>2023-08-13 00:50:39.604</td>\n",
       "      <td>Le Havre</td>\n",
       "      <td>2</td>\n",
       "      <td>Nolan Mbemba</td>\n",
       "      <td>97.2</td>\n",
       "      <td>48.5</td>\n",
       "      <td>120.0</td>\n",
       "      <td>43.6</td>\n",
       "      <td>Goal</td>\n",
       "    </tr>\n",
       "  </tbody>\n",
       "</table>\n",
       "</div>"
      ],
      "text/plain": [
       "                    datetime team.name  period        player.name  location.x  \\\n",
       "123  2023-08-13 00:02:07.548  Le Havre       1     Yassine Kechta        87.8   \n",
       "618  2023-08-13 00:12:56.434  Le Havre       1          Loïc Négo       112.7   \n",
       "642  2023-08-13 00:13:54.172   Lorient       1     Julien Ponceau       105.9   \n",
       "651  2023-08-13 00:14:25.338   Lorient       1        Pablo Pagis       100.2   \n",
       "824  2023-08-13 00:18:21.427  Le Havre       1  Andy Élysée Logbo       103.0   \n",
       "915  2023-08-13 00:20:12.695  Le Havre       1      Daler Kuzyaev       103.8   \n",
       "925  2023-08-13 00:20:21.376  Le Havre       1      Daler Kuzyaev       117.4   \n",
       "1084 2023-08-13 00:24:34.308   Lorient       1      Romain Faivre        99.4   \n",
       "1270 2023-08-13 00:30:41.070   Lorient       1      Romain Faivre       106.5   \n",
       "1514 2023-08-13 00:35:34.722  Le Havre       1  Andy Élysée Logbo       106.1   \n",
       "1643 2023-08-13 00:38:20.631   Lorient       1        Pablo Pagis       101.5   \n",
       "1793 2023-08-13 00:43:53.887  Le Havre       1      Yoann Salmier       112.9   \n",
       "1913 2023-08-13 00:46:41.768   Lorient       1        Pablo Pagis        91.2   \n",
       "2166 2023-08-13 00:05:56.304  Le Havre       2          Loïc Négo        98.7   \n",
       "2194 2023-08-13 00:06:22.881   Lorient       2    Siriné Doucouré       110.0   \n",
       "2243 2023-08-13 00:07:10.970  Le Havre       2      Daler Kuzyaev       110.3   \n",
       "2760 2023-08-13 00:22:29.686  Le Havre       2       Nabil Alioui       106.8   \n",
       "2868 2023-08-13 00:24:41.272  Le Havre       2       Nabil Alioui       100.5   \n",
       "3031 2023-08-13 00:28:54.580  Le Havre       2       Nabil Alioui        91.6   \n",
       "3595 2023-08-13 00:44:29.597  Le Havre       2     Antoine Joujou       109.6   \n",
       "3601 2023-08-13 00:44:32.481  Le Havre       2    Abdoulaye Touré       104.0   \n",
       "3692 2023-08-13 00:46:04.576   Lorient       2  Eli Junior Kroupi       105.3   \n",
       "3735 2023-08-13 00:47:35.898  Le Havre       2    Rassoul N'Diaye        96.5   \n",
       "3752 2023-08-13 00:48:09.338   Lorient       2        Dembo Sylla       113.3   \n",
       "3846 2023-08-13 00:50:07.320  Le Havre       2       Mohamed Bayo       111.5   \n",
       "3860 2023-08-13 00:50:39.604  Le Havre       2       Nolan Mbemba        97.2   \n",
       "\n",
       "      location.y  shot.end_location.x  shot.end_location.y shot.outcome.name  \n",
       "123         37.8                118.1                 38.8             Saved  \n",
       "618         42.8                120.0                 43.3             Off T  \n",
       "642         32.8                113.9                 35.1           Blocked  \n",
       "651         31.9                120.0                 43.4             Off T  \n",
       "824         35.8                104.6                 36.2           Blocked  \n",
       "915         55.3                109.6                 44.6           Wayward  \n",
       "925         34.7                117.9                 35.1             Saved  \n",
       "1084        60.6                105.7                 55.1           Blocked  \n",
       "1270        52.4                107.7                 51.2           Blocked  \n",
       "1514        51.8                118.9                 26.8           Wayward  \n",
       "1643        35.0                118.2                 41.1             Saved  \n",
       "1793        37.5                120.0                 40.4             Off T  \n",
       "1913        46.9                 92.1                 46.7           Blocked  \n",
       "2166        55.6                117.6                 43.2             Saved  \n",
       "2194        26.7                111.7                 29.4           Blocked  \n",
       "2243        38.5                120.0                 38.1              Goal  \n",
       "2760        27.6                120.0                 45.0             Off T  \n",
       "2868        38.3                120.0                 37.2              Goal  \n",
       "3031        31.6                 93.9                 32.4           Blocked  \n",
       "3595        36.3                109.9                 39.7           Wayward  \n",
       "3601        43.5                109.6                 43.3           Blocked  \n",
       "3692        37.9                108.2                 38.6             Saved  \n",
       "3735        42.7                120.0                 33.5             Off T  \n",
       "3752        53.1                120.0                 32.1             Off T  \n",
       "3846        44.7                120.0                 42.6             Off T  \n",
       "3860        48.5                120.0                 43.6              Goal  "
      ]
     },
     "execution_count": 2,
     "metadata": {},
     "output_type": "execute_result"
    }
   ],
   "source": [
    "tirs = ['datetime', 'team.name', 'period', 'player.name', 'location.x', 'location.y', 'shot.end_location.x', 'shot.end_location.y', 'shot.outcome.name']\n",
    "df_tirs = events[tirs].copy()\n",
    "df_tirs[df_tirs['shot.end_location.x'].notna()]"
   ]
  },
  {
   "cell_type": "code",
   "execution_count": 3,
   "metadata": {},
   "outputs": [
    {
     "data": {
      "application/vnd.plotly.v1+json": {
       "config": {
        "plotlyServerURL": "https://plot.ly"
       },
       "data": [
        {
         "hoverinfo": "text",
         "line": {
          "color": "blue",
          "width": 2
         },
         "marker": {
          "size": 10,
          "symbol": "circle"
         },
         "mode": "lines+markers",
         "name": "Loïc Négo (Le Havre) - Saved",
         "text": "Loïc Négo (Le Havre)<br>Resultat: Saved<br>De: (98.7, 55.6)<br>A: (117.6, 43.2)",
         "type": "scatter",
         "x": [
          21.299999999999997,
          2.4000000000000057
         ],
         "y": [
          24.4,
          36.8
         ]
        },
        {
         "hoverinfo": "text",
         "line": {
          "color": "orange",
          "width": 2
         },
         "marker": {
          "size": 10,
          "symbol": "circle"
         },
         "mode": "lines+markers",
         "name": "Siriné Doucouré (Lorient) - Blocked",
         "text": "Siriné Doucouré (Lorient)<br>Resultat: Blocked<br>De: (110.0, 26.7)<br>A: (111.7, 29.4)",
         "type": "scatter",
         "x": [
          110,
          111.7
         ],
         "y": [
          26.7,
          29.4
         ]
        },
        {
         "hoverinfo": "text",
         "line": {
          "color": "green",
          "width": 2
         },
         "marker": {
          "size": 10,
          "symbol": "circle"
         },
         "mode": "lines+markers",
         "name": "Daler Kuzyaev (Le Havre) - Goal",
         "text": "Daler Kuzyaev (Le Havre)<br>Resultat: Goal<br>De: (110.3, 38.5)<br>A: (120.0, 38.1)",
         "type": "scatter",
         "x": [
          9.700000000000003,
          0
         ],
         "y": [
          41.5,
          41.9
         ]
        },
        {
         "hoverinfo": "text",
         "line": {
          "color": "purple",
          "width": 2
         },
         "marker": {
          "size": 10,
          "symbol": "circle"
         },
         "mode": "lines+markers",
         "name": "Nabil Alioui (Le Havre) - Off T",
         "text": "Nabil Alioui (Le Havre)<br>Resultat: Off T<br>De: (106.8, 27.6)<br>A: (120.0, 45.0)",
         "type": "scatter",
         "x": [
          13.200000000000003,
          0
         ],
         "y": [
          52.4,
          35
         ]
        },
        {
         "hoverinfo": "text",
         "line": {
          "color": "green",
          "width": 2
         },
         "marker": {
          "size": 10,
          "symbol": "circle"
         },
         "mode": "lines+markers",
         "name": "Nabil Alioui (Le Havre) - Goal",
         "text": "Nabil Alioui (Le Havre)<br>Resultat: Goal<br>De: (100.5, 38.3)<br>A: (120.0, 37.2)",
         "type": "scatter",
         "x": [
          19.5,
          0
         ],
         "y": [
          41.7,
          42.8
         ]
        },
        {
         "hoverinfo": "text",
         "line": {
          "color": "orange",
          "width": 2
         },
         "marker": {
          "size": 10,
          "symbol": "circle"
         },
         "mode": "lines+markers",
         "name": "Nabil Alioui (Le Havre) - Blocked",
         "text": "Nabil Alioui (Le Havre)<br>Resultat: Blocked<br>De: (91.6, 31.6)<br>A: (93.9, 32.4)",
         "type": "scatter",
         "x": [
          28.400000000000006,
          26.099999999999994
         ],
         "y": [
          48.4,
          47.6
         ]
        },
        {
         "hoverinfo": "text",
         "line": {
          "color": "gray",
          "width": 2
         },
         "marker": {
          "size": 10,
          "symbol": "circle"
         },
         "mode": "lines+markers",
         "name": "Antoine Joujou (Le Havre) - Wayward",
         "text": "Antoine Joujou (Le Havre)<br>Resultat: Wayward<br>De: (109.6, 36.3)<br>A: (109.9, 39.7)",
         "type": "scatter",
         "x": [
          10.400000000000006,
          10.099999999999994
         ],
         "y": [
          43.7,
          40.3
         ]
        },
        {
         "hoverinfo": "text",
         "line": {
          "color": "orange",
          "width": 2
         },
         "marker": {
          "size": 10,
          "symbol": "circle"
         },
         "mode": "lines+markers",
         "name": "Abdoulaye Touré (Le Havre) - Blocked",
         "text": "Abdoulaye Touré (Le Havre)<br>Resultat: Blocked<br>De: (104.0, 43.5)<br>A: (109.6, 43.3)",
         "type": "scatter",
         "x": [
          16,
          10.400000000000006
         ],
         "y": [
          36.5,
          36.7
         ]
        },
        {
         "hoverinfo": "text",
         "line": {
          "color": "blue",
          "width": 2
         },
         "marker": {
          "size": 10,
          "symbol": "circle"
         },
         "mode": "lines+markers",
         "name": "Eli Junior Kroupi (Lorient) - Saved",
         "text": "Eli Junior Kroupi (Lorient)<br>Resultat: Saved<br>De: (105.3, 37.9)<br>A: (108.2, 38.6)",
         "type": "scatter",
         "x": [
          105.3,
          108.2
         ],
         "y": [
          37.9,
          38.6
         ]
        },
        {
         "hoverinfo": "text",
         "line": {
          "color": "purple",
          "width": 2
         },
         "marker": {
          "size": 10,
          "symbol": "circle"
         },
         "mode": "lines+markers",
         "name": "Rassoul N'Diaye (Le Havre) - Off T",
         "text": "Rassoul N'Diaye (Le Havre)<br>Resultat: Off T<br>De: (96.5, 42.7)<br>A: (120.0, 33.5)",
         "type": "scatter",
         "x": [
          23.5,
          0
         ],
         "y": [
          37.3,
          46.5
         ]
        },
        {
         "hoverinfo": "text",
         "line": {
          "color": "purple",
          "width": 2
         },
         "marker": {
          "size": 10,
          "symbol": "circle"
         },
         "mode": "lines+markers",
         "name": "Dembo Sylla (Lorient) - Off T",
         "text": "Dembo Sylla (Lorient)<br>Resultat: Off T<br>De: (113.3, 53.1)<br>A: (120.0, 32.1)",
         "type": "scatter",
         "x": [
          113.3,
          120
         ],
         "y": [
          53.1,
          32.1
         ]
        },
        {
         "hoverinfo": "text",
         "line": {
          "color": "purple",
          "width": 2
         },
         "marker": {
          "size": 10,
          "symbol": "circle"
         },
         "mode": "lines+markers",
         "name": "Mohamed Bayo (Le Havre) - Off T",
         "text": "Mohamed Bayo (Le Havre)<br>Resultat: Off T<br>De: (111.5, 44.7)<br>A: (120.0, 42.6)",
         "type": "scatter",
         "x": [
          8.5,
          0
         ],
         "y": [
          35.3,
          37.4
         ]
        },
        {
         "hoverinfo": "text",
         "line": {
          "color": "green",
          "width": 2
         },
         "marker": {
          "size": 10,
          "symbol": "circle"
         },
         "mode": "lines+markers",
         "name": "Nolan Mbemba (Le Havre) - Goal",
         "text": "Nolan Mbemba (Le Havre)<br>Resultat: Goal<br>De: (97.2, 48.5)<br>A: (120.0, 43.6)",
         "type": "scatter",
         "x": [
          22.799999999999997,
          0
         ],
         "y": [
          31.5,
          36.4
         ]
        }
       ],
       "layout": {
        "annotations": [
         {
          "arrowcolor": "blue",
          "arrowhead": 3,
          "arrowsize": 1,
          "arrowwidth": 2,
          "ax": 21.299999999999997,
          "axref": "x",
          "ay": 24.4,
          "ayref": "y",
          "showarrow": true,
          "x": 2.4000000000000057,
          "xref": "x",
          "y": 36.8,
          "yref": "y"
         },
         {
          "arrowcolor": "orange",
          "arrowhead": 3,
          "arrowsize": 1,
          "arrowwidth": 2,
          "ax": 110,
          "axref": "x",
          "ay": 26.7,
          "ayref": "y",
          "showarrow": true,
          "x": 111.7,
          "xref": "x",
          "y": 29.4,
          "yref": "y"
         },
         {
          "arrowcolor": "green",
          "arrowhead": 3,
          "arrowsize": 1,
          "arrowwidth": 2,
          "ax": 9.700000000000003,
          "axref": "x",
          "ay": 41.5,
          "ayref": "y",
          "showarrow": true,
          "x": 0,
          "xref": "x",
          "y": 41.9,
          "yref": "y"
         },
         {
          "arrowcolor": "purple",
          "arrowhead": 3,
          "arrowsize": 1,
          "arrowwidth": 2,
          "ax": 13.200000000000003,
          "axref": "x",
          "ay": 52.4,
          "ayref": "y",
          "showarrow": true,
          "x": 0,
          "xref": "x",
          "y": 35,
          "yref": "y"
         },
         {
          "arrowcolor": "green",
          "arrowhead": 3,
          "arrowsize": 1,
          "arrowwidth": 2,
          "ax": 19.5,
          "axref": "x",
          "ay": 41.7,
          "ayref": "y",
          "showarrow": true,
          "x": 0,
          "xref": "x",
          "y": 42.8,
          "yref": "y"
         },
         {
          "arrowcolor": "orange",
          "arrowhead": 3,
          "arrowsize": 1,
          "arrowwidth": 2,
          "ax": 28.400000000000006,
          "axref": "x",
          "ay": 48.4,
          "ayref": "y",
          "showarrow": true,
          "x": 26.099999999999994,
          "xref": "x",
          "y": 47.6,
          "yref": "y"
         },
         {
          "arrowcolor": "gray",
          "arrowhead": 3,
          "arrowsize": 1,
          "arrowwidth": 2,
          "ax": 10.400000000000006,
          "axref": "x",
          "ay": 43.7,
          "ayref": "y",
          "showarrow": true,
          "x": 10.099999999999994,
          "xref": "x",
          "y": 40.3,
          "yref": "y"
         },
         {
          "arrowcolor": "orange",
          "arrowhead": 3,
          "arrowsize": 1,
          "arrowwidth": 2,
          "ax": 16,
          "axref": "x",
          "ay": 36.5,
          "ayref": "y",
          "showarrow": true,
          "x": 10.400000000000006,
          "xref": "x",
          "y": 36.7,
          "yref": "y"
         },
         {
          "arrowcolor": "blue",
          "arrowhead": 3,
          "arrowsize": 1,
          "arrowwidth": 2,
          "ax": 105.3,
          "axref": "x",
          "ay": 37.9,
          "ayref": "y",
          "showarrow": true,
          "x": 108.2,
          "xref": "x",
          "y": 38.6,
          "yref": "y"
         },
         {
          "arrowcolor": "purple",
          "arrowhead": 3,
          "arrowsize": 1,
          "arrowwidth": 2,
          "ax": 23.5,
          "axref": "x",
          "ay": 37.3,
          "ayref": "y",
          "showarrow": true,
          "x": 0,
          "xref": "x",
          "y": 46.5,
          "yref": "y"
         },
         {
          "arrowcolor": "purple",
          "arrowhead": 3,
          "arrowsize": 1,
          "arrowwidth": 2,
          "ax": 113.3,
          "axref": "x",
          "ay": 53.1,
          "ayref": "y",
          "showarrow": true,
          "x": 120,
          "xref": "x",
          "y": 32.1,
          "yref": "y"
         },
         {
          "arrowcolor": "purple",
          "arrowhead": 3,
          "arrowsize": 1,
          "arrowwidth": 2,
          "ax": 8.5,
          "axref": "x",
          "ay": 35.3,
          "ayref": "y",
          "showarrow": true,
          "x": 0,
          "xref": "x",
          "y": 37.4,
          "yref": "y"
         },
         {
          "arrowcolor": "green",
          "arrowhead": 3,
          "arrowsize": 1,
          "arrowwidth": 2,
          "ax": 22.799999999999997,
          "axref": "x",
          "ay": 31.5,
          "ayref": "y",
          "showarrow": true,
          "x": 0,
          "xref": "x",
          "y": 36.4,
          "yref": "y"
         }
        ],
        "height": 700,
        "shapes": [
         {
          "line": {
           "color": "Black"
          },
          "type": "rect",
          "x0": 0,
          "x1": 120,
          "y0": 0,
          "y1": 80
         },
         {
          "line": {
           "color": "Black",
           "dash": "dot"
          },
          "type": "line",
          "x0": 60,
          "x1": 60,
          "y0": 0,
          "y1": 80
         },
         {
          "line": {
           "color": "Black"
          },
          "type": "rect",
          "x0": 0,
          "x1": 18,
          "y0": 18,
          "y1": 62
         },
         {
          "line": {
           "color": "Black"
          },
          "type": "rect",
          "x0": 102,
          "x1": 120,
          "y0": 18,
          "y1": 62
         },
         {
          "line": {
           "color": "Black"
          },
          "type": "rect",
          "x0": 0,
          "x1": 5.5,
          "y0": 30,
          "y1": 50
         },
         {
          "line": {
           "color": "Black"
          },
          "type": "rect",
          "x0": 114.5,
          "x1": 120,
          "y0": 30,
          "y1": 50
         },
         {
          "line": {
           "color": "Black"
          },
          "type": "rect",
          "x0": 0,
          "x1": 2,
          "y0": 36,
          "y1": 44
         },
         {
          "line": {
           "color": "Black"
          },
          "type": "rect",
          "x0": 118,
          "x1": 120,
          "y0": 36,
          "y1": 44
         },
         {
          "line": {
           "color": "Black"
          },
          "type": "circle",
          "x0": 50.4,
          "x1": 69.6,
          "xref": "x",
          "y0": 30.4,
          "y1": 49.6,
          "yref": "y"
         }
        ],
        "template": {
         "data": {
          "bar": [
           {
            "error_x": {
             "color": "#2a3f5f"
            },
            "error_y": {
             "color": "#2a3f5f"
            },
            "marker": {
             "line": {
              "color": "#E5ECF6",
              "width": 0.5
             },
             "pattern": {
              "fillmode": "overlay",
              "size": 10,
              "solidity": 0.2
             }
            },
            "type": "bar"
           }
          ],
          "barpolar": [
           {
            "marker": {
             "line": {
              "color": "#E5ECF6",
              "width": 0.5
             },
             "pattern": {
              "fillmode": "overlay",
              "size": 10,
              "solidity": 0.2
             }
            },
            "type": "barpolar"
           }
          ],
          "carpet": [
           {
            "aaxis": {
             "endlinecolor": "#2a3f5f",
             "gridcolor": "white",
             "linecolor": "white",
             "minorgridcolor": "white",
             "startlinecolor": "#2a3f5f"
            },
            "baxis": {
             "endlinecolor": "#2a3f5f",
             "gridcolor": "white",
             "linecolor": "white",
             "minorgridcolor": "white",
             "startlinecolor": "#2a3f5f"
            },
            "type": "carpet"
           }
          ],
          "choropleth": [
           {
            "colorbar": {
             "outlinewidth": 0,
             "ticks": ""
            },
            "type": "choropleth"
           }
          ],
          "contour": [
           {
            "colorbar": {
             "outlinewidth": 0,
             "ticks": ""
            },
            "colorscale": [
             [
              0,
              "#0d0887"
             ],
             [
              0.1111111111111111,
              "#46039f"
             ],
             [
              0.2222222222222222,
              "#7201a8"
             ],
             [
              0.3333333333333333,
              "#9c179e"
             ],
             [
              0.4444444444444444,
              "#bd3786"
             ],
             [
              0.5555555555555556,
              "#d8576b"
             ],
             [
              0.6666666666666666,
              "#ed7953"
             ],
             [
              0.7777777777777778,
              "#fb9f3a"
             ],
             [
              0.8888888888888888,
              "#fdca26"
             ],
             [
              1,
              "#f0f921"
             ]
            ],
            "type": "contour"
           }
          ],
          "contourcarpet": [
           {
            "colorbar": {
             "outlinewidth": 0,
             "ticks": ""
            },
            "type": "contourcarpet"
           }
          ],
          "heatmap": [
           {
            "colorbar": {
             "outlinewidth": 0,
             "ticks": ""
            },
            "colorscale": [
             [
              0,
              "#0d0887"
             ],
             [
              0.1111111111111111,
              "#46039f"
             ],
             [
              0.2222222222222222,
              "#7201a8"
             ],
             [
              0.3333333333333333,
              "#9c179e"
             ],
             [
              0.4444444444444444,
              "#bd3786"
             ],
             [
              0.5555555555555556,
              "#d8576b"
             ],
             [
              0.6666666666666666,
              "#ed7953"
             ],
             [
              0.7777777777777778,
              "#fb9f3a"
             ],
             [
              0.8888888888888888,
              "#fdca26"
             ],
             [
              1,
              "#f0f921"
             ]
            ],
            "type": "heatmap"
           }
          ],
          "heatmapgl": [
           {
            "colorbar": {
             "outlinewidth": 0,
             "ticks": ""
            },
            "colorscale": [
             [
              0,
              "#0d0887"
             ],
             [
              0.1111111111111111,
              "#46039f"
             ],
             [
              0.2222222222222222,
              "#7201a8"
             ],
             [
              0.3333333333333333,
              "#9c179e"
             ],
             [
              0.4444444444444444,
              "#bd3786"
             ],
             [
              0.5555555555555556,
              "#d8576b"
             ],
             [
              0.6666666666666666,
              "#ed7953"
             ],
             [
              0.7777777777777778,
              "#fb9f3a"
             ],
             [
              0.8888888888888888,
              "#fdca26"
             ],
             [
              1,
              "#f0f921"
             ]
            ],
            "type": "heatmapgl"
           }
          ],
          "histogram": [
           {
            "marker": {
             "pattern": {
              "fillmode": "overlay",
              "size": 10,
              "solidity": 0.2
             }
            },
            "type": "histogram"
           }
          ],
          "histogram2d": [
           {
            "colorbar": {
             "outlinewidth": 0,
             "ticks": ""
            },
            "colorscale": [
             [
              0,
              "#0d0887"
             ],
             [
              0.1111111111111111,
              "#46039f"
             ],
             [
              0.2222222222222222,
              "#7201a8"
             ],
             [
              0.3333333333333333,
              "#9c179e"
             ],
             [
              0.4444444444444444,
              "#bd3786"
             ],
             [
              0.5555555555555556,
              "#d8576b"
             ],
             [
              0.6666666666666666,
              "#ed7953"
             ],
             [
              0.7777777777777778,
              "#fb9f3a"
             ],
             [
              0.8888888888888888,
              "#fdca26"
             ],
             [
              1,
              "#f0f921"
             ]
            ],
            "type": "histogram2d"
           }
          ],
          "histogram2dcontour": [
           {
            "colorbar": {
             "outlinewidth": 0,
             "ticks": ""
            },
            "colorscale": [
             [
              0,
              "#0d0887"
             ],
             [
              0.1111111111111111,
              "#46039f"
             ],
             [
              0.2222222222222222,
              "#7201a8"
             ],
             [
              0.3333333333333333,
              "#9c179e"
             ],
             [
              0.4444444444444444,
              "#bd3786"
             ],
             [
              0.5555555555555556,
              "#d8576b"
             ],
             [
              0.6666666666666666,
              "#ed7953"
             ],
             [
              0.7777777777777778,
              "#fb9f3a"
             ],
             [
              0.8888888888888888,
              "#fdca26"
             ],
             [
              1,
              "#f0f921"
             ]
            ],
            "type": "histogram2dcontour"
           }
          ],
          "mesh3d": [
           {
            "colorbar": {
             "outlinewidth": 0,
             "ticks": ""
            },
            "type": "mesh3d"
           }
          ],
          "parcoords": [
           {
            "line": {
             "colorbar": {
              "outlinewidth": 0,
              "ticks": ""
             }
            },
            "type": "parcoords"
           }
          ],
          "pie": [
           {
            "automargin": true,
            "type": "pie"
           }
          ],
          "scatter": [
           {
            "fillpattern": {
             "fillmode": "overlay",
             "size": 10,
             "solidity": 0.2
            },
            "type": "scatter"
           }
          ],
          "scatter3d": [
           {
            "line": {
             "colorbar": {
              "outlinewidth": 0,
              "ticks": ""
             }
            },
            "marker": {
             "colorbar": {
              "outlinewidth": 0,
              "ticks": ""
             }
            },
            "type": "scatter3d"
           }
          ],
          "scattercarpet": [
           {
            "marker": {
             "colorbar": {
              "outlinewidth": 0,
              "ticks": ""
             }
            },
            "type": "scattercarpet"
           }
          ],
          "scattergeo": [
           {
            "marker": {
             "colorbar": {
              "outlinewidth": 0,
              "ticks": ""
             }
            },
            "type": "scattergeo"
           }
          ],
          "scattergl": [
           {
            "marker": {
             "colorbar": {
              "outlinewidth": 0,
              "ticks": ""
             }
            },
            "type": "scattergl"
           }
          ],
          "scattermapbox": [
           {
            "marker": {
             "colorbar": {
              "outlinewidth": 0,
              "ticks": ""
             }
            },
            "type": "scattermapbox"
           }
          ],
          "scatterpolar": [
           {
            "marker": {
             "colorbar": {
              "outlinewidth": 0,
              "ticks": ""
             }
            },
            "type": "scatterpolar"
           }
          ],
          "scatterpolargl": [
           {
            "marker": {
             "colorbar": {
              "outlinewidth": 0,
              "ticks": ""
             }
            },
            "type": "scatterpolargl"
           }
          ],
          "scatterternary": [
           {
            "marker": {
             "colorbar": {
              "outlinewidth": 0,
              "ticks": ""
             }
            },
            "type": "scatterternary"
           }
          ],
          "surface": [
           {
            "colorbar": {
             "outlinewidth": 0,
             "ticks": ""
            },
            "colorscale": [
             [
              0,
              "#0d0887"
             ],
             [
              0.1111111111111111,
              "#46039f"
             ],
             [
              0.2222222222222222,
              "#7201a8"
             ],
             [
              0.3333333333333333,
              "#9c179e"
             ],
             [
              0.4444444444444444,
              "#bd3786"
             ],
             [
              0.5555555555555556,
              "#d8576b"
             ],
             [
              0.6666666666666666,
              "#ed7953"
             ],
             [
              0.7777777777777778,
              "#fb9f3a"
             ],
             [
              0.8888888888888888,
              "#fdca26"
             ],
             [
              1,
              "#f0f921"
             ]
            ],
            "type": "surface"
           }
          ],
          "table": [
           {
            "cells": {
             "fill": {
              "color": "#EBF0F8"
             },
             "line": {
              "color": "white"
             }
            },
            "header": {
             "fill": {
              "color": "#C8D4E3"
             },
             "line": {
              "color": "white"
             }
            },
            "type": "table"
           }
          ]
         },
         "layout": {
          "annotationdefaults": {
           "arrowcolor": "#2a3f5f",
           "arrowhead": 0,
           "arrowwidth": 1
          },
          "autotypenumbers": "strict",
          "coloraxis": {
           "colorbar": {
            "outlinewidth": 0,
            "ticks": ""
           }
          },
          "colorscale": {
           "diverging": [
            [
             0,
             "#8e0152"
            ],
            [
             0.1,
             "#c51b7d"
            ],
            [
             0.2,
             "#de77ae"
            ],
            [
             0.3,
             "#f1b6da"
            ],
            [
             0.4,
             "#fde0ef"
            ],
            [
             0.5,
             "#f7f7f7"
            ],
            [
             0.6,
             "#e6f5d0"
            ],
            [
             0.7,
             "#b8e186"
            ],
            [
             0.8,
             "#7fbc41"
            ],
            [
             0.9,
             "#4d9221"
            ],
            [
             1,
             "#276419"
            ]
           ],
           "sequential": [
            [
             0,
             "#0d0887"
            ],
            [
             0.1111111111111111,
             "#46039f"
            ],
            [
             0.2222222222222222,
             "#7201a8"
            ],
            [
             0.3333333333333333,
             "#9c179e"
            ],
            [
             0.4444444444444444,
             "#bd3786"
            ],
            [
             0.5555555555555556,
             "#d8576b"
            ],
            [
             0.6666666666666666,
             "#ed7953"
            ],
            [
             0.7777777777777778,
             "#fb9f3a"
            ],
            [
             0.8888888888888888,
             "#fdca26"
            ],
            [
             1,
             "#f0f921"
            ]
           ],
           "sequentialminus": [
            [
             0,
             "#0d0887"
            ],
            [
             0.1111111111111111,
             "#46039f"
            ],
            [
             0.2222222222222222,
             "#7201a8"
            ],
            [
             0.3333333333333333,
             "#9c179e"
            ],
            [
             0.4444444444444444,
             "#bd3786"
            ],
            [
             0.5555555555555556,
             "#d8576b"
            ],
            [
             0.6666666666666666,
             "#ed7953"
            ],
            [
             0.7777777777777778,
             "#fb9f3a"
            ],
            [
             0.8888888888888888,
             "#fdca26"
            ],
            [
             1,
             "#f0f921"
            ]
           ]
          },
          "colorway": [
           "#636efa",
           "#EF553B",
           "#00cc96",
           "#ab63fa",
           "#FFA15A",
           "#19d3f3",
           "#FF6692",
           "#B6E880",
           "#FF97FF",
           "#FECB52"
          ],
          "font": {
           "color": "#2a3f5f"
          },
          "geo": {
           "bgcolor": "white",
           "lakecolor": "white",
           "landcolor": "#E5ECF6",
           "showlakes": true,
           "showland": true,
           "subunitcolor": "white"
          },
          "hoverlabel": {
           "align": "left"
          },
          "hovermode": "closest",
          "mapbox": {
           "style": "light"
          },
          "paper_bgcolor": "white",
          "plot_bgcolor": "#E5ECF6",
          "polar": {
           "angularaxis": {
            "gridcolor": "white",
            "linecolor": "white",
            "ticks": ""
           },
           "bgcolor": "#E5ECF6",
           "radialaxis": {
            "gridcolor": "white",
            "linecolor": "white",
            "ticks": ""
           }
          },
          "scene": {
           "xaxis": {
            "backgroundcolor": "#E5ECF6",
            "gridcolor": "white",
            "gridwidth": 2,
            "linecolor": "white",
            "showbackground": true,
            "ticks": "",
            "zerolinecolor": "white"
           },
           "yaxis": {
            "backgroundcolor": "#E5ECF6",
            "gridcolor": "white",
            "gridwidth": 2,
            "linecolor": "white",
            "showbackground": true,
            "ticks": "",
            "zerolinecolor": "white"
           },
           "zaxis": {
            "backgroundcolor": "#E5ECF6",
            "gridcolor": "white",
            "gridwidth": 2,
            "linecolor": "white",
            "showbackground": true,
            "ticks": "",
            "zerolinecolor": "white"
           }
          },
          "shapedefaults": {
           "line": {
            "color": "#2a3f5f"
           }
          },
          "ternary": {
           "aaxis": {
            "gridcolor": "white",
            "linecolor": "white",
            "ticks": ""
           },
           "baxis": {
            "gridcolor": "white",
            "linecolor": "white",
            "ticks": ""
           },
           "bgcolor": "#E5ECF6",
           "caxis": {
            "gridcolor": "white",
            "linecolor": "white",
            "ticks": ""
           }
          },
          "title": {
           "x": 0.05
          },
          "xaxis": {
           "automargin": true,
           "gridcolor": "white",
           "linecolor": "white",
           "ticks": "",
           "title": {
            "standoff": 15
           },
           "zerolinecolor": "white",
           "zerolinewidth": 2
          },
          "yaxis": {
           "automargin": true,
           "gridcolor": "white",
           "linecolor": "white",
           "ticks": "",
           "title": {
            "standoff": 15
           },
           "zerolinecolor": "white",
           "zerolinewidth": 2
          }
         }
        },
        "title": {
         "text": "Tirs du match Le Havre contre Lorient - Pendant la 2 période de jeu"
        },
        "width": 1000,
        "xaxis": {
         "range": [
          0,
          120
         ],
         "showgrid": false,
         "zeroline": false
        },
        "yaxis": {
         "autorange": "reversed",
         "range": [
          0,
          80
         ],
         "showgrid": false,
         "zeroline": false
        }
       }
      }
     },
     "metadata": {},
     "output_type": "display_data"
    }
   ],
   "source": [
    "Tirs(df_tirs, 'Le Havre', 'Lorient', 2)"
   ]
  }
 ],
 "metadata": {
  "kernelspec": {
   "display_name": "Python 3",
   "language": "python",
   "name": "python3"
  },
  "language_info": {
   "codemirror_mode": {
    "name": "ipython",
    "version": 3
   },
   "file_extension": ".py",
   "mimetype": "text/x-python",
   "name": "python",
   "nbconvert_exporter": "python",
   "pygments_lexer": "ipython3",
   "version": "3.10.12"
  },
  "orig_nbformat": 4
 },
 "nbformat": 4,
 "nbformat_minor": 2
}
