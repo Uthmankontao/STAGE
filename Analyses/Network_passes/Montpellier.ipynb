{
 "cells": [
  {
   "cell_type": "code",
   "execution_count": 1,
   "metadata": {},
   "outputs": [],
   "source": [
    "import sys\n",
    "sys.path.append('/home/UR/kontaous/Bureau/Stage/')\n",
    "from Analyses.traitement import *\n",
    "import pandas as pd\n",
    "import numpy as np\n",
    "from Analyses.traitement import *\n"
   ]
  },
  {
   "cell_type": "code",
   "execution_count": 2,
   "metadata": {},
   "outputs": [],
   "source": [
    "tracking = pd.read_csv(\"../../../Tracking_data/MontPellier(2)_(2)HAC.csv\")\n",
    "events = pd.read_csv(\"../../Data/match_data/match_Montpellier.csv\")\n",
    "tracking, events = prepare_data(tracking, events)\n",
    "tracking = tracking.sort_values(by=\"system_time\")\n",
    "tracking.set_index('frame', inplace=True)\n",
    "#tracking.rename(columns={'player_name': 'player.name', 'team': 'team.name', 'x': 'location.x', 'y': 'location.y', }, inplace=True)\n",
    "tracking.drop(['system_time', 'birthdate','x','y', 'Gx', 'Gy', 'id', 'num', 'player', 'Id_tracking', 'MatchId'], axis=1, inplace=True)\n",
    "tracking.rename(columns={'player_name': 'player.name', 'team': 'team.name'}, inplace=True)\n",
    "#data_tracking = \"../../../../Tracking_data/new_MontPellier.csv\"\n",
    "#sauvegarder_dataframe_en_csv(tracking, data_tracking)\n",
    "tracking = tracking[tracking['team.name'] == \"HAC\"]\n"
   ]
  },
  {
   "cell_type": "code",
   "execution_count": 3,
   "metadata": {},
   "outputs": [
    {
     "data": {
      "text/html": [
       "<div>\n",
       "<style scoped>\n",
       "    .dataframe tbody tr th:only-of-type {\n",
       "        vertical-align: middle;\n",
       "    }\n",
       "\n",
       "    .dataframe tbody tr th {\n",
       "        vertical-align: top;\n",
       "    }\n",
       "\n",
       "    .dataframe thead th {\n",
       "        text-align: right;\n",
       "    }\n",
       "</style>\n",
       "<table border=\"1\" class=\"dataframe\">\n",
       "  <thead>\n",
       "    <tr style=\"text-align: right;\">\n",
       "      <th></th>\n",
       "      <th>datetime</th>\n",
       "      <th>period</th>\n",
       "      <th>team.name</th>\n",
       "      <th>player.name</th>\n",
       "      <th>role</th>\n",
       "      <th>In</th>\n",
       "      <th>Out</th>\n",
       "    </tr>\n",
       "    <tr>\n",
       "      <th>frame</th>\n",
       "      <th></th>\n",
       "      <th></th>\n",
       "      <th></th>\n",
       "      <th></th>\n",
       "      <th></th>\n",
       "      <th></th>\n",
       "      <th></th>\n",
       "    </tr>\n",
       "  </thead>\n",
       "  <tbody>\n",
       "    <tr>\n",
       "      <th>0</th>\n",
       "      <td>2023-08-13 15:00:00</td>\n",
       "      <td>1</td>\n",
       "      <td>HAC</td>\n",
       "      <td>Loic Nego</td>\n",
       "      <td>Défenseur</td>\n",
       "      <td>1691938800000.0</td>\n",
       "      <td>1691943865720.0</td>\n",
       "    </tr>\n",
       "    <tr>\n",
       "      <th>0</th>\n",
       "      <td>2023-08-13 15:00:00</td>\n",
       "      <td>1</td>\n",
       "      <td>HAC</td>\n",
       "      <td>Oussama Targhalline</td>\n",
       "      <td>Milieu de terrain</td>\n",
       "      <td>1691938800000.0</td>\n",
       "      <td>0.0</td>\n",
       "    </tr>\n",
       "    <tr>\n",
       "      <th>0</th>\n",
       "      <td>2023-08-13 15:00:00</td>\n",
       "      <td>1</td>\n",
       "      <td>HAC</td>\n",
       "      <td>Arouna Sangante</td>\n",
       "      <td>Défenseur</td>\n",
       "      <td>1691938800000.0</td>\n",
       "      <td>0.0</td>\n",
       "    </tr>\n",
       "    <tr>\n",
       "      <th>0</th>\n",
       "      <td>2023-08-13 15:00:00</td>\n",
       "      <td>1</td>\n",
       "      <td>HAC</td>\n",
       "      <td>Issa Soumare</td>\n",
       "      <td>Attaquant</td>\n",
       "      <td>1691938800000.0</td>\n",
       "      <td>1691943343880.0</td>\n",
       "    </tr>\n",
       "    <tr>\n",
       "      <th>0</th>\n",
       "      <td>2023-08-13 15:00:00</td>\n",
       "      <td>1</td>\n",
       "      <td>HAC</td>\n",
       "      <td>Rassoul Ndiaye</td>\n",
       "      <td>Milieu de terrain</td>\n",
       "      <td>1691938800000.0</td>\n",
       "      <td>1691943887320.0</td>\n",
       "    </tr>\n",
       "    <tr>\n",
       "      <th>0</th>\n",
       "      <td>2023-08-13 15:00:00</td>\n",
       "      <td>1</td>\n",
       "      <td>HAC</td>\n",
       "      <td>Josue Casimir</td>\n",
       "      <td>Attaquant</td>\n",
       "      <td>1691938800000.0</td>\n",
       "      <td>0.0</td>\n",
       "    </tr>\n",
       "    <tr>\n",
       "      <th>0</th>\n",
       "      <td>2023-08-13 15:00:00</td>\n",
       "      <td>1</td>\n",
       "      <td>HAC</td>\n",
       "      <td>Gautier Lloris</td>\n",
       "      <td>Défenseur</td>\n",
       "      <td>1691938800000.0</td>\n",
       "      <td>0.0</td>\n",
       "    </tr>\n",
       "    <tr>\n",
       "      <th>0</th>\n",
       "      <td>2023-08-13 15:00:00</td>\n",
       "      <td>1</td>\n",
       "      <td>HAC</td>\n",
       "      <td>Daler Kuzyaev</td>\n",
       "      <td>Milieu de terrain</td>\n",
       "      <td>1691938800000.0</td>\n",
       "      <td>1691944804720.0</td>\n",
       "    </tr>\n",
       "    <tr>\n",
       "      <th>0</th>\n",
       "      <td>2023-08-13 15:00:00</td>\n",
       "      <td>1</td>\n",
       "      <td>HAC</td>\n",
       "      <td>Yoann Salmier</td>\n",
       "      <td>Défenseur</td>\n",
       "      <td>1691938800000.0</td>\n",
       "      <td>0.0</td>\n",
       "    </tr>\n",
       "    <tr>\n",
       "      <th>0</th>\n",
       "      <td>2023-08-13 15:00:00</td>\n",
       "      <td>1</td>\n",
       "      <td>HAC</td>\n",
       "      <td>Nabil Alioui</td>\n",
       "      <td>Attaquant</td>\n",
       "      <td>1691938800000.0</td>\n",
       "      <td>1691943336120.0</td>\n",
       "    </tr>\n",
       "    <tr>\n",
       "      <th>0</th>\n",
       "      <td>2023-08-13 15:00:00</td>\n",
       "      <td>1</td>\n",
       "      <td>HAC</td>\n",
       "      <td>Arthur Desmas</td>\n",
       "      <td>Gardien</td>\n",
       "      <td>1691938800000.0</td>\n",
       "      <td>0.0</td>\n",
       "    </tr>\n",
       "  </tbody>\n",
       "</table>\n",
       "</div>"
      ],
      "text/plain": [
       "                 datetime  period team.name          player.name  \\\n",
       "frame                                                              \n",
       "0     2023-08-13 15:00:00       1       HAC            Loic Nego   \n",
       "0     2023-08-13 15:00:00       1       HAC  Oussama Targhalline   \n",
       "0     2023-08-13 15:00:00       1       HAC      Arouna Sangante   \n",
       "0     2023-08-13 15:00:00       1       HAC         Issa Soumare   \n",
       "0     2023-08-13 15:00:00       1       HAC       Rassoul Ndiaye   \n",
       "0     2023-08-13 15:00:00       1       HAC        Josue Casimir   \n",
       "0     2023-08-13 15:00:00       1       HAC       Gautier Lloris   \n",
       "0     2023-08-13 15:00:00       1       HAC        Daler Kuzyaev   \n",
       "0     2023-08-13 15:00:00       1       HAC        Yoann Salmier   \n",
       "0     2023-08-13 15:00:00       1       HAC         Nabil Alioui   \n",
       "0     2023-08-13 15:00:00       1       HAC        Arthur Desmas   \n",
       "\n",
       "                    role               In              Out  \n",
       "frame                                                       \n",
       "0              Défenseur  1691938800000.0  1691943865720.0  \n",
       "0      Milieu de terrain  1691938800000.0              0.0  \n",
       "0              Défenseur  1691938800000.0              0.0  \n",
       "0              Attaquant  1691938800000.0  1691943343880.0  \n",
       "0      Milieu de terrain  1691938800000.0  1691943887320.0  \n",
       "0              Attaquant  1691938800000.0              0.0  \n",
       "0              Défenseur  1691938800000.0              0.0  \n",
       "0      Milieu de terrain  1691938800000.0  1691944804720.0  \n",
       "0              Défenseur  1691938800000.0              0.0  \n",
       "0              Attaquant  1691938800000.0  1691943336120.0  \n",
       "0                Gardien  1691938800000.0              0.0  "
      ]
     },
     "execution_count": 3,
     "metadata": {},
     "output_type": "execute_result"
    }
   ],
   "source": [
    "df_positions = tracking[:11]\n",
    "df_positions"
   ]
  },
  {
   "cell_type": "code",
   "execution_count": 4,
   "metadata": {},
   "outputs": [
    {
     "data": {
      "text/plain": [
       "array(['Nabil Alioui', 'Oussama Targhalline', 'Daler Kuzyaev',\n",
       "       'Arouna Sangante', 'Josue Casimir', 'Yoann Salmier', 'Loïc Négo',\n",
       "       'Arthur Desmas', \"Rassoul N'Diaye\", 'Gautier Lloris',\n",
       "       'Issa Soumaré', 'Andy Élysée Logbo', 'Antoine Joujou',\n",
       "       'Samuel Grandsir', 'Yassine Kechta', 'Abdoulaye Touré'],\n",
       "      dtype=object)"
      ]
     },
     "execution_count": 4,
     "metadata": {},
     "output_type": "execute_result"
    }
   ],
   "source": [
    "df_passes = pd.read_csv('../../Data/Tracking/montpellier_passes.csv')\n",
    "df_passes[df_passes['team.name'] == 'Le Havre']['player.name'].unique()\n"
   ]
  },
  {
   "cell_type": "code",
   "execution_count": 5,
   "metadata": {},
   "outputs": [
    {
     "data": {
      "text/html": [
       "<div>\n",
       "<style scoped>\n",
       "    .dataframe tbody tr th:only-of-type {\n",
       "        vertical-align: middle;\n",
       "    }\n",
       "\n",
       "    .dataframe tbody tr th {\n",
       "        vertical-align: top;\n",
       "    }\n",
       "\n",
       "    .dataframe thead th {\n",
       "        text-align: right;\n",
       "    }\n",
       "</style>\n",
       "<table border=\"1\" class=\"dataframe\">\n",
       "  <thead>\n",
       "    <tr style=\"text-align: right;\">\n",
       "      <th></th>\n",
       "      <th>datetime</th>\n",
       "      <th>team.name</th>\n",
       "      <th>period</th>\n",
       "      <th>player.name</th>\n",
       "      <th>pass.recipient.name</th>\n",
       "      <th>pass.length</th>\n",
       "    </tr>\n",
       "  </thead>\n",
       "  <tbody>\n",
       "    <tr>\n",
       "      <th>0</th>\n",
       "      <td>2023-08-13 00:00:00.474</td>\n",
       "      <td>Montpellier</td>\n",
       "      <td>1</td>\n",
       "      <td>Téji Savanier</td>\n",
       "      <td>Jordan Ferri</td>\n",
       "      <td>11.433723</td>\n",
       "    </tr>\n",
       "    <tr>\n",
       "      <th>1</th>\n",
       "      <td>2023-08-13 00:00:01.066</td>\n",
       "      <td>Le Havre</td>\n",
       "      <td>2</td>\n",
       "      <td>Nabil Alioui</td>\n",
       "      <td>Oussama Targhalline</td>\n",
       "      <td>11.815245</td>\n",
       "    </tr>\n",
       "    <tr>\n",
       "      <th>2</th>\n",
       "      <td>2023-08-13 00:00:02.175</td>\n",
       "      <td>Montpellier</td>\n",
       "      <td>1</td>\n",
       "      <td>Jordan Ferri</td>\n",
       "      <td>Falaye Sacko</td>\n",
       "      <td>22.375880</td>\n",
       "    </tr>\n",
       "    <tr>\n",
       "      <th>3</th>\n",
       "      <td>2023-08-13 00:00:02.815</td>\n",
       "      <td>Le Havre</td>\n",
       "      <td>2</td>\n",
       "      <td>Oussama Targhalline</td>\n",
       "      <td>Issa Soumare</td>\n",
       "      <td>52.500000</td>\n",
       "    </tr>\n",
       "    <tr>\n",
       "      <th>4</th>\n",
       "      <td>2023-08-13 00:00:05.783</td>\n",
       "      <td>Montpellier</td>\n",
       "      <td>1</td>\n",
       "      <td>Falaye Sacko</td>\n",
       "      <td>Christopher Jullien</td>\n",
       "      <td>15.508062</td>\n",
       "    </tr>\n",
       "    <tr>\n",
       "      <th>...</th>\n",
       "      <td>...</td>\n",
       "      <td>...</td>\n",
       "      <td>...</td>\n",
       "      <td>...</td>\n",
       "      <td>...</td>\n",
       "      <td>...</td>\n",
       "    </tr>\n",
       "    <tr>\n",
       "      <th>906</th>\n",
       "      <td>2023-08-13 00:51:58.203</td>\n",
       "      <td>Le Havre</td>\n",
       "      <td>1</td>\n",
       "      <td>Arthur Desmas</td>\n",
       "      <td>Issa Soumare</td>\n",
       "      <td>57.215470</td>\n",
       "    </tr>\n",
       "    <tr>\n",
       "      <th>907</th>\n",
       "      <td>2023-08-13 00:52:01.596</td>\n",
       "      <td>Montpellier</td>\n",
       "      <td>2</td>\n",
       "      <td>Christopher Jullien</td>\n",
       "      <td>Falaye Sacko</td>\n",
       "      <td>16.046183</td>\n",
       "    </tr>\n",
       "    <tr>\n",
       "      <th>908</th>\n",
       "      <td>2023-08-13 00:52:01.675</td>\n",
       "      <td>Montpellier</td>\n",
       "      <td>1</td>\n",
       "      <td>Christopher Jullien</td>\n",
       "      <td>Akor Jerome Adams</td>\n",
       "      <td>26.931395</td>\n",
       "    </tr>\n",
       "    <tr>\n",
       "      <th>909</th>\n",
       "      <td>2023-08-13 00:52:40.510</td>\n",
       "      <td>Montpellier</td>\n",
       "      <td>1</td>\n",
       "      <td>Jordan Ferri</td>\n",
       "      <td>Wahbi Khazri</td>\n",
       "      <td>9.948870</td>\n",
       "    </tr>\n",
       "    <tr>\n",
       "      <th>910</th>\n",
       "      <td>2023-08-13 00:52:42.341</td>\n",
       "      <td>Montpellier</td>\n",
       "      <td>1</td>\n",
       "      <td>Wahbi Khazri</td>\n",
       "      <td>Joris Chotard</td>\n",
       "      <td>12.541929</td>\n",
       "    </tr>\n",
       "  </tbody>\n",
       "</table>\n",
       "<p>911 rows × 6 columns</p>\n",
       "</div>"
      ],
      "text/plain": [
       "                    datetime    team.name  period          player.name  \\\n",
       "0    2023-08-13 00:00:00.474  Montpellier       1        Téji Savanier   \n",
       "1    2023-08-13 00:00:01.066     Le Havre       2         Nabil Alioui   \n",
       "2    2023-08-13 00:00:02.175  Montpellier       1         Jordan Ferri   \n",
       "3    2023-08-13 00:00:02.815     Le Havre       2  Oussama Targhalline   \n",
       "4    2023-08-13 00:00:05.783  Montpellier       1         Falaye Sacko   \n",
       "..                       ...          ...     ...                  ...   \n",
       "906  2023-08-13 00:51:58.203     Le Havre       1        Arthur Desmas   \n",
       "907  2023-08-13 00:52:01.596  Montpellier       2  Christopher Jullien   \n",
       "908  2023-08-13 00:52:01.675  Montpellier       1  Christopher Jullien   \n",
       "909  2023-08-13 00:52:40.510  Montpellier       1         Jordan Ferri   \n",
       "910  2023-08-13 00:52:42.341  Montpellier       1         Wahbi Khazri   \n",
       "\n",
       "     pass.recipient.name  pass.length  \n",
       "0           Jordan Ferri    11.433723  \n",
       "1    Oussama Targhalline    11.815245  \n",
       "2           Falaye Sacko    22.375880  \n",
       "3           Issa Soumare    52.500000  \n",
       "4    Christopher Jullien    15.508062  \n",
       "..                   ...          ...  \n",
       "906         Issa Soumare    57.215470  \n",
       "907         Falaye Sacko    16.046183  \n",
       "908    Akor Jerome Adams    26.931395  \n",
       "909         Wahbi Khazri     9.948870  \n",
       "910        Joris Chotard    12.541929  \n",
       "\n",
       "[911 rows x 6 columns]"
      ]
     },
     "execution_count": 5,
     "metadata": {},
     "output_type": "execute_result"
    }
   ],
   "source": [
    "modifications = {\n",
    "    \"Rassoul N'Diaye\": 'Rassoul Ndiaye',\n",
    "    'Loïc Négo': 'Loic Nego',\n",
    "    'Issa Soumaré' : 'Issa Soumare'\n",
    "}\n",
    "\n",
    "df_passes.replace({'player.name': modifications, 'pass.recipient.name': modifications}, inplace=True)\n",
    "df_passes"
   ]
  },
  {
   "cell_type": "code",
   "execution_count": 6,
   "metadata": {},
   "outputs": [
    {
     "data": {
      "application/vnd.plotly.v1+json": {
       "config": {
        "plotlyServerURL": "https://plot.ly"
       },
       "data": [
        {
         "hoverinfo": "text",
         "hovertext": "Joueur: Loic Nego<br>Nombre de passes effectuées: 29<br>Longueur moyenne des passes effectuées: 19.10 m<br>Nombre de passes reçues: 19<br>Longueur moyenne des passes reçues: 21.57 m",
         "marker": {
          "color": "blue",
          "size": 20
         },
         "mode": "markers+text",
         "text": [
          "Loic Nego"
         ],
         "textposition": "top center",
         "type": "scatter",
         "x": [
          12
         ],
         "y": [
          30
         ]
        },
        {
         "hoverinfo": "text",
         "hovertext": "Joueur: Oussama Targhalline<br>Nombre de passes effectuées: 57<br>Longueur moyenne des passes effectuées: 16.38 m<br>Nombre de passes reçues: 47<br>Longueur moyenne des passes reçues: 13.34 m",
         "marker": {
          "color": "blue",
          "size": 20
         },
         "mode": "markers+text",
         "text": [
          "Oussama Targhalline"
         ],
         "textposition": "top center",
         "type": "scatter",
         "x": [
          50
         ],
         "y": [
          40
         ]
        },
        {
         "hoverinfo": "text",
         "hovertext": "Joueur: Arouna Sangante<br>Nombre de passes effectuées: 28<br>Longueur moyenne des passes effectuées: 33.87 m<br>Nombre de passes reçues: 15<br>Longueur moyenne des passes reçues: 19.06 m",
         "marker": {
          "color": "blue",
          "size": 20
         },
         "mode": "markers+text",
         "text": [
          "Arouna Sangante"
         ],
         "textposition": "top center",
         "type": "scatter",
         "x": [
          12
         ],
         "y": [
          50
         ]
        },
        {
         "hoverinfo": "text",
         "hovertext": "Joueur: Issa Soumare<br>Nombre de passes effectuées: 14<br>Longueur moyenne des passes effectuées: 16.73 m<br>Nombre de passes reçues: 50<br>Longueur moyenne des passes reçues: 36.40 m",
         "marker": {
          "color": "blue",
          "size": 20
         },
         "mode": "markers+text",
         "text": [
          "Issa Soumare"
         ],
         "textposition": "top center",
         "type": "scatter",
         "x": [
          100
         ],
         "y": [
          10
         ]
        },
        {
         "hoverinfo": "text",
         "hovertext": "Joueur: Rassoul Ndiaye<br>Nombre de passes effectuées: 23<br>Longueur moyenne des passes effectuées: 19.04 m<br>Nombre de passes reçues: 28<br>Longueur moyenne des passes reçues: 15.06 m",
         "marker": {
          "color": "blue",
          "size": 20
         },
         "mode": "markers+text",
         "text": [
          "Rassoul Ndiaye"
         ],
         "textposition": "top center",
         "type": "scatter",
         "x": [
          80
         ],
         "y": [
          20
         ]
        },
        {
         "hoverinfo": "text",
         "hovertext": "Joueur: Josue Casimir<br>Nombre de passes effectuées: 38<br>Longueur moyenne des passes effectuées: 16.64 m<br>Nombre de passes reçues: 38<br>Longueur moyenne des passes reçues: 19.78 m",
         "marker": {
          "color": "blue",
          "size": 20
         },
         "mode": "markers+text",
         "text": [
          "Josue Casimir"
         ],
         "textposition": "top center",
         "type": "scatter",
         "x": [
          100
         ],
         "y": [
          70
         ]
        },
        {
         "hoverinfo": "text",
         "hovertext": "Joueur: Gautier Lloris<br>Nombre de passes effectuées: 32<br>Longueur moyenne des passes effectuées: 13.61 m<br>Nombre de passes reçues: 24<br>Longueur moyenne des passes reçues: 18.73 m",
         "marker": {
          "color": "blue",
          "size": 20
         },
         "mode": "markers+text",
         "text": [
          "Gautier Lloris"
         ],
         "textposition": "top center",
         "type": "scatter",
         "x": [
          25
         ],
         "y": [
          10
         ]
        },
        {
         "hoverinfo": "text",
         "hovertext": "Joueur: Daler Kuzyaev<br>Nombre de passes effectuées: 37<br>Longueur moyenne des passes effectuées: 15.20 m<br>Nombre de passes reçues: 31<br>Longueur moyenne des passes reçues: 13.66 m",
         "marker": {
          "color": "blue",
          "size": 20
         },
         "mode": "markers+text",
         "text": [
          "Daler Kuzyaev"
         ],
         "textposition": "top center",
         "type": "scatter",
         "x": [
          80
         ],
         "y": [
          60
         ]
        },
        {
         "hoverinfo": "text",
         "hovertext": "Joueur: Yoann Salmier<br>Nombre de passes effectuées: 30<br>Longueur moyenne des passes effectuées: 24.64 m<br>Nombre de passes reçues: 14<br>Longueur moyenne des passes reçues: 18.33 m",
         "marker": {
          "color": "blue",
          "size": 20
         },
         "mode": "markers+text",
         "text": [
          "Yoann Salmier"
         ],
         "textposition": "top center",
         "type": "scatter",
         "x": [
          25
         ],
         "y": [
          70
         ]
        },
        {
         "hoverinfo": "text",
         "hovertext": "Joueur: Nabil Alioui<br>Nombre de passes effectuées: 13<br>Longueur moyenne des passes effectuées: 21.49 m<br>Nombre de passes reçues: 29<br>Longueur moyenne des passes reçues: 23.48 m",
         "marker": {
          "color": "blue",
          "size": 20
         },
         "mode": "markers+text",
         "text": [
          "Nabil Alioui"
         ],
         "textposition": "top center",
         "type": "scatter",
         "x": [
          110
         ],
         "y": [
          40
         ]
        },
        {
         "hoverinfo": "text",
         "hovertext": "Joueur: Arthur Desmas<br>Nombre de passes effectuées: 23<br>Longueur moyenne des passes effectuées: 44.32 m<br>Nombre de passes reçues: 5<br>Longueur moyenne des passes reçues: 22.77 m",
         "marker": {
          "color": "blue",
          "size": 20
         },
         "mode": "markers+text",
         "text": [
          "Arthur Desmas"
         ],
         "textposition": "top center",
         "type": "scatter",
         "x": [
          3
         ],
         "y": [
          40
         ]
        },
        {
         "hoverinfo": "text",
         "hovertext": "Passes de Arouna Sangante à Gautier Lloris<br>Nombre de passes: 5<br>Longueur moyenne des passes: 21.21 m",
         "line": {
          "color": "red",
          "width": 1
         },
         "mode": "lines",
         "type": "scatter",
         "x": [
          12,
          25
         ],
         "y": [
          50,
          10
         ]
        },
        {
         "hoverinfo": "text",
         "hovertext": "Passes de Arouna Sangante à Issa Soumare<br>Nombre de passes: 4<br>Longueur moyenne des passes: 51.94 m",
         "line": {
          "color": "red",
          "width": 1
         },
         "mode": "lines",
         "type": "scatter",
         "x": [
          12,
          100
         ],
         "y": [
          50,
          10
         ]
        },
        {
         "hoverinfo": "text",
         "hovertext": "Passes de Arouna Sangante à Josue Casimir<br>Nombre de passes: 4<br>Longueur moyenne des passes: 33.33 m",
         "line": {
          "color": "red",
          "width": 1
         },
         "mode": "lines",
         "type": "scatter",
         "x": [
          12,
          100
         ],
         "y": [
          50,
          70
         ]
        },
        {
         "hoverinfo": "text",
         "hovertext": "Passes de Arouna Sangante à Loic Nego<br>Nombre de passes: 4<br>Longueur moyenne des passes: 46.11 m",
         "line": {
          "color": "red",
          "width": 1
         },
         "mode": "lines",
         "type": "scatter",
         "x": [
          12,
          12
         ],
         "y": [
          50,
          30
         ]
        },
        {
         "hoverinfo": "text",
         "hovertext": "Passes de Arouna Sangante à Nabil Alioui<br>Nombre de passes: 1<br>Longueur moyenne des passes: 57.73 m",
         "line": {
          "color": "red",
          "width": 1
         },
         "mode": "lines",
         "type": "scatter",
         "x": [
          12,
          110
         ],
         "y": [
          50,
          40
         ]
        },
        {
         "hoverinfo": "text",
         "hovertext": "Passes de Arouna Sangante à Oussama Targhalline<br>Nombre de passes: 2<br>Longueur moyenne des passes: 5.35 m",
         "line": {
          "color": "red",
          "width": 1
         },
         "mode": "lines",
         "type": "scatter",
         "x": [
          12,
          50
         ],
         "y": [
          50,
          40
         ]
        },
        {
         "hoverinfo": "text",
         "hovertext": "Passes de Arouna Sangante à Rassoul Ndiaye<br>Nombre de passes: 1<br>Longueur moyenne des passes: 29.92 m",
         "line": {
          "color": "red",
          "width": 1
         },
         "mode": "lines",
         "type": "scatter",
         "x": [
          12,
          80
         ],
         "y": [
          50,
          20
         ]
        },
        {
         "hoverinfo": "text",
         "hovertext": "Passes de Arouna Sangante à Yoann Salmier<br>Nombre de passes: 4<br>Longueur moyenne des passes: 19.19 m",
         "line": {
          "color": "red",
          "width": 1
         },
         "mode": "lines",
         "type": "scatter",
         "x": [
          12,
          25
         ],
         "y": [
          50,
          70
         ]
        },
        {
         "hoverinfo": "text",
         "hovertext": "Passes de Arthur Desmas à Arouna Sangante<br>Nombre de passes: 1<br>Longueur moyenne des passes: 12.80 m",
         "line": {
          "color": "red",
          "width": 1
         },
         "mode": "lines",
         "type": "scatter",
         "x": [
          3,
          12
         ],
         "y": [
          40,
          50
         ]
        },
        {
         "hoverinfo": "text",
         "hovertext": "Passes de Arthur Desmas à Daler Kuzyaev<br>Nombre de passes: 1<br>Longueur moyenne des passes: 21.86 m",
         "line": {
          "color": "red",
          "width": 1
         },
         "mode": "lines",
         "type": "scatter",
         "x": [
          3,
          80
         ],
         "y": [
          40,
          60
         ]
        },
        {
         "hoverinfo": "text",
         "hovertext": "Passes de Arthur Desmas à Gautier Lloris<br>Nombre de passes: 4<br>Longueur moyenne des passes: 21.14 m",
         "line": {
          "color": "red",
          "width": 1
         },
         "mode": "lines",
         "type": "scatter",
         "x": [
          3,
          25
         ],
         "y": [
          40,
          10
         ]
        },
        {
         "hoverinfo": "text",
         "hovertext": "Passes de Arthur Desmas à Issa Soumare<br>Nombre de passes: 8<br>Longueur moyenne des passes: 63.81 m",
         "line": {
          "color": "red",
          "width": 1
         },
         "mode": "lines",
         "type": "scatter",
         "x": [
          3,
          100
         ],
         "y": [
          40,
          10
         ]
        },
        {
         "hoverinfo": "text",
         "hovertext": "Passes de Arthur Desmas à Josue Casimir<br>Nombre de passes: 2<br>Longueur moyenne des passes: 43.38 m",
         "line": {
          "color": "red",
          "width": 1
         },
         "mode": "lines",
         "type": "scatter",
         "x": [
          3,
          100
         ],
         "y": [
          40,
          70
         ]
        },
        {
         "hoverinfo": "text",
         "hovertext": "Passes de Arthur Desmas à Nabil Alioui<br>Nombre de passes: 1<br>Longueur moyenne des passes: 73.36 m",
         "line": {
          "color": "red",
          "width": 1
         },
         "mode": "lines",
         "type": "scatter",
         "x": [
          3,
          110
         ],
         "y": [
          40,
          40
         ]
        },
        {
         "hoverinfo": "text",
         "hovertext": "Passes de Arthur Desmas à Oussama Targhalline<br>Nombre de passes: 2<br>Longueur moyenne des passes: 26.52 m",
         "line": {
          "color": "red",
          "width": 1
         },
         "mode": "lines",
         "type": "scatter",
         "x": [
          3,
          50
         ],
         "y": [
          40,
          40
         ]
        },
        {
         "hoverinfo": "text",
         "hovertext": "Passes de Arthur Desmas à Yoann Salmier<br>Nombre de passes: 1<br>Longueur moyenne des passes: 26.30 m",
         "line": {
          "color": "red",
          "width": 1
         },
         "mode": "lines",
         "type": "scatter",
         "x": [
          3,
          25
         ],
         "y": [
          40,
          70
         ]
        },
        {
         "hoverinfo": "text",
         "hovertext": "Passes de Daler Kuzyaev à Arouna Sangante<br>Nombre de passes: 1<br>Longueur moyenne des passes: 16.02 m",
         "line": {
          "color": "red",
          "width": 1
         },
         "mode": "lines",
         "type": "scatter",
         "x": [
          80,
          12
         ],
         "y": [
          60,
          50
         ]
        },
        {
         "hoverinfo": "text",
         "hovertext": "Passes de Daler Kuzyaev à Gautier Lloris<br>Nombre de passes: 3<br>Longueur moyenne des passes: 16.61 m",
         "line": {
          "color": "red",
          "width": 1
         },
         "mode": "lines",
         "type": "scatter",
         "x": [
          80,
          25
         ],
         "y": [
          60,
          10
         ]
        },
        {
         "hoverinfo": "text",
         "hovertext": "Passes de Daler Kuzyaev à Issa Soumare<br>Nombre de passes: 3<br>Longueur moyenne des passes: 15.74 m",
         "line": {
          "color": "red",
          "width": 1
         },
         "mode": "lines",
         "type": "scatter",
         "x": [
          80,
          100
         ],
         "y": [
          60,
          10
         ]
        },
        {
         "hoverinfo": "text",
         "hovertext": "Passes de Daler Kuzyaev à Josue Casimir<br>Nombre de passes: 8<br>Longueur moyenne des passes: 16.94 m",
         "line": {
          "color": "red",
          "width": 1
         },
         "mode": "lines",
         "type": "scatter",
         "x": [
          80,
          100
         ],
         "y": [
          60,
          70
         ]
        },
        {
         "hoverinfo": "text",
         "hovertext": "Passes de Daler Kuzyaev à Loic Nego<br>Nombre de passes: 2<br>Longueur moyenne des passes: 11.79 m",
         "line": {
          "color": "red",
          "width": 1
         },
         "mode": "lines",
         "type": "scatter",
         "x": [
          80,
          12
         ],
         "y": [
          60,
          30
         ]
        },
        {
         "hoverinfo": "text",
         "hovertext": "Passes de Daler Kuzyaev à Nabil Alioui<br>Nombre de passes: 3<br>Longueur moyenne des passes: 13.90 m",
         "line": {
          "color": "red",
          "width": 1
         },
         "mode": "lines",
         "type": "scatter",
         "x": [
          80,
          110
         ],
         "y": [
          60,
          40
         ]
        },
        {
         "hoverinfo": "text",
         "hovertext": "Passes de Daler Kuzyaev à Oussama Targhalline<br>Nombre de passes: 7<br>Longueur moyenne des passes: 13.05 m",
         "line": {
          "color": "red",
          "width": 1
         },
         "mode": "lines",
         "type": "scatter",
         "x": [
          80,
          50
         ],
         "y": [
          60,
          40
         ]
        },
        {
         "hoverinfo": "text",
         "hovertext": "Passes de Daler Kuzyaev à Rassoul Ndiaye<br>Nombre de passes: 4<br>Longueur moyenne des passes: 13.57 m",
         "line": {
          "color": "red",
          "width": 1
         },
         "mode": "lines",
         "type": "scatter",
         "x": [
          80,
          80
         ],
         "y": [
          60,
          20
         ]
        },
        {
         "hoverinfo": "text",
         "hovertext": "Passes de Gautier Lloris à Arouna Sangante<br>Nombre de passes: 4<br>Longueur moyenne des passes: 15.06 m",
         "line": {
          "color": "red",
          "width": 1
         },
         "mode": "lines",
         "type": "scatter",
         "x": [
          25,
          12
         ],
         "y": [
          10,
          50
         ]
        },
        {
         "hoverinfo": "text",
         "hovertext": "Passes de Gautier Lloris à Arthur Desmas<br>Nombre de passes: 2<br>Longueur moyenne des passes: 10.88 m",
         "line": {
          "color": "red",
          "width": 1
         },
         "mode": "lines",
         "type": "scatter",
         "x": [
          25,
          3
         ],
         "y": [
          10,
          40
         ]
        },
        {
         "hoverinfo": "text",
         "hovertext": "Passes de Gautier Lloris à Daler Kuzyaev<br>Nombre de passes: 5<br>Longueur moyenne des passes: 13.90 m",
         "line": {
          "color": "red",
          "width": 1
         },
         "mode": "lines",
         "type": "scatter",
         "x": [
          25,
          80
         ],
         "y": [
          10,
          60
         ]
        },
        {
         "hoverinfo": "text",
         "hovertext": "Passes de Gautier Lloris à Josue Casimir<br>Nombre de passes: 7<br>Longueur moyenne des passes: 13.30 m",
         "line": {
          "color": "red",
          "width": 1
         },
         "mode": "lines",
         "type": "scatter",
         "x": [
          25,
          100
         ],
         "y": [
          10,
          70
         ]
        },
        {
         "hoverinfo": "text",
         "hovertext": "Passes de Gautier Lloris à Nabil Alioui<br>Nombre de passes: 1<br>Longueur moyenne des passes: 36.67 m",
         "line": {
          "color": "red",
          "width": 1
         },
         "mode": "lines",
         "type": "scatter",
         "x": [
          25,
          110
         ],
         "y": [
          10,
          40
         ]
        },
        {
         "hoverinfo": "text",
         "hovertext": "Passes de Gautier Lloris à Oussama Targhalline<br>Nombre de passes: 4<br>Longueur moyenne des passes: 12.42 m",
         "line": {
          "color": "red",
          "width": 1
         },
         "mode": "lines",
         "type": "scatter",
         "x": [
          25,
          50
         ],
         "y": [
          10,
          40
         ]
        },
        {
         "hoverinfo": "text",
         "hovertext": "Passes de Gautier Lloris à Rassoul Ndiaye<br>Nombre de passes: 3<br>Longueur moyenne des passes: 11.69 m",
         "line": {
          "color": "red",
          "width": 1
         },
         "mode": "lines",
         "type": "scatter",
         "x": [
          25,
          80
         ],
         "y": [
          10,
          20
         ]
        },
        {
         "hoverinfo": "text",
         "hovertext": "Passes de Issa Soumare à Nabil Alioui<br>Nombre de passes: 10<br>Longueur moyenne des passes: 18.25 m",
         "line": {
          "color": "red",
          "width": 1
         },
         "mode": "lines",
         "type": "scatter",
         "x": [
          100,
          110
         ],
         "y": [
          10,
          40
         ]
        },
        {
         "hoverinfo": "text",
         "hovertext": "Passes de Issa Soumare à Rassoul Ndiaye<br>Nombre de passes: 3<br>Longueur moyenne des passes: 9.94 m",
         "line": {
          "color": "red",
          "width": 1
         },
         "mode": "lines",
         "type": "scatter",
         "x": [
          100,
          80
         ],
         "y": [
          10,
          20
         ]
        },
        {
         "hoverinfo": "text",
         "hovertext": "Passes de Issa Soumare à Yoann Salmier<br>Nombre de passes: 1<br>Longueur moyenne des passes: 21.92 m",
         "line": {
          "color": "red",
          "width": 1
         },
         "mode": "lines",
         "type": "scatter",
         "x": [
          100,
          25
         ],
         "y": [
          10,
          70
         ]
        },
        {
         "hoverinfo": "text",
         "hovertext": "Passes de Josue Casimir à Daler Kuzyaev<br>Nombre de passes: 1<br>Longueur moyenne des passes: 3.77 m",
         "line": {
          "color": "red",
          "width": 1
         },
         "mode": "lines",
         "type": "scatter",
         "x": [
          100,
          80
         ],
         "y": [
          70,
          60
         ]
        },
        {
         "hoverinfo": "text",
         "hovertext": "Passes de Josue Casimir à Gautier Lloris<br>Nombre de passes: 5<br>Longueur moyenne des passes: 9.93 m",
         "line": {
          "color": "red",
          "width": 1
         },
         "mode": "lines",
         "type": "scatter",
         "x": [
          100,
          25
         ],
         "y": [
          70,
          10
         ]
        },
        {
         "hoverinfo": "text",
         "hovertext": "Passes de Josue Casimir à Issa Soumare<br>Nombre de passes: 6<br>Longueur moyenne des passes: 30.97 m",
         "line": {
          "color": "red",
          "width": 1
         },
         "mode": "lines",
         "type": "scatter",
         "x": [
          100,
          100
         ],
         "y": [
          70,
          10
         ]
        },
        {
         "hoverinfo": "text",
         "hovertext": "Passes de Josue Casimir à Nabil Alioui<br>Nombre de passes: 5<br>Longueur moyenne des passes: 20.04 m",
         "line": {
          "color": "red",
          "width": 1
         },
         "mode": "lines",
         "type": "scatter",
         "x": [
          100,
          110
         ],
         "y": [
          70,
          40
         ]
        },
        {
         "hoverinfo": "text",
         "hovertext": "Passes de Josue Casimir à Oussama Targhalline<br>Nombre de passes: 6<br>Longueur moyenne des passes: 11.78 m",
         "line": {
          "color": "red",
          "width": 1
         },
         "mode": "lines",
         "type": "scatter",
         "x": [
          100,
          50
         ],
         "y": [
          70,
          40
         ]
        },
        {
         "hoverinfo": "text",
         "hovertext": "Passes de Josue Casimir à Rassoul Ndiaye<br>Nombre de passes: 1<br>Longueur moyenne des passes: 11.23 m",
         "line": {
          "color": "red",
          "width": 1
         },
         "mode": "lines",
         "type": "scatter",
         "x": [
          100,
          80
         ],
         "y": [
          70,
          20
         ]
        },
        {
         "hoverinfo": "text",
         "hovertext": "Passes de Loic Nego à Arouna Sangante<br>Nombre de passes: 2<br>Longueur moyenne des passes: 24.94 m",
         "line": {
          "color": "red",
          "width": 1
         },
         "mode": "lines",
         "type": "scatter",
         "x": [
          12,
          12
         ],
         "y": [
          30,
          50
         ]
        },
        {
         "hoverinfo": "text",
         "hovertext": "Passes de Loic Nego à Daler Kuzyaev<br>Nombre de passes: 1<br>Longueur moyenne des passes: 11.46 m",
         "line": {
          "color": "red",
          "width": 1
         },
         "mode": "lines",
         "type": "scatter",
         "x": [
          12,
          80
         ],
         "y": [
          30,
          60
         ]
        },
        {
         "hoverinfo": "text",
         "hovertext": "Passes de Loic Nego à Issa Soumare<br>Nombre de passes: 6<br>Longueur moyenne des passes: 21.91 m",
         "line": {
          "color": "red",
          "width": 1
         },
         "mode": "lines",
         "type": "scatter",
         "x": [
          12,
          100
         ],
         "y": [
          30,
          10
         ]
        },
        {
         "hoverinfo": "text",
         "hovertext": "Passes de Loic Nego à Nabil Alioui<br>Nombre de passes: 4<br>Longueur moyenne des passes: 29.48 m",
         "line": {
          "color": "red",
          "width": 1
         },
         "mode": "lines",
         "type": "scatter",
         "x": [
          12,
          110
         ],
         "y": [
          30,
          40
         ]
        },
        {
         "hoverinfo": "text",
         "hovertext": "Passes de Loic Nego à Oussama Targhalline<br>Nombre de passes: 8<br>Longueur moyenne des passes: 12.20 m",
         "line": {
          "color": "red",
          "width": 1
         },
         "mode": "lines",
         "type": "scatter",
         "x": [
          12,
          50
         ],
         "y": [
          30,
          40
         ]
        },
        {
         "hoverinfo": "text",
         "hovertext": "Passes de Loic Nego à Rassoul Ndiaye<br>Nombre de passes: 5<br>Longueur moyenne des passes: 20.12 m",
         "line": {
          "color": "red",
          "width": 1
         },
         "mode": "lines",
         "type": "scatter",
         "x": [
          12,
          80
         ],
         "y": [
          30,
          20
         ]
        },
        {
         "hoverinfo": "text",
         "hovertext": "Passes de Loic Nego à Yoann Salmier<br>Nombre de passes: 2<br>Longueur moyenne des passes: 14.96 m",
         "line": {
          "color": "red",
          "width": 1
         },
         "mode": "lines",
         "type": "scatter",
         "x": [
          12,
          25
         ],
         "y": [
          30,
          70
         ]
        },
        {
         "hoverinfo": "text",
         "hovertext": "Passes de Nabil Alioui à Arouna Sangante<br>Nombre de passes: 1<br>Longueur moyenne des passes: 20.81 m",
         "line": {
          "color": "red",
          "width": 1
         },
         "mode": "lines",
         "type": "scatter",
         "x": [
          110,
          12
         ],
         "y": [
          40,
          50
         ]
        },
        {
         "hoverinfo": "text",
         "hovertext": "Passes de Nabil Alioui à Daler Kuzyaev<br>Nombre de passes: 1<br>Longueur moyenne des passes: 5.84 m",
         "line": {
          "color": "red",
          "width": 1
         },
         "mode": "lines",
         "type": "scatter",
         "x": [
          110,
          80
         ],
         "y": [
          40,
          60
         ]
        },
        {
         "hoverinfo": "text",
         "hovertext": "Passes de Nabil Alioui à Issa Soumare<br>Nombre de passes: 7<br>Longueur moyenne des passes: 24.41 m",
         "line": {
          "color": "red",
          "width": 1
         },
         "mode": "lines",
         "type": "scatter",
         "x": [
          110,
          100
         ],
         "y": [
          40,
          10
         ]
        },
        {
         "hoverinfo": "text",
         "hovertext": "Passes de Nabil Alioui à Josue Casimir<br>Nombre de passes: 1<br>Longueur moyenne des passes: 14.99 m",
         "line": {
          "color": "red",
          "width": 1
         },
         "mode": "lines",
         "type": "scatter",
         "x": [
          110,
          100
         ],
         "y": [
          40,
          70
         ]
        },
        {
         "hoverinfo": "text",
         "hovertext": "Passes de Nabil Alioui à Loic Nego<br>Nombre de passes: 1<br>Longueur moyenne des passes: 22.26 m",
         "line": {
          "color": "red",
          "width": 1
         },
         "mode": "lines",
         "type": "scatter",
         "x": [
          110,
          12
         ],
         "y": [
          40,
          30
         ]
        },
        {
         "hoverinfo": "text",
         "hovertext": "Passes de Nabil Alioui à Oussama Targhalline<br>Nombre de passes: 1<br>Longueur moyenne des passes: 11.82 m",
         "line": {
          "color": "red",
          "width": 1
         },
         "mode": "lines",
         "type": "scatter",
         "x": [
          110,
          50
         ],
         "y": [
          40,
          40
         ]
        },
        {
         "hoverinfo": "text",
         "hovertext": "Passes de Nabil Alioui à Yoann Salmier<br>Nombre de passes: 1<br>Longueur moyenne des passes: 32.74 m",
         "line": {
          "color": "red",
          "width": 1
         },
         "mode": "lines",
         "type": "scatter",
         "x": [
          110,
          25
         ],
         "y": [
          40,
          70
         ]
        },
        {
         "hoverinfo": "text",
         "hovertext": "Passes de Oussama Targhalline à Daler Kuzyaev<br>Nombre de passes: 6<br>Longueur moyenne des passes: 11.16 m",
         "line": {
          "color": "red",
          "width": 1
         },
         "mode": "lines",
         "type": "scatter",
         "x": [
          50,
          80
         ],
         "y": [
          40,
          60
         ]
        },
        {
         "hoverinfo": "text",
         "hovertext": "Passes de Oussama Targhalline à Gautier Lloris<br>Nombre de passes: 2<br>Longueur moyenne des passes: 18.91 m",
         "line": {
          "color": "red",
          "width": 1
         },
         "mode": "lines",
         "type": "scatter",
         "x": [
          50,
          25
         ],
         "y": [
          40,
          10
         ]
        },
        {
         "hoverinfo": "text",
         "hovertext": "Passes de Oussama Targhalline à Issa Soumare<br>Nombre de passes: 7<br>Longueur moyenne des passes: 24.20 m",
         "line": {
          "color": "red",
          "width": 1
         },
         "mode": "lines",
         "type": "scatter",
         "x": [
          50,
          100
         ],
         "y": [
          40,
          10
         ]
        },
        {
         "hoverinfo": "text",
         "hovertext": "Passes de Oussama Targhalline à Josue Casimir<br>Nombre de passes: 9<br>Longueur moyenne des passes: 18.89 m",
         "line": {
          "color": "red",
          "width": 1
         },
         "mode": "lines",
         "type": "scatter",
         "x": [
          50,
          100
         ],
         "y": [
          40,
          70
         ]
        },
        {
         "hoverinfo": "text",
         "hovertext": "Passes de Oussama Targhalline à Loic Nego<br>Nombre de passes: 4<br>Longueur moyenne des passes: 12.71 m",
         "line": {
          "color": "red",
          "width": 1
         },
         "mode": "lines",
         "type": "scatter",
         "x": [
          50,
          12
         ],
         "y": [
          40,
          30
         ]
        },
        {
         "hoverinfo": "text",
         "hovertext": "Passes de Oussama Targhalline à Nabil Alioui<br>Nombre de passes: 2<br>Longueur moyenne des passes: 15.61 m",
         "line": {
          "color": "red",
          "width": 1
         },
         "mode": "lines",
         "type": "scatter",
         "x": [
          50,
          110
         ],
         "y": [
          40,
          40
         ]
        },
        {
         "hoverinfo": "text",
         "hovertext": "Passes de Oussama Targhalline à Rassoul Ndiaye<br>Nombre de passes: 9<br>Longueur moyenne des passes: 14.18 m",
         "line": {
          "color": "red",
          "width": 1
         },
         "mode": "lines",
         "type": "scatter",
         "x": [
          50,
          80
         ],
         "y": [
          40,
          20
         ]
        },
        {
         "hoverinfo": "text",
         "hovertext": "Passes de Oussama Targhalline à Yoann Salmier<br>Nombre de passes: 1<br>Longueur moyenne des passes: 21.36 m",
         "line": {
          "color": "red",
          "width": 1
         },
         "mode": "lines",
         "type": "scatter",
         "x": [
          50,
          25
         ],
         "y": [
          40,
          70
         ]
        },
        {
         "hoverinfo": "text",
         "hovertext": "Passes de Rassoul Ndiaye à Arthur Desmas<br>Nombre de passes: 1<br>Longueur moyenne des passes: 27.52 m",
         "line": {
          "color": "red",
          "width": 1
         },
         "mode": "lines",
         "type": "scatter",
         "x": [
          80,
          3
         ],
         "y": [
          20,
          40
         ]
        },
        {
         "hoverinfo": "text",
         "hovertext": "Passes de Rassoul Ndiaye à Gautier Lloris<br>Nombre de passes: 3<br>Longueur moyenne des passes: 21.17 m",
         "line": {
          "color": "red",
          "width": 1
         },
         "mode": "lines",
         "type": "scatter",
         "x": [
          80,
          25
         ],
         "y": [
          20,
          10
         ]
        },
        {
         "hoverinfo": "text",
         "hovertext": "Passes de Rassoul Ndiaye à Issa Soumare<br>Nombre de passes: 3<br>Longueur moyenne des passes: 32.10 m",
         "line": {
          "color": "red",
          "width": 1
         },
         "mode": "lines",
         "type": "scatter",
         "x": [
          80,
          100
         ],
         "y": [
          20,
          10
         ]
        },
        {
         "hoverinfo": "text",
         "hovertext": "Passes de Rassoul Ndiaye à Josue Casimir<br>Nombre de passes: 3<br>Longueur moyenne des passes: 19.74 m",
         "line": {
          "color": "red",
          "width": 1
         },
         "mode": "lines",
         "type": "scatter",
         "x": [
          80,
          100
         ],
         "y": [
          20,
          70
         ]
        },
        {
         "hoverinfo": "text",
         "hovertext": "Passes de Rassoul Ndiaye à Loic Nego<br>Nombre de passes: 5<br>Longueur moyenne des passes: 15.75 m",
         "line": {
          "color": "red",
          "width": 1
         },
         "mode": "lines",
         "type": "scatter",
         "x": [
          80,
          12
         ],
         "y": [
          20,
          30
         ]
        },
        {
         "hoverinfo": "text",
         "hovertext": "Passes de Rassoul Ndiaye à Nabil Alioui<br>Nombre de passes: 1<br>Longueur moyenne des passes: 13.44 m",
         "line": {
          "color": "red",
          "width": 1
         },
         "mode": "lines",
         "type": "scatter",
         "x": [
          80,
          110
         ],
         "y": [
          20,
          40
         ]
        },
        {
         "hoverinfo": "text",
         "hovertext": "Passes de Rassoul Ndiaye à Oussama Targhalline<br>Nombre de passes: 4<br>Longueur moyenne des passes: 9.02 m",
         "line": {
          "color": "red",
          "width": 1
         },
         "mode": "lines",
         "type": "scatter",
         "x": [
          80,
          50
         ],
         "y": [
          20,
          40
         ]
        },
        {
         "hoverinfo": "text",
         "hovertext": "Passes de Rassoul Ndiaye à Yoann Salmier<br>Nombre de passes: 1<br>Longueur moyenne des passes: 15.07 m",
         "line": {
          "color": "red",
          "width": 1
         },
         "mode": "lines",
         "type": "scatter",
         "x": [
          80,
          25
         ],
         "y": [
          20,
          70
         ]
        },
        {
         "hoverinfo": "text",
         "hovertext": "Passes de Yoann Salmier à Arouna Sangante<br>Nombre de passes: 4<br>Longueur moyenne des passes: 21.91 m",
         "line": {
          "color": "red",
          "width": 1
         },
         "mode": "lines",
         "type": "scatter",
         "x": [
          25,
          12
         ],
         "y": [
          70,
          50
         ]
        },
        {
         "hoverinfo": "text",
         "hovertext": "Passes de Yoann Salmier à Arthur Desmas<br>Nombre de passes: 1<br>Longueur moyenne des passes: 40.71 m",
         "line": {
          "color": "red",
          "width": 1
         },
         "mode": "lines",
         "type": "scatter",
         "x": [
          25,
          3
         ],
         "y": [
          70,
          40
         ]
        },
        {
         "hoverinfo": "text",
         "hovertext": "Passes de Yoann Salmier à Daler Kuzyaev<br>Nombre de passes: 2<br>Longueur moyenne des passes: 14.92 m",
         "line": {
          "color": "red",
          "width": 1
         },
         "mode": "lines",
         "type": "scatter",
         "x": [
          25,
          80
         ],
         "y": [
          70,
          60
         ]
        },
        {
         "hoverinfo": "text",
         "hovertext": "Passes de Yoann Salmier à Issa Soumare<br>Nombre de passes: 6<br>Longueur moyenne des passes: 50.12 m",
         "line": {
          "color": "red",
          "width": 1
         },
         "mode": "lines",
         "type": "scatter",
         "x": [
          25,
          100
         ],
         "y": [
          70,
          10
         ]
        },
        {
         "hoverinfo": "text",
         "hovertext": "Passes de Yoann Salmier à Loic Nego<br>Nombre de passes: 2<br>Longueur moyenne des passes: 17.39 m",
         "line": {
          "color": "red",
          "width": 1
         },
         "mode": "lines",
         "type": "scatter",
         "x": [
          25,
          12
         ],
         "y": [
          70,
          30
         ]
        },
        {
         "hoverinfo": "text",
         "hovertext": "Passes de Yoann Salmier à Nabil Alioui<br>Nombre de passes: 1<br>Longueur moyenne des passes: 26.06 m",
         "line": {
          "color": "red",
          "width": 1
         },
         "mode": "lines",
         "type": "scatter",
         "x": [
          25,
          110
         ],
         "y": [
          70,
          40
         ]
        },
        {
         "hoverinfo": "text",
         "hovertext": "Passes de Yoann Salmier à Oussama Targhalline<br>Nombre de passes: 4<br>Longueur moyenne des passes: 20.20 m",
         "line": {
          "color": "red",
          "width": 1
         },
         "mode": "lines",
         "type": "scatter",
         "x": [
          25,
          50
         ],
         "y": [
          70,
          40
         ]
        },
        {
         "hoverinfo": "text",
         "hovertext": "Passes de Yoann Salmier à Rassoul Ndiaye<br>Nombre de passes: 2<br>Longueur moyenne des passes: 16.60 m",
         "line": {
          "color": "red",
          "width": 1
         },
         "mode": "lines",
         "type": "scatter",
         "x": [
          25,
          80
         ],
         "y": [
          70,
          20
         ]
        }
       ],
       "layout": {
        "height": 900,
        "shapes": [
         {
          "line": {
           "color": "Black"
          },
          "type": "rect",
          "x0": 0,
          "x1": 120,
          "y0": 0,
          "y1": 80
         },
         {
          "line": {
           "color": "Black",
           "dash": "dot"
          },
          "type": "line",
          "x0": 60,
          "x1": 60,
          "y0": 0,
          "y1": 80
         },
         {
          "line": {
           "color": "Black"
          },
          "type": "rect",
          "x0": 0,
          "x1": 18,
          "y0": 18,
          "y1": 62
         },
         {
          "line": {
           "color": "Black"
          },
          "type": "rect",
          "x0": 102,
          "x1": 120,
          "y0": 18,
          "y1": 62
         },
         {
          "line": {
           "color": "Black"
          },
          "type": "rect",
          "x0": 0,
          "x1": 5.5,
          "y0": 30,
          "y1": 50
         },
         {
          "line": {
           "color": "Black"
          },
          "type": "rect",
          "x0": 114.5,
          "x1": 120,
          "y0": 30,
          "y1": 50
         },
         {
          "line": {
           "color": "Black"
          },
          "type": "rect",
          "x0": 0,
          "x1": 2,
          "y0": 36,
          "y1": 44
         },
         {
          "line": {
           "color": "Black"
          },
          "type": "rect",
          "x0": 118,
          "x1": 120,
          "y0": 36,
          "y1": 44
         },
         {
          "line": {
           "color": "Black"
          },
          "type": "circle",
          "x0": 50.4,
          "x1": 69.6,
          "xref": "x",
          "y0": 30.4,
          "y1": 49.6,
          "yref": "y"
         }
        ],
        "template": {
         "data": {
          "bar": [
           {
            "error_x": {
             "color": "#2a3f5f"
            },
            "error_y": {
             "color": "#2a3f5f"
            },
            "marker": {
             "line": {
              "color": "#E5ECF6",
              "width": 0.5
             },
             "pattern": {
              "fillmode": "overlay",
              "size": 10,
              "solidity": 0.2
             }
            },
            "type": "bar"
           }
          ],
          "barpolar": [
           {
            "marker": {
             "line": {
              "color": "#E5ECF6",
              "width": 0.5
             },
             "pattern": {
              "fillmode": "overlay",
              "size": 10,
              "solidity": 0.2
             }
            },
            "type": "barpolar"
           }
          ],
          "carpet": [
           {
            "aaxis": {
             "endlinecolor": "#2a3f5f",
             "gridcolor": "white",
             "linecolor": "white",
             "minorgridcolor": "white",
             "startlinecolor": "#2a3f5f"
            },
            "baxis": {
             "endlinecolor": "#2a3f5f",
             "gridcolor": "white",
             "linecolor": "white",
             "minorgridcolor": "white",
             "startlinecolor": "#2a3f5f"
            },
            "type": "carpet"
           }
          ],
          "choropleth": [
           {
            "colorbar": {
             "outlinewidth": 0,
             "ticks": ""
            },
            "type": "choropleth"
           }
          ],
          "contour": [
           {
            "colorbar": {
             "outlinewidth": 0,
             "ticks": ""
            },
            "colorscale": [
             [
              0,
              "#0d0887"
             ],
             [
              0.1111111111111111,
              "#46039f"
             ],
             [
              0.2222222222222222,
              "#7201a8"
             ],
             [
              0.3333333333333333,
              "#9c179e"
             ],
             [
              0.4444444444444444,
              "#bd3786"
             ],
             [
              0.5555555555555556,
              "#d8576b"
             ],
             [
              0.6666666666666666,
              "#ed7953"
             ],
             [
              0.7777777777777778,
              "#fb9f3a"
             ],
             [
              0.8888888888888888,
              "#fdca26"
             ],
             [
              1,
              "#f0f921"
             ]
            ],
            "type": "contour"
           }
          ],
          "contourcarpet": [
           {
            "colorbar": {
             "outlinewidth": 0,
             "ticks": ""
            },
            "type": "contourcarpet"
           }
          ],
          "heatmap": [
           {
            "colorbar": {
             "outlinewidth": 0,
             "ticks": ""
            },
            "colorscale": [
             [
              0,
              "#0d0887"
             ],
             [
              0.1111111111111111,
              "#46039f"
             ],
             [
              0.2222222222222222,
              "#7201a8"
             ],
             [
              0.3333333333333333,
              "#9c179e"
             ],
             [
              0.4444444444444444,
              "#bd3786"
             ],
             [
              0.5555555555555556,
              "#d8576b"
             ],
             [
              0.6666666666666666,
              "#ed7953"
             ],
             [
              0.7777777777777778,
              "#fb9f3a"
             ],
             [
              0.8888888888888888,
              "#fdca26"
             ],
             [
              1,
              "#f0f921"
             ]
            ],
            "type": "heatmap"
           }
          ],
          "heatmapgl": [
           {
            "colorbar": {
             "outlinewidth": 0,
             "ticks": ""
            },
            "colorscale": [
             [
              0,
              "#0d0887"
             ],
             [
              0.1111111111111111,
              "#46039f"
             ],
             [
              0.2222222222222222,
              "#7201a8"
             ],
             [
              0.3333333333333333,
              "#9c179e"
             ],
             [
              0.4444444444444444,
              "#bd3786"
             ],
             [
              0.5555555555555556,
              "#d8576b"
             ],
             [
              0.6666666666666666,
              "#ed7953"
             ],
             [
              0.7777777777777778,
              "#fb9f3a"
             ],
             [
              0.8888888888888888,
              "#fdca26"
             ],
             [
              1,
              "#f0f921"
             ]
            ],
            "type": "heatmapgl"
           }
          ],
          "histogram": [
           {
            "marker": {
             "pattern": {
              "fillmode": "overlay",
              "size": 10,
              "solidity": 0.2
             }
            },
            "type": "histogram"
           }
          ],
          "histogram2d": [
           {
            "colorbar": {
             "outlinewidth": 0,
             "ticks": ""
            },
            "colorscale": [
             [
              0,
              "#0d0887"
             ],
             [
              0.1111111111111111,
              "#46039f"
             ],
             [
              0.2222222222222222,
              "#7201a8"
             ],
             [
              0.3333333333333333,
              "#9c179e"
             ],
             [
              0.4444444444444444,
              "#bd3786"
             ],
             [
              0.5555555555555556,
              "#d8576b"
             ],
             [
              0.6666666666666666,
              "#ed7953"
             ],
             [
              0.7777777777777778,
              "#fb9f3a"
             ],
             [
              0.8888888888888888,
              "#fdca26"
             ],
             [
              1,
              "#f0f921"
             ]
            ],
            "type": "histogram2d"
           }
          ],
          "histogram2dcontour": [
           {
            "colorbar": {
             "outlinewidth": 0,
             "ticks": ""
            },
            "colorscale": [
             [
              0,
              "#0d0887"
             ],
             [
              0.1111111111111111,
              "#46039f"
             ],
             [
              0.2222222222222222,
              "#7201a8"
             ],
             [
              0.3333333333333333,
              "#9c179e"
             ],
             [
              0.4444444444444444,
              "#bd3786"
             ],
             [
              0.5555555555555556,
              "#d8576b"
             ],
             [
              0.6666666666666666,
              "#ed7953"
             ],
             [
              0.7777777777777778,
              "#fb9f3a"
             ],
             [
              0.8888888888888888,
              "#fdca26"
             ],
             [
              1,
              "#f0f921"
             ]
            ],
            "type": "histogram2dcontour"
           }
          ],
          "mesh3d": [
           {
            "colorbar": {
             "outlinewidth": 0,
             "ticks": ""
            },
            "type": "mesh3d"
           }
          ],
          "parcoords": [
           {
            "line": {
             "colorbar": {
              "outlinewidth": 0,
              "ticks": ""
             }
            },
            "type": "parcoords"
           }
          ],
          "pie": [
           {
            "automargin": true,
            "type": "pie"
           }
          ],
          "scatter": [
           {
            "fillpattern": {
             "fillmode": "overlay",
             "size": 10,
             "solidity": 0.2
            },
            "type": "scatter"
           }
          ],
          "scatter3d": [
           {
            "line": {
             "colorbar": {
              "outlinewidth": 0,
              "ticks": ""
             }
            },
            "marker": {
             "colorbar": {
              "outlinewidth": 0,
              "ticks": ""
             }
            },
            "type": "scatter3d"
           }
          ],
          "scattercarpet": [
           {
            "marker": {
             "colorbar": {
              "outlinewidth": 0,
              "ticks": ""
             }
            },
            "type": "scattercarpet"
           }
          ],
          "scattergeo": [
           {
            "marker": {
             "colorbar": {
              "outlinewidth": 0,
              "ticks": ""
             }
            },
            "type": "scattergeo"
           }
          ],
          "scattergl": [
           {
            "marker": {
             "colorbar": {
              "outlinewidth": 0,
              "ticks": ""
             }
            },
            "type": "scattergl"
           }
          ],
          "scattermapbox": [
           {
            "marker": {
             "colorbar": {
              "outlinewidth": 0,
              "ticks": ""
             }
            },
            "type": "scattermapbox"
           }
          ],
          "scatterpolar": [
           {
            "marker": {
             "colorbar": {
              "outlinewidth": 0,
              "ticks": ""
             }
            },
            "type": "scatterpolar"
           }
          ],
          "scatterpolargl": [
           {
            "marker": {
             "colorbar": {
              "outlinewidth": 0,
              "ticks": ""
             }
            },
            "type": "scatterpolargl"
           }
          ],
          "scatterternary": [
           {
            "marker": {
             "colorbar": {
              "outlinewidth": 0,
              "ticks": ""
             }
            },
            "type": "scatterternary"
           }
          ],
          "surface": [
           {
            "colorbar": {
             "outlinewidth": 0,
             "ticks": ""
            },
            "colorscale": [
             [
              0,
              "#0d0887"
             ],
             [
              0.1111111111111111,
              "#46039f"
             ],
             [
              0.2222222222222222,
              "#7201a8"
             ],
             [
              0.3333333333333333,
              "#9c179e"
             ],
             [
              0.4444444444444444,
              "#bd3786"
             ],
             [
              0.5555555555555556,
              "#d8576b"
             ],
             [
              0.6666666666666666,
              "#ed7953"
             ],
             [
              0.7777777777777778,
              "#fb9f3a"
             ],
             [
              0.8888888888888888,
              "#fdca26"
             ],
             [
              1,
              "#f0f921"
             ]
            ],
            "type": "surface"
           }
          ],
          "table": [
           {
            "cells": {
             "fill": {
              "color": "#EBF0F8"
             },
             "line": {
              "color": "white"
             }
            },
            "header": {
             "fill": {
              "color": "#C8D4E3"
             },
             "line": {
              "color": "white"
             }
            },
            "type": "table"
           }
          ]
         },
         "layout": {
          "annotationdefaults": {
           "arrowcolor": "#2a3f5f",
           "arrowhead": 0,
           "arrowwidth": 1
          },
          "autotypenumbers": "strict",
          "coloraxis": {
           "colorbar": {
            "outlinewidth": 0,
            "ticks": ""
           }
          },
          "colorscale": {
           "diverging": [
            [
             0,
             "#8e0152"
            ],
            [
             0.1,
             "#c51b7d"
            ],
            [
             0.2,
             "#de77ae"
            ],
            [
             0.3,
             "#f1b6da"
            ],
            [
             0.4,
             "#fde0ef"
            ],
            [
             0.5,
             "#f7f7f7"
            ],
            [
             0.6,
             "#e6f5d0"
            ],
            [
             0.7,
             "#b8e186"
            ],
            [
             0.8,
             "#7fbc41"
            ],
            [
             0.9,
             "#4d9221"
            ],
            [
             1,
             "#276419"
            ]
           ],
           "sequential": [
            [
             0,
             "#0d0887"
            ],
            [
             0.1111111111111111,
             "#46039f"
            ],
            [
             0.2222222222222222,
             "#7201a8"
            ],
            [
             0.3333333333333333,
             "#9c179e"
            ],
            [
             0.4444444444444444,
             "#bd3786"
            ],
            [
             0.5555555555555556,
             "#d8576b"
            ],
            [
             0.6666666666666666,
             "#ed7953"
            ],
            [
             0.7777777777777778,
             "#fb9f3a"
            ],
            [
             0.8888888888888888,
             "#fdca26"
            ],
            [
             1,
             "#f0f921"
            ]
           ],
           "sequentialminus": [
            [
             0,
             "#0d0887"
            ],
            [
             0.1111111111111111,
             "#46039f"
            ],
            [
             0.2222222222222222,
             "#7201a8"
            ],
            [
             0.3333333333333333,
             "#9c179e"
            ],
            [
             0.4444444444444444,
             "#bd3786"
            ],
            [
             0.5555555555555556,
             "#d8576b"
            ],
            [
             0.6666666666666666,
             "#ed7953"
            ],
            [
             0.7777777777777778,
             "#fb9f3a"
            ],
            [
             0.8888888888888888,
             "#fdca26"
            ],
            [
             1,
             "#f0f921"
            ]
           ]
          },
          "colorway": [
           "#636efa",
           "#EF553B",
           "#00cc96",
           "#ab63fa",
           "#FFA15A",
           "#19d3f3",
           "#FF6692",
           "#B6E880",
           "#FF97FF",
           "#FECB52"
          ],
          "font": {
           "color": "#2a3f5f"
          },
          "geo": {
           "bgcolor": "white",
           "lakecolor": "white",
           "landcolor": "#E5ECF6",
           "showlakes": true,
           "showland": true,
           "subunitcolor": "white"
          },
          "hoverlabel": {
           "align": "left"
          },
          "hovermode": "closest",
          "mapbox": {
           "style": "light"
          },
          "paper_bgcolor": "white",
          "plot_bgcolor": "#E5ECF6",
          "polar": {
           "angularaxis": {
            "gridcolor": "white",
            "linecolor": "white",
            "ticks": ""
           },
           "bgcolor": "#E5ECF6",
           "radialaxis": {
            "gridcolor": "white",
            "linecolor": "white",
            "ticks": ""
           }
          },
          "scene": {
           "xaxis": {
            "backgroundcolor": "#E5ECF6",
            "gridcolor": "white",
            "gridwidth": 2,
            "linecolor": "white",
            "showbackground": true,
            "ticks": "",
            "zerolinecolor": "white"
           },
           "yaxis": {
            "backgroundcolor": "#E5ECF6",
            "gridcolor": "white",
            "gridwidth": 2,
            "linecolor": "white",
            "showbackground": true,
            "ticks": "",
            "zerolinecolor": "white"
           },
           "zaxis": {
            "backgroundcolor": "#E5ECF6",
            "gridcolor": "white",
            "gridwidth": 2,
            "linecolor": "white",
            "showbackground": true,
            "ticks": "",
            "zerolinecolor": "white"
           }
          },
          "shapedefaults": {
           "line": {
            "color": "#2a3f5f"
           }
          },
          "ternary": {
           "aaxis": {
            "gridcolor": "white",
            "linecolor": "white",
            "ticks": ""
           },
           "baxis": {
            "gridcolor": "white",
            "linecolor": "white",
            "ticks": ""
           },
           "bgcolor": "#E5ECF6",
           "caxis": {
            "gridcolor": "white",
            "linecolor": "white",
            "ticks": ""
           }
          },
          "title": {
           "x": 0.05
          },
          "xaxis": {
           "automargin": true,
           "gridcolor": "white",
           "linecolor": "white",
           "ticks": "",
           "title": {
            "standoff": 15
           },
           "zerolinecolor": "white",
           "zerolinewidth": 2
          },
          "yaxis": {
           "automargin": true,
           "gridcolor": "white",
           "linecolor": "white",
           "ticks": "",
           "title": {
            "standoff": 15
           },
           "zerolinecolor": "white",
           "zerolinewidth": 2
          }
         }
        },
        "title": {
         "text": "Réseau de passes du Havre"
        },
        "width": 1200,
        "xaxis": {
         "range": [
          0,
          120
         ],
         "showgrid": false,
         "zeroline": false
        },
        "yaxis": {
         "autorange": "reversed",
         "range": [
          0,
          80
         ],
         "showgrid": false,
         "zeroline": false
        }
       }
      }
     },
     "metadata": {},
     "output_type": "display_data"
    }
   ],
   "source": [
    "import plotly.graph_objs as go\n",
    "\n",
    "\"\"\" on va faire un dictionnaire des positions en fonction des rôles\n",
    "pour placer les joueurs sur le terrain \"\"\"\n",
    "\n",
    "role_positions = {\n",
    "    \"Gardien\": [(3, 40)],\n",
    "    \"Défenseur\": [(12, 30), (12, 50), (25, 10), (25, 70)],\n",
    "    \"Milieu de terrain\": [(50, 40), (80, 20), (80, 60)],\n",
    "    \"Attaquant\": [(100, 10), (100, 70), (110, 40)]\n",
    "}\n",
    "\n",
    "\n",
    "def get_position(role, index, role_positions, role_count):\n",
    "    if role in role_positions and index < len(role_positions[role]):\n",
    "        return role_positions[role][index]\n",
    "    else:\n",
    "        if role == \"Défenseur\":\n",
    "            role = \"Milieu de terrain\"\n",
    "        elif role == \"Milieu de terrain\":\n",
    "            role = \"Attaquant\"\n",
    "        elif role == \"Attaquant\":\n",
    "            role = \"Défenseur\"\n",
    "        return get_position(role, role_count[role], role_positions, role_count)\n",
    "\n",
    "def visualize_pass_network(player_positions_df, passes_df):\n",
    "    role_count = {\"Défenseur\": 0, \"Milieu de terrain\": 0, \"Attaquant\": 0, \"Gardien\": 0}\n",
    "    players_positions = {}\n",
    "    \n",
    "    # Boucler à travers chaque joueur pour définir sa position sur le terrain\n",
    "    for index, row in player_positions_df.iterrows():\n",
    "        role = row['role']\n",
    "        position = get_position(role, role_count[role], role_positions, role_count)\n",
    "        role_count[role] += 1\n",
    "        players_positions[row['player.name']] = position\n",
    "\n",
    "    # Calculer les informations des passes pour chaque joueur\n",
    "    pass_info = passes_df.groupby(['player.name']).agg(\n",
    "        num_passes=('pass.length', 'size'),\n",
    "        avg_pass_length=('pass.length', 'mean')\n",
    "    ).reset_index()\n",
    "\n",
    "    pass_info_received = passes_df.groupby(['pass.recipient.name']).agg(\n",
    "        num_passes_received=('pass.length', 'size'),\n",
    "        avg_pass_length_received=('pass.length', 'mean')\n",
    "    ).reset_index()\n",
    "\n",
    "    # Créer des dictionnaires pour les infos de passes\n",
    "    pass_info_dict = {\n",
    "        row['player.name']: {\n",
    "            'num_passes': row['num_passes'],\n",
    "            'avg_pass_length': row['avg_pass_length']\n",
    "        }\n",
    "        for index, row in pass_info.iterrows()\n",
    "    }\n",
    "\n",
    "    pass_info_received_dict = {\n",
    "        row['pass.recipient.name']: {\n",
    "            'num_passes_received': row['num_passes_received'],\n",
    "            'avg_pass_length_received': row['avg_pass_length_received']\n",
    "        }\n",
    "        for index, row in pass_info_received.iterrows()\n",
    "    }\n",
    "\n",
    "    # Tracer le terrain de football\n",
    "    fig = go.Figure()\n",
    "\n",
    "    # Ajouter des formes pour représenter le terrain de football\n",
    "    terrain_shapes = [\n",
    "        dict(type=\"rect\", x0=0, y0=0, x1=120, y1=80, line=dict(color=\"Black\")),  # Périmètre du terrain\n",
    "        dict(type=\"line\", x0=60, y0=0, x1=60, y1=80, line=dict(color=\"Black\", dash=\"dot\")),  # Ligne médiane\n",
    "        dict(type=\"rect\", x0=0, y0=18, x1=18, y1=62, line=dict(color=\"Black\")),  # Surface de réparation\n",
    "        dict(type=\"rect\", x0=102, y0=18, x1=120, y1=62, line=dict(color=\"Black\")),  # Surface de réparation opposée\n",
    "        dict(type=\"rect\", x0=0, y0=30, x1=5.5, y1=50, line=dict(color=\"Black\")),  # Petit rectangle\n",
    "        dict(type=\"rect\", x0=114.5, y0=30, x1=120, y1=50, line=dict(color=\"Black\")),  # Petit rectangle opposé\n",
    "        dict(type=\"rect\", x0=0, y0=36, x1=2, y1=44, line=dict(color=\"Black\")),  # Zone du gardien\n",
    "        dict(type=\"rect\", x0=118, y0=36, x1=120, y1=44, line=dict(color=\"Black\")),  # Zone du gardien opposée\n",
    "        dict(type=\"circle\", xref=\"x\", yref=\"y\", x0=50.4, y0=30.4, x1=69.6, y1=49.6, line_color=\"Black\"),  # Cercle central\n",
    "    ]\n",
    "    fig.update_layout(shapes=terrain_shapes)\n",
    "\n",
    "    # Ajouter les joueurs sur le terrain avec les infos de passes\n",
    "    for player, pos in players_positions.items():\n",
    "        passes_from_player = pass_info_dict.get(player, {'num_passes': 0, 'avg_pass_length': 0})\n",
    "        passes_to_player = pass_info_received_dict.get(player, {'num_passes_received': 0, 'avg_pass_length_received': 0})\n",
    "\n",
    "        # Texte affiché lorsqu'on survole un joueur\n",
    "        hover_text = (\n",
    "            f\"Joueur: {player}<br>\"\n",
    "            f\"Nombre de passes effectuées: {passes_from_player['num_passes']}<br>\"\n",
    "            f\"Longueur moyenne des passes effectuées: {passes_from_player['avg_pass_length']:.2f} m<br>\"\n",
    "            f\"Nombre de passes reçues: {passes_to_player['num_passes_received']}<br>\"\n",
    "            f\"Longueur moyenne des passes reçues: {passes_to_player['avg_pass_length_received']:.2f} m\"\n",
    "        )\n",
    "\n",
    "        fig.add_trace(go.Scatter(\n",
    "            x=[pos[0]],\n",
    "            y=[pos[1]],\n",
    "            mode='markers+text',\n",
    "            text=[player],\n",
    "            textposition=\"top center\",\n",
    "            marker=dict(size=20, color='blue'),  # Taille du marqueur augmentée à 20\n",
    "            hovertext=hover_text,\n",
    "            hoverinfo=\"text\"\n",
    "        ))\n",
    "\n",
    "    # Calculer le nombre et la longueur moyenne des passes entre les joueurs\n",
    "    passes_between_players = passes_df.groupby(['player.name', 'pass.recipient.name']).agg(\n",
    "        num_passes=('pass.length', 'size'),\n",
    "        avg_pass_length=('pass.length', 'mean')\n",
    "    ).reset_index()\n",
    "\n",
    "    # Ajouter les passes\n",
    "    for row in passes_between_players.itertuples():\n",
    "        if row[1] in players_positions and row[2] in players_positions:\n",
    "            start = players_positions[row[1]]\n",
    "            end = players_positions[row[2]]\n",
    "            # Texte affiché lorsqu'on survole une flèche de passe\n",
    "            hover_text = (\n",
    "                f\"Passes de {row[1]} à {row[2]}<br>\"\n",
    "                f\"Nombre de passes: {row.num_passes}<br>\"\n",
    "                f\"Longueur moyenne des passes: {row.avg_pass_length:.2f} m\"\n",
    "            )\n",
    "            fig.add_trace(go.Scatter(\n",
    "                x=[start[0], end[0]],\n",
    "                y=[start[1], end[1]],\n",
    "                mode='lines',\n",
    "                line=dict(width=1, color='red'),\n",
    "                hovertext=hover_text,\n",
    "                hoverinfo=\"text\"\n",
    "            ))\n",
    "\n",
    "    # Inverser l'axe y pour que l'origine soit en bas à gauche\n",
    "    fig.update_yaxes(autorange='reversed')\n",
    "\n",
    "    # Configurer l'apparence générale du graphique\n",
    "    fig.update_layout(\n",
    "        title=\"Réseau de passes du Havre\",\n",
    "        xaxis=dict(range=[0, 120], showgrid=False, zeroline=False),\n",
    "        yaxis=dict(range=[0, 80], showgrid=False, zeroline=False),\n",
    "        width=1200,\n",
    "        height=900\n",
    "    )\n",
    "    fig.show()\n",
    "\n",
    "# Appel de la fonction pour créer la figure du réseau de passes\n",
    "visualize_pass_network(df_positions, df_passes)\n"
   ]
  },
  {
   "cell_type": "code",
   "execution_count": 7,
   "metadata": {},
   "outputs": [],
   "source": [
    "import plotly.graph_objs as go\n",
    "\n",
    "# Dictionnaire des positions en fonction des rôles\n",
    "role_positions = {\n",
    "    \"Gardien\": [(3, 40)],\n",
    "    \"Défenseur\": [(12, 30), (12, 50), (25, 10), (25, 70)],\n",
    "    \"Milieu de terrain\": [(50, 40), (80, 20), (80, 60)],\n",
    "    \"Attaquant\": [(100, 10), (100, 70), (110, 40)]\n",
    "}\n",
    "\n",
    "# Fonction pour obtenir la position en fonction du rôle et de l'index\n",
    "def get_position(role, index, role_positions, role_count):\n",
    "    if role in role_positions and index < len(role_positions[role]):\n",
    "        return role_positions[role][index]\n",
    "    else:\n",
    "        # Gérer les excédents en attribuant des positions restantes\n",
    "        if role == \"Défenseur\":\n",
    "            role = \"Milieu de terrain\"\n",
    "        elif role == \"Milieu de terrain\":\n",
    "            role = \"Attaquant\"\n",
    "        elif role == \"Attaquant\":\n",
    "            role = \"Défenseur\"\n",
    "        return get_position(role, role_count[role], role_positions, role_count)\n",
    "\n",
    "# Fonction pour créer le graphique de passes\n",
    "def visualize_pass_network(player_positions_df, passes_df):\n",
    "    # Convertir les données de la dataframe en dictionnaires\n",
    "    role_count = {\"Défenseur\": 0, \"Milieu de terrain\": 0, \"Attaquant\": 0, \"Gardien\": 0}\n",
    "    players_positions = {}\n",
    "    \n",
    "    for index, row in player_positions_df.iterrows():\n",
    "        role = row['role']\n",
    "        position = get_position(role, role_count[role], role_positions, role_count)\n",
    "        role_count[role] += 1\n",
    "        players_positions[row['player.name']] = position\n",
    "\n",
    "    # Calculer les informations des passes\n",
    "    pass_info = passes_df.groupby(['player.name']).agg(\n",
    "        num_passes=('pass.length', 'size'),\n",
    "        avg_pass_length=('pass.length', 'mean')\n",
    "    ).reset_index()\n",
    "\n",
    "    pass_info_received = passes_df.groupby(['pass.recipient.name']).agg(\n",
    "        num_passes_received=('pass.length', 'size'),\n",
    "        avg_pass_length_received=('pass.length', 'mean')\n",
    "    ).reset_index()\n",
    "\n",
    "    # Créer des dictionnaires pour les infos de passes\n",
    "    pass_info_dict = {\n",
    "        row['player.name']: {\n",
    "            'num_passes': row['num_passes'],\n",
    "            'avg_pass_length': row['avg_pass_length']\n",
    "        }\n",
    "        for index, row in pass_info.iterrows()\n",
    "    }\n",
    "\n",
    "    pass_info_received_dict = {\n",
    "        row['pass.recipient.name']: {\n",
    "            'num_passes_received': row['num_passes_received'],\n",
    "            'avg_pass_length_received': row['avg_pass_length_received']\n",
    "        }\n",
    "        for index, row in pass_info_received.iterrows()\n",
    "    }\n",
    "\n",
    "    # Tracer le terrain de football\n",
    "    fig = go.Figure()\n",
    "\n",
    "    # Ajouter des formes pour représenter le terrain de football\n",
    "    terrain_shapes = [\n",
    "        dict(type=\"rect\", x0=0, y0=0, x1=120, y1=80, line=dict(color=\"Black\")),\n",
    "        dict(type=\"line\", x0=60, y0=0, x1=60, y1=80, line=dict(color=\"Black\", dash=\"dot\")),\n",
    "        dict(type=\"rect\", x0=0, y0=18, x1=18, y1=62, line=dict(color=\"Black\")),\n",
    "        dict(type=\"rect\", x0=102, y0=18, x1=120, y1=62, line=dict(color=\"Black\")),\n",
    "        dict(type=\"rect\", x0=0, y0=30, x1=5.5, y1=50, line=dict(color=\"Black\")),\n",
    "        dict(type=\"rect\", x0=114.5, y0=30, x1=120, y1=50, line=dict(color=\"Black\")),\n",
    "        dict(type=\"rect\", x0=0, y0=36, x1=2, y1=44, line=dict(color=\"Black\")),\n",
    "        dict(type=\"rect\", x0=118, y0=36, x1=120, y1=44, line=dict(color=\"Black\")),\n",
    "        dict(type=\"circle\", xref=\"x\", yref=\"y\", x0=50.4, y0=30.4, x1=69.6, y1=49.6, line_color=\"Black\"),\n",
    "    ]\n",
    "    fig.update_layout(shapes=terrain_shapes)\n",
    "\n",
    "    # Ajouter les joueurs sur le terrain avec les infos de passes\n",
    "    for player, pos in players_positions.items():\n",
    "        passes_from_player = pass_info_dict.get(player, {'num_passes': 0, 'avg_pass_length': 0})\n",
    "        passes_to_player = pass_info_received_dict.get(player, {'num_passes_received': 0, 'avg_pass_length_received': 0})\n",
    "\n",
    "        # Calculer les passes entre ce joueur et les autres\n",
    "        passes_to_other_players = passes_df[passes_df['player.name'] == player]\n",
    "        passes_from_other_players = passes_df[passes_df['pass.recipient.name'] == player]\n",
    "\n",
    "        passes_info_text = \"\"\n",
    "        for idx, pass_row in passes_to_other_players.iterrows():\n",
    "            recipient = pass_row['pass.recipient.name']\n",
    "            if recipient in players_positions:\n",
    "                passes_info_text += f\"Passes vers {recipient}: {pass_row['pass.length']} m<br>\"\n",
    "        \n",
    "        for idx, pass_row in passes_from_other_players.iterrows():\n",
    "            sender = pass_row['player.name']\n",
    "            if sender in players_positions:\n",
    "                passes_info_text += f\"Passes de {sender}: {pass_row['pass.length']} m<br>\"\n",
    "\n",
    "        hover_text = (\n",
    "            f\"Joueur: {player}<br>\"\n",
    "            f\"Nombre de passes effectuées: {passes_from_player['num_passes']}<br>\"\n",
    "            f\"Longueur moyenne des passes effectuées: {passes_from_player['avg_pass_length']:.2f} m<br>\"\n",
    "            f\"Nombre de passes reçues: {passes_to_player['num_passes_received']}<br>\"\n",
    "            f\"Longueur moyenne des passes reçues: {passes_to_player['avg_pass_length_received']:.2f} m<br>\"\n",
    "            f\"{passes_info_text}\"\n",
    "        )\n",
    "\n",
    "        fig.add_trace(go.Scatter(\n",
    "            x=[pos[0]],\n",
    "            y=[pos[1]],\n",
    "            mode='markers+text',\n",
    "            text=[player],\n",
    "            textposition=\"top center\",\n",
    "            marker=dict(size=20, color='blue'),\n",
    "            hovertext=hover_text,\n",
    "            hoverinfo=\"text\"\n",
    "        ))\n",
    "\n",
    "    # Calculer le nombre et la longueur moyenne des passes entre les joueurs\n",
    "    passes_between_players = passes_df.groupby(['player.name', 'pass.recipient.name']).agg(\n",
    "        num_passes=('pass.length', 'size'),\n",
    "        avg_pass_length=('pass.length', 'mean')\n",
    "    ).reset_index()\n",
    "\n",
    "    # Ajouter les passes\n",
    "    for row in passes_between_players.itertuples():\n",
    "        if row[1] in players_positions and row[2] in players_positions:\n",
    "            start = players_positions[row[1]]\n",
    "            end = players_positions[row[2]]\n",
    "            hover_text = (\n",
    "                f\"Passes de {row[1]} à {row[2]}<br>\"\n",
    "                f\"Nombre de passes: {row.num_passes}<br>\"\n",
    "                f\"Longueur moyenne des passes: {row.avg_pass_length:.2f} m\"\n",
    "            )\n",
    "            fig.add_trace(go.Scatter(\n",
    "                x=[start[0], end[0]],\n",
    "                y=[start[1], end[1]],\n",
    "                mode='lines',\n",
    "                line=dict(width=2, color='red'),\n",
    "                hovertext=hover_text,\n",
    "                hoverinfo=\"text\"\n",
    "            ))\n",
    "\n",
    "    fig.update_layout(\n",
    "        title=\"Réseau de passes sur un terrain de football\",\n",
    "        xaxis=dict(range=[0, 120], showgrid=False, zeroline=False),\n",
    "        yaxis=dict(range=[0, 80], showgrid=False, zeroline=False),\n",
    "        width=1200,\n",
    "        height=900\n",
    "    )\n",
    "    fig.show()\n"
   ]
  },
  {
   "cell_type": "code",
   "execution_count": 8,
   "metadata": {},
   "outputs": [
    {
     "data": {
      "application/vnd.plotly.v1+json": {
       "config": {
        "plotlyServerURL": "https://plot.ly"
       },
       "data": [
        {
         "hoverinfo": "text",
         "hovertext": "Joueur: Loic Nego<br>Nombre de passes effectuées: 29<br>Longueur moyenne des passes effectuées: 19.10 m<br>Nombre de passes reçues: 19<br>Longueur moyenne des passes reçues: 21.57 m<br>Passes vers Nabil Alioui: 43.625793 m<br>Passes vers Issa Soumare: 24.656237 m<br>Passes vers Nabil Alioui: 20.282997 m<br>Passes vers Rassoul Ndiaye: 24.884735 m<br>Passes vers Rassoul Ndiaye: 8.633076 m<br>Passes vers Rassoul Ndiaye: 11.244999 m<br>Passes vers Issa Soumare: 8.500588 m<br>Passes vers Rassoul Ndiaye: 45.12494 m<br>Passes vers Rassoul Ndiaye: 10.696261 m<br>Passes vers Oussama Targhalline: 8.228001 m<br>Passes vers Issa Soumare: 22.436132 m<br>Passes vers Oussama Targhalline: 10.312129 m<br>Passes vers Yoann Salmier: 16.902662 m<br>Passes vers Daler Kuzyaev: 11.45513 m<br>Passes vers Yoann Salmier: 13.024976 m<br>Passes vers Oussama Targhalline: 9.734988 m<br>Passes vers Oussama Targhalline: 9.415413 m<br>Passes vers Nabil Alioui: 24.937723 m<br>Passes vers Oussama Targhalline: 11.1892805 m<br>Passes vers Oussama Targhalline: 10.404326 m<br>Passes vers Oussama Targhalline: 16.003124 m<br>Passes vers Arouna Sangante: 25.756165 m<br>Passes vers Oussama Targhalline: 22.280035 m<br>Passes vers Nabil Alioui: 29.082296 m<br>Passes vers Arouna Sangante: 24.123226 m<br>Passes vers Issa Soumare: 30.088535 m<br>Passes vers Issa Soumare: 17.142054 m<br>Passes vers Issa Soumare: 28.62761 m<br>Passes de Nabil Alioui: 22.26432 m<br>Passes de Rassoul Ndiaye: 13.4 m<br>Passes de Rassoul Ndiaye: 29.443504 m<br>Passes de Rassoul Ndiaye: 5.3009434 m<br>Passes de Daler Kuzyaev: 11.416217 m<br>Passes de Rassoul Ndiaye: 12.835108 m<br>Passes de Arouna Sangante: 47.680603 m<br>Passes de Oussama Targhalline: 20.154652 m<br>Passes de Arouna Sangante: 43.35032 m<br>Passes de Daler Kuzyaev: 12.169634 m<br>Passes de Yoann Salmier: 13.90899 m<br>Passes de Arouna Sangante: 35.336243 m<br>Passes de Rassoul Ndiaye: 17.756407 m<br>Passes de Oussama Targhalline: 16.593975 m<br>Passes de Oussama Targhalline: 11.903781 m<br>Passes de Arouna Sangante: 58.081493 m<br>Passes de Yoann Salmier: 20.861448 m<br>Passes de Oussama Targhalline: 2.1931713 m<br>",
         "marker": {
          "color": "blue",
          "size": 20
         },
         "mode": "markers+text",
         "text": [
          "Loic Nego"
         ],
         "textposition": "top center",
         "type": "scatter",
         "x": [
          12
         ],
         "y": [
          30
         ]
        },
        {
         "hoverinfo": "text",
         "hovertext": "Joueur: Oussama Targhalline<br>Nombre de passes effectuées: 57<br>Longueur moyenne des passes effectuées: 16.38 m<br>Nombre de passes reçues: 47<br>Longueur moyenne des passes reçues: 13.34 m<br>Passes vers Issa Soumare: 52.5 m<br>Passes vers Josue Casimir: 10.801851 m<br>Passes vers Daler Kuzyaev: 12.727922 m<br>Passes vers Rassoul Ndiaye: 14.741099 m<br>Passes vers Rassoul Ndiaye: 10.396634 m<br>Passes vers Daler Kuzyaev: 9.732934 m<br>Passes vers Rassoul Ndiaye: 19.070396 m<br>Passes vers Josue Casimir: 21.44621 m<br>Passes vers Rassoul Ndiaye: 13.630847 m<br>Passes vers Daler Kuzyaev: 8.633076 m<br>Passes vers Rassoul Ndiaye: 8.348653 m<br>Passes vers Daler Kuzyaev: 16.916264 m<br>Passes vers Loic Nego: 20.154652 m<br>Passes vers Gautier Lloris: 15.206906 m<br>Passes vers Daler Kuzyaev: 10.031949 m<br>Passes vers Gautier Lloris: 22.60553 m<br>Passes vers Josue Casimir: 8.45281 m<br>Passes vers Nabil Alioui: 9.992997 m<br>Passes vers Rassoul Ndiaye: 20.036966 m<br>Passes vers Loic Nego: 16.593975 m<br>Passes vers Loic Nego: 11.903781 m<br>Passes vers Issa Soumare: 14.5 m<br>Passes vers Issa Soumare: 6.846897 m<br>Passes vers Josue Casimir: 43.793262 m<br>Passes vers Yoann Salmier: 21.36001 m<br>Passes vers Loic Nego: 2.1931713 m<br>Passes vers Josue Casimir: 12.841339 m<br>Passes vers Josue Casimir: 24.96157 m<br>Passes vers Issa Soumare: 18.388311 m<br>Passes vers Issa Soumare: 31.11736 m<br>Passes vers Daler Kuzyaev: 8.902246 m<br>Passes vers Rassoul Ndiaye: 12.420145 m<br>Passes vers Rassoul Ndiaye: 16.760967 m<br>Passes vers Rassoul Ndiaye: 12.209013 m<br>Passes vers Nabil Alioui: 21.22852 m<br>Passes vers Josue Casimir: 9.667471 m<br>Passes vers Issa Soumare: 16.263456 m<br>Passes vers Issa Soumare: 29.757183 m<br>Passes vers Josue Casimir: 20.448227 m<br>Passes vers Josue Casimir: 17.622997 m<br>Passes de Nabil Alioui: 11.815245 m<br>Passes de Loic Nego: 8.228001 m<br>Passes de Rassoul Ndiaye: 5.59017 m<br>Passes de Gautier Lloris: 23.210558 m<br>Passes de Loic Nego: 10.312129 m<br>Passes de Josue Casimir: 13.106106 m<br>Passes de Daler Kuzyaev: 13.484806 m<br>Passes de Daler Kuzyaev: 14.450605 m<br>Passes de Josue Casimir: 14.599315 m<br>Passes de Daler Kuzyaev: 5.507268 m<br>Passes de Loic Nego: 9.734988 m<br>Passes de Daler Kuzyaev: 14.8030405 m<br>Passes de Daler Kuzyaev: 15.646086 m<br>Passes de Loic Nego: 9.415413 m<br>Passes de Arthur Desmas: 14.458562 m<br>Passes de Rassoul Ndiaye: 18.109941 m<br>Passes de Gautier Lloris: 7.2111025 m<br>Passes de Loic Nego: 11.1892805 m<br>Passes de Loic Nego: 10.404326 m<br>Passes de Loic Nego: 16.003124 m<br>Passes de Loic Nego: 22.280035 m<br>Passes de Daler Kuzyaev: 10.783784 m<br>Passes de Arouna Sangante: 4.4011364 m<br>Passes de Arthur Desmas: 38.575123 m<br>Passes de Gautier Lloris: 9.464143 m<br>Passes de Josue Casimir: 11.236102 m<br>Passes de Yoann Salmier: 34.024258 m<br>Passes de Josue Casimir: 11.896638 m<br>Passes de Rassoul Ndiaye: 7.2249565 m<br>Passes de Rassoul Ndiaye: 5.147815 m<br>Passes de Josue Casimir: 10.10198 m<br>Passes de Gautier Lloris: 9.774457 m<br>Passes de Daler Kuzyaev: 16.678429 m<br>Passes de Yoann Salmier: 13.049521 m<br>Passes de Arouna Sangante: 6.303174 m<br>Passes de Yoann Salmier: 18.489456 m<br>Passes de Yoann Salmier: 15.246311 m<br>Passes de Josue Casimir: 9.759098 m<br>",
         "marker": {
          "color": "blue",
          "size": 20
         },
         "mode": "markers+text",
         "text": [
          "Oussama Targhalline"
         ],
         "textposition": "top center",
         "type": "scatter",
         "x": [
          50
         ],
         "y": [
          40
         ]
        },
        {
         "hoverinfo": "text",
         "hovertext": "Joueur: Arouna Sangante<br>Nombre de passes effectuées: 28<br>Longueur moyenne des passes effectuées: 33.87 m<br>Nombre de passes reçues: 15<br>Longueur moyenne des passes reçues: 19.06 m<br>Passes vers Issa Soumare: 66.75867 m<br>Passes vers Gautier Lloris: 12.238464 m<br>Passes vers Issa Soumare: 41.85272 m<br>Passes vers Josue Casimir: 23.380547 m<br>Passes vers Issa Soumare: 43.792236 m<br>Passes vers Yoann Salmier: 12.169634 m<br>Passes vers Josue Casimir: 35.010426 m<br>Passes vers Gautier Lloris: 24.69757 m<br>Passes vers Loic Nego: 47.680603 m<br>Passes vers Rassoul Ndiaye: 29.920729 m<br>Passes vers Gautier Lloris: 9.615092 m<br>Passes vers Yoann Salmier: 22.40558 m<br>Passes vers Loic Nego: 43.35032 m<br>Passes vers Josue Casimir: 7.4 m<br>Passes vers Loic Nego: 35.336243 m<br>Passes vers Loic Nego: 58.081493 m<br>Passes vers Josue Casimir: 67.525475 m<br>Passes vers Yoann Salmier: 16.618362 m<br>Passes vers Gautier Lloris: 32.01156 m<br>Passes vers Oussama Targhalline: 4.4011364 m<br>Passes vers Yoann Salmier: 25.563255 m<br>Passes vers Issa Soumare: 55.35648 m<br>Passes vers Gautier Lloris: 27.483814 m<br>Passes vers Oussama Targhalline: 6.303174 m<br>Passes vers Nabil Alioui: 57.734653 m<br>Passes de Gautier Lloris: 7.7491937 m<br>Passes de Nabil Alioui: 20.808653 m<br>Passes de Yoann Salmier: 27.83523 m<br>Passes de Yoann Salmier: 17.912006 m<br>Passes de Gautier Lloris: 26.518862 m<br>Passes de Gautier Lloris: 9.062009 m<br>Passes de Yoann Salmier: 16.484236 m<br>Passes de Gautier Lloris: 16.919811 m<br>Passes de Loic Nego: 25.756165 m<br>Passes de Daler Kuzyaev: 16.018114 m<br>Passes de Loic Nego: 24.123226 m<br>Passes de Arthur Desmas: 12.80039 m<br>Passes de Yoann Salmier: 25.400787 m<br>",
         "marker": {
          "color": "blue",
          "size": 20
         },
         "mode": "markers+text",
         "text": [
          "Arouna Sangante"
         ],
         "textposition": "top center",
         "type": "scatter",
         "x": [
          12
         ],
         "y": [
          50
         ]
        },
        {
         "hoverinfo": "text",
         "hovertext": "Joueur: Issa Soumare<br>Nombre de passes effectuées: 14<br>Longueur moyenne des passes effectuées: 16.73 m<br>Nombre de passes reçues: 50<br>Longueur moyenne des passes reçues: 36.40 m<br>Passes vers Rassoul Ndiaye: 9.364828 m<br>Passes vers Nabil Alioui: 18.56071 m<br>Passes vers Rassoul Ndiaye: 6.7178864 m<br>Passes vers Rassoul Ndiaye: 13.7411785 m<br>Passes vers Nabil Alioui: 24.055977 m<br>Passes vers Nabil Alioui: 28.927668 m<br>Passes vers Nabil Alioui: 5.936329 m<br>Passes vers Nabil Alioui: 12.432618 m<br>Passes vers Yoann Salmier: 21.920767 m<br>Passes vers Nabil Alioui: 10.394229 m<br>Passes vers Nabil Alioui: 32.24717 m<br>Passes vers Nabil Alioui: 26.076809 m<br>Passes vers Nabil Alioui: 14.989663 m<br>Passes vers Nabil Alioui: 8.9196415 m<br>Passes de Oussama Targhalline: 52.5 m<br>Passes de Arouna Sangante: 66.75867 m<br>Passes de Josue Casimir: 27.576982 m<br>Passes de Josue Casimir: 48.20664 m<br>Passes de Yoann Salmier: 60.04207 m<br>Passes de Daler Kuzyaev: 2.745906 m<br>Passes de Arthur Desmas: 57.915195 m<br>Passes de Loic Nego: 24.656237 m<br>Passes de Nabil Alioui: 22.596682 m<br>Passes de Arthur Desmas: 83.02174 m<br>Passes de Rassoul Ndiaye: 43.156113 m<br>Passes de Yoann Salmier: 23.88828 m<br>Passes de Arouna Sangante: 41.85272 m<br>Passes de Loic Nego: 8.500588 m<br>Passes de Josue Casimir: 29.140007 m<br>Passes de Yoann Salmier: 43.95384 m<br>Passes de Nabil Alioui: 7.4431176 m<br>Passes de Yoann Salmier: 18.704277 m<br>Passes de Rassoul Ndiaye: 16.858232 m<br>Passes de Arouna Sangante: 43.792236 m<br>Passes de Josue Casimir: 18.774717 m<br>Passes de Loic Nego: 22.436132 m<br>Passes de Josue Casimir: 26.532433 m<br>Passes de Nabil Alioui: 40.823647 m<br>Passes de Yoann Salmier: 69.61049 m<br>Passes de Josue Casimir: 35.58792 m<br>Passes de Nabil Alioui: 21.135752 m<br>Passes de Yoann Salmier: 84.49953 m<br>Passes de Daler Kuzyaev: 20.16259 m<br>Passes de Oussama Targhalline: 14.5 m<br>Passes de Oussama Targhalline: 6.846897 m<br>Passes de Loic Nego: 30.088535 m<br>Passes de Arthur Desmas: 58.46067 m<br>Passes de Oussama Targhalline: 18.388311 m<br>Passes de Loic Nego: 17.142054 m<br>Passes de Nabil Alioui: 37.579384 m<br>Passes de Oussama Targhalline: 31.11736 m<br>Passes de Arouna Sangante: 55.35648 m<br>Passes de Arthur Desmas: 63.67935 m<br>Passes de Daler Kuzyaev: 24.318718 m<br>Passes de Nabil Alioui: 25.314423 m<br>Passes de Arthur Desmas: 64.11372 m<br>Passes de Oussama Targhalline: 16.263456 m<br>Passes de Nabil Alioui: 15.966528 m<br>Passes de Loic Nego: 28.62761 m<br>Passes de Oussama Targhalline: 29.757183 m<br>Passes de Arthur Desmas: 65.45166 m<br>Passes de Rassoul Ndiaye: 36.300552 m<br>Passes de Arthur Desmas: 60.627388 m<br>Passes de Arthur Desmas: 57.21547 m<br>",
         "marker": {
          "color": "blue",
          "size": 20
         },
         "mode": "markers+text",
         "text": [
          "Issa Soumare"
         ],
         "textposition": "top center",
         "type": "scatter",
         "x": [
          100
         ],
         "y": [
          10
         ]
        },
        {
         "hoverinfo": "text",
         "hovertext": "Joueur: Rassoul Ndiaye<br>Nombre de passes effectuées: 23<br>Longueur moyenne des passes effectuées: 19.04 m<br>Nombre de passes reçues: 28<br>Longueur moyenne des passes reçues: 15.06 m<br>Passes vers Gautier Lloris: 28.54908 m<br>Passes vers Loic Nego: 13.4 m<br>Passes vers Issa Soumare: 43.156113 m<br>Passes vers Loic Nego: 29.443504 m<br>Passes vers Loic Nego: 5.3009434 m<br>Passes vers Issa Soumare: 16.858232 m<br>Passes vers Oussama Targhalline: 5.59017 m<br>Passes vers Arthur Desmas: 27.518175 m<br>Passes vers Josue Casimir: 7.668768 m<br>Passes vers Josue Casimir: 31.846035 m<br>Passes vers Josue Casimir: 19.71218 m<br>Passes vers Loic Nego: 12.835108 m<br>Passes vers Yoann Salmier: 15.065191 m<br>Passes vers Oussama Targhalline: 18.109941 m<br>Passes vers Loic Nego: 17.756407 m<br>Passes vers Nabil Alioui: 13.438005 m<br>Passes vers Oussama Targhalline: 7.2249565 m<br>Passes vers Gautier Lloris: 15.401948 m<br>Passes vers Oussama Targhalline: 5.147815 m<br>Passes vers Gautier Lloris: 19.544052 m<br>Passes vers Issa Soumare: 36.300552 m<br>Passes de Loic Nego: 24.884735 m<br>Passes de Loic Nego: 8.633076 m<br>Passes de Loic Nego: 11.244999 m<br>Passes de Daler Kuzyaev: 13.74409 m<br>Passes de Issa Soumare: 9.364828 m<br>Passes de Loic Nego: 45.12494 m<br>Passes de Loic Nego: 10.696261 m<br>Passes de Issa Soumare: 6.7178864 m<br>Passes de Oussama Targhalline: 14.741099 m<br>Passes de Oussama Targhalline: 10.396634 m<br>Passes de Issa Soumare: 13.7411785 m<br>Passes de Oussama Targhalline: 19.070396 m<br>Passes de Oussama Targhalline: 13.630847 m<br>Passes de Oussama Targhalline: 8.348653 m<br>Passes de Arouna Sangante: 29.920729 m<br>Passes de Gautier Lloris: 10.929318 m<br>Passes de Oussama Targhalline: 20.036966 m<br>Passes de Daler Kuzyaev: 26.500189 m<br>Passes de Yoann Salmier: 19.945927 m<br>Passes de Gautier Lloris: 14.50655 m<br>Passes de Daler Kuzyaev: 9.219544 m<br>Passes de Oussama Targhalline: 12.420145 m<br>Passes de Oussama Targhalline: 16.760967 m<br>Passes de Oussama Targhalline: 12.209013 m<br>Passes de Josue Casimir: 11.229425 m<br>Passes de Gautier Lloris: 9.6208105 m<br>Passes de Daler Kuzyaev: 4.804165 m<br>Passes de Yoann Salmier: 13.263861 m<br>",
         "marker": {
          "color": "blue",
          "size": 20
         },
         "mode": "markers+text",
         "text": [
          "Rassoul Ndiaye"
         ],
         "textposition": "top center",
         "type": "scatter",
         "x": [
          80
         ],
         "y": [
          20
         ]
        },
        {
         "hoverinfo": "text",
         "hovertext": "Joueur: Josue Casimir<br>Nombre de passes effectuées: 38<br>Longueur moyenne des passes effectuées: 16.64 m<br>Nombre de passes reçues: 38<br>Longueur moyenne des passes reçues: 19.78 m<br>Passes vers Issa Soumare: 27.576982 m<br>Passes vers Issa Soumare: 48.20664 m<br>Passes vers Nabil Alioui: 27.557213 m<br>Passes vers Gautier Lloris: 8.79659 m<br>Passes vers Nabil Alioui: 11.472576 m<br>Passes vers Issa Soumare: 29.140007 m<br>Passes vers Issa Soumare: 18.774717 m<br>Passes vers Nabil Alioui: 9.420191 m<br>Passes vers Oussama Targhalline: 13.106106 m<br>Passes vers Issa Soumare: 26.532433 m<br>Passes vers Oussama Targhalline: 14.599315 m<br>Passes vers Gautier Lloris: 14.96262 m<br>Passes vers Issa Soumare: 35.58792 m<br>Passes vers Gautier Lloris: 10.10198 m<br>Passes vers Gautier Lloris: 6.0926185 m<br>Passes vers Gautier Lloris: 9.688137 m<br>Passes vers Daler Kuzyaev: 3.7735925 m<br>Passes vers Oussama Targhalline: 11.236102 m<br>Passes vers Oussama Targhalline: 11.896638 m<br>Passes vers Oussama Targhalline: 10.10198 m<br>Passes vers Rassoul Ndiaye: 11.229425 m<br>Passes vers Nabil Alioui: 17.780045 m<br>Passes vers Oussama Targhalline: 9.759098 m<br>Passes vers Nabil Alioui: 33.983818 m<br>Passes de Oussama Targhalline: 10.801851 m<br>Passes de Gautier Lloris: 28.166115 m<br>Passes de Gautier Lloris: 11.676472 m<br>Passes de Arthur Desmas: 16.717056 m<br>Passes de Arouna Sangante: 23.380547 m<br>Passes de Daler Kuzyaev: 9.2439165 m<br>Passes de Rassoul Ndiaye: 7.668768 m<br>Passes de Rassoul Ndiaye: 31.846035 m<br>Passes de Nabil Alioui: 14.989663 m<br>Passes de Oussama Targhalline: 21.44621 m<br>Passes de Arouna Sangante: 35.010426 m<br>Passes de Rassoul Ndiaye: 19.71218 m<br>Passes de Daler Kuzyaev: 16.03122 m<br>Passes de Gautier Lloris: 8.028076 m<br>Passes de Gautier Lloris: 1.3038405 m<br>Passes de Gautier Lloris: 16.609034 m<br>Passes de Oussama Targhalline: 8.45281 m<br>Passes de Gautier Lloris: 3.8483763 m<br>Passes de Arouna Sangante: 7.4 m<br>Passes de Daler Kuzyaev: 6.3348246 m<br>Passes de Arouna Sangante: 67.525475 m<br>Passes de Gautier Lloris: 23.496809 m<br>Passes de Oussama Targhalline: 43.793262 m<br>Passes de Oussama Targhalline: 12.841339 m<br>Passes de Oussama Targhalline: 24.96157 m<br>Passes de Daler Kuzyaev: 11.115754 m<br>Passes de Daler Kuzyaev: 24.242525 m<br>Passes de Daler Kuzyaev: 21.44621 m<br>Passes de Arthur Desmas: 70.033775 m<br>Passes de Daler Kuzyaev: 22.143396 m<br>Passes de Oussama Targhalline: 9.667471 m<br>Passes de Oussama Targhalline: 20.448227 m<br>Passes de Oussama Targhalline: 17.622997 m<br>Passes de Daler Kuzyaev: 24.932709 m<br>",
         "marker": {
          "color": "blue",
          "size": 20
         },
         "mode": "markers+text",
         "text": [
          "Josue Casimir"
         ],
         "textposition": "top center",
         "type": "scatter",
         "x": [
          100
         ],
         "y": [
          70
         ]
        },
        {
         "hoverinfo": "text",
         "hovertext": "Joueur: Gautier Lloris<br>Nombre de passes effectuées: 32<br>Longueur moyenne des passes effectuées: 13.61 m<br>Nombre de passes reçues: 24<br>Longueur moyenne des passes reçues: 18.73 m<br>Passes vers Josue Casimir: 28.166115 m<br>Passes vers Josue Casimir: 11.676472 m<br>Passes vers Daler Kuzyaev: 15.454773 m<br>Passes vers Daler Kuzyaev: 12.681088 m<br>Passes vers Arouna Sangante: 7.7491937 m<br>Passes vers Oussama Targhalline: 23.210558 m<br>Passes vers Arouna Sangante: 26.518862 m<br>Passes vers Josue Casimir: 8.028076 m<br>Passes vers Arouna Sangante: 9.062009 m<br>Passes vers Daler Kuzyaev: 17.066048 m<br>Passes vers Josue Casimir: 1.3038405 m<br>Passes vers Rassoul Ndiaye: 10.929318 m<br>Passes vers Josue Casimir: 16.609034 m<br>Passes vers Oussama Targhalline: 7.2111025 m<br>Passes vers Josue Casimir: 3.8483763 m<br>Passes vers Arouna Sangante: 16.919811 m<br>Passes vers Josue Casimir: 23.496809 m<br>Passes vers Arthur Desmas: 12.841339 m<br>Passes vers Oussama Targhalline: 9.464143 m<br>Passes vers Rassoul Ndiaye: 14.50655 m<br>Passes vers Daler Kuzyaev: 15.10298 m<br>Passes vers Nabil Alioui: 36.669468 m<br>Passes vers Rassoul Ndiaye: 9.6208105 m<br>Passes vers Oussama Targhalline: 9.774457 m<br>Passes vers Arthur Desmas: 8.920202 m<br>Passes vers Daler Kuzyaev: 9.170606 m<br>Passes de Daler Kuzyaev: 9.449339 m<br>Passes de Rassoul Ndiaye: 28.54908 m<br>Passes de Arouna Sangante: 12.238464 m<br>Passes de Arthur Desmas: 23.132013 m<br>Passes de Josue Casimir: 8.79659 m<br>Passes de Arthur Desmas: 20.13579 m<br>Passes de Arouna Sangante: 24.69757 m<br>Passes de Arouna Sangante: 9.615092 m<br>Passes de Oussama Targhalline: 15.206906 m<br>Passes de Josue Casimir: 14.96262 m<br>Passes de Oussama Targhalline: 22.60553 m<br>Passes de Josue Casimir: 10.10198 m<br>Passes de Josue Casimir: 6.0926185 m<br>Passes de Josue Casimir: 9.688137 m<br>Passes de Arouna Sangante: 32.01156 m<br>Passes de Daler Kuzyaev: 20.380629 m<br>Passes de Arouna Sangante: 27.483814 m<br>Passes de Daler Kuzyaev: 19.991999 m<br>Passes de Rassoul Ndiaye: 15.401948 m<br>Passes de Rassoul Ndiaye: 19.544052 m<br>Passes de Arthur Desmas: 19.108376 m<br>Passes de Arthur Desmas: 22.177465 m<br>",
         "marker": {
          "color": "blue",
          "size": 20
         },
         "mode": "markers+text",
         "text": [
          "Gautier Lloris"
         ],
         "textposition": "top center",
         "type": "scatter",
         "x": [
          25
         ],
         "y": [
          10
         ]
        },
        {
         "hoverinfo": "text",
         "hovertext": "Joueur: Daler Kuzyaev<br>Nombre de passes effectuées: 37<br>Longueur moyenne des passes effectuées: 15.20 m<br>Nombre de passes reçues: 31<br>Longueur moyenne des passes reçues: 13.66 m<br>Passes vers Gautier Lloris: 9.449339 m<br>Passes vers Issa Soumare: 2.745906 m<br>Passes vers Rassoul Ndiaye: 13.74409 m<br>Passes vers Josue Casimir: 9.2439165 m<br>Passes vers Nabil Alioui: 15.9380045 m<br>Passes vers Nabil Alioui: 5.0537114 m<br>Passes vers Loic Nego: 11.416217 m<br>Passes vers Oussama Targhalline: 13.484806 m<br>Passes vers Oussama Targhalline: 14.450605 m<br>Passes vers Josue Casimir: 16.03122 m<br>Passes vers Oussama Targhalline: 5.507268 m<br>Passes vers Oussama Targhalline: 14.8030405 m<br>Passes vers Oussama Targhalline: 15.646086 m<br>Passes vers Loic Nego: 12.169634 m<br>Passes vers Josue Casimir: 6.3348246 m<br>Passes vers Rassoul Ndiaye: 26.500189 m<br>Passes vers Issa Soumare: 20.16259 m<br>Passes vers Oussama Targhalline: 10.783784 m<br>Passes vers Arouna Sangante: 16.018114 m<br>Passes vers Josue Casimir: 11.115754 m<br>Passes vers Josue Casimir: 24.242525 m<br>Passes vers Gautier Lloris: 20.380629 m<br>Passes vers Josue Casimir: 21.44621 m<br>Passes vers Rassoul Ndiaye: 9.219544 m<br>Passes vers Gautier Lloris: 19.991999 m<br>Passes vers Issa Soumare: 24.318718 m<br>Passes vers Josue Casimir: 22.143396 m<br>Passes vers Oussama Targhalline: 16.678429 m<br>Passes vers Nabil Alioui: 20.695894 m<br>Passes vers Rassoul Ndiaye: 4.804165 m<br>Passes vers Josue Casimir: 24.932709 m<br>Passes de Oussama Targhalline: 12.727922 m<br>Passes de Gautier Lloris: 15.454773 m<br>Passes de Gautier Lloris: 12.681088 m<br>Passes de Oussama Targhalline: 9.732934 m<br>Passes de Nabil Alioui: 5.841233 m<br>Passes de Yoann Salmier: 17.37383 m<br>Passes de Loic Nego: 11.45513 m<br>Passes de Oussama Targhalline: 8.633076 m<br>Passes de Oussama Targhalline: 16.916264 m<br>Passes de Gautier Lloris: 17.066048 m<br>Passes de Oussama Targhalline: 10.031949 m<br>Passes de Josue Casimir: 3.7735925 m<br>Passes de Yoann Salmier: 12.465152 m<br>Passes de Gautier Lloris: 15.10298 m<br>Passes de Oussama Targhalline: 8.902246 m<br>Passes de Arthur Desmas: 21.85635 m<br>Passes de Gautier Lloris: 9.170606 m<br>",
         "marker": {
          "color": "blue",
          "size": 20
         },
         "mode": "markers+text",
         "text": [
          "Daler Kuzyaev"
         ],
         "textposition": "top center",
         "type": "scatter",
         "x": [
          80
         ],
         "y": [
          60
         ]
        },
        {
         "hoverinfo": "text",
         "hovertext": "Joueur: Yoann Salmier<br>Nombre de passes effectuées: 30<br>Longueur moyenne des passes effectuées: 24.64 m<br>Nombre de passes reçues: 14<br>Longueur moyenne des passes reçues: 18.33 m<br>Passes vers Issa Soumare: 60.04207 m<br>Passes vers Nabil Alioui: 26.064728 m<br>Passes vers Issa Soumare: 23.88828 m<br>Passes vers Issa Soumare: 43.95384 m<br>Passes vers Issa Soumare: 18.704277 m<br>Passes vers Daler Kuzyaev: 17.37383 m<br>Passes vers Arouna Sangante: 27.83523 m<br>Passes vers Arouna Sangante: 17.912006 m<br>Passes vers Issa Soumare: 69.61049 m<br>Passes vers Arouna Sangante: 16.484236 m<br>Passes vers Loic Nego: 13.90899 m<br>Passes vers Issa Soumare: 84.49953 m<br>Passes vers Rassoul Ndiaye: 19.945927 m<br>Passes vers Loic Nego: 20.861448 m<br>Passes vers Daler Kuzyaev: 12.465152 m<br>Passes vers Oussama Targhalline: 34.024258 m<br>Passes vers Arthur Desmas: 40.70995 m<br>Passes vers Oussama Targhalline: 13.049521 m<br>Passes vers Oussama Targhalline: 18.489456 m<br>Passes vers Oussama Targhalline: 15.246311 m<br>Passes vers Rassoul Ndiaye: 13.263861 m<br>Passes vers Arouna Sangante: 25.400787 m<br>Passes de Nabil Alioui: 32.736065 m<br>Passes de Arouna Sangante: 12.169634 m<br>Passes de Loic Nego: 16.902662 m<br>Passes de Loic Nego: 13.024976 m<br>Passes de Rassoul Ndiaye: 15.065191 m<br>Passes de Arouna Sangante: 22.40558 m<br>Passes de Arouna Sangante: 16.618362 m<br>Passes de Issa Soumare: 21.920767 m<br>Passes de Oussama Targhalline: 21.36001 m<br>Passes de Arouna Sangante: 25.563255 m<br>Passes de Arthur Desmas: 26.29753 m<br>",
         "marker": {
          "color": "blue",
          "size": 20
         },
         "mode": "markers+text",
         "text": [
          "Yoann Salmier"
         ],
         "textposition": "top center",
         "type": "scatter",
         "x": [
          25
         ],
         "y": [
          70
         ]
        },
        {
         "hoverinfo": "text",
         "hovertext": "Joueur: Nabil Alioui<br>Nombre de passes effectuées: 13<br>Longueur moyenne des passes effectuées: 21.49 m<br>Nombre de passes reçues: 29<br>Longueur moyenne des passes reçues: 23.48 m<br>Passes vers Oussama Targhalline: 11.815245 m<br>Passes vers Loic Nego: 22.26432 m<br>Passes vers Yoann Salmier: 32.736065 m<br>Passes vers Issa Soumare: 22.596682 m<br>Passes vers Issa Soumare: 7.4431176 m<br>Passes vers Arouna Sangante: 20.808653 m<br>Passes vers Daler Kuzyaev: 5.841233 m<br>Passes vers Josue Casimir: 14.989663 m<br>Passes vers Issa Soumare: 40.823647 m<br>Passes vers Issa Soumare: 21.135752 m<br>Passes vers Issa Soumare: 37.579384 m<br>Passes vers Issa Soumare: 25.314423 m<br>Passes vers Issa Soumare: 15.966528 m<br>Passes de Loic Nego: 43.625793 m<br>Passes de Yoann Salmier: 26.064728 m<br>Passes de Loic Nego: 20.282997 m<br>Passes de Josue Casimir: 27.557213 m<br>Passes de Josue Casimir: 11.472576 m<br>Passes de Issa Soumare: 18.56071 m<br>Passes de Daler Kuzyaev: 15.9380045 m<br>Passes de Issa Soumare: 24.055977 m<br>Passes de Josue Casimir: 9.420191 m<br>Passes de Daler Kuzyaev: 5.0537114 m<br>Passes de Issa Soumare: 28.927668 m<br>Passes de Loic Nego: 24.937723 m<br>Passes de Oussama Targhalline: 9.992997 m<br>Passes de Issa Soumare: 5.936329 m<br>Passes de Loic Nego: 29.082296 m<br>Passes de Issa Soumare: 12.432618 m<br>Passes de Issa Soumare: 10.394229 m<br>Passes de Issa Soumare: 32.24717 m<br>Passes de Issa Soumare: 26.076809 m<br>Passes de Issa Soumare: 14.989663 m<br>Passes de Rassoul Ndiaye: 13.438005 m<br>Passes de Gautier Lloris: 36.669468 m<br>Passes de Oussama Targhalline: 21.22852 m<br>Passes de Arthur Desmas: 73.35721 m<br>Passes de Daler Kuzyaev: 20.695894 m<br>Passes de Josue Casimir: 17.780045 m<br>Passes de Arouna Sangante: 57.734653 m<br>Passes de Issa Soumare: 8.9196415 m<br>Passes de Josue Casimir: 33.983818 m<br>",
         "marker": {
          "color": "blue",
          "size": 20
         },
         "mode": "markers+text",
         "text": [
          "Nabil Alioui"
         ],
         "textposition": "top center",
         "type": "scatter",
         "x": [
          110
         ],
         "y": [
          40
         ]
        },
        {
         "hoverinfo": "text",
         "hovertext": "Joueur: Arthur Desmas<br>Nombre de passes effectuées: 23<br>Longueur moyenne des passes effectuées: 44.32 m<br>Nombre de passes reçues: 5<br>Longueur moyenne des passes reçues: 22.77 m<br>Passes vers Issa Soumare: 57.915195 m<br>Passes vers Issa Soumare: 83.02174 m<br>Passes vers Gautier Lloris: 23.132013 m<br>Passes vers Josue Casimir: 16.717056 m<br>Passes vers Gautier Lloris: 20.13579 m<br>Passes vers Oussama Targhalline: 14.458562 m<br>Passes vers Oussama Targhalline: 38.575123 m<br>Passes vers Issa Soumare: 58.46067 m<br>Passes vers Arouna Sangante: 12.80039 m<br>Passes vers Issa Soumare: 63.67935 m<br>Passes vers Josue Casimir: 70.033775 m<br>Passes vers Daler Kuzyaev: 21.85635 m<br>Passes vers Gautier Lloris: 19.108376 m<br>Passes vers Gautier Lloris: 22.177465 m<br>Passes vers Issa Soumare: 64.11372 m<br>Passes vers Yoann Salmier: 26.29753 m<br>Passes vers Nabil Alioui: 73.35721 m<br>Passes vers Issa Soumare: 65.45166 m<br>Passes vers Issa Soumare: 60.627388 m<br>Passes vers Issa Soumare: 57.21547 m<br>Passes de Rassoul Ndiaye: 27.518175 m<br>Passes de Gautier Lloris: 12.841339 m<br>Passes de Yoann Salmier: 40.70995 m<br>Passes de Gautier Lloris: 8.920202 m<br>",
         "marker": {
          "color": "blue",
          "size": 20
         },
         "mode": "markers+text",
         "text": [
          "Arthur Desmas"
         ],
         "textposition": "top center",
         "type": "scatter",
         "x": [
          3
         ],
         "y": [
          40
         ]
        },
        {
         "hoverinfo": "text",
         "hovertext": "Passes de Arouna Sangante à Gautier Lloris<br>Nombre de passes: 5<br>Longueur moyenne des passes: 21.21 m",
         "line": {
          "color": "red",
          "width": 2
         },
         "mode": "lines",
         "type": "scatter",
         "x": [
          12,
          25
         ],
         "y": [
          50,
          10
         ]
        },
        {
         "hoverinfo": "text",
         "hovertext": "Passes de Arouna Sangante à Issa Soumare<br>Nombre de passes: 4<br>Longueur moyenne des passes: 51.94 m",
         "line": {
          "color": "red",
          "width": 2
         },
         "mode": "lines",
         "type": "scatter",
         "x": [
          12,
          100
         ],
         "y": [
          50,
          10
         ]
        },
        {
         "hoverinfo": "text",
         "hovertext": "Passes de Arouna Sangante à Josue Casimir<br>Nombre de passes: 4<br>Longueur moyenne des passes: 33.33 m",
         "line": {
          "color": "red",
          "width": 2
         },
         "mode": "lines",
         "type": "scatter",
         "x": [
          12,
          100
         ],
         "y": [
          50,
          70
         ]
        },
        {
         "hoverinfo": "text",
         "hovertext": "Passes de Arouna Sangante à Loic Nego<br>Nombre de passes: 4<br>Longueur moyenne des passes: 46.11 m",
         "line": {
          "color": "red",
          "width": 2
         },
         "mode": "lines",
         "type": "scatter",
         "x": [
          12,
          12
         ],
         "y": [
          50,
          30
         ]
        },
        {
         "hoverinfo": "text",
         "hovertext": "Passes de Arouna Sangante à Nabil Alioui<br>Nombre de passes: 1<br>Longueur moyenne des passes: 57.73 m",
         "line": {
          "color": "red",
          "width": 2
         },
         "mode": "lines",
         "type": "scatter",
         "x": [
          12,
          110
         ],
         "y": [
          50,
          40
         ]
        },
        {
         "hoverinfo": "text",
         "hovertext": "Passes de Arouna Sangante à Oussama Targhalline<br>Nombre de passes: 2<br>Longueur moyenne des passes: 5.35 m",
         "line": {
          "color": "red",
          "width": 2
         },
         "mode": "lines",
         "type": "scatter",
         "x": [
          12,
          50
         ],
         "y": [
          50,
          40
         ]
        },
        {
         "hoverinfo": "text",
         "hovertext": "Passes de Arouna Sangante à Rassoul Ndiaye<br>Nombre de passes: 1<br>Longueur moyenne des passes: 29.92 m",
         "line": {
          "color": "red",
          "width": 2
         },
         "mode": "lines",
         "type": "scatter",
         "x": [
          12,
          80
         ],
         "y": [
          50,
          20
         ]
        },
        {
         "hoverinfo": "text",
         "hovertext": "Passes de Arouna Sangante à Yoann Salmier<br>Nombre de passes: 4<br>Longueur moyenne des passes: 19.19 m",
         "line": {
          "color": "red",
          "width": 2
         },
         "mode": "lines",
         "type": "scatter",
         "x": [
          12,
          25
         ],
         "y": [
          50,
          70
         ]
        },
        {
         "hoverinfo": "text",
         "hovertext": "Passes de Arthur Desmas à Arouna Sangante<br>Nombre de passes: 1<br>Longueur moyenne des passes: 12.80 m",
         "line": {
          "color": "red",
          "width": 2
         },
         "mode": "lines",
         "type": "scatter",
         "x": [
          3,
          12
         ],
         "y": [
          40,
          50
         ]
        },
        {
         "hoverinfo": "text",
         "hovertext": "Passes de Arthur Desmas à Daler Kuzyaev<br>Nombre de passes: 1<br>Longueur moyenne des passes: 21.86 m",
         "line": {
          "color": "red",
          "width": 2
         },
         "mode": "lines",
         "type": "scatter",
         "x": [
          3,
          80
         ],
         "y": [
          40,
          60
         ]
        },
        {
         "hoverinfo": "text",
         "hovertext": "Passes de Arthur Desmas à Gautier Lloris<br>Nombre de passes: 4<br>Longueur moyenne des passes: 21.14 m",
         "line": {
          "color": "red",
          "width": 2
         },
         "mode": "lines",
         "type": "scatter",
         "x": [
          3,
          25
         ],
         "y": [
          40,
          10
         ]
        },
        {
         "hoverinfo": "text",
         "hovertext": "Passes de Arthur Desmas à Issa Soumare<br>Nombre de passes: 8<br>Longueur moyenne des passes: 63.81 m",
         "line": {
          "color": "red",
          "width": 2
         },
         "mode": "lines",
         "type": "scatter",
         "x": [
          3,
          100
         ],
         "y": [
          40,
          10
         ]
        },
        {
         "hoverinfo": "text",
         "hovertext": "Passes de Arthur Desmas à Josue Casimir<br>Nombre de passes: 2<br>Longueur moyenne des passes: 43.38 m",
         "line": {
          "color": "red",
          "width": 2
         },
         "mode": "lines",
         "type": "scatter",
         "x": [
          3,
          100
         ],
         "y": [
          40,
          70
         ]
        },
        {
         "hoverinfo": "text",
         "hovertext": "Passes de Arthur Desmas à Nabil Alioui<br>Nombre de passes: 1<br>Longueur moyenne des passes: 73.36 m",
         "line": {
          "color": "red",
          "width": 2
         },
         "mode": "lines",
         "type": "scatter",
         "x": [
          3,
          110
         ],
         "y": [
          40,
          40
         ]
        },
        {
         "hoverinfo": "text",
         "hovertext": "Passes de Arthur Desmas à Oussama Targhalline<br>Nombre de passes: 2<br>Longueur moyenne des passes: 26.52 m",
         "line": {
          "color": "red",
          "width": 2
         },
         "mode": "lines",
         "type": "scatter",
         "x": [
          3,
          50
         ],
         "y": [
          40,
          40
         ]
        },
        {
         "hoverinfo": "text",
         "hovertext": "Passes de Arthur Desmas à Yoann Salmier<br>Nombre de passes: 1<br>Longueur moyenne des passes: 26.30 m",
         "line": {
          "color": "red",
          "width": 2
         },
         "mode": "lines",
         "type": "scatter",
         "x": [
          3,
          25
         ],
         "y": [
          40,
          70
         ]
        },
        {
         "hoverinfo": "text",
         "hovertext": "Passes de Daler Kuzyaev à Arouna Sangante<br>Nombre de passes: 1<br>Longueur moyenne des passes: 16.02 m",
         "line": {
          "color": "red",
          "width": 2
         },
         "mode": "lines",
         "type": "scatter",
         "x": [
          80,
          12
         ],
         "y": [
          60,
          50
         ]
        },
        {
         "hoverinfo": "text",
         "hovertext": "Passes de Daler Kuzyaev à Gautier Lloris<br>Nombre de passes: 3<br>Longueur moyenne des passes: 16.61 m",
         "line": {
          "color": "red",
          "width": 2
         },
         "mode": "lines",
         "type": "scatter",
         "x": [
          80,
          25
         ],
         "y": [
          60,
          10
         ]
        },
        {
         "hoverinfo": "text",
         "hovertext": "Passes de Daler Kuzyaev à Issa Soumare<br>Nombre de passes: 3<br>Longueur moyenne des passes: 15.74 m",
         "line": {
          "color": "red",
          "width": 2
         },
         "mode": "lines",
         "type": "scatter",
         "x": [
          80,
          100
         ],
         "y": [
          60,
          10
         ]
        },
        {
         "hoverinfo": "text",
         "hovertext": "Passes de Daler Kuzyaev à Josue Casimir<br>Nombre de passes: 8<br>Longueur moyenne des passes: 16.94 m",
         "line": {
          "color": "red",
          "width": 2
         },
         "mode": "lines",
         "type": "scatter",
         "x": [
          80,
          100
         ],
         "y": [
          60,
          70
         ]
        },
        {
         "hoverinfo": "text",
         "hovertext": "Passes de Daler Kuzyaev à Loic Nego<br>Nombre de passes: 2<br>Longueur moyenne des passes: 11.79 m",
         "line": {
          "color": "red",
          "width": 2
         },
         "mode": "lines",
         "type": "scatter",
         "x": [
          80,
          12
         ],
         "y": [
          60,
          30
         ]
        },
        {
         "hoverinfo": "text",
         "hovertext": "Passes de Daler Kuzyaev à Nabil Alioui<br>Nombre de passes: 3<br>Longueur moyenne des passes: 13.90 m",
         "line": {
          "color": "red",
          "width": 2
         },
         "mode": "lines",
         "type": "scatter",
         "x": [
          80,
          110
         ],
         "y": [
          60,
          40
         ]
        },
        {
         "hoverinfo": "text",
         "hovertext": "Passes de Daler Kuzyaev à Oussama Targhalline<br>Nombre de passes: 7<br>Longueur moyenne des passes: 13.05 m",
         "line": {
          "color": "red",
          "width": 2
         },
         "mode": "lines",
         "type": "scatter",
         "x": [
          80,
          50
         ],
         "y": [
          60,
          40
         ]
        },
        {
         "hoverinfo": "text",
         "hovertext": "Passes de Daler Kuzyaev à Rassoul Ndiaye<br>Nombre de passes: 4<br>Longueur moyenne des passes: 13.57 m",
         "line": {
          "color": "red",
          "width": 2
         },
         "mode": "lines",
         "type": "scatter",
         "x": [
          80,
          80
         ],
         "y": [
          60,
          20
         ]
        },
        {
         "hoverinfo": "text",
         "hovertext": "Passes de Gautier Lloris à Arouna Sangante<br>Nombre de passes: 4<br>Longueur moyenne des passes: 15.06 m",
         "line": {
          "color": "red",
          "width": 2
         },
         "mode": "lines",
         "type": "scatter",
         "x": [
          25,
          12
         ],
         "y": [
          10,
          50
         ]
        },
        {
         "hoverinfo": "text",
         "hovertext": "Passes de Gautier Lloris à Arthur Desmas<br>Nombre de passes: 2<br>Longueur moyenne des passes: 10.88 m",
         "line": {
          "color": "red",
          "width": 2
         },
         "mode": "lines",
         "type": "scatter",
         "x": [
          25,
          3
         ],
         "y": [
          10,
          40
         ]
        },
        {
         "hoverinfo": "text",
         "hovertext": "Passes de Gautier Lloris à Daler Kuzyaev<br>Nombre de passes: 5<br>Longueur moyenne des passes: 13.90 m",
         "line": {
          "color": "red",
          "width": 2
         },
         "mode": "lines",
         "type": "scatter",
         "x": [
          25,
          80
         ],
         "y": [
          10,
          60
         ]
        },
        {
         "hoverinfo": "text",
         "hovertext": "Passes de Gautier Lloris à Josue Casimir<br>Nombre de passes: 7<br>Longueur moyenne des passes: 13.30 m",
         "line": {
          "color": "red",
          "width": 2
         },
         "mode": "lines",
         "type": "scatter",
         "x": [
          25,
          100
         ],
         "y": [
          10,
          70
         ]
        },
        {
         "hoverinfo": "text",
         "hovertext": "Passes de Gautier Lloris à Nabil Alioui<br>Nombre de passes: 1<br>Longueur moyenne des passes: 36.67 m",
         "line": {
          "color": "red",
          "width": 2
         },
         "mode": "lines",
         "type": "scatter",
         "x": [
          25,
          110
         ],
         "y": [
          10,
          40
         ]
        },
        {
         "hoverinfo": "text",
         "hovertext": "Passes de Gautier Lloris à Oussama Targhalline<br>Nombre de passes: 4<br>Longueur moyenne des passes: 12.42 m",
         "line": {
          "color": "red",
          "width": 2
         },
         "mode": "lines",
         "type": "scatter",
         "x": [
          25,
          50
         ],
         "y": [
          10,
          40
         ]
        },
        {
         "hoverinfo": "text",
         "hovertext": "Passes de Gautier Lloris à Rassoul Ndiaye<br>Nombre de passes: 3<br>Longueur moyenne des passes: 11.69 m",
         "line": {
          "color": "red",
          "width": 2
         },
         "mode": "lines",
         "type": "scatter",
         "x": [
          25,
          80
         ],
         "y": [
          10,
          20
         ]
        },
        {
         "hoverinfo": "text",
         "hovertext": "Passes de Issa Soumare à Nabil Alioui<br>Nombre de passes: 10<br>Longueur moyenne des passes: 18.25 m",
         "line": {
          "color": "red",
          "width": 2
         },
         "mode": "lines",
         "type": "scatter",
         "x": [
          100,
          110
         ],
         "y": [
          10,
          40
         ]
        },
        {
         "hoverinfo": "text",
         "hovertext": "Passes de Issa Soumare à Rassoul Ndiaye<br>Nombre de passes: 3<br>Longueur moyenne des passes: 9.94 m",
         "line": {
          "color": "red",
          "width": 2
         },
         "mode": "lines",
         "type": "scatter",
         "x": [
          100,
          80
         ],
         "y": [
          10,
          20
         ]
        },
        {
         "hoverinfo": "text",
         "hovertext": "Passes de Issa Soumare à Yoann Salmier<br>Nombre de passes: 1<br>Longueur moyenne des passes: 21.92 m",
         "line": {
          "color": "red",
          "width": 2
         },
         "mode": "lines",
         "type": "scatter",
         "x": [
          100,
          25
         ],
         "y": [
          10,
          70
         ]
        },
        {
         "hoverinfo": "text",
         "hovertext": "Passes de Josue Casimir à Daler Kuzyaev<br>Nombre de passes: 1<br>Longueur moyenne des passes: 3.77 m",
         "line": {
          "color": "red",
          "width": 2
         },
         "mode": "lines",
         "type": "scatter",
         "x": [
          100,
          80
         ],
         "y": [
          70,
          60
         ]
        },
        {
         "hoverinfo": "text",
         "hovertext": "Passes de Josue Casimir à Gautier Lloris<br>Nombre de passes: 5<br>Longueur moyenne des passes: 9.93 m",
         "line": {
          "color": "red",
          "width": 2
         },
         "mode": "lines",
         "type": "scatter",
         "x": [
          100,
          25
         ],
         "y": [
          70,
          10
         ]
        },
        {
         "hoverinfo": "text",
         "hovertext": "Passes de Josue Casimir à Issa Soumare<br>Nombre de passes: 6<br>Longueur moyenne des passes: 30.97 m",
         "line": {
          "color": "red",
          "width": 2
         },
         "mode": "lines",
         "type": "scatter",
         "x": [
          100,
          100
         ],
         "y": [
          70,
          10
         ]
        },
        {
         "hoverinfo": "text",
         "hovertext": "Passes de Josue Casimir à Nabil Alioui<br>Nombre de passes: 5<br>Longueur moyenne des passes: 20.04 m",
         "line": {
          "color": "red",
          "width": 2
         },
         "mode": "lines",
         "type": "scatter",
         "x": [
          100,
          110
         ],
         "y": [
          70,
          40
         ]
        },
        {
         "hoverinfo": "text",
         "hovertext": "Passes de Josue Casimir à Oussama Targhalline<br>Nombre de passes: 6<br>Longueur moyenne des passes: 11.78 m",
         "line": {
          "color": "red",
          "width": 2
         },
         "mode": "lines",
         "type": "scatter",
         "x": [
          100,
          50
         ],
         "y": [
          70,
          40
         ]
        },
        {
         "hoverinfo": "text",
         "hovertext": "Passes de Josue Casimir à Rassoul Ndiaye<br>Nombre de passes: 1<br>Longueur moyenne des passes: 11.23 m",
         "line": {
          "color": "red",
          "width": 2
         },
         "mode": "lines",
         "type": "scatter",
         "x": [
          100,
          80
         ],
         "y": [
          70,
          20
         ]
        },
        {
         "hoverinfo": "text",
         "hovertext": "Passes de Loic Nego à Arouna Sangante<br>Nombre de passes: 2<br>Longueur moyenne des passes: 24.94 m",
         "line": {
          "color": "red",
          "width": 2
         },
         "mode": "lines",
         "type": "scatter",
         "x": [
          12,
          12
         ],
         "y": [
          30,
          50
         ]
        },
        {
         "hoverinfo": "text",
         "hovertext": "Passes de Loic Nego à Daler Kuzyaev<br>Nombre de passes: 1<br>Longueur moyenne des passes: 11.46 m",
         "line": {
          "color": "red",
          "width": 2
         },
         "mode": "lines",
         "type": "scatter",
         "x": [
          12,
          80
         ],
         "y": [
          30,
          60
         ]
        },
        {
         "hoverinfo": "text",
         "hovertext": "Passes de Loic Nego à Issa Soumare<br>Nombre de passes: 6<br>Longueur moyenne des passes: 21.91 m",
         "line": {
          "color": "red",
          "width": 2
         },
         "mode": "lines",
         "type": "scatter",
         "x": [
          12,
          100
         ],
         "y": [
          30,
          10
         ]
        },
        {
         "hoverinfo": "text",
         "hovertext": "Passes de Loic Nego à Nabil Alioui<br>Nombre de passes: 4<br>Longueur moyenne des passes: 29.48 m",
         "line": {
          "color": "red",
          "width": 2
         },
         "mode": "lines",
         "type": "scatter",
         "x": [
          12,
          110
         ],
         "y": [
          30,
          40
         ]
        },
        {
         "hoverinfo": "text",
         "hovertext": "Passes de Loic Nego à Oussama Targhalline<br>Nombre de passes: 8<br>Longueur moyenne des passes: 12.20 m",
         "line": {
          "color": "red",
          "width": 2
         },
         "mode": "lines",
         "type": "scatter",
         "x": [
          12,
          50
         ],
         "y": [
          30,
          40
         ]
        },
        {
         "hoverinfo": "text",
         "hovertext": "Passes de Loic Nego à Rassoul Ndiaye<br>Nombre de passes: 5<br>Longueur moyenne des passes: 20.12 m",
         "line": {
          "color": "red",
          "width": 2
         },
         "mode": "lines",
         "type": "scatter",
         "x": [
          12,
          80
         ],
         "y": [
          30,
          20
         ]
        },
        {
         "hoverinfo": "text",
         "hovertext": "Passes de Loic Nego à Yoann Salmier<br>Nombre de passes: 2<br>Longueur moyenne des passes: 14.96 m",
         "line": {
          "color": "red",
          "width": 2
         },
         "mode": "lines",
         "type": "scatter",
         "x": [
          12,
          25
         ],
         "y": [
          30,
          70
         ]
        },
        {
         "hoverinfo": "text",
         "hovertext": "Passes de Nabil Alioui à Arouna Sangante<br>Nombre de passes: 1<br>Longueur moyenne des passes: 20.81 m",
         "line": {
          "color": "red",
          "width": 2
         },
         "mode": "lines",
         "type": "scatter",
         "x": [
          110,
          12
         ],
         "y": [
          40,
          50
         ]
        },
        {
         "hoverinfo": "text",
         "hovertext": "Passes de Nabil Alioui à Daler Kuzyaev<br>Nombre de passes: 1<br>Longueur moyenne des passes: 5.84 m",
         "line": {
          "color": "red",
          "width": 2
         },
         "mode": "lines",
         "type": "scatter",
         "x": [
          110,
          80
         ],
         "y": [
          40,
          60
         ]
        },
        {
         "hoverinfo": "text",
         "hovertext": "Passes de Nabil Alioui à Issa Soumare<br>Nombre de passes: 7<br>Longueur moyenne des passes: 24.41 m",
         "line": {
          "color": "red",
          "width": 2
         },
         "mode": "lines",
         "type": "scatter",
         "x": [
          110,
          100
         ],
         "y": [
          40,
          10
         ]
        },
        {
         "hoverinfo": "text",
         "hovertext": "Passes de Nabil Alioui à Josue Casimir<br>Nombre de passes: 1<br>Longueur moyenne des passes: 14.99 m",
         "line": {
          "color": "red",
          "width": 2
         },
         "mode": "lines",
         "type": "scatter",
         "x": [
          110,
          100
         ],
         "y": [
          40,
          70
         ]
        },
        {
         "hoverinfo": "text",
         "hovertext": "Passes de Nabil Alioui à Loic Nego<br>Nombre de passes: 1<br>Longueur moyenne des passes: 22.26 m",
         "line": {
          "color": "red",
          "width": 2
         },
         "mode": "lines",
         "type": "scatter",
         "x": [
          110,
          12
         ],
         "y": [
          40,
          30
         ]
        },
        {
         "hoverinfo": "text",
         "hovertext": "Passes de Nabil Alioui à Oussama Targhalline<br>Nombre de passes: 1<br>Longueur moyenne des passes: 11.82 m",
         "line": {
          "color": "red",
          "width": 2
         },
         "mode": "lines",
         "type": "scatter",
         "x": [
          110,
          50
         ],
         "y": [
          40,
          40
         ]
        },
        {
         "hoverinfo": "text",
         "hovertext": "Passes de Nabil Alioui à Yoann Salmier<br>Nombre de passes: 1<br>Longueur moyenne des passes: 32.74 m",
         "line": {
          "color": "red",
          "width": 2
         },
         "mode": "lines",
         "type": "scatter",
         "x": [
          110,
          25
         ],
         "y": [
          40,
          70
         ]
        },
        {
         "hoverinfo": "text",
         "hovertext": "Passes de Oussama Targhalline à Daler Kuzyaev<br>Nombre de passes: 6<br>Longueur moyenne des passes: 11.16 m",
         "line": {
          "color": "red",
          "width": 2
         },
         "mode": "lines",
         "type": "scatter",
         "x": [
          50,
          80
         ],
         "y": [
          40,
          60
         ]
        },
        {
         "hoverinfo": "text",
         "hovertext": "Passes de Oussama Targhalline à Gautier Lloris<br>Nombre de passes: 2<br>Longueur moyenne des passes: 18.91 m",
         "line": {
          "color": "red",
          "width": 2
         },
         "mode": "lines",
         "type": "scatter",
         "x": [
          50,
          25
         ],
         "y": [
          40,
          10
         ]
        },
        {
         "hoverinfo": "text",
         "hovertext": "Passes de Oussama Targhalline à Issa Soumare<br>Nombre de passes: 7<br>Longueur moyenne des passes: 24.20 m",
         "line": {
          "color": "red",
          "width": 2
         },
         "mode": "lines",
         "type": "scatter",
         "x": [
          50,
          100
         ],
         "y": [
          40,
          10
         ]
        },
        {
         "hoverinfo": "text",
         "hovertext": "Passes de Oussama Targhalline à Josue Casimir<br>Nombre de passes: 9<br>Longueur moyenne des passes: 18.89 m",
         "line": {
          "color": "red",
          "width": 2
         },
         "mode": "lines",
         "type": "scatter",
         "x": [
          50,
          100
         ],
         "y": [
          40,
          70
         ]
        },
        {
         "hoverinfo": "text",
         "hovertext": "Passes de Oussama Targhalline à Loic Nego<br>Nombre de passes: 4<br>Longueur moyenne des passes: 12.71 m",
         "line": {
          "color": "red",
          "width": 2
         },
         "mode": "lines",
         "type": "scatter",
         "x": [
          50,
          12
         ],
         "y": [
          40,
          30
         ]
        },
        {
         "hoverinfo": "text",
         "hovertext": "Passes de Oussama Targhalline à Nabil Alioui<br>Nombre de passes: 2<br>Longueur moyenne des passes: 15.61 m",
         "line": {
          "color": "red",
          "width": 2
         },
         "mode": "lines",
         "type": "scatter",
         "x": [
          50,
          110
         ],
         "y": [
          40,
          40
         ]
        },
        {
         "hoverinfo": "text",
         "hovertext": "Passes de Oussama Targhalline à Rassoul Ndiaye<br>Nombre de passes: 9<br>Longueur moyenne des passes: 14.18 m",
         "line": {
          "color": "red",
          "width": 2
         },
         "mode": "lines",
         "type": "scatter",
         "x": [
          50,
          80
         ],
         "y": [
          40,
          20
         ]
        },
        {
         "hoverinfo": "text",
         "hovertext": "Passes de Oussama Targhalline à Yoann Salmier<br>Nombre de passes: 1<br>Longueur moyenne des passes: 21.36 m",
         "line": {
          "color": "red",
          "width": 2
         },
         "mode": "lines",
         "type": "scatter",
         "x": [
          50,
          25
         ],
         "y": [
          40,
          70
         ]
        },
        {
         "hoverinfo": "text",
         "hovertext": "Passes de Rassoul Ndiaye à Arthur Desmas<br>Nombre de passes: 1<br>Longueur moyenne des passes: 27.52 m",
         "line": {
          "color": "red",
          "width": 2
         },
         "mode": "lines",
         "type": "scatter",
         "x": [
          80,
          3
         ],
         "y": [
          20,
          40
         ]
        },
        {
         "hoverinfo": "text",
         "hovertext": "Passes de Rassoul Ndiaye à Gautier Lloris<br>Nombre de passes: 3<br>Longueur moyenne des passes: 21.17 m",
         "line": {
          "color": "red",
          "width": 2
         },
         "mode": "lines",
         "type": "scatter",
         "x": [
          80,
          25
         ],
         "y": [
          20,
          10
         ]
        },
        {
         "hoverinfo": "text",
         "hovertext": "Passes de Rassoul Ndiaye à Issa Soumare<br>Nombre de passes: 3<br>Longueur moyenne des passes: 32.10 m",
         "line": {
          "color": "red",
          "width": 2
         },
         "mode": "lines",
         "type": "scatter",
         "x": [
          80,
          100
         ],
         "y": [
          20,
          10
         ]
        },
        {
         "hoverinfo": "text",
         "hovertext": "Passes de Rassoul Ndiaye à Josue Casimir<br>Nombre de passes: 3<br>Longueur moyenne des passes: 19.74 m",
         "line": {
          "color": "red",
          "width": 2
         },
         "mode": "lines",
         "type": "scatter",
         "x": [
          80,
          100
         ],
         "y": [
          20,
          70
         ]
        },
        {
         "hoverinfo": "text",
         "hovertext": "Passes de Rassoul Ndiaye à Loic Nego<br>Nombre de passes: 5<br>Longueur moyenne des passes: 15.75 m",
         "line": {
          "color": "red",
          "width": 2
         },
         "mode": "lines",
         "type": "scatter",
         "x": [
          80,
          12
         ],
         "y": [
          20,
          30
         ]
        },
        {
         "hoverinfo": "text",
         "hovertext": "Passes de Rassoul Ndiaye à Nabil Alioui<br>Nombre de passes: 1<br>Longueur moyenne des passes: 13.44 m",
         "line": {
          "color": "red",
          "width": 2
         },
         "mode": "lines",
         "type": "scatter",
         "x": [
          80,
          110
         ],
         "y": [
          20,
          40
         ]
        },
        {
         "hoverinfo": "text",
         "hovertext": "Passes de Rassoul Ndiaye à Oussama Targhalline<br>Nombre de passes: 4<br>Longueur moyenne des passes: 9.02 m",
         "line": {
          "color": "red",
          "width": 2
         },
         "mode": "lines",
         "type": "scatter",
         "x": [
          80,
          50
         ],
         "y": [
          20,
          40
         ]
        },
        {
         "hoverinfo": "text",
         "hovertext": "Passes de Rassoul Ndiaye à Yoann Salmier<br>Nombre de passes: 1<br>Longueur moyenne des passes: 15.07 m",
         "line": {
          "color": "red",
          "width": 2
         },
         "mode": "lines",
         "type": "scatter",
         "x": [
          80,
          25
         ],
         "y": [
          20,
          70
         ]
        },
        {
         "hoverinfo": "text",
         "hovertext": "Passes de Yoann Salmier à Arouna Sangante<br>Nombre de passes: 4<br>Longueur moyenne des passes: 21.91 m",
         "line": {
          "color": "red",
          "width": 2
         },
         "mode": "lines",
         "type": "scatter",
         "x": [
          25,
          12
         ],
         "y": [
          70,
          50
         ]
        },
        {
         "hoverinfo": "text",
         "hovertext": "Passes de Yoann Salmier à Arthur Desmas<br>Nombre de passes: 1<br>Longueur moyenne des passes: 40.71 m",
         "line": {
          "color": "red",
          "width": 2
         },
         "mode": "lines",
         "type": "scatter",
         "x": [
          25,
          3
         ],
         "y": [
          70,
          40
         ]
        },
        {
         "hoverinfo": "text",
         "hovertext": "Passes de Yoann Salmier à Daler Kuzyaev<br>Nombre de passes: 2<br>Longueur moyenne des passes: 14.92 m",
         "line": {
          "color": "red",
          "width": 2
         },
         "mode": "lines",
         "type": "scatter",
         "x": [
          25,
          80
         ],
         "y": [
          70,
          60
         ]
        },
        {
         "hoverinfo": "text",
         "hovertext": "Passes de Yoann Salmier à Issa Soumare<br>Nombre de passes: 6<br>Longueur moyenne des passes: 50.12 m",
         "line": {
          "color": "red",
          "width": 2
         },
         "mode": "lines",
         "type": "scatter",
         "x": [
          25,
          100
         ],
         "y": [
          70,
          10
         ]
        },
        {
         "hoverinfo": "text",
         "hovertext": "Passes de Yoann Salmier à Loic Nego<br>Nombre de passes: 2<br>Longueur moyenne des passes: 17.39 m",
         "line": {
          "color": "red",
          "width": 2
         },
         "mode": "lines",
         "type": "scatter",
         "x": [
          25,
          12
         ],
         "y": [
          70,
          30
         ]
        },
        {
         "hoverinfo": "text",
         "hovertext": "Passes de Yoann Salmier à Nabil Alioui<br>Nombre de passes: 1<br>Longueur moyenne des passes: 26.06 m",
         "line": {
          "color": "red",
          "width": 2
         },
         "mode": "lines",
         "type": "scatter",
         "x": [
          25,
          110
         ],
         "y": [
          70,
          40
         ]
        },
        {
         "hoverinfo": "text",
         "hovertext": "Passes de Yoann Salmier à Oussama Targhalline<br>Nombre de passes: 4<br>Longueur moyenne des passes: 20.20 m",
         "line": {
          "color": "red",
          "width": 2
         },
         "mode": "lines",
         "type": "scatter",
         "x": [
          25,
          50
         ],
         "y": [
          70,
          40
         ]
        },
        {
         "hoverinfo": "text",
         "hovertext": "Passes de Yoann Salmier à Rassoul Ndiaye<br>Nombre de passes: 2<br>Longueur moyenne des passes: 16.60 m",
         "line": {
          "color": "red",
          "width": 2
         },
         "mode": "lines",
         "type": "scatter",
         "x": [
          25,
          80
         ],
         "y": [
          70,
          20
         ]
        }
       ],
       "layout": {
        "height": 900,
        "shapes": [
         {
          "line": {
           "color": "Black"
          },
          "type": "rect",
          "x0": 0,
          "x1": 120,
          "y0": 0,
          "y1": 80
         },
         {
          "line": {
           "color": "Black",
           "dash": "dot"
          },
          "type": "line",
          "x0": 60,
          "x1": 60,
          "y0": 0,
          "y1": 80
         },
         {
          "line": {
           "color": "Black"
          },
          "type": "rect",
          "x0": 0,
          "x1": 18,
          "y0": 18,
          "y1": 62
         },
         {
          "line": {
           "color": "Black"
          },
          "type": "rect",
          "x0": 102,
          "x1": 120,
          "y0": 18,
          "y1": 62
         },
         {
          "line": {
           "color": "Black"
          },
          "type": "rect",
          "x0": 0,
          "x1": 5.5,
          "y0": 30,
          "y1": 50
         },
         {
          "line": {
           "color": "Black"
          },
          "type": "rect",
          "x0": 114.5,
          "x1": 120,
          "y0": 30,
          "y1": 50
         },
         {
          "line": {
           "color": "Black"
          },
          "type": "rect",
          "x0": 0,
          "x1": 2,
          "y0": 36,
          "y1": 44
         },
         {
          "line": {
           "color": "Black"
          },
          "type": "rect",
          "x0": 118,
          "x1": 120,
          "y0": 36,
          "y1": 44
         },
         {
          "line": {
           "color": "Black"
          },
          "type": "circle",
          "x0": 50.4,
          "x1": 69.6,
          "xref": "x",
          "y0": 30.4,
          "y1": 49.6,
          "yref": "y"
         }
        ],
        "template": {
         "data": {
          "bar": [
           {
            "error_x": {
             "color": "#2a3f5f"
            },
            "error_y": {
             "color": "#2a3f5f"
            },
            "marker": {
             "line": {
              "color": "#E5ECF6",
              "width": 0.5
             },
             "pattern": {
              "fillmode": "overlay",
              "size": 10,
              "solidity": 0.2
             }
            },
            "type": "bar"
           }
          ],
          "barpolar": [
           {
            "marker": {
             "line": {
              "color": "#E5ECF6",
              "width": 0.5
             },
             "pattern": {
              "fillmode": "overlay",
              "size": 10,
              "solidity": 0.2
             }
            },
            "type": "barpolar"
           }
          ],
          "carpet": [
           {
            "aaxis": {
             "endlinecolor": "#2a3f5f",
             "gridcolor": "white",
             "linecolor": "white",
             "minorgridcolor": "white",
             "startlinecolor": "#2a3f5f"
            },
            "baxis": {
             "endlinecolor": "#2a3f5f",
             "gridcolor": "white",
             "linecolor": "white",
             "minorgridcolor": "white",
             "startlinecolor": "#2a3f5f"
            },
            "type": "carpet"
           }
          ],
          "choropleth": [
           {
            "colorbar": {
             "outlinewidth": 0,
             "ticks": ""
            },
            "type": "choropleth"
           }
          ],
          "contour": [
           {
            "colorbar": {
             "outlinewidth": 0,
             "ticks": ""
            },
            "colorscale": [
             [
              0,
              "#0d0887"
             ],
             [
              0.1111111111111111,
              "#46039f"
             ],
             [
              0.2222222222222222,
              "#7201a8"
             ],
             [
              0.3333333333333333,
              "#9c179e"
             ],
             [
              0.4444444444444444,
              "#bd3786"
             ],
             [
              0.5555555555555556,
              "#d8576b"
             ],
             [
              0.6666666666666666,
              "#ed7953"
             ],
             [
              0.7777777777777778,
              "#fb9f3a"
             ],
             [
              0.8888888888888888,
              "#fdca26"
             ],
             [
              1,
              "#f0f921"
             ]
            ],
            "type": "contour"
           }
          ],
          "contourcarpet": [
           {
            "colorbar": {
             "outlinewidth": 0,
             "ticks": ""
            },
            "type": "contourcarpet"
           }
          ],
          "heatmap": [
           {
            "colorbar": {
             "outlinewidth": 0,
             "ticks": ""
            },
            "colorscale": [
             [
              0,
              "#0d0887"
             ],
             [
              0.1111111111111111,
              "#46039f"
             ],
             [
              0.2222222222222222,
              "#7201a8"
             ],
             [
              0.3333333333333333,
              "#9c179e"
             ],
             [
              0.4444444444444444,
              "#bd3786"
             ],
             [
              0.5555555555555556,
              "#d8576b"
             ],
             [
              0.6666666666666666,
              "#ed7953"
             ],
             [
              0.7777777777777778,
              "#fb9f3a"
             ],
             [
              0.8888888888888888,
              "#fdca26"
             ],
             [
              1,
              "#f0f921"
             ]
            ],
            "type": "heatmap"
           }
          ],
          "heatmapgl": [
           {
            "colorbar": {
             "outlinewidth": 0,
             "ticks": ""
            },
            "colorscale": [
             [
              0,
              "#0d0887"
             ],
             [
              0.1111111111111111,
              "#46039f"
             ],
             [
              0.2222222222222222,
              "#7201a8"
             ],
             [
              0.3333333333333333,
              "#9c179e"
             ],
             [
              0.4444444444444444,
              "#bd3786"
             ],
             [
              0.5555555555555556,
              "#d8576b"
             ],
             [
              0.6666666666666666,
              "#ed7953"
             ],
             [
              0.7777777777777778,
              "#fb9f3a"
             ],
             [
              0.8888888888888888,
              "#fdca26"
             ],
             [
              1,
              "#f0f921"
             ]
            ],
            "type": "heatmapgl"
           }
          ],
          "histogram": [
           {
            "marker": {
             "pattern": {
              "fillmode": "overlay",
              "size": 10,
              "solidity": 0.2
             }
            },
            "type": "histogram"
           }
          ],
          "histogram2d": [
           {
            "colorbar": {
             "outlinewidth": 0,
             "ticks": ""
            },
            "colorscale": [
             [
              0,
              "#0d0887"
             ],
             [
              0.1111111111111111,
              "#46039f"
             ],
             [
              0.2222222222222222,
              "#7201a8"
             ],
             [
              0.3333333333333333,
              "#9c179e"
             ],
             [
              0.4444444444444444,
              "#bd3786"
             ],
             [
              0.5555555555555556,
              "#d8576b"
             ],
             [
              0.6666666666666666,
              "#ed7953"
             ],
             [
              0.7777777777777778,
              "#fb9f3a"
             ],
             [
              0.8888888888888888,
              "#fdca26"
             ],
             [
              1,
              "#f0f921"
             ]
            ],
            "type": "histogram2d"
           }
          ],
          "histogram2dcontour": [
           {
            "colorbar": {
             "outlinewidth": 0,
             "ticks": ""
            },
            "colorscale": [
             [
              0,
              "#0d0887"
             ],
             [
              0.1111111111111111,
              "#46039f"
             ],
             [
              0.2222222222222222,
              "#7201a8"
             ],
             [
              0.3333333333333333,
              "#9c179e"
             ],
             [
              0.4444444444444444,
              "#bd3786"
             ],
             [
              0.5555555555555556,
              "#d8576b"
             ],
             [
              0.6666666666666666,
              "#ed7953"
             ],
             [
              0.7777777777777778,
              "#fb9f3a"
             ],
             [
              0.8888888888888888,
              "#fdca26"
             ],
             [
              1,
              "#f0f921"
             ]
            ],
            "type": "histogram2dcontour"
           }
          ],
          "mesh3d": [
           {
            "colorbar": {
             "outlinewidth": 0,
             "ticks": ""
            },
            "type": "mesh3d"
           }
          ],
          "parcoords": [
           {
            "line": {
             "colorbar": {
              "outlinewidth": 0,
              "ticks": ""
             }
            },
            "type": "parcoords"
           }
          ],
          "pie": [
           {
            "automargin": true,
            "type": "pie"
           }
          ],
          "scatter": [
           {
            "fillpattern": {
             "fillmode": "overlay",
             "size": 10,
             "solidity": 0.2
            },
            "type": "scatter"
           }
          ],
          "scatter3d": [
           {
            "line": {
             "colorbar": {
              "outlinewidth": 0,
              "ticks": ""
             }
            },
            "marker": {
             "colorbar": {
              "outlinewidth": 0,
              "ticks": ""
             }
            },
            "type": "scatter3d"
           }
          ],
          "scattercarpet": [
           {
            "marker": {
             "colorbar": {
              "outlinewidth": 0,
              "ticks": ""
             }
            },
            "type": "scattercarpet"
           }
          ],
          "scattergeo": [
           {
            "marker": {
             "colorbar": {
              "outlinewidth": 0,
              "ticks": ""
             }
            },
            "type": "scattergeo"
           }
          ],
          "scattergl": [
           {
            "marker": {
             "colorbar": {
              "outlinewidth": 0,
              "ticks": ""
             }
            },
            "type": "scattergl"
           }
          ],
          "scattermapbox": [
           {
            "marker": {
             "colorbar": {
              "outlinewidth": 0,
              "ticks": ""
             }
            },
            "type": "scattermapbox"
           }
          ],
          "scatterpolar": [
           {
            "marker": {
             "colorbar": {
              "outlinewidth": 0,
              "ticks": ""
             }
            },
            "type": "scatterpolar"
           }
          ],
          "scatterpolargl": [
           {
            "marker": {
             "colorbar": {
              "outlinewidth": 0,
              "ticks": ""
             }
            },
            "type": "scatterpolargl"
           }
          ],
          "scatterternary": [
           {
            "marker": {
             "colorbar": {
              "outlinewidth": 0,
              "ticks": ""
             }
            },
            "type": "scatterternary"
           }
          ],
          "surface": [
           {
            "colorbar": {
             "outlinewidth": 0,
             "ticks": ""
            },
            "colorscale": [
             [
              0,
              "#0d0887"
             ],
             [
              0.1111111111111111,
              "#46039f"
             ],
             [
              0.2222222222222222,
              "#7201a8"
             ],
             [
              0.3333333333333333,
              "#9c179e"
             ],
             [
              0.4444444444444444,
              "#bd3786"
             ],
             [
              0.5555555555555556,
              "#d8576b"
             ],
             [
              0.6666666666666666,
              "#ed7953"
             ],
             [
              0.7777777777777778,
              "#fb9f3a"
             ],
             [
              0.8888888888888888,
              "#fdca26"
             ],
             [
              1,
              "#f0f921"
             ]
            ],
            "type": "surface"
           }
          ],
          "table": [
           {
            "cells": {
             "fill": {
              "color": "#EBF0F8"
             },
             "line": {
              "color": "white"
             }
            },
            "header": {
             "fill": {
              "color": "#C8D4E3"
             },
             "line": {
              "color": "white"
             }
            },
            "type": "table"
           }
          ]
         },
         "layout": {
          "annotationdefaults": {
           "arrowcolor": "#2a3f5f",
           "arrowhead": 0,
           "arrowwidth": 1
          },
          "autotypenumbers": "strict",
          "coloraxis": {
           "colorbar": {
            "outlinewidth": 0,
            "ticks": ""
           }
          },
          "colorscale": {
           "diverging": [
            [
             0,
             "#8e0152"
            ],
            [
             0.1,
             "#c51b7d"
            ],
            [
             0.2,
             "#de77ae"
            ],
            [
             0.3,
             "#f1b6da"
            ],
            [
             0.4,
             "#fde0ef"
            ],
            [
             0.5,
             "#f7f7f7"
            ],
            [
             0.6,
             "#e6f5d0"
            ],
            [
             0.7,
             "#b8e186"
            ],
            [
             0.8,
             "#7fbc41"
            ],
            [
             0.9,
             "#4d9221"
            ],
            [
             1,
             "#276419"
            ]
           ],
           "sequential": [
            [
             0,
             "#0d0887"
            ],
            [
             0.1111111111111111,
             "#46039f"
            ],
            [
             0.2222222222222222,
             "#7201a8"
            ],
            [
             0.3333333333333333,
             "#9c179e"
            ],
            [
             0.4444444444444444,
             "#bd3786"
            ],
            [
             0.5555555555555556,
             "#d8576b"
            ],
            [
             0.6666666666666666,
             "#ed7953"
            ],
            [
             0.7777777777777778,
             "#fb9f3a"
            ],
            [
             0.8888888888888888,
             "#fdca26"
            ],
            [
             1,
             "#f0f921"
            ]
           ],
           "sequentialminus": [
            [
             0,
             "#0d0887"
            ],
            [
             0.1111111111111111,
             "#46039f"
            ],
            [
             0.2222222222222222,
             "#7201a8"
            ],
            [
             0.3333333333333333,
             "#9c179e"
            ],
            [
             0.4444444444444444,
             "#bd3786"
            ],
            [
             0.5555555555555556,
             "#d8576b"
            ],
            [
             0.6666666666666666,
             "#ed7953"
            ],
            [
             0.7777777777777778,
             "#fb9f3a"
            ],
            [
             0.8888888888888888,
             "#fdca26"
            ],
            [
             1,
             "#f0f921"
            ]
           ]
          },
          "colorway": [
           "#636efa",
           "#EF553B",
           "#00cc96",
           "#ab63fa",
           "#FFA15A",
           "#19d3f3",
           "#FF6692",
           "#B6E880",
           "#FF97FF",
           "#FECB52"
          ],
          "font": {
           "color": "#2a3f5f"
          },
          "geo": {
           "bgcolor": "white",
           "lakecolor": "white",
           "landcolor": "#E5ECF6",
           "showlakes": true,
           "showland": true,
           "subunitcolor": "white"
          },
          "hoverlabel": {
           "align": "left"
          },
          "hovermode": "closest",
          "mapbox": {
           "style": "light"
          },
          "paper_bgcolor": "white",
          "plot_bgcolor": "#E5ECF6",
          "polar": {
           "angularaxis": {
            "gridcolor": "white",
            "linecolor": "white",
            "ticks": ""
           },
           "bgcolor": "#E5ECF6",
           "radialaxis": {
            "gridcolor": "white",
            "linecolor": "white",
            "ticks": ""
           }
          },
          "scene": {
           "xaxis": {
            "backgroundcolor": "#E5ECF6",
            "gridcolor": "white",
            "gridwidth": 2,
            "linecolor": "white",
            "showbackground": true,
            "ticks": "",
            "zerolinecolor": "white"
           },
           "yaxis": {
            "backgroundcolor": "#E5ECF6",
            "gridcolor": "white",
            "gridwidth": 2,
            "linecolor": "white",
            "showbackground": true,
            "ticks": "",
            "zerolinecolor": "white"
           },
           "zaxis": {
            "backgroundcolor": "#E5ECF6",
            "gridcolor": "white",
            "gridwidth": 2,
            "linecolor": "white",
            "showbackground": true,
            "ticks": "",
            "zerolinecolor": "white"
           }
          },
          "shapedefaults": {
           "line": {
            "color": "#2a3f5f"
           }
          },
          "ternary": {
           "aaxis": {
            "gridcolor": "white",
            "linecolor": "white",
            "ticks": ""
           },
           "baxis": {
            "gridcolor": "white",
            "linecolor": "white",
            "ticks": ""
           },
           "bgcolor": "#E5ECF6",
           "caxis": {
            "gridcolor": "white",
            "linecolor": "white",
            "ticks": ""
           }
          },
          "title": {
           "x": 0.05
          },
          "xaxis": {
           "automargin": true,
           "gridcolor": "white",
           "linecolor": "white",
           "ticks": "",
           "title": {
            "standoff": 15
           },
           "zerolinecolor": "white",
           "zerolinewidth": 2
          },
          "yaxis": {
           "automargin": true,
           "gridcolor": "white",
           "linecolor": "white",
           "ticks": "",
           "title": {
            "standoff": 15
           },
           "zerolinecolor": "white",
           "zerolinewidth": 2
          }
         }
        },
        "title": {
         "text": "Réseau de passes sur un terrain de football"
        },
        "width": 1200,
        "xaxis": {
         "range": [
          0,
          120
         ],
         "showgrid": false,
         "zeroline": false
        },
        "yaxis": {
         "range": [
          0,
          80
         ],
         "showgrid": false,
         "zeroline": false
        }
       }
      }
     },
     "metadata": {},
     "output_type": "display_data"
    }
   ],
   "source": [
    "visualize_pass_network(df_positions, df_passes)"
   ]
  },
  {
   "cell_type": "code",
   "execution_count": 9,
   "metadata": {},
   "outputs": [
    {
     "data": {
      "application/vnd.plotly.v1+json": {
       "config": {
        "plotlyServerURL": "https://plot.ly"
       },
       "data": [
        {
         "hoverinfo": "text",
         "hovertext": "Joueur: Loic Nego<br>Nombre de passes effectuées: 29<br>Longueur moyenne des passes effectuées: 19.10 m<br>Nombre de passes reçues: 19<br>Longueur moyenne des passes reçues: 21.57 m<br>Passes vers Nabil Alioui: 43.625793 m<br>Passes vers Issa Soumare: 24.656237 m<br>Passes vers Nabil Alioui: 20.282997 m<br>Passes vers Rassoul Ndiaye: 24.884735 m<br>Passes vers Rassoul Ndiaye: 8.633076 m<br>Passes vers Rassoul Ndiaye: 11.244999 m<br>Passes vers Issa Soumare: 8.500588 m<br>Passes vers Rassoul Ndiaye: 45.12494 m<br>Passes vers Rassoul Ndiaye: 10.696261 m<br>Passes vers Oussama Targhalline: 8.228001 m<br>Passes vers Issa Soumare: 22.436132 m<br>Passes vers Oussama Targhalline: 10.312129 m<br>Passes vers Yoann Salmier: 16.902662 m<br>Passes vers Daler Kuzyaev: 11.45513 m<br>Passes vers Yoann Salmier: 13.024976 m<br>Passes vers Oussama Targhalline: 9.734988 m<br>Passes vers Oussama Targhalline: 9.415413 m<br>Passes vers Nabil Alioui: 24.937723 m<br>Passes vers Oussama Targhalline: 11.1892805 m<br>Passes vers Oussama Targhalline: 10.404326 m<br>Passes vers Oussama Targhalline: 16.003124 m<br>Passes vers Arouna Sangante: 25.756165 m<br>Passes vers Oussama Targhalline: 22.280035 m<br>Passes vers Nabil Alioui: 29.082296 m<br>Passes vers Arouna Sangante: 24.123226 m<br>Passes vers Issa Soumare: 30.088535 m<br>Passes vers Issa Soumare: 17.142054 m<br>Passes vers Issa Soumare: 28.62761 m<br>Passes de Nabil Alioui: 22.26432 m<br>Passes de Rassoul Ndiaye: 13.4 m<br>Passes de Rassoul Ndiaye: 29.443504 m<br>Passes de Rassoul Ndiaye: 5.3009434 m<br>Passes de Daler Kuzyaev: 11.416217 m<br>Passes de Rassoul Ndiaye: 12.835108 m<br>Passes de Arouna Sangante: 47.680603 m<br>Passes de Oussama Targhalline: 20.154652 m<br>Passes de Arouna Sangante: 43.35032 m<br>Passes de Daler Kuzyaev: 12.169634 m<br>Passes de Yoann Salmier: 13.90899 m<br>Passes de Arouna Sangante: 35.336243 m<br>Passes de Rassoul Ndiaye: 17.756407 m<br>Passes de Oussama Targhalline: 16.593975 m<br>Passes de Oussama Targhalline: 11.903781 m<br>Passes de Arouna Sangante: 58.081493 m<br>Passes de Yoann Salmier: 20.861448 m<br>Passes de Oussama Targhalline: 2.1931713 m<br>",
         "marker": {
          "color": "blue",
          "size": 20
         },
         "mode": "markers+text",
         "text": [
          "Loic Nego"
         ],
         "textposition": "top center",
         "type": "scatter",
         "x": [
          12
         ],
         "y": [
          30
         ]
        },
        {
         "hoverinfo": "text",
         "hovertext": "Joueur: Oussama Targhalline<br>Nombre de passes effectuées: 57<br>Longueur moyenne des passes effectuées: 16.38 m<br>Nombre de passes reçues: 47<br>Longueur moyenne des passes reçues: 13.34 m<br>Passes vers Issa Soumare: 52.5 m<br>Passes vers Josue Casimir: 10.801851 m<br>Passes vers Daler Kuzyaev: 12.727922 m<br>Passes vers Rassoul Ndiaye: 14.741099 m<br>Passes vers Rassoul Ndiaye: 10.396634 m<br>Passes vers Daler Kuzyaev: 9.732934 m<br>Passes vers Rassoul Ndiaye: 19.070396 m<br>Passes vers Josue Casimir: 21.44621 m<br>Passes vers Rassoul Ndiaye: 13.630847 m<br>Passes vers Daler Kuzyaev: 8.633076 m<br>Passes vers Rassoul Ndiaye: 8.348653 m<br>Passes vers Daler Kuzyaev: 16.916264 m<br>Passes vers Loic Nego: 20.154652 m<br>Passes vers Gautier Lloris: 15.206906 m<br>Passes vers Daler Kuzyaev: 10.031949 m<br>Passes vers Gautier Lloris: 22.60553 m<br>Passes vers Josue Casimir: 8.45281 m<br>Passes vers Nabil Alioui: 9.992997 m<br>Passes vers Rassoul Ndiaye: 20.036966 m<br>Passes vers Loic Nego: 16.593975 m<br>Passes vers Loic Nego: 11.903781 m<br>Passes vers Issa Soumare: 14.5 m<br>Passes vers Issa Soumare: 6.846897 m<br>Passes vers Josue Casimir: 43.793262 m<br>Passes vers Yoann Salmier: 21.36001 m<br>Passes vers Loic Nego: 2.1931713 m<br>Passes vers Josue Casimir: 12.841339 m<br>Passes vers Josue Casimir: 24.96157 m<br>Passes vers Issa Soumare: 18.388311 m<br>Passes vers Issa Soumare: 31.11736 m<br>Passes vers Daler Kuzyaev: 8.902246 m<br>Passes vers Rassoul Ndiaye: 12.420145 m<br>Passes vers Rassoul Ndiaye: 16.760967 m<br>Passes vers Rassoul Ndiaye: 12.209013 m<br>Passes vers Nabil Alioui: 21.22852 m<br>Passes vers Josue Casimir: 9.667471 m<br>Passes vers Issa Soumare: 16.263456 m<br>Passes vers Issa Soumare: 29.757183 m<br>Passes vers Josue Casimir: 20.448227 m<br>Passes vers Josue Casimir: 17.622997 m<br>Passes de Nabil Alioui: 11.815245 m<br>Passes de Loic Nego: 8.228001 m<br>Passes de Rassoul Ndiaye: 5.59017 m<br>Passes de Gautier Lloris: 23.210558 m<br>Passes de Loic Nego: 10.312129 m<br>Passes de Josue Casimir: 13.106106 m<br>Passes de Daler Kuzyaev: 13.484806 m<br>Passes de Daler Kuzyaev: 14.450605 m<br>Passes de Josue Casimir: 14.599315 m<br>Passes de Daler Kuzyaev: 5.507268 m<br>Passes de Loic Nego: 9.734988 m<br>Passes de Daler Kuzyaev: 14.8030405 m<br>Passes de Daler Kuzyaev: 15.646086 m<br>Passes de Loic Nego: 9.415413 m<br>Passes de Arthur Desmas: 14.458562 m<br>Passes de Rassoul Ndiaye: 18.109941 m<br>Passes de Gautier Lloris: 7.2111025 m<br>Passes de Loic Nego: 11.1892805 m<br>Passes de Loic Nego: 10.404326 m<br>Passes de Loic Nego: 16.003124 m<br>Passes de Loic Nego: 22.280035 m<br>Passes de Daler Kuzyaev: 10.783784 m<br>Passes de Arouna Sangante: 4.4011364 m<br>Passes de Arthur Desmas: 38.575123 m<br>Passes de Gautier Lloris: 9.464143 m<br>Passes de Josue Casimir: 11.236102 m<br>Passes de Yoann Salmier: 34.024258 m<br>Passes de Josue Casimir: 11.896638 m<br>Passes de Rassoul Ndiaye: 7.2249565 m<br>Passes de Rassoul Ndiaye: 5.147815 m<br>Passes de Josue Casimir: 10.10198 m<br>Passes de Gautier Lloris: 9.774457 m<br>Passes de Daler Kuzyaev: 16.678429 m<br>Passes de Yoann Salmier: 13.049521 m<br>Passes de Arouna Sangante: 6.303174 m<br>Passes de Yoann Salmier: 18.489456 m<br>Passes de Yoann Salmier: 15.246311 m<br>Passes de Josue Casimir: 9.759098 m<br>",
         "marker": {
          "color": "blue",
          "size": 20
         },
         "mode": "markers+text",
         "text": [
          "Oussama Targhalline"
         ],
         "textposition": "top center",
         "type": "scatter",
         "x": [
          50
         ],
         "y": [
          40
         ]
        },
        {
         "hoverinfo": "text",
         "hovertext": "Joueur: Arouna Sangante<br>Nombre de passes effectuées: 28<br>Longueur moyenne des passes effectuées: 33.87 m<br>Nombre de passes reçues: 15<br>Longueur moyenne des passes reçues: 19.06 m<br>Passes vers Issa Soumare: 66.75867 m<br>Passes vers Gautier Lloris: 12.238464 m<br>Passes vers Issa Soumare: 41.85272 m<br>Passes vers Josue Casimir: 23.380547 m<br>Passes vers Issa Soumare: 43.792236 m<br>Passes vers Yoann Salmier: 12.169634 m<br>Passes vers Josue Casimir: 35.010426 m<br>Passes vers Gautier Lloris: 24.69757 m<br>Passes vers Loic Nego: 47.680603 m<br>Passes vers Rassoul Ndiaye: 29.920729 m<br>Passes vers Gautier Lloris: 9.615092 m<br>Passes vers Yoann Salmier: 22.40558 m<br>Passes vers Loic Nego: 43.35032 m<br>Passes vers Josue Casimir: 7.4 m<br>Passes vers Loic Nego: 35.336243 m<br>Passes vers Loic Nego: 58.081493 m<br>Passes vers Josue Casimir: 67.525475 m<br>Passes vers Yoann Salmier: 16.618362 m<br>Passes vers Gautier Lloris: 32.01156 m<br>Passes vers Oussama Targhalline: 4.4011364 m<br>Passes vers Yoann Salmier: 25.563255 m<br>Passes vers Issa Soumare: 55.35648 m<br>Passes vers Gautier Lloris: 27.483814 m<br>Passes vers Oussama Targhalline: 6.303174 m<br>Passes vers Nabil Alioui: 57.734653 m<br>Passes de Gautier Lloris: 7.7491937 m<br>Passes de Nabil Alioui: 20.808653 m<br>Passes de Yoann Salmier: 27.83523 m<br>Passes de Yoann Salmier: 17.912006 m<br>Passes de Gautier Lloris: 26.518862 m<br>Passes de Gautier Lloris: 9.062009 m<br>Passes de Yoann Salmier: 16.484236 m<br>Passes de Gautier Lloris: 16.919811 m<br>Passes de Loic Nego: 25.756165 m<br>Passes de Daler Kuzyaev: 16.018114 m<br>Passes de Loic Nego: 24.123226 m<br>Passes de Arthur Desmas: 12.80039 m<br>Passes de Yoann Salmier: 25.400787 m<br>",
         "marker": {
          "color": "blue",
          "size": 20
         },
         "mode": "markers+text",
         "text": [
          "Arouna Sangante"
         ],
         "textposition": "top center",
         "type": "scatter",
         "x": [
          12
         ],
         "y": [
          50
         ]
        },
        {
         "hoverinfo": "text",
         "hovertext": "Joueur: Issa Soumare<br>Nombre de passes effectuées: 14<br>Longueur moyenne des passes effectuées: 16.73 m<br>Nombre de passes reçues: 50<br>Longueur moyenne des passes reçues: 36.40 m<br>Passes vers Rassoul Ndiaye: 9.364828 m<br>Passes vers Nabil Alioui: 18.56071 m<br>Passes vers Rassoul Ndiaye: 6.7178864 m<br>Passes vers Rassoul Ndiaye: 13.7411785 m<br>Passes vers Nabil Alioui: 24.055977 m<br>Passes vers Nabil Alioui: 28.927668 m<br>Passes vers Nabil Alioui: 5.936329 m<br>Passes vers Nabil Alioui: 12.432618 m<br>Passes vers Yoann Salmier: 21.920767 m<br>Passes vers Nabil Alioui: 10.394229 m<br>Passes vers Nabil Alioui: 32.24717 m<br>Passes vers Nabil Alioui: 26.076809 m<br>Passes vers Nabil Alioui: 14.989663 m<br>Passes vers Nabil Alioui: 8.9196415 m<br>Passes de Oussama Targhalline: 52.5 m<br>Passes de Arouna Sangante: 66.75867 m<br>Passes de Josue Casimir: 27.576982 m<br>Passes de Josue Casimir: 48.20664 m<br>Passes de Yoann Salmier: 60.04207 m<br>Passes de Daler Kuzyaev: 2.745906 m<br>Passes de Arthur Desmas: 57.915195 m<br>Passes de Loic Nego: 24.656237 m<br>Passes de Nabil Alioui: 22.596682 m<br>Passes de Arthur Desmas: 83.02174 m<br>Passes de Rassoul Ndiaye: 43.156113 m<br>Passes de Yoann Salmier: 23.88828 m<br>Passes de Arouna Sangante: 41.85272 m<br>Passes de Loic Nego: 8.500588 m<br>Passes de Josue Casimir: 29.140007 m<br>Passes de Yoann Salmier: 43.95384 m<br>Passes de Nabil Alioui: 7.4431176 m<br>Passes de Yoann Salmier: 18.704277 m<br>Passes de Rassoul Ndiaye: 16.858232 m<br>Passes de Arouna Sangante: 43.792236 m<br>Passes de Josue Casimir: 18.774717 m<br>Passes de Loic Nego: 22.436132 m<br>Passes de Josue Casimir: 26.532433 m<br>Passes de Nabil Alioui: 40.823647 m<br>Passes de Yoann Salmier: 69.61049 m<br>Passes de Josue Casimir: 35.58792 m<br>Passes de Nabil Alioui: 21.135752 m<br>Passes de Yoann Salmier: 84.49953 m<br>Passes de Daler Kuzyaev: 20.16259 m<br>Passes de Oussama Targhalline: 14.5 m<br>Passes de Oussama Targhalline: 6.846897 m<br>Passes de Loic Nego: 30.088535 m<br>Passes de Arthur Desmas: 58.46067 m<br>Passes de Oussama Targhalline: 18.388311 m<br>Passes de Loic Nego: 17.142054 m<br>Passes de Nabil Alioui: 37.579384 m<br>Passes de Oussama Targhalline: 31.11736 m<br>Passes de Arouna Sangante: 55.35648 m<br>Passes de Arthur Desmas: 63.67935 m<br>Passes de Daler Kuzyaev: 24.318718 m<br>Passes de Nabil Alioui: 25.314423 m<br>Passes de Arthur Desmas: 64.11372 m<br>Passes de Oussama Targhalline: 16.263456 m<br>Passes de Nabil Alioui: 15.966528 m<br>Passes de Loic Nego: 28.62761 m<br>Passes de Oussama Targhalline: 29.757183 m<br>Passes de Arthur Desmas: 65.45166 m<br>Passes de Rassoul Ndiaye: 36.300552 m<br>Passes de Arthur Desmas: 60.627388 m<br>Passes de Arthur Desmas: 57.21547 m<br>",
         "marker": {
          "color": "blue",
          "size": 20
         },
         "mode": "markers+text",
         "text": [
          "Issa Soumare"
         ],
         "textposition": "top center",
         "type": "scatter",
         "x": [
          100
         ],
         "y": [
          10
         ]
        },
        {
         "hoverinfo": "text",
         "hovertext": "Joueur: Rassoul Ndiaye<br>Nombre de passes effectuées: 23<br>Longueur moyenne des passes effectuées: 19.04 m<br>Nombre de passes reçues: 28<br>Longueur moyenne des passes reçues: 15.06 m<br>Passes vers Gautier Lloris: 28.54908 m<br>Passes vers Loic Nego: 13.4 m<br>Passes vers Issa Soumare: 43.156113 m<br>Passes vers Loic Nego: 29.443504 m<br>Passes vers Loic Nego: 5.3009434 m<br>Passes vers Issa Soumare: 16.858232 m<br>Passes vers Oussama Targhalline: 5.59017 m<br>Passes vers Arthur Desmas: 27.518175 m<br>Passes vers Josue Casimir: 7.668768 m<br>Passes vers Josue Casimir: 31.846035 m<br>Passes vers Josue Casimir: 19.71218 m<br>Passes vers Loic Nego: 12.835108 m<br>Passes vers Yoann Salmier: 15.065191 m<br>Passes vers Oussama Targhalline: 18.109941 m<br>Passes vers Loic Nego: 17.756407 m<br>Passes vers Nabil Alioui: 13.438005 m<br>Passes vers Oussama Targhalline: 7.2249565 m<br>Passes vers Gautier Lloris: 15.401948 m<br>Passes vers Oussama Targhalline: 5.147815 m<br>Passes vers Gautier Lloris: 19.544052 m<br>Passes vers Issa Soumare: 36.300552 m<br>Passes de Loic Nego: 24.884735 m<br>Passes de Loic Nego: 8.633076 m<br>Passes de Loic Nego: 11.244999 m<br>Passes de Daler Kuzyaev: 13.74409 m<br>Passes de Issa Soumare: 9.364828 m<br>Passes de Loic Nego: 45.12494 m<br>Passes de Loic Nego: 10.696261 m<br>Passes de Issa Soumare: 6.7178864 m<br>Passes de Oussama Targhalline: 14.741099 m<br>Passes de Oussama Targhalline: 10.396634 m<br>Passes de Issa Soumare: 13.7411785 m<br>Passes de Oussama Targhalline: 19.070396 m<br>Passes de Oussama Targhalline: 13.630847 m<br>Passes de Oussama Targhalline: 8.348653 m<br>Passes de Arouna Sangante: 29.920729 m<br>Passes de Gautier Lloris: 10.929318 m<br>Passes de Oussama Targhalline: 20.036966 m<br>Passes de Daler Kuzyaev: 26.500189 m<br>Passes de Yoann Salmier: 19.945927 m<br>Passes de Gautier Lloris: 14.50655 m<br>Passes de Daler Kuzyaev: 9.219544 m<br>Passes de Oussama Targhalline: 12.420145 m<br>Passes de Oussama Targhalline: 16.760967 m<br>Passes de Oussama Targhalline: 12.209013 m<br>Passes de Josue Casimir: 11.229425 m<br>Passes de Gautier Lloris: 9.6208105 m<br>Passes de Daler Kuzyaev: 4.804165 m<br>Passes de Yoann Salmier: 13.263861 m<br>",
         "marker": {
          "color": "blue",
          "size": 20
         },
         "mode": "markers+text",
         "text": [
          "Rassoul Ndiaye"
         ],
         "textposition": "top center",
         "type": "scatter",
         "x": [
          80
         ],
         "y": [
          20
         ]
        },
        {
         "hoverinfo": "text",
         "hovertext": "Joueur: Josue Casimir<br>Nombre de passes effectuées: 38<br>Longueur moyenne des passes effectuées: 16.64 m<br>Nombre de passes reçues: 38<br>Longueur moyenne des passes reçues: 19.78 m<br>Passes vers Issa Soumare: 27.576982 m<br>Passes vers Issa Soumare: 48.20664 m<br>Passes vers Nabil Alioui: 27.557213 m<br>Passes vers Gautier Lloris: 8.79659 m<br>Passes vers Nabil Alioui: 11.472576 m<br>Passes vers Issa Soumare: 29.140007 m<br>Passes vers Issa Soumare: 18.774717 m<br>Passes vers Nabil Alioui: 9.420191 m<br>Passes vers Oussama Targhalline: 13.106106 m<br>Passes vers Issa Soumare: 26.532433 m<br>Passes vers Oussama Targhalline: 14.599315 m<br>Passes vers Gautier Lloris: 14.96262 m<br>Passes vers Issa Soumare: 35.58792 m<br>Passes vers Gautier Lloris: 10.10198 m<br>Passes vers Gautier Lloris: 6.0926185 m<br>Passes vers Gautier Lloris: 9.688137 m<br>Passes vers Daler Kuzyaev: 3.7735925 m<br>Passes vers Oussama Targhalline: 11.236102 m<br>Passes vers Oussama Targhalline: 11.896638 m<br>Passes vers Oussama Targhalline: 10.10198 m<br>Passes vers Rassoul Ndiaye: 11.229425 m<br>Passes vers Nabil Alioui: 17.780045 m<br>Passes vers Oussama Targhalline: 9.759098 m<br>Passes vers Nabil Alioui: 33.983818 m<br>Passes de Oussama Targhalline: 10.801851 m<br>Passes de Gautier Lloris: 28.166115 m<br>Passes de Gautier Lloris: 11.676472 m<br>Passes de Arthur Desmas: 16.717056 m<br>Passes de Arouna Sangante: 23.380547 m<br>Passes de Daler Kuzyaev: 9.2439165 m<br>Passes de Rassoul Ndiaye: 7.668768 m<br>Passes de Rassoul Ndiaye: 31.846035 m<br>Passes de Nabil Alioui: 14.989663 m<br>Passes de Oussama Targhalline: 21.44621 m<br>Passes de Arouna Sangante: 35.010426 m<br>Passes de Rassoul Ndiaye: 19.71218 m<br>Passes de Daler Kuzyaev: 16.03122 m<br>Passes de Gautier Lloris: 8.028076 m<br>Passes de Gautier Lloris: 1.3038405 m<br>Passes de Gautier Lloris: 16.609034 m<br>Passes de Oussama Targhalline: 8.45281 m<br>Passes de Gautier Lloris: 3.8483763 m<br>Passes de Arouna Sangante: 7.4 m<br>Passes de Daler Kuzyaev: 6.3348246 m<br>Passes de Arouna Sangante: 67.525475 m<br>Passes de Gautier Lloris: 23.496809 m<br>Passes de Oussama Targhalline: 43.793262 m<br>Passes de Oussama Targhalline: 12.841339 m<br>Passes de Oussama Targhalline: 24.96157 m<br>Passes de Daler Kuzyaev: 11.115754 m<br>Passes de Daler Kuzyaev: 24.242525 m<br>Passes de Daler Kuzyaev: 21.44621 m<br>Passes de Arthur Desmas: 70.033775 m<br>Passes de Daler Kuzyaev: 22.143396 m<br>Passes de Oussama Targhalline: 9.667471 m<br>Passes de Oussama Targhalline: 20.448227 m<br>Passes de Oussama Targhalline: 17.622997 m<br>Passes de Daler Kuzyaev: 24.932709 m<br>",
         "marker": {
          "color": "blue",
          "size": 20
         },
         "mode": "markers+text",
         "text": [
          "Josue Casimir"
         ],
         "textposition": "top center",
         "type": "scatter",
         "x": [
          100
         ],
         "y": [
          70
         ]
        },
        {
         "hoverinfo": "text",
         "hovertext": "Joueur: Gautier Lloris<br>Nombre de passes effectuées: 32<br>Longueur moyenne des passes effectuées: 13.61 m<br>Nombre de passes reçues: 24<br>Longueur moyenne des passes reçues: 18.73 m<br>Passes vers Josue Casimir: 28.166115 m<br>Passes vers Josue Casimir: 11.676472 m<br>Passes vers Daler Kuzyaev: 15.454773 m<br>Passes vers Daler Kuzyaev: 12.681088 m<br>Passes vers Arouna Sangante: 7.7491937 m<br>Passes vers Oussama Targhalline: 23.210558 m<br>Passes vers Arouna Sangante: 26.518862 m<br>Passes vers Josue Casimir: 8.028076 m<br>Passes vers Arouna Sangante: 9.062009 m<br>Passes vers Daler Kuzyaev: 17.066048 m<br>Passes vers Josue Casimir: 1.3038405 m<br>Passes vers Rassoul Ndiaye: 10.929318 m<br>Passes vers Josue Casimir: 16.609034 m<br>Passes vers Oussama Targhalline: 7.2111025 m<br>Passes vers Josue Casimir: 3.8483763 m<br>Passes vers Arouna Sangante: 16.919811 m<br>Passes vers Josue Casimir: 23.496809 m<br>Passes vers Arthur Desmas: 12.841339 m<br>Passes vers Oussama Targhalline: 9.464143 m<br>Passes vers Rassoul Ndiaye: 14.50655 m<br>Passes vers Daler Kuzyaev: 15.10298 m<br>Passes vers Nabil Alioui: 36.669468 m<br>Passes vers Rassoul Ndiaye: 9.6208105 m<br>Passes vers Oussama Targhalline: 9.774457 m<br>Passes vers Arthur Desmas: 8.920202 m<br>Passes vers Daler Kuzyaev: 9.170606 m<br>Passes de Daler Kuzyaev: 9.449339 m<br>Passes de Rassoul Ndiaye: 28.54908 m<br>Passes de Arouna Sangante: 12.238464 m<br>Passes de Arthur Desmas: 23.132013 m<br>Passes de Josue Casimir: 8.79659 m<br>Passes de Arthur Desmas: 20.13579 m<br>Passes de Arouna Sangante: 24.69757 m<br>Passes de Arouna Sangante: 9.615092 m<br>Passes de Oussama Targhalline: 15.206906 m<br>Passes de Josue Casimir: 14.96262 m<br>Passes de Oussama Targhalline: 22.60553 m<br>Passes de Josue Casimir: 10.10198 m<br>Passes de Josue Casimir: 6.0926185 m<br>Passes de Josue Casimir: 9.688137 m<br>Passes de Arouna Sangante: 32.01156 m<br>Passes de Daler Kuzyaev: 20.380629 m<br>Passes de Arouna Sangante: 27.483814 m<br>Passes de Daler Kuzyaev: 19.991999 m<br>Passes de Rassoul Ndiaye: 15.401948 m<br>Passes de Rassoul Ndiaye: 19.544052 m<br>Passes de Arthur Desmas: 19.108376 m<br>Passes de Arthur Desmas: 22.177465 m<br>",
         "marker": {
          "color": "blue",
          "size": 20
         },
         "mode": "markers+text",
         "text": [
          "Gautier Lloris"
         ],
         "textposition": "top center",
         "type": "scatter",
         "x": [
          25
         ],
         "y": [
          10
         ]
        },
        {
         "hoverinfo": "text",
         "hovertext": "Joueur: Daler Kuzyaev<br>Nombre de passes effectuées: 37<br>Longueur moyenne des passes effectuées: 15.20 m<br>Nombre de passes reçues: 31<br>Longueur moyenne des passes reçues: 13.66 m<br>Passes vers Gautier Lloris: 9.449339 m<br>Passes vers Issa Soumare: 2.745906 m<br>Passes vers Rassoul Ndiaye: 13.74409 m<br>Passes vers Josue Casimir: 9.2439165 m<br>Passes vers Nabil Alioui: 15.9380045 m<br>Passes vers Nabil Alioui: 5.0537114 m<br>Passes vers Loic Nego: 11.416217 m<br>Passes vers Oussama Targhalline: 13.484806 m<br>Passes vers Oussama Targhalline: 14.450605 m<br>Passes vers Josue Casimir: 16.03122 m<br>Passes vers Oussama Targhalline: 5.507268 m<br>Passes vers Oussama Targhalline: 14.8030405 m<br>Passes vers Oussama Targhalline: 15.646086 m<br>Passes vers Loic Nego: 12.169634 m<br>Passes vers Josue Casimir: 6.3348246 m<br>Passes vers Rassoul Ndiaye: 26.500189 m<br>Passes vers Issa Soumare: 20.16259 m<br>Passes vers Oussama Targhalline: 10.783784 m<br>Passes vers Arouna Sangante: 16.018114 m<br>Passes vers Josue Casimir: 11.115754 m<br>Passes vers Josue Casimir: 24.242525 m<br>Passes vers Gautier Lloris: 20.380629 m<br>Passes vers Josue Casimir: 21.44621 m<br>Passes vers Rassoul Ndiaye: 9.219544 m<br>Passes vers Gautier Lloris: 19.991999 m<br>Passes vers Issa Soumare: 24.318718 m<br>Passes vers Josue Casimir: 22.143396 m<br>Passes vers Oussama Targhalline: 16.678429 m<br>Passes vers Nabil Alioui: 20.695894 m<br>Passes vers Rassoul Ndiaye: 4.804165 m<br>Passes vers Josue Casimir: 24.932709 m<br>Passes de Oussama Targhalline: 12.727922 m<br>Passes de Gautier Lloris: 15.454773 m<br>Passes de Gautier Lloris: 12.681088 m<br>Passes de Oussama Targhalline: 9.732934 m<br>Passes de Nabil Alioui: 5.841233 m<br>Passes de Yoann Salmier: 17.37383 m<br>Passes de Loic Nego: 11.45513 m<br>Passes de Oussama Targhalline: 8.633076 m<br>Passes de Oussama Targhalline: 16.916264 m<br>Passes de Gautier Lloris: 17.066048 m<br>Passes de Oussama Targhalline: 10.031949 m<br>Passes de Josue Casimir: 3.7735925 m<br>Passes de Yoann Salmier: 12.465152 m<br>Passes de Gautier Lloris: 15.10298 m<br>Passes de Oussama Targhalline: 8.902246 m<br>Passes de Arthur Desmas: 21.85635 m<br>Passes de Gautier Lloris: 9.170606 m<br>",
         "marker": {
          "color": "blue",
          "size": 20
         },
         "mode": "markers+text",
         "text": [
          "Daler Kuzyaev"
         ],
         "textposition": "top center",
         "type": "scatter",
         "x": [
          80
         ],
         "y": [
          60
         ]
        },
        {
         "hoverinfo": "text",
         "hovertext": "Joueur: Yoann Salmier<br>Nombre de passes effectuées: 30<br>Longueur moyenne des passes effectuées: 24.64 m<br>Nombre de passes reçues: 14<br>Longueur moyenne des passes reçues: 18.33 m<br>Passes vers Issa Soumare: 60.04207 m<br>Passes vers Nabil Alioui: 26.064728 m<br>Passes vers Issa Soumare: 23.88828 m<br>Passes vers Issa Soumare: 43.95384 m<br>Passes vers Issa Soumare: 18.704277 m<br>Passes vers Daler Kuzyaev: 17.37383 m<br>Passes vers Arouna Sangante: 27.83523 m<br>Passes vers Arouna Sangante: 17.912006 m<br>Passes vers Issa Soumare: 69.61049 m<br>Passes vers Arouna Sangante: 16.484236 m<br>Passes vers Loic Nego: 13.90899 m<br>Passes vers Issa Soumare: 84.49953 m<br>Passes vers Rassoul Ndiaye: 19.945927 m<br>Passes vers Loic Nego: 20.861448 m<br>Passes vers Daler Kuzyaev: 12.465152 m<br>Passes vers Oussama Targhalline: 34.024258 m<br>Passes vers Arthur Desmas: 40.70995 m<br>Passes vers Oussama Targhalline: 13.049521 m<br>Passes vers Oussama Targhalline: 18.489456 m<br>Passes vers Oussama Targhalline: 15.246311 m<br>Passes vers Rassoul Ndiaye: 13.263861 m<br>Passes vers Arouna Sangante: 25.400787 m<br>Passes de Nabil Alioui: 32.736065 m<br>Passes de Arouna Sangante: 12.169634 m<br>Passes de Loic Nego: 16.902662 m<br>Passes de Loic Nego: 13.024976 m<br>Passes de Rassoul Ndiaye: 15.065191 m<br>Passes de Arouna Sangante: 22.40558 m<br>Passes de Arouna Sangante: 16.618362 m<br>Passes de Issa Soumare: 21.920767 m<br>Passes de Oussama Targhalline: 21.36001 m<br>Passes de Arouna Sangante: 25.563255 m<br>Passes de Arthur Desmas: 26.29753 m<br>",
         "marker": {
          "color": "blue",
          "size": 20
         },
         "mode": "markers+text",
         "text": [
          "Yoann Salmier"
         ],
         "textposition": "top center",
         "type": "scatter",
         "x": [
          25
         ],
         "y": [
          70
         ]
        },
        {
         "hoverinfo": "text",
         "hovertext": "Joueur: Nabil Alioui<br>Nombre de passes effectuées: 13<br>Longueur moyenne des passes effectuées: 21.49 m<br>Nombre de passes reçues: 29<br>Longueur moyenne des passes reçues: 23.48 m<br>Passes vers Oussama Targhalline: 11.815245 m<br>Passes vers Loic Nego: 22.26432 m<br>Passes vers Yoann Salmier: 32.736065 m<br>Passes vers Issa Soumare: 22.596682 m<br>Passes vers Issa Soumare: 7.4431176 m<br>Passes vers Arouna Sangante: 20.808653 m<br>Passes vers Daler Kuzyaev: 5.841233 m<br>Passes vers Josue Casimir: 14.989663 m<br>Passes vers Issa Soumare: 40.823647 m<br>Passes vers Issa Soumare: 21.135752 m<br>Passes vers Issa Soumare: 37.579384 m<br>Passes vers Issa Soumare: 25.314423 m<br>Passes vers Issa Soumare: 15.966528 m<br>Passes de Loic Nego: 43.625793 m<br>Passes de Yoann Salmier: 26.064728 m<br>Passes de Loic Nego: 20.282997 m<br>Passes de Josue Casimir: 27.557213 m<br>Passes de Josue Casimir: 11.472576 m<br>Passes de Issa Soumare: 18.56071 m<br>Passes de Daler Kuzyaev: 15.9380045 m<br>Passes de Issa Soumare: 24.055977 m<br>Passes de Josue Casimir: 9.420191 m<br>Passes de Daler Kuzyaev: 5.0537114 m<br>Passes de Issa Soumare: 28.927668 m<br>Passes de Loic Nego: 24.937723 m<br>Passes de Oussama Targhalline: 9.992997 m<br>Passes de Issa Soumare: 5.936329 m<br>Passes de Loic Nego: 29.082296 m<br>Passes de Issa Soumare: 12.432618 m<br>Passes de Issa Soumare: 10.394229 m<br>Passes de Issa Soumare: 32.24717 m<br>Passes de Issa Soumare: 26.076809 m<br>Passes de Issa Soumare: 14.989663 m<br>Passes de Rassoul Ndiaye: 13.438005 m<br>Passes de Gautier Lloris: 36.669468 m<br>Passes de Oussama Targhalline: 21.22852 m<br>Passes de Arthur Desmas: 73.35721 m<br>Passes de Daler Kuzyaev: 20.695894 m<br>Passes de Josue Casimir: 17.780045 m<br>Passes de Arouna Sangante: 57.734653 m<br>Passes de Issa Soumare: 8.9196415 m<br>Passes de Josue Casimir: 33.983818 m<br>",
         "marker": {
          "color": "blue",
          "size": 20
         },
         "mode": "markers+text",
         "text": [
          "Nabil Alioui"
         ],
         "textposition": "top center",
         "type": "scatter",
         "x": [
          110
         ],
         "y": [
          40
         ]
        },
        {
         "hoverinfo": "text",
         "hovertext": "Joueur: Arthur Desmas<br>Nombre de passes effectuées: 23<br>Longueur moyenne des passes effectuées: 44.32 m<br>Nombre de passes reçues: 5<br>Longueur moyenne des passes reçues: 22.77 m<br>Passes vers Issa Soumare: 57.915195 m<br>Passes vers Issa Soumare: 83.02174 m<br>Passes vers Gautier Lloris: 23.132013 m<br>Passes vers Josue Casimir: 16.717056 m<br>Passes vers Gautier Lloris: 20.13579 m<br>Passes vers Oussama Targhalline: 14.458562 m<br>Passes vers Oussama Targhalline: 38.575123 m<br>Passes vers Issa Soumare: 58.46067 m<br>Passes vers Arouna Sangante: 12.80039 m<br>Passes vers Issa Soumare: 63.67935 m<br>Passes vers Josue Casimir: 70.033775 m<br>Passes vers Daler Kuzyaev: 21.85635 m<br>Passes vers Gautier Lloris: 19.108376 m<br>Passes vers Gautier Lloris: 22.177465 m<br>Passes vers Issa Soumare: 64.11372 m<br>Passes vers Yoann Salmier: 26.29753 m<br>Passes vers Nabil Alioui: 73.35721 m<br>Passes vers Issa Soumare: 65.45166 m<br>Passes vers Issa Soumare: 60.627388 m<br>Passes vers Issa Soumare: 57.21547 m<br>Passes de Rassoul Ndiaye: 27.518175 m<br>Passes de Gautier Lloris: 12.841339 m<br>Passes de Yoann Salmier: 40.70995 m<br>Passes de Gautier Lloris: 8.920202 m<br>",
         "marker": {
          "color": "blue",
          "size": 20
         },
         "mode": "markers+text",
         "text": [
          "Arthur Desmas"
         ],
         "textposition": "top center",
         "type": "scatter",
         "x": [
          3
         ],
         "y": [
          40
         ]
        },
        {
         "hoverinfo": "text",
         "hovertext": "Passes de Arouna Sangante à Gautier Lloris<br>Nombre de passes: 5<br>Longueur moyenne des passes: 21.21 m",
         "line": {
          "color": "red",
          "width": 2
         },
         "mode": "lines",
         "type": "scatter",
         "x": [
          12,
          25
         ],
         "y": [
          50,
          10
         ]
        },
        {
         "hoverinfo": "text",
         "hovertext": "Passes de Arouna Sangante à Issa Soumare<br>Nombre de passes: 4<br>Longueur moyenne des passes: 51.94 m",
         "line": {
          "color": "red",
          "width": 2
         },
         "mode": "lines",
         "type": "scatter",
         "x": [
          12,
          100
         ],
         "y": [
          50,
          10
         ]
        },
        {
         "hoverinfo": "text",
         "hovertext": "Passes de Arouna Sangante à Josue Casimir<br>Nombre de passes: 4<br>Longueur moyenne des passes: 33.33 m",
         "line": {
          "color": "red",
          "width": 2
         },
         "mode": "lines",
         "type": "scatter",
         "x": [
          12,
          100
         ],
         "y": [
          50,
          70
         ]
        },
        {
         "hoverinfo": "text",
         "hovertext": "Passes de Arouna Sangante à Loic Nego<br>Nombre de passes: 4<br>Longueur moyenne des passes: 46.11 m",
         "line": {
          "color": "red",
          "width": 2
         },
         "mode": "lines",
         "type": "scatter",
         "x": [
          12,
          12
         ],
         "y": [
          50,
          30
         ]
        },
        {
         "hoverinfo": "text",
         "hovertext": "Passes de Arouna Sangante à Nabil Alioui<br>Nombre de passes: 1<br>Longueur moyenne des passes: 57.73 m",
         "line": {
          "color": "red",
          "width": 2
         },
         "mode": "lines",
         "type": "scatter",
         "x": [
          12,
          110
         ],
         "y": [
          50,
          40
         ]
        },
        {
         "hoverinfo": "text",
         "hovertext": "Passes de Arouna Sangante à Oussama Targhalline<br>Nombre de passes: 2<br>Longueur moyenne des passes: 5.35 m",
         "line": {
          "color": "red",
          "width": 2
         },
         "mode": "lines",
         "type": "scatter",
         "x": [
          12,
          50
         ],
         "y": [
          50,
          40
         ]
        },
        {
         "hoverinfo": "text",
         "hovertext": "Passes de Arouna Sangante à Rassoul Ndiaye<br>Nombre de passes: 1<br>Longueur moyenne des passes: 29.92 m",
         "line": {
          "color": "red",
          "width": 2
         },
         "mode": "lines",
         "type": "scatter",
         "x": [
          12,
          80
         ],
         "y": [
          50,
          20
         ]
        },
        {
         "hoverinfo": "text",
         "hovertext": "Passes de Arouna Sangante à Yoann Salmier<br>Nombre de passes: 4<br>Longueur moyenne des passes: 19.19 m",
         "line": {
          "color": "red",
          "width": 2
         },
         "mode": "lines",
         "type": "scatter",
         "x": [
          12,
          25
         ],
         "y": [
          50,
          70
         ]
        },
        {
         "hoverinfo": "text",
         "hovertext": "Passes de Arthur Desmas à Arouna Sangante<br>Nombre de passes: 1<br>Longueur moyenne des passes: 12.80 m",
         "line": {
          "color": "red",
          "width": 2
         },
         "mode": "lines",
         "type": "scatter",
         "x": [
          3,
          12
         ],
         "y": [
          40,
          50
         ]
        },
        {
         "hoverinfo": "text",
         "hovertext": "Passes de Arthur Desmas à Daler Kuzyaev<br>Nombre de passes: 1<br>Longueur moyenne des passes: 21.86 m",
         "line": {
          "color": "red",
          "width": 2
         },
         "mode": "lines",
         "type": "scatter",
         "x": [
          3,
          80
         ],
         "y": [
          40,
          60
         ]
        },
        {
         "hoverinfo": "text",
         "hovertext": "Passes de Arthur Desmas à Gautier Lloris<br>Nombre de passes: 4<br>Longueur moyenne des passes: 21.14 m",
         "line": {
          "color": "red",
          "width": 2
         },
         "mode": "lines",
         "type": "scatter",
         "x": [
          3,
          25
         ],
         "y": [
          40,
          10
         ]
        },
        {
         "hoverinfo": "text",
         "hovertext": "Passes de Arthur Desmas à Issa Soumare<br>Nombre de passes: 8<br>Longueur moyenne des passes: 63.81 m",
         "line": {
          "color": "red",
          "width": 2
         },
         "mode": "lines",
         "type": "scatter",
         "x": [
          3,
          100
         ],
         "y": [
          40,
          10
         ]
        },
        {
         "hoverinfo": "text",
         "hovertext": "Passes de Arthur Desmas à Josue Casimir<br>Nombre de passes: 2<br>Longueur moyenne des passes: 43.38 m",
         "line": {
          "color": "red",
          "width": 2
         },
         "mode": "lines",
         "type": "scatter",
         "x": [
          3,
          100
         ],
         "y": [
          40,
          70
         ]
        },
        {
         "hoverinfo": "text",
         "hovertext": "Passes de Arthur Desmas à Nabil Alioui<br>Nombre de passes: 1<br>Longueur moyenne des passes: 73.36 m",
         "line": {
          "color": "red",
          "width": 2
         },
         "mode": "lines",
         "type": "scatter",
         "x": [
          3,
          110
         ],
         "y": [
          40,
          40
         ]
        },
        {
         "hoverinfo": "text",
         "hovertext": "Passes de Arthur Desmas à Oussama Targhalline<br>Nombre de passes: 2<br>Longueur moyenne des passes: 26.52 m",
         "line": {
          "color": "red",
          "width": 2
         },
         "mode": "lines",
         "type": "scatter",
         "x": [
          3,
          50
         ],
         "y": [
          40,
          40
         ]
        },
        {
         "hoverinfo": "text",
         "hovertext": "Passes de Arthur Desmas à Yoann Salmier<br>Nombre de passes: 1<br>Longueur moyenne des passes: 26.30 m",
         "line": {
          "color": "red",
          "width": 2
         },
         "mode": "lines",
         "type": "scatter",
         "x": [
          3,
          25
         ],
         "y": [
          40,
          70
         ]
        },
        {
         "hoverinfo": "text",
         "hovertext": "Passes de Daler Kuzyaev à Arouna Sangante<br>Nombre de passes: 1<br>Longueur moyenne des passes: 16.02 m",
         "line": {
          "color": "red",
          "width": 2
         },
         "mode": "lines",
         "type": "scatter",
         "x": [
          80,
          12
         ],
         "y": [
          60,
          50
         ]
        },
        {
         "hoverinfo": "text",
         "hovertext": "Passes de Daler Kuzyaev à Gautier Lloris<br>Nombre de passes: 3<br>Longueur moyenne des passes: 16.61 m",
         "line": {
          "color": "red",
          "width": 2
         },
         "mode": "lines",
         "type": "scatter",
         "x": [
          80,
          25
         ],
         "y": [
          60,
          10
         ]
        },
        {
         "hoverinfo": "text",
         "hovertext": "Passes de Daler Kuzyaev à Issa Soumare<br>Nombre de passes: 3<br>Longueur moyenne des passes: 15.74 m",
         "line": {
          "color": "red",
          "width": 2
         },
         "mode": "lines",
         "type": "scatter",
         "x": [
          80,
          100
         ],
         "y": [
          60,
          10
         ]
        },
        {
         "hoverinfo": "text",
         "hovertext": "Passes de Daler Kuzyaev à Josue Casimir<br>Nombre de passes: 8<br>Longueur moyenne des passes: 16.94 m",
         "line": {
          "color": "red",
          "width": 2
         },
         "mode": "lines",
         "type": "scatter",
         "x": [
          80,
          100
         ],
         "y": [
          60,
          70
         ]
        },
        {
         "hoverinfo": "text",
         "hovertext": "Passes de Daler Kuzyaev à Loic Nego<br>Nombre de passes: 2<br>Longueur moyenne des passes: 11.79 m",
         "line": {
          "color": "red",
          "width": 2
         },
         "mode": "lines",
         "type": "scatter",
         "x": [
          80,
          12
         ],
         "y": [
          60,
          30
         ]
        },
        {
         "hoverinfo": "text",
         "hovertext": "Passes de Daler Kuzyaev à Nabil Alioui<br>Nombre de passes: 3<br>Longueur moyenne des passes: 13.90 m",
         "line": {
          "color": "red",
          "width": 2
         },
         "mode": "lines",
         "type": "scatter",
         "x": [
          80,
          110
         ],
         "y": [
          60,
          40
         ]
        },
        {
         "hoverinfo": "text",
         "hovertext": "Passes de Daler Kuzyaev à Oussama Targhalline<br>Nombre de passes: 7<br>Longueur moyenne des passes: 13.05 m",
         "line": {
          "color": "red",
          "width": 2
         },
         "mode": "lines",
         "type": "scatter",
         "x": [
          80,
          50
         ],
         "y": [
          60,
          40
         ]
        },
        {
         "hoverinfo": "text",
         "hovertext": "Passes de Daler Kuzyaev à Rassoul Ndiaye<br>Nombre de passes: 4<br>Longueur moyenne des passes: 13.57 m",
         "line": {
          "color": "red",
          "width": 2
         },
         "mode": "lines",
         "type": "scatter",
         "x": [
          80,
          80
         ],
         "y": [
          60,
          20
         ]
        },
        {
         "hoverinfo": "text",
         "hovertext": "Passes de Gautier Lloris à Arouna Sangante<br>Nombre de passes: 4<br>Longueur moyenne des passes: 15.06 m",
         "line": {
          "color": "red",
          "width": 2
         },
         "mode": "lines",
         "type": "scatter",
         "x": [
          25,
          12
         ],
         "y": [
          10,
          50
         ]
        },
        {
         "hoverinfo": "text",
         "hovertext": "Passes de Gautier Lloris à Arthur Desmas<br>Nombre de passes: 2<br>Longueur moyenne des passes: 10.88 m",
         "line": {
          "color": "red",
          "width": 2
         },
         "mode": "lines",
         "type": "scatter",
         "x": [
          25,
          3
         ],
         "y": [
          10,
          40
         ]
        },
        {
         "hoverinfo": "text",
         "hovertext": "Passes de Gautier Lloris à Daler Kuzyaev<br>Nombre de passes: 5<br>Longueur moyenne des passes: 13.90 m",
         "line": {
          "color": "red",
          "width": 2
         },
         "mode": "lines",
         "type": "scatter",
         "x": [
          25,
          80
         ],
         "y": [
          10,
          60
         ]
        },
        {
         "hoverinfo": "text",
         "hovertext": "Passes de Gautier Lloris à Josue Casimir<br>Nombre de passes: 7<br>Longueur moyenne des passes: 13.30 m",
         "line": {
          "color": "red",
          "width": 2
         },
         "mode": "lines",
         "type": "scatter",
         "x": [
          25,
          100
         ],
         "y": [
          10,
          70
         ]
        },
        {
         "hoverinfo": "text",
         "hovertext": "Passes de Gautier Lloris à Nabil Alioui<br>Nombre de passes: 1<br>Longueur moyenne des passes: 36.67 m",
         "line": {
          "color": "red",
          "width": 2
         },
         "mode": "lines",
         "type": "scatter",
         "x": [
          25,
          110
         ],
         "y": [
          10,
          40
         ]
        },
        {
         "hoverinfo": "text",
         "hovertext": "Passes de Gautier Lloris à Oussama Targhalline<br>Nombre de passes: 4<br>Longueur moyenne des passes: 12.42 m",
         "line": {
          "color": "red",
          "width": 2
         },
         "mode": "lines",
         "type": "scatter",
         "x": [
          25,
          50
         ],
         "y": [
          10,
          40
         ]
        },
        {
         "hoverinfo": "text",
         "hovertext": "Passes de Gautier Lloris à Rassoul Ndiaye<br>Nombre de passes: 3<br>Longueur moyenne des passes: 11.69 m",
         "line": {
          "color": "red",
          "width": 2
         },
         "mode": "lines",
         "type": "scatter",
         "x": [
          25,
          80
         ],
         "y": [
          10,
          20
         ]
        },
        {
         "hoverinfo": "text",
         "hovertext": "Passes de Issa Soumare à Nabil Alioui<br>Nombre de passes: 10<br>Longueur moyenne des passes: 18.25 m",
         "line": {
          "color": "red",
          "width": 2
         },
         "mode": "lines",
         "type": "scatter",
         "x": [
          100,
          110
         ],
         "y": [
          10,
          40
         ]
        },
        {
         "hoverinfo": "text",
         "hovertext": "Passes de Issa Soumare à Rassoul Ndiaye<br>Nombre de passes: 3<br>Longueur moyenne des passes: 9.94 m",
         "line": {
          "color": "red",
          "width": 2
         },
         "mode": "lines",
         "type": "scatter",
         "x": [
          100,
          80
         ],
         "y": [
          10,
          20
         ]
        },
        {
         "hoverinfo": "text",
         "hovertext": "Passes de Issa Soumare à Yoann Salmier<br>Nombre de passes: 1<br>Longueur moyenne des passes: 21.92 m",
         "line": {
          "color": "red",
          "width": 2
         },
         "mode": "lines",
         "type": "scatter",
         "x": [
          100,
          25
         ],
         "y": [
          10,
          70
         ]
        },
        {
         "hoverinfo": "text",
         "hovertext": "Passes de Josue Casimir à Daler Kuzyaev<br>Nombre de passes: 1<br>Longueur moyenne des passes: 3.77 m",
         "line": {
          "color": "red",
          "width": 2
         },
         "mode": "lines",
         "type": "scatter",
         "x": [
          100,
          80
         ],
         "y": [
          70,
          60
         ]
        },
        {
         "hoverinfo": "text",
         "hovertext": "Passes de Josue Casimir à Gautier Lloris<br>Nombre de passes: 5<br>Longueur moyenne des passes: 9.93 m",
         "line": {
          "color": "red",
          "width": 2
         },
         "mode": "lines",
         "type": "scatter",
         "x": [
          100,
          25
         ],
         "y": [
          70,
          10
         ]
        },
        {
         "hoverinfo": "text",
         "hovertext": "Passes de Josue Casimir à Issa Soumare<br>Nombre de passes: 6<br>Longueur moyenne des passes: 30.97 m",
         "line": {
          "color": "red",
          "width": 2
         },
         "mode": "lines",
         "type": "scatter",
         "x": [
          100,
          100
         ],
         "y": [
          70,
          10
         ]
        },
        {
         "hoverinfo": "text",
         "hovertext": "Passes de Josue Casimir à Nabil Alioui<br>Nombre de passes: 5<br>Longueur moyenne des passes: 20.04 m",
         "line": {
          "color": "red",
          "width": 2
         },
         "mode": "lines",
         "type": "scatter",
         "x": [
          100,
          110
         ],
         "y": [
          70,
          40
         ]
        },
        {
         "hoverinfo": "text",
         "hovertext": "Passes de Josue Casimir à Oussama Targhalline<br>Nombre de passes: 6<br>Longueur moyenne des passes: 11.78 m",
         "line": {
          "color": "red",
          "width": 2
         },
         "mode": "lines",
         "type": "scatter",
         "x": [
          100,
          50
         ],
         "y": [
          70,
          40
         ]
        },
        {
         "hoverinfo": "text",
         "hovertext": "Passes de Josue Casimir à Rassoul Ndiaye<br>Nombre de passes: 1<br>Longueur moyenne des passes: 11.23 m",
         "line": {
          "color": "red",
          "width": 2
         },
         "mode": "lines",
         "type": "scatter",
         "x": [
          100,
          80
         ],
         "y": [
          70,
          20
         ]
        },
        {
         "hoverinfo": "text",
         "hovertext": "Passes de Loic Nego à Arouna Sangante<br>Nombre de passes: 2<br>Longueur moyenne des passes: 24.94 m",
         "line": {
          "color": "red",
          "width": 2
         },
         "mode": "lines",
         "type": "scatter",
         "x": [
          12,
          12
         ],
         "y": [
          30,
          50
         ]
        },
        {
         "hoverinfo": "text",
         "hovertext": "Passes de Loic Nego à Daler Kuzyaev<br>Nombre de passes: 1<br>Longueur moyenne des passes: 11.46 m",
         "line": {
          "color": "red",
          "width": 2
         },
         "mode": "lines",
         "type": "scatter",
         "x": [
          12,
          80
         ],
         "y": [
          30,
          60
         ]
        },
        {
         "hoverinfo": "text",
         "hovertext": "Passes de Loic Nego à Issa Soumare<br>Nombre de passes: 6<br>Longueur moyenne des passes: 21.91 m",
         "line": {
          "color": "red",
          "width": 2
         },
         "mode": "lines",
         "type": "scatter",
         "x": [
          12,
          100
         ],
         "y": [
          30,
          10
         ]
        },
        {
         "hoverinfo": "text",
         "hovertext": "Passes de Loic Nego à Nabil Alioui<br>Nombre de passes: 4<br>Longueur moyenne des passes: 29.48 m",
         "line": {
          "color": "red",
          "width": 2
         },
         "mode": "lines",
         "type": "scatter",
         "x": [
          12,
          110
         ],
         "y": [
          30,
          40
         ]
        },
        {
         "hoverinfo": "text",
         "hovertext": "Passes de Loic Nego à Oussama Targhalline<br>Nombre de passes: 8<br>Longueur moyenne des passes: 12.20 m",
         "line": {
          "color": "red",
          "width": 2
         },
         "mode": "lines",
         "type": "scatter",
         "x": [
          12,
          50
         ],
         "y": [
          30,
          40
         ]
        },
        {
         "hoverinfo": "text",
         "hovertext": "Passes de Loic Nego à Rassoul Ndiaye<br>Nombre de passes: 5<br>Longueur moyenne des passes: 20.12 m",
         "line": {
          "color": "red",
          "width": 2
         },
         "mode": "lines",
         "type": "scatter",
         "x": [
          12,
          80
         ],
         "y": [
          30,
          20
         ]
        },
        {
         "hoverinfo": "text",
         "hovertext": "Passes de Loic Nego à Yoann Salmier<br>Nombre de passes: 2<br>Longueur moyenne des passes: 14.96 m",
         "line": {
          "color": "red",
          "width": 2
         },
         "mode": "lines",
         "type": "scatter",
         "x": [
          12,
          25
         ],
         "y": [
          30,
          70
         ]
        },
        {
         "hoverinfo": "text",
         "hovertext": "Passes de Nabil Alioui à Arouna Sangante<br>Nombre de passes: 1<br>Longueur moyenne des passes: 20.81 m",
         "line": {
          "color": "red",
          "width": 2
         },
         "mode": "lines",
         "type": "scatter",
         "x": [
          110,
          12
         ],
         "y": [
          40,
          50
         ]
        },
        {
         "hoverinfo": "text",
         "hovertext": "Passes de Nabil Alioui à Daler Kuzyaev<br>Nombre de passes: 1<br>Longueur moyenne des passes: 5.84 m",
         "line": {
          "color": "red",
          "width": 2
         },
         "mode": "lines",
         "type": "scatter",
         "x": [
          110,
          80
         ],
         "y": [
          40,
          60
         ]
        },
        {
         "hoverinfo": "text",
         "hovertext": "Passes de Nabil Alioui à Issa Soumare<br>Nombre de passes: 7<br>Longueur moyenne des passes: 24.41 m",
         "line": {
          "color": "red",
          "width": 2
         },
         "mode": "lines",
         "type": "scatter",
         "x": [
          110,
          100
         ],
         "y": [
          40,
          10
         ]
        },
        {
         "hoverinfo": "text",
         "hovertext": "Passes de Nabil Alioui à Josue Casimir<br>Nombre de passes: 1<br>Longueur moyenne des passes: 14.99 m",
         "line": {
          "color": "red",
          "width": 2
         },
         "mode": "lines",
         "type": "scatter",
         "x": [
          110,
          100
         ],
         "y": [
          40,
          70
         ]
        },
        {
         "hoverinfo": "text",
         "hovertext": "Passes de Nabil Alioui à Loic Nego<br>Nombre de passes: 1<br>Longueur moyenne des passes: 22.26 m",
         "line": {
          "color": "red",
          "width": 2
         },
         "mode": "lines",
         "type": "scatter",
         "x": [
          110,
          12
         ],
         "y": [
          40,
          30
         ]
        },
        {
         "hoverinfo": "text",
         "hovertext": "Passes de Nabil Alioui à Oussama Targhalline<br>Nombre de passes: 1<br>Longueur moyenne des passes: 11.82 m",
         "line": {
          "color": "red",
          "width": 2
         },
         "mode": "lines",
         "type": "scatter",
         "x": [
          110,
          50
         ],
         "y": [
          40,
          40
         ]
        },
        {
         "hoverinfo": "text",
         "hovertext": "Passes de Nabil Alioui à Yoann Salmier<br>Nombre de passes: 1<br>Longueur moyenne des passes: 32.74 m",
         "line": {
          "color": "red",
          "width": 2
         },
         "mode": "lines",
         "type": "scatter",
         "x": [
          110,
          25
         ],
         "y": [
          40,
          70
         ]
        },
        {
         "hoverinfo": "text",
         "hovertext": "Passes de Oussama Targhalline à Daler Kuzyaev<br>Nombre de passes: 6<br>Longueur moyenne des passes: 11.16 m",
         "line": {
          "color": "red",
          "width": 2
         },
         "mode": "lines",
         "type": "scatter",
         "x": [
          50,
          80
         ],
         "y": [
          40,
          60
         ]
        },
        {
         "hoverinfo": "text",
         "hovertext": "Passes de Oussama Targhalline à Gautier Lloris<br>Nombre de passes: 2<br>Longueur moyenne des passes: 18.91 m",
         "line": {
          "color": "red",
          "width": 2
         },
         "mode": "lines",
         "type": "scatter",
         "x": [
          50,
          25
         ],
         "y": [
          40,
          10
         ]
        },
        {
         "hoverinfo": "text",
         "hovertext": "Passes de Oussama Targhalline à Issa Soumare<br>Nombre de passes: 7<br>Longueur moyenne des passes: 24.20 m",
         "line": {
          "color": "red",
          "width": 2
         },
         "mode": "lines",
         "type": "scatter",
         "x": [
          50,
          100
         ],
         "y": [
          40,
          10
         ]
        },
        {
         "hoverinfo": "text",
         "hovertext": "Passes de Oussama Targhalline à Josue Casimir<br>Nombre de passes: 9<br>Longueur moyenne des passes: 18.89 m",
         "line": {
          "color": "red",
          "width": 2
         },
         "mode": "lines",
         "type": "scatter",
         "x": [
          50,
          100
         ],
         "y": [
          40,
          70
         ]
        },
        {
         "hoverinfo": "text",
         "hovertext": "Passes de Oussama Targhalline à Loic Nego<br>Nombre de passes: 4<br>Longueur moyenne des passes: 12.71 m",
         "line": {
          "color": "red",
          "width": 2
         },
         "mode": "lines",
         "type": "scatter",
         "x": [
          50,
          12
         ],
         "y": [
          40,
          30
         ]
        },
        {
         "hoverinfo": "text",
         "hovertext": "Passes de Oussama Targhalline à Nabil Alioui<br>Nombre de passes: 2<br>Longueur moyenne des passes: 15.61 m",
         "line": {
          "color": "red",
          "width": 2
         },
         "mode": "lines",
         "type": "scatter",
         "x": [
          50,
          110
         ],
         "y": [
          40,
          40
         ]
        },
        {
         "hoverinfo": "text",
         "hovertext": "Passes de Oussama Targhalline à Rassoul Ndiaye<br>Nombre de passes: 9<br>Longueur moyenne des passes: 14.18 m",
         "line": {
          "color": "red",
          "width": 2
         },
         "mode": "lines",
         "type": "scatter",
         "x": [
          50,
          80
         ],
         "y": [
          40,
          20
         ]
        },
        {
         "hoverinfo": "text",
         "hovertext": "Passes de Oussama Targhalline à Yoann Salmier<br>Nombre de passes: 1<br>Longueur moyenne des passes: 21.36 m",
         "line": {
          "color": "red",
          "width": 2
         },
         "mode": "lines",
         "type": "scatter",
         "x": [
          50,
          25
         ],
         "y": [
          40,
          70
         ]
        },
        {
         "hoverinfo": "text",
         "hovertext": "Passes de Rassoul Ndiaye à Arthur Desmas<br>Nombre de passes: 1<br>Longueur moyenne des passes: 27.52 m",
         "line": {
          "color": "red",
          "width": 2
         },
         "mode": "lines",
         "type": "scatter",
         "x": [
          80,
          3
         ],
         "y": [
          20,
          40
         ]
        },
        {
         "hoverinfo": "text",
         "hovertext": "Passes de Rassoul Ndiaye à Gautier Lloris<br>Nombre de passes: 3<br>Longueur moyenne des passes: 21.17 m",
         "line": {
          "color": "red",
          "width": 2
         },
         "mode": "lines",
         "type": "scatter",
         "x": [
          80,
          25
         ],
         "y": [
          20,
          10
         ]
        },
        {
         "hoverinfo": "text",
         "hovertext": "Passes de Rassoul Ndiaye à Issa Soumare<br>Nombre de passes: 3<br>Longueur moyenne des passes: 32.10 m",
         "line": {
          "color": "red",
          "width": 2
         },
         "mode": "lines",
         "type": "scatter",
         "x": [
          80,
          100
         ],
         "y": [
          20,
          10
         ]
        },
        {
         "hoverinfo": "text",
         "hovertext": "Passes de Rassoul Ndiaye à Josue Casimir<br>Nombre de passes: 3<br>Longueur moyenne des passes: 19.74 m",
         "line": {
          "color": "red",
          "width": 2
         },
         "mode": "lines",
         "type": "scatter",
         "x": [
          80,
          100
         ],
         "y": [
          20,
          70
         ]
        },
        {
         "hoverinfo": "text",
         "hovertext": "Passes de Rassoul Ndiaye à Loic Nego<br>Nombre de passes: 5<br>Longueur moyenne des passes: 15.75 m",
         "line": {
          "color": "red",
          "width": 2
         },
         "mode": "lines",
         "type": "scatter",
         "x": [
          80,
          12
         ],
         "y": [
          20,
          30
         ]
        },
        {
         "hoverinfo": "text",
         "hovertext": "Passes de Rassoul Ndiaye à Nabil Alioui<br>Nombre de passes: 1<br>Longueur moyenne des passes: 13.44 m",
         "line": {
          "color": "red",
          "width": 2
         },
         "mode": "lines",
         "type": "scatter",
         "x": [
          80,
          110
         ],
         "y": [
          20,
          40
         ]
        },
        {
         "hoverinfo": "text",
         "hovertext": "Passes de Rassoul Ndiaye à Oussama Targhalline<br>Nombre de passes: 4<br>Longueur moyenne des passes: 9.02 m",
         "line": {
          "color": "red",
          "width": 2
         },
         "mode": "lines",
         "type": "scatter",
         "x": [
          80,
          50
         ],
         "y": [
          20,
          40
         ]
        },
        {
         "hoverinfo": "text",
         "hovertext": "Passes de Rassoul Ndiaye à Yoann Salmier<br>Nombre de passes: 1<br>Longueur moyenne des passes: 15.07 m",
         "line": {
          "color": "red",
          "width": 2
         },
         "mode": "lines",
         "type": "scatter",
         "x": [
          80,
          25
         ],
         "y": [
          20,
          70
         ]
        },
        {
         "hoverinfo": "text",
         "hovertext": "Passes de Yoann Salmier à Arouna Sangante<br>Nombre de passes: 4<br>Longueur moyenne des passes: 21.91 m",
         "line": {
          "color": "red",
          "width": 2
         },
         "mode": "lines",
         "type": "scatter",
         "x": [
          25,
          12
         ],
         "y": [
          70,
          50
         ]
        },
        {
         "hoverinfo": "text",
         "hovertext": "Passes de Yoann Salmier à Arthur Desmas<br>Nombre de passes: 1<br>Longueur moyenne des passes: 40.71 m",
         "line": {
          "color": "red",
          "width": 2
         },
         "mode": "lines",
         "type": "scatter",
         "x": [
          25,
          3
         ],
         "y": [
          70,
          40
         ]
        },
        {
         "hoverinfo": "text",
         "hovertext": "Passes de Yoann Salmier à Daler Kuzyaev<br>Nombre de passes: 2<br>Longueur moyenne des passes: 14.92 m",
         "line": {
          "color": "red",
          "width": 2
         },
         "mode": "lines",
         "type": "scatter",
         "x": [
          25,
          80
         ],
         "y": [
          70,
          60
         ]
        },
        {
         "hoverinfo": "text",
         "hovertext": "Passes de Yoann Salmier à Issa Soumare<br>Nombre de passes: 6<br>Longueur moyenne des passes: 50.12 m",
         "line": {
          "color": "red",
          "width": 2
         },
         "mode": "lines",
         "type": "scatter",
         "x": [
          25,
          100
         ],
         "y": [
          70,
          10
         ]
        },
        {
         "hoverinfo": "text",
         "hovertext": "Passes de Yoann Salmier à Loic Nego<br>Nombre de passes: 2<br>Longueur moyenne des passes: 17.39 m",
         "line": {
          "color": "red",
          "width": 2
         },
         "mode": "lines",
         "type": "scatter",
         "x": [
          25,
          12
         ],
         "y": [
          70,
          30
         ]
        },
        {
         "hoverinfo": "text",
         "hovertext": "Passes de Yoann Salmier à Nabil Alioui<br>Nombre de passes: 1<br>Longueur moyenne des passes: 26.06 m",
         "line": {
          "color": "red",
          "width": 2
         },
         "mode": "lines",
         "type": "scatter",
         "x": [
          25,
          110
         ],
         "y": [
          70,
          40
         ]
        },
        {
         "hoverinfo": "text",
         "hovertext": "Passes de Yoann Salmier à Oussama Targhalline<br>Nombre de passes: 4<br>Longueur moyenne des passes: 20.20 m",
         "line": {
          "color": "red",
          "width": 2
         },
         "mode": "lines",
         "type": "scatter",
         "x": [
          25,
          50
         ],
         "y": [
          70,
          40
         ]
        },
        {
         "hoverinfo": "text",
         "hovertext": "Passes de Yoann Salmier à Rassoul Ndiaye<br>Nombre de passes: 2<br>Longueur moyenne des passes: 16.60 m",
         "line": {
          "color": "red",
          "width": 2
         },
         "mode": "lines",
         "type": "scatter",
         "x": [
          25,
          80
         ],
         "y": [
          70,
          20
         ]
        }
       ],
       "layout": {
        "height": 900,
        "shapes": [
         {
          "line": {
           "color": "Black"
          },
          "type": "rect",
          "x0": 0,
          "x1": 120,
          "y0": 0,
          "y1": 80
         },
         {
          "line": {
           "color": "Black",
           "dash": "dot"
          },
          "type": "line",
          "x0": 60,
          "x1": 60,
          "y0": 0,
          "y1": 80
         },
         {
          "line": {
           "color": "Black"
          },
          "type": "rect",
          "x0": 0,
          "x1": 18,
          "y0": 18,
          "y1": 62
         },
         {
          "line": {
           "color": "Black"
          },
          "type": "rect",
          "x0": 102,
          "x1": 120,
          "y0": 18,
          "y1": 62
         },
         {
          "line": {
           "color": "Black"
          },
          "type": "rect",
          "x0": 0,
          "x1": 5.5,
          "y0": 30,
          "y1": 50
         },
         {
          "line": {
           "color": "Black"
          },
          "type": "rect",
          "x0": 114.5,
          "x1": 120,
          "y0": 30,
          "y1": 50
         },
         {
          "line": {
           "color": "Black"
          },
          "type": "rect",
          "x0": 0,
          "x1": 2,
          "y0": 36,
          "y1": 44
         },
         {
          "line": {
           "color": "Black"
          },
          "type": "rect",
          "x0": 118,
          "x1": 120,
          "y0": 36,
          "y1": 44
         },
         {
          "line": {
           "color": "Black"
          },
          "type": "circle",
          "x0": 50.4,
          "x1": 69.6,
          "xref": "x",
          "y0": 30.4,
          "y1": 49.6,
          "yref": "y"
         }
        ],
        "template": {
         "data": {
          "bar": [
           {
            "error_x": {
             "color": "#2a3f5f"
            },
            "error_y": {
             "color": "#2a3f5f"
            },
            "marker": {
             "line": {
              "color": "#E5ECF6",
              "width": 0.5
             },
             "pattern": {
              "fillmode": "overlay",
              "size": 10,
              "solidity": 0.2
             }
            },
            "type": "bar"
           }
          ],
          "barpolar": [
           {
            "marker": {
             "line": {
              "color": "#E5ECF6",
              "width": 0.5
             },
             "pattern": {
              "fillmode": "overlay",
              "size": 10,
              "solidity": 0.2
             }
            },
            "type": "barpolar"
           }
          ],
          "carpet": [
           {
            "aaxis": {
             "endlinecolor": "#2a3f5f",
             "gridcolor": "white",
             "linecolor": "white",
             "minorgridcolor": "white",
             "startlinecolor": "#2a3f5f"
            },
            "baxis": {
             "endlinecolor": "#2a3f5f",
             "gridcolor": "white",
             "linecolor": "white",
             "minorgridcolor": "white",
             "startlinecolor": "#2a3f5f"
            },
            "type": "carpet"
           }
          ],
          "choropleth": [
           {
            "colorbar": {
             "outlinewidth": 0,
             "ticks": ""
            },
            "type": "choropleth"
           }
          ],
          "contour": [
           {
            "colorbar": {
             "outlinewidth": 0,
             "ticks": ""
            },
            "colorscale": [
             [
              0,
              "#0d0887"
             ],
             [
              0.1111111111111111,
              "#46039f"
             ],
             [
              0.2222222222222222,
              "#7201a8"
             ],
             [
              0.3333333333333333,
              "#9c179e"
             ],
             [
              0.4444444444444444,
              "#bd3786"
             ],
             [
              0.5555555555555556,
              "#d8576b"
             ],
             [
              0.6666666666666666,
              "#ed7953"
             ],
             [
              0.7777777777777778,
              "#fb9f3a"
             ],
             [
              0.8888888888888888,
              "#fdca26"
             ],
             [
              1,
              "#f0f921"
             ]
            ],
            "type": "contour"
           }
          ],
          "contourcarpet": [
           {
            "colorbar": {
             "outlinewidth": 0,
             "ticks": ""
            },
            "type": "contourcarpet"
           }
          ],
          "heatmap": [
           {
            "colorbar": {
             "outlinewidth": 0,
             "ticks": ""
            },
            "colorscale": [
             [
              0,
              "#0d0887"
             ],
             [
              0.1111111111111111,
              "#46039f"
             ],
             [
              0.2222222222222222,
              "#7201a8"
             ],
             [
              0.3333333333333333,
              "#9c179e"
             ],
             [
              0.4444444444444444,
              "#bd3786"
             ],
             [
              0.5555555555555556,
              "#d8576b"
             ],
             [
              0.6666666666666666,
              "#ed7953"
             ],
             [
              0.7777777777777778,
              "#fb9f3a"
             ],
             [
              0.8888888888888888,
              "#fdca26"
             ],
             [
              1,
              "#f0f921"
             ]
            ],
            "type": "heatmap"
           }
          ],
          "heatmapgl": [
           {
            "colorbar": {
             "outlinewidth": 0,
             "ticks": ""
            },
            "colorscale": [
             [
              0,
              "#0d0887"
             ],
             [
              0.1111111111111111,
              "#46039f"
             ],
             [
              0.2222222222222222,
              "#7201a8"
             ],
             [
              0.3333333333333333,
              "#9c179e"
             ],
             [
              0.4444444444444444,
              "#bd3786"
             ],
             [
              0.5555555555555556,
              "#d8576b"
             ],
             [
              0.6666666666666666,
              "#ed7953"
             ],
             [
              0.7777777777777778,
              "#fb9f3a"
             ],
             [
              0.8888888888888888,
              "#fdca26"
             ],
             [
              1,
              "#f0f921"
             ]
            ],
            "type": "heatmapgl"
           }
          ],
          "histogram": [
           {
            "marker": {
             "pattern": {
              "fillmode": "overlay",
              "size": 10,
              "solidity": 0.2
             }
            },
            "type": "histogram"
           }
          ],
          "histogram2d": [
           {
            "colorbar": {
             "outlinewidth": 0,
             "ticks": ""
            },
            "colorscale": [
             [
              0,
              "#0d0887"
             ],
             [
              0.1111111111111111,
              "#46039f"
             ],
             [
              0.2222222222222222,
              "#7201a8"
             ],
             [
              0.3333333333333333,
              "#9c179e"
             ],
             [
              0.4444444444444444,
              "#bd3786"
             ],
             [
              0.5555555555555556,
              "#d8576b"
             ],
             [
              0.6666666666666666,
              "#ed7953"
             ],
             [
              0.7777777777777778,
              "#fb9f3a"
             ],
             [
              0.8888888888888888,
              "#fdca26"
             ],
             [
              1,
              "#f0f921"
             ]
            ],
            "type": "histogram2d"
           }
          ],
          "histogram2dcontour": [
           {
            "colorbar": {
             "outlinewidth": 0,
             "ticks": ""
            },
            "colorscale": [
             [
              0,
              "#0d0887"
             ],
             [
              0.1111111111111111,
              "#46039f"
             ],
             [
              0.2222222222222222,
              "#7201a8"
             ],
             [
              0.3333333333333333,
              "#9c179e"
             ],
             [
              0.4444444444444444,
              "#bd3786"
             ],
             [
              0.5555555555555556,
              "#d8576b"
             ],
             [
              0.6666666666666666,
              "#ed7953"
             ],
             [
              0.7777777777777778,
              "#fb9f3a"
             ],
             [
              0.8888888888888888,
              "#fdca26"
             ],
             [
              1,
              "#f0f921"
             ]
            ],
            "type": "histogram2dcontour"
           }
          ],
          "mesh3d": [
           {
            "colorbar": {
             "outlinewidth": 0,
             "ticks": ""
            },
            "type": "mesh3d"
           }
          ],
          "parcoords": [
           {
            "line": {
             "colorbar": {
              "outlinewidth": 0,
              "ticks": ""
             }
            },
            "type": "parcoords"
           }
          ],
          "pie": [
           {
            "automargin": true,
            "type": "pie"
           }
          ],
          "scatter": [
           {
            "fillpattern": {
             "fillmode": "overlay",
             "size": 10,
             "solidity": 0.2
            },
            "type": "scatter"
           }
          ],
          "scatter3d": [
           {
            "line": {
             "colorbar": {
              "outlinewidth": 0,
              "ticks": ""
             }
            },
            "marker": {
             "colorbar": {
              "outlinewidth": 0,
              "ticks": ""
             }
            },
            "type": "scatter3d"
           }
          ],
          "scattercarpet": [
           {
            "marker": {
             "colorbar": {
              "outlinewidth": 0,
              "ticks": ""
             }
            },
            "type": "scattercarpet"
           }
          ],
          "scattergeo": [
           {
            "marker": {
             "colorbar": {
              "outlinewidth": 0,
              "ticks": ""
             }
            },
            "type": "scattergeo"
           }
          ],
          "scattergl": [
           {
            "marker": {
             "colorbar": {
              "outlinewidth": 0,
              "ticks": ""
             }
            },
            "type": "scattergl"
           }
          ],
          "scattermapbox": [
           {
            "marker": {
             "colorbar": {
              "outlinewidth": 0,
              "ticks": ""
             }
            },
            "type": "scattermapbox"
           }
          ],
          "scatterpolar": [
           {
            "marker": {
             "colorbar": {
              "outlinewidth": 0,
              "ticks": ""
             }
            },
            "type": "scatterpolar"
           }
          ],
          "scatterpolargl": [
           {
            "marker": {
             "colorbar": {
              "outlinewidth": 0,
              "ticks": ""
             }
            },
            "type": "scatterpolargl"
           }
          ],
          "scatterternary": [
           {
            "marker": {
             "colorbar": {
              "outlinewidth": 0,
              "ticks": ""
             }
            },
            "type": "scatterternary"
           }
          ],
          "surface": [
           {
            "colorbar": {
             "outlinewidth": 0,
             "ticks": ""
            },
            "colorscale": [
             [
              0,
              "#0d0887"
             ],
             [
              0.1111111111111111,
              "#46039f"
             ],
             [
              0.2222222222222222,
              "#7201a8"
             ],
             [
              0.3333333333333333,
              "#9c179e"
             ],
             [
              0.4444444444444444,
              "#bd3786"
             ],
             [
              0.5555555555555556,
              "#d8576b"
             ],
             [
              0.6666666666666666,
              "#ed7953"
             ],
             [
              0.7777777777777778,
              "#fb9f3a"
             ],
             [
              0.8888888888888888,
              "#fdca26"
             ],
             [
              1,
              "#f0f921"
             ]
            ],
            "type": "surface"
           }
          ],
          "table": [
           {
            "cells": {
             "fill": {
              "color": "#EBF0F8"
             },
             "line": {
              "color": "white"
             }
            },
            "header": {
             "fill": {
              "color": "#C8D4E3"
             },
             "line": {
              "color": "white"
             }
            },
            "type": "table"
           }
          ]
         },
         "layout": {
          "annotationdefaults": {
           "arrowcolor": "#2a3f5f",
           "arrowhead": 0,
           "arrowwidth": 1
          },
          "autotypenumbers": "strict",
          "coloraxis": {
           "colorbar": {
            "outlinewidth": 0,
            "ticks": ""
           }
          },
          "colorscale": {
           "diverging": [
            [
             0,
             "#8e0152"
            ],
            [
             0.1,
             "#c51b7d"
            ],
            [
             0.2,
             "#de77ae"
            ],
            [
             0.3,
             "#f1b6da"
            ],
            [
             0.4,
             "#fde0ef"
            ],
            [
             0.5,
             "#f7f7f7"
            ],
            [
             0.6,
             "#e6f5d0"
            ],
            [
             0.7,
             "#b8e186"
            ],
            [
             0.8,
             "#7fbc41"
            ],
            [
             0.9,
             "#4d9221"
            ],
            [
             1,
             "#276419"
            ]
           ],
           "sequential": [
            [
             0,
             "#0d0887"
            ],
            [
             0.1111111111111111,
             "#46039f"
            ],
            [
             0.2222222222222222,
             "#7201a8"
            ],
            [
             0.3333333333333333,
             "#9c179e"
            ],
            [
             0.4444444444444444,
             "#bd3786"
            ],
            [
             0.5555555555555556,
             "#d8576b"
            ],
            [
             0.6666666666666666,
             "#ed7953"
            ],
            [
             0.7777777777777778,
             "#fb9f3a"
            ],
            [
             0.8888888888888888,
             "#fdca26"
            ],
            [
             1,
             "#f0f921"
            ]
           ],
           "sequentialminus": [
            [
             0,
             "#0d0887"
            ],
            [
             0.1111111111111111,
             "#46039f"
            ],
            [
             0.2222222222222222,
             "#7201a8"
            ],
            [
             0.3333333333333333,
             "#9c179e"
            ],
            [
             0.4444444444444444,
             "#bd3786"
            ],
            [
             0.5555555555555556,
             "#d8576b"
            ],
            [
             0.6666666666666666,
             "#ed7953"
            ],
            [
             0.7777777777777778,
             "#fb9f3a"
            ],
            [
             0.8888888888888888,
             "#fdca26"
            ],
            [
             1,
             "#f0f921"
            ]
           ]
          },
          "colorway": [
           "#636efa",
           "#EF553B",
           "#00cc96",
           "#ab63fa",
           "#FFA15A",
           "#19d3f3",
           "#FF6692",
           "#B6E880",
           "#FF97FF",
           "#FECB52"
          ],
          "font": {
           "color": "#2a3f5f"
          },
          "geo": {
           "bgcolor": "white",
           "lakecolor": "white",
           "landcolor": "#E5ECF6",
           "showlakes": true,
           "showland": true,
           "subunitcolor": "white"
          },
          "hoverlabel": {
           "align": "left"
          },
          "hovermode": "closest",
          "mapbox": {
           "style": "light"
          },
          "paper_bgcolor": "white",
          "plot_bgcolor": "#E5ECF6",
          "polar": {
           "angularaxis": {
            "gridcolor": "white",
            "linecolor": "white",
            "ticks": ""
           },
           "bgcolor": "#E5ECF6",
           "radialaxis": {
            "gridcolor": "white",
            "linecolor": "white",
            "ticks": ""
           }
          },
          "scene": {
           "xaxis": {
            "backgroundcolor": "#E5ECF6",
            "gridcolor": "white",
            "gridwidth": 2,
            "linecolor": "white",
            "showbackground": true,
            "ticks": "",
            "zerolinecolor": "white"
           },
           "yaxis": {
            "backgroundcolor": "#E5ECF6",
            "gridcolor": "white",
            "gridwidth": 2,
            "linecolor": "white",
            "showbackground": true,
            "ticks": "",
            "zerolinecolor": "white"
           },
           "zaxis": {
            "backgroundcolor": "#E5ECF6",
            "gridcolor": "white",
            "gridwidth": 2,
            "linecolor": "white",
            "showbackground": true,
            "ticks": "",
            "zerolinecolor": "white"
           }
          },
          "shapedefaults": {
           "line": {
            "color": "#2a3f5f"
           }
          },
          "ternary": {
           "aaxis": {
            "gridcolor": "white",
            "linecolor": "white",
            "ticks": ""
           },
           "baxis": {
            "gridcolor": "white",
            "linecolor": "white",
            "ticks": ""
           },
           "bgcolor": "#E5ECF6",
           "caxis": {
            "gridcolor": "white",
            "linecolor": "white",
            "ticks": ""
           }
          },
          "title": {
           "x": 0.05
          },
          "xaxis": {
           "automargin": true,
           "gridcolor": "white",
           "linecolor": "white",
           "ticks": "",
           "title": {
            "standoff": 15
           },
           "zerolinecolor": "white",
           "zerolinewidth": 2
          },
          "yaxis": {
           "automargin": true,
           "gridcolor": "white",
           "linecolor": "white",
           "ticks": "",
           "title": {
            "standoff": 15
           },
           "zerolinecolor": "white",
           "zerolinewidth": 2
          }
         }
        },
        "title": {
         "text": "Réseau de passes sur un terrain de football"
        },
        "width": 1200,
        "xaxis": {
         "range": [
          0,
          120
         ],
         "showgrid": false,
         "zeroline": false
        },
        "yaxis": {
         "range": [
          0,
          80
         ],
         "showgrid": false,
         "zeroline": false
        }
       }
      }
     },
     "metadata": {},
     "output_type": "display_data"
    }
   ],
   "source": [
    "import plotly.graph_objs as go\n",
    "\n",
    "# Dictionnaire des positions en fonction des rôles\n",
    "role_positions = {\n",
    "    \"Gardien\": [(3, 40)],\n",
    "    \"Défenseur\": [(12, 30), (12, 50), (25, 10), (25, 70)],\n",
    "    \"Milieu de terrain\": [(50, 40), (80, 20), (80, 60)],\n",
    "    \"Attaquant\": [(100, 10), (100, 70), (110, 40)]\n",
    "}\n",
    "\n",
    "# Fonction pour obtenir la position en fonction du rôle et de l'index\n",
    "def get_position(role, index, role_positions, role_count):\n",
    "    if role in role_positions and index < len(role_positions[role]):\n",
    "        return role_positions[role][index]\n",
    "    else:\n",
    "        # Gérer les excédents en attribuant des positions restantes\n",
    "        if role == \"Défenseur\":\n",
    "            role = \"Milieu de terrain\"\n",
    "        elif role == \"Milieu de terrain\":\n",
    "            role = \"Attaquant\"\n",
    "        elif role == \"Attaquant\":\n",
    "            role = \"Défenseur\"\n",
    "        return get_position(role, role_count[role], role_positions, role_count)\n",
    "\n",
    "# Fonction pour créer le graphique de passes\n",
    "def visualize_pass_network(player_positions_df, passes_df):\n",
    "    # Convertir les données de la dataframe en dictionnaires\n",
    "    role_count = {\"Défenseur\": 0, \"Milieu de terrain\": 0, \"Attaquant\": 0, \"Gardien\": 0}\n",
    "    players_positions = {}\n",
    "    \n",
    "    for index, row in player_positions_df.iterrows():\n",
    "        role = row['role']\n",
    "        position = get_position(role, role_count[role], role_positions, role_count)\n",
    "        role_count[role] += 1\n",
    "        players_positions[row['player.name']] = position\n",
    "\n",
    "    # Calculer les informations des passes\n",
    "    pass_info = passes_df.groupby(['player.name']).agg(\n",
    "        num_passes=('pass.length', 'size'),\n",
    "        avg_pass_length=('pass.length', 'mean')\n",
    "    ).reset_index()\n",
    "\n",
    "    pass_info_received = passes_df.groupby(['pass.recipient.name']).agg(\n",
    "        num_passes_received=('pass.length', 'size'),\n",
    "        avg_pass_length_received=('pass.length', 'mean')\n",
    "    ).reset_index()\n",
    "\n",
    "    # Créer des dictionnaires pour les infos de passes\n",
    "    pass_info_dict = {\n",
    "        row['player.name']: {\n",
    "            'num_passes': row['num_passes'],\n",
    "            'avg_pass_length': row['avg_pass_length']\n",
    "        }\n",
    "        for index, row in pass_info.iterrows()\n",
    "    }\n",
    "\n",
    "    pass_info_received_dict = {\n",
    "        row['pass.recipient.name']: {\n",
    "            'num_passes_received': row['num_passes_received'],\n",
    "            'avg_pass_length_received': row['avg_pass_length_received']\n",
    "        }\n",
    "        for index, row in pass_info_received.iterrows()\n",
    "    }\n",
    "\n",
    "    # Tracer le terrain de football\n",
    "    fig = go.Figure()\n",
    "\n",
    "    # Ajouter des formes pour représenter le terrain de football\n",
    "    terrain_shapes = [\n",
    "        dict(type=\"rect\", x0=0, y0=0, x1=120, y1=80, line=dict(color=\"Black\")),\n",
    "        dict(type=\"line\", x0=60, y0=0, x1=60, y1=80, line=dict(color=\"Black\", dash=\"dot\")),\n",
    "        dict(type=\"rect\", x0=0, y0=18, x1=18, y1=62, line=dict(color=\"Black\")),\n",
    "        dict(type=\"rect\", x0=102, y0=18, x1=120, y1=62, line=dict(color=\"Black\")),\n",
    "        dict(type=\"rect\", x0=0, y0=30, x1=5.5, y1=50, line=dict(color=\"Black\")),\n",
    "        dict(type=\"rect\", x0=114.5, y0=30, x1=120, y1=50, line=dict(color=\"Black\")),\n",
    "        dict(type=\"rect\", x0=0, y0=36, x1=2, y1=44, line=dict(color=\"Black\")),\n",
    "        dict(type=\"rect\", x0=118, y0=36, x1=120, y1=44, line=dict(color=\"Black\")),\n",
    "        dict(type=\"circle\", xref=\"x\", yref=\"y\", x0=50.4, y0=30.4, x1=69.6, y1=49.6, line_color=\"Black\"),\n",
    "    ]\n",
    "    fig.update_layout(shapes=terrain_shapes)\n",
    "\n",
    "    # Ajouter les joueurs sur le terrain avec les infos de passes\n",
    "    for player, pos in players_positions.items():\n",
    "        passes_from_player = pass_info_dict.get(player, {'num_passes': 0, 'avg_pass_length': 0})\n",
    "        passes_to_player = pass_info_received_dict.get(player, {'num_passes_received': 0, 'avg_pass_length_received': 0})\n",
    "\n",
    "        # Calculer les passes entre ce joueur et les autres\n",
    "        passes_to_other_players = passes_df[passes_df['player.name'] == player]\n",
    "        passes_from_other_players = passes_df[passes_df['pass.recipient.name'] == player]\n",
    "\n",
    "        passes_info_text = \"\"\n",
    "        for idx, pass_row in passes_to_other_players.iterrows():\n",
    "            recipient = pass_row['pass.recipient.name']\n",
    "            if recipient in players_positions:\n",
    "                passes_info_text += f\"Passes vers {recipient}: {pass_row['pass.length']} m<br>\"\n",
    "        \n",
    "        for idx, pass_row in passes_from_other_players.iterrows():\n",
    "            sender = pass_row['player.name']\n",
    "            if sender in players_positions:\n",
    "                passes_info_text += f\"Passes de {sender}: {pass_row['pass.length']} m<br>\"\n",
    "\n",
    "        hover_text = (\n",
    "            f\"Joueur: {player}<br>\"\n",
    "            f\"Nombre de passes effectuées: {passes_from_player['num_passes']}<br>\"\n",
    "            f\"Longueur moyenne des passes effectuées: {passes_from_player['avg_pass_length']:.2f} m<br>\"\n",
    "            f\"Nombre de passes reçues: {passes_to_player['num_passes_received']}<br>\"\n",
    "            f\"Longueur moyenne des passes reçues: {passes_to_player['avg_pass_length_received']:.2f} m<br>\"\n",
    "            f\"{passes_info_text}\"\n",
    "        )\n",
    "\n",
    "        fig.add_trace(go.Scatter(\n",
    "            x=[pos[0]],\n",
    "            y=[pos[1]],\n",
    "            mode='markers+text',\n",
    "            text=[player],\n",
    "            textposition=\"top center\",\n",
    "            marker=dict(size=20, color='blue'),\n",
    "            hovertext=hover_text,\n",
    "            hoverinfo=\"text\"\n",
    "        ))\n",
    "\n",
    "    # Calculer le nombre et la longueur moyenne des passes entre les joueurs\n",
    "    passes_between_players = passes_df.groupby(['player.name', 'pass.recipient.name']).agg(\n",
    "        num_passes=('pass.length', 'size'),\n",
    "        avg_pass_length=('pass.length', 'mean')\n",
    "    ).reset_index()\n",
    "\n",
    "    # Ajouter les passes\n",
    "    for row in passes_between_players.itertuples():\n",
    "        if row[1] in players_positions and row[2] in players_positions:\n",
    "            start = players_positions[row[1]]\n",
    "            end = players_positions[row[2]]\n",
    "            hover_text = (\n",
    "                f\"Passes de {row[1]} à {row[2]}<br>\"\n",
    "                f\"Nombre de passes: {row.num_passes}<br>\"\n",
    "                f\"Longueur moyenne des passes: {row.avg_pass_length:.2f} m\"\n",
    "            )\n",
    "            fig.add_trace(go.Scatter(\n",
    "                x=[start[0], end[0]],\n",
    "                y=[start[1], end[1]],\n",
    "                mode='lines',\n",
    "                line=dict(width=2, color='red'),\n",
    "                hovertext=hover_text,\n",
    "                hoverinfo=\"text\"\n",
    "            ))\n",
    "\n",
    "    fig.update_layout(\n",
    "        title=\"Réseau de passes sur un terrain de football\",\n",
    "        xaxis=dict(range=[0, 120], showgrid=False, zeroline=False),\n",
    "        yaxis=dict(range=[0, 80], showgrid=False, zeroline=False),\n",
    "        width=1200,\n",
    "        height=900\n",
    "    )\n",
    "    fig.show()\n",
    "visualize_pass_network(df_positions, df_passes)"
   ]
  },
  {
   "cell_type": "code",
   "execution_count": 10,
   "metadata": {},
   "outputs": [
    {
     "data": {
      "application/vnd.plotly.v1+json": {
       "config": {
        "plotlyServerURL": "https://plot.ly"
       },
       "data": [
        {
         "fill": "toself",
         "name": "Pau Cubarsí 23/24",
         "r": [
          96.2,
          84.3,
          63.7,
          56.4,
          90.1,
          12.5,
          65.7
         ],
         "theta": [
          "Passes completed",
          "Forward pass%",
          "Progressive passes",
          "Defensive actions",
          "Defensive duel%",
          "Aerial%",
          "Progressive carries"
         ],
         "type": "scatterpolar"
        },
        {
         "fill": "toself",
         "name": "Nacho 23/24",
         "r": [
          78.6,
          97.8,
          12.5,
          5,
          25.4,
          16.4,
          52.3
         ],
         "theta": [
          "Passes completed",
          "Forward pass%",
          "Progressive passes",
          "Defensive actions",
          "Defensive duel%",
          "Aerial%",
          "Progressive carries"
         ],
         "type": "scatterpolar"
        }
       ],
       "layout": {
        "polar": {
         "radialaxis": {
          "range": [
           0,
           100
          ],
          "visible": true
         }
        },
        "showlegend": true,
        "template": {
         "data": {
          "bar": [
           {
            "error_x": {
             "color": "#2a3f5f"
            },
            "error_y": {
             "color": "#2a3f5f"
            },
            "marker": {
             "line": {
              "color": "#E5ECF6",
              "width": 0.5
             },
             "pattern": {
              "fillmode": "overlay",
              "size": 10,
              "solidity": 0.2
             }
            },
            "type": "bar"
           }
          ],
          "barpolar": [
           {
            "marker": {
             "line": {
              "color": "#E5ECF6",
              "width": 0.5
             },
             "pattern": {
              "fillmode": "overlay",
              "size": 10,
              "solidity": 0.2
             }
            },
            "type": "barpolar"
           }
          ],
          "carpet": [
           {
            "aaxis": {
             "endlinecolor": "#2a3f5f",
             "gridcolor": "white",
             "linecolor": "white",
             "minorgridcolor": "white",
             "startlinecolor": "#2a3f5f"
            },
            "baxis": {
             "endlinecolor": "#2a3f5f",
             "gridcolor": "white",
             "linecolor": "white",
             "minorgridcolor": "white",
             "startlinecolor": "#2a3f5f"
            },
            "type": "carpet"
           }
          ],
          "choropleth": [
           {
            "colorbar": {
             "outlinewidth": 0,
             "ticks": ""
            },
            "type": "choropleth"
           }
          ],
          "contour": [
           {
            "colorbar": {
             "outlinewidth": 0,
             "ticks": ""
            },
            "colorscale": [
             [
              0,
              "#0d0887"
             ],
             [
              0.1111111111111111,
              "#46039f"
             ],
             [
              0.2222222222222222,
              "#7201a8"
             ],
             [
              0.3333333333333333,
              "#9c179e"
             ],
             [
              0.4444444444444444,
              "#bd3786"
             ],
             [
              0.5555555555555556,
              "#d8576b"
             ],
             [
              0.6666666666666666,
              "#ed7953"
             ],
             [
              0.7777777777777778,
              "#fb9f3a"
             ],
             [
              0.8888888888888888,
              "#fdca26"
             ],
             [
              1,
              "#f0f921"
             ]
            ],
            "type": "contour"
           }
          ],
          "contourcarpet": [
           {
            "colorbar": {
             "outlinewidth": 0,
             "ticks": ""
            },
            "type": "contourcarpet"
           }
          ],
          "heatmap": [
           {
            "colorbar": {
             "outlinewidth": 0,
             "ticks": ""
            },
            "colorscale": [
             [
              0,
              "#0d0887"
             ],
             [
              0.1111111111111111,
              "#46039f"
             ],
             [
              0.2222222222222222,
              "#7201a8"
             ],
             [
              0.3333333333333333,
              "#9c179e"
             ],
             [
              0.4444444444444444,
              "#bd3786"
             ],
             [
              0.5555555555555556,
              "#d8576b"
             ],
             [
              0.6666666666666666,
              "#ed7953"
             ],
             [
              0.7777777777777778,
              "#fb9f3a"
             ],
             [
              0.8888888888888888,
              "#fdca26"
             ],
             [
              1,
              "#f0f921"
             ]
            ],
            "type": "heatmap"
           }
          ],
          "heatmapgl": [
           {
            "colorbar": {
             "outlinewidth": 0,
             "ticks": ""
            },
            "colorscale": [
             [
              0,
              "#0d0887"
             ],
             [
              0.1111111111111111,
              "#46039f"
             ],
             [
              0.2222222222222222,
              "#7201a8"
             ],
             [
              0.3333333333333333,
              "#9c179e"
             ],
             [
              0.4444444444444444,
              "#bd3786"
             ],
             [
              0.5555555555555556,
              "#d8576b"
             ],
             [
              0.6666666666666666,
              "#ed7953"
             ],
             [
              0.7777777777777778,
              "#fb9f3a"
             ],
             [
              0.8888888888888888,
              "#fdca26"
             ],
             [
              1,
              "#f0f921"
             ]
            ],
            "type": "heatmapgl"
           }
          ],
          "histogram": [
           {
            "marker": {
             "pattern": {
              "fillmode": "overlay",
              "size": 10,
              "solidity": 0.2
             }
            },
            "type": "histogram"
           }
          ],
          "histogram2d": [
           {
            "colorbar": {
             "outlinewidth": 0,
             "ticks": ""
            },
            "colorscale": [
             [
              0,
              "#0d0887"
             ],
             [
              0.1111111111111111,
              "#46039f"
             ],
             [
              0.2222222222222222,
              "#7201a8"
             ],
             [
              0.3333333333333333,
              "#9c179e"
             ],
             [
              0.4444444444444444,
              "#bd3786"
             ],
             [
              0.5555555555555556,
              "#d8576b"
             ],
             [
              0.6666666666666666,
              "#ed7953"
             ],
             [
              0.7777777777777778,
              "#fb9f3a"
             ],
             [
              0.8888888888888888,
              "#fdca26"
             ],
             [
              1,
              "#f0f921"
             ]
            ],
            "type": "histogram2d"
           }
          ],
          "histogram2dcontour": [
           {
            "colorbar": {
             "outlinewidth": 0,
             "ticks": ""
            },
            "colorscale": [
             [
              0,
              "#0d0887"
             ],
             [
              0.1111111111111111,
              "#46039f"
             ],
             [
              0.2222222222222222,
              "#7201a8"
             ],
             [
              0.3333333333333333,
              "#9c179e"
             ],
             [
              0.4444444444444444,
              "#bd3786"
             ],
             [
              0.5555555555555556,
              "#d8576b"
             ],
             [
              0.6666666666666666,
              "#ed7953"
             ],
             [
              0.7777777777777778,
              "#fb9f3a"
             ],
             [
              0.8888888888888888,
              "#fdca26"
             ],
             [
              1,
              "#f0f921"
             ]
            ],
            "type": "histogram2dcontour"
           }
          ],
          "mesh3d": [
           {
            "colorbar": {
             "outlinewidth": 0,
             "ticks": ""
            },
            "type": "mesh3d"
           }
          ],
          "parcoords": [
           {
            "line": {
             "colorbar": {
              "outlinewidth": 0,
              "ticks": ""
             }
            },
            "type": "parcoords"
           }
          ],
          "pie": [
           {
            "automargin": true,
            "type": "pie"
           }
          ],
          "scatter": [
           {
            "fillpattern": {
             "fillmode": "overlay",
             "size": 10,
             "solidity": 0.2
            },
            "type": "scatter"
           }
          ],
          "scatter3d": [
           {
            "line": {
             "colorbar": {
              "outlinewidth": 0,
              "ticks": ""
             }
            },
            "marker": {
             "colorbar": {
              "outlinewidth": 0,
              "ticks": ""
             }
            },
            "type": "scatter3d"
           }
          ],
          "scattercarpet": [
           {
            "marker": {
             "colorbar": {
              "outlinewidth": 0,
              "ticks": ""
             }
            },
            "type": "scattercarpet"
           }
          ],
          "scattergeo": [
           {
            "marker": {
             "colorbar": {
              "outlinewidth": 0,
              "ticks": ""
             }
            },
            "type": "scattergeo"
           }
          ],
          "scattergl": [
           {
            "marker": {
             "colorbar": {
              "outlinewidth": 0,
              "ticks": ""
             }
            },
            "type": "scattergl"
           }
          ],
          "scattermapbox": [
           {
            "marker": {
             "colorbar": {
              "outlinewidth": 0,
              "ticks": ""
             }
            },
            "type": "scattermapbox"
           }
          ],
          "scatterpolar": [
           {
            "marker": {
             "colorbar": {
              "outlinewidth": 0,
              "ticks": ""
             }
            },
            "type": "scatterpolar"
           }
          ],
          "scatterpolargl": [
           {
            "marker": {
             "colorbar": {
              "outlinewidth": 0,
              "ticks": ""
             }
            },
            "type": "scatterpolargl"
           }
          ],
          "scatterternary": [
           {
            "marker": {
             "colorbar": {
              "outlinewidth": 0,
              "ticks": ""
             }
            },
            "type": "scatterternary"
           }
          ],
          "surface": [
           {
            "colorbar": {
             "outlinewidth": 0,
             "ticks": ""
            },
            "colorscale": [
             [
              0,
              "#0d0887"
             ],
             [
              0.1111111111111111,
              "#46039f"
             ],
             [
              0.2222222222222222,
              "#7201a8"
             ],
             [
              0.3333333333333333,
              "#9c179e"
             ],
             [
              0.4444444444444444,
              "#bd3786"
             ],
             [
              0.5555555555555556,
              "#d8576b"
             ],
             [
              0.6666666666666666,
              "#ed7953"
             ],
             [
              0.7777777777777778,
              "#fb9f3a"
             ],
             [
              0.8888888888888888,
              "#fdca26"
             ],
             [
              1,
              "#f0f921"
             ]
            ],
            "type": "surface"
           }
          ],
          "table": [
           {
            "cells": {
             "fill": {
              "color": "#EBF0F8"
             },
             "line": {
              "color": "white"
             }
            },
            "header": {
             "fill": {
              "color": "#C8D4E3"
             },
             "line": {
              "color": "white"
             }
            },
            "type": "table"
           }
          ]
         },
         "layout": {
          "annotationdefaults": {
           "arrowcolor": "#2a3f5f",
           "arrowhead": 0,
           "arrowwidth": 1
          },
          "autotypenumbers": "strict",
          "coloraxis": {
           "colorbar": {
            "outlinewidth": 0,
            "ticks": ""
           }
          },
          "colorscale": {
           "diverging": [
            [
             0,
             "#8e0152"
            ],
            [
             0.1,
             "#c51b7d"
            ],
            [
             0.2,
             "#de77ae"
            ],
            [
             0.3,
             "#f1b6da"
            ],
            [
             0.4,
             "#fde0ef"
            ],
            [
             0.5,
             "#f7f7f7"
            ],
            [
             0.6,
             "#e6f5d0"
            ],
            [
             0.7,
             "#b8e186"
            ],
            [
             0.8,
             "#7fbc41"
            ],
            [
             0.9,
             "#4d9221"
            ],
            [
             1,
             "#276419"
            ]
           ],
           "sequential": [
            [
             0,
             "#0d0887"
            ],
            [
             0.1111111111111111,
             "#46039f"
            ],
            [
             0.2222222222222222,
             "#7201a8"
            ],
            [
             0.3333333333333333,
             "#9c179e"
            ],
            [
             0.4444444444444444,
             "#bd3786"
            ],
            [
             0.5555555555555556,
             "#d8576b"
            ],
            [
             0.6666666666666666,
             "#ed7953"
            ],
            [
             0.7777777777777778,
             "#fb9f3a"
            ],
            [
             0.8888888888888888,
             "#fdca26"
            ],
            [
             1,
             "#f0f921"
            ]
           ],
           "sequentialminus": [
            [
             0,
             "#0d0887"
            ],
            [
             0.1111111111111111,
             "#46039f"
            ],
            [
             0.2222222222222222,
             "#7201a8"
            ],
            [
             0.3333333333333333,
             "#9c179e"
            ],
            [
             0.4444444444444444,
             "#bd3786"
            ],
            [
             0.5555555555555556,
             "#d8576b"
            ],
            [
             0.6666666666666666,
             "#ed7953"
            ],
            [
             0.7777777777777778,
             "#fb9f3a"
            ],
            [
             0.8888888888888888,
             "#fdca26"
            ],
            [
             1,
             "#f0f921"
            ]
           ]
          },
          "colorway": [
           "#636efa",
           "#EF553B",
           "#00cc96",
           "#ab63fa",
           "#FFA15A",
           "#19d3f3",
           "#FF6692",
           "#B6E880",
           "#FF97FF",
           "#FECB52"
          ],
          "font": {
           "color": "#2a3f5f"
          },
          "geo": {
           "bgcolor": "white",
           "lakecolor": "white",
           "landcolor": "#E5ECF6",
           "showlakes": true,
           "showland": true,
           "subunitcolor": "white"
          },
          "hoverlabel": {
           "align": "left"
          },
          "hovermode": "closest",
          "mapbox": {
           "style": "light"
          },
          "paper_bgcolor": "white",
          "plot_bgcolor": "#E5ECF6",
          "polar": {
           "angularaxis": {
            "gridcolor": "white",
            "linecolor": "white",
            "ticks": ""
           },
           "bgcolor": "#E5ECF6",
           "radialaxis": {
            "gridcolor": "white",
            "linecolor": "white",
            "ticks": ""
           }
          },
          "scene": {
           "xaxis": {
            "backgroundcolor": "#E5ECF6",
            "gridcolor": "white",
            "gridwidth": 2,
            "linecolor": "white",
            "showbackground": true,
            "ticks": "",
            "zerolinecolor": "white"
           },
           "yaxis": {
            "backgroundcolor": "#E5ECF6",
            "gridcolor": "white",
            "gridwidth": 2,
            "linecolor": "white",
            "showbackground": true,
            "ticks": "",
            "zerolinecolor": "white"
           },
           "zaxis": {
            "backgroundcolor": "#E5ECF6",
            "gridcolor": "white",
            "gridwidth": 2,
            "linecolor": "white",
            "showbackground": true,
            "ticks": "",
            "zerolinecolor": "white"
           }
          },
          "shapedefaults": {
           "line": {
            "color": "#2a3f5f"
           }
          },
          "ternary": {
           "aaxis": {
            "gridcolor": "white",
            "linecolor": "white",
            "ticks": ""
           },
           "baxis": {
            "gridcolor": "white",
            "linecolor": "white",
            "ticks": ""
           },
           "bgcolor": "#E5ECF6",
           "caxis": {
            "gridcolor": "white",
            "linecolor": "white",
            "ticks": ""
           }
          },
          "title": {
           "x": 0.05
          },
          "xaxis": {
           "automargin": true,
           "gridcolor": "white",
           "linecolor": "white",
           "ticks": "",
           "title": {
            "standoff": 15
           },
           "zerolinecolor": "white",
           "zerolinewidth": 2
          },
          "yaxis": {
           "automargin": true,
           "gridcolor": "white",
           "linecolor": "white",
           "ticks": "",
           "title": {
            "standoff": 15
           },
           "zerolinecolor": "white",
           "zerolinewidth": 2
          }
         }
        },
        "title": {
         "text": "Comparaison des Performances des Joueurs"
        }
       }
      }
     },
     "metadata": {},
     "output_type": "display_data"
    }
   ],
   "source": [
    "import pandas as pd\n",
    "import plotly.graph_objs as go\n",
    "\n",
    "# Exemple de données\n",
    "data = {\n",
    "    'Metrics': ['Passes completed', 'Forward pass%', 'Progressive passes', 'Defensive actions', 'Defensive duel%', 'Aerial%', 'Progressive carries'],\n",
    "    'Pau Cubarsí 23/24': [96.2, 84.3, 63.7, 56.4, 90.1, 12.5, 65.7],\n",
    "    'Nacho 23/24': [78.6, 97.8, 12.5, 5.0, 25.4, 16.4, 52.3]\n",
    "}\n",
    "\n",
    "df = pd.DataFrame(data)\n",
    "\n",
    "# Fonction pour créer le radar chart\n",
    "def create_radar_chart(df):\n",
    "    fig = go.Figure()\n",
    "\n",
    "    for column in df.columns[1:]:\n",
    "        fig.add_trace(go.Scatterpolar(\n",
    "            r=df[column],\n",
    "            theta=df['Metrics'],\n",
    "            fill='toself',\n",
    "            name=column\n",
    "        ))\n",
    "\n",
    "    fig.update_layout(\n",
    "        polar=dict(\n",
    "            radialaxis=dict(\n",
    "                visible=True,\n",
    "                range=[0, 100]\n",
    "            )\n",
    "        ),\n",
    "        showlegend=True,\n",
    "        title=\"Comparaison des Performances des Joueurs\"\n",
    "    )\n",
    "\n",
    "    fig.show()\n",
    "\n",
    "create_radar_chart(df)\n"
   ]
  },
  {
   "cell_type": "code",
   "execution_count": 1,
   "metadata": {},
   "outputs": [
    {
     "name": "stderr",
     "output_type": "stream",
     "text": [
      "/tmp/ipykernel_4707/3552830408.py:3: UserWarning: \n",
      "The dash_table package is deprecated. Please replace\n",
      "`import dash_table` with `from dash import dash_table`\n",
      "\n",
      "Also, if you're using any of the table format helpers (e.g. Group), replace \n",
      "`from dash_table.Format import Group` with \n",
      "`from dash.dash_table.Format import Group`\n",
      "  import dash_table\n"
     ]
    },
    {
     "data": {
      "text/html": [
       "\n",
       "        <iframe\n",
       "            width=\"100%\"\n",
       "            height=\"650\"\n",
       "            src=\"http://127.0.0.1:8050/\"\n",
       "            frameborder=\"0\"\n",
       "            allowfullscreen\n",
       "            \n",
       "        ></iframe>\n",
       "        "
      ],
      "text/plain": [
       "<IPython.lib.display.IFrame at 0x7ff749aa5630>"
      ]
     },
     "metadata": {},
     "output_type": "display_data"
    }
   ],
   "source": [
    "import dash\n",
    "from dash import dcc, html\n",
    "import dash_table\n",
    "import pandas as pd\n",
    "import plotly.graph_objs as go\n",
    "\n",
    "# Exemple de données\n",
    "data = {\n",
    "    'Metrics': ['Passes completed', 'Forward pass%', 'Progressive passes', 'Defensive actions', 'Defensive duel%', 'Aerial%', 'Progressive carries'],\n",
    "    'Pau Cubarsí 23/24': [96.2, 84.3, 63.7, 56.4, 90.1, 12.5, 65.7],\n",
    "    'Nacho 23/24': [78.6, 97.8, 12.5, 5.0, 25.4, 16.4, 52.3]\n",
    "}\n",
    "\n",
    "df = pd.DataFrame(data)\n",
    "\n",
    "# Tableau des informations supplémentaires\n",
    "data_table = {\n",
    "    'Player': ['Pau Cubarsí 23/24', 'Nacho 23/24'],\n",
    "    'Team': ['Barcelona', 'Real Madrid'],\n",
    "    'Age': [17, 34],\n",
    "    'Passes completed': [96.2, 78.6],\n",
    "    'Forward pass%': [84.3, 97.8],\n",
    "    'Progressive passes': [63.7, 12.5],\n",
    "    'Defensive actions': [56.4, 5.0],\n",
    "    'Defensive duel%': [90.1, 25.4],\n",
    "    'Aerial%': [12.5, 16.4],\n",
    "    'Progressive carries': [65.7, 52.3],\n",
    "    'Minutes played': [1707, 1940]\n",
    "}\n",
    "\n",
    "df_table = pd.DataFrame(data_table)\n",
    "\n",
    "# Fonction pour créer le radar chart\n",
    "def create_radar_chart(df):\n",
    "    fig = go.Figure()\n",
    "\n",
    "    for column in df.columns[1:]:\n",
    "        fig.add_trace(go.Scatterpolar(\n",
    "            r=df[column],\n",
    "            theta=df['Metrics'],\n",
    "            fill='toself',\n",
    "            name=column\n",
    "        ))\n",
    "\n",
    "    fig.update_layout(\n",
    "        polar=dict(\n",
    "            radialaxis=dict(\n",
    "                visible=True,\n",
    "                range=[0, 100]\n",
    "            )\n",
    "        ),\n",
    "        showlegend=True,\n",
    "        title=\"Comparaison des Performances des Joueurs\"\n",
    "    )\n",
    "\n",
    "    return fig\n",
    "\n",
    "app = dash.Dash(__name__)\n",
    "\n",
    "app.layout = html.Div([\n",
    "    html.H1(\"Visualisation des Performances des Joueurs\"),\n",
    "    dash_table.DataTable(\n",
    "        id='table',\n",
    "        columns=[{\"name\": i, \"id\": i} for i in df_table.columns],\n",
    "        data=df_table.to_dict('records'),\n",
    "        style_cell={'textAlign': 'center'},\n",
    "        style_header={\n",
    "            'backgroundColor': 'rgb(230, 230, 230)',\n",
    "            'fontWeight': 'bold'\n",
    "        },\n",
    "        style_data_conditional=[\n",
    "            {\n",
    "                'if': {'row_index': 'odd'},\n",
    "                'backgroundColor': 'rgb(248, 248, 248)'\n",
    "            }\n",
    "        ],\n",
    "        style_as_list_view=True\n",
    "    ),\n",
    "    dcc.Graph(\n",
    "        id='radar-chart',\n",
    "        figure=create_radar_chart(df)\n",
    "    )\n",
    "])\n",
    "\n",
    "if __name__ == '__main__':\n",
    "    app.run_server(debug=True)\n"
   ]
  }
 ],
 "metadata": {
  "kernelspec": {
   "display_name": "Python 3",
   "language": "python",
   "name": "python3"
  },
  "language_info": {
   "codemirror_mode": {
    "name": "ipython",
    "version": 3
   },
   "file_extension": ".py",
   "mimetype": "text/x-python",
   "name": "python",
   "nbconvert_exporter": "python",
   "pygments_lexer": "ipython3",
   "version": "3.10.12"
  }
 },
 "nbformat": 4,
 "nbformat_minor": 2
}
