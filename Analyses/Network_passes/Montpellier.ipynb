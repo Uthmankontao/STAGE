{
 "cells": [
  {
   "cell_type": "code",
   "execution_count": 1,
   "metadata": {},
   "outputs": [
    {
     "name": "stdout",
     "output_type": "stream",
     "text": [
      "DataFrame sauvegardé en tant que ../../../Tracking_data/new_MontPellier.csv\n"
     ]
    }
   ],
   "source": [
    "import sys\n",
    "sys.path.append('/home/UR/kontaous/Bureau/Stage_Data/')\n",
    "from Analyses.traitement import *\n",
    "import pandas as pd\n",
    "import numpy as np\n",
    "from Analyses.traitement import *\n",
    "tracking = pd.read_csv(\"../../../Tracking_data/MontPellier.csv\")\n",
    "events = pd.read_csv(\"../../Data/match_data/match_Montpellier.csv\")\n",
    "tracking, events = prepare_data(tracking, events)\n",
    "tracking = tracking.sort_values(by=\"system_time\")\n",
    "tracking.set_index('frame', inplace=True)\n",
    "tracking.drop(['Gx', 'Gy', 'id', 'num', 'player'], axis=1, inplace=True)\n",
    "tracking.rename(columns={'player_name': 'player.name', 'team': 'team.name', 'x': 'location.x', 'y': 'location.y', }, inplace=True)\n",
    "data_tracking = \"../../../Tracking_data/new_MontPellier.csv\"\n",
    "sauvegarder_dataframe_en_csv(tracking, data_tracking)"
   ]
  },
  {
   "cell_type": "code",
   "execution_count": 2,
   "metadata": {},
   "outputs": [
    {
     "name": "stdout",
     "output_type": "stream",
     "text": [
      "DataFrame sauvegardé en tant que ../../Data/Tracking/montpellier_passes.csv\n"
     ]
    }
   ],
   "source": [
    "df_passes = filtrer_et_formater_passes(events)\n",
    "data_passes = \"../../Data/Tracking/montpellier_passes.csv\"\n",
    "sauvegarder_dataframe_en_csv(df_passes, data_passes)"
   ]
  },
  {
   "cell_type": "code",
   "execution_count": 6,
   "metadata": {},
   "outputs": [],
   "source": [
    "df_passes = pd.read_csv('../../Data/Tracking/montpellier_passes.csv')"
   ]
  },
  {
   "cell_type": "code",
   "execution_count": null,
   "metadata": {},
   "outputs": [
    {
     "data": {
      "application/vnd.plotly.v1+json": {
       "config": {
        "plotlyServerURL": "https://plot.ly"
       },
       "data": [
        {
         "hoverinfo": "text",
         "hovertext": "Joueur: Wahbi Khazri<br>Nombre de passes effectuées: 11<br>Longueur moyenne des passes effectuées: 23.56 m<br>Nombre de passes reçues: 24<br>Longueur moyenne des passes reçues: 21.57 m",
         "marker": {
          "color": "blue",
          "size": 10
         },
         "mode": "markers+text",
         "text": [
          "Wahbi Khazri"
         ],
         "textposition": "top center",
         "type": "scatter",
         "x": [
          53.556
         ],
         "y": [
          68.479
         ]
        },
        {
         "hoverinfo": "text",
         "hovertext": "Joueur: Jordan Ferri<br>Nombre de passes effectuées: 36<br>Longueur moyenne des passes effectuées: 22.32 m<br>Nombre de passes reçues: 36<br>Longueur moyenne des passes reçues: 15.64 m",
         "marker": {
          "color": "blue",
          "size": 10
         },
         "mode": "markers+text",
         "text": [
          "Jordan Ferri"
         ],
         "textposition": "top center",
         "type": "scatter",
         "x": [
          107.126
         ],
         "y": [
          30.046
         ]
        },
        {
         "hoverinfo": "text",
         "hovertext": "Joueur: Christopher Jullien<br>Nombre de passes effectuées: 42<br>Longueur moyenne des passes effectuées: 23.66 m<br>Nombre de passes reçues: 31<br>Longueur moyenne des passes reçues: 23.55 m",
         "marker": {
          "color": "blue",
          "size": 10
         },
         "mode": "markers+text",
         "text": [
          "Christopher Jullien"
         ],
         "textposition": "top center",
         "type": "scatter",
         "x": [
          77.381
         ],
         "y": [
          14.365
         ]
        },
        {
         "hoverinfo": "text",
         "hovertext": "Joueur: Benjamin Pascal Lecomte<br>Nombre de passes effectuées: 0<br>Longueur moyenne des passes effectuées: 0.00 m<br>Nombre de passes reçues: 0<br>Longueur moyenne des passes reçues: 0.00 m",
         "marker": {
          "color": "blue",
          "size": 10
         },
         "mode": "markers+text",
         "text": [
          "Benjamin Pascal Lecomte"
         ],
         "textposition": "top center",
         "type": "scatter",
         "x": [
          88.526
         ],
         "y": [
          31.53
         ]
        },
        {
         "hoverinfo": "text",
         "hovertext": "Joueur: Akor Jerome Adams<br>Nombre de passes effectuées: 3<br>Longueur moyenne des passes effectuées: 22.10 m<br>Nombre de passes reçues: 17<br>Longueur moyenne des passes reçues: 35.27 m",
         "marker": {
          "color": "blue",
          "size": 10
         },
         "mode": "markers+text",
         "text": [
          "Akor Jerome Adams"
         ],
         "textposition": "top center",
         "type": "scatter",
         "x": [
          53.392
         ],
         "y": [
          68.318
         ]
        },
        {
         "hoverinfo": "text",
         "hovertext": "Joueur: Mousa Mohammad Mousa Sulaiman Al Tamari<br>Nombre de passes effectuées: 0<br>Longueur moyenne des passes effectuées: 0.00 m<br>Nombre de passes reçues: 0<br>Longueur moyenne des passes reçues: 0.00 m",
         "marker": {
          "color": "blue",
          "size": 10
         },
         "mode": "markers+text",
         "text": [
          "Mousa Mohammad Mousa Sulaiman Al Tamari"
         ],
         "textposition": "top center",
         "type": "scatter",
         "x": [
          37.864
         ],
         "y": [
          1.68
         ]
        },
        {
         "hoverinfo": "text",
         "hovertext": "Joueur: Joris Chotard<br>Nombre de passes effectuées: 27<br>Longueur moyenne des passes effectuées: 21.05 m<br>Nombre de passes reçues: 22<br>Longueur moyenne des passes reçues: 15.04 m",
         "marker": {
          "color": "blue",
          "size": 10
         },
         "mode": "markers+text",
         "text": [
          "Joris Chotard"
         ],
         "textposition": "top center",
         "type": "scatter",
         "x": [
          46.249
         ],
         "y": [
          20.021
         ]
        },
        {
         "hoverinfo": "text",
         "hovertext": "Joueur: Falaye Sacko<br>Nombre de passes effectuées: 41<br>Longueur moyenne des passes effectuées: 17.06 m<br>Nombre de passes reçues: 28<br>Longueur moyenne des passes reçues: 19.04 m",
         "marker": {
          "color": "blue",
          "size": 10
         },
         "mode": "markers+text",
         "text": [
          "Falaye Sacko"
         ],
         "textposition": "top center",
         "type": "scatter",
         "x": [
          66.453
         ],
         "y": [
          11.381
         ]
        },
        {
         "hoverinfo": "text",
         "hovertext": "Joueur: Teji Tedy Savanier<br>Nombre de passes effectuées: 0<br>Longueur moyenne des passes effectuées: 0.00 m<br>Nombre de passes reçues: 0<br>Longueur moyenne des passes reçues: 0.00 m",
         "marker": {
          "color": "blue",
          "size": 10
         },
         "mode": "markers+text",
         "text": [
          "Teji Tedy Savanier"
         ],
         "textposition": "top center",
         "type": "scatter",
         "x": [
          58.445
         ],
         "y": [
          72.151
         ]
        },
        {
         "hoverinfo": "text",
         "hovertext": "Joueur: Issiaga Sylla<br>Nombre de passes effectuées: 32<br>Longueur moyenne des passes effectuées: 19.59 m<br>Nombre de passes reçues: 26<br>Longueur moyenne des passes reçues: 29.84 m",
         "marker": {
          "color": "blue",
          "size": 10
         },
         "mode": "markers+text",
         "text": [
          "Issiaga Sylla"
         ],
         "textposition": "top center",
         "type": "scatter",
         "x": [
          52.963
         ],
         "y": [
          66.969
         ]
        },
        {
         "hoverinfo": "text",
         "hovertext": "Joueur: Boubakar Dit Kiki Kouyate<br>Nombre de passes effectuées: 0<br>Longueur moyenne des passes effectuées: 0.00 m<br>Nombre de passes reçues: 0<br>Longueur moyenne des passes reçues: 0.00 m",
         "marker": {
          "color": "blue",
          "size": 10
         },
         "mode": "markers+text",
         "text": [
          "Boubakar Dit Kiki Kouyate"
         ],
         "textposition": "top center",
         "type": "scatter",
         "x": [
          75.691
         ],
         "y": [
          40.296
         ]
        },
        {
         "hoverinfo": "text",
         "hovertext": "Joueur: Arnaud Dominique Nordin<br>Nombre de passes effectuées: 0<br>Longueur moyenne des passes effectuées: 0.00 m<br>Nombre de passes reçues: 0<br>Longueur moyenne des passes reçues: 0.00 m",
         "marker": {
          "color": "blue",
          "size": 10
         },
         "mode": "markers+text",
         "text": [
          "Arnaud Dominique Nordin"
         ],
         "textposition": "top center",
         "type": "scatter",
         "x": [
          42.474
         ],
         "y": [
          55.764
         ]
        },
        {
         "hoverinfo": "text",
         "hovertext": "Joueur: Khalil Fayad<br>Nombre de passes effectuées: 0<br>Longueur moyenne des passes effectuées: 0.00 m<br>Nombre de passes reçues: 0<br>Longueur moyenne des passes reçues: 0.00 m",
         "marker": {
          "color": "blue",
          "size": 10
         },
         "mode": "markers+text",
         "text": [
          "Khalil Fayad"
         ],
         "textposition": "top center",
         "type": "scatter",
         "x": [
          46.558
         ],
         "y": [
          28.852
         ]
        },
        {
         "hoverinfo": "text",
         "hovertext": "Joueur: Leo Leroy<br>Nombre de passes effectuées: 0<br>Longueur moyenne des passes effectuées: 0.00 m<br>Nombre de passes reçues: 0<br>Longueur moyenne des passes reçues: 0.00 m",
         "marker": {
          "color": "blue",
          "size": 10
         },
         "mode": "markers+text",
         "text": [
          "Leo Leroy"
         ],
         "textposition": "top center",
         "type": "scatter",
         "x": [
          58.011
         ],
         "y": [
          18.597
         ]
        },
        {
         "hoverinfo": "text",
         "hovertext": "Joueur: Sepe Elye Wahi<br>Nombre de passes effectuées: 0<br>Longueur moyenne des passes effectuées: 0.00 m<br>Nombre de passes reçues: 0<br>Longueur moyenne des passes reçues: 0.00 m",
         "marker": {
          "color": "blue",
          "size": 10
         },
         "mode": "markers+text",
         "text": [
          "Sepe Elye Wahi"
         ],
         "textposition": "top center",
         "type": "scatter",
         "x": [
          32.071
         ],
         "y": [
          23.662
         ]
        },
        {
         "hoverinfo": "text",
         "hovertext": "Joueur: Lucas Mincarelli Davin<br>Nombre de passes effectuées: 0<br>Longueur moyenne des passes effectuées: 0.00 m<br>Nombre de passes reçues: 0<br>Longueur moyenne des passes reçues: 0.00 m",
         "marker": {
          "color": "blue",
          "size": 10
         },
         "mode": "markers+text",
         "text": [
          "Lucas Mincarelli Davin"
         ],
         "textposition": "top center",
         "type": "scatter",
         "x": [
          62.12
         ],
         "y": [
          56.288
         ]
        },
        {
         "line": {
          "color": "red",
          "width": 2
         },
         "mode": "lines",
         "type": "scatter",
         "x": [
          107.126,
          66.453
         ],
         "y": [
          30.046,
          11.381
         ]
        },
        {
         "line": {
          "color": "red",
          "width": 2
         },
         "mode": "lines",
         "type": "scatter",
         "x": [
          66.453,
          77.381
         ],
         "y": [
          11.381,
          14.365
         ]
        },
        {
         "line": {
          "color": "red",
          "width": 2
         },
         "mode": "lines",
         "type": "scatter",
         "x": [
          77.381,
          46.249
         ],
         "y": [
          14.365,
          20.021
         ]
        },
        {
         "line": {
          "color": "red",
          "width": 2
         },
         "mode": "lines",
         "type": "scatter",
         "x": [
          46.249,
          52.963
         ],
         "y": [
          20.021,
          66.969
         ]
        },
        {
         "line": {
          "color": "red",
          "width": 2
         },
         "mode": "lines",
         "type": "scatter",
         "x": [
          52.963,
          53.556
         ],
         "y": [
          66.969,
          68.479
         ]
        },
        {
         "line": {
          "color": "red",
          "width": 2
         },
         "mode": "lines",
         "type": "scatter",
         "x": [
          52.963,
          53.556
         ],
         "y": [
          66.969,
          68.479
         ]
        },
        {
         "line": {
          "color": "red",
          "width": 2
         },
         "mode": "lines",
         "type": "scatter",
         "x": [
          46.249,
          66.453
         ],
         "y": [
          20.021,
          11.381
         ]
        },
        {
         "line": {
          "color": "red",
          "width": 2
         },
         "mode": "lines",
         "type": "scatter",
         "x": [
          66.453,
          107.126
         ],
         "y": [
          11.381,
          30.046
         ]
        },
        {
         "line": {
          "color": "red",
          "width": 2
         },
         "mode": "lines",
         "type": "scatter",
         "x": [
          107.126,
          53.556
         ],
         "y": [
          30.046,
          68.479
         ]
        },
        {
         "line": {
          "color": "red",
          "width": 2
         },
         "mode": "lines",
         "type": "scatter",
         "x": [
          53.556,
          52.963
         ],
         "y": [
          68.479,
          66.969
         ]
        },
        {
         "line": {
          "color": "red",
          "width": 2
         },
         "mode": "lines",
         "type": "scatter",
         "x": [
          107.126,
          52.963
         ],
         "y": [
          30.046,
          66.969
         ]
        },
        {
         "line": {
          "color": "red",
          "width": 2
         },
         "mode": "lines",
         "type": "scatter",
         "x": [
          52.963,
          46.249
         ],
         "y": [
          66.969,
          20.021
         ]
        },
        {
         "line": {
          "color": "red",
          "width": 2
         },
         "mode": "lines",
         "type": "scatter",
         "x": [
          46.249,
          66.453
         ],
         "y": [
          20.021,
          11.381
         ]
        },
        {
         "line": {
          "color": "red",
          "width": 2
         },
         "mode": "lines",
         "type": "scatter",
         "x": [
          66.453,
          77.381
         ],
         "y": [
          11.381,
          14.365
         ]
        },
        {
         "line": {
          "color": "red",
          "width": 2
         },
         "mode": "lines",
         "type": "scatter",
         "x": [
          46.249,
          107.126
         ],
         "y": [
          20.021,
          30.046
         ]
        },
        {
         "line": {
          "color": "red",
          "width": 2
         },
         "mode": "lines",
         "type": "scatter",
         "x": [
          107.126,
          52.963
         ],
         "y": [
          30.046,
          66.969
         ]
        },
        {
         "line": {
          "color": "red",
          "width": 2
         },
         "mode": "lines",
         "type": "scatter",
         "x": [
          52.963,
          77.381
         ],
         "y": [
          66.969,
          14.365
         ]
        },
        {
         "line": {
          "color": "red",
          "width": 2
         },
         "mode": "lines",
         "type": "scatter",
         "x": [
          77.381,
          66.453
         ],
         "y": [
          14.365,
          11.381
         ]
        },
        {
         "line": {
          "color": "red",
          "width": 2
         },
         "mode": "lines",
         "type": "scatter",
         "x": [
          66.453,
          77.381
         ],
         "y": [
          11.381,
          14.365
         ]
        },
        {
         "line": {
          "color": "red",
          "width": 2
         },
         "mode": "lines",
         "type": "scatter",
         "x": [
          107.126,
          52.963
         ],
         "y": [
          30.046,
          66.969
         ]
        },
        {
         "line": {
          "color": "red",
          "width": 2
         },
         "mode": "lines",
         "type": "scatter",
         "x": [
          52.963,
          53.556
         ],
         "y": [
          66.969,
          68.479
         ]
        },
        {
         "line": {
          "color": "red",
          "width": 2
         },
         "mode": "lines",
         "type": "scatter",
         "x": [
          77.381,
          52.963
         ],
         "y": [
          14.365,
          66.969
         ]
        },
        {
         "line": {
          "color": "red",
          "width": 2
         },
         "mode": "lines",
         "type": "scatter",
         "x": [
          52.963,
          107.126
         ],
         "y": [
          66.969,
          30.046
         ]
        },
        {
         "line": {
          "color": "red",
          "width": 2
         },
         "mode": "lines",
         "type": "scatter",
         "x": [
          77.381,
          107.126
         ],
         "y": [
          14.365,
          30.046
         ]
        },
        {
         "line": {
          "color": "red",
          "width": 2
         },
         "mode": "lines",
         "type": "scatter",
         "x": [
          107.126,
          46.249
         ],
         "y": [
          30.046,
          20.021
         ]
        },
        {
         "line": {
          "color": "red",
          "width": 2
         },
         "mode": "lines",
         "type": "scatter",
         "x": [
          52.963,
          53.556
         ],
         "y": [
          66.969,
          68.479
         ]
        },
        {
         "line": {
          "color": "red",
          "width": 2
         },
         "mode": "lines",
         "type": "scatter",
         "x": [
          107.126,
          53.556
         ],
         "y": [
          30.046,
          68.479
         ]
        },
        {
         "line": {
          "color": "red",
          "width": 2
         },
         "mode": "lines",
         "type": "scatter",
         "x": [
          77.381,
          66.453
         ],
         "y": [
          14.365,
          11.381
         ]
        },
        {
         "line": {
          "color": "red",
          "width": 2
         },
         "mode": "lines",
         "type": "scatter",
         "x": [
          66.453,
          77.381
         ],
         "y": [
          11.381,
          14.365
         ]
        },
        {
         "line": {
          "color": "red",
          "width": 2
         },
         "mode": "lines",
         "type": "scatter",
         "x": [
          77.381,
          53.392
         ],
         "y": [
          14.365,
          68.318
         ]
        },
        {
         "line": {
          "color": "red",
          "width": 2
         },
         "mode": "lines",
         "type": "scatter",
         "x": [
          77.381,
          53.556
         ],
         "y": [
          14.365,
          68.479
         ]
        },
        {
         "line": {
          "color": "red",
          "width": 2
         },
         "mode": "lines",
         "type": "scatter",
         "x": [
          77.381,
          46.249
         ],
         "y": [
          14.365,
          20.021
         ]
        },
        {
         "line": {
          "color": "red",
          "width": 2
         },
         "mode": "lines",
         "type": "scatter",
         "x": [
          52.963,
          53.392
         ],
         "y": [
          66.969,
          68.318
         ]
        },
        {
         "line": {
          "color": "red",
          "width": 2
         },
         "mode": "lines",
         "type": "scatter",
         "x": [
          66.453,
          107.126
         ],
         "y": [
          11.381,
          30.046
         ]
        },
        {
         "line": {
          "color": "red",
          "width": 2
         },
         "mode": "lines",
         "type": "scatter",
         "x": [
          107.126,
          66.453
         ],
         "y": [
          30.046,
          11.381
         ]
        },
        {
         "line": {
          "color": "red",
          "width": 2
         },
         "mode": "lines",
         "type": "scatter",
         "x": [
          46.249,
          77.381
         ],
         "y": [
          20.021,
          14.365
         ]
        },
        {
         "line": {
          "color": "red",
          "width": 2
         },
         "mode": "lines",
         "type": "scatter",
         "x": [
          52.963,
          107.126
         ],
         "y": [
          66.969,
          30.046
         ]
        },
        {
         "line": {
          "color": "red",
          "width": 2
         },
         "mode": "lines",
         "type": "scatter",
         "x": [
          107.126,
          53.556
         ],
         "y": [
          30.046,
          68.479
         ]
        },
        {
         "line": {
          "color": "red",
          "width": 2
         },
         "mode": "lines",
         "type": "scatter",
         "x": [
          77.381,
          66.453
         ],
         "y": [
          14.365,
          11.381
         ]
        },
        {
         "line": {
          "color": "red",
          "width": 2
         },
         "mode": "lines",
         "type": "scatter",
         "x": [
          66.453,
          46.249
         ],
         "y": [
          11.381,
          20.021
         ]
        },
        {
         "line": {
          "color": "red",
          "width": 2
         },
         "mode": "lines",
         "type": "scatter",
         "x": [
          46.249,
          77.381
         ],
         "y": [
          20.021,
          14.365
         ]
        },
        {
         "line": {
          "color": "red",
          "width": 2
         },
         "mode": "lines",
         "type": "scatter",
         "x": [
          107.126,
          77.381
         ],
         "y": [
          30.046,
          14.365
         ]
        },
        {
         "line": {
          "color": "red",
          "width": 2
         },
         "mode": "lines",
         "type": "scatter",
         "x": [
          77.381,
          66.453
         ],
         "y": [
          14.365,
          11.381
         ]
        },
        {
         "line": {
          "color": "red",
          "width": 2
         },
         "mode": "lines",
         "type": "scatter",
         "x": [
          66.453,
          107.126
         ],
         "y": [
          11.381,
          30.046
         ]
        },
        {
         "line": {
          "color": "red",
          "width": 2
         },
         "mode": "lines",
         "type": "scatter",
         "x": [
          66.453,
          107.126
         ],
         "y": [
          11.381,
          30.046
         ]
        },
        {
         "line": {
          "color": "red",
          "width": 2
         },
         "mode": "lines",
         "type": "scatter",
         "x": [
          107.126,
          66.453
         ],
         "y": [
          30.046,
          11.381
         ]
        },
        {
         "line": {
          "color": "red",
          "width": 2
         },
         "mode": "lines",
         "type": "scatter",
         "x": [
          107.126,
          77.381
         ],
         "y": [
          30.046,
          14.365
         ]
        },
        {
         "line": {
          "color": "red",
          "width": 2
         },
         "mode": "lines",
         "type": "scatter",
         "x": [
          52.963,
          53.556
         ],
         "y": [
          66.969,
          68.479
         ]
        },
        {
         "line": {
          "color": "red",
          "width": 2
         },
         "mode": "lines",
         "type": "scatter",
         "x": [
          53.556,
          52.963
         ],
         "y": [
          68.479,
          66.969
         ]
        },
        {
         "line": {
          "color": "red",
          "width": 2
         },
         "mode": "lines",
         "type": "scatter",
         "x": [
          66.453,
          107.126
         ],
         "y": [
          11.381,
          30.046
         ]
        },
        {
         "line": {
          "color": "red",
          "width": 2
         },
         "mode": "lines",
         "type": "scatter",
         "x": [
          107.126,
          53.556
         ],
         "y": [
          30.046,
          68.479
         ]
        },
        {
         "line": {
          "color": "red",
          "width": 2
         },
         "mode": "lines",
         "type": "scatter",
         "x": [
          66.453,
          53.392
         ],
         "y": [
          11.381,
          68.318
         ]
        },
        {
         "line": {
          "color": "red",
          "width": 2
         },
         "mode": "lines",
         "type": "scatter",
         "x": [
          107.126,
          53.556
         ],
         "y": [
          30.046,
          68.479
         ]
        },
        {
         "line": {
          "color": "red",
          "width": 2
         },
         "mode": "lines",
         "type": "scatter",
         "x": [
          53.556,
          77.381
         ],
         "y": [
          68.479,
          14.365
         ]
        },
        {
         "line": {
          "color": "red",
          "width": 2
         },
         "mode": "lines",
         "type": "scatter",
         "x": [
          77.381,
          107.126
         ],
         "y": [
          14.365,
          30.046
         ]
        },
        {
         "line": {
          "color": "red",
          "width": 2
         },
         "mode": "lines",
         "type": "scatter",
         "x": [
          107.126,
          77.381
         ],
         "y": [
          30.046,
          14.365
         ]
        },
        {
         "line": {
          "color": "red",
          "width": 2
         },
         "mode": "lines",
         "type": "scatter",
         "x": [
          52.963,
          53.556
         ],
         "y": [
          66.969,
          68.479
         ]
        },
        {
         "line": {
          "color": "red",
          "width": 2
         },
         "mode": "lines",
         "type": "scatter",
         "x": [
          66.453,
          53.392
         ],
         "y": [
          11.381,
          68.318
         ]
        },
        {
         "line": {
          "color": "red",
          "width": 2
         },
         "mode": "lines",
         "type": "scatter",
         "x": [
          46.249,
          53.556
         ],
         "y": [
          20.021,
          68.479
         ]
        },
        {
         "line": {
          "color": "red",
          "width": 2
         },
         "mode": "lines",
         "type": "scatter",
         "x": [
          77.381,
          107.126
         ],
         "y": [
          14.365,
          30.046
         ]
        },
        {
         "line": {
          "color": "red",
          "width": 2
         },
         "mode": "lines",
         "type": "scatter",
         "x": [
          107.126,
          77.381
         ],
         "y": [
          30.046,
          14.365
         ]
        },
        {
         "line": {
          "color": "red",
          "width": 2
         },
         "mode": "lines",
         "type": "scatter",
         "x": [
          52.963,
          77.381
         ],
         "y": [
          66.969,
          14.365
         ]
        },
        {
         "line": {
          "color": "red",
          "width": 2
         },
         "mode": "lines",
         "type": "scatter",
         "x": [
          77.381,
          107.126
         ],
         "y": [
          14.365,
          30.046
         ]
        },
        {
         "line": {
          "color": "red",
          "width": 2
         },
         "mode": "lines",
         "type": "scatter",
         "x": [
          107.126,
          77.381
         ],
         "y": [
          30.046,
          14.365
         ]
        },
        {
         "line": {
          "color": "red",
          "width": 2
         },
         "mode": "lines",
         "type": "scatter",
         "x": [
          52.963,
          46.249
         ],
         "y": [
          66.969,
          20.021
         ]
        },
        {
         "line": {
          "color": "red",
          "width": 2
         },
         "mode": "lines",
         "type": "scatter",
         "x": [
          46.249,
          107.126
         ],
         "y": [
          20.021,
          30.046
         ]
        },
        {
         "line": {
          "color": "red",
          "width": 2
         },
         "mode": "lines",
         "type": "scatter",
         "x": [
          107.126,
          66.453
         ],
         "y": [
          30.046,
          11.381
         ]
        },
        {
         "line": {
          "color": "red",
          "width": 2
         },
         "mode": "lines",
         "type": "scatter",
         "x": [
          66.453,
          107.126
         ],
         "y": [
          11.381,
          30.046
         ]
        },
        {
         "line": {
          "color": "red",
          "width": 2
         },
         "mode": "lines",
         "type": "scatter",
         "x": [
          66.453,
          107.126
         ],
         "y": [
          11.381,
          30.046
         ]
        },
        {
         "line": {
          "color": "red",
          "width": 2
         },
         "mode": "lines",
         "type": "scatter",
         "x": [
          107.126,
          52.963
         ],
         "y": [
          30.046,
          66.969
         ]
        },
        {
         "line": {
          "color": "red",
          "width": 2
         },
         "mode": "lines",
         "type": "scatter",
         "x": [
          52.963,
          46.249
         ],
         "y": [
          66.969,
          20.021
         ]
        },
        {
         "line": {
          "color": "red",
          "width": 2
         },
         "mode": "lines",
         "type": "scatter",
         "x": [
          46.249,
          77.381
         ],
         "y": [
          20.021,
          14.365
         ]
        },
        {
         "line": {
          "color": "red",
          "width": 2
         },
         "mode": "lines",
         "type": "scatter",
         "x": [
          77.381,
          66.453
         ],
         "y": [
          14.365,
          11.381
         ]
        },
        {
         "line": {
          "color": "red",
          "width": 2
         },
         "mode": "lines",
         "type": "scatter",
         "x": [
          66.453,
          107.126
         ],
         "y": [
          11.381,
          30.046
         ]
        },
        {
         "line": {
          "color": "red",
          "width": 2
         },
         "mode": "lines",
         "type": "scatter",
         "x": [
          46.249,
          53.392
         ],
         "y": [
          20.021,
          68.318
         ]
        },
        {
         "line": {
          "color": "red",
          "width": 2
         },
         "mode": "lines",
         "type": "scatter",
         "x": [
          77.381,
          53.392
         ],
         "y": [
          14.365,
          68.318
         ]
        },
        {
         "line": {
          "color": "red",
          "width": 2
         },
         "mode": "lines",
         "type": "scatter",
         "x": [
          77.381,
          66.453
         ],
         "y": [
          14.365,
          11.381
         ]
        },
        {
         "line": {
          "color": "red",
          "width": 2
         },
         "mode": "lines",
         "type": "scatter",
         "x": [
          66.453,
          53.392
         ],
         "y": [
          11.381,
          68.318
         ]
        },
        {
         "line": {
          "color": "red",
          "width": 2
         },
         "mode": "lines",
         "type": "scatter",
         "x": [
          52.963,
          46.249
         ],
         "y": [
          66.969,
          20.021
         ]
        },
        {
         "line": {
          "color": "red",
          "width": 2
         },
         "mode": "lines",
         "type": "scatter",
         "x": [
          46.249,
          52.963
         ],
         "y": [
          20.021,
          66.969
         ]
        },
        {
         "line": {
          "color": "red",
          "width": 2
         },
         "mode": "lines",
         "type": "scatter",
         "x": [
          52.963,
          53.392
         ],
         "y": [
          66.969,
          68.318
         ]
        },
        {
         "line": {
          "color": "red",
          "width": 2
         },
         "mode": "lines",
         "type": "scatter",
         "x": [
          66.453,
          107.126
         ],
         "y": [
          11.381,
          30.046
         ]
        },
        {
         "line": {
          "color": "red",
          "width": 2
         },
         "mode": "lines",
         "type": "scatter",
         "x": [
          77.381,
          53.392
         ],
         "y": [
          14.365,
          68.318
         ]
        },
        {
         "line": {
          "color": "red",
          "width": 2
         },
         "mode": "lines",
         "type": "scatter",
         "x": [
          52.963,
          53.556
         ],
         "y": [
          66.969,
          68.479
         ]
        },
        {
         "line": {
          "color": "red",
          "width": 2
         },
         "mode": "lines",
         "type": "scatter",
         "x": [
          53.556,
          66.453
         ],
         "y": [
          68.479,
          11.381
         ]
        },
        {
         "line": {
          "color": "red",
          "width": 2
         },
         "mode": "lines",
         "type": "scatter",
         "x": [
          66.453,
          46.249
         ],
         "y": [
          11.381,
          20.021
         ]
        },
        {
         "line": {
          "color": "red",
          "width": 2
         },
         "mode": "lines",
         "type": "scatter",
         "x": [
          66.453,
          46.249
         ],
         "y": [
          11.381,
          20.021
         ]
        },
        {
         "line": {
          "color": "red",
          "width": 2
         },
         "mode": "lines",
         "type": "scatter",
         "x": [
          46.249,
          53.392
         ],
         "y": [
          20.021,
          68.318
         ]
        },
        {
         "line": {
          "color": "red",
          "width": 2
         },
         "mode": "lines",
         "type": "scatter",
         "x": [
          107.126,
          46.249
         ],
         "y": [
          30.046,
          20.021
         ]
        },
        {
         "line": {
          "color": "red",
          "width": 2
         },
         "mode": "lines",
         "type": "scatter",
         "x": [
          77.381,
          107.126
         ],
         "y": [
          14.365,
          30.046
         ]
        },
        {
         "line": {
          "color": "red",
          "width": 2
         },
         "mode": "lines",
         "type": "scatter",
         "x": [
          46.249,
          66.453
         ],
         "y": [
          20.021,
          11.381
         ]
        },
        {
         "line": {
          "color": "red",
          "width": 2
         },
         "mode": "lines",
         "type": "scatter",
         "x": [
          66.453,
          77.381
         ],
         "y": [
          11.381,
          14.365
         ]
        },
        {
         "line": {
          "color": "red",
          "width": 2
         },
         "mode": "lines",
         "type": "scatter",
         "x": [
          52.963,
          53.556
         ],
         "y": [
          66.969,
          68.479
         ]
        },
        {
         "line": {
          "color": "red",
          "width": 2
         },
         "mode": "lines",
         "type": "scatter",
         "x": [
          66.453,
          107.126
         ],
         "y": [
          11.381,
          30.046
         ]
        },
        {
         "line": {
          "color": "red",
          "width": 2
         },
         "mode": "lines",
         "type": "scatter",
         "x": [
          107.126,
          46.249
         ],
         "y": [
          30.046,
          20.021
         ]
        },
        {
         "line": {
          "color": "red",
          "width": 2
         },
         "mode": "lines",
         "type": "scatter",
         "x": [
          46.249,
          52.963
         ],
         "y": [
          20.021,
          66.969
         ]
        },
        {
         "line": {
          "color": "red",
          "width": 2
         },
         "mode": "lines",
         "type": "scatter",
         "x": [
          52.963,
          107.126
         ],
         "y": [
          66.969,
          30.046
         ]
        },
        {
         "line": {
          "color": "red",
          "width": 2
         },
         "mode": "lines",
         "type": "scatter",
         "x": [
          107.126,
          52.963
         ],
         "y": [
          30.046,
          66.969
         ]
        },
        {
         "line": {
          "color": "red",
          "width": 2
         },
         "mode": "lines",
         "type": "scatter",
         "x": [
          46.249,
          53.556
         ],
         "y": [
          20.021,
          68.479
         ]
        },
        {
         "line": {
          "color": "red",
          "width": 2
         },
         "mode": "lines",
         "type": "scatter",
         "x": [
          107.126,
          52.963
         ],
         "y": [
          30.046,
          66.969
         ]
        },
        {
         "line": {
          "color": "red",
          "width": 2
         },
         "mode": "lines",
         "type": "scatter",
         "x": [
          52.963,
          107.126
         ],
         "y": [
          66.969,
          30.046
         ]
        },
        {
         "line": {
          "color": "red",
          "width": 2
         },
         "mode": "lines",
         "type": "scatter",
         "x": [
          77.381,
          46.249
         ],
         "y": [
          14.365,
          20.021
         ]
        },
        {
         "line": {
          "color": "red",
          "width": 2
         },
         "mode": "lines",
         "type": "scatter",
         "x": [
          46.249,
          107.126
         ],
         "y": [
          20.021,
          30.046
         ]
        },
        {
         "line": {
          "color": "red",
          "width": 2
         },
         "mode": "lines",
         "type": "scatter",
         "x": [
          77.381,
          66.453
         ],
         "y": [
          14.365,
          11.381
         ]
        },
        {
         "line": {
          "color": "red",
          "width": 2
         },
         "mode": "lines",
         "type": "scatter",
         "x": [
          107.126,
          53.556
         ],
         "y": [
          30.046,
          68.479
         ]
        },
        {
         "line": {
          "color": "red",
          "width": 2
         },
         "mode": "lines",
         "type": "scatter",
         "x": [
          77.381,
          53.392
         ],
         "y": [
          14.365,
          68.318
         ]
        },
        {
         "line": {
          "color": "red",
          "width": 2
         },
         "mode": "lines",
         "type": "scatter",
         "x": [
          107.126,
          53.556
         ],
         "y": [
          30.046,
          68.479
         ]
        },
        {
         "line": {
          "color": "red",
          "width": 2
         },
         "mode": "lines",
         "type": "scatter",
         "x": [
          53.556,
          46.249
         ],
         "y": [
          68.479,
          20.021
         ]
        }
       ],
       "layout": {
        "height": 600,
        "shapes": [
         {
          "line": {
           "color": "Black"
          },
          "type": "rect",
          "x0": 0,
          "x1": 120,
          "y0": 0,
          "y1": 80
         },
         {
          "line": {
           "color": "Black",
           "dash": "dot"
          },
          "type": "line",
          "x0": 60,
          "x1": 60,
          "y0": 0,
          "y1": 80
         },
         {
          "line": {
           "color": "Black"
          },
          "type": "rect",
          "x0": 0,
          "x1": 18,
          "y0": 18,
          "y1": 62
         },
         {
          "line": {
           "color": "Black"
          },
          "type": "rect",
          "x0": 102,
          "x1": 120,
          "y0": 18,
          "y1": 62
         },
         {
          "line": {
           "color": "Black"
          },
          "type": "rect",
          "x0": 0,
          "x1": 5.5,
          "y0": 30,
          "y1": 50
         },
         {
          "line": {
           "color": "Black"
          },
          "type": "rect",
          "x0": 114.5,
          "x1": 120,
          "y0": 30,
          "y1": 50
         },
         {
          "line": {
           "color": "Black"
          },
          "type": "rect",
          "x0": 0,
          "x1": 2,
          "y0": 36,
          "y1": 44
         },
         {
          "line": {
           "color": "Black"
          },
          "type": "rect",
          "x0": 118,
          "x1": 120,
          "y0": 36,
          "y1": 44
         },
         {
          "line": {
           "color": "Black"
          },
          "type": "circle",
          "x0": 50.4,
          "x1": 69.6,
          "xref": "x",
          "y0": 30.4,
          "y1": 49.6,
          "yref": "y"
         }
        ],
        "template": {
         "data": {
          "bar": [
           {
            "error_x": {
             "color": "#2a3f5f"
            },
            "error_y": {
             "color": "#2a3f5f"
            },
            "marker": {
             "line": {
              "color": "#E5ECF6",
              "width": 0.5
             },
             "pattern": {
              "fillmode": "overlay",
              "size": 10,
              "solidity": 0.2
             }
            },
            "type": "bar"
           }
          ],
          "barpolar": [
           {
            "marker": {
             "line": {
              "color": "#E5ECF6",
              "width": 0.5
             },
             "pattern": {
              "fillmode": "overlay",
              "size": 10,
              "solidity": 0.2
             }
            },
            "type": "barpolar"
           }
          ],
          "carpet": [
           {
            "aaxis": {
             "endlinecolor": "#2a3f5f",
             "gridcolor": "white",
             "linecolor": "white",
             "minorgridcolor": "white",
             "startlinecolor": "#2a3f5f"
            },
            "baxis": {
             "endlinecolor": "#2a3f5f",
             "gridcolor": "white",
             "linecolor": "white",
             "minorgridcolor": "white",
             "startlinecolor": "#2a3f5f"
            },
            "type": "carpet"
           }
          ],
          "choropleth": [
           {
            "colorbar": {
             "outlinewidth": 0,
             "ticks": ""
            },
            "type": "choropleth"
           }
          ],
          "contour": [
           {
            "colorbar": {
             "outlinewidth": 0,
             "ticks": ""
            },
            "colorscale": [
             [
              0,
              "#0d0887"
             ],
             [
              0.1111111111111111,
              "#46039f"
             ],
             [
              0.2222222222222222,
              "#7201a8"
             ],
             [
              0.3333333333333333,
              "#9c179e"
             ],
             [
              0.4444444444444444,
              "#bd3786"
             ],
             [
              0.5555555555555556,
              "#d8576b"
             ],
             [
              0.6666666666666666,
              "#ed7953"
             ],
             [
              0.7777777777777778,
              "#fb9f3a"
             ],
             [
              0.8888888888888888,
              "#fdca26"
             ],
             [
              1,
              "#f0f921"
             ]
            ],
            "type": "contour"
           }
          ],
          "contourcarpet": [
           {
            "colorbar": {
             "outlinewidth": 0,
             "ticks": ""
            },
            "type": "contourcarpet"
           }
          ],
          "heatmap": [
           {
            "colorbar": {
             "outlinewidth": 0,
             "ticks": ""
            },
            "colorscale": [
             [
              0,
              "#0d0887"
             ],
             [
              0.1111111111111111,
              "#46039f"
             ],
             [
              0.2222222222222222,
              "#7201a8"
             ],
             [
              0.3333333333333333,
              "#9c179e"
             ],
             [
              0.4444444444444444,
              "#bd3786"
             ],
             [
              0.5555555555555556,
              "#d8576b"
             ],
             [
              0.6666666666666666,
              "#ed7953"
             ],
             [
              0.7777777777777778,
              "#fb9f3a"
             ],
             [
              0.8888888888888888,
              "#fdca26"
             ],
             [
              1,
              "#f0f921"
             ]
            ],
            "type": "heatmap"
           }
          ],
          "heatmapgl": [
           {
            "colorbar": {
             "outlinewidth": 0,
             "ticks": ""
            },
            "colorscale": [
             [
              0,
              "#0d0887"
             ],
             [
              0.1111111111111111,
              "#46039f"
             ],
             [
              0.2222222222222222,
              "#7201a8"
             ],
             [
              0.3333333333333333,
              "#9c179e"
             ],
             [
              0.4444444444444444,
              "#bd3786"
             ],
             [
              0.5555555555555556,
              "#d8576b"
             ],
             [
              0.6666666666666666,
              "#ed7953"
             ],
             [
              0.7777777777777778,
              "#fb9f3a"
             ],
             [
              0.8888888888888888,
              "#fdca26"
             ],
             [
              1,
              "#f0f921"
             ]
            ],
            "type": "heatmapgl"
           }
          ],
          "histogram": [
           {
            "marker": {
             "pattern": {
              "fillmode": "overlay",
              "size": 10,
              "solidity": 0.2
             }
            },
            "type": "histogram"
           }
          ],
          "histogram2d": [
           {
            "colorbar": {
             "outlinewidth": 0,
             "ticks": ""
            },
            "colorscale": [
             [
              0,
              "#0d0887"
             ],
             [
              0.1111111111111111,
              "#46039f"
             ],
             [
              0.2222222222222222,
              "#7201a8"
             ],
             [
              0.3333333333333333,
              "#9c179e"
             ],
             [
              0.4444444444444444,
              "#bd3786"
             ],
             [
              0.5555555555555556,
              "#d8576b"
             ],
             [
              0.6666666666666666,
              "#ed7953"
             ],
             [
              0.7777777777777778,
              "#fb9f3a"
             ],
             [
              0.8888888888888888,
              "#fdca26"
             ],
             [
              1,
              "#f0f921"
             ]
            ],
            "type": "histogram2d"
           }
          ],
          "histogram2dcontour": [
           {
            "colorbar": {
             "outlinewidth": 0,
             "ticks": ""
            },
            "colorscale": [
             [
              0,
              "#0d0887"
             ],
             [
              0.1111111111111111,
              "#46039f"
             ],
             [
              0.2222222222222222,
              "#7201a8"
             ],
             [
              0.3333333333333333,
              "#9c179e"
             ],
             [
              0.4444444444444444,
              "#bd3786"
             ],
             [
              0.5555555555555556,
              "#d8576b"
             ],
             [
              0.6666666666666666,
              "#ed7953"
             ],
             [
              0.7777777777777778,
              "#fb9f3a"
             ],
             [
              0.8888888888888888,
              "#fdca26"
             ],
             [
              1,
              "#f0f921"
             ]
            ],
            "type": "histogram2dcontour"
           }
          ],
          "mesh3d": [
           {
            "colorbar": {
             "outlinewidth": 0,
             "ticks": ""
            },
            "type": "mesh3d"
           }
          ],
          "parcoords": [
           {
            "line": {
             "colorbar": {
              "outlinewidth": 0,
              "ticks": ""
             }
            },
            "type": "parcoords"
           }
          ],
          "pie": [
           {
            "automargin": true,
            "type": "pie"
           }
          ],
          "scatter": [
           {
            "fillpattern": {
             "fillmode": "overlay",
             "size": 10,
             "solidity": 0.2
            },
            "type": "scatter"
           }
          ],
          "scatter3d": [
           {
            "line": {
             "colorbar": {
              "outlinewidth": 0,
              "ticks": ""
             }
            },
            "marker": {
             "colorbar": {
              "outlinewidth": 0,
              "ticks": ""
             }
            },
            "type": "scatter3d"
           }
          ],
          "scattercarpet": [
           {
            "marker": {
             "colorbar": {
              "outlinewidth": 0,
              "ticks": ""
             }
            },
            "type": "scattercarpet"
           }
          ],
          "scattergeo": [
           {
            "marker": {
             "colorbar": {
              "outlinewidth": 0,
              "ticks": ""
             }
            },
            "type": "scattergeo"
           }
          ],
          "scattergl": [
           {
            "marker": {
             "colorbar": {
              "outlinewidth": 0,
              "ticks": ""
             }
            },
            "type": "scattergl"
           }
          ],
          "scattermapbox": [
           {
            "marker": {
             "colorbar": {
              "outlinewidth": 0,
              "ticks": ""
             }
            },
            "type": "scattermapbox"
           }
          ],
          "scatterpolar": [
           {
            "marker": {
             "colorbar": {
              "outlinewidth": 0,
              "ticks": ""
             }
            },
            "type": "scatterpolar"
           }
          ],
          "scatterpolargl": [
           {
            "marker": {
             "colorbar": {
              "outlinewidth": 0,
              "ticks": ""
             }
            },
            "type": "scatterpolargl"
           }
          ],
          "scatterternary": [
           {
            "marker": {
             "colorbar": {
              "outlinewidth": 0,
              "ticks": ""
             }
            },
            "type": "scatterternary"
           }
          ],
          "surface": [
           {
            "colorbar": {
             "outlinewidth": 0,
             "ticks": ""
            },
            "colorscale": [
             [
              0,
              "#0d0887"
             ],
             [
              0.1111111111111111,
              "#46039f"
             ],
             [
              0.2222222222222222,
              "#7201a8"
             ],
             [
              0.3333333333333333,
              "#9c179e"
             ],
             [
              0.4444444444444444,
              "#bd3786"
             ],
             [
              0.5555555555555556,
              "#d8576b"
             ],
             [
              0.6666666666666666,
              "#ed7953"
             ],
             [
              0.7777777777777778,
              "#fb9f3a"
             ],
             [
              0.8888888888888888,
              "#fdca26"
             ],
             [
              1,
              "#f0f921"
             ]
            ],
            "type": "surface"
           }
          ],
          "table": [
           {
            "cells": {
             "fill": {
              "color": "#EBF0F8"
             },
             "line": {
              "color": "white"
             }
            },
            "header": {
             "fill": {
              "color": "#C8D4E3"
             },
             "line": {
              "color": "white"
             }
            },
            "type": "table"
           }
          ]
         },
         "layout": {
          "annotationdefaults": {
           "arrowcolor": "#2a3f5f",
           "arrowhead": 0,
           "arrowwidth": 1
          },
          "autotypenumbers": "strict",
          "coloraxis": {
           "colorbar": {
            "outlinewidth": 0,
            "ticks": ""
           }
          },
          "colorscale": {
           "diverging": [
            [
             0,
             "#8e0152"
            ],
            [
             0.1,
             "#c51b7d"
            ],
            [
             0.2,
             "#de77ae"
            ],
            [
             0.3,
             "#f1b6da"
            ],
            [
             0.4,
             "#fde0ef"
            ],
            [
             0.5,
             "#f7f7f7"
            ],
            [
             0.6,
             "#e6f5d0"
            ],
            [
             0.7,
             "#b8e186"
            ],
            [
             0.8,
             "#7fbc41"
            ],
            [
             0.9,
             "#4d9221"
            ],
            [
             1,
             "#276419"
            ]
           ],
           "sequential": [
            [
             0,
             "#0d0887"
            ],
            [
             0.1111111111111111,
             "#46039f"
            ],
            [
             0.2222222222222222,
             "#7201a8"
            ],
            [
             0.3333333333333333,
             "#9c179e"
            ],
            [
             0.4444444444444444,
             "#bd3786"
            ],
            [
             0.5555555555555556,
             "#d8576b"
            ],
            [
             0.6666666666666666,
             "#ed7953"
            ],
            [
             0.7777777777777778,
             "#fb9f3a"
            ],
            [
             0.8888888888888888,
             "#fdca26"
            ],
            [
             1,
             "#f0f921"
            ]
           ],
           "sequentialminus": [
            [
             0,
             "#0d0887"
            ],
            [
             0.1111111111111111,
             "#46039f"
            ],
            [
             0.2222222222222222,
             "#7201a8"
            ],
            [
             0.3333333333333333,
             "#9c179e"
            ],
            [
             0.4444444444444444,
             "#bd3786"
            ],
            [
             0.5555555555555556,
             "#d8576b"
            ],
            [
             0.6666666666666666,
             "#ed7953"
            ],
            [
             0.7777777777777778,
             "#fb9f3a"
            ],
            [
             0.8888888888888888,
             "#fdca26"
            ],
            [
             1,
             "#f0f921"
            ]
           ]
          },
          "colorway": [
           "#636efa",
           "#EF553B",
           "#00cc96",
           "#ab63fa",
           "#FFA15A",
           "#19d3f3",
           "#FF6692",
           "#B6E880",
           "#FF97FF",
           "#FECB52"
          ],
          "font": {
           "color": "#2a3f5f"
          },
          "geo": {
           "bgcolor": "white",
           "lakecolor": "white",
           "landcolor": "#E5ECF6",
           "showlakes": true,
           "showland": true,
           "subunitcolor": "white"
          },
          "hoverlabel": {
           "align": "left"
          },
          "hovermode": "closest",
          "mapbox": {
           "style": "light"
          },
          "paper_bgcolor": "white",
          "plot_bgcolor": "#E5ECF6",
          "polar": {
           "angularaxis": {
            "gridcolor": "white",
            "linecolor": "white",
            "ticks": ""
           },
           "bgcolor": "#E5ECF6",
           "radialaxis": {
            "gridcolor": "white",
            "linecolor": "white",
            "ticks": ""
           }
          },
          "scene": {
           "xaxis": {
            "backgroundcolor": "#E5ECF6",
            "gridcolor": "white",
            "gridwidth": 2,
            "linecolor": "white",
            "showbackground": true,
            "ticks": "",
            "zerolinecolor": "white"
           },
           "yaxis": {
            "backgroundcolor": "#E5ECF6",
            "gridcolor": "white",
            "gridwidth": 2,
            "linecolor": "white",
            "showbackground": true,
            "ticks": "",
            "zerolinecolor": "white"
           },
           "zaxis": {
            "backgroundcolor": "#E5ECF6",
            "gridcolor": "white",
            "gridwidth": 2,
            "linecolor": "white",
            "showbackground": true,
            "ticks": "",
            "zerolinecolor": "white"
           }
          },
          "shapedefaults": {
           "line": {
            "color": "#2a3f5f"
           }
          },
          "ternary": {
           "aaxis": {
            "gridcolor": "white",
            "linecolor": "white",
            "ticks": ""
           },
           "baxis": {
            "gridcolor": "white",
            "linecolor": "white",
            "ticks": ""
           },
           "bgcolor": "#E5ECF6",
           "caxis": {
            "gridcolor": "white",
            "linecolor": "white",
            "ticks": ""
           }
          },
          "title": {
           "x": 0.05
          },
          "xaxis": {
           "automargin": true,
           "gridcolor": "white",
           "linecolor": "white",
           "ticks": "",
           "title": {
            "standoff": 15
           },
           "zerolinecolor": "white",
           "zerolinewidth": 2
          },
          "yaxis": {
           "automargin": true,
           "gridcolor": "white",
           "linecolor": "white",
           "ticks": "",
           "title": {
            "standoff": 15
           },
           "zerolinecolor": "white",
           "zerolinewidth": 2
          }
         }
        },
        "title": {
         "text": "Réseau de passes sur un terrain de football (Période 1, Équipe Montpellier)"
        },
        "width": 800,
        "xaxis": {
         "range": [
          0,
          120
         ],
         "showgrid": false,
         "zeroline": false
        },
        "yaxis": {
         "range": [
          0,
          80
         ],
         "showgrid": false,
         "zeroline": false
        }
       }
      }
     },
     "metadata": {},
     "output_type": "display_data"
    }
   ],
   "source": [
    "import pandas as pd\n",
    "import plotly.graph_objs as go\n",
    "\n",
    "def visualize_pass_network(player_positions_df, passes_df, period, team):\n",
    "    # Filtrer les passes pour la période et l'équipe spécifiées\n",
    "    passes_df = passes_df[(passes_df['period'] == period) & (passes_df['team.name'] == team)]\n",
    "    player_positions_df = player_positions_df[player_positions_df['team.name'] == team]\n",
    "\n",
    "    # Convertir les dataframes en dictionnaires\n",
    "    players_positions = {\n",
    "        row['player.name']: (row['location.x'], row['location.y'])\n",
    "        for index, row in player_positions_df.iterrows()\n",
    "    }\n",
    "\n",
    "    # Calculer les informations des passes\n",
    "    pass_info = passes_df.groupby(['player.name']).agg(\n",
    "        num_passes=('pass.length', 'size'),\n",
    "        avg_pass_length=('pass.length', 'mean')\n",
    "    ).reset_index()\n",
    "\n",
    "    pass_info_received = passes_df.groupby(['pass.recipient.name']).agg(\n",
    "        num_passes_received=('pass.length', 'size'),\n",
    "        avg_pass_length_received=('pass.length', 'mean')\n",
    "    ).reset_index()\n",
    "\n",
    "    # Créer des dictionnaires pour les infos de passes\n",
    "    pass_info_dict = {\n",
    "        row['player.name']: {\n",
    "            'num_passes': row['num_passes'],\n",
    "            'avg_pass_length': row['avg_pass_length']\n",
    "        }\n",
    "        for index, row in pass_info.iterrows()\n",
    "    }\n",
    "\n",
    "    pass_info_received_dict = {\n",
    "        row['pass.recipient.name']: {\n",
    "            'num_passes_received': row['num_passes_received'],\n",
    "            'avg_pass_length_received': row['avg_pass_length_received']\n",
    "        }\n",
    "        for index, row in pass_info_received.iterrows()\n",
    "    }\n",
    "\n",
    "    # Tracer le terrain de football\n",
    "    fig = go.Figure()\n",
    "\n",
    "    # Ajout des formes pour représenter le terrain de football\n",
    "    terrain_shapes = [\n",
    "        dict(type=\"rect\", x0=0, y0=0, x1=120, y1=80, line=dict(color=\"Black\")),\n",
    "        dict(type=\"line\", x0=60, y0=0, x1=60, y1=80, line=dict(color=\"Black\", dash=\"dot\")),\n",
    "        dict(type=\"rect\", x0=0, y0=18, x1=18, y1=62, line=dict(color=\"Black\")),\n",
    "        dict(type=\"rect\", x0=102, y0=18, x1=120, y1=62, line=dict(color=\"Black\")),\n",
    "        dict(type=\"rect\", x0=0, y0=30, x1=5.5, y1=50, line=dict(color=\"Black\")),\n",
    "        dict(type=\"rect\", x0=114.5, y0=30, x1=120, y1=50, line=dict(color=\"Black\")),\n",
    "        dict(type=\"rect\", x0=0, y0=36, x1=2, y1=44, line=dict(color=\"Black\")),\n",
    "        dict(type=\"rect\", x0=118, y0=36, x1=120, y1=44, line=dict(color=\"Black\")),\n",
    "        dict(type=\"circle\", xref=\"x\", yref=\"y\", x0=50.4, y0=30.4, x1=69.6, y1=49.6, line_color=\"Black\"),\n",
    "    ]\n",
    "    fig.update_layout(shapes=terrain_shapes)\n",
    "\n",
    "    # Ajout des joueurs sur le terrain avec les infos de passes\n",
    "    for player, pos in players_positions.items():\n",
    "        passes_from_player = pass_info_dict.get(player, {'num_passes': 0, 'avg_pass_length': 0})\n",
    "        passes_to_player = pass_info_received_dict.get(player, {'num_passes_received': 0, 'avg_pass_length_received': 0})\n",
    "\n",
    "        hover_text = (\n",
    "            f\"Joueur: {player}<br>\"\n",
    "            f\"Nombre de passes effectuées: {passes_from_player['num_passes']}<br>\"\n",
    "            f\"Longueur moyenne des passes effectuées: {passes_from_player['avg_pass_length']:.2f} m<br>\"\n",
    "            f\"Nombre de passes reçues: {passes_to_player['num_passes_received']}<br>\"\n",
    "            f\"Longueur moyenne des passes reçues: {passes_to_player['avg_pass_length_received']:.2f} m\"\n",
    "        )\n",
    "\n",
    "        fig.add_trace(go.Scatter(\n",
    "            x=[pos[0]],\n",
    "            y=[pos[1]],\n",
    "            mode='markers+text',\n",
    "            text=[player],\n",
    "            textposition=\"top center\",\n",
    "            marker=dict(size=10, color='blue'),\n",
    "            hovertext=hover_text,\n",
    "            hoverinfo=\"text\"\n",
    "        ))\n",
    "\n",
    "    # Ajout des passes\n",
    "    for passe in passes_df.itertuples():\n",
    "        if passe._4 in players_positions and passe._5 in players_positions:\n",
    "            start = players_positions[passe._4]\n",
    "            end = players_positions[passe._5]\n",
    "            fig.add_trace(go.Scatter(\n",
    "                x=[start[0], end[0]],\n",
    "                y=[start[1], end[1]],\n",
    "                mode='lines',\n",
    "                line=dict(width=2, color='red')\n",
    "            ))\n",
    "\n",
    "    fig.update_layout(\n",
    "        title=f\"Réseau de passes sur un terrain de football (Période {period}, Équipe {team})\",\n",
    "        xaxis=dict(range=[0, 120], showgrid=False, zeroline=False),\n",
    "        yaxis=dict(range=[0, 80], showgrid=False, zeroline=False),\n",
    "        width=800,\n",
    "        height=600\n",
    "    )\n",
    "    fig.show()\n",
    "\n",
    "visualize_pass_network(df_positions, df_passes, 1, \"Montpellier\")\n"
   ]
  },
  {
   "cell_type": "code",
   "execution_count": null,
   "metadata": {},
   "outputs": [
    {
     "data": {
      "application/vnd.plotly.v1+json": {
       "config": {
        "plotlyServerURL": "https://plot.ly"
       },
       "data": [
        {
         "hoverinfo": "text",
         "hovertext": "Joueur: Wahbi Khazri<br>Nombre de passes effectuées: 11<br>Longueur moyenne des passes effectuées: 23.56 m<br>Nombre de passes reçues: 24<br>Longueur moyenne des passes reçues: 21.57 m",
         "marker": {
          "color": "blue",
          "size": 10
         },
         "mode": "markers+text",
         "text": [
          "Wahbi Khazri"
         ],
         "textposition": "top center",
         "type": "scatter",
         "x": [
          110
         ],
         "y": [
          40
         ]
        },
        {
         "hoverinfo": "text",
         "hovertext": "Joueur: Jordan Ferri<br>Nombre de passes effectuées: 36<br>Longueur moyenne des passes effectuées: 22.32 m<br>Nombre de passes reçues: 36<br>Longueur moyenne des passes reçues: 15.64 m",
         "marker": {
          "color": "blue",
          "size": 10
         },
         "mode": "markers+text",
         "text": [
          "Jordan Ferri"
         ],
         "textposition": "top center",
         "type": "scatter",
         "x": [
          0
         ],
         "y": [
          0
         ]
        },
        {
         "hoverinfo": "text",
         "hovertext": "Joueur: Christopher Jullien<br>Nombre de passes effectuées: 42<br>Longueur moyenne des passes effectuées: 23.66 m<br>Nombre de passes reçues: 31<br>Longueur moyenne des passes reçues: 23.55 m",
         "marker": {
          "color": "blue",
          "size": 10
         },
         "mode": "markers+text",
         "text": [
          "Christopher Jullien"
         ],
         "textposition": "top center",
         "type": "scatter",
         "x": [
          25
         ],
         "y": [
          70
         ]
        },
        {
         "hoverinfo": "text",
         "hovertext": "Joueur: Benjamin Pascal Lecomte<br>Nombre de passes effectuées: 0<br>Longueur moyenne des passes effectuées: 0.00 m<br>Nombre de passes reçues: 0<br>Longueur moyenne des passes reçues: 0.00 m",
         "marker": {
          "color": "blue",
          "size": 10
         },
         "mode": "markers+text",
         "text": [
          "Benjamin Pascal Lecomte"
         ],
         "textposition": "top center",
         "type": "scatter",
         "x": [
          3
         ],
         "y": [
          40
         ]
        },
        {
         "hoverinfo": "text",
         "hovertext": "Joueur: Akor Jerome Adams<br>Nombre de passes effectuées: 3<br>Longueur moyenne des passes effectuées: 22.10 m<br>Nombre de passes reçues: 17<br>Longueur moyenne des passes reçues: 35.27 m",
         "marker": {
          "color": "blue",
          "size": 10
         },
         "mode": "markers+text",
         "text": [
          "Akor Jerome Adams"
         ],
         "textposition": "top center",
         "type": "scatter",
         "x": [
          110
         ],
         "y": [
          40
         ]
        },
        {
         "hoverinfo": "text",
         "hovertext": "Joueur: Mousa Mohammad Mousa Sulaiman Al Tamari<br>Nombre de passes effectuées: 0<br>Longueur moyenne des passes effectuées: 0.00 m<br>Nombre de passes reçues: 0<br>Longueur moyenne des passes reçues: 0.00 m",
         "marker": {
          "color": "blue",
          "size": 10
         },
         "mode": "markers+text",
         "text": [
          "Mousa Mohammad Mousa Sulaiman Al Tamari"
         ],
         "textposition": "top center",
         "type": "scatter",
         "x": [
          110
         ],
         "y": [
          40
         ]
        },
        {
         "hoverinfo": "text",
         "hovertext": "Joueur: Joris Chotard<br>Nombre de passes effectuées: 27<br>Longueur moyenne des passes effectuées: 21.05 m<br>Nombre de passes reçues: 22<br>Longueur moyenne des passes reçues: 15.04 m",
         "marker": {
          "color": "blue",
          "size": 10
         },
         "mode": "markers+text",
         "text": [
          "Joris Chotard"
         ],
         "textposition": "top center",
         "type": "scatter",
         "x": [
          0
         ],
         "y": [
          0
         ]
        },
        {
         "hoverinfo": "text",
         "hovertext": "Joueur: Falaye Sacko<br>Nombre de passes effectuées: 41<br>Longueur moyenne des passes effectuées: 17.06 m<br>Nombre de passes reçues: 28<br>Longueur moyenne des passes reçues: 19.04 m",
         "marker": {
          "color": "blue",
          "size": 10
         },
         "mode": "markers+text",
         "text": [
          "Falaye Sacko"
         ],
         "textposition": "top center",
         "type": "scatter",
         "x": [
          25
         ],
         "y": [
          70
         ]
        },
        {
         "hoverinfo": "text",
         "hovertext": "Joueur: Teji Tedy Savanier<br>Nombre de passes effectuées: 0<br>Longueur moyenne des passes effectuées: 0.00 m<br>Nombre de passes reçues: 0<br>Longueur moyenne des passes reçues: 0.00 m",
         "marker": {
          "color": "blue",
          "size": 10
         },
         "mode": "markers+text",
         "text": [
          "Teji Tedy Savanier"
         ],
         "textposition": "top center",
         "type": "scatter",
         "x": [
          0
         ],
         "y": [
          0
         ]
        },
        {
         "hoverinfo": "text",
         "hovertext": "Joueur: Issiaga Sylla<br>Nombre de passes effectuées: 32<br>Longueur moyenne des passes effectuées: 19.59 m<br>Nombre de passes reçues: 26<br>Longueur moyenne des passes reçues: 29.84 m",
         "marker": {
          "color": "blue",
          "size": 10
         },
         "mode": "markers+text",
         "text": [
          "Issiaga Sylla"
         ],
         "textposition": "top center",
         "type": "scatter",
         "x": [
          25
         ],
         "y": [
          70
         ]
        },
        {
         "hoverinfo": "text",
         "hovertext": "Joueur: Boubakar Dit Kiki Kouyate<br>Nombre de passes effectuées: 0<br>Longueur moyenne des passes effectuées: 0.00 m<br>Nombre de passes reçues: 0<br>Longueur moyenne des passes reçues: 0.00 m",
         "marker": {
          "color": "blue",
          "size": 10
         },
         "mode": "markers+text",
         "text": [
          "Boubakar Dit Kiki Kouyate"
         ],
         "textposition": "top center",
         "type": "scatter",
         "x": [
          25
         ],
         "y": [
          70
         ]
        },
        {
         "hoverinfo": "text",
         "hovertext": "Joueur: Arnaud Dominique Nordin<br>Nombre de passes effectuées: 0<br>Longueur moyenne des passes effectuées: 0.00 m<br>Nombre de passes reçues: 0<br>Longueur moyenne des passes reçues: 0.00 m",
         "marker": {
          "color": "blue",
          "size": 10
         },
         "mode": "markers+text",
         "text": [
          "Arnaud Dominique Nordin"
         ],
         "textposition": "top center",
         "type": "scatter",
         "x": [
          110
         ],
         "y": [
          40
         ]
        },
        {
         "hoverinfo": "text",
         "hovertext": "Joueur: Khalil Fayad<br>Nombre de passes effectuées: 0<br>Longueur moyenne des passes effectuées: 0.00 m<br>Nombre de passes reçues: 0<br>Longueur moyenne des passes reçues: 0.00 m",
         "marker": {
          "color": "blue",
          "size": 10
         },
         "mode": "markers+text",
         "text": [
          "Khalil Fayad"
         ],
         "textposition": "top center",
         "type": "scatter",
         "x": [
          0
         ],
         "y": [
          0
         ]
        },
        {
         "hoverinfo": "text",
         "hovertext": "Joueur: Leo Leroy<br>Nombre de passes effectuées: 0<br>Longueur moyenne des passes effectuées: 0.00 m<br>Nombre de passes reçues: 0<br>Longueur moyenne des passes reçues: 0.00 m",
         "marker": {
          "color": "blue",
          "size": 10
         },
         "mode": "markers+text",
         "text": [
          "Leo Leroy"
         ],
         "textposition": "top center",
         "type": "scatter",
         "x": [
          0
         ],
         "y": [
          0
         ]
        },
        {
         "hoverinfo": "text",
         "hovertext": "Joueur: Sepe Elye Wahi<br>Nombre de passes effectuées: 0<br>Longueur moyenne des passes effectuées: 0.00 m<br>Nombre de passes reçues: 0<br>Longueur moyenne des passes reçues: 0.00 m",
         "marker": {
          "color": "blue",
          "size": 10
         },
         "mode": "markers+text",
         "text": [
          "Sepe Elye Wahi"
         ],
         "textposition": "top center",
         "type": "scatter",
         "x": [
          110
         ],
         "y": [
          40
         ]
        },
        {
         "hoverinfo": "text",
         "hovertext": "Joueur: Lucas Mincarelli Davin<br>Nombre de passes effectuées: 0<br>Longueur moyenne des passes effectuées: 0.00 m<br>Nombre de passes reçues: 0<br>Longueur moyenne des passes reçues: 0.00 m",
         "marker": {
          "color": "blue",
          "size": 10
         },
         "mode": "markers+text",
         "text": [
          "Lucas Mincarelli Davin"
         ],
         "textposition": "top center",
         "type": "scatter",
         "x": [
          25
         ],
         "y": [
          70
         ]
        },
        {
         "line": {
          "color": "red",
          "width": 2
         },
         "mode": "lines",
         "type": "scatter",
         "x": [
          0,
          25
         ],
         "y": [
          0,
          70
         ]
        },
        {
         "line": {
          "color": "red",
          "width": 2
         },
         "mode": "lines",
         "type": "scatter",
         "x": [
          25,
          25
         ],
         "y": [
          70,
          70
         ]
        },
        {
         "line": {
          "color": "red",
          "width": 2
         },
         "mode": "lines",
         "type": "scatter",
         "x": [
          25,
          0
         ],
         "y": [
          70,
          0
         ]
        },
        {
         "line": {
          "color": "red",
          "width": 2
         },
         "mode": "lines",
         "type": "scatter",
         "x": [
          0,
          25
         ],
         "y": [
          0,
          70
         ]
        },
        {
         "line": {
          "color": "red",
          "width": 2
         },
         "mode": "lines",
         "type": "scatter",
         "x": [
          25,
          110
         ],
         "y": [
          70,
          40
         ]
        },
        {
         "line": {
          "color": "red",
          "width": 2
         },
         "mode": "lines",
         "type": "scatter",
         "x": [
          25,
          110
         ],
         "y": [
          70,
          40
         ]
        },
        {
         "line": {
          "color": "red",
          "width": 2
         },
         "mode": "lines",
         "type": "scatter",
         "x": [
          0,
          25
         ],
         "y": [
          0,
          70
         ]
        },
        {
         "line": {
          "color": "red",
          "width": 2
         },
         "mode": "lines",
         "type": "scatter",
         "x": [
          25,
          0
         ],
         "y": [
          70,
          0
         ]
        },
        {
         "line": {
          "color": "red",
          "width": 2
         },
         "mode": "lines",
         "type": "scatter",
         "x": [
          0,
          110
         ],
         "y": [
          0,
          40
         ]
        },
        {
         "line": {
          "color": "red",
          "width": 2
         },
         "mode": "lines",
         "type": "scatter",
         "x": [
          110,
          25
         ],
         "y": [
          40,
          70
         ]
        },
        {
         "line": {
          "color": "red",
          "width": 2
         },
         "mode": "lines",
         "type": "scatter",
         "x": [
          0,
          25
         ],
         "y": [
          0,
          70
         ]
        },
        {
         "line": {
          "color": "red",
          "width": 2
         },
         "mode": "lines",
         "type": "scatter",
         "x": [
          25,
          0
         ],
         "y": [
          70,
          0
         ]
        },
        {
         "line": {
          "color": "red",
          "width": 2
         },
         "mode": "lines",
         "type": "scatter",
         "x": [
          0,
          25
         ],
         "y": [
          0,
          70
         ]
        },
        {
         "line": {
          "color": "red",
          "width": 2
         },
         "mode": "lines",
         "type": "scatter",
         "x": [
          25,
          25
         ],
         "y": [
          70,
          70
         ]
        },
        {
         "line": {
          "color": "red",
          "width": 2
         },
         "mode": "lines",
         "type": "scatter",
         "x": [
          0,
          0
         ],
         "y": [
          0,
          0
         ]
        },
        {
         "line": {
          "color": "red",
          "width": 2
         },
         "mode": "lines",
         "type": "scatter",
         "x": [
          0,
          25
         ],
         "y": [
          0,
          70
         ]
        },
        {
         "line": {
          "color": "red",
          "width": 2
         },
         "mode": "lines",
         "type": "scatter",
         "x": [
          25,
          25
         ],
         "y": [
          70,
          70
         ]
        },
        {
         "line": {
          "color": "red",
          "width": 2
         },
         "mode": "lines",
         "type": "scatter",
         "x": [
          25,
          25
         ],
         "y": [
          70,
          70
         ]
        },
        {
         "line": {
          "color": "red",
          "width": 2
         },
         "mode": "lines",
         "type": "scatter",
         "x": [
          25,
          25
         ],
         "y": [
          70,
          70
         ]
        },
        {
         "line": {
          "color": "red",
          "width": 2
         },
         "mode": "lines",
         "type": "scatter",
         "x": [
          0,
          25
         ],
         "y": [
          0,
          70
         ]
        },
        {
         "line": {
          "color": "red",
          "width": 2
         },
         "mode": "lines",
         "type": "scatter",
         "x": [
          25,
          110
         ],
         "y": [
          70,
          40
         ]
        },
        {
         "line": {
          "color": "red",
          "width": 2
         },
         "mode": "lines",
         "type": "scatter",
         "x": [
          25,
          25
         ],
         "y": [
          70,
          70
         ]
        },
        {
         "line": {
          "color": "red",
          "width": 2
         },
         "mode": "lines",
         "type": "scatter",
         "x": [
          25,
          0
         ],
         "y": [
          70,
          0
         ]
        },
        {
         "line": {
          "color": "red",
          "width": 2
         },
         "mode": "lines",
         "type": "scatter",
         "x": [
          25,
          0
         ],
         "y": [
          70,
          0
         ]
        },
        {
         "line": {
          "color": "red",
          "width": 2
         },
         "mode": "lines",
         "type": "scatter",
         "x": [
          0,
          0
         ],
         "y": [
          0,
          0
         ]
        },
        {
         "line": {
          "color": "red",
          "width": 2
         },
         "mode": "lines",
         "type": "scatter",
         "x": [
          25,
          110
         ],
         "y": [
          70,
          40
         ]
        },
        {
         "line": {
          "color": "red",
          "width": 2
         },
         "mode": "lines",
         "type": "scatter",
         "x": [
          0,
          110
         ],
         "y": [
          0,
          40
         ]
        },
        {
         "line": {
          "color": "red",
          "width": 2
         },
         "mode": "lines",
         "type": "scatter",
         "x": [
          25,
          25
         ],
         "y": [
          70,
          70
         ]
        },
        {
         "line": {
          "color": "red",
          "width": 2
         },
         "mode": "lines",
         "type": "scatter",
         "x": [
          25,
          25
         ],
         "y": [
          70,
          70
         ]
        },
        {
         "line": {
          "color": "red",
          "width": 2
         },
         "mode": "lines",
         "type": "scatter",
         "x": [
          25,
          110
         ],
         "y": [
          70,
          40
         ]
        },
        {
         "line": {
          "color": "red",
          "width": 2
         },
         "mode": "lines",
         "type": "scatter",
         "x": [
          25,
          110
         ],
         "y": [
          70,
          40
         ]
        },
        {
         "line": {
          "color": "red",
          "width": 2
         },
         "mode": "lines",
         "type": "scatter",
         "x": [
          25,
          0
         ],
         "y": [
          70,
          0
         ]
        },
        {
         "line": {
          "color": "red",
          "width": 2
         },
         "mode": "lines",
         "type": "scatter",
         "x": [
          25,
          110
         ],
         "y": [
          70,
          40
         ]
        },
        {
         "line": {
          "color": "red",
          "width": 2
         },
         "mode": "lines",
         "type": "scatter",
         "x": [
          25,
          0
         ],
         "y": [
          70,
          0
         ]
        },
        {
         "line": {
          "color": "red",
          "width": 2
         },
         "mode": "lines",
         "type": "scatter",
         "x": [
          0,
          25
         ],
         "y": [
          0,
          70
         ]
        },
        {
         "line": {
          "color": "red",
          "width": 2
         },
         "mode": "lines",
         "type": "scatter",
         "x": [
          0,
          25
         ],
         "y": [
          0,
          70
         ]
        },
        {
         "line": {
          "color": "red",
          "width": 2
         },
         "mode": "lines",
         "type": "scatter",
         "x": [
          25,
          0
         ],
         "y": [
          70,
          0
         ]
        },
        {
         "line": {
          "color": "red",
          "width": 2
         },
         "mode": "lines",
         "type": "scatter",
         "x": [
          0,
          110
         ],
         "y": [
          0,
          40
         ]
        },
        {
         "line": {
          "color": "red",
          "width": 2
         },
         "mode": "lines",
         "type": "scatter",
         "x": [
          25,
          25
         ],
         "y": [
          70,
          70
         ]
        },
        {
         "line": {
          "color": "red",
          "width": 2
         },
         "mode": "lines",
         "type": "scatter",
         "x": [
          25,
          0
         ],
         "y": [
          70,
          0
         ]
        },
        {
         "line": {
          "color": "red",
          "width": 2
         },
         "mode": "lines",
         "type": "scatter",
         "x": [
          0,
          25
         ],
         "y": [
          0,
          70
         ]
        },
        {
         "line": {
          "color": "red",
          "width": 2
         },
         "mode": "lines",
         "type": "scatter",
         "x": [
          0,
          25
         ],
         "y": [
          0,
          70
         ]
        },
        {
         "line": {
          "color": "red",
          "width": 2
         },
         "mode": "lines",
         "type": "scatter",
         "x": [
          25,
          25
         ],
         "y": [
          70,
          70
         ]
        },
        {
         "line": {
          "color": "red",
          "width": 2
         },
         "mode": "lines",
         "type": "scatter",
         "x": [
          25,
          0
         ],
         "y": [
          70,
          0
         ]
        },
        {
         "line": {
          "color": "red",
          "width": 2
         },
         "mode": "lines",
         "type": "scatter",
         "x": [
          25,
          0
         ],
         "y": [
          70,
          0
         ]
        },
        {
         "line": {
          "color": "red",
          "width": 2
         },
         "mode": "lines",
         "type": "scatter",
         "x": [
          0,
          25
         ],
         "y": [
          0,
          70
         ]
        },
        {
         "line": {
          "color": "red",
          "width": 2
         },
         "mode": "lines",
         "type": "scatter",
         "x": [
          0,
          25
         ],
         "y": [
          0,
          70
         ]
        },
        {
         "line": {
          "color": "red",
          "width": 2
         },
         "mode": "lines",
         "type": "scatter",
         "x": [
          25,
          110
         ],
         "y": [
          70,
          40
         ]
        },
        {
         "line": {
          "color": "red",
          "width": 2
         },
         "mode": "lines",
         "type": "scatter",
         "x": [
          110,
          25
         ],
         "y": [
          40,
          70
         ]
        },
        {
         "line": {
          "color": "red",
          "width": 2
         },
         "mode": "lines",
         "type": "scatter",
         "x": [
          25,
          0
         ],
         "y": [
          70,
          0
         ]
        },
        {
         "line": {
          "color": "red",
          "width": 2
         },
         "mode": "lines",
         "type": "scatter",
         "x": [
          0,
          110
         ],
         "y": [
          0,
          40
         ]
        },
        {
         "line": {
          "color": "red",
          "width": 2
         },
         "mode": "lines",
         "type": "scatter",
         "x": [
          25,
          110
         ],
         "y": [
          70,
          40
         ]
        },
        {
         "line": {
          "color": "red",
          "width": 2
         },
         "mode": "lines",
         "type": "scatter",
         "x": [
          0,
          110
         ],
         "y": [
          0,
          40
         ]
        },
        {
         "line": {
          "color": "red",
          "width": 2
         },
         "mode": "lines",
         "type": "scatter",
         "x": [
          110,
          25
         ],
         "y": [
          40,
          70
         ]
        },
        {
         "line": {
          "color": "red",
          "width": 2
         },
         "mode": "lines",
         "type": "scatter",
         "x": [
          25,
          0
         ],
         "y": [
          70,
          0
         ]
        },
        {
         "line": {
          "color": "red",
          "width": 2
         },
         "mode": "lines",
         "type": "scatter",
         "x": [
          0,
          25
         ],
         "y": [
          0,
          70
         ]
        },
        {
         "line": {
          "color": "red",
          "width": 2
         },
         "mode": "lines",
         "type": "scatter",
         "x": [
          25,
          110
         ],
         "y": [
          70,
          40
         ]
        },
        {
         "line": {
          "color": "red",
          "width": 2
         },
         "mode": "lines",
         "type": "scatter",
         "x": [
          25,
          110
         ],
         "y": [
          70,
          40
         ]
        },
        {
         "line": {
          "color": "red",
          "width": 2
         },
         "mode": "lines",
         "type": "scatter",
         "x": [
          0,
          110
         ],
         "y": [
          0,
          40
         ]
        },
        {
         "line": {
          "color": "red",
          "width": 2
         },
         "mode": "lines",
         "type": "scatter",
         "x": [
          25,
          0
         ],
         "y": [
          70,
          0
         ]
        },
        {
         "line": {
          "color": "red",
          "width": 2
         },
         "mode": "lines",
         "type": "scatter",
         "x": [
          0,
          25
         ],
         "y": [
          0,
          70
         ]
        },
        {
         "line": {
          "color": "red",
          "width": 2
         },
         "mode": "lines",
         "type": "scatter",
         "x": [
          25,
          25
         ],
         "y": [
          70,
          70
         ]
        },
        {
         "line": {
          "color": "red",
          "width": 2
         },
         "mode": "lines",
         "type": "scatter",
         "x": [
          25,
          0
         ],
         "y": [
          70,
          0
         ]
        },
        {
         "line": {
          "color": "red",
          "width": 2
         },
         "mode": "lines",
         "type": "scatter",
         "x": [
          0,
          25
         ],
         "y": [
          0,
          70
         ]
        },
        {
         "line": {
          "color": "red",
          "width": 2
         },
         "mode": "lines",
         "type": "scatter",
         "x": [
          25,
          0
         ],
         "y": [
          70,
          0
         ]
        },
        {
         "line": {
          "color": "red",
          "width": 2
         },
         "mode": "lines",
         "type": "scatter",
         "x": [
          0,
          0
         ],
         "y": [
          0,
          0
         ]
        },
        {
         "line": {
          "color": "red",
          "width": 2
         },
         "mode": "lines",
         "type": "scatter",
         "x": [
          0,
          25
         ],
         "y": [
          0,
          70
         ]
        },
        {
         "line": {
          "color": "red",
          "width": 2
         },
         "mode": "lines",
         "type": "scatter",
         "x": [
          25,
          0
         ],
         "y": [
          70,
          0
         ]
        },
        {
         "line": {
          "color": "red",
          "width": 2
         },
         "mode": "lines",
         "type": "scatter",
         "x": [
          25,
          0
         ],
         "y": [
          70,
          0
         ]
        },
        {
         "line": {
          "color": "red",
          "width": 2
         },
         "mode": "lines",
         "type": "scatter",
         "x": [
          0,
          25
         ],
         "y": [
          0,
          70
         ]
        },
        {
         "line": {
          "color": "red",
          "width": 2
         },
         "mode": "lines",
         "type": "scatter",
         "x": [
          25,
          0
         ],
         "y": [
          70,
          0
         ]
        },
        {
         "line": {
          "color": "red",
          "width": 2
         },
         "mode": "lines",
         "type": "scatter",
         "x": [
          0,
          25
         ],
         "y": [
          0,
          70
         ]
        },
        {
         "line": {
          "color": "red",
          "width": 2
         },
         "mode": "lines",
         "type": "scatter",
         "x": [
          25,
          25
         ],
         "y": [
          70,
          70
         ]
        },
        {
         "line": {
          "color": "red",
          "width": 2
         },
         "mode": "lines",
         "type": "scatter",
         "x": [
          25,
          0
         ],
         "y": [
          70,
          0
         ]
        },
        {
         "line": {
          "color": "red",
          "width": 2
         },
         "mode": "lines",
         "type": "scatter",
         "x": [
          0,
          110
         ],
         "y": [
          0,
          40
         ]
        },
        {
         "line": {
          "color": "red",
          "width": 2
         },
         "mode": "lines",
         "type": "scatter",
         "x": [
          25,
          110
         ],
         "y": [
          70,
          40
         ]
        },
        {
         "line": {
          "color": "red",
          "width": 2
         },
         "mode": "lines",
         "type": "scatter",
         "x": [
          25,
          25
         ],
         "y": [
          70,
          70
         ]
        },
        {
         "line": {
          "color": "red",
          "width": 2
         },
         "mode": "lines",
         "type": "scatter",
         "x": [
          25,
          110
         ],
         "y": [
          70,
          40
         ]
        },
        {
         "line": {
          "color": "red",
          "width": 2
         },
         "mode": "lines",
         "type": "scatter",
         "x": [
          25,
          0
         ],
         "y": [
          70,
          0
         ]
        },
        {
         "line": {
          "color": "red",
          "width": 2
         },
         "mode": "lines",
         "type": "scatter",
         "x": [
          0,
          25
         ],
         "y": [
          0,
          70
         ]
        },
        {
         "line": {
          "color": "red",
          "width": 2
         },
         "mode": "lines",
         "type": "scatter",
         "x": [
          25,
          110
         ],
         "y": [
          70,
          40
         ]
        },
        {
         "line": {
          "color": "red",
          "width": 2
         },
         "mode": "lines",
         "type": "scatter",
         "x": [
          25,
          0
         ],
         "y": [
          70,
          0
         ]
        },
        {
         "line": {
          "color": "red",
          "width": 2
         },
         "mode": "lines",
         "type": "scatter",
         "x": [
          25,
          110
         ],
         "y": [
          70,
          40
         ]
        },
        {
         "line": {
          "color": "red",
          "width": 2
         },
         "mode": "lines",
         "type": "scatter",
         "x": [
          25,
          110
         ],
         "y": [
          70,
          40
         ]
        },
        {
         "line": {
          "color": "red",
          "width": 2
         },
         "mode": "lines",
         "type": "scatter",
         "x": [
          110,
          25
         ],
         "y": [
          40,
          70
         ]
        },
        {
         "line": {
          "color": "red",
          "width": 2
         },
         "mode": "lines",
         "type": "scatter",
         "x": [
          25,
          0
         ],
         "y": [
          70,
          0
         ]
        },
        {
         "line": {
          "color": "red",
          "width": 2
         },
         "mode": "lines",
         "type": "scatter",
         "x": [
          25,
          0
         ],
         "y": [
          70,
          0
         ]
        },
        {
         "line": {
          "color": "red",
          "width": 2
         },
         "mode": "lines",
         "type": "scatter",
         "x": [
          0,
          110
         ],
         "y": [
          0,
          40
         ]
        },
        {
         "line": {
          "color": "red",
          "width": 2
         },
         "mode": "lines",
         "type": "scatter",
         "x": [
          0,
          0
         ],
         "y": [
          0,
          0
         ]
        },
        {
         "line": {
          "color": "red",
          "width": 2
         },
         "mode": "lines",
         "type": "scatter",
         "x": [
          25,
          0
         ],
         "y": [
          70,
          0
         ]
        },
        {
         "line": {
          "color": "red",
          "width": 2
         },
         "mode": "lines",
         "type": "scatter",
         "x": [
          0,
          25
         ],
         "y": [
          0,
          70
         ]
        },
        {
         "line": {
          "color": "red",
          "width": 2
         },
         "mode": "lines",
         "type": "scatter",
         "x": [
          25,
          25
         ],
         "y": [
          70,
          70
         ]
        },
        {
         "line": {
          "color": "red",
          "width": 2
         },
         "mode": "lines",
         "type": "scatter",
         "x": [
          25,
          110
         ],
         "y": [
          70,
          40
         ]
        },
        {
         "line": {
          "color": "red",
          "width": 2
         },
         "mode": "lines",
         "type": "scatter",
         "x": [
          25,
          0
         ],
         "y": [
          70,
          0
         ]
        },
        {
         "line": {
          "color": "red",
          "width": 2
         },
         "mode": "lines",
         "type": "scatter",
         "x": [
          0,
          0
         ],
         "y": [
          0,
          0
         ]
        },
        {
         "line": {
          "color": "red",
          "width": 2
         },
         "mode": "lines",
         "type": "scatter",
         "x": [
          0,
          25
         ],
         "y": [
          0,
          70
         ]
        },
        {
         "line": {
          "color": "red",
          "width": 2
         },
         "mode": "lines",
         "type": "scatter",
         "x": [
          25,
          0
         ],
         "y": [
          70,
          0
         ]
        },
        {
         "line": {
          "color": "red",
          "width": 2
         },
         "mode": "lines",
         "type": "scatter",
         "x": [
          0,
          25
         ],
         "y": [
          0,
          70
         ]
        },
        {
         "line": {
          "color": "red",
          "width": 2
         },
         "mode": "lines",
         "type": "scatter",
         "x": [
          0,
          110
         ],
         "y": [
          0,
          40
         ]
        },
        {
         "line": {
          "color": "red",
          "width": 2
         },
         "mode": "lines",
         "type": "scatter",
         "x": [
          0,
          25
         ],
         "y": [
          0,
          70
         ]
        },
        {
         "line": {
          "color": "red",
          "width": 2
         },
         "mode": "lines",
         "type": "scatter",
         "x": [
          25,
          0
         ],
         "y": [
          70,
          0
         ]
        },
        {
         "line": {
          "color": "red",
          "width": 2
         },
         "mode": "lines",
         "type": "scatter",
         "x": [
          25,
          0
         ],
         "y": [
          70,
          0
         ]
        },
        {
         "line": {
          "color": "red",
          "width": 2
         },
         "mode": "lines",
         "type": "scatter",
         "x": [
          0,
          0
         ],
         "y": [
          0,
          0
         ]
        },
        {
         "line": {
          "color": "red",
          "width": 2
         },
         "mode": "lines",
         "type": "scatter",
         "x": [
          25,
          25
         ],
         "y": [
          70,
          70
         ]
        },
        {
         "line": {
          "color": "red",
          "width": 2
         },
         "mode": "lines",
         "type": "scatter",
         "x": [
          0,
          110
         ],
         "y": [
          0,
          40
         ]
        },
        {
         "line": {
          "color": "red",
          "width": 2
         },
         "mode": "lines",
         "type": "scatter",
         "x": [
          25,
          110
         ],
         "y": [
          70,
          40
         ]
        },
        {
         "line": {
          "color": "red",
          "width": 2
         },
         "mode": "lines",
         "type": "scatter",
         "x": [
          0,
          110
         ],
         "y": [
          0,
          40
         ]
        },
        {
         "line": {
          "color": "red",
          "width": 2
         },
         "mode": "lines",
         "type": "scatter",
         "x": [
          110,
          0
         ],
         "y": [
          40,
          0
         ]
        }
       ],
       "layout": {
        "height": 600,
        "shapes": [
         {
          "line": {
           "color": "Black"
          },
          "type": "rect",
          "x0": 0,
          "x1": 120,
          "y0": 0,
          "y1": 80
         },
         {
          "line": {
           "color": "Black",
           "dash": "dot"
          },
          "type": "line",
          "x0": 60,
          "x1": 60,
          "y0": 0,
          "y1": 80
         },
         {
          "line": {
           "color": "Black"
          },
          "type": "rect",
          "x0": 0,
          "x1": 18,
          "y0": 18,
          "y1": 62
         },
         {
          "line": {
           "color": "Black"
          },
          "type": "rect",
          "x0": 102,
          "x1": 120,
          "y0": 18,
          "y1": 62
         },
         {
          "line": {
           "color": "Black"
          },
          "type": "rect",
          "x0": 0,
          "x1": 5.5,
          "y0": 30,
          "y1": 50
         },
         {
          "line": {
           "color": "Black"
          },
          "type": "rect",
          "x0": 114.5,
          "x1": 120,
          "y0": 30,
          "y1": 50
         },
         {
          "line": {
           "color": "Black"
          },
          "type": "rect",
          "x0": 0,
          "x1": 2,
          "y0": 36,
          "y1": 44
         },
         {
          "line": {
           "color": "Black"
          },
          "type": "rect",
          "x0": 118,
          "x1": 120,
          "y0": 36,
          "y1": 44
         },
         {
          "line": {
           "color": "Black"
          },
          "type": "circle",
          "x0": 50.4,
          "x1": 69.6,
          "xref": "x",
          "y0": 30.4,
          "y1": 49.6,
          "yref": "y"
         }
        ],
        "template": {
         "data": {
          "bar": [
           {
            "error_x": {
             "color": "#2a3f5f"
            },
            "error_y": {
             "color": "#2a3f5f"
            },
            "marker": {
             "line": {
              "color": "#E5ECF6",
              "width": 0.5
             },
             "pattern": {
              "fillmode": "overlay",
              "size": 10,
              "solidity": 0.2
             }
            },
            "type": "bar"
           }
          ],
          "barpolar": [
           {
            "marker": {
             "line": {
              "color": "#E5ECF6",
              "width": 0.5
             },
             "pattern": {
              "fillmode": "overlay",
              "size": 10,
              "solidity": 0.2
             }
            },
            "type": "barpolar"
           }
          ],
          "carpet": [
           {
            "aaxis": {
             "endlinecolor": "#2a3f5f",
             "gridcolor": "white",
             "linecolor": "white",
             "minorgridcolor": "white",
             "startlinecolor": "#2a3f5f"
            },
            "baxis": {
             "endlinecolor": "#2a3f5f",
             "gridcolor": "white",
             "linecolor": "white",
             "minorgridcolor": "white",
             "startlinecolor": "#2a3f5f"
            },
            "type": "carpet"
           }
          ],
          "choropleth": [
           {
            "colorbar": {
             "outlinewidth": 0,
             "ticks": ""
            },
            "type": "choropleth"
           }
          ],
          "contour": [
           {
            "colorbar": {
             "outlinewidth": 0,
             "ticks": ""
            },
            "colorscale": [
             [
              0,
              "#0d0887"
             ],
             [
              0.1111111111111111,
              "#46039f"
             ],
             [
              0.2222222222222222,
              "#7201a8"
             ],
             [
              0.3333333333333333,
              "#9c179e"
             ],
             [
              0.4444444444444444,
              "#bd3786"
             ],
             [
              0.5555555555555556,
              "#d8576b"
             ],
             [
              0.6666666666666666,
              "#ed7953"
             ],
             [
              0.7777777777777778,
              "#fb9f3a"
             ],
             [
              0.8888888888888888,
              "#fdca26"
             ],
             [
              1,
              "#f0f921"
             ]
            ],
            "type": "contour"
           }
          ],
          "contourcarpet": [
           {
            "colorbar": {
             "outlinewidth": 0,
             "ticks": ""
            },
            "type": "contourcarpet"
           }
          ],
          "heatmap": [
           {
            "colorbar": {
             "outlinewidth": 0,
             "ticks": ""
            },
            "colorscale": [
             [
              0,
              "#0d0887"
             ],
             [
              0.1111111111111111,
              "#46039f"
             ],
             [
              0.2222222222222222,
              "#7201a8"
             ],
             [
              0.3333333333333333,
              "#9c179e"
             ],
             [
              0.4444444444444444,
              "#bd3786"
             ],
             [
              0.5555555555555556,
              "#d8576b"
             ],
             [
              0.6666666666666666,
              "#ed7953"
             ],
             [
              0.7777777777777778,
              "#fb9f3a"
             ],
             [
              0.8888888888888888,
              "#fdca26"
             ],
             [
              1,
              "#f0f921"
             ]
            ],
            "type": "heatmap"
           }
          ],
          "heatmapgl": [
           {
            "colorbar": {
             "outlinewidth": 0,
             "ticks": ""
            },
            "colorscale": [
             [
              0,
              "#0d0887"
             ],
             [
              0.1111111111111111,
              "#46039f"
             ],
             [
              0.2222222222222222,
              "#7201a8"
             ],
             [
              0.3333333333333333,
              "#9c179e"
             ],
             [
              0.4444444444444444,
              "#bd3786"
             ],
             [
              0.5555555555555556,
              "#d8576b"
             ],
             [
              0.6666666666666666,
              "#ed7953"
             ],
             [
              0.7777777777777778,
              "#fb9f3a"
             ],
             [
              0.8888888888888888,
              "#fdca26"
             ],
             [
              1,
              "#f0f921"
             ]
            ],
            "type": "heatmapgl"
           }
          ],
          "histogram": [
           {
            "marker": {
             "pattern": {
              "fillmode": "overlay",
              "size": 10,
              "solidity": 0.2
             }
            },
            "type": "histogram"
           }
          ],
          "histogram2d": [
           {
            "colorbar": {
             "outlinewidth": 0,
             "ticks": ""
            },
            "colorscale": [
             [
              0,
              "#0d0887"
             ],
             [
              0.1111111111111111,
              "#46039f"
             ],
             [
              0.2222222222222222,
              "#7201a8"
             ],
             [
              0.3333333333333333,
              "#9c179e"
             ],
             [
              0.4444444444444444,
              "#bd3786"
             ],
             [
              0.5555555555555556,
              "#d8576b"
             ],
             [
              0.6666666666666666,
              "#ed7953"
             ],
             [
              0.7777777777777778,
              "#fb9f3a"
             ],
             [
              0.8888888888888888,
              "#fdca26"
             ],
             [
              1,
              "#f0f921"
             ]
            ],
            "type": "histogram2d"
           }
          ],
          "histogram2dcontour": [
           {
            "colorbar": {
             "outlinewidth": 0,
             "ticks": ""
            },
            "colorscale": [
             [
              0,
              "#0d0887"
             ],
             [
              0.1111111111111111,
              "#46039f"
             ],
             [
              0.2222222222222222,
              "#7201a8"
             ],
             [
              0.3333333333333333,
              "#9c179e"
             ],
             [
              0.4444444444444444,
              "#bd3786"
             ],
             [
              0.5555555555555556,
              "#d8576b"
             ],
             [
              0.6666666666666666,
              "#ed7953"
             ],
             [
              0.7777777777777778,
              "#fb9f3a"
             ],
             [
              0.8888888888888888,
              "#fdca26"
             ],
             [
              1,
              "#f0f921"
             ]
            ],
            "type": "histogram2dcontour"
           }
          ],
          "mesh3d": [
           {
            "colorbar": {
             "outlinewidth": 0,
             "ticks": ""
            },
            "type": "mesh3d"
           }
          ],
          "parcoords": [
           {
            "line": {
             "colorbar": {
              "outlinewidth": 0,
              "ticks": ""
             }
            },
            "type": "parcoords"
           }
          ],
          "pie": [
           {
            "automargin": true,
            "type": "pie"
           }
          ],
          "scatter": [
           {
            "fillpattern": {
             "fillmode": "overlay",
             "size": 10,
             "solidity": 0.2
            },
            "type": "scatter"
           }
          ],
          "scatter3d": [
           {
            "line": {
             "colorbar": {
              "outlinewidth": 0,
              "ticks": ""
             }
            },
            "marker": {
             "colorbar": {
              "outlinewidth": 0,
              "ticks": ""
             }
            },
            "type": "scatter3d"
           }
          ],
          "scattercarpet": [
           {
            "marker": {
             "colorbar": {
              "outlinewidth": 0,
              "ticks": ""
             }
            },
            "type": "scattercarpet"
           }
          ],
          "scattergeo": [
           {
            "marker": {
             "colorbar": {
              "outlinewidth": 0,
              "ticks": ""
             }
            },
            "type": "scattergeo"
           }
          ],
          "scattergl": [
           {
            "marker": {
             "colorbar": {
              "outlinewidth": 0,
              "ticks": ""
             }
            },
            "type": "scattergl"
           }
          ],
          "scattermapbox": [
           {
            "marker": {
             "colorbar": {
              "outlinewidth": 0,
              "ticks": ""
             }
            },
            "type": "scattermapbox"
           }
          ],
          "scatterpolar": [
           {
            "marker": {
             "colorbar": {
              "outlinewidth": 0,
              "ticks": ""
             }
            },
            "type": "scatterpolar"
           }
          ],
          "scatterpolargl": [
           {
            "marker": {
             "colorbar": {
              "outlinewidth": 0,
              "ticks": ""
             }
            },
            "type": "scatterpolargl"
           }
          ],
          "scatterternary": [
           {
            "marker": {
             "colorbar": {
              "outlinewidth": 0,
              "ticks": ""
             }
            },
            "type": "scatterternary"
           }
          ],
          "surface": [
           {
            "colorbar": {
             "outlinewidth": 0,
             "ticks": ""
            },
            "colorscale": [
             [
              0,
              "#0d0887"
             ],
             [
              0.1111111111111111,
              "#46039f"
             ],
             [
              0.2222222222222222,
              "#7201a8"
             ],
             [
              0.3333333333333333,
              "#9c179e"
             ],
             [
              0.4444444444444444,
              "#bd3786"
             ],
             [
              0.5555555555555556,
              "#d8576b"
             ],
             [
              0.6666666666666666,
              "#ed7953"
             ],
             [
              0.7777777777777778,
              "#fb9f3a"
             ],
             [
              0.8888888888888888,
              "#fdca26"
             ],
             [
              1,
              "#f0f921"
             ]
            ],
            "type": "surface"
           }
          ],
          "table": [
           {
            "cells": {
             "fill": {
              "color": "#EBF0F8"
             },
             "line": {
              "color": "white"
             }
            },
            "header": {
             "fill": {
              "color": "#C8D4E3"
             },
             "line": {
              "color": "white"
             }
            },
            "type": "table"
           }
          ]
         },
         "layout": {
          "annotationdefaults": {
           "arrowcolor": "#2a3f5f",
           "arrowhead": 0,
           "arrowwidth": 1
          },
          "autotypenumbers": "strict",
          "coloraxis": {
           "colorbar": {
            "outlinewidth": 0,
            "ticks": ""
           }
          },
          "colorscale": {
           "diverging": [
            [
             0,
             "#8e0152"
            ],
            [
             0.1,
             "#c51b7d"
            ],
            [
             0.2,
             "#de77ae"
            ],
            [
             0.3,
             "#f1b6da"
            ],
            [
             0.4,
             "#fde0ef"
            ],
            [
             0.5,
             "#f7f7f7"
            ],
            [
             0.6,
             "#e6f5d0"
            ],
            [
             0.7,
             "#b8e186"
            ],
            [
             0.8,
             "#7fbc41"
            ],
            [
             0.9,
             "#4d9221"
            ],
            [
             1,
             "#276419"
            ]
           ],
           "sequential": [
            [
             0,
             "#0d0887"
            ],
            [
             0.1111111111111111,
             "#46039f"
            ],
            [
             0.2222222222222222,
             "#7201a8"
            ],
            [
             0.3333333333333333,
             "#9c179e"
            ],
            [
             0.4444444444444444,
             "#bd3786"
            ],
            [
             0.5555555555555556,
             "#d8576b"
            ],
            [
             0.6666666666666666,
             "#ed7953"
            ],
            [
             0.7777777777777778,
             "#fb9f3a"
            ],
            [
             0.8888888888888888,
             "#fdca26"
            ],
            [
             1,
             "#f0f921"
            ]
           ],
           "sequentialminus": [
            [
             0,
             "#0d0887"
            ],
            [
             0.1111111111111111,
             "#46039f"
            ],
            [
             0.2222222222222222,
             "#7201a8"
            ],
            [
             0.3333333333333333,
             "#9c179e"
            ],
            [
             0.4444444444444444,
             "#bd3786"
            ],
            [
             0.5555555555555556,
             "#d8576b"
            ],
            [
             0.6666666666666666,
             "#ed7953"
            ],
            [
             0.7777777777777778,
             "#fb9f3a"
            ],
            [
             0.8888888888888888,
             "#fdca26"
            ],
            [
             1,
             "#f0f921"
            ]
           ]
          },
          "colorway": [
           "#636efa",
           "#EF553B",
           "#00cc96",
           "#ab63fa",
           "#FFA15A",
           "#19d3f3",
           "#FF6692",
           "#B6E880",
           "#FF97FF",
           "#FECB52"
          ],
          "font": {
           "color": "#2a3f5f"
          },
          "geo": {
           "bgcolor": "white",
           "lakecolor": "white",
           "landcolor": "#E5ECF6",
           "showlakes": true,
           "showland": true,
           "subunitcolor": "white"
          },
          "hoverlabel": {
           "align": "left"
          },
          "hovermode": "closest",
          "mapbox": {
           "style": "light"
          },
          "paper_bgcolor": "white",
          "plot_bgcolor": "#E5ECF6",
          "polar": {
           "angularaxis": {
            "gridcolor": "white",
            "linecolor": "white",
            "ticks": ""
           },
           "bgcolor": "#E5ECF6",
           "radialaxis": {
            "gridcolor": "white",
            "linecolor": "white",
            "ticks": ""
           }
          },
          "scene": {
           "xaxis": {
            "backgroundcolor": "#E5ECF6",
            "gridcolor": "white",
            "gridwidth": 2,
            "linecolor": "white",
            "showbackground": true,
            "ticks": "",
            "zerolinecolor": "white"
           },
           "yaxis": {
            "backgroundcolor": "#E5ECF6",
            "gridcolor": "white",
            "gridwidth": 2,
            "linecolor": "white",
            "showbackground": true,
            "ticks": "",
            "zerolinecolor": "white"
           },
           "zaxis": {
            "backgroundcolor": "#E5ECF6",
            "gridcolor": "white",
            "gridwidth": 2,
            "linecolor": "white",
            "showbackground": true,
            "ticks": "",
            "zerolinecolor": "white"
           }
          },
          "shapedefaults": {
           "line": {
            "color": "#2a3f5f"
           }
          },
          "ternary": {
           "aaxis": {
            "gridcolor": "white",
            "linecolor": "white",
            "ticks": ""
           },
           "baxis": {
            "gridcolor": "white",
            "linecolor": "white",
            "ticks": ""
           },
           "bgcolor": "#E5ECF6",
           "caxis": {
            "gridcolor": "white",
            "linecolor": "white",
            "ticks": ""
           }
          },
          "title": {
           "x": 0.05
          },
          "xaxis": {
           "automargin": true,
           "gridcolor": "white",
           "linecolor": "white",
           "ticks": "",
           "title": {
            "standoff": 15
           },
           "zerolinecolor": "white",
           "zerolinewidth": 2
          },
          "yaxis": {
           "automargin": true,
           "gridcolor": "white",
           "linecolor": "white",
           "ticks": "",
           "title": {
            "standoff": 15
           },
           "zerolinecolor": "white",
           "zerolinewidth": 2
          }
         }
        },
        "title": {
         "text": "Réseau de passes sur un terrain de football (Période 1, Équipe Montpellier)"
        },
        "width": 800,
        "xaxis": {
         "range": [
          0,
          120
         ],
         "showgrid": false,
         "zeroline": false
        },
        "yaxis": {
         "range": [
          0,
          80
         ],
         "showgrid": false,
         "zeroline": false
        }
       }
      }
     },
     "metadata": {},
     "output_type": "display_data"
    }
   ],
   "source": [
    "import pandas as pd\n",
    "import plotly.graph_objs as go\n",
    "\n",
    "\n",
    "roles_positions = {\n",
    "    \"Gardien\": (3, 40),\n",
    "    \"Défenseur\": (12, 30),\n",
    "    \"Défenseur\": (12, 50),\n",
    "    \"Défenseur \": (25, 10),\n",
    "    \"Défenseur\": (25, 70),\n",
    "    \"Milieu \": (50, 40),\n",
    "    \"Milieu\": (80, 20),\n",
    "    \"Milieu\": (80, 60),\n",
    "    \"Ailier \": (100, 10),\n",
    "    \"Ailier\": (100, 70),\n",
    "    \"Attaquant\": (110, 40)\n",
    "}\n",
    "\n",
    "def assign_positions(player_positions_df):\n",
    "    # Assigner les positions aux joueurs en fonction de leur rôle\n",
    "    player_positions_df['location.x'] = player_positions_df['role'].apply(lambda x: roles_positions.get(x, (0, 0))[0])\n",
    "    player_positions_df['location.y'] = player_positions_df['role'].apply(lambda x: roles_positions.get(x, (0, 0))[1])\n",
    "    return player_positions_df\n",
    "\n",
    "def visualize_pass_network(player_positions_df, passes_df, period, team):\n",
    "    # Assigner les positions aux joueurs\n",
    "    player_positions_df = assign_positions(player_positions_df)\n",
    "\n",
    "    # Filtrer les passes pour la période et l'équipe spécifiées\n",
    "    passes_df = passes_df[(passes_df['period'] == period) & (passes_df['team.name'] == team)]\n",
    "    player_positions_df = player_positions_df[player_positions_df['team.name'] == team]\n",
    "\n",
    "    # Convertir les dataframes en dictionnaires\n",
    "    players_positions = {\n",
    "        row['player.name']: (row['location.x'], row['location.y'])\n",
    "        for index, row in player_positions_df.iterrows()\n",
    "    }\n",
    "\n",
    "    # Calculer les informations des passes\n",
    "    pass_info = passes_df.groupby(['player.name']).agg(\n",
    "        num_passes=('pass.length', 'size'),\n",
    "        avg_pass_length=('pass.length', 'mean')\n",
    "    ).reset_index()\n",
    "\n",
    "    pass_info_received = passes_df.groupby(['pass.recipient.name']).agg(\n",
    "        num_passes_received=('pass.length', 'size'),\n",
    "        avg_pass_length_received=('pass.length', 'mean')\n",
    "    ).reset_index()\n",
    "\n",
    "    # Créer des dictionnaires pour les infos de passes\n",
    "    pass_info_dict = {\n",
    "        row['player.name']: {\n",
    "            'num_passes': row['num_passes'],\n",
    "            'avg_pass_length': row['avg_pass_length']\n",
    "        }\n",
    "        for index, row in pass_info.iterrows()\n",
    "    }\n",
    "\n",
    "    pass_info_received_dict = {\n",
    "        row['pass.recipient.name']: {\n",
    "            'num_passes_received': row['num_passes_received'],\n",
    "            'avg_pass_length_received': row['avg_pass_length_received']\n",
    "        }\n",
    "        for index, row in pass_info_received.iterrows()\n",
    "    }\n",
    "\n",
    "    # Tracer le terrain de football\n",
    "    fig = go.Figure()\n",
    "\n",
    "    # Ajout des formes pour représenter le terrain de football\n",
    "    terrain_shapes = [\n",
    "        dict(type=\"rect\", x0=0, y0=0, x1=120, y1=80, line=dict(color=\"Black\")),\n",
    "        dict(type=\"line\", x0=60, y0=0, x1=60, y1=80, line=dict(color=\"Black\", dash=\"dot\")),\n",
    "        dict(type=\"rect\", x0=0, y0=18, x1=18, y1=62, line=dict(color=\"Black\")),\n",
    "        dict(type=\"rect\", x0=102, y0=18, x1=120, y1=62, line=dict(color=\"Black\")),\n",
    "        dict(type=\"rect\", x0=0, y0=30, x1=5.5, y1=50, line=dict(color=\"Black\")),\n",
    "        dict(type=\"rect\", x0=114.5, y0=30, x1=120, y1=50, line=dict(color=\"Black\")),\n",
    "        dict(type=\"rect\", x0=0, y0=36, x1=2, y1=44, line=dict(color=\"Black\")),\n",
    "        dict(type=\"rect\", x0=118, y0=36, x1=120, y1=44, line=dict(color=\"Black\")),\n",
    "        dict(type=\"circle\", xref=\"x\", yref=\"y\", x0=50.4, y0=30.4, x1=69.6, y1=49.6, line_color=\"Black\"),\n",
    "    ]\n",
    "    fig.update_layout(shapes=terrain_shapes)\n",
    "\n",
    "    # Ajout des joueurs sur le terrain avec les infos de passes\n",
    "    for player, pos in players_positions.items():\n",
    "        passes_from_player = pass_info_dict.get(player, {'num_passes': 0, 'avg_pass_length': 0})\n",
    "        passes_to_player = pass_info_received_dict.get(player, {'num_passes_received': 0, 'avg_pass_length_received': 0})\n",
    "\n",
    "        hover_text = (\n",
    "            f\"Joueur: {player}<br>\"\n",
    "            f\"Nombre de passes effectuées: {passes_from_player['num_passes']}<br>\"\n",
    "            f\"Longueur moyenne des passes effectuées: {passes_from_player['avg_pass_length']:.2f} m<br>\"\n",
    "            f\"Nombre de passes reçues: {passes_to_player['num_passes_received']}<br>\"\n",
    "            f\"Longueur moyenne des passes reçues: {passes_to_player['avg_pass_length_received']:.2f} m\"\n",
    "        )\n",
    "\n",
    "        fig.add_trace(go.Scatter(\n",
    "            x=[pos[0]],\n",
    "            y=[pos[1]],\n",
    "            mode='markers+text',\n",
    "            text=[player],\n",
    "            textposition=\"top center\",\n",
    "            marker=dict(size=10, color='blue'),\n",
    "            hovertext=hover_text,\n",
    "            hoverinfo=\"text\"\n",
    "        ))\n",
    "\n",
    "    # Ajout des passes\n",
    "    for passe in passes_df.itertuples():\n",
    "        if passe._4 in players_positions and passe._5 in players_positions:\n",
    "            start = players_positions[passe._4]\n",
    "            end = players_positions[passe._5]\n",
    "            fig.add_trace(go.Scatter(\n",
    "                x=[start[0], end[0]],\n",
    "                y=[start[1], end[1]],\n",
    "                mode='lines',\n",
    "                line=dict(width=2, color='red')\n",
    "            ))\n",
    "\n",
    "    fig.update_layout(\n",
    "        title=f\"Réseau de passes sur un terrain de football (Période {period}, Équipe {team})\",\n",
    "        xaxis=dict(range=[0, 120], showgrid=False, zeroline=False),\n",
    "        yaxis=dict(range=[0, 80], showgrid=False, zeroline=False),\n",
    "        width=800,\n",
    "        height=600\n",
    "    )\n",
    "    fig.show()\n",
    "\n",
    "\n",
    "\n",
    "visualize_pass_network(df_positions, df_passes, 1, \"Montpellier\")\n"
   ]
  }
 ],
 "metadata": {
  "kernelspec": {
   "display_name": "Python 3",
   "language": "python",
   "name": "python3"
  },
  "language_info": {
   "codemirror_mode": {
    "name": "ipython",
    "version": 3
   },
   "file_extension": ".py",
   "mimetype": "text/x-python",
   "name": "python",
   "nbconvert_exporter": "python",
   "pygments_lexer": "ipython3",
   "version": "3.10.12"
  }
 },
 "nbformat": 4,
 "nbformat_minor": 2
}
